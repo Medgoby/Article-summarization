{
  "nbformat": 4,
  "nbformat_minor": 0,
  "metadata": {
    "colab": {
      "name": "Data_Prerprocessing_&_Data_Analysis.ipynb",
      "provenance": [],
      "collapsed_sections": []
    },
    "kernelspec": {
      "name": "python3",
      "display_name": "Python 3"
    }
  },
  "cells": [
    {
      "cell_type": "markdown",
      "metadata": {
        "id": "0sYH6Jy7ad-A"
      },
      "source": [
        "# Load data and dependancies"
      ]
    },
    {
      "cell_type": "code",
      "metadata": {
        "id": "9L3KleUkJfQj"
      },
      "source": [
        "!pip install krovetzstemmer\n",
        "import os\n",
        "os.chdir(\"./Text summarization\")\n",
        "from imports import *\n",
        "from Preprocess import *\n",
        "nltk.download('stopwords')\n",
        "nltk.download('punkt')\n",
        "nltk.download('stopwords')\n",
        "nltk.download('wordnet')\n",
        "nltk.download('averaged_perceptron_tagger')\n",
        "stop_words = set(stopwords.words('english')) "
      ],
      "execution_count": null,
      "outputs": []
    },
    {
      "cell_type": "markdown",
      "metadata": {
        "id": "FaBXBieD-DGT"
      },
      "source": [
        "## Data preparation"
      ]
    },
    {
      "cell_type": "markdown",
      "metadata": {
        "id": "Rj9FjGnr3xos"
      },
      "source": [
        "The dataset is the CNN news-highlights dataset, which contains news articles and associated highlights, which will serve as a summary. \n",
        "\\\n",
        "P.S: the highlights are manually written summaries and not selected sentencs from the original article.\n",
        "\n",
        "https://drive.google.com/uc?export=download&id=0BwmD_VLjROrfTHk4NFg2SndKcjQ"
      ]
    },
    {
      "cell_type": "markdown",
      "metadata": {
        "id": "LNiu20tr87dh"
      },
      "source": [
        "First, we will load the data (stories and summaries, then store them into a .csv file).\n",
        "\\\n",
        "the data needs to be extracted from the archive file into the project directory. There is a folder named processed which contains 2 subfolders: one for the stories and the other for the summaries. Each article is stored in a text file has its corresponding summary. "
      ]
    },
    {
      "cell_type": "code",
      "metadata": {
        "id": "GPVjYMf4-GfY"
      },
      "source": [
        "#project directory\n",
        "os.chdir(\"./Text summarization)\n",
        "#stories directory\n",
        "pa1=os.listdir(\"./data/stories\")\n",
        "#summaries directory\n",
        "pa2=os.listdir(\"./data/summaries\")\n",
        "articles=open_stories(pa1)\n",
        "summaries=open_summaries(pa2)\n",
        "\n",
        "#store data to .csv file\n",
        "data=pd.DataFrame(columns =[ 'article_text', 'abstract_text'])\n",
        "for i in range(len(articles)):\n",
        "    data=data.append([{'article_text' : articles[i], 'abstract_text' : summaries[i]}])\n",
        "data.to_csv('./data/Text summarization data.csv',index=False)"
      ],
      "execution_count": null,
      "outputs": []
    },
    {
      "cell_type": "markdown",
      "metadata": {
        "id": "BSt_ziiFAq38"
      },
      "source": [
        "You can download the csv file directory from this link\n",
        "https://drive.google.com/file/d/1sPuibHPMxR8apDfPSGyqd5DqTC7wzCRs/view?usp=sharing"
      ]
    },
    {
      "cell_type": "code",
      "metadata": {
        "id": "_LUJuOHrze5W",
        "outputId": "df39eb4b-7b24-4323-98f0-7b93af098154",
        "colab": {
          "base_uri": "https://localhost:8080/",
          "height": 204
        }
      },
      "source": [
        "data.head()"
      ],
      "execution_count": null,
      "outputs": [
        {
          "output_type": "execute_result",
          "data": {
            "text/html": [
              "<div>\n",
              "<style scoped>\n",
              "    .dataframe tbody tr th:only-of-type {\n",
              "        vertical-align: middle;\n",
              "    }\n",
              "\n",
              "    .dataframe tbody tr th {\n",
              "        vertical-align: top;\n",
              "    }\n",
              "\n",
              "    .dataframe thead th {\n",
              "        text-align: right;\n",
              "    }\n",
              "</style>\n",
              "<table border=\"1\" class=\"dataframe\">\n",
              "  <thead>\n",
              "    <tr style=\"text-align: right;\">\n",
              "      <th></th>\n",
              "      <th>article_text</th>\n",
              "      <th>summary_text</th>\n",
              "    </tr>\n",
              "  </thead>\n",
              "  <tbody>\n",
              "    <tr>\n",
              "      <th>0</th>\n",
              "      <td>It's official: U.S. President Barack Obama wan...</td>\n",
              "      <td>Syrian official: Obama climbed to the top of t...</td>\n",
              "    </tr>\n",
              "    <tr>\n",
              "      <th>1</th>\n",
              "      <td>Usain Bolt rounded off the world championships...</td>\n",
              "      <td>Usain Bolt wins third gold of world championsh...</td>\n",
              "    </tr>\n",
              "    <tr>\n",
              "      <th>2</th>\n",
              "      <td>The General Services Administration, already u...</td>\n",
              "      <td>The employee in agency's Kansas City office is...</td>\n",
              "    </tr>\n",
              "    <tr>\n",
              "      <th>3</th>\n",
              "      <td>A medical doctor in Vancouver, British Columbi...</td>\n",
              "      <td>NEW: A Canadian doctor says she was part of a ...</td>\n",
              "    </tr>\n",
              "    <tr>\n",
              "      <th>4</th>\n",
              "      <td>Police arrested another teen Thursday, the six...</td>\n",
              "      <td>Another arrest made in gang rape outside Calif...</td>\n",
              "    </tr>\n",
              "  </tbody>\n",
              "</table>\n",
              "</div>"
            ],
            "text/plain": [
              "                                        article_text                                       summary_text\n",
              "0  It's official: U.S. President Barack Obama wan...  Syrian official: Obama climbed to the top of t...\n",
              "1  Usain Bolt rounded off the world championships...  Usain Bolt wins third gold of world championsh...\n",
              "2  The General Services Administration, already u...  The employee in agency's Kansas City office is...\n",
              "3  A medical doctor in Vancouver, British Columbi...  NEW: A Canadian doctor says she was part of a ...\n",
              "4  Police arrested another teen Thursday, the six...  Another arrest made in gang rape outside Calif..."
            ]
          },
          "metadata": {
            "tags": []
          },
          "execution_count": 3
        }
      ]
    },
    {
      "cell_type": "markdown",
      "metadata": {
        "id": "CGyjZkP_arrp"
      },
      "source": [
        "# Data Analysis & preprocessing"
      ]
    },
    {
      "cell_type": "markdown",
      "metadata": {
        "id": "qI8bSoCQBMWh"
      },
      "source": [
        "For both articles and summariesn we add features:\n",
        "1. Number of characters\n",
        "2. Number of words\n",
        "3. Number of sentences"
      ]
    },
    {
      "cell_type": "code",
      "metadata": {
        "id": "9ZIvFUalYbEC"
      },
      "source": [
        "data[\"article_character_count\"]=data.article_text.apply(len)\n",
        "data[\"article_word_count\"]=data.article_text.apply(num_tokens_without_punctuation)\n",
        "sentence_tokens= data.article_text.apply(sentence_tokenizer)\n",
        "data[\"article_sentence_count\"]=[element[1] for element in sentence_tokens]"
      ],
      "execution_count": null,
      "outputs": []
    },
    {
      "cell_type": "code",
      "metadata": {
        "id": "dsb79rwp5OOD"
      },
      "source": [
        "data[\"summary_character_count\"]=data.summary_text.apply(len)\n",
        "data[\"summary_word_count\"]=data.article_text.apply(num_tokens_without_punctuation)\n",
        "summary_sentence_tokens= data.summary_text.apply(sentence_tokenizer)\n",
        "data[\"summary_sentence_count\"]=[element[1] for element in summary_sentence_tokens]"
      ],
      "execution_count": null,
      "outputs": []
    },
    {
      "cell_type": "markdown",
      "metadata": {
        "id": "Id7-4PsWBp3Z"
      },
      "source": [
        "Save the data into .pkl file to avoid runing the process each time"
      ]
    },
    {
      "cell_type": "code",
      "metadata": {
        "id": "vxgY9Gp6iRXN"
      },
      "source": [
        "with open('data/corpus_dataframe.pkl', 'rb') as f:\n",
        "    data = pickle.load(f)"
      ],
      "execution_count": null,
      "outputs": []
    },
    {
      "cell_type": "code",
      "metadata": {
        "id": "WTQhAm6OV64p",
        "outputId": "6ada207d-e5b4-478a-a7a7-bd0fa14729cf",
        "colab": {
          "base_uri": "https://localhost:8080/",
          "height": 496
        }
      },
      "source": [
        "data.head()"
      ],
      "execution_count": null,
      "outputs": [
        {
          "output_type": "execute_result",
          "data": {
            "text/html": [
              "<div>\n",
              "<style scoped>\n",
              "    .dataframe tbody tr th:only-of-type {\n",
              "        vertical-align: middle;\n",
              "    }\n",
              "\n",
              "    .dataframe tbody tr th {\n",
              "        vertical-align: top;\n",
              "    }\n",
              "\n",
              "    .dataframe thead th {\n",
              "        text-align: right;\n",
              "    }\n",
              "</style>\n",
              "<table border=\"1\" class=\"dataframe\">\n",
              "  <thead>\n",
              "    <tr style=\"text-align: right;\">\n",
              "      <th></th>\n",
              "      <th>article_text</th>\n",
              "      <th>summary_text</th>\n",
              "      <th>article_character_count</th>\n",
              "      <th>article_word_count</th>\n",
              "      <th>article_sentence_count</th>\n",
              "      <th>summary_character_count</th>\n",
              "      <th>summary_word_count</th>\n",
              "      <th>summary_sentence_count</th>\n",
              "    </tr>\n",
              "  </thead>\n",
              "  <tbody>\n",
              "    <tr>\n",
              "      <th>0</th>\n",
              "      <td>It's official: U.S. President Barack Obama wan...</td>\n",
              "      <td>Syrian official: Obama climbed to the top of t...</td>\n",
              "      <td>9442</td>\n",
              "      <td>1521</td>\n",
              "      <td>66</td>\n",
              "      <td>297</td>\n",
              "      <td>1521</td>\n",
              "      <td>4</td>\n",
              "    </tr>\n",
              "    <tr>\n",
              "      <th>1</th>\n",
              "      <td>Usain Bolt rounded off the world championships...</td>\n",
              "      <td>Usain Bolt wins third gold of world championsh...</td>\n",
              "      <td>3203</td>\n",
              "      <td>520</td>\n",
              "      <td>19</td>\n",
              "      <td>181</td>\n",
              "      <td>520</td>\n",
              "      <td>4</td>\n",
              "    </tr>\n",
              "    <tr>\n",
              "      <th>2</th>\n",
              "      <td>The General Services Administration, already u...</td>\n",
              "      <td>The employee in agency's Kansas City office is...</td>\n",
              "      <td>6191</td>\n",
              "      <td>1004</td>\n",
              "      <td>42</td>\n",
              "      <td>241</td>\n",
              "      <td>1004</td>\n",
              "      <td>3</td>\n",
              "    </tr>\n",
              "    <tr>\n",
              "      <th>3</th>\n",
              "      <td>A medical doctor in Vancouver, British Columbi...</td>\n",
              "      <td>NEW: A Canadian doctor says she was part of a ...</td>\n",
              "      <td>5837</td>\n",
              "      <td>928</td>\n",
              "      <td>41</td>\n",
              "      <td>323</td>\n",
              "      <td>928</td>\n",
              "      <td>4</td>\n",
              "    </tr>\n",
              "    <tr>\n",
              "      <th>4</th>\n",
              "      <td>Police arrested another teen Thursday, the six...</td>\n",
              "      <td>Another arrest made in gang rape outside Calif...</td>\n",
              "      <td>1681</td>\n",
              "      <td>286</td>\n",
              "      <td>14</td>\n",
              "      <td>213</td>\n",
              "      <td>286</td>\n",
              "      <td>3</td>\n",
              "    </tr>\n",
              "  </tbody>\n",
              "</table>\n",
              "</div>"
            ],
            "text/plain": [
              "                                        article_text  ... summary_sentence_count\n",
              "0  It's official: U.S. President Barack Obama wan...  ...                      4\n",
              "1  Usain Bolt rounded off the world championships...  ...                      4\n",
              "2  The General Services Administration, already u...  ...                      3\n",
              "3  A medical doctor in Vancouver, British Columbi...  ...                      4\n",
              "4  Police arrested another teen Thursday, the six...  ...                      3\n",
              "\n",
              "[5 rows x 8 columns]"
            ]
          },
          "metadata": {
            "tags": []
          },
          "execution_count": 7
        }
      ]
    },
    {
      "cell_type": "markdown",
      "metadata": {
        "id": "lDc7VYBiEMts"
      },
      "source": [
        "## Data cleaning"
      ]
    },
    {
      "cell_type": "markdown",
      "metadata": {
        "id": "KKX_ShhiYwId"
      },
      "source": [
        "Let us delete the articles with 2 or less sentences\n",
        "\n",
        "\n",
        "Also some articles contain some dialogues/interviews: we delete an article just when we find more than 5 occurences of a Name starting with Capital letter and finished by \":\", along side the root of word 'interview:' \n",
        "\n"
      ]
    },
    {
      "cell_type": "code",
      "metadata": {
        "id": "y6m5YFrJZmkW",
        "outputId": "33d5b9be-5286-46c7-907a-901a8e971709",
        "colab": {
          "base_uri": "https://localhost:8080/"
        }
      },
      "source": [
        "data = filter_articles(data)\n",
        "len(data)"
      ],
      "execution_count": null,
      "outputs": [
        {
          "output_type": "execute_result",
          "data": {
            "text/plain": [
              "90600"
            ]
          },
          "metadata": {
            "tags": []
          },
          "execution_count": 8
        }
      ]
    },
    {
      "cell_type": "markdown",
      "metadata": {
        "id": "nphUAt58kBeh"
      },
      "source": [
        "We have now 90600 articles after removing the irrelevant articles. Let us check some of the articles and their summary"
      ]
    },
    {
      "cell_type": "code",
      "metadata": {
        "id": "PP4w6stxZRvG",
        "outputId": "a3bdbbf2-0945-47ad-95d9-a49ce84221a5",
        "colab": {
          "base_uri": "https://localhost:8080/"
        }
      },
      "source": [
        "check_articles(data, 0, len(data) , 20)"
      ],
      "execution_count": null,
      "outputs": [
        {
          "output_type": "stream",
          "text": [
            "Article text: \n",
            "(CNN)Under harsh lights in a private, rented room in Berlin, women face each other in violent, sometimes bloody battles of brute strength.\r\n",
            "There are no official rules to this female fight club. The fighters are both beginners and professionals, anywhere from age 20 to 50, said photographer Katarzyna Mazur, who spent months documenting the club in 2013 and 2014.\r\n",
            "Led by founders nicknamed Anna Konda and Red Devil, a match might pit a bodybuilder against a martial arts master. They can wrestle, throw punches or \"cat fight.\" There's no judge, just someone who knows the parameters they've decided for the match. The small audience is mostly made up of men, but it's a place for women to shed the roles they play outside.\r\n",
            "\"When I saw this kind of fighting for the first time, I was quite shocked. I had never seen something like that before, and it was really interesting to experience all of this so close,\" said Mazur, who photographed the fight club as part of her work toward graduation from photography school. \"Inhibition and fear do not exist on the mat.\"\r\n",
            "At first, Mazur said, she shot the fight club in color, but the look of the blue mat and neon lights didn't satisfy her. She shifted to black-and-white images and reduced her point of view, getting as close as she could to the action.\r\n",
            "\"It was not easy to work like that, because the matches were going very quickly and were unpredictable,\" she said, although fighters were respectful and would stop if someone was seriously hurt. \"I had to be very careful not to get hit. Fortunately, there are chairs on the side, so I could jump on them if the female fighters suddenly rolled under my feet.\"\r\n",
            "For all the aggression built into fighting, Mazur said, the project required a lot of sensitivity. She had to work quickly, and she didn't always know her subjects well. The bouts, the motivations, the scene can all leave a lot of room for interpretation. Mazur said she had to examine her own limitations, questioning \"How far can I go? Do they trust me? Am I allowed to do that?\"\r\n",
            "Social media\r\n",
            "Follow @CNNPhotos on Twitter to join the conversation about photography.\r\n",
            "\"I enjoy exploring new worlds, especially a world which exists in a gray area,\" she said.\r\n",
            "She also had to remember that the fighters pushing and pummeling inside the club have lives outside, too -- they're mothers, partners, friends. Their actions on the mat might contradict how they live the rest of their lives.\r\n",
            "Even years later, the fight club is still running and is \"better than ever,\" Mazur said.\r\n",
            "\"Very often, I was very moved after seeing and editing the pictures, realizing what exactly happened there,\" Mazur said. \"It is important to always remember my role as a photographer and to always approach the subject with interest and (an open mind).\"\r\n",
            "Katarzyna Mazur is a Polish photographer based in Berlin. You can follow her on Facebook.\r\n",
            "\n",
            "Article summary: \n",
            "Katarzyna Mazur spent months photographing a female fight club in Berlin.\r\n",
            "\"I enjoy exploring new worlds, especially a world which exists in a gray area,\" Mazur said.\r\n",
            "\n",
            "Article text: \n",
            "\"The moment I got into the modeling industry, I knew I had to be an entrepreneur,\" says former supermodel Iman.\r\n",
            "One of the most recognized models of the 1970s and '80s, Iman has used her entrepreneurial skills to great effect in the fashion industry, with her own cosmetics business and in her charitable fund-raising work.\r\n",
            "Married to rock star David Bowie and now residing in New York, Iman was born in Somalia in 1955. Her father was an ambassador, but her comfortable upbringing was disrupted in 1969 with the assassination of Somalia's president, forcing her and her family to flee to Kenya.\r\n",
            "\"We left Somalia with nothing but the clothes on our back. Not even photographs, nothing. So it's a total loss of everything and a total loss of your own self, your own country, your own place in terms of your people. If you're lucky you're in a country that will give you a second chance,\" she told CNN.\r\n",
            "She was lucky and her adopted home of Kenya provided her with a scholarship at Nairobi University, and it was also in the Kenyan capital that she was discovered as a model.\r\n",
            "Stopped on a Nairobi street by fashion photographer Peter Beard, she was soon signed by a top model agency and moved to New York in 1975. With her exotic looks she caused a stir in the fashion world, helped in part by a fanciful story about her background spread by Beard.\r\n",
            "\"They wanted to believe because it's kind of like 'My Fair Lady'. Everything about that article was fabricated... I was discovered herding goats and discovered in the jungle; I've never seen the jungle in my life. I was a city girl,\" she said.\r\n",
            "Iman admits she was complicit in the fabrication, suggesting an early realization that the fashion industry was built around control and manipulation.\r\n",
            "\"I had to be very clever about not over exposing myself, not under exposing myself. I had to make sure that I knew my worth that I would not settle if they gave me less. I knew how to walk away. It's very key.\"\r\n",
            "After facing numerous challenges being a black model, she launched Iman Cosmetics in 1994, designed for models no matter the color of their skin.\r\n",
            "A hugely successful catwalk career as a model ended in 1989, but she faced up to the transitory nature of her career and gained a greater sense of self long before that when she was injured in a car accident in 1983.\r\n",
            "\"Where everything was about what you do and about how you look, it changed to more security about me. It was not about 'how will I look ten years from now?' It all became about what kind of person would I be ten years from now.\r\n",
            "\"Because of it I became very comfortable in my own skin. In a weird way I didn't think about outward looks anymore,\" she said.\r\n",
            "\n",
            "Article summary: \n",
            "Former supermodel Iman now has own multi-million dollar cosmetics business.\r\n",
            "Discovered by photographer Peter Beard in Kenya; married to David Bowie.\r\n",
            "Organizes fund-raising events for charities including, Keep A Child Alive.\r\n",
            "\"Iman: The moment I got into the modeling industry, I knew I had to be an entrepreneur\".\r\n",
            "\n",
            "Article text: \n",
            "Former New Orleans Mayor Ray Nagin was sentenced to 10 years in prison Wednesday in a bribery scandal that rocked the city, the U.S. Justice Department said.\r\n",
            "U.S. District Judge Helen G. Berrigan also ordered that Nagin pay $84,264 in restitution to the Internal Revenue Service.\r\n",
            "In February, a jury found him guilty of taking hundreds of thousands of dollars in bribes and other favors from businessmen looking for a break from his administration.\r\n",
            "Of the 21 counts against him, he was convicted of 20.\r\n",
            "The former mayor maintained his innocence even after the conviction.\r\n",
            "Prosecutors argued that Nagin was at the center of a kickback scheme in which he received checks, cash, wire transfers, personal services and free travel from businessmen seeking contracts and favorable treatment from the city.\r\n",
            "A January 2013 indictment detailed more than $200,000 in bribes to the mayor, and his family members allegedly received a vacation in Hawaii; first-class airfare to Jamaica; private jet travel and a limousine for New York City; and cellular phone service. In exchange, businesses that coughed up for Nagin and his family won more than $5 million in city contracts, according to the indictment.\r\n",
            "Few tears shed for Nagin in the city he once led\r\n",
            "\n",
            "Article summary: \n",
            "NEW: A judge orders Nagin to pay $84,264 in restitution to the Internal Revenue Service.\r\n",
            "He was convicted this year on corruption charges.\r\n",
            "The former mayor maintains his innocence.\r\n",
            "\n",
            "Article text: \n",
            "Hogansville, Georgia (CNN)  -- A Georgia couple arrived at the White House on the wrong day for a tour recently and got much more than they bargained for.\r\n",
            "After being screened by the Secret Service, Harvey and Paula Darden of Hogansville, Georgia, were led into a lavish invitation-only breakfast where they met the president and the first lady.\r\n",
            "How the couple was able to get into the White House event without being on the guest list was called \"dumb luck\" by the Dardens. The White House is calling it a \"nice gesture\" and has been explaining how this incident is nothing like the breach of security that took place when Tareq and Michaele Salahi infamously crashed the Obamas' state dinner.\r\n",
            "The Dardens got into the White House on Veterans Day, weeks before the Salahis' infamous party crashing. The couple mistakenly arrived a day early for a tour that was booked by their congressman.\r\n",
            "The White House says it put the Dardens through the appropriate screenings and criminal background checks before allowing them to go to the Veterans Day breakfast because there were no tours scheduled that day.\r\n",
            "Harvey Darden, 67, says the whole thing was a surprise to him because at the time he did not realize that he was at the White House on the wrong day.\r\n",
            "Darden says he was standing outside the White House security booth with his 62-year-old wife when he heard: \"Mr. and Mrs. Darden, you are cleared to come in.\"\r\n",
            "They were led directly to the grand East Room where there was a buffet and a crowd of people, some in military uniforms, some in suits.\r\n",
            "Darden says he began to get the sinking feeling that this was not the usual tour of the White House. He went to talk to a White House aide telling the staffer that he may be in the wrong place.\r\n",
            "The staffer, who Darden did not know by name, asked him if he was a veteran. When Darden said he told the staffer he was a Navy veteran, the staffer told him to stay for the breakfast.\r\n",
            "\"He said, 'Go with the flow,'\" Darden said.\r\n",
            "A White House spokesman said it was a \"nice gesture\" that has been done before for those have passed security screenings.\r\n",
            "White House spokesman Nick Shapiro said it is not uncommon for staff to take people who are cleared for tours to other events if there is space available.\r\n",
            "Shapiro said the White House Office of Public Engagement, which Obama created to engage citizens in White House activities, was responsible for clearing in the Dardens, as well as the other breakfast guests.\r\n",
            "Secret Service spokesman Ed Donovan said agents performed the same screening procedures on the Dardens that were used for other breakfast guests. They checked the Dardens' names and did a criminal background check, steps that were not taken for the Salahis at the November 24 state dinner.\r\n",
            "The Dardens ate breakfast and then were startled when Obama entered the room. They got a chance to meet the president, the first lady and the vice president, Darden said.\r\n",
            "Darden said he was even more startled he returned to his Georgia home and read his e-mails with U.S. Rep. Lynn Westmoreland and realized he had been at the White House on the wrong day.\r\n",
            "\"It was dumb luck that a veteran of four years was able to meet the President of the U.S, who I have lots of support and respect for,\" Darden said.\r\n",
            "CNN's Jason Morris and Jamie Crawford contributed to this report.\r\n",
            "\n",
            "Article summary: \n",
            "Georgia couple shows up on wrong day for White House tour, end up meeting president.\r\n",
            "Event occurred weeks before infamous Obama state dinner \"party crashers\".\r\n",
            "White House: Couple went through security screenings, calls incident \"nice gesture\".\r\n",
            "\n",
            "Article text: \n",
            "Police call the relationship \"toxic.\" If the details of the police report are accurate, folks won't need much convincing.\r\n",
            "Bear the Pomeranian disappeared in early August after the dog's owner and her then-boyfriend Ryan Eddy Watenpaugh had an argument.\r\n",
            "The woman fled her apartment after she was physically assaulted by Watenpaugh, she told police in Redding, California. When she returned, Bear was gone.\r\n",
            "The couple, which police say had a tumultuous dating relationship that included the woman being held against her will, briefly reconciled the first week in September. Watenpaugh, 35, cooked her a meal that included meat.\r\n",
            "Then the text messages began.\r\n",
            "\"How's your dog taste? I thought it was better with BBQ and those Hawaiian buns.\"\r\n",
            "\"I guess u could bury what u didn't eat.\"\r\n",
            "\"The smile on my face when you read this ... priceless,\" CNN affiliate KRCR reported.\r\n",
            "Then early Tuesday, Watenpaugh showed up at the woman's house and left a small bag by her front door, police say. Inside was a note and two dog paws.\r\n",
            "\"Burn in hell,\" the note says. \"I hate you so much it hurts. Stay away from me. I want nothing to do with you. F--- you.\" At the bottom of the note: a smiley face.\r\n",
            "Redding police arrested him two days later. They say he's admitted to sending the messages and placing the dog paws at the woman's residence, but has denied killing or cooking Bear.\r\n",
            "\"You know this is extremely strange,\" Redding Sgt. Todd Cogle told KRCR. \"Unusual, something we had never seen before.\"\r\n",
            "Watenpaugh has been charged with domestic violence, false imprisonment, stalking and animal cruelty. He's being held on $250,000 bail in the Shasta County jail.\r\n",
            "Man killed, planned to eat girlfriend's dog, police say\r\n",
            "CNN's Joe Sutton contributed to this report.\r\n",
            "\n",
            "Article summary: \n",
            "Text messages suggest Ryan Eddy Watenpaugh may have cooked ex's dog.\r\n",
            "\"How's your dog taste?\" one text message asks.\r\n",
            "Watenpaugh delivers bag with note and dog paws to ex's house.\r\n",
            "The charges include domestic violence, false imprisonment, stalking and animal cruelty.\r\n",
            "\n",
            "Article text: \n",
            "Religious leaders in Britain on Friday hit back at claims by leading physicist Stephen Hawking that God had no role in the creation of the universe.\r\n",
            "In his new book \"The Grand Design,\" Britain's most famous scientist says that given the existence of gravity, \"the universe can and will create itself from nothing,\" according to an excerpt published in The Times of London.\r\n",
            "\"Spontaneous creation is the reason why there is something rather than nothing, why the universe exists, why we exist,\" he wrote.\r\n",
            "\"It is not necessary to invoke God to light the blue touch paper [fuse] and set the universe going.\"\r\n",
            "But the head of the Church of England, the Archbishop of Canterbury Dr. Rowan Williams, told the Times that \"physics on its own will not settle the question of why there is something rather than nothing.\"\r\n",
            "He added: \"Belief in God is not about plugging a gap in explaining how one thing relates to another within the Universe. It is the belief that there is an intelligent, living agent on whose activity everything ultimately depends for its existence.\"\r\n",
            "Williams' comments were supported by leaders from across the religious spectrum in Britain. Writing in the Times, Chief Rabbi Jonathan Sacks said: \"Science is about explanation. Religion is about interpretation ... The Bible simply isn't interested in how the Universe came into being.\"\r\n",
            "The Archbishop of Westminster Vincent Nichols, leader of the Roman Catholic Church in England and Wales, added: \"I would totally endorse what the Chief Rabbi said so eloquently about the relationship between religion and science.\"\r\n",
            "Ibrahim Mogra, an imam and committee chairman at the Muslim Council of Britain, was also quoted by the Times as saying: \"If we look at the Universe and all that has been created, it indicates that somebody has been here to bring it into existence. That somebody is the almighty conqueror.\"\r\n",
            "Hawking was also accused of \"missing the point\" by colleagues at the University of Cambridge in England.\r\n",
            "\"The 'god' that Stephen Hawking is trying to debunk is not the creator God of the Abrahamic faiths who really is the ultimate explanation for why there is something rather than nothing,\" said Denis Alexander, director of The Faraday Institute for Science and Religion.\r\n",
            "\"Hawking's god is a god-of-the-gaps used to plug present gaps in our scientific knowledge.\r\n",
            "\"Science provides us with a wonderful narrative as to how [existence] may happen, but theology addresses the meaning of the narrative,\" he added.\r\n",
            "Read why Hawking says God didn't create the universe\r\n",
            "Fraser Watts, an Anglican priest and Cambridge expert in the history of science, said that it's not the existence of the universe that proves the existence of God.\r\n",
            "\"A creator God provides a reasonable and credible explanation of why there is a universe, and ... it is somewhat more likely that there is a God than that there is not. That view is not undermined by what Hawking has said.\"\r\n",
            "Hawking's book -- as the title suggests -- is an attempt to answer \"the Ultimate Question of Life, the Universe, and Everything,\" he wrote, quoting Douglas Adams' cult science fiction romp, \"The Hitch-hiker's Guide to the Galaxy.\"\r\n",
            "Read CNN's Belief Blog\r\n",
            "His answer is \"M-theory,\" which, he says, posits 11 space-time dimensions, \"vibrating strings, ... point particles, two-dimensional membranes, three-dimensional blobs and other objects that are more difficult to picture and occupy even more dimensions of space.\"\r\n",
            "He doesn't explain much of that in the excerpt, which is the introduction to the book.\r\n",
            "But he says he understands the feeling of the great English scientist Isaac Newton that God did \"create\" and \"conserve\" order in the universe.\r\n",
            "It was the discovery of other solar systems outside our own in 1992 that undercut a key idea of Newton's -- that our world was so uniquely designed to be comfortable for human life that some divine creator must have been responsible.\r\n",
            "But, Hawking argues, if there are untold numbers of planets in the galaxy, it's less remarkable that there's one with conditions for human life. And, indeed, he argues, any form of intelligent life that evolves anywhere will automatically find that it lives somewhere suitable for it.\r\n",
            "CNN's Richard Allen Greene contributed to this report.\r\n",
            "\n",
            "Article summary: \n",
            "Hawking: \"Given existence of gravity the universe can and will create itself from nothing\".\r\n",
            "His new book is an attempt to answer \"the Ultimate Question of Life\".\r\n",
            "Archbishop of Canterbury rejected Hawking's claim that God has no role.\r\n",
            "Rowan Williams: Belief in God not about plugging a gap in explaining how one thing relates to another.\r\n",
            "\n",
            "Article text: \n",
            "(CNN)The next time Ernie Banks plays two -- something he enjoyed, feeling one baseball game a day wasn't enough -- it will be in the diamond in the sky.\r\n",
            "The former Negro League upstart turned Cubs legend turned favorite son of Chicago died Friday of a heart attack in the Illinois city,  family attorney Mark Bogen said.\r\n",
            "It was a week shy of his 84th birthday.\r\n",
            "A public memorial will be scheduled, Bogen said.\r\n",
            "Cubs Chairman Tom Ricketts described Banks as \"one of the greatest players of all time.\"\r\n",
            "\"Words cannot express how important Ernie Banks will always be to the Chicago Cubs, the city of Chicago and Major League Baseball,\" Ricketts said. \"... He was a pioneer in the major leagues. And more importantly, he was the warmest and most sincere person I've ever known.\"\r\n",
            "\"Approachable, ever optimistic and kindhearted, Ernie Banks is and always will be Mr. Cub.\"\r\n",
            "Farewell to 'Mr. Cub' Ernie Banks, an elegant ambassador and all-time great\r\n",
            "The thing is, Banks wasn't just a great baseball player, but a great champion for his sport and adopted city. The Windy City's mayor, Rahm Emanuel, called him \"one of Chicago's greatest ambassadors.\"\r\n",
            "Emanuel said, \"He loved this city as much as he loved -- and lived for -- the game of baseball.\"\r\n",
            "And baseball loved him back -- not just for the player he was, but the man he was.\r\n",
            "This sentiment was evident on social media, with one man writing, \"I've heard a lot of Ernie Banks stories in my life, a lot. But not one of them showed him in a negative way.\"\r\n",
            "One person tweeted that, like the recently departed Stan Musial, Banks was \"never too big for fans.\"\r\n",
            "\"Mr. Cub will play 2 today,\" wrote another man. \"He's with the Angels now and hopefully he'll get a ring.\"\r\n",
            "That message alluded to the fact that Banks, despite all his stellar play over his career, never earned a World Series ring. In fact, the last time the Cubs won baseball's ultimate prize was 1908.\r\n",
            "But you'd never know it from Banks' omnipresent smile.\r\n",
            "He became the Chicago franchise's first black player in 1953. That happened three years after the Dallas native started his professional career in the Negro Leagues with the Kansas City Monarchs, then spent two years in the Army.\r\n",
            "After the Monarchs sold his contract to the Cubs, Banks jumped straight to the Major Leagues -- hitting .314 in the 10 games he played in that first season.\r\n",
            "He became Chicago's starting shortstop the next year, then had his real breakthrough in 1955 when he racked up 117 RBIs. His 44 home runs that season were at the time the most ever for a shortstop. (He hit 47 homers three years later, still a National League record for the position.)\r\n",
            "Banks kept it up as his career rolled along.\r\n",
            "Late umpire Tom Gorman once recalled that in 1957, pitchers Don Drysdale, Bob Purkey, Bob Friend and Jack Sanford knocked down Banks with pitches, according to a story on the Cubs' website.\r\n",
            "\"And each time he was knocked down,\" Gorman said, \"Banks hit their next pitch out of the park.\"\r\n",
            "The accomplishments piled up through Banks' retirement after the 1971 season: 2,583 hits, 11 National League All-Star selections, two of the league's Most Valuable Player awards, and 512 home runs, including five seasons hitting more than 40 homers.\r\n",
            "And in 1977, six years after his last at-bat, Banks was inducted into the Baseball Hall of Fame.\r\n",
            "It's no wonder, then, that he was voted the \"Greatest Cub Ever\" in a 1969 Chicago Sun-Times fan poll. After all, he was known both as \"Mr. Cub\" and \"Mr. Sunshine.\"\r\n",
            "Hall of Fame manager Leo Durocher, who was known for saying \"Nice guys finish last,\" made an exception for Banks.\r\n",
            "\"Banks is one nice guy who finished first -- but he had the talent to go with it,\" Durocher said.\r\n",
            "And this from sportswriter Arthur Daley: \"He rejoices merely in living, and baseball is a marvelous extra that makes his existence so much more pleasurable.\"\r\n",
            "Bogen, the family lawyer, said that Banks \"would go right up to people and ask about their families and how they were doing rather than baseball.\"\r\n",
            "\"He wanted to know all about people's lives. Baseball was not the first thing he would talk about,\" the attorney said. \"He cared about people.\"\r\n",
            "His work on and off the field led to his receiving the Presidential Medal of Freedom, the nation's highest civilian honor, in 2013.\r\n",
            "\"To have this award passed on to me is certainly a great joy,\" Banks told CNN's Jake Tapper at the time. \"It's something I'll never forget.\"\r\n",
            "The slugger left an impression on President Barack Obama and first lady Michelle Obama, too.\r\n",
            "In a White House statement Saturday, Obama noted how Banks -- who made $7 a day coming up through the Negro Leagues -- never lost \"his cheer, his optimism, and his love of the game.\"\r\n",
            "\"He was beloved by baseball fans everywhere,\" Obama said, \"including Michelle, who, when she was a girl, used to sit with her dad and watch him play on TV.\"\r\n",
            "People we've lost in 2015\r\n",
            "\n",
            "Article summary: \n",
            "Banks started in the Negro Leagues, played for Chicago from 1953 to 1971.\r\n",
            "He was known as \"Mr. Cub\" and \"Mr. Sunshine\" for his positive, warm demeanor.\r\n",
            "\n",
            "Article text: \n",
            "U.S. Attorney General Eric Holder announced Thursday a Justice Department investigation into the Ferguson, Missouri, police department, which has come under fire for its past practices in the uproar over the shooting of Michael Brown.\r\n",
            "Holder spoke about his recent trip to the area and about conversations he had with its residents.\r\n",
            "\"People consistently expressed concerns stemming from specific alleged incidents, from general policing practices and from the lack of diversity on the Ferguson police force. These anecdotal accounts underscore the history of mistrust of law enforcement in Ferguson that has received a good deal of attention,\" Holder told reporters.\r\n",
            "\"Our investigation will assess the police department's use of force, including deadly force. It will analyze stops, searches and arrests. And it will examine the treatment of individuals detained at Ferguson's city jail,\" he said.\r\n",
            "Such probes typically focus on paving the way for systemic reform going forward, rather than punishing misconduct from the past, said CNN senior legal analyst Jeffrey Toobin.\r\n",
            "Nonetheless, they can produce significant changes within a department.\r\n",
            "\"It's very serious,\" Toobin said of the investigation, before it was formally announced, \"because it can lead to a virtual federal takeover of the police, as happened recently in New Orleans.\"\r\n",
            "It is distinct from the Justice Department's previously announced civil rights probe that is specific to the August 9 shooting of Brown, an unarmed African-American teenager, by Ferguson police Officer Darren Wilson, who is white. Proving a civil rights violation would require showing that Wilson was actively hostile to Brown because of his race.\r\n",
            "The shooting and the fact authorities didn't immediately, and still haven't, charged Wilson spurred emotional and, at times, violent protests on the streets of Ferguson.\r\n",
            "Dozens were arrested over those tense few weeks, which were sometimes marred by looting and clashes between protesters and law enforcement.\r\n",
            "Brown's shooting also stirred up locals' gripes about Ferguson police over the years. Some of them said members of the predominantly white police force would routinely and inordinately single out African-Americans, who make up two-thirds of the St. Louis suburb's population.\r\n",
            "Residents: Police have 'a power trip problem'\r\n",
            "Many African-Americans said that they often found themselves subject to racial profiling -- such as being pulled over for no obvious reason besides, they presumed, \"DWB,\" or driving while black.\r\n",
            "Some white residents complained police have acted in a heavy-handed fashion.\r\n",
            "Chief Tom Jackson has said the claim that officers are more likely to stop blacks is more perception than reality.\r\n",
            "Other cases, though, went well beyond that.\r\n",
            "The family of Jason Moore recently filed a lawsuit accusing police of excessive force, saying he died of cardiac arrest on September 17, 2011, after police fired Tasers at him.\r\n",
            "The family says that Moore, who they say suffered a psychological disorder, was walking around naked and posed no threat to police.\r\n",
            "It's not clear which cases, specifically, the new federal investigation will examine. The probe will not focus on law enforcement's response to Brown-related protests, since that effort involved numerous agencies and Ferguson did not lead this multi-agency effort.\r\n",
            "$40 million lawsuit slams police actions during protests\r\n",
            "Ferguson is be the latest of many local police and sheriff departments nationwide to be subject to such a federal investigation, which Toobin explains are launched \"when there are persistent allegations of misconduct.\"\r\n",
            "This April, for instance, the Justice Department lambasted police in Albuquerque, New Mexico, for what it characterized as a longstanding history of police brutality and unnecessary deadly force, sometimes \"in an unconstitutional manner.\" The report laid out several measures to address the problems, such as changing policies, training procedures and recruitment protocol.\r\n",
            "Report: Albuquerque police have 'pattern' of excessive, deadly force\r\n",
            "Police departments in Los Angeles, Pittsburgh, Cincinnati and elsewhere have agreed to Justice Department plans to address  controversial policies and patterns of alleged misconduct.\r\n",
            "But nowhere has the federal agency come down harder than on the New Orleans police department, which has been plagued for years by allegations of corruption, excessive use of force, illegal searches and widespread racial discrimination.\r\n",
            "In July 2012, Holder detailed a consent decree -- which he called the most wide-ranging such agreement in  U.S. history -- that includes more than 100 recommendations dealing with virtually every aspect of the department.\r\n",
            "Feds, New Orleans police agree on overhaul\r\n",
            "\n",
            "Article summary: \n",
            "Investigation will look at the department's use of force.\r\n",
            "It will also assess stops, searches and arrests.\r\n",
            "Analyst: Probe is \"very serious,\" can lead to \"virtual federal takeover\" of police.\r\n",
            "It is distinct from another federal probe that's specific to Michael Brown's shooting.\r\n",
            "\n",
            "Article text: \n",
            "This is the image that struck me more than any other watching the completed \"World Sport Presents: An Uneven Playing Field\" documentary for the first time.\r\n",
            "A group of women in Saudi Arabia huddled around a television screen watching and recording the moment that history was made -- and barriers were broken -- blazing a trail for future generations of women in their country.\r\n",
            "Sarah Attar becoming the first Saudi Arabian woman to represent their flag on the track at the Olympics. Never before had these women been able to watch one of their own running and representing like that on an international stage.\r\n",
            "It was unique, and unprecedented. And for me, it sums up London 2012 and women's sport.\r\n",
            "Those three weeks of the Olympics were undoubtedly like no other in my career as a sports journalist. Never before had we seen so much coverage of women's sports.\r\n",
            "It wasn't just the number of women we were talking about, but also the way in which we were talking about them.\r\n",
            "From Attar to her fellow Saudi Arabian trailblazer Wodjan Shahrkhani, to Jessica Ennis, Nicola Adams, Kayla Harrison, Gabby Douglas, Ye Shiwen and Ruta Meilutyte, there were women making the headlines everywhere you looked.\r\n",
            "We were discussing the battles, their performance, power and skills -- not just their hairstyles and love of shoes.\r\n",
            "It made it virtually impossible to rationalize the now infamous words of the founder of the modern Olympic movement -- Pierre de Coubertin -- from 1896: \"Olympics with women would be incorrect, unpractical, uninteresting, and unaesthetic.\"\r\n",
            "I'm pleased to say we really do seem to have moved on from the view of women's sport as incorrect, unpractical and unaesthetic. Saudi Arabia was the last stronghold of that.\r\n",
            "But worryingly, now the excitement of the Olympics has died down, \"uninteresting\" seems to have returned to the psyche. Twelve months on from \"the Women's Games\" where has all the coverage gone?\r\n",
            "I carried out a quick survey on Friday August 2: admittedly it was pretty unscientific, but of 56 pages of sports coverage in six daily national newspapers from the UK and U.S. there were only five -- yes, five -- stories about women's sport.\r\n",
            "That's five out of 122 stories, and that would be classed as a good day.\r\n",
            "The ones there were covered South Korean golfer Inbee Park going for her fourth straight professional major in a calendar year, a feat that's never been accomplished in the women's game.\r\n",
            "It would have been a quite incredible achievement. Can you imagine the excitement if it had been Tiger Woods or Rory McIlroy on the verge of such an incredible quadruple?\r\n",
            "The other stories were about Ennis pulling out of the World Athletics Championships.\r\n",
            "Or in other words, the reigning Olympic heptathlon champion pulling out of her sport's second biggest event. Compare that to the coverage Bradley Wiggins got when it was announced he wouldn't be defending his Tour de France crown in 2013.\r\n",
            "Hands up (honestly) if you knew it wasn't in fact Inbee Park that won the women's British Open but America's Stacy Lewis.\r\n",
            "How much coverage in newspapers, or in TV news bulletins, was given to the phenomenal achievement of Germany's women's football team winning its sixth straight European Championship?\r\n",
            "Or Missy Franklin winning a record sixth gold medal at the world swimming championships?\r\n",
            "These women at the top of their game are done a disservice by the media. Why should men's sport be seen as more worthy of coverage than women's events?\r\n",
            "Why should we have to search these stories out online? There's no less competition, skill or sacrifice in what they achieve.\r\n",
            "Just like the International Olympic Committee's fight to get Saudi Arabia to send female athletes to the Olympics, it wasn't easy for those women to watch Attar's historic moment.\r\n",
            "Such was the opposition to allowing women to compete, domestic television stations and newspapers chose to ignore it altogether and instead focused their attention on the bronze medal-winning men's equestrian team.\r\n",
            "But the race was shown on a number of satellite channels and word did get out there. The Olympics has begun a process in Saudi Arabia that looks set to dramatically change the lives of women in the country.\r\n",
            "Having previously been banned, sports classes are now allowed in girls' schools -- and the country's first sports club for women opened in June, with training programs including physical fitness, karate and yoga.\r\n",
            "Whether we like it or not, the way media covers -- or doesn't cover -- people and events goes a long way to shaping attitudes.  Look at what's trendy or in fashion  or who's beautiful. If the media tell us it often enough, then people start to believe it.\r\n",
            "Sport is no different. Sarah Attar is being held up by many as an example to young girls in Saudi Arabia. A trailblazer to inspire not just a generation but a whole shift in society. Maybe a few more of us need to take note.\r\n",
            "\n",
            "Article summary: \n",
            "CNN's Amanda Davies heralds impact London Olympics had on women's sport.\r\n",
            "Coverage of female sport was unprecedented for two weeks of the Games.\r\n",
            "Focus was on ability, power and performances and not on hair or shoes.\r\n",
            "But 12 months on where has all the coverage of women's sport gone?.\r\n",
            "\n",
            "Article text: \n",
            "The downing of a Turkish jet over the Mediterranean last Friday by a Syrian missile took Turkish-Syrian tensions to a new level. Though the Turkish government did not declare war as some expected, and others feared, it did declare Syria a \"clear and present danger\" and raised its rules of engagement to an alert level.\r\n",
            "How we came to this point is an interesting story. The 550-mile long border with Syria, Turkey's longest, has often been tense. During the Cold War, Syria was a Soviet ally, Turkey was a NATO member (as it still is) and the border was heavily mined. Moreover, Hafez Assad, the father and predecessor of Syria's current dictator, Bashar al-Assad, supported and hosted the PKK, the outlawed Kurdistan Workers Party, which has led a guerrilla war against Turkey since the early '80s. (PKK is defined by Turkey and the United States as a terrorist group.) Turkey had come close to waging a war against Syria in 1999 because of this PKK connection.\r\n",
            "Turkey moves forces to Syrian border amid tensions, official says\r\n",
            "However, the relations surprisingly changed for the better in the first decade of the new century. Bashar al-Assad, who replaced his father in 2000, seemed to promise a more open and friendly Syria. In Turkey, the Justice and Development Party of Recep Tayyip Erdogan, which came to power in 2002, initiated a foreign policy of \"zero problems with neighbors.\" This led to a fruitful Turkish-Syrian rapprochment: Erdogan and Assad became friends, trade between the two countries was boosted, and borders were opened for visa-free travel. Just two years ago, the two countries looked like the core states of a would-be Middle Eastern Union modeled after the EU.\r\n",
            "But this honeymoon came to an abrupt end with the Arab Spring. The Erdogan government, whose claims include democratizing Turkey by saving it from the tutelage of the country's overbearing military, intuitively sympathized with and announced support for this democratic wave in the region. Yet while this proved to be a winning game in Tunisia, Egypt and Libya, Syria turned out to be a tougher case.\r\n",
            "Throughout the initial months of the demonstrations in Syria, which began in March 2011, the Turkish government hoped and tried to persuade al-Assad's regime to allow a peaceful transition to democracy. This hope was gradually replaced by frustration, however, and Erdogan soon began to condemn the \"barbarism\" and \"savagery\" of the Syrian regime. The trouble for him, as it usually is, was also personal: As he said in the Turkish Parliament on June 21, Assad had promised him change and reform but proved to be a liar instead.\r\n",
            "Consequently, Turkey rapidly emerged as one of the boldest supporters of the Syrian opposition, and the Syrian National Council, formed as the dissidents' umbrella group, found a base in Turkey. Meanwhile, at least 15,000 refugees from Syria, both dissidents and their families, were given shelter on the Turkish side of the Syrian border.\r\n",
            "Moreover, the Free Syrian Army, a rebel group formed by the Syrian soldiers who deserted to the opposition's side, not only operated from Turkey but, according to some reports, were helped with arms and other supplies as well. The Syrian response was to add Turkey to its own version of the axis of evil -- the United States, NATO, Saudi Arabia and in fact much of the rest of the world -- in its official propaganda.\r\n",
            "Inside Turkey, this engagement in the Syrian crisis has supporters and critics. The supporters are mostly Sunni conservatives who strongly identify with the Syrian opposition, which include the Syrian Muslim Brotherhood. (The massacre of thousands of Sunnis in Hama in 1982 by Hafez Assad had been a tragic memory in the minds of these conservative Turks, who now believe that the Syrian leopard has simply not changed its spots.)\r\n",
            "Other voices in Turkey, ranging from hardcore secularists to pro-Iranian marginal Islamists, accuse the government for being naively involved in a conflict cooked up by \"Western imperialists.\"\r\n",
            "The plane incident came on top of all this. The downed jet was apparently an unarmed but military aircraft which, according to the Turkish government, was on a peaceful mission to test the NATO radar system based in eastern Turkey. Syrians said the plane violated Syrian airspace and was shot within it.\r\n",
            "The Turkish government said the plane violated the Syrian airspace \"mistakenly and very briefly\" but was hit by a Syrian missile despite immediately having reverted to international airspace. The plane's two pilots, who apparently fell to the sea, are missing.\r\n",
            "The Turkish reaction to the incident was outlined by Erdogan in an address in the parliament that came four days after the incident. In a very strident tone against the \"bloody dictator of Syria,\" Erdogan announced that Turkey now sees its southern neighbor as a \"clear and present danger\" and will change its rules of engagement: \"Any military element that approaches the Turkish border from Syria by posing a security risk will be regarded as a threat, and will be treated as a military target.\" The very same day, some Turkish tanks on the Syrian border were repositioned, implying that Ankara meant business.\r\n",
            "Yet almost no one in Turkey seems enthusiastic for war. Many here point out that Turkey's ascendance in the past decade has been thanks to its \"soft power.\" That mainly rested on the country's economic boom and democratic reforms, which seemed to present a synthesis of Islam, free-market capitalism and political liberalism.\r\n",
            "Photos: In Syrian hospital, no escape from war\r\n",
            "But should Turkey now consider putting some \"hard power\" on the table, without which it might become ineffective in its region? This is a question that Turks are passionately discussing these days, and the answer seems to matter a lot for the Syrians as well.\r\n",
            "The opinions expressed in this commentary are solely those of Mustafa Akyol.\r\n",
            "\n",
            "Article summary: \n",
            "Mustafa Akyol: Syria downing of Turkish plane has brought countries' tensions to new level.\r\n",
            "He says relations had evolved to friendly until Arab Spring; Syria aggression opened new divide.\r\n",
            "He says Turkey's Erdogan had tried to ease Syria to peace, but now it's in military posture.\r\n",
            "Akyol: Turkey used \"soft power\" to gain regional strength. Must it use \"hard power' to keep it?.\r\n",
            "\n",
            "Article text: \n",
            "With every attack by Islamist militants in northern Nigeria, Daniel Ayuba relives a nightmare.\r\n",
            "Two years ago, attackers planted a bomb near a car wash in Maiduguri. The explosion shattered his leg and left 80% of his body covered in shrapnel.\r\n",
            "It also flattened cars and motorbikes, and left an entire neighborhood smoldering.\r\n",
            "\"I looked around me and there was fire burning, houses blown up and dead people,\" said Ayuba, the scars still visible on most of his body. \"I  kept on crying, crying for someone to come help me, but no one would come.\"\r\n",
            "Ayuba is among a fast-growing list of Boko Haram victims. The Islamist militants have intensified their wave of terror targeting the north and beyond.\r\n",
            "And every attack gets more brazen.\r\n",
            "They swoop in on foot, motorcycles and car convoys. They hurl bombs and pull guns with lightening speed.\r\n",
            "In April the terrorist group attracted worldwide attention -- and condemnation -- when it abducted an estimated 276 girls in April from a boarding school in Chibok in northeastern Nigeria. Dozens escaped, but more than 200 are still missing.\r\n",
            "A few days earlier, the militants bombed a bus station, killing at least 71 people on the outskirts of the capital of Abuja.\r\n",
            "\"When I heard the news, I started crying,\" Ayuba said.  \"I said to myself, 'What's wrong with these people?'\"\r\n",
            "Father ambushed, killed\r\n",
            "In his case, the car wash bombing was not his first brush with the militants.\r\n",
            "Years before that, members of the terror group ambushed his father, a police officer, and sprayed his car with bullets.\r\n",
            "\"When my father arrived ... they came out, one of them shot him\" in the head, he said. His father died.\r\n",
            "The lawless Borno state, whose capital is Maiduguri, is a major hot spot for the militants. So much so, it had banned motorbikes a few years ago to prevent drive-by attacks by Boko Haram.\r\n",
            "The group is known to use gunmen on motorbikes to kill.\r\n",
            "Ripple effects\r\n",
            "For nearly a year,  Borno, Yobe and Adamawa states have been under a state of emergency due to the relentless assaults.\r\n",
            "The Islamist militant group has bombed churches and mosques; kidnapped women and children; and assassinated politicians and religious leaders.\r\n",
            "Boko Haram -- whose name means \"Western education is sin\" in the local Hausa language -- says it wants to impose a stricter enforcement of Sharia law.\r\n",
            "Violence related to the group killed 1,500 in the first three months of this year alone.\r\n",
            "As the Nigerian military battles the brutal militants, it's breaking the rules as well. Rights group accuse both sides of ruthlessness -- Boko Haram of indiscriminate attacks, and the military of extrajudicial killings.\r\n",
            "And as the militants step up their attacks,  Ayuba is just glad to be alive.\r\n",
            "\"It was God that saved me. He kept me alive on purpose, and I ask God every day to relieve that purpose to me,\" he said.\r\n",
            "He walks away with a limp, his scars a symbol of an insurgency that will not be forgotten.\r\n",
            "\n",
            "Article summary: \n",
            "\"I looked around me and there was  fire burning ... dead people,\" victim says.\r\n",
            "Boko Haram-related violence killed 1,500 in the first three months of this year.\r\n",
            "The group is known to use gunmen on motorbikes to kill.\r\n",
            "\n",
            "Article text: \n",
            "Dan Marino, considered one of the greatest quarterbacks in National Football League history, is withdrawing his name from a concussion lawsuit against the NFL, according to published reports.\r\n",
            "The news, first reported by the South Florida Sun Sentinel, comes a day after media reports that the Hall of Fame quarterback and 14 other players had filed a lawsuit that claims the NFL knew for years of a link between concussions and long-term health problems and did nothing about it.\r\n",
            "Marino, 52, said he didn't realize his name would be attached to the lawsuit.\r\n",
            "\"Within the last year I authorized a claim to be filed on my behalf just in case I needed future medical coverage to protect me and my family in the event I later suffered from the effects of head trauma,\" the former Miami Dolphins star wrote in a statement published in the Sun Sentinel and on Sports Illustrated's website.\r\n",
            "Marino said his name was \"automatically\" attached to the suit, which asks for a jury to decide monetary damages and seeks medical monitoring for the former players.\r\n",
            "Each player submitted a brief complaint with standard language saying they suffer from brain injuries and exhibit symptoms that have developed over time.\r\n",
            "\"I am sympathetic to other players who are seeking relief who may have suffered head injuries. I also disclaim any references in the form complaint of current head injuries,\" he said.\r\n",
            "The Sun Sentinel reported that Marino has said he only had two concussions in his 17 seasons.\r\n",
            "Marino was considered one of the most durable quarterbacks in the NFL and once started 99 games in a row. Known for a quick release and not getting sacked, he still holds several NFL records. He was elected to the Pro Football Hall of Fame in 2005.\r\n",
            "He did not return CNN's repeated calls for comment.\r\n",
            "NFL spokesman Brian McCarthy said the league had no comment on the lawsuit.\r\n",
            "Other former players involved in the suit are Richard Bishop, Ethan Johnson, Chris Dugan, Anthony Grant, Mark Green, LaCurtis Jones, John Huddleston, Erik Affholter, Toddrick McIntosh, Dwight Wheeler, Jackie Wallace, Moses Moreno, Peter Manning and Bruce Clark.\r\n",
            "Had Marino remained a party to the suit, he would have been one of the most high-profile former players among thousands who are suing or have sued the league through many different legal filings. After his career, Marino worked as an NFL analyst for HBO and CBS.\r\n",
            "In the biggest concussion case, the NFL and at least 4,500 players proposed a $765 million settlement but a federal judge declined in January to approve the figure, saying she didn't think it was enough money.\r\n",
            "The estimated 20,000 class members over the settlement's 65-year lifespan would include former players with early dementia, moderate dementia, Alzheimer's disease, Parkinson's disease, amyotrophic lateral sclerosis and/or death with a postmortem diagnosis of chronic traumatic encephalopathy, a brain disorder.\r\n",
            "Sports Illustrated reported that Marino would be eligible for benefits from that lawsuit.\r\n",
            "White House to talk concussion prevention at summit\r\n",
            "Head impact sensors: On-the-field placebo or danger?\r\n",
            "Brett Favre: Memory lapse 'put a little fear in me'\r\n",
            "\n",
            "Article summary: \n",
            "Florida paper reports Dan Marino didn't realize he would be part of new lawsuit.\r\n",
            "Hall of Fame quarterback releases statement saying he has no current head injuries.\r\n",
            "Group of now 14 ex-players is latest to sue the NFL.\r\n",
            "\n",
            "Article text: \n",
            "(CNN)  -- German World Cup star Sami Khedira joined up with his new Real Madrid teammates on Sunday after completing his move from Bundesliga side VfB Stuttgart.\r\n",
            "The 23-year-old passed a medical on Saturday, and has now traveled to California for the Spanish giants' pre-season tour of the United States, the Real website reported.\r\n",
            "He and Sergio Canales, another of new coach Jose Mourinho's four acquisitions since he arrived from European champions Inter Milan, have swelled the Madrid touring squad to 25 after departing with Alvaro Arbeloa, Raul Albiol and Rafael van der Vaart.\r\n",
            "Real will play Club America in San Francisco on Wednesday, then take on Los Angeles Galaxy in the Rose Bowl on Sunday before heading to Germany for a clash with Bundesliga champions Bayern Munich on August 13.\r\n",
            "Real go to Belgium for a match against Standard Liege on August 17, then return to Spain to face Hercules in Alicante before hosting the Santiago Bernabeu Trophy match against Uruguay champions Penarol.\r\n",
            "Khedira became hot property after his superb performances in South Africa, where seized his chance after Germany captain Michael Ballack was ruled out of the World Cup through injury, as he formed a superb partnership in central midfield with Bastian Schweinsteiger.\r\n",
            "Khedira, who had been linked with a move to English Premier League champions Chelsea, has won 12 caps for Germany after making his debut less than a year ago.\r\n",
            "He scored his first goal for his country in the third-place playoff win over Uruguay.\r\n",
            "Stuttgart said details of the transfer fee remained secret, but reports have suggested he will move for around $18 million.\r\n",
            "\n",
            "Article summary: \n",
            "Germany midfielder Sami Khedira heads to U.S. after sealing Real Madrid transfer.\r\n",
            "Former Stuttgart player joins pre-season tour, having passed his medical on Saturday.\r\n",
            "Spanish giants will play two pre-season matches in California before returning to Europe.\r\n",
            "\n",
            "Article text: \n",
            "A year after CNN investigated a California charity that said it was helping veterans, the California Attorney General's office on Friday announced the charity would pay a $2.5 million fine and agree to the resignation of most of its principal officers because it had spent most of its donations on fundraising and what the state called \"excessive compensation\" for its executives.\r\n",
            "Attorney General Kamala Harris said Help Hospitalized Veterans executives had \"improperly diverted\" donated funds to themselves as well as purchasing country club memberships and in one case a suburban Washington condominium for use of its officers.\r\n",
            "\"I am pleased that this settlement forces these officials to resign, in addition to paying restitution,\" Harris said in a statement.\r\n",
            "When CNN investigated Help Hospitalized Veterans in August 2012, it found that most of the donations sent to veterans hospitals around the country amounted to so-called \"craft kits\" for recovering soldiers to use while hospitalized. The kits included instructions for making paper airplanes. Tax returns from Help Hospitalized Veterans showed six-figure salary payments to several of its key officers, including Chief Executive Officer Michael Lynch.\r\n",
            "At the time, Lynch told CNN in a brief on-camera statement, \"We hope these unproven allegations will not diminish the more than 40 years of service HHV has provided to our nation's most valuable treasure, our veterans. HHV looks forward to the chance to tell its story and we hope this action will not impede its ability to add its support to hospitalized veterans nationwide.\"\r\n",
            "Help Hospitalized Veterans has been the subject of state and federal inquiries for several years. In 2008, a House Oversight Subcommittee hearing led by Rep. Henry Waxman, D-California, spent a day seeking testimony from the charity's founder, Roger Chapin, as well as other Help Hospitalized Veterans executives. Chapin died last month. Waxman told CNN in 2012 that in his view, executives of the charity \"ought to be put in jail\" because of excessive spending.\r\n",
            "Help Hospitalized Veterans, which is based in Temecula, California, will not close, said Hugh Quinn, the charity's attorney. He said $500,000 of the fine will be paid by the charity. The remaining $2 million will eventually be paid from the estate of Chapin's wife, Quinn said. Lynch will retire after 35 years and will collect a pension of $160,000 per year, Quinn said.\r\n",
            "Above the law: America's worst charities\r\n",
            "In a written statement, Quinn said he saw the fine and settlement as a victory for Help Hospitalized Veterans. \"As long as there's a need, HHV will be there and we're looking forward to reconnecting with veterans and their families and our supporters so that our work continues,\" he said\r\n",
            "\n",
            "Article summary: \n",
            "California Attorney General says charity \"improperly diverted\" donated funds.\r\n",
            "Charity's executives used funds for country club memberships, condos, she says.\r\n",
            "CNN investigation in 2012 found donations to veterans were kits for paper airplanes.\r\n",
            "\n",
            "Article text: \n",
            "Hot, dry weather returns to Texas this week, whisking away the limited relief scattered thunderstorms brought to firefighters in parts of the Lone Star state over the weekend.\r\n",
            "In a trifecta of potentially bad news for fire crews, the Texas Forest Service said a low-pressure system will push temperatures into the 90s, humidity to 10% or less and winds up to 45 mph on Monday and Tuesday.\r\n",
            "The conditions have prompted the National Weather Service to issue a red flag warning for a large portion of west Texas, urging residents to avoid the use of open flames and to avoid activities that may generate sparks.\r\n",
            "Because of the hot temperatures, bone-dry conditions and high winds, \"accidental ignitions will have the potential to grow quickly into dangerous wind-driven wildfires,\" the weather service said.\r\n",
            "The system will bring with it a chance of precipitation. However, rain accompanied by thunderstorms can be a mixed-blessing for firefighters, since lightning can ignite new fires.\r\n",
            "One such fire scorched nearly every inch of a 10,000-acre north Texas ranch, about 70 miles west of Fort Worth.\r\n",
            "The Cormack family has raised cattle near Strawn for a quarter century, but now are coping with the loss of 15% of its herd and nearly all of its grazing land.\r\n",
            "\"Its something you can't really explain. This is home,\" Justin Comack told CNN's Patrick Oppmann.  \"I know a lot of people think ... it's just land, but you know this is my backyard and we ran cattle out here since I was a baby.\"\r\n",
            "Some of the cattle were nearly incinerated by the fast-moving flames.  All Cormack can do is number the carcasses with green spray paint, take their pictures and log their GPS locations, hoping the family eventually will be compensated for its losses.\r\n",
            "Even for the surviving cattle, the road will be tough -- many suffered burns and may have to be put down.\r\n",
            "Grazing land has become a precious comodity, with most of the landscape charred following the fire.\r\n",
            "\"We've been really lucky that we have friends all over and people, strangers that come together and donate as much hay as they can,\" according to brother Jake Cormack, who said he's looking for grass leases to feed his herd until \"we can get over this hump.\"\r\n",
            "The Forest Service responded to 17 new fires over the weekend, but the blazes were slowed by storms that brought softball-sized hail and reports of tornadoes.\r\n",
            "The largest of these new fires is the Pipeline fire in Tyler and Hardin counties.  Covering some 7,101 acres, it was caused by an oil well flare.  National Park Service personnel were involved in the fight against the blaze and it is now 90% contained.\r\n",
            "Wet weather over the past few days helped firefighters maintain control over many of the fires burning in the state, the Texas Forest Service said.\r\n",
            "The largest of them is the 207,660-acre Rockhouse fire in Jeff Davis County, which is 75% contained as of Sunday night.  Firefighters had to abandon the fight against the conflagration in the Davis mountains, according to an update from the Forest Service, because of concerns about safety and a lack of reliable communications.  The agency said the difficult terrain made use of bulldozers impossible and aerial resources had proved ineffective.\r\n",
            "The PK Complex of fires burning west of Fort Worth is now 50% contained, assisted by significant rainfall, the Forest Service said.  On Sunday, crews worked on constructing lines through the 126,734-acre fire.  The also burned pockets of vegetation around the fire's perimeter.\r\n",
            "The 159,308-acre Wildcat fire in Coke County, north of San Angelo, is 75% contained.  On Sunday, crews were able to focus on patrol and mop-up operations, according to the Texas Forest Service.\r\n",
            "West Texas averages nearly 15 inches of rain a year, according to David Hennig, a meteorologist in Midland. Over the past six months, just 13-hundredths of an inch of rain have been recorded in that part of the state.\r\n",
            "While October through March is typically the dry season, that amount of rainfall is far below what it should be, Hennig said.\r\n",
            "Two firefighters have died since the latest outbreaks began, with numerous others injured, state officials said.\r\n",
            "\n",
            "Article summary: \n",
            "NEW:  Fires scorch 10,000-acre ranch west of Fort Worth.\r\n",
            "Firefighters are still working to contain the largest fires in the state.\r\n",
            "Critical fire weather is forecast for Texas during the first part of the week.\r\n",
            "The Texas Forest Service responded to 17 new fires Saturday.\r\n",
            "\n",
            "Article text: \n",
            "The death of Mark Madoff, the son of convicted Ponzi-schemer Bernard Madoff, was ruled a suicide by the New York City medical examiner's officer on Sunday, a day after the victim's body was discovered hanging from a ceiling pipe in his SoHo apartment.\r\n",
            "Ellen Borakove, a spokeswoman for the medical examiner, said the autopsy was completed around 1 p.m. Sunday. Borakove said medical examiners will conduct toxicology and tissue tests on the body. The result, she said, will not be made public unless Madoff's next of kin asks for the case file.\r\n",
            "Madoff killed himself two years to the day after his father was arrested for swindling $50 billion from investors in the largest Ponzi-scheme in U.S. history.\r\n",
            "None of Madoff's immediate family members have commented on his death. However, the attorney who represents the victim's mother, Ruth, said she \"is heartbroken.\"\r\n",
            "The attorney, Peter Chavkin, responded by e-mail and said Ruth Madoff would not provide additional information.\r\n",
            "Mark Madoff killed himself while his wife was out of town and his 2-year-old son was asleep in a nearby bedroom, early Saturday morning, authorities said. Madoff's body, fully clothed and hanging from a living room pipe, was discovered by his father-in-law around 7:30 a.m. The boy was not harmed.\r\n",
            "Mark Madoff's attorney, Martin Flumenbaum, on Saturday called his client's death. \"a terrible and unnecessary tragedy.\"\r\n",
            "\"Mark was an innocent victim of his father's monstrous crime who succumbed to two years of unrelenting pressure from false accusations and innuendo,\" Flumenbaum said. \"We are all deeply saddened by this shocking turn of events.\"\r\n",
            "Bernard Madoff is currently serving a 150-year prison sentence for masterminding the largest Ponzi scheme in U.S. history. Madoff bilked investors out of $50 billion by masquerading his investment firm as legitimate when it was nothing more than a front. He used funds from new investors to send payments to his earlier investors, falsely portraying them as proceeds from investments, when they were actually stolen money, prosecutors said.\r\n",
            "The 71-year-old Madoff pleaded guilty to the charges in 2009 and is now incarcerated at the Butner Federal Correction Complex, a medium-security prison in eastern North Carolina.\r\n",
            "Bernard Madoff's criminal activities have spawned a tidal wave of civil actions against Mark Madoff, his mother, siblings and hundreds of other defendants, accused of profiting off the Ponzi scheme by withdrawing more money from Madoff's fund than they invested, money they presumably thought was investment income.\r\n",
            "A person familiar with the Madoffs says Mark Madoff has not been in touch with his extended family for the past two years.\r\n",
            "Irving Picard, the court-appointed trustee in charge of recovering and distributing Madoff's assets, has filed a slew of lawsuits in U.S. Bankruptcy Court in Manhattan over the past week on behalf of some of Madoff's victims.\r\n",
            "One filed on December 8 named Mark Madoff -- as well as his brother Andrew Madoff and uncle Peter Madoff -- as one of several defendants in a civil lawsuit.\r\n",
            "On Saturday, Picard issued a brief statement expressing his condolences.\r\n",
            "\"This is a tragic development, and my sympathy goes out to Mark Madoff's family,\" he said.\r\n",
            "The other defendants include JPMorgan Chase, HSBC, UBS, an Austrian banker, and two accountants who are accused of knowing about the fraud but covering it up and profiting from it.\r\n",
            "The majority of Madoff's victims did not invest directly in his firm. They invested in third-party feeder funds, and therefore don't qualify for the financial protections extended to direct investors.\r\n",
            "So far, 16,394 claims have been filed by investors who say they lost money.\r\n",
            "The majority of the claims -- 13,054, or nearly 80% of the total -- have been denied, because the investors were invested through feeder funds.\r\n",
            "From CNN's Miguel Susana in New York\r\n",
            "\n",
            "Article summary: \n",
            "Mark Madoff's death is ruled a suicide.\r\n",
            "His attorney says Madoff was \"an innocent victim of his father's monstrous crime\".\r\n",
            "His mother is \"heartbroken,\" her attorney says.\r\n",
            "A person familiar with the Madoffs says Mark Madoff had fallen out of touch with his family.\r\n",
            "\n",
            "Article text: \n",
            "On June 21, 1930, a Frenchman boarded the SS Conte Verde at Villefranche-sur-Mer, carrying in his baggage a small winged statuette representing Nike, the Greek goddess of victory.\r\n",
            "Also aboard the South America-bound liner were footballers from France, Belgium and Romania. The Frenchman was Jules Rimet and the golden trophy was the World Cup.\r\n",
            "Rimet's vision, conceived in the aftermath of World War One, was of a global tournament which reflected football's growing international popularity. But as the vessel set sail for Montevideo, the competition's prospects did not look particularly good.\r\n",
            "Uruguay had been awarded the event following gold medals at the 1924 and 1928 Olympics, and because the competition coincided with the South American country's centenary celebrations.\r\n",
            "But, with the world's economy reeling from the Great Depression, just 12 other teams took part. England, claiming de facto supremacy in a sport they had invented and exported, were among those to snub the tournament. Unsurprisingly, the first final would prove a local affair, with the hosts beating neighboring Argentina 4-2.\r\n",
            "Two more World Cups would be played before World War Two -- both won by Italy -- but the competition remained an event finding its feet as sporting issues were overshadowed by the darkening mood in Europe. Rimet's trophy spent the war hidden in a shoe box under the bed of an Italian football official.\r\n",
            "A new era began in 1950 as hosts Brazil built the world's biggest football stadium, Rio de Janeiro's Maracana, to showcase a competition which they were also expected to dominate.\r\n",
            "England, finally sending a team, suffered an ignominious 1-0 defeat against the U.S. but it was the final match that delivered the greatest shock as Uruguay, in front of an expectant crowd of almost 200,000, stunned the hosts 2-1.\r\n",
            "In Brazil the match became known as the \"fateful final.\" Yet it was also the trauma of the defeat which would fuel Brazil's obsession with winning the tournament, paving the way for the country's later dominance.\r\n",
            "2010 World Cup: A catalyst for a new South Africa?\r\n",
            "The World Cup returned to Europe in 1954 with Switzerland playing hosts and Hungary, led by \"Galloping Major\" Ferenc Puskas, arriving as favorites. The Hungarians thrashed in 17 goals in their opening two games, including an 8-3 win over West Germany, their eventual opponents in the final. But in a match known in Germany as the \"Miracle of Berne,\" it was Fritz Walter's side who emerged as 3-2 winners.\r\n",
            "The 1958 World Cup in Sweden marked the arrival of a 17-year-old superstar called Edison Arantes do Nascimento, better known as Pele, as Brazil were crowned champions at last. Pele didn't appear until the quarterfinals, but followed the winning goal against Wales with a hat-trick against France and two more in a 5-2 win over the hosts in the final.\r\n",
            "Brazil were winners again in 1962 in Chile, this time inspired by Garrincha's trickery. The winger scored four times in wins over England and Chile before Brazil completed the defense of their crown with a 3-1 win over Czechoslovakia.\r\n",
            "1966 was the year when England finally embraced the World Cup, with home advantage proving enough to carry Alf Ramsey's side all the way to the title, capped by Geoff Hurst's hat-trick in a 4-2 final win over West Germany. But the victory also marked the beginning of the country's still unfulfilled obsession with repeating the feat.\r\n",
            "The 1970 World Cup in Mexico was a technicolored spectacle, brought live to millions of television screens by satellite technology and featuring a virtuoso performance by a Brazilian team considered the greatest in football history.\r\n",
            "Pele produced the tournament's most memorable cameos, including his famous near-miss from the halfway line against Czechoslovakia and an astonishing dummy that sent the ball past a bewildered Uruguayan keeper -- though neither moment led to a goal. The save from his downward header by England goalkeeper Gordon Banks is rated by many as the best of all time.\r\n",
            "Jairzinho achieved the unique feat of scoring in every match while captain Carlos Alberto capped his side's 4-1 win over Italy in the final with an emphatic finish that summed up the Brazilians' supremacy.\r\n",
            "By 1974, the World Cup was starting to resemble its modern incarnation, with teams such as Zaire -- the first from sub-Saharan Africa -- and Australia extending the competition's reach beyond its roots in Europe and South America.\r\n",
            "Johan Cruyff's brilliant Dutch side took the tournament by storm with their revolutionary \"total football\" but it was hosts West Germany who came out on top 2-1 in the final.\r\n",
            "Who will be the World Cup's best player?\r\n",
            "Home advantage also proved decisive in 1978 as Argentina ended their long wait for World Cup success with Mario Kempes scoring twice in a 3-1 win over the Netherlands in the final. For some however, the tournament was tainted, offering apparent legitimacy to the country's oppressive military regime.\r\n",
            "Italy ended their long wait for a third title in 1982 in Spain, recovering from a slow start to beat favorites Brazil in a thrilling second-round match in which striker Paolo Rossi scored a hat-trick on his way to winning the top scorer's Golden Boot.\r\n",
            "West Germany were the Italians' opponents in the final, though their passage was marred by a semifinal penalties victory over France principally remembered for a horrendous challenge by West German goalkeeper Harald Schumacher which left Frenchman Patrick Battiston unconscious. Rossi opened the scoring in Italy's 3-1 win.\r\n",
            "The 1986 tournament in Mexico belonged to Diego Maradona, whose individual brilliance carried Argentina to victory virtually single-handedly -- literally in the case of his notorious \"Hand of God\" goal against England.\r\n",
            "Maradona's second goal of that match, a waltzing solo from inside his own half, confirmed him as football's greatest talent since Pele, and not even a West German fightback from two goals down in the final could prevent Argentina being crowned champions as 3-2 winners.\r\n",
            "The 1990 tournament in Italy opened with a stunning upset as Cameroon beat Argentina 1-0 in a brutal performance which saw them end the game with nine men. Argentina regrouped to advance to the final, setting up a rematch of the 1986 final against West Germany. This time the West Germans, the tournament's most impressive side, came out on top, winning 1-0.\r\n",
            "Maradona's last World Cup, in the U.S. in 1994, ended in disgrace as he failed a drugs test. Colombia went into the competition as favorites but their participation ended tragically with early elimination and the murder on their return home of defender Andres Escobar, the scorer of a critical own-goal.\r\n",
            "That left Brazil, led by Romario, carrying the South American challenge, while Italian Roberto Baggio hauled his team through the knockout stages in a trio of match-winning performances against Nigeria, Spain and Bulgaria.\r\n",
            "But Baggio's fate was to be remembered as the man who missed in the first final to be settled on penalties, shooting over the crossbar to send the World Cup back to Brazil for the first time since 1970.\r\n",
            "World Cup predictions\r\n",
            "Brazil reached the final once again in 1998, but the buildup to their clash with hosts France would prove more dramatic than the match itself as the world's most feared striker, Ronaldo, was first omitted from the Brazilians' team sheet and then reinstated at the last minute.\r\n",
            "Later reports suggested Ronaldo had suffered a pre-match fit, and the incident seemed to be playing on his teammates' minds as Zinedine Zidane struck twice for France in a 3-0 win, triggering wild celebrations on the Champs Elysees.\r\n",
            "In 2002 the World Cup visited Asia for the first time, co-hosted by Japan and South Korea. It was a tournament of upsets with Senegal humbling France in the opening game and South Korea riding their luck and some generous refereeing to oust Spain and Italy on their way to the last four.\r\n",
            "Turkey were also surprise semifinalists, but the final brought together two heavyweights in Brazil and Germany. Making up for the disappointment of 1998, Ronaldo scored both goals in a 2-0 win as Brazil became five-time winners.\r\n",
            "Both Zidane and Marco Materazzi found the net in the 2006 final in Germany between France and Italy, but it was the pair's off-the-ball clash deep into extra time that became the tournament's defining moment.\r\n",
            "Zidane had emerged from international retirement to lead his country to the final, a fitting stage for the greatest player of his generation's final game.\r\n",
            "Instead, Zidane was dismissed from the field for headbutting Materazzi, apparently in retaliation to some verbal insult offered by the Italian defender. France's 10 men held out for a 1-1 draw but without their talisman the fates had swung decisively against them.\r\n",
            "Having defied the distraction of a match-fixing scandal at home and beaten hosts Germany in a tense semifinal, the Italians held their nerve once again to convert five perfect penalties and win the World Cup for the fourth time.\r\n",
            "\n",
            "Article summary: \n",
            "Only 12 teams traveled to Uruguay for the first World Cup ever held in 1930.\r\n",
            "Twenty years later, the tournament entered a new era when it was staged in Brazil.\r\n",
            "The 1970 event in Mexico featured technicolor coverage via satellite television broadcasts.\r\n",
            "Italy go into the the 2010 tournament in South Africa as the defending champions.\r\n",
            "\n",
            "Article text: \n",
            "If Russell Jackson has his way, any child who needs medical care but lacks the transportation to get there will have a safe and reliable alternative.\r\n",
            "Russell Jackson started Kid One, which has ferried thousands of children to medical appointments.\r\n",
            "\"We found that there were 80,000-plus children in Alabama living in a home with no car,\" Jackson says.\r\n",
            "\"And in the rural areas, there are no cabs, there are no buses, there are no trains. ... Millions of children in our country every day have no access to medical care when they need to reach it.\"\r\n",
            "Jackson is so determined that in 1997 he gave up his career as an Alabama firefighter, moved in with friends and dug into his retirement account to start Kid One Transport, a nonprofit organization that provides rides for needy children in his home state.\r\n",
            "In 11 years, Kid One's fleet of vans has ferried more than 16,000 kids to and from scheduled medical-related appointments all over Alabama.  Watch Jackson describe the need for medical transportation in rural Alabama Â»\r\n",
            "Jackson never anticipated he would leave the fire department to head up a nonprofit organization. After all, firefighting was the culmination of a lifelong dream.\r\n",
            "\"What little boy doesn't want to be a firefighter?\" Jackson says, laughing.\r\n",
            "But an emergency call to his department in March 1992 changed everything. Jackson was dispatched to help an unresponsive 2-year-old who had accidentally hanged himself in the family car while trying to retrieve a toy.\r\n",
            "\"We did everything that we could to try to revive that young child,\" he says. The 2-year-old died despite their efforts.\r\n",
            "\"I took it pretty tough,\" Jackson remembers. \"It's not that I had not been exposed to tragedies before, but this one hit me differently.\"\r\n",
            "At the advice of a counselor, Jackson started volunteer work to help him process his grief. A friend suggested Jackson volunteer in the small rural town of Sayre, Alabama. Jackson was stunned by what he saw just 25 minutes from his home.\r\n",
            "\"When I drove into the community, it was a world of its own. It was a lot of homes that were deplorable. And that's really the only way I can explain them,\" he says.\r\n",
            "Jackson says he was instantly ashamed by his own comfortable lifestyle.  Watch Jackson describe the \"turning point\" that led to Kids One Transport Â»\r\n",
            "\"All it took was the one visit,\" he recalls, \"and I knew I really wanted to come out and work with these folks, hand in hand, and do whatever I could to help make life a little bit easier for them.\"\r\n",
            "When social workers told him about the neighborhood children who had no way to travel to and from appointments for chemotherapy, physical therapy and even for regular checkups, Jackson started driving them there himself.\r\n",
            "Before long this one-man operation grew into a 13-van team covering 30 counties. Though Jackson recently stepped down from a daily role in the organization he founded, he says the best part of his work has been meeting the families and witnessing firsthand so many medical transformations.\r\n",
            "There were some who learned to speak, another who learned to walk, and others who recovered from life-threatening illnesses -- even when doctors were less than hopeful.  Watch a child who relies on Kid One to get to medical appointments Â»\r\n",
            "\"I saw so many lives changed, so many determined children and parents who wanted to beat the odds that were against them,\" Jackson says.\r\n",
            "He says he believes that getting them to the care they needed made the difference.\r\n",
            "\"We're that missing part of the puzzle that is preventing so many people from reaching what we'd consider as world-class medicine. ... To know that they beat it all because of a simple ride,\" he adds. \"That has definitely been worth every bit of founding Kid One Transport.\"\r\n",
            "\n",
            "Article summary: \n",
            "More than 80,000 children in Alabama reportedly live in homes without a car.\r\n",
            "Fireman Russell Jackson quit his job to start a nonprofit to help fill that gap.\r\n",
            "Kid One has ferried 16,000 children to and from medical-related appointments.\r\n",
            "\n",
            "Article text: \n",
            "Moscow (CNN)Ukraine's latest allegations that Russian troops have been deployed into Ukraine are \"complete rubbish,\" the Russian Defense Ministry said Tuesday.\r\n",
            "A day earlier, Ukrainian Prime Minister Arseniy Yatsenyuk said Russian troops had crossed the border to support pro-Russian rebels.\r\n",
            "Ukraine and the West for months have accused Russia of supporting rebels in eastern Ukraine by sending in Russian troops, weapons and supplies. The United States and European countries have imposed economic sanctions on Russia over its involvement in Ukraine, while Russian officials have frequently denied claims their military has sent forces to bolster the rebels.\r\n",
            "On Tuesday, Russian Defense Ministry spokesman Maj. Gen. Igor Konashenkov said Monday's allegations were designed to attract sympathy and investment for Ukraine at this week's gathering of political and business leaders in Davos, Switzerland.\r\n",
            "Yatsenyuk, according to Ukraine's state-run media, said Monday that his country's military \"confirmed the fact military personnel and equipment have been transferred from Russia to Ukraine.\"\r\n",
            "\"Tanks, GRAD multiple rocket systems, BUK and SMERCH systems, radio electronic intelligence systems are not sold at local Donetsk street markets. Only the Russian army and Defense Ministry have them,\" Yatsenyuk said.\r\n",
            "The prime minister's spokeswoman, Olga Lappo, confirmed to CNN the quotes attributed to Yatsenyuk are accurate.\r\n",
            "Unrest in Ukraine began with protests in the country's capital last year after pro-Moscow President Viktor Yanukovych, favoring closer ties to Russia, dropped plans to sign a political and economic agreement with the European Union.\r\n",
            "After months of protests and days of deadly clashes between demonstrators and security personnel in Kiev, Parliament ousted Yanukovych in February. Weeks later, Russia annexed the Crimean Peninsula.\r\n",
            "In April, violence broke out in two Ukrainian regions that border Russia -- Donetsk and Luhansk -- as separatist leaders declared independence from the government in Kiev.\r\n",
            "Pro-Russian separatists have claimed control of parts of Donetsk and Luhansk since the spring, despite a push by Ukrainian forces to defeat them. From mid-April to September 16 alone, at least 3,500 people were killed and at least 8,100 others were wounded in the conflict, according to the United Nations.\r\n",
            "CNN's Jason Hanna contributed to this report.\r\n",
            "\n",
            "Article summary: \n",
            "Russian Defense Ministry spokesman: Allegations designed to attract sympathy.\r\n",
            "Ukraine, West have long accused Russia of sending troops, supplies into eastern Ukraine.\r\n",
            "Ukraine's Prime Minister made latest such allegation on Monday.\r\n",
            "\n",
            "Article text: \n",
            "I am tired.\r\n",
            "Tired of our streets being peppered with dead, unarmed black people. Tired of listening to armed assailants describe how they feared for their lives. Tired of being told \"this has nothing to do with race.\"\r\n",
            "I am tired of having to march to have murderers arrested. Tired of worrying about my 17-year-old being gunned down by some random white guy who thinks his music is too loud.  Tired of knowing the same could happen to me.\r\n",
            "I am tired of seeing a hashtag in front of a victim's name on Twitter. Tired of seeing Al Sharpton speak on behalf of a family. Tired of waiting for verdicts and hoping for justice --as if hearing \"guilty\" can ease the anxiety of knowing a police officer shot and killed a 22-year-old black man while he was lying face down and with his hands behind his back.\r\n",
            "I'm tired of the cynics who are quick to extend the benefit of the doubt to a gunman but hesitant to do the same for an unarmed teenage girl who had been shot in the face. I am tired of seeing images of police officers with snarling dogs threatening a crowd of black protesters and not knowing if it's from the 1960s or last week.\r\n",
            "In the case of Michael Brown's death in Ferguson, Missouri, it's the latter. Witnesses said he was shot multiple times from 35 feet away after his hands were raised. Again, he was unarmed.\r\n",
            "I am tired of the U.S. Department of Justice having to closely watch local authorities. I am tired of local authorities advocating for Stop and Frisk one minute and dismissing the notion of racial profiling the next. I am tired of the charlatans who chase the bodies of innocent victims the way sleazy lawyers chase ambulances. I hate black looters at peaceful rallies the way I hate the KKK.\r\n",
            "I don't want to get shot by a police officer.\r\n",
            "And I'm tired of thinking that each time one walks by.\r\n",
            "I don't begrudge anyone who has the luxury of not knowing what that kind of siege feels like. I just hope they have the decency not to characterize the socioeconomic disparity along racial lines as a card to be played but rather recognize it as a looming element of our cultural fiber.\r\n",
            "For example, from 1934 to 1962, the federal government backed $120 billion of home loans. Because of an appraisal system that deemed integrated communities financial risks, less than 2% of those loans went to minorities.\r\n",
            "When you consider that home ownership has long been the prerequisite for the average American to acquire wealth, there is little wonder why white Americans have 22 times more wealth than blacks. That is not a card being played. That is math. And I'm tired of having to explain that.\r\n",
            "Just as I'm tired of watching the video of Eric Garner being placed in a chokehold by NYPD, listening to him say \"I can't breathe, I can't breathe\" and then watching him die minutes later.\r\n",
            "But I need to keep watching because apathy is a clever hunter. It cloaks itself with FBI statistics and slips into the system between runs to Starbucks. Then one day as you're sipping your grande decaf mocha, you see a headline about an unarmed black man being shot and killed by police and think nothing of it.\r\n",
            "Or worse yet -- assume he did something to deserve it.\r\n",
            "I'm tired of unarmed dead black people being put on trial. I'm tired of politicians visiting our churches for votes but skipping out on these funerals\r\n",
            "I'm tired of hearing mothers and fathers weep for children who did not have to die.\r\n",
            "But most of all I'm tired of the people who are not tired like me.\r\n",
            "\n",
            "Article summary: \n",
            "LZ Granderson: I'm tired of seeing African-Americans die as innocent, unarmed shooting victims.\r\n",
            "He says we've had enough of saying race isn't a factor and of ignoring racial disparities.\r\n",
            "Granderson: It's too easy for people to become apathetic and accept injustice.\r\n",
            "LZ: I'm tired of parents weeping for children who did not have to die.\r\n",
            "\n"
          ],
          "name": "stdout"
        }
      ]
    },
    {
      "cell_type": "markdown",
      "metadata": {
        "id": "4dJmzgg7CKfX"
      },
      "source": [
        "Some articles/summaries contain terms that need to be ignored in order to facilitate the summarizing learning task.\n",
        "\n",
        "We will include the deletion of these terms in a preprocessing/cleaning pipeline for the text and summary at the same time."
      ]
    },
    {
      "cell_type": "code",
      "metadata": {
        "id": "Ze5F1GE07erZ"
      },
      "source": [
        "with open('data/transformations.json') as f:\n",
        "  transformations = json.load(f)"
      ],
      "execution_count": null,
      "outputs": []
    },
    {
      "cell_type": "code",
      "metadata": {
        "id": "_Br-VjmrC7xN",
        "outputId": "5cea6827-bf6e-4f2b-eaba-bb9a95a41fa1",
        "colab": {
          "base_uri": "https://localhost:8080/"
        }
      },
      "source": [
        "#Example:\n",
        "article_text_example= data.loc[300,\"article_text\"]\n",
        "print(article_text_example)"
      ],
      "execution_count": null,
      "outputs": [
        {
          "output_type": "stream",
          "text": [
            "(CNN)In the gentle yet fiercely warm surrounds of the southern Ugandan countryside, Mwanja Banuli looks on as farmhands fill his truck with sugar cane.\r\n",
            "Packing this rough, woody crop is heavy going and making sure every inch of space is utilized is key.\r\n",
            "Transport costs money, after all, and this humble sugar farmer has lots of costs to consider.\r\n",
            "\"There are many challenges in this business,\" Banuli says. \"Rent for our land costs about $300 and then you need to pay people to clear the land.\r\n",
            "\"You have to hire a tractor for ploughing and tilling the land. When you add up all these expenses, it's a big investment.\"\r\n",
            "Searching for Sugarman\r\n",
            "In Uganda, sugar is big business.\r\n",
            "This particular batch is headed for Kakira Sugar Limited -- one of the country's oldest and largest factories.\r\n",
            "Kakira was founded by Muljibai Madhvani, an immigrant from the Indian subcontinent in the late 1920s.\r\n",
            "It's a company still going strong to this day.\r\n",
            "\"What you see in the background is the first mill that was installed in 1930 to crush only 150 tons of cane,\" explains Kenneth Barungi, assistant general manager of Kakira at the site of the company's nearby factory.\r\n",
            "\"(Kakira) started expanding every 10 years, every 20 years, modernizing, acquiring more land, introducing irrigation, expanding the crushing capacity. By (the 1970s) they were producing about 83,000 tons of sugar.\"\r\n",
            "\"That was about 50% of all the sugar produced in Uganda. At that time they (Kakira) contributed to about 53% of the national GDP... just because of manufacturing and industry,\" he added.\r\n",
            "Dawn of dictatorship\r\n",
            "It was at this time, however, that history intervened in the shape of one of the 20th century's most brutal rulers.\r\n",
            "After a military coup in 1971, army commander Idi Amin Dada seized power. The former heavyweight boxer made himself Uganda's president and a brutal dictatorship followed.\r\n",
            "The often erratic Amin praised Hitler and said the German dictator \"was right to burn six million Jews.\" He even bizarrely offered to be king of Scotland if asked.\r\n",
            "Within a year he had expelled the country's Asian population, numbering around 35,000.\r\n",
            "After almost 50 years, the Madhvanis were no longer welcome in Uganda.\r\n",
            "Those who stayed, did so at their own risk.\r\n",
            "\"When Idi Amin told every Asian to leave, they all left the country and went mainly to the UK,\" Barungi continued, adding that he believes this when Uganda began to economically fall apart.\r\n",
            "\"All industries collapsed, all international trade collapsed. There was no longer available foreign exchange to import machinery. Even if you imported the machinery you didn't have technical expertise here to run such industries.\"\r\n",
            "\"Within a few years Kakira Sugar Industries had collapsed, but so had infrastructure in Uganda. Social services, everything had collapsed.\"\r\n",
            "A new start\r\n",
            "After Idi Amin was deposed in 1979, however, some of the ejected population slowly started coming back to Uganda.\r\n",
            "Among the returnees were the Madhvanis. The country they left behind, however, was a very different place.\r\n",
            "\"The factory was a skeleton,\" Barungi said. \"There was no longer a sugar plantation, the houses were occupied by anybody. There was no business to run so it (the plantation) was just an empty shell.\"\r\n",
            "The Madhvanis quickly borrowed money from the World Bank and the African Development Bank and set about rebuilding their business.\r\n",
            "It has grown rapidly over the last 25 years and now produces 18,000 tons of sugar (a year), Barungi said.\r\n",
            "But the effects of the macabre, harrowing events of recent history still linger.\r\n",
            "A sweeter deal?\r\n",
            "Some reports suggest some black Ugandan workers resented how certain sections of the Indian mercantile class treated them.\r\n",
            "These days, however, Kakira says it strives to promote a responsible philosophy for how it interacts with its workers.\r\n",
            "Not only is this the right way to engage with people in its employ, they believe, it also improves productivity and staff mobility.\r\n",
            "Kakira has built schools and hospitals to cater for their staff and their families while the company has also founded the Kakira Outgrowers Rural Development Fund (KORD), an NGO that provides the likes of workshops, loans and other services for its contractors.\r\n",
            "Besides nearly 8,000 staff members, Kakira has almost as many contract workers in the shape of farmers, like Mwanja Banuli.\r\n",
            "They farm the lands neighboring the plantations and are contracted to Kakira, supplying 70% of its sugarcane needs.\r\n",
            "\"To be able to sustain business you want agricultural farmers, plantation workers, you want factory workers and the vision of Muljibhai Mudhvani was to develop human resources,\" Barungi said.\r\n",
            "This enlightened approach saw KORD awarded with a best NGO-business partnership award from the Ugandan Manufacturers Association.\r\n",
            "But it's the positive impact on individual lives that offers the biggest reward for many in the community.\r\n",
            "\"Before KORD I was just useless,\" said Beatrice Katende, who has received assistance from the body's programs. \"I used to work as a casual laborer for other people in the community digging in their gardens to get some income.\r\n",
            "\"When KORD came into existence we learned to farm, to save and how to be self-sufficient.\"\r\n",
            "Through offering a hand up to people like Katende, Kakira hope to help themselves as well as provide assistance to other areas of the local economy.\r\n",
            "\"The main vision was to always make sure that there is labor supply always available to work at the factory. The excess can go and work in other industries in the country,\" Barungi said.\r\n",
            "More from Marketplace Africa\r\n",
            "\n"
          ],
          "name": "stdout"
        }
      ]
    },
    {
      "cell_type": "code",
      "metadata": {
        "id": "4Bu5CoBsDSPt",
        "outputId": "b90680fd-bd59-424d-bc52-9b96a833a90b",
        "colab": {
          "base_uri": "https://localhost:8080/"
        }
      },
      "source": [
        "##apply cleaning function on article\n",
        "cleaned_article_text=clean_text(article_text_example, transformations)\n",
        "print(cleaned_article_text)"
      ],
      "execution_count": null,
      "outputs": [
        {
          "output_type": "stream",
          "text": [
            " cnn in the gentle yet fiercely warm surrounds of the southern ugandan countryside mwanja banuli looks on as farmhands fill his truck with sugar cane. packing this rough woody crop is heavy going and making sure every inch of space is utilized is key. transport costs money after all and this humble sugar farmer has lots of costs to consider. there are many challenges in this business banuli says. rent for our land costs about $300 and then you need to pay people to clear the land. you have to hire a tractor for ploughing and tilling the land. when you add up all these expenses it is a big investment. searching for sugarman in uganda sugar is big business. this particular batch is headed for kakira sugar limited one of the country's oldest and largest factories. kakira was founded by muljibai madhvani an immigrant from the indian subcontinent in the late 1920s. it's a company still going strong to this day. what you see in the background is the first mill that was installed in 1930 to crush only 150 tons of cane explains kenneth barungi assistant general manager of kakira at the site of the company's nearby factory. kakira started expanding every 10 years every 20 years modernizing acquiring more land introducing irrigation expanding the crushing capacity. by the 1970s they were producing about 83 000 tons of sugar. that was about 50% of all the sugar produced in uganda. at that time they kakira contributed to about 53% of the national gdp just because of manufacturing and industry he added. dawn of dictatorship it was at this time however that history intervened in the shape of one of the 20th century's most brutal rulers. after a military coup in 1971 army commander idi amin dada seized power. the former heavyweight boxer made himself uganda's president and a brutal dictatorship followed. the often erratic amin praised hitler and said the german dictator was right to burn six million jews. he even bizarrely offered to be king of scotland if asked. within a year he had expelled the country's asian population numbering around 35 000. after almost 50 years the madhvanis were no longer welcome in uganda. those who stayed did so at their own risk. when idi amin told every asian to leave they all left the country and went mainly to the uk barungi continued adding that he believes this when uganda began to economically fall apart. all industries collapsed all international trade collapsed. there was no longer available foreign exchange to import machinery. even if you imported the machinery you did not have technical expertise here to run such industries. within a few years kakira sugar industries had collapsed but so had infrastructure in uganda. social services everything had collapsed. a new start after idi amin was deposed in 1979 however some of the ejected population slowly started coming back to uganda. among the returnees were the madhvanis. the country they left behind however was a very different place. the factory was a skeleton barungi said. there was no longer a sugar plantation the houses were occupied by anybody. there was no business to run so it the plantation was just an empty shell. the madhvanis quickly borrowed money from the world bank and the african development bank and set about rebuilding their business. it has grown rapidly over the last 25 years and now produces 18 000 tons of sugar a year barungi said. but the effects of the macabre harrowing events of recent history still linger. a sweeter deal some reports suggest some black ugandan workers resented how certain sections of the indian mercantile class treated them. these days however kakira says it strives to promote a responsible philosophy for how it interacts with its workers. not only is this the right way to engage with people in its employ they believe it also improves productivity and staff mobility. kakira has built schools and hospitals to cater for their staff and their families while the company has also founded the kakira outgrowers rural development fund kord an ngo that provides the likes of workshops loans and other services for its contractors. besides nearly 8 000 staff members kakira has almost as many contract workers in the shape of farmers like mwanja banuli. they farm the lands neighboring the plantations and are contracted to kakira supplying 70% of its sugarcane needs. to be able to sustain business you want agricultural farmers plantation workers you want factory workers and the vision of muljibhai mudhvani was to develop human resources barungi said. this enlightened approach saw kord awarded with a best ngo-business partnership award from the ugandan manufacturers association. but it is the positive impact on individual lives that offers the biggest reward for many in the community. before kord i was just useless said beatrice katende who has received assistance from the body's programs. i used to work as a casual laborer for other people in the community digging in their gardens to get some income. when kord came into existence we learned to farm to save and how to be self-sufficient. through offering a hand up to people like katende kakira hope to help themselves as well as provide assistance to other areas of the local economy. the main vision was to always make sure that there is labor supply always available to work at the factory. the excess can go and work in other industries in the country barungi said. more from marketplace africa \n"
          ],
          "name": "stdout"
        }
      ]
    },
    {
      "cell_type": "markdown",
      "metadata": {
        "id": "sQc1zjQwlUd6"
      },
      "source": [
        "We will create a cleaned dataframe for each article containing:\n",
        "1. The article text\n",
        "2. The article summary\n",
        "3. The character counts for the Text and the Summary\n",
        "4. The sentence counts for the Text and the Summary\n",
        "5. The word counts for the Text and the Summary"
      ]
    },
    {
      "cell_type": "code",
      "metadata": {
        "id": "nXrDWBiXpeel",
        "outputId": "93248e60-553b-41ab-f319-c40f3ee5b3b6",
        "colab": {
          "base_uri": "https://localhost:8080/"
        }
      },
      "source": [
        "text_summarization_preprocessed_data= pd.DataFrame(\n",
        "  columns=['article_text','summary_text','article_character_count','article_word_count','article_sentence_count',\n",
        "           'summary_character_count','summary_word_count\tsummary_sentence_count'])\n",
        "t = time()\n",
        "#create pre-processed data\n",
        "text_summarization_preprocessed_data['article_text']= data[\"article_text\"].apply(lambda x: clean_text(x, \n",
        "                                                              transformations))\n",
        "\n",
        "text_summarization_preprocessed_data['summary_text']= data[\"summary_text\"].apply(lambda x: clean_text(x, \n",
        "                                                              transformations))\n",
        "\n",
        "print('Time to clean up articles and summaries: {} mins'.format(round((time() - t) / 60, 2)))\n"
      ],
      "execution_count": null,
      "outputs": [
        {
          "output_type": "stream",
          "text": [
            "[nltk_data] Downloading package punkt to /root/nltk_data...\n",
            "[nltk_data]   Package punkt is already up-to-date!\n",
            "Time to clean up articles and summaries: 1.94 mins\n"
          ],
          "name": "stdout"
        }
      ]
    },
    {
      "cell_type": "code",
      "metadata": {
        "id": "toDMDsXgBWph",
        "outputId": "e1b39a06-138a-4900-ace7-6f82b31a6fc5",
        "colab": {
          "base_uri": "https://localhost:8080/",
          "height": 496
        }
      },
      "source": [
        "#summarize the results\n",
        "text_summarization_preprocessed_data[\"article_character_count\"]= text_summarization_preprocessed_data.article_text.apply(len)\n",
        "text_summarization_preprocessed_data[\"article_word_count\"]= text_summarization_preprocessed_data.article_text.apply(num_tokens_without_punctuation)\n",
        "sentence_tokens= text_summarization_preprocessed_data.article_text.apply(sentence_tokenizer)\n",
        "text_summarization_preprocessed_data[\"article_sentence_count\"]=[element[1] for element in sentence_tokens]\n",
        "\n",
        "text_summarization_preprocessed_data[\"summary_character_count\"]= text_summarization_preprocessed_data.summary_text.apply(len)\n",
        "text_summarization_preprocessed_data[\"summary_word_count\"]= text_summarization_preprocessed_data.summary_text.apply(num_tokens_without_punctuation)\n",
        "sentence_tokens= text_summarization_preprocessed_data.summary_text.apply(sentence_tokenizer)\n",
        "text_summarization_preprocessed_data[\"summary_sentence_count\"]=[element[1] for element in sentence_tokens]\n",
        "text_summarization_preprocessed_data.head()"
      ],
      "execution_count": null,
      "outputs": [
        {
          "output_type": "execute_result",
          "data": {
            "text/html": [
              "<div>\n",
              "<style scoped>\n",
              "    .dataframe tbody tr th:only-of-type {\n",
              "        vertical-align: middle;\n",
              "    }\n",
              "\n",
              "    .dataframe tbody tr th {\n",
              "        vertical-align: top;\n",
              "    }\n",
              "\n",
              "    .dataframe thead th {\n",
              "        text-align: right;\n",
              "    }\n",
              "</style>\n",
              "<table border=\"1\" class=\"dataframe\">\n",
              "  <thead>\n",
              "    <tr style=\"text-align: right;\">\n",
              "      <th></th>\n",
              "      <th>article_text</th>\n",
              "      <th>summary_text</th>\n",
              "      <th>article_character_count</th>\n",
              "      <th>article_word_count</th>\n",
              "      <th>article_sentence_count</th>\n",
              "      <th>summary_character_count</th>\n",
              "      <th>summary_word_count\\tsummary_sentence_count</th>\n",
              "      <th>summary_word_count</th>\n",
              "      <th>summary_sentence_count</th>\n",
              "    </tr>\n",
              "  </thead>\n",
              "  <tbody>\n",
              "    <tr>\n",
              "      <th>0</th>\n",
              "      <td>usain bolt rounded off the world championships...</td>\n",
              "      <td>usain bolt wins third gold of world championsh...</td>\n",
              "      <td>3156</td>\n",
              "      <td>307</td>\n",
              "      <td>19</td>\n",
              "      <td>177</td>\n",
              "      <td>NaN</td>\n",
              "      <td>19</td>\n",
              "      <td>4</td>\n",
              "    </tr>\n",
              "    <tr>\n",
              "      <th>1</th>\n",
              "      <td>the general services administration already un...</td>\n",
              "      <td>the employee in agency's kansas city office is...</td>\n",
              "      <td>6080</td>\n",
              "      <td>546</td>\n",
              "      <td>39</td>\n",
              "      <td>234</td>\n",
              "      <td>NaN</td>\n",
              "      <td>21</td>\n",
              "      <td>2</td>\n",
              "    </tr>\n",
              "    <tr>\n",
              "      <th>2</th>\n",
              "      <td>a medical doctor in vancouver british columbia...</td>\n",
              "      <td>new: a canadian doctor says she was part of a ...</td>\n",
              "      <td>5715</td>\n",
              "      <td>529</td>\n",
              "      <td>37</td>\n",
              "      <td>315</td>\n",
              "      <td>NaN</td>\n",
              "      <td>35</td>\n",
              "      <td>3</td>\n",
              "    </tr>\n",
              "    <tr>\n",
              "      <th>3</th>\n",
              "      <td>police arrested another teen thursday the sixt...</td>\n",
              "      <td>another arrest made in gang rape outside calif...</td>\n",
              "      <td>1641</td>\n",
              "      <td>167</td>\n",
              "      <td>13</td>\n",
              "      <td>209</td>\n",
              "      <td>NaN</td>\n",
              "      <td>25</td>\n",
              "      <td>3</td>\n",
              "    </tr>\n",
              "    <tr>\n",
              "      <th>4</th>\n",
              "      <td>thousands on saturday fled the area in southwe...</td>\n",
              "      <td>humanitarian groups expect 4 000 refugees in o...</td>\n",
              "      <td>3427</td>\n",
              "      <td>309</td>\n",
              "      <td>25</td>\n",
              "      <td>215</td>\n",
              "      <td>NaN</td>\n",
              "      <td>20</td>\n",
              "      <td>3</td>\n",
              "    </tr>\n",
              "  </tbody>\n",
              "</table>\n",
              "</div>"
            ],
            "text/plain": [
              "                                        article_text  ... summary_sentence_count\n",
              "0  usain bolt rounded off the world championships...  ...                      4\n",
              "1  the general services administration already un...  ...                      2\n",
              "2  a medical doctor in vancouver british columbia...  ...                      3\n",
              "3  police arrested another teen thursday the sixt...  ...                      3\n",
              "4  thousands on saturday fled the area in southwe...  ...                      3\n",
              "\n",
              "[5 rows x 9 columns]"
            ]
          },
          "metadata": {
            "tags": []
          },
          "execution_count": 14
        }
      ]
    },
    {
      "cell_type": "code",
      "metadata": {
        "id": "S5Y5o3yCavgs"
      },
      "source": [
        "text_summarization_preprocessed_data.to_pickle(\"data/text_summarization_preprocessed_data.pkl\")\n",
        "with open('data/text_summarization_preprocessed_data.pkl', 'rb') as f:\n",
        "    text_summarization_preprocessed_data = pickle.load(f)"
      ],
      "execution_count": null,
      "outputs": []
    },
    {
      "cell_type": "markdown",
      "metadata": {
        "id": "AQcADBiy2DkV"
      },
      "source": [
        "## Distributions"
      ]
    },
    {
      "cell_type": "markdown",
      "metadata": {
        "id": "Sb5rOmAumIQw"
      },
      "source": [
        "We will plot the distribution of the different counts to verify if the summary keeps the overall shapes of the distributions."
      ]
    },
    {
      "cell_type": "code",
      "metadata": {
        "id": "PuSI3E18hi4J"
      },
      "source": [
        "df_char_counts=pd.DataFrame({\"Text_char\":text_summarization_preprocessed_data[\"article_character_count\"],\"Summary_char\":text_summarization_preprocessed_data[\"summary_character_count\"]})\n",
        "df_word_counts=pd.DataFrame({\"Text_word\":text_summarization_preprocessed_data[\"article_word_count\"],\"Summary_word\":text_summarization_preprocessed_data[\"summary_word_count\"]})\n",
        "df_sentence_counts=pd.DataFrame({\"Text_sentence\":text_summarization_preprocessed_data[\"article_sentence_count\"],\"Summary_sentebnce\":text_summarization_preprocessed_data[\"summary_sentence_count\"]})"
      ],
      "execution_count": null,
      "outputs": []
    },
    {
      "cell_type": "code",
      "metadata": {
        "id": "kd_lkk4G7V5r",
        "outputId": "505dcf80-f994-4698-8e4d-3ca8e489ec88",
        "colab": {
          "base_uri": "https://localhost:8080/",
          "height": 281
        }
      },
      "source": [
        "#chacter count distrubution over the articles and their summaries\n",
        "\n",
        "df_char_counts.hist(bins = 50)\n",
        "plt.show()"
      ],
      "execution_count": null,
      "outputs": [
        {
          "output_type": "display_data",
          "data": {
            "image/png": "[encoded data removed]",
            "text/plain": [
              "<Figure size 432x288 with 2 Axes>"
            ]
          },
          "metadata": {
            "tags": [],
            "needs_background": "light"
          }
        }
      ]
    },
    {
      "cell_type": "code",
      "metadata": {
        "id": "SdRdE4lC7hzB",
        "outputId": "e8972843-a83f-446c-d5fc-b2c9fc6264f2",
        "colab": {
          "base_uri": "https://localhost:8080/",
          "height": 281
        }
      },
      "source": [
        "#word count distrubution over the articles and their summaries\n",
        "df_word_counts.hist(bins = 50)\n",
        "plt.show()"
      ],
      "execution_count": null,
      "outputs": [
        {
          "output_type": "display_data",
          "data": {
            "image/png": "[encoded data removed]",
            "text/plain": [
              "<Figure size 432x288 with 2 Axes>"
            ]
          },
          "metadata": {
            "tags": [],
            "needs_background": "light"
          }
        }
      ]
    },
    {
      "cell_type": "code",
      "metadata": {
        "id": "qtUH5sZWFLv6",
        "outputId": "b2a50e34-19a5-490a-af72-961e4150225e",
        "colab": {
          "base_uri": "https://localhost:8080/",
          "height": 281
        }
      },
      "source": [
        "#sentence count distrubution over the articles and their summaries\n",
        "df_sentence_counts.hist(bins = 50)\n",
        "plt.show()"
      ],
      "execution_count": null,
      "outputs": [
        {
          "output_type": "display_data",
          "data": {
            "image/png": "[encoded data removed]",
            "text/plain": [
              "<Figure size 432x288 with 2 Axes>"
            ]
          },
          "metadata": {
            "tags": [],
            "needs_background": "light"
          }
        }
      ]
    },
    {
      "cell_type": "markdown",
      "metadata": {
        "id": "25kSHY56mYZP"
      },
      "source": [
        "The sentence counts have different distrubution shapes.\n",
        "Since each summary generally contains only a few sentences (2-7), it is normal to obtain such distribution."
      ]
    },
    {
      "cell_type": "code",
      "metadata": {
        "id": "Z1uqVupCG6x-"
      },
      "source": [
        ""
      ],
      "execution_count": null,
      "outputs": []
    },
    {
      "cell_type": "code",
      "metadata": {
        "id": "LbXSpq74HfLY",
        "outputId": "bb95d7ef-e282-40f8-b315-0d2f1c84fc6d",
        "colab": {
          "base_uri": "https://localhost:8080/",
          "height": 391
        }
      },
      "source": [
        "#create dictionnaries: tokens, lemma, stems\n",
        "stop_words=stopwords.words('english')\n",
        "lemmatizer= WordNetLemmatizer()\n",
        "stemmer= PorterStemmer()\n",
        "\n",
        "t=time()\n",
        "words_dict, stem_dict, lemma_dict=create_dictionaries(text_summarization_preprocessed_data[\"article_text\"])\n",
        "\n",
        "print('Total time for creating articles vocabulary: {:.2f} minutes'.format((time() - t)/60))\n",
        "\n",
        "t=time()\n",
        "words_summ_dict, stem_summ_dict, lemma_summ_dict=create_dictionaries(text_summarization_preprocessed_data[\"summary_text\"])\n",
        "\n",
        "print('Total time for creating summary vocabulary: {:.2f} minutes'.format((time() - t)/60))"
      ],
      "execution_count": null,
      "outputs": [
        {
          "output_type": "stream",
          "text": [
            "0 articles proceeeded\n",
            "10000 articles proceeeded\n",
            "20000 articles proceeeded\n",
            "30000 articles proceeeded\n",
            "40000 articles proceeeded\n",
            "50000 articles proceeeded\n",
            "60000 articles proceeeded\n",
            "70000 articles proceeeded\n",
            "80000 articles proceeeded\n",
            "90000 articles proceeeded\n",
            "Total time for creating articles vocabulary: 22.53 minutes\n",
            "0 articles proceeeded\n",
            "10000 articles proceeeded\n",
            "20000 articles proceeeded\n",
            "30000 articles proceeeded\n",
            "40000 articles proceeeded\n",
            "50000 articles proceeeded\n",
            "60000 articles proceeeded\n",
            "70000 articles proceeeded\n",
            "80000 articles proceeeded\n",
            "90000 articles proceeeded\n",
            "Total time for creating summary vocabulary: 1.81 minutes\n"
          ],
          "name": "stdout"
        }
      ]
    },
    {
      "cell_type": "code",
      "metadata": {
        "id": "7dPLUVufwFAo",
        "outputId": "25ef33d6-4afd-4392-9319-9a520e4f97b8",
        "colab": {
          "base_uri": "https://localhost:8080/",
          "height": 85
        }
      },
      "source": [
        "print('Tokens frequencies for the articles corpus:')\n",
        "print('Words: '+ str(len(words_dict)))\n",
        "print('stems: '+ str(len(stem_dict)))\n",
        "print('lemmas: '+str(len(lemma_dict)))"
      ],
      "execution_count": null,
      "outputs": [
        {
          "output_type": "stream",
          "text": [
            "Tokens frequencies for the articles corpus:\n",
            "Words: 331451\n",
            "stems: 260977\n",
            "lemmas: 313575\n"
          ],
          "name": "stdout"
        }
      ]
    },
    {
      "cell_type": "code",
      "metadata": {
        "id": "CFBXwLdShU1Y",
        "outputId": "260ad58a-19ae-4d9d-8531-a2de17dc6b48",
        "colab": {
          "base_uri": "https://localhost:8080/",
          "height": 85
        }
      },
      "source": [
        "print('Tokens frequencies for the summaries corpus:')\n",
        "print('Words: '+ str(len(words_summ_dict)))\n",
        "print('stems: '+ str(len(stem_summ_dict)))\n",
        "print('lemmas: '+str(len(lemma_summ_dict)))"
      ],
      "execution_count": null,
      "outputs": [
        {
          "output_type": "stream",
          "text": [
            "Tokens frequencies for the summaries corpus:\n",
            "Words: 89094\n",
            "stems: 65085\n",
            "lemmas: 80567\n"
          ],
          "name": "stdout"
        }
      ]
    },
    {
      "cell_type": "code",
      "metadata": {
        "id": "sW5pLJV_h48C"
      },
      "source": [
        "#save texts vocabularies\n",
        "with open(\"data/words_dict.pkl\", 'wb') as f:\n",
        "  pickle.dump(words_dict,f)\n",
        "with open(\"data/stems_dict.pkl\", 'wb') as f:\n",
        "  pickle.dump(stem_dict,f)\n",
        "with open(\"data/lemma_dict.pkl\", 'wb') as f:\n",
        "  pickle.dump(lemma_dict,f)\n",
        "\n",
        "#save summaries vocabularies\n",
        "with open(\"data/words_summ_dict.pkl\", 'wb') as f:\n",
        "  pickle.dump(words_summ_dict,f)\n",
        "with open(\"data/stems_summ_dict.pkl\", 'wb') as f:\n",
        "  pickle.dump(stem_summ_dict,f)\n",
        "with open(\"data/lemma_summ_dict.pkl\", 'wb') as f:\n",
        "  pickle.dump(lemma_summ_dict,f)"
      ],
      "execution_count": null,
      "outputs": []
    },
    {
      "cell_type": "code",
      "metadata": {
        "id": "lE2sQ3AVh4No"
      },
      "source": [
        "#load dictionnaries\n",
        "with open('data/words_dict.pkl', 'rb') as f:\n",
        "    words_dict = pickle.load(f)\n",
        "with open('data/stems_dict.pkl', 'rb') as f:\n",
        "    stems_dict = pickle.load(f)\n",
        "with open('data/lemma_dict.pkl', 'rb') as f:\n",
        "    lemma_dict = pickle.load(f)\n",
        "\n",
        "with open('data/words_summ_dict.pkl', 'rb') as f:\n",
        "    words_summ_dict = pickle.load(f)\n",
        "with open('data/stems_summ_dict.pkl', 'rb') as f:\n",
        "    stems_summ_dict = pickle.load(f)\n",
        "with open('data/lemma_summ_dict.pkl', 'rb') as f:\n",
        "    lemma_summ_dict = pickle.load(f)"
      ],
      "execution_count": null,
      "outputs": []
    },
    {
      "cell_type": "markdown",
      "metadata": {
        "id": "AjiqIpUOEgSv"
      },
      "source": [
        "Next, the most frequent terms, stems and lemmas for the articles and summaries are stored and ploted by sorting their frequencies."
      ]
    },
    {
      "cell_type": "code",
      "metadata": {
        "id": "ngxOUDx_ZXxp"
      },
      "source": [
        "freq_words_artciles= most_freq_terms(words_dict, n=15)\n",
        "freq_lemmas_artciles=most_freq_terms(lemma_dict, n=15)\n",
        "freq_stems_articles= most_freq_terms(stems_dict, n=15)\n",
        "freq_words_summaries =most_freq_terms(words_summ_dict, n=15)\n",
        "freq_lemmas_summaries=most_freq_terms(lemma_summ_dict, n=15)\n",
        "freq_stems_summaries= most_freq_terms(stems_summ_dict, n=15)"
      ],
      "execution_count": null,
      "outputs": []
    },
    {
      "cell_type": "code",
      "metadata": {
        "id": "_zTIps3M1dqP",
        "outputId": "2c03bf54-5d87-4e96-b26a-8ba64b638e9d",
        "colab": {
          "base_uri": "https://localhost:8080/",
          "height": 431
        }
      },
      "source": [
        "n=15\n",
        "plot_frequent_terms(words_dict, n,doc='Articles', term_='words')"
      ],
      "execution_count": null,
      "outputs": [
        {
          "output_type": "display_data",
          "data": {
            "image/png": "[encoded data removed]",
            "text/plain": [
              "<Figure size 864x432 with 1 Axes>"
            ]
          },
          "metadata": {
            "tags": [],
            "needs_background": "light"
          }
        }
      ]
    },
    {
      "cell_type": "code",
      "metadata": {
        "id": "2dWMOyg3z2fN",
        "outputId": "adcc8cca-08e4-4fd1-97b5-642dea30e05f",
        "colab": {
          "base_uri": "https://localhost:8080/",
          "height": 431
        }
      },
      "source": [
        "plot_frequent_terms(lemma_dict, n,doc='Articles', term_='Lemmas')"
      ],
      "execution_count": null,
      "outputs": [
        {
          "output_type": "display_data",
          "data": {
            "image/png": "[encoded data removed]",
            "text/plain": [
              "<Figure size 864x432 with 1 Axes>"
            ]
          },
          "metadata": {
            "tags": [],
            "needs_background": "light"
          }
        }
      ]
    },
    {
      "cell_type": "code",
      "metadata": {
        "id": "iPh_P0rX7DGB",
        "outputId": "f52c9dcf-3276-42e9-c2d4-4d411023b1f2",
        "colab": {
          "base_uri": "https://localhost:8080/",
          "height": 431
        }
      },
      "source": [
        "plot_frequent_terms(stems_dict, n,doc='Articles', term_='Stems')"
      ],
      "execution_count": null,
      "outputs": [
        {
          "output_type": "display_data",
          "data": {
            "image/png": "[encoded data removed]",
            "text/plain": [
              "<Figure size 864x432 with 1 Axes>"
            ]
          },
          "metadata": {
            "tags": [],
            "needs_background": "light"
          }
        }
      ]
    },
    {
      "cell_type": "code",
      "metadata": {
        "id": "1tQbgmz6A7pb",
        "outputId": "0b790a27-52c3-49e5-ee71-bd2c5c33064d",
        "colab": {
          "base_uri": "https://localhost:8080/",
          "height": 431
        }
      },
      "source": [
        "plot_frequent_terms(words_summ_dict, n,doc='Summaries', term_='Words')"
      ],
      "execution_count": null,
      "outputs": [
        {
          "output_type": "display_data",
          "data": {
            "image/png": "[encoded data removed]",
            "text/plain": [
              "<Figure size 864x432 with 1 Axes>"
            ]
          },
          "metadata": {
            "tags": [],
            "needs_background": "light"
          }
        }
      ]
    },
    {
      "cell_type": "code",
      "metadata": {
        "id": "Nx2ptWiQBIwE",
        "outputId": "64764995-668d-48af-a114-a46c71acd311",
        "colab": {
          "base_uri": "https://localhost:8080/",
          "height": 431
        }
      },
      "source": [
        "plot_frequent_terms(lemma_summ_dict, n,doc='Summaries', term_='Lemmas')"
      ],
      "execution_count": null,
      "outputs": [
        {
          "output_type": "display_data",
          "data": {
            "image/png": "[encoded data removed]",
            "text/plain": [
              "<Figure size 864x432 with 1 Axes>"
            ]
          },
          "metadata": {
            "tags": [],
            "needs_background": "light"
          }
        }
      ]
    },
    {
      "cell_type": "code",
      "metadata": {
        "id": "ymVYFs00BPAf",
        "outputId": "dd9cdae5-6e1c-4e0d-d614-b230a0234e8b",
        "colab": {
          "base_uri": "https://localhost:8080/",
          "height": 431
        }
      },
      "source": [
        "plot_frequent_terms(stems_summ_dict, n,doc='Summaries', term_='Stemmas')"
      ],
      "execution_count": null,
      "outputs": [
        {
          "output_type": "display_data",
          "data": {
            "image/png": "[encoded data removed]",
            "text/plain": [
              "<Figure size 864x432 with 1 Axes>"
            ]
          },
          "metadata": {
            "tags": [],
            "needs_background": "light"
          }
        }
      ]
    }
  ]
}
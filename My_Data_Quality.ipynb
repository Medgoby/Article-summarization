{
  "nbformat": 4,
  "nbformat_minor": 0,
  "metadata": {
    "colab": {
      "name": "My_Data_Quality.ipynb",
      "provenance": [],
      "collapsed_sections": [],
      "mount_file_id": "12ea-KUhQfxtaafRAlpDE9wfe9KEithXU",
      "authorship_tag": "ABX9TyPui1Ms+FceVsOL5+/E8n3P",
      "include_colab_link": true
    },
    "kernelspec": {
      "name": "python3",
      "display_name": "Python 3"
    }
  },
  "cells": [
    {
      "cell_type": "markdown",
      "metadata": {
        "id": "view-in-github",
        "colab_type": "text"
      },
      "source": [
        "<a href=\"https://colab.research.google.com/github/Medgoby/Article-summarization/blob/master/My_Data_Quality.ipynb\" target=\"_parent\"><img src=\"https://colab.research.google.com/assets/colab-badge.svg\" alt=\"Open In Colab\"/></a>"
      ]
    },
    {
      "cell_type": "code",
      "metadata": {
        "id": "mwGlCnKdmkeq",
        "colab": {
          "base_uri": "https://localhost:8080/",
          "height": 35
        },
        "outputId": "e2b4ee6c-dcac-487c-cc87-c7af9bceeb92"
      },
      "source": [
        "import pandas as pd\r\n",
        "pd.__version__"
      ],
      "execution_count": 1,
      "outputs": [
        {
          "output_type": "execute_result",
          "data": {
            "application/vnd.google.colaboratory.intrinsic+json": {
              "type": "string"
            },
            "text/plain": [
              "'1.1.5'"
            ]
          },
          "metadata": {
            "tags": []
          },
          "execution_count": 1
        }
      ]
    },
    {
      "cell_type": "code",
      "metadata": {
        "colab": {
          "base_uri": "https://localhost:8080/",
          "height": 235
        },
        "id": "2O2SIoCxCxzG",
        "outputId": "21c780cb-e3e7-4e06-b793-daa18e6599e8"
      },
      "source": [
        "list=[62,1,-5,34]\r\n",
        "min=[0]\r\n",
        "for e in list: \r\n",
        "  if e < min :\r\n",
        "    min=e\r\n",
        "print(min)"
      ],
      "execution_count": null,
      "outputs": [
        {
          "output_type": "error",
          "ename": "TypeError",
          "evalue": "ignored",
          "traceback": [
            "\u001b[0;31m---------------------------------------------------------------------------\u001b[0m",
            "\u001b[0;31mTypeError\u001b[0m                                 Traceback (most recent call last)",
            "\u001b[0;32m<ipython-input-7-1133cc466d5e>\u001b[0m in \u001b[0;36m<module>\u001b[0;34m()\u001b[0m\n\u001b[1;32m      2\u001b[0m \u001b[0mmin\u001b[0m\u001b[0;34m=\u001b[0m\u001b[0;34m[\u001b[0m\u001b[0;36m0\u001b[0m\u001b[0;34m]\u001b[0m\u001b[0;34m\u001b[0m\u001b[0;34m\u001b[0m\u001b[0m\n\u001b[1;32m      3\u001b[0m \u001b[0;32mfor\u001b[0m \u001b[0me\u001b[0m \u001b[0;32min\u001b[0m \u001b[0mlist\u001b[0m\u001b[0;34m:\u001b[0m\u001b[0;34m\u001b[0m\u001b[0;34m\u001b[0m\u001b[0m\n\u001b[0;32m----> 4\u001b[0;31m   \u001b[0;32mif\u001b[0m \u001b[0me\u001b[0m \u001b[0;34m<\u001b[0m \u001b[0mmin\u001b[0m \u001b[0;34m:\u001b[0m\u001b[0;34m\u001b[0m\u001b[0;34m\u001b[0m\u001b[0m\n\u001b[0m\u001b[1;32m      5\u001b[0m     \u001b[0mmin\u001b[0m\u001b[0;34m=\u001b[0m\u001b[0me\u001b[0m\u001b[0;34m\u001b[0m\u001b[0;34m\u001b[0m\u001b[0m\n\u001b[1;32m      6\u001b[0m \u001b[0mprint\u001b[0m\u001b[0;34m(\u001b[0m\u001b[0mmin\u001b[0m\u001b[0;34m)\u001b[0m\u001b[0;34m\u001b[0m\u001b[0;34m\u001b[0m\u001b[0m\n",
            "\u001b[0;31mTypeError\u001b[0m: '<' not supported between instances of 'int' and 'list'"
          ]
        }
      ]
    },
    {
      "cell_type": "code",
      "metadata": {
        "id": "3W6RfT2NDwAU"
      },
      "source": [
        ""
      ],
      "execution_count": null,
      "outputs": []
    },
    {
      "cell_type": "markdown",
      "metadata": {
        "id": "IV_19oICHKuA"
      },
      "source": [
        "## Lecture des fichiers"
      ]
    },
    {
      "cell_type": "code",
      "metadata": {
        "id": "8pLLaez1HUCL"
      },
      "source": [
        "filepath='https://bit.ly/world-cities-clean'"
      ],
      "execution_count": null,
      "outputs": []
    },
    {
      "cell_type": "code",
      "metadata": {
        "colab": {
          "base_uri": "https://localhost:8080/"
        },
        "id": "NxVa2q3LJcXo",
        "outputId": "61be0e73-72df-419d-c569-61cbd9e02fa5"
      },
      "source": [
        "print(filepath)"
      ],
      "execution_count": null,
      "outputs": [
        {
          "output_type": "stream",
          "text": [
            "https://bit.ly/world-cities-clean\n"
          ],
          "name": "stdout"
        }
      ]
    },
    {
      "cell_type": "code",
      "metadata": {
        "colab": {
          "base_uri": "https://localhost:8080/",
          "height": 202
        },
        "id": "J32sA6yQJljV",
        "outputId": "369858b7-5d56-4550-b7b5-dea4f13f0cc1"
      },
      "source": [
        "df=pd.read_csv(filepath)\r\n",
        "df.sample(5)"
      ],
      "execution_count": null,
      "outputs": [
        {
          "output_type": "execute_result",
          "data": {
            "text/html": [
              "<div>\n",
              "<style scoped>\n",
              "    .dataframe tbody tr th:only-of-type {\n",
              "        vertical-align: middle;\n",
              "    }\n",
              "\n",
              "    .dataframe tbody tr th {\n",
              "        vertical-align: top;\n",
              "    }\n",
              "\n",
              "    .dataframe thead th {\n",
              "        text-align: right;\n",
              "    }\n",
              "</style>\n",
              "<table border=\"1\" class=\"dataframe\">\n",
              "  <thead>\n",
              "    <tr style=\"text-align: right;\">\n",
              "      <th></th>\n",
              "      <th>name</th>\n",
              "      <th>country</th>\n",
              "      <th>subcountry</th>\n",
              "      <th>geonameid</th>\n",
              "    </tr>\n",
              "  </thead>\n",
              "  <tbody>\n",
              "    <tr>\n",
              "      <th>19377</th>\n",
              "      <td>Igunga</td>\n",
              "      <td>Tanzania</td>\n",
              "      <td>Tabora</td>\n",
              "      <td>159386</td>\n",
              "    </tr>\n",
              "    <tr>\n",
              "      <th>6540</th>\n",
              "      <td>Batī</td>\n",
              "      <td>Ethiopia</td>\n",
              "      <td>Amhara</td>\n",
              "      <td>342641</td>\n",
              "    </tr>\n",
              "    <tr>\n",
              "      <th>21951</th>\n",
              "      <td>Rosamond</td>\n",
              "      <td>United States</td>\n",
              "      <td>California</td>\n",
              "      <td>5388735</td>\n",
              "    </tr>\n",
              "    <tr>\n",
              "      <th>13195</th>\n",
              "      <td>Merke</td>\n",
              "      <td>Kazakhstan</td>\n",
              "      <td>Zhambyl</td>\n",
              "      <td>1520969</td>\n",
              "    </tr>\n",
              "    <tr>\n",
              "      <th>19120</th>\n",
              "      <td>İstanbul</td>\n",
              "      <td>Turkey</td>\n",
              "      <td>Istanbul</td>\n",
              "      <td>745044</td>\n",
              "    </tr>\n",
              "  </tbody>\n",
              "</table>\n",
              "</div>"
            ],
            "text/plain": [
              "           name        country  subcountry  geonameid\n",
              "19377    Igunga       Tanzania      Tabora     159386\n",
              "6540       Batī       Ethiopia      Amhara     342641\n",
              "21951  Rosamond  United States  California    5388735\n",
              "13195     Merke     Kazakhstan     Zhambyl    1520969\n",
              "19120  İstanbul         Turkey    Istanbul     745044"
            ]
          },
          "metadata": {
            "tags": []
          },
          "execution_count": 9
        }
      ]
    },
    {
      "cell_type": "code",
      "metadata": {
        "id": "ejjoKkOILoxo"
      },
      "source": [
        "fp='https://bit.ly/world-cities-dirty-v2'"
      ],
      "execution_count": null,
      "outputs": []
    },
    {
      "cell_type": "code",
      "metadata": {
        "colab": {
          "base_uri": "https://localhost:8080/"
        },
        "id": "diUHSWheO-bH",
        "outputId": "6bb0de41-fff0-454e-821f-1bc89ab75b72"
      },
      "source": [
        "print(fp)"
      ],
      "execution_count": null,
      "outputs": [
        {
          "output_type": "stream",
          "text": [
            "https://bit.ly/world-cities-dirty-v2\n"
          ],
          "name": "stdout"
        }
      ]
    },
    {
      "cell_type": "code",
      "metadata": {
        "colab": {
          "base_uri": "https://localhost:8080/",
          "height": 341
        },
        "id": "Wp0_umbiPD3-",
        "outputId": "6bfeb7f0-7dff-4b1e-ed74-8cd3f925eb0f"
      },
      "source": [
        "df=pd.read_csv(fp)\r\n",
        "df.sample(5)"
      ],
      "execution_count": null,
      "outputs": [
        {
          "output_type": "execute_result",
          "data": {
            "text/html": [
              "<div>\n",
              "<style scoped>\n",
              "    .dataframe tbody tr th:only-of-type {\n",
              "        vertical-align: middle;\n",
              "    }\n",
              "\n",
              "    .dataframe tbody tr th {\n",
              "        vertical-align: top;\n",
              "    }\n",
              "\n",
              "    .dataframe thead th {\n",
              "        text-align: right;\n",
              "    }\n",
              "</style>\n",
              "<table border=\"1\" class=\"dataframe\">\n",
              "  <thead>\n",
              "    <tr style=\"text-align: right;\">\n",
              "      <th></th>\n",
              "      <th></th>\n",
              "      <th></th>\n",
              "      <th></th>\n",
              "      <th></th>\n",
              "      <th></th>\n",
              "      <th>Lorem ipsum dolor sit amet</th>\n",
              "      <th>consectetur adipiscing elit</th>\n",
              "      <th>sed do eiusmod tempor incididunt ut labore et dolore magna aliqua. Ut enim ad minim veniam</th>\n",
              "      <th>quis nostrud exercitation ullamco laboris nisi ut aliquip ex ea commodo consequat. Duis aute irure dolor in reprehenderit in voluptate velit esse cillum dolore eu fugiat nulla pariatur. Excepteur sint occaecat cupidatat non proident</th>\n",
              "      <th>sunt in culpa qui officia deserunt mollit anim id est laborum.</th>\n",
              "    </tr>\n",
              "  </thead>\n",
              "  <tbody>\n",
              "    <tr>\n",
              "      <th>South Jordan Heights</th>\n",
              "      <th>United States</th>\n",
              "      <th>Utah</th>\n",
              "      <th>5781765</th>\n",
              "      <th>NaN</th>\n",
              "      <th>NaN</th>\n",
              "      <td>NaN</td>\n",
              "      <td>NaN</td>\n",
              "      <td>NaN</td>\n",
              "      <td>NaN</td>\n",
              "      <td>NaN</td>\n",
              "    </tr>\n",
              "    <tr>\n",
              "      <th>Eltville</th>\n",
              "      <th>Germany</th>\n",
              "      <th>Hesse</th>\n",
              "      <th>2930646</th>\n",
              "      <th>NaN</th>\n",
              "      <th>NaN</th>\n",
              "      <td>NaN</td>\n",
              "      <td>NaN</td>\n",
              "      <td>NaN</td>\n",
              "      <td>NaN</td>\n",
              "      <td>NaN</td>\n",
              "    </tr>\n",
              "    <tr>\n",
              "      <th>Maarssen</th>\n",
              "      <th>Netherlands</th>\n",
              "      <th>Utrecht</th>\n",
              "      <th>2751316</th>\n",
              "      <th>NaN</th>\n",
              "      <th>NaN</th>\n",
              "      <td>NaN</td>\n",
              "      <td>NaN</td>\n",
              "      <td>NaN</td>\n",
              "      <td>NaN</td>\n",
              "      <td>NaN</td>\n",
              "    </tr>\n",
              "    <tr>\n",
              "      <th>Gurupi</th>\n",
              "      <th>Brazil</th>\n",
              "      <th>Tocantins</th>\n",
              "      <th>3461724</th>\n",
              "      <th>NaN</th>\n",
              "      <th>NaN</th>\n",
              "      <td>NaN</td>\n",
              "      <td>NaN</td>\n",
              "      <td>NaN</td>\n",
              "      <td>NaN</td>\n",
              "      <td>NaN</td>\n",
              "    </tr>\n",
              "    <tr>\n",
              "      <th>Mahanje</th>\n",
              "      <th>Tanzania</th>\n",
              "      <th>Ruvuma</th>\n",
              "      <th>155285</th>\n",
              "      <th>NaN</th>\n",
              "      <th>NaN</th>\n",
              "      <td>NaN</td>\n",
              "      <td>NaN</td>\n",
              "      <td>NaN</td>\n",
              "      <td>NaN</td>\n",
              "      <td>NaN</td>\n",
              "    </tr>\n",
              "  </tbody>\n",
              "</table>\n",
              "</div>"
            ],
            "text/plain": [
              "                                                             Lorem ipsum dolor sit amet  ...  sunt in culpa qui officia deserunt mollit anim id est laborum.\n",
              "South Jordan Heights United States Utah      5781765 NaN NaN                        NaN  ...                                                NaN             \n",
              "Eltville             Germany       Hesse     2930646 NaN NaN                        NaN  ...                                                NaN             \n",
              "Maarssen             Netherlands   Utrecht   2751316 NaN NaN                        NaN  ...                                                NaN             \n",
              "Gurupi               Brazil        Tocantins 3461724 NaN NaN                        NaN  ...                                                NaN             \n",
              "Mahanje              Tanzania      Ruvuma    155285  NaN NaN                        NaN  ...                                                NaN             \n",
              "\n",
              "[5 rows x 5 columns]"
            ]
          },
          "metadata": {
            "tags": []
          },
          "execution_count": 18
        }
      ]
    },
    {
      "cell_type": "code",
      "metadata": {
        "colab": {
          "base_uri": "https://localhost:8080/",
          "height": 257
        },
        "id": "KCvHvBvhPukI",
        "outputId": "73ce0e3a-96ef-4ea8-f3f8-04c16390aa5d"
      },
      "source": [
        "df=pd.read_csv(fp,\r\n",
        "               skiprows=2, #enlève les deux prémières lignes\r\n",
        "               skipfooter=1) #enlève la dernière ligne\r\n",
        "df.sample(5)"
      ],
      "execution_count": null,
      "outputs": [
        {
          "output_type": "stream",
          "text": [
            "/usr/local/lib/python3.6/dist-packages/ipykernel_launcher.py:3: ParserWarning: Falling back to the 'python' engine because the 'c' engine does not support skipfooter; you can avoid this warning by specifying engine='python'.\n",
            "  This is separate from the ipykernel package so we can avoid doing imports until\n"
          ],
          "name": "stderr"
        },
        {
          "output_type": "execute_result",
          "data": {
            "text/html": [
              "<div>\n",
              "<style scoped>\n",
              "    .dataframe tbody tr th:only-of-type {\n",
              "        vertical-align: middle;\n",
              "    }\n",
              "\n",
              "    .dataframe tbody tr th {\n",
              "        vertical-align: top;\n",
              "    }\n",
              "\n",
              "    .dataframe thead th {\n",
              "        text-align: right;\n",
              "    }\n",
              "</style>\n",
              "<table border=\"1\" class=\"dataframe\">\n",
              "  <thead>\n",
              "    <tr style=\"text-align: right;\">\n",
              "      <th></th>\n",
              "      <th>name</th>\n",
              "      <th>country</th>\n",
              "      <th>subcountry</th>\n",
              "      <th>geonameid</th>\n",
              "    </tr>\n",
              "  </thead>\n",
              "  <tbody>\n",
              "    <tr>\n",
              "      <th>22296</th>\n",
              "      <td>Frederickson</td>\n",
              "      <td>United States</td>\n",
              "      <td>Washington</td>\n",
              "      <td>5795011</td>\n",
              "    </tr>\n",
              "    <tr>\n",
              "      <th>11171</th>\n",
              "      <td>Mohali</td>\n",
              "      <td>India</td>\n",
              "      <td>Punjab</td>\n",
              "      <td>6992326</td>\n",
              "    </tr>\n",
              "    <tr>\n",
              "      <th>5298</th>\n",
              "      <td>Altglienicke</td>\n",
              "      <td>Germany</td>\n",
              "      <td>Berlin</td>\n",
              "      <td>2957185</td>\n",
              "    </tr>\n",
              "    <tr>\n",
              "      <th>20862</th>\n",
              "      <td>Wheeling</td>\n",
              "      <td>United States</td>\n",
              "      <td>Illinois</td>\n",
              "      <td>4916311</td>\n",
              "    </tr>\n",
              "    <tr>\n",
              "      <th>16527</th>\n",
              "      <td>Torres Vedras</td>\n",
              "      <td>Portugal</td>\n",
              "      <td>Lisbon</td>\n",
              "      <td>2262581</td>\n",
              "    </tr>\n",
              "  </tbody>\n",
              "</table>\n",
              "</div>"
            ],
            "text/plain": [
              "                name        country  subcountry  geonameid\n",
              "22296   Frederickson  United States  Washington    5795011\n",
              "11171         Mohali          India      Punjab    6992326\n",
              "5298    Altglienicke        Germany      Berlin    2957185\n",
              "20862       Wheeling  United States    Illinois    4916311\n",
              "16527  Torres Vedras       Portugal      Lisbon    2262581"
            ]
          },
          "metadata": {
            "tags": []
          },
          "execution_count": 21
        }
      ]
    },
    {
      "cell_type": "code",
      "metadata": {
        "colab": {
          "base_uri": "https://localhost:8080/"
        },
        "id": "VowG1ALLQaae",
        "outputId": "eb838003-b334-4574-b035-3135b709eb7d"
      },
      "source": [
        "df.shape"
      ],
      "execution_count": null,
      "outputs": [
        {
          "output_type": "execute_result",
          "data": {
            "text/plain": [
              "(23018, 4)"
            ]
          },
          "metadata": {
            "tags": []
          },
          "execution_count": 22
        }
      ]
    },
    {
      "cell_type": "code",
      "metadata": {
        "colab": {
          "base_uri": "https://localhost:8080/"
        },
        "id": "7Z-i7ahKRL_f",
        "outputId": "9fd3780c-7418-4096-f7bd-47212adfa284"
      },
      "source": [
        "fp='https://bit.ly/world-cities-dirty-v3'\r\n",
        "print(fp)"
      ],
      "execution_count": null,
      "outputs": [
        {
          "output_type": "stream",
          "text": [
            "https://bit.ly/world-cities-dirty-v3\n"
          ],
          "name": "stdout"
        }
      ]
    },
    {
      "cell_type": "code",
      "metadata": {
        "colab": {
          "base_uri": "https://localhost:8080/",
          "height": 202
        },
        "id": "a_J6MjfmSXE7",
        "outputId": "3e7b8352-ff13-4b10-8512-9e9a65a712e6"
      },
      "source": [
        "df=pd.read_csv(fp, names=['names','country','subcountry','geonameid'],\r\n",
        "               sep='|')\r\n",
        "df.head()"
      ],
      "execution_count": null,
      "outputs": [
        {
          "output_type": "execute_result",
          "data": {
            "text/html": [
              "<div>\n",
              "<style scoped>\n",
              "    .dataframe tbody tr th:only-of-type {\n",
              "        vertical-align: middle;\n",
              "    }\n",
              "\n",
              "    .dataframe tbody tr th {\n",
              "        vertical-align: top;\n",
              "    }\n",
              "\n",
              "    .dataframe thead th {\n",
              "        text-align: right;\n",
              "    }\n",
              "</style>\n",
              "<table border=\"1\" class=\"dataframe\">\n",
              "  <thead>\n",
              "    <tr style=\"text-align: right;\">\n",
              "      <th></th>\n",
              "      <th>names</th>\n",
              "      <th>country</th>\n",
              "      <th>subcountry</th>\n",
              "      <th>geonameid</th>\n",
              "    </tr>\n",
              "  </thead>\n",
              "  <tbody>\n",
              "    <tr>\n",
              "      <th>0</th>\n",
              "      <td>les Escaldes</td>\n",
              "      <td>Andorra</td>\n",
              "      <td>Escaldes-Engordany</td>\n",
              "      <td>3040051</td>\n",
              "    </tr>\n",
              "    <tr>\n",
              "      <th>1</th>\n",
              "      <td>Andorra la Vella</td>\n",
              "      <td>Andorra</td>\n",
              "      <td>Andorra la Vella</td>\n",
              "      <td>3041563</td>\n",
              "    </tr>\n",
              "    <tr>\n",
              "      <th>2</th>\n",
              "      <td>Umm al Qaywayn</td>\n",
              "      <td>United Arab Emirates</td>\n",
              "      <td>Umm al Qaywayn</td>\n",
              "      <td>290594</td>\n",
              "    </tr>\n",
              "    <tr>\n",
              "      <th>3</th>\n",
              "      <td>Ras al-Khaimah</td>\n",
              "      <td>United Arab Emirates</td>\n",
              "      <td>Raʼs al Khaymah</td>\n",
              "      <td>291074</td>\n",
              "    </tr>\n",
              "    <tr>\n",
              "      <th>4</th>\n",
              "      <td>Khawr Fakkān</td>\n",
              "      <td>United Arab Emirates</td>\n",
              "      <td>Ash Shāriqah</td>\n",
              "      <td>291696</td>\n",
              "    </tr>\n",
              "  </tbody>\n",
              "</table>\n",
              "</div>"
            ],
            "text/plain": [
              "              names               country          subcountry  geonameid\n",
              "0      les Escaldes               Andorra  Escaldes-Engordany    3040051\n",
              "1  Andorra la Vella               Andorra    Andorra la Vella    3041563\n",
              "2    Umm al Qaywayn  United Arab Emirates      Umm al Qaywayn     290594\n",
              "3    Ras al-Khaimah  United Arab Emirates     Raʼs al Khaymah     291074\n",
              "4      Khawr Fakkān  United Arab Emirates        Ash Shāriqah     291696"
            ]
          },
          "metadata": {
            "tags": []
          },
          "execution_count": 28
        }
      ]
    },
    {
      "cell_type": "code",
      "metadata": {
        "colab": {
          "base_uri": "https://localhost:8080/"
        },
        "id": "KZ1LDn37SpfZ",
        "outputId": "3e5ae517-fd9b-4802-a22c-5b6bfd362afe"
      },
      "source": [
        "fp='https://bit.ly/bitcoin-data'\r\n",
        "print(fp)"
      ],
      "execution_count": null,
      "outputs": [
        {
          "output_type": "stream",
          "text": [
            "https://bit.ly/bitcoin-data\n"
          ],
          "name": "stdout"
        }
      ]
    },
    {
      "cell_type": "code",
      "metadata": {
        "colab": {
          "base_uri": "https://localhost:8080/",
          "height": 257
        },
        "id": "PHZkzbWRV_zQ",
        "outputId": "ba64d763-33a7-4eea-bf6e-85acaf6365f9"
      },
      "source": [
        "df=pd.read_csv(fp,\r\n",
        "               skipfooter=2) \r\n",
        "df.sample(5)"
      ],
      "execution_count": null,
      "outputs": [
        {
          "output_type": "stream",
          "text": [
            "/usr/local/lib/python3.6/dist-packages/ipykernel_launcher.py:2: ParserWarning: Falling back to the 'python' engine because the 'c' engine does not support skipfooter; you can avoid this warning by specifying engine='python'.\n",
            "  \n"
          ],
          "name": "stderr"
        },
        {
          "output_type": "execute_result",
          "data": {
            "text/html": [
              "<div>\n",
              "<style scoped>\n",
              "    .dataframe tbody tr th:only-of-type {\n",
              "        vertical-align: middle;\n",
              "    }\n",
              "\n",
              "    .dataframe tbody tr th {\n",
              "        vertical-align: top;\n",
              "    }\n",
              "\n",
              "    .dataframe thead th {\n",
              "        text-align: right;\n",
              "    }\n",
              "</style>\n",
              "<table border=\"1\" class=\"dataframe\">\n",
              "  <thead>\n",
              "    <tr style=\"text-align: right;\">\n",
              "      <th></th>\n",
              "      <th>Date</th>\n",
              "      <th>Open*</th>\n",
              "      <th>High</th>\n",
              "      <th>Low</th>\n",
              "      <th>Close**</th>\n",
              "      <th>Volume</th>\n",
              "      <th>Market Cap</th>\n",
              "    </tr>\n",
              "  </thead>\n",
              "  <tbody>\n",
              "    <tr>\n",
              "      <th>25</th>\n",
              "      <td>Dec 20 2019</td>\n",
              "      <td>7208.64</td>\n",
              "      <td>7257.92</td>\n",
              "      <td>7086.12</td>\n",
              "      <td>7218.82</td>\n",
              "      <td>22633815180</td>\n",
              "      <td>130752796980</td>\n",
              "    </tr>\n",
              "    <tr>\n",
              "      <th>14</th>\n",
              "      <td>Dec 31 2019</td>\n",
              "      <td>7294.44</td>\n",
              "      <td>7335.29</td>\n",
              "      <td>7169.78</td>\n",
              "      <td>7193.60</td>\n",
              "      <td>21167946112</td>\n",
              "      <td>130446112598</td>\n",
              "    </tr>\n",
              "    <tr>\n",
              "      <th>16</th>\n",
              "      <td>Dec 29 2019</td>\n",
              "      <td>7317.65</td>\n",
              "      <td>7513.95</td>\n",
              "      <td>7279.87</td>\n",
              "      <td>7422.65</td>\n",
              "      <td>22445257702</td>\n",
              "      <td>134570835775</td>\n",
              "    </tr>\n",
              "    <tr>\n",
              "      <th>28</th>\n",
              "      <td>Dec 17 2019</td>\n",
              "      <td>6931.32</td>\n",
              "      <td>6964.07</td>\n",
              "      <td>6587.97</td>\n",
              "      <td>6640.52</td>\n",
              "      <td>22363804217</td>\n",
              "      <td>120234244809</td>\n",
              "    </tr>\n",
              "    <tr>\n",
              "      <th>7</th>\n",
              "      <td>Jan 07 2020</td>\n",
              "      <td>7768.68</td>\n",
              "      <td>8178.22</td>\n",
              "      <td>7768.23</td>\n",
              "      <td>8163.69</td>\n",
              "      <td>28767291327</td>\n",
              "      <td>148152237654</td>\n",
              "    </tr>\n",
              "  </tbody>\n",
              "</table>\n",
              "</div>"
            ],
            "text/plain": [
              "           Date    Open*     High      Low  Close**       Volume    Market Cap\n",
              "25  Dec 20 2019  7208.64  7257.92  7086.12  7218.82  22633815180  130752796980\n",
              "14  Dec 31 2019  7294.44  7335.29  7169.78  7193.60  21167946112  130446112598\n",
              "16  Dec 29 2019  7317.65  7513.95  7279.87  7422.65  22445257702  134570835775\n",
              "28  Dec 17 2019  6931.32  6964.07  6587.97  6640.52  22363804217  120234244809\n",
              "7   Jan 07 2020  7768.68  8178.22  7768.23  8163.69  28767291327  148152237654"
            ]
          },
          "metadata": {
            "tags": []
          },
          "execution_count": 31
        }
      ]
    },
    {
      "cell_type": "code",
      "metadata": {
        "colab": {
          "base_uri": "https://localhost:8080/"
        },
        "id": "Wq4tgW7-WVr1",
        "outputId": "27fd1fc1-0d7d-4294-a55a-e7e2767b4f04"
      },
      "source": [
        "df.isna().sum()"
      ],
      "execution_count": null,
      "outputs": [
        {
          "output_type": "execute_result",
          "data": {
            "text/plain": [
              "Date          0\n",
              "Open*         0\n",
              "High          0\n",
              "Low           0\n",
              "Close**       0\n",
              "Volume        0\n",
              "Market Cap    0\n",
              "dtype: int64"
            ]
          },
          "metadata": {
            "tags": []
          },
          "execution_count": 32
        }
      ]
    },
    {
      "cell_type": "code",
      "metadata": {
        "colab": {
          "base_uri": "https://localhost:8080/",
          "height": 202
        },
        "id": "aD7_zk8gYMZh",
        "outputId": "925aad7a-10fd-42f7-9ee0-a343beb7d214"
      },
      "source": [
        "df.rename(columns={'Open*':'Open', 'Close**':'Close'}, inplace=True)\r\n",
        "df.head()"
      ],
      "execution_count": null,
      "outputs": [
        {
          "output_type": "execute_result",
          "data": {
            "text/html": [
              "<div>\n",
              "<style scoped>\n",
              "    .dataframe tbody tr th:only-of-type {\n",
              "        vertical-align: middle;\n",
              "    }\n",
              "\n",
              "    .dataframe tbody tr th {\n",
              "        vertical-align: top;\n",
              "    }\n",
              "\n",
              "    .dataframe thead th {\n",
              "        text-align: right;\n",
              "    }\n",
              "</style>\n",
              "<table border=\"1\" class=\"dataframe\">\n",
              "  <thead>\n",
              "    <tr style=\"text-align: right;\">\n",
              "      <th></th>\n",
              "      <th>Date</th>\n",
              "      <th>Open</th>\n",
              "      <th>High</th>\n",
              "      <th>Low</th>\n",
              "      <th>Close</th>\n",
              "      <th>Volume</th>\n",
              "      <th>Market Cap</th>\n",
              "    </tr>\n",
              "  </thead>\n",
              "  <tbody>\n",
              "    <tr>\n",
              "      <th>0</th>\n",
              "      <td>Jan 14 2020</td>\n",
              "      <td>8140.93</td>\n",
              "      <td>8879.51</td>\n",
              "      <td>8140.93</td>\n",
              "      <td>8827.76</td>\n",
              "      <td>44841784107</td>\n",
              "      <td>160319484883</td>\n",
              "    </tr>\n",
              "    <tr>\n",
              "      <th>1</th>\n",
              "      <td>Jan 13 2020</td>\n",
              "      <td>8189.77</td>\n",
              "      <td>8197.79</td>\n",
              "      <td>8079.70</td>\n",
              "      <td>8144.19</td>\n",
              "      <td>22482910688</td>\n",
              "      <td>147890525973</td>\n",
              "    </tr>\n",
              "    <tr>\n",
              "      <th>2</th>\n",
              "      <td>Jan 12 2020</td>\n",
              "      <td>8033.26</td>\n",
              "      <td>8200.06</td>\n",
              "      <td>8009.06</td>\n",
              "      <td>8192.49</td>\n",
              "      <td>22903438381</td>\n",
              "      <td>148752956966</td>\n",
              "    </tr>\n",
              "    <tr>\n",
              "      <th>3</th>\n",
              "      <td>Jan 11 2020</td>\n",
              "      <td>8162.19</td>\n",
              "      <td>8218.36</td>\n",
              "      <td>8029.64</td>\n",
              "      <td>8037.54</td>\n",
              "      <td>25521165085</td>\n",
              "      <td>145924199942</td>\n",
              "    </tr>\n",
              "    <tr>\n",
              "      <th>4</th>\n",
              "      <td>Jan 10 2020</td>\n",
              "      <td>7878.31</td>\n",
              "      <td>8166.55</td>\n",
              "      <td>7726.77</td>\n",
              "      <td>8166.55</td>\n",
              "      <td>28714583844</td>\n",
              "      <td>148249907277</td>\n",
              "    </tr>\n",
              "  </tbody>\n",
              "</table>\n",
              "</div>"
            ],
            "text/plain": [
              "          Date     Open     High      Low    Close       Volume    Market Cap\n",
              "0  Jan 14 2020  8140.93  8879.51  8140.93  8827.76  44841784107  160319484883\n",
              "1  Jan 13 2020  8189.77  8197.79  8079.70  8144.19  22482910688  147890525973\n",
              "2  Jan 12 2020  8033.26  8200.06  8009.06  8192.49  22903438381  148752956966\n",
              "3  Jan 11 2020  8162.19  8218.36  8029.64  8037.54  25521165085  145924199942\n",
              "4  Jan 10 2020  7878.31  8166.55  7726.77  8166.55  28714583844  148249907277"
            ]
          },
          "metadata": {
            "tags": []
          },
          "execution_count": 36
        }
      ]
    },
    {
      "cell_type": "code",
      "metadata": {
        "id": "L65QttVUYUAg"
      },
      "source": [
        "#Création d'une fonction permettant de remplacer les espaces par un tirêt du 8\r\n",
        "def SansEspace (s):\r\n",
        "  return s.replace (' ', '_')"
      ],
      "execution_count": null,
      "outputs": []
    },
    {
      "cell_type": "code",
      "metadata": {
        "colab": {
          "base_uri": "https://localhost:8080/",
          "height": 35
        },
        "id": "ojOlx-LklhJN",
        "outputId": "011c2a5d-0392-4c35-b00a-4f60e0ce0d93"
      },
      "source": [
        "#Essayer la fonction\r\n",
        "SansEspace('Barry Mohamed')"
      ],
      "execution_count": null,
      "outputs": [
        {
          "output_type": "execute_result",
          "data": {
            "application/vnd.google.colaboratory.intrinsic+json": {
              "type": "string"
            },
            "text/plain": [
              "'Barry_Mohamed'"
            ]
          },
          "metadata": {
            "tags": []
          },
          "execution_count": 39
        }
      ]
    },
    {
      "cell_type": "code",
      "metadata": {
        "colab": {
          "base_uri": "https://localhost:8080/",
          "height": 999
        },
        "id": "xt6nGTO1lnr4",
        "outputId": "08c192d7-f01c-4452-c72c-9de8a295ebf4"
      },
      "source": [
        "#Appliquer sur le DataFrame\r\n",
        "df.rename(SansEspace,\r\n",
        "          axis='columns')"
      ],
      "execution_count": null,
      "outputs": [
        {
          "output_type": "execute_result",
          "data": {
            "text/html": [
              "<div>\n",
              "<style scoped>\n",
              "    .dataframe tbody tr th:only-of-type {\n",
              "        vertical-align: middle;\n",
              "    }\n",
              "\n",
              "    .dataframe tbody tr th {\n",
              "        vertical-align: top;\n",
              "    }\n",
              "\n",
              "    .dataframe thead th {\n",
              "        text-align: right;\n",
              "    }\n",
              "</style>\n",
              "<table border=\"1\" class=\"dataframe\">\n",
              "  <thead>\n",
              "    <tr style=\"text-align: right;\">\n",
              "      <th></th>\n",
              "      <th>Date</th>\n",
              "      <th>Open</th>\n",
              "      <th>High</th>\n",
              "      <th>Low</th>\n",
              "      <th>Close</th>\n",
              "      <th>Volume</th>\n",
              "      <th>Market_Cap</th>\n",
              "    </tr>\n",
              "  </thead>\n",
              "  <tbody>\n",
              "    <tr>\n",
              "      <th>0</th>\n",
              "      <td>Jan 14 2020</td>\n",
              "      <td>8140.93</td>\n",
              "      <td>8879.51</td>\n",
              "      <td>8140.93</td>\n",
              "      <td>8827.76</td>\n",
              "      <td>44841784107</td>\n",
              "      <td>160319484883</td>\n",
              "    </tr>\n",
              "    <tr>\n",
              "      <th>1</th>\n",
              "      <td>Jan 13 2020</td>\n",
              "      <td>8189.77</td>\n",
              "      <td>8197.79</td>\n",
              "      <td>8079.70</td>\n",
              "      <td>8144.19</td>\n",
              "      <td>22482910688</td>\n",
              "      <td>147890525973</td>\n",
              "    </tr>\n",
              "    <tr>\n",
              "      <th>2</th>\n",
              "      <td>Jan 12 2020</td>\n",
              "      <td>8033.26</td>\n",
              "      <td>8200.06</td>\n",
              "      <td>8009.06</td>\n",
              "      <td>8192.49</td>\n",
              "      <td>22903438381</td>\n",
              "      <td>148752956966</td>\n",
              "    </tr>\n",
              "    <tr>\n",
              "      <th>3</th>\n",
              "      <td>Jan 11 2020</td>\n",
              "      <td>8162.19</td>\n",
              "      <td>8218.36</td>\n",
              "      <td>8029.64</td>\n",
              "      <td>8037.54</td>\n",
              "      <td>25521165085</td>\n",
              "      <td>145924199942</td>\n",
              "    </tr>\n",
              "    <tr>\n",
              "      <th>4</th>\n",
              "      <td>Jan 10 2020</td>\n",
              "      <td>7878.31</td>\n",
              "      <td>8166.55</td>\n",
              "      <td>7726.77</td>\n",
              "      <td>8166.55</td>\n",
              "      <td>28714583844</td>\n",
              "      <td>148249907277</td>\n",
              "    </tr>\n",
              "    <tr>\n",
              "      <th>5</th>\n",
              "      <td>Jan 09 2020</td>\n",
              "      <td>8082.30</td>\n",
              "      <td>8082.30</td>\n",
              "      <td>7842.40</td>\n",
              "      <td>7879.07</td>\n",
              "      <td>24045990466</td>\n",
              "      <td>143016572819</td>\n",
              "    </tr>\n",
              "    <tr>\n",
              "      <th>6</th>\n",
              "      <td>Jan 08 2020</td>\n",
              "      <td>8161.94</td>\n",
              "      <td>8396.74</td>\n",
              "      <td>7956.77</td>\n",
              "      <td>8079.86</td>\n",
              "      <td>31672559265</td>\n",
              "      <td>146645162431</td>\n",
              "    </tr>\n",
              "    <tr>\n",
              "      <th>7</th>\n",
              "      <td>Jan 07 2020</td>\n",
              "      <td>7768.68</td>\n",
              "      <td>8178.22</td>\n",
              "      <td>7768.23</td>\n",
              "      <td>8163.69</td>\n",
              "      <td>28767291327</td>\n",
              "      <td>148152237654</td>\n",
              "    </tr>\n",
              "    <tr>\n",
              "      <th>8</th>\n",
              "      <td>Jan 06 2020</td>\n",
              "      <td>7410.45</td>\n",
              "      <td>7781.87</td>\n",
              "      <td>7409.29</td>\n",
              "      <td>7769.22</td>\n",
              "      <td>23276261598</td>\n",
              "      <td>140976457304</td>\n",
              "    </tr>\n",
              "    <tr>\n",
              "      <th>9</th>\n",
              "      <td>Jan 05 2020</td>\n",
              "      <td>7410.45</td>\n",
              "      <td>7544.50</td>\n",
              "      <td>7400.54</td>\n",
              "      <td>7411.32</td>\n",
              "      <td>19725074095</td>\n",
              "      <td>134469548249</td>\n",
              "    </tr>\n",
              "    <tr>\n",
              "      <th>10</th>\n",
              "      <td>Jan 04 2020</td>\n",
              "      <td>7345.38</td>\n",
              "      <td>7427.39</td>\n",
              "      <td>7309.51</td>\n",
              "      <td>7410.66</td>\n",
              "      <td>18444271275</td>\n",
              "      <td>134442464030</td>\n",
              "    </tr>\n",
              "    <tr>\n",
              "      <th>11</th>\n",
              "      <td>Jan 03 2020</td>\n",
              "      <td>6984.43</td>\n",
              "      <td>7413.72</td>\n",
              "      <td>6915.00</td>\n",
              "      <td>7344.88</td>\n",
              "      <td>28111481032</td>\n",
              "      <td>133233444755</td>\n",
              "    </tr>\n",
              "    <tr>\n",
              "      <th>12</th>\n",
              "      <td>Jan 02 2020</td>\n",
              "      <td>7202.55</td>\n",
              "      <td>7212.16</td>\n",
              "      <td>6935.27</td>\n",
              "      <td>6985.47</td>\n",
              "      <td>20802083465</td>\n",
              "      <td>126699395235</td>\n",
              "    </tr>\n",
              "    <tr>\n",
              "      <th>13</th>\n",
              "      <td>Jan 01 2020</td>\n",
              "      <td>7194.89</td>\n",
              "      <td>7254.33</td>\n",
              "      <td>7174.94</td>\n",
              "      <td>7200.17</td>\n",
              "      <td>18565664997</td>\n",
              "      <td>130580829150</td>\n",
              "    </tr>\n",
              "    <tr>\n",
              "      <th>14</th>\n",
              "      <td>Dec 31 2019</td>\n",
              "      <td>7294.44</td>\n",
              "      <td>7335.29</td>\n",
              "      <td>7169.78</td>\n",
              "      <td>7193.60</td>\n",
              "      <td>21167946112</td>\n",
              "      <td>130446112598</td>\n",
              "    </tr>\n",
              "    <tr>\n",
              "      <th>15</th>\n",
              "      <td>Dec 30 2019</td>\n",
              "      <td>7420.27</td>\n",
              "      <td>7454.82</td>\n",
              "      <td>7276.31</td>\n",
              "      <td>7293.00</td>\n",
              "      <td>22874131672</td>\n",
              "      <td>132235128152</td>\n",
              "    </tr>\n",
              "    <tr>\n",
              "      <th>16</th>\n",
              "      <td>Dec 29 2019</td>\n",
              "      <td>7317.65</td>\n",
              "      <td>7513.95</td>\n",
              "      <td>7279.87</td>\n",
              "      <td>7422.65</td>\n",
              "      <td>22445257702</td>\n",
              "      <td>134570835775</td>\n",
              "    </tr>\n",
              "    <tr>\n",
              "      <th>17</th>\n",
              "      <td>Dec 28 2019</td>\n",
              "      <td>7289.03</td>\n",
              "      <td>7399.04</td>\n",
              "      <td>7286.91</td>\n",
              "      <td>7317.99</td>\n",
              "      <td>21365673026</td>\n",
              "      <td>132659059740</td>\n",
              "    </tr>\n",
              "    <tr>\n",
              "      <th>18</th>\n",
              "      <td>Dec 27 2019</td>\n",
              "      <td>7238.14</td>\n",
              "      <td>7363.53</td>\n",
              "      <td>7189.93</td>\n",
              "      <td>7290.09</td>\n",
              "      <td>22777360996</td>\n",
              "      <td>132139502950</td>\n",
              "    </tr>\n",
              "    <tr>\n",
              "      <th>19</th>\n",
              "      <td>Dec 26 2019</td>\n",
              "      <td>7274.80</td>\n",
              "      <td>7388.30</td>\n",
              "      <td>7200.39</td>\n",
              "      <td>7238.97</td>\n",
              "      <td>22787010034</td>\n",
              "      <td>131200030100</td>\n",
              "    </tr>\n",
              "    <tr>\n",
              "      <th>20</th>\n",
              "      <td>Dec 25 2019</td>\n",
              "      <td>7325.76</td>\n",
              "      <td>7357.02</td>\n",
              "      <td>7220.99</td>\n",
              "      <td>7275.16</td>\n",
              "      <td>21559505149</td>\n",
              "      <td>131840641292</td>\n",
              "    </tr>\n",
              "    <tr>\n",
              "      <th>21</th>\n",
              "      <td>Dec 24 2019</td>\n",
              "      <td>7354.39</td>\n",
              "      <td>7535.72</td>\n",
              "      <td>7269.53</td>\n",
              "      <td>7322.53</td>\n",
              "      <td>22991622105</td>\n",
              "      <td>132687583295</td>\n",
              "    </tr>\n",
              "    <tr>\n",
              "      <th>22</th>\n",
              "      <td>Dec 23 2019</td>\n",
              "      <td>7508.90</td>\n",
              "      <td>7656.18</td>\n",
              "      <td>7326.19</td>\n",
              "      <td>7355.63</td>\n",
              "      <td>27831788041</td>\n",
              "      <td>133275709111</td>\n",
              "    </tr>\n",
              "    <tr>\n",
              "      <th>23</th>\n",
              "      <td>Dec 22 2019</td>\n",
              "      <td>7191.19</td>\n",
              "      <td>7518.03</td>\n",
              "      <td>7167.18</td>\n",
              "      <td>7511.59</td>\n",
              "      <td>23134537956</td>\n",
              "      <td>136088022049</td>\n",
              "    </tr>\n",
              "    <tr>\n",
              "      <th>24</th>\n",
              "      <td>Dec 21 2019</td>\n",
              "      <td>7220.59</td>\n",
              "      <td>7223.23</td>\n",
              "      <td>7112.74</td>\n",
              "      <td>7191.16</td>\n",
              "      <td>19312552168</td>\n",
              "      <td>130267655889</td>\n",
              "    </tr>\n",
              "    <tr>\n",
              "      <th>25</th>\n",
              "      <td>Dec 20 2019</td>\n",
              "      <td>7208.64</td>\n",
              "      <td>7257.92</td>\n",
              "      <td>7086.12</td>\n",
              "      <td>7218.82</td>\n",
              "      <td>22633815180</td>\n",
              "      <td>130752796980</td>\n",
              "    </tr>\n",
              "    <tr>\n",
              "      <th>26</th>\n",
              "      <td>Dec 19 2019</td>\n",
              "      <td>7277.59</td>\n",
              "      <td>7346.60</td>\n",
              "      <td>7041.38</td>\n",
              "      <td>7202.84</td>\n",
              "      <td>25904604416</td>\n",
              "      <td>130445758713</td>\n",
              "    </tr>\n",
              "    <tr>\n",
              "      <th>27</th>\n",
              "      <td>Dec 18 2019</td>\n",
              "      <td>6647.70</td>\n",
              "      <td>7324.98</td>\n",
              "      <td>6540.05</td>\n",
              "      <td>7276.80</td>\n",
              "      <td>31836522778</td>\n",
              "      <td>131754969804</td>\n",
              "    </tr>\n",
              "    <tr>\n",
              "      <th>28</th>\n",
              "      <td>Dec 17 2019</td>\n",
              "      <td>6931.32</td>\n",
              "      <td>6964.07</td>\n",
              "      <td>6587.97</td>\n",
              "      <td>6640.52</td>\n",
              "      <td>22363804217</td>\n",
              "      <td>120234244809</td>\n",
              "    </tr>\n",
              "    <tr>\n",
              "      <th>29</th>\n",
              "      <td>Dec 16 2019</td>\n",
              "      <td>7153.66</td>\n",
              "      <td>7171.17</td>\n",
              "      <td>6903.68</td>\n",
              "      <td>6932.48</td>\n",
              "      <td>20213265950</td>\n",
              "      <td>125515586952</td>\n",
              "    </tr>\n",
              "    <tr>\n",
              "      <th>30</th>\n",
              "      <td>Dec 15 2019</td>\n",
              "      <td>7124.24</td>\n",
              "      <td>7181.08</td>\n",
              "      <td>6924.38</td>\n",
              "      <td>7152.30</td>\n",
              "      <td>16881129804</td>\n",
              "      <td>129481424648</td>\n",
              "    </tr>\n",
              "  </tbody>\n",
              "</table>\n",
              "</div>"
            ],
            "text/plain": [
              "           Date     Open     High      Low    Close       Volume    Market_Cap\n",
              "0   Jan 14 2020  8140.93  8879.51  8140.93  8827.76  44841784107  160319484883\n",
              "1   Jan 13 2020  8189.77  8197.79  8079.70  8144.19  22482910688  147890525973\n",
              "2   Jan 12 2020  8033.26  8200.06  8009.06  8192.49  22903438381  148752956966\n",
              "3   Jan 11 2020  8162.19  8218.36  8029.64  8037.54  25521165085  145924199942\n",
              "4   Jan 10 2020  7878.31  8166.55  7726.77  8166.55  28714583844  148249907277\n",
              "5   Jan 09 2020  8082.30  8082.30  7842.40  7879.07  24045990466  143016572819\n",
              "6   Jan 08 2020  8161.94  8396.74  7956.77  8079.86  31672559265  146645162431\n",
              "7   Jan 07 2020  7768.68  8178.22  7768.23  8163.69  28767291327  148152237654\n",
              "8   Jan 06 2020  7410.45  7781.87  7409.29  7769.22  23276261598  140976457304\n",
              "9   Jan 05 2020  7410.45  7544.50  7400.54  7411.32  19725074095  134469548249\n",
              "10  Jan 04 2020  7345.38  7427.39  7309.51  7410.66  18444271275  134442464030\n",
              "11  Jan 03 2020  6984.43  7413.72  6915.00  7344.88  28111481032  133233444755\n",
              "12  Jan 02 2020  7202.55  7212.16  6935.27  6985.47  20802083465  126699395235\n",
              "13  Jan 01 2020  7194.89  7254.33  7174.94  7200.17  18565664997  130580829150\n",
              "14  Dec 31 2019  7294.44  7335.29  7169.78  7193.60  21167946112  130446112598\n",
              "15  Dec 30 2019  7420.27  7454.82  7276.31  7293.00  22874131672  132235128152\n",
              "16  Dec 29 2019  7317.65  7513.95  7279.87  7422.65  22445257702  134570835775\n",
              "17  Dec 28 2019  7289.03  7399.04  7286.91  7317.99  21365673026  132659059740\n",
              "18  Dec 27 2019  7238.14  7363.53  7189.93  7290.09  22777360996  132139502950\n",
              "19  Dec 26 2019  7274.80  7388.30  7200.39  7238.97  22787010034  131200030100\n",
              "20  Dec 25 2019  7325.76  7357.02  7220.99  7275.16  21559505149  131840641292\n",
              "21  Dec 24 2019  7354.39  7535.72  7269.53  7322.53  22991622105  132687583295\n",
              "22  Dec 23 2019  7508.90  7656.18  7326.19  7355.63  27831788041  133275709111\n",
              "23  Dec 22 2019  7191.19  7518.03  7167.18  7511.59  23134537956  136088022049\n",
              "24  Dec 21 2019  7220.59  7223.23  7112.74  7191.16  19312552168  130267655889\n",
              "25  Dec 20 2019  7208.64  7257.92  7086.12  7218.82  22633815180  130752796980\n",
              "26  Dec 19 2019  7277.59  7346.60  7041.38  7202.84  25904604416  130445758713\n",
              "27  Dec 18 2019  6647.70  7324.98  6540.05  7276.80  31836522778  131754969804\n",
              "28  Dec 17 2019  6931.32  6964.07  6587.97  6640.52  22363804217  120234244809\n",
              "29  Dec 16 2019  7153.66  7171.17  6903.68  6932.48  20213265950  125515586952\n",
              "30  Dec 15 2019  7124.24  7181.08  6924.38  7152.30  16881129804  129481424648"
            ]
          },
          "metadata": {
            "tags": []
          },
          "execution_count": 40
        }
      ]
    },
    {
      "cell_type": "code",
      "metadata": {
        "colab": {
          "base_uri": "https://localhost:8080/",
          "height": 999
        },
        "id": "hAlxf8FMmeqW",
        "outputId": "1711f1c1-28ec-4fa9-aeaf-7eac7d0e3b72"
      },
      "source": [
        "df.drop('Volume',\r\n",
        "        axis='columns')"
      ],
      "execution_count": null,
      "outputs": [
        {
          "output_type": "execute_result",
          "data": {
            "text/html": [
              "<div>\n",
              "<style scoped>\n",
              "    .dataframe tbody tr th:only-of-type {\n",
              "        vertical-align: middle;\n",
              "    }\n",
              "\n",
              "    .dataframe tbody tr th {\n",
              "        vertical-align: top;\n",
              "    }\n",
              "\n",
              "    .dataframe thead th {\n",
              "        text-align: right;\n",
              "    }\n",
              "</style>\n",
              "<table border=\"1\" class=\"dataframe\">\n",
              "  <thead>\n",
              "    <tr style=\"text-align: right;\">\n",
              "      <th></th>\n",
              "      <th>Date</th>\n",
              "      <th>Open</th>\n",
              "      <th>High</th>\n",
              "      <th>Low</th>\n",
              "      <th>Close</th>\n",
              "      <th>Market Cap</th>\n",
              "    </tr>\n",
              "  </thead>\n",
              "  <tbody>\n",
              "    <tr>\n",
              "      <th>0</th>\n",
              "      <td>Jan 14 2020</td>\n",
              "      <td>8140.93</td>\n",
              "      <td>8879.51</td>\n",
              "      <td>8140.93</td>\n",
              "      <td>8827.76</td>\n",
              "      <td>160319484883</td>\n",
              "    </tr>\n",
              "    <tr>\n",
              "      <th>1</th>\n",
              "      <td>Jan 13 2020</td>\n",
              "      <td>8189.77</td>\n",
              "      <td>8197.79</td>\n",
              "      <td>8079.70</td>\n",
              "      <td>8144.19</td>\n",
              "      <td>147890525973</td>\n",
              "    </tr>\n",
              "    <tr>\n",
              "      <th>2</th>\n",
              "      <td>Jan 12 2020</td>\n",
              "      <td>8033.26</td>\n",
              "      <td>8200.06</td>\n",
              "      <td>8009.06</td>\n",
              "      <td>8192.49</td>\n",
              "      <td>148752956966</td>\n",
              "    </tr>\n",
              "    <tr>\n",
              "      <th>3</th>\n",
              "      <td>Jan 11 2020</td>\n",
              "      <td>8162.19</td>\n",
              "      <td>8218.36</td>\n",
              "      <td>8029.64</td>\n",
              "      <td>8037.54</td>\n",
              "      <td>145924199942</td>\n",
              "    </tr>\n",
              "    <tr>\n",
              "      <th>4</th>\n",
              "      <td>Jan 10 2020</td>\n",
              "      <td>7878.31</td>\n",
              "      <td>8166.55</td>\n",
              "      <td>7726.77</td>\n",
              "      <td>8166.55</td>\n",
              "      <td>148249907277</td>\n",
              "    </tr>\n",
              "    <tr>\n",
              "      <th>5</th>\n",
              "      <td>Jan 09 2020</td>\n",
              "      <td>8082.30</td>\n",
              "      <td>8082.30</td>\n",
              "      <td>7842.40</td>\n",
              "      <td>7879.07</td>\n",
              "      <td>143016572819</td>\n",
              "    </tr>\n",
              "    <tr>\n",
              "      <th>6</th>\n",
              "      <td>Jan 08 2020</td>\n",
              "      <td>8161.94</td>\n",
              "      <td>8396.74</td>\n",
              "      <td>7956.77</td>\n",
              "      <td>8079.86</td>\n",
              "      <td>146645162431</td>\n",
              "    </tr>\n",
              "    <tr>\n",
              "      <th>7</th>\n",
              "      <td>Jan 07 2020</td>\n",
              "      <td>7768.68</td>\n",
              "      <td>8178.22</td>\n",
              "      <td>7768.23</td>\n",
              "      <td>8163.69</td>\n",
              "      <td>148152237654</td>\n",
              "    </tr>\n",
              "    <tr>\n",
              "      <th>8</th>\n",
              "      <td>Jan 06 2020</td>\n",
              "      <td>7410.45</td>\n",
              "      <td>7781.87</td>\n",
              "      <td>7409.29</td>\n",
              "      <td>7769.22</td>\n",
              "      <td>140976457304</td>\n",
              "    </tr>\n",
              "    <tr>\n",
              "      <th>9</th>\n",
              "      <td>Jan 05 2020</td>\n",
              "      <td>7410.45</td>\n",
              "      <td>7544.50</td>\n",
              "      <td>7400.54</td>\n",
              "      <td>7411.32</td>\n",
              "      <td>134469548249</td>\n",
              "    </tr>\n",
              "    <tr>\n",
              "      <th>10</th>\n",
              "      <td>Jan 04 2020</td>\n",
              "      <td>7345.38</td>\n",
              "      <td>7427.39</td>\n",
              "      <td>7309.51</td>\n",
              "      <td>7410.66</td>\n",
              "      <td>134442464030</td>\n",
              "    </tr>\n",
              "    <tr>\n",
              "      <th>11</th>\n",
              "      <td>Jan 03 2020</td>\n",
              "      <td>6984.43</td>\n",
              "      <td>7413.72</td>\n",
              "      <td>6915.00</td>\n",
              "      <td>7344.88</td>\n",
              "      <td>133233444755</td>\n",
              "    </tr>\n",
              "    <tr>\n",
              "      <th>12</th>\n",
              "      <td>Jan 02 2020</td>\n",
              "      <td>7202.55</td>\n",
              "      <td>7212.16</td>\n",
              "      <td>6935.27</td>\n",
              "      <td>6985.47</td>\n",
              "      <td>126699395235</td>\n",
              "    </tr>\n",
              "    <tr>\n",
              "      <th>13</th>\n",
              "      <td>Jan 01 2020</td>\n",
              "      <td>7194.89</td>\n",
              "      <td>7254.33</td>\n",
              "      <td>7174.94</td>\n",
              "      <td>7200.17</td>\n",
              "      <td>130580829150</td>\n",
              "    </tr>\n",
              "    <tr>\n",
              "      <th>14</th>\n",
              "      <td>Dec 31 2019</td>\n",
              "      <td>7294.44</td>\n",
              "      <td>7335.29</td>\n",
              "      <td>7169.78</td>\n",
              "      <td>7193.60</td>\n",
              "      <td>130446112598</td>\n",
              "    </tr>\n",
              "    <tr>\n",
              "      <th>15</th>\n",
              "      <td>Dec 30 2019</td>\n",
              "      <td>7420.27</td>\n",
              "      <td>7454.82</td>\n",
              "      <td>7276.31</td>\n",
              "      <td>7293.00</td>\n",
              "      <td>132235128152</td>\n",
              "    </tr>\n",
              "    <tr>\n",
              "      <th>16</th>\n",
              "      <td>Dec 29 2019</td>\n",
              "      <td>7317.65</td>\n",
              "      <td>7513.95</td>\n",
              "      <td>7279.87</td>\n",
              "      <td>7422.65</td>\n",
              "      <td>134570835775</td>\n",
              "    </tr>\n",
              "    <tr>\n",
              "      <th>17</th>\n",
              "      <td>Dec 28 2019</td>\n",
              "      <td>7289.03</td>\n",
              "      <td>7399.04</td>\n",
              "      <td>7286.91</td>\n",
              "      <td>7317.99</td>\n",
              "      <td>132659059740</td>\n",
              "    </tr>\n",
              "    <tr>\n",
              "      <th>18</th>\n",
              "      <td>Dec 27 2019</td>\n",
              "      <td>7238.14</td>\n",
              "      <td>7363.53</td>\n",
              "      <td>7189.93</td>\n",
              "      <td>7290.09</td>\n",
              "      <td>132139502950</td>\n",
              "    </tr>\n",
              "    <tr>\n",
              "      <th>19</th>\n",
              "      <td>Dec 26 2019</td>\n",
              "      <td>7274.80</td>\n",
              "      <td>7388.30</td>\n",
              "      <td>7200.39</td>\n",
              "      <td>7238.97</td>\n",
              "      <td>131200030100</td>\n",
              "    </tr>\n",
              "    <tr>\n",
              "      <th>20</th>\n",
              "      <td>Dec 25 2019</td>\n",
              "      <td>7325.76</td>\n",
              "      <td>7357.02</td>\n",
              "      <td>7220.99</td>\n",
              "      <td>7275.16</td>\n",
              "      <td>131840641292</td>\n",
              "    </tr>\n",
              "    <tr>\n",
              "      <th>21</th>\n",
              "      <td>Dec 24 2019</td>\n",
              "      <td>7354.39</td>\n",
              "      <td>7535.72</td>\n",
              "      <td>7269.53</td>\n",
              "      <td>7322.53</td>\n",
              "      <td>132687583295</td>\n",
              "    </tr>\n",
              "    <tr>\n",
              "      <th>22</th>\n",
              "      <td>Dec 23 2019</td>\n",
              "      <td>7508.90</td>\n",
              "      <td>7656.18</td>\n",
              "      <td>7326.19</td>\n",
              "      <td>7355.63</td>\n",
              "      <td>133275709111</td>\n",
              "    </tr>\n",
              "    <tr>\n",
              "      <th>23</th>\n",
              "      <td>Dec 22 2019</td>\n",
              "      <td>7191.19</td>\n",
              "      <td>7518.03</td>\n",
              "      <td>7167.18</td>\n",
              "      <td>7511.59</td>\n",
              "      <td>136088022049</td>\n",
              "    </tr>\n",
              "    <tr>\n",
              "      <th>24</th>\n",
              "      <td>Dec 21 2019</td>\n",
              "      <td>7220.59</td>\n",
              "      <td>7223.23</td>\n",
              "      <td>7112.74</td>\n",
              "      <td>7191.16</td>\n",
              "      <td>130267655889</td>\n",
              "    </tr>\n",
              "    <tr>\n",
              "      <th>25</th>\n",
              "      <td>Dec 20 2019</td>\n",
              "      <td>7208.64</td>\n",
              "      <td>7257.92</td>\n",
              "      <td>7086.12</td>\n",
              "      <td>7218.82</td>\n",
              "      <td>130752796980</td>\n",
              "    </tr>\n",
              "    <tr>\n",
              "      <th>26</th>\n",
              "      <td>Dec 19 2019</td>\n",
              "      <td>7277.59</td>\n",
              "      <td>7346.60</td>\n",
              "      <td>7041.38</td>\n",
              "      <td>7202.84</td>\n",
              "      <td>130445758713</td>\n",
              "    </tr>\n",
              "    <tr>\n",
              "      <th>27</th>\n",
              "      <td>Dec 18 2019</td>\n",
              "      <td>6647.70</td>\n",
              "      <td>7324.98</td>\n",
              "      <td>6540.05</td>\n",
              "      <td>7276.80</td>\n",
              "      <td>131754969804</td>\n",
              "    </tr>\n",
              "    <tr>\n",
              "      <th>28</th>\n",
              "      <td>Dec 17 2019</td>\n",
              "      <td>6931.32</td>\n",
              "      <td>6964.07</td>\n",
              "      <td>6587.97</td>\n",
              "      <td>6640.52</td>\n",
              "      <td>120234244809</td>\n",
              "    </tr>\n",
              "    <tr>\n",
              "      <th>29</th>\n",
              "      <td>Dec 16 2019</td>\n",
              "      <td>7153.66</td>\n",
              "      <td>7171.17</td>\n",
              "      <td>6903.68</td>\n",
              "      <td>6932.48</td>\n",
              "      <td>125515586952</td>\n",
              "    </tr>\n",
              "    <tr>\n",
              "      <th>30</th>\n",
              "      <td>Dec 15 2019</td>\n",
              "      <td>7124.24</td>\n",
              "      <td>7181.08</td>\n",
              "      <td>6924.38</td>\n",
              "      <td>7152.30</td>\n",
              "      <td>129481424648</td>\n",
              "    </tr>\n",
              "  </tbody>\n",
              "</table>\n",
              "</div>"
            ],
            "text/plain": [
              "           Date     Open     High      Low    Close    Market Cap\n",
              "0   Jan 14 2020  8140.93  8879.51  8140.93  8827.76  160319484883\n",
              "1   Jan 13 2020  8189.77  8197.79  8079.70  8144.19  147890525973\n",
              "2   Jan 12 2020  8033.26  8200.06  8009.06  8192.49  148752956966\n",
              "3   Jan 11 2020  8162.19  8218.36  8029.64  8037.54  145924199942\n",
              "4   Jan 10 2020  7878.31  8166.55  7726.77  8166.55  148249907277\n",
              "5   Jan 09 2020  8082.30  8082.30  7842.40  7879.07  143016572819\n",
              "6   Jan 08 2020  8161.94  8396.74  7956.77  8079.86  146645162431\n",
              "7   Jan 07 2020  7768.68  8178.22  7768.23  8163.69  148152237654\n",
              "8   Jan 06 2020  7410.45  7781.87  7409.29  7769.22  140976457304\n",
              "9   Jan 05 2020  7410.45  7544.50  7400.54  7411.32  134469548249\n",
              "10  Jan 04 2020  7345.38  7427.39  7309.51  7410.66  134442464030\n",
              "11  Jan 03 2020  6984.43  7413.72  6915.00  7344.88  133233444755\n",
              "12  Jan 02 2020  7202.55  7212.16  6935.27  6985.47  126699395235\n",
              "13  Jan 01 2020  7194.89  7254.33  7174.94  7200.17  130580829150\n",
              "14  Dec 31 2019  7294.44  7335.29  7169.78  7193.60  130446112598\n",
              "15  Dec 30 2019  7420.27  7454.82  7276.31  7293.00  132235128152\n",
              "16  Dec 29 2019  7317.65  7513.95  7279.87  7422.65  134570835775\n",
              "17  Dec 28 2019  7289.03  7399.04  7286.91  7317.99  132659059740\n",
              "18  Dec 27 2019  7238.14  7363.53  7189.93  7290.09  132139502950\n",
              "19  Dec 26 2019  7274.80  7388.30  7200.39  7238.97  131200030100\n",
              "20  Dec 25 2019  7325.76  7357.02  7220.99  7275.16  131840641292\n",
              "21  Dec 24 2019  7354.39  7535.72  7269.53  7322.53  132687583295\n",
              "22  Dec 23 2019  7508.90  7656.18  7326.19  7355.63  133275709111\n",
              "23  Dec 22 2019  7191.19  7518.03  7167.18  7511.59  136088022049\n",
              "24  Dec 21 2019  7220.59  7223.23  7112.74  7191.16  130267655889\n",
              "25  Dec 20 2019  7208.64  7257.92  7086.12  7218.82  130752796980\n",
              "26  Dec 19 2019  7277.59  7346.60  7041.38  7202.84  130445758713\n",
              "27  Dec 18 2019  6647.70  7324.98  6540.05  7276.80  131754969804\n",
              "28  Dec 17 2019  6931.32  6964.07  6587.97  6640.52  120234244809\n",
              "29  Dec 16 2019  7153.66  7171.17  6903.68  6932.48  125515586952\n",
              "30  Dec 15 2019  7124.24  7181.08  6924.38  7152.30  129481424648"
            ]
          },
          "metadata": {
            "tags": []
          },
          "execution_count": 41
        }
      ]
    },
    {
      "cell_type": "code",
      "metadata": {
        "id": "c9Na9TaAolPN"
      },
      "source": [
        "#df.drop_duplicates\r\n",
        "#df.dropna\r\n",
        "#df.rename(str.lower, axis='columns')\r\n",
        "#df_copy=df.copy(deep=True)"
      ],
      "execution_count": null,
      "outputs": []
    },
    {
      "cell_type": "code",
      "metadata": {
        "colab": {
          "base_uri": "https://localhost:8080/"
        },
        "id": "GRw-X_yQU31Q",
        "outputId": "3de7663f-de33-40b0-e230-9ee4a196bc5f"
      },
      "source": [
        "fp='https://bit.ly/bitcoin-purchases'\r\n",
        "print(fp)"
      ],
      "execution_count": null,
      "outputs": [
        {
          "output_type": "stream",
          "text": [
            "https://bit.ly/bitcoin-purchases\n"
          ],
          "name": "stdout"
        }
      ]
    },
    {
      "cell_type": "code",
      "metadata": {
        "colab": {
          "base_uri": "https://localhost:8080/",
          "height": 202
        },
        "id": "GbcmHnrdVGZ0",
        "outputId": "de801f73-fb22-47b0-9d81-e146fdcec53c"
      },
      "source": [
        "df=pd.read_csv(fp)\r\n",
        "df.head()"
      ],
      "execution_count": null,
      "outputs": [
        {
          "output_type": "execute_result",
          "data": {
            "text/html": [
              "<div>\n",
              "<style scoped>\n",
              "    .dataframe tbody tr th:only-of-type {\n",
              "        vertical-align: middle;\n",
              "    }\n",
              "\n",
              "    .dataframe tbody tr th {\n",
              "        vertical-align: top;\n",
              "    }\n",
              "\n",
              "    .dataframe thead th {\n",
              "        text-align: right;\n",
              "    }\n",
              "</style>\n",
              "<table border=\"1\" class=\"dataframe\">\n",
              "  <thead>\n",
              "    <tr style=\"text-align: right;\">\n",
              "      <th></th>\n",
              "      <th>bitcoin address</th>\n",
              "      <th>wire amount</th>\n",
              "      <th>credit card</th>\n",
              "    </tr>\n",
              "  </thead>\n",
              "  <tbody>\n",
              "    <tr>\n",
              "      <th>0</th>\n",
              "      <td>1HeUNvQfhjn8afvjMrMEX5VQB5zy8AacXZ</td>\n",
              "      <td>$2268.82</td>\n",
              "      <td>6759241310493014168</td>\n",
              "    </tr>\n",
              "    <tr>\n",
              "      <th>1</th>\n",
              "      <td>18xA8uEzQsEQpyfJWrrLmnu72ut7p2GgeU</td>\n",
              "      <td>$4590.27</td>\n",
              "      <td>6394078189900621</td>\n",
              "    </tr>\n",
              "    <tr>\n",
              "      <th>2</th>\n",
              "      <td>1CPLebXd6VKdEmD6xsVByYDbsyhkZ4XzrE</td>\n",
              "      <td>$6160.48</td>\n",
              "      <td>3539006321388994</td>\n",
              "    </tr>\n",
              "    <tr>\n",
              "      <th>3</th>\n",
              "      <td>1ESn9zPPwAExS98jqhjkDPd7tGeoevL42u</td>\n",
              "      <td>$6647.19</td>\n",
              "      <td>3560801557252993</td>\n",
              "    </tr>\n",
              "    <tr>\n",
              "      <th>4</th>\n",
              "      <td>1JLYsDExCUsEPrN6vNsEgJubJE4xqWtqhp</td>\n",
              "      <td>$3759.40</td>\n",
              "      <td>5349906235596126</td>\n",
              "    </tr>\n",
              "  </tbody>\n",
              "</table>\n",
              "</div>"
            ],
            "text/plain": [
              "                      bitcoin address wire amount          credit card\n",
              "0  1HeUNvQfhjn8afvjMrMEX5VQB5zy8AacXZ    $2268.82  6759241310493014168\n",
              "1  18xA8uEzQsEQpyfJWrrLmnu72ut7p2GgeU    $4590.27     6394078189900621\n",
              "2  1CPLebXd6VKdEmD6xsVByYDbsyhkZ4XzrE    $6160.48     3539006321388994\n",
              "3  1ESn9zPPwAExS98jqhjkDPd7tGeoevL42u    $6647.19     3560801557252993\n",
              "4  1JLYsDExCUsEPrN6vNsEgJubJE4xqWtqhp    $3759.40     5349906235596126"
            ]
          },
          "metadata": {
            "tags": []
          },
          "execution_count": 4
        }
      ]
    },
    {
      "cell_type": "code",
      "metadata": {
        "colab": {
          "base_uri": "https://localhost:8080/"
        },
        "id": "XehOtB7gVjLW",
        "outputId": "348520f8-0e73-41a2-f5a4-7cb0ddd12bdb"
      },
      "source": [
        "df.shape"
      ],
      "execution_count": null,
      "outputs": [
        {
          "output_type": "execute_result",
          "data": {
            "text/plain": [
              "(1000, 3)"
            ]
          },
          "metadata": {
            "tags": []
          },
          "execution_count": 5
        }
      ]
    },
    {
      "cell_type": "code",
      "metadata": {
        "colab": {
          "base_uri": "https://localhost:8080/"
        },
        "id": "xCJ666gXVp2L",
        "outputId": "61dacbca-572b-4667-b6ca-0f385a6a6172"
      },
      "source": [
        "df.dtypes"
      ],
      "execution_count": null,
      "outputs": [
        {
          "output_type": "execute_result",
          "data": {
            "text/plain": [
              "bitcoin address    object\n",
              "wire amount        object\n",
              "credit card         int64\n",
              "dtype: object"
            ]
          },
          "metadata": {
            "tags": []
          },
          "execution_count": 6
        }
      ]
    },
    {
      "cell_type": "code",
      "metadata": {
        "colab": {
          "base_uri": "https://localhost:8080/"
        },
        "id": "HUkcoO55Vs9m",
        "outputId": "b533b0c7-3e72-40c4-e1e9-a917681b1bc6"
      },
      "source": [
        "#Suppression du sigle dollar\r\n",
        "df['wire amount'].str.replace('$','')"
      ],
      "execution_count": null,
      "outputs": [
        {
          "output_type": "execute_result",
          "data": {
            "text/plain": [
              "0      2268.82\n",
              "1      4590.27\n",
              "2      6160.48\n",
              "3      6647.19\n",
              "4      3759.40\n",
              "        ...   \n",
              "995    8777.99\n",
              "996    7614.59\n",
              "997    1710.21\n",
              "998    5240.64\n",
              "999    5672.95\n",
              "Name: wire amount, Length: 1000, dtype: object"
            ]
          },
          "metadata": {
            "tags": []
          },
          "execution_count": 7
        }
      ]
    },
    {
      "cell_type": "code",
      "metadata": {
        "colab": {
          "base_uri": "https://localhost:8080/"
        },
        "id": "JIU0J8EWXkng",
        "outputId": "0a0c7ee8-9e8b-4cf7-c27f-2bd41630d6b3"
      },
      "source": [
        "df['wire amount'].str.replace('$','').astype(float)"
      ],
      "execution_count": null,
      "outputs": [
        {
          "output_type": "execute_result",
          "data": {
            "text/plain": [
              "0      2268.82\n",
              "1      4590.27\n",
              "2      6160.48\n",
              "3      6647.19\n",
              "4      3759.40\n",
              "        ...   \n",
              "995    8777.99\n",
              "996    7614.59\n",
              "997    1710.21\n",
              "998    5240.64\n",
              "999    5672.95\n",
              "Name: wire amount, Length: 1000, dtype: float64"
            ]
          },
          "metadata": {
            "tags": []
          },
          "execution_count": 8
        }
      ]
    },
    {
      "cell_type": "code",
      "metadata": {
        "id": "f_TmHX5-XzxG"
      },
      "source": [
        "df['wire amount']=df['wire amount'].str.replace('$','').astype(float)"
      ],
      "execution_count": null,
      "outputs": []
    },
    {
      "cell_type": "code",
      "metadata": {
        "colab": {
          "base_uri": "https://localhost:8080/"
        },
        "id": "_Zcqdw_CX5xV",
        "outputId": "19ddddb5-c6e1-45d4-c714-fed40534e7d6"
      },
      "source": [
        "df.dtypes"
      ],
      "execution_count": null,
      "outputs": [
        {
          "output_type": "execute_result",
          "data": {
            "text/plain": [
              "bitcoin address     object\n",
              "wire amount        float64\n",
              "credit card          int64\n",
              "dtype: object"
            ]
          },
          "metadata": {
            "tags": []
          },
          "execution_count": 10
        }
      ]
    },
    {
      "cell_type": "code",
      "metadata": {
        "colab": {
          "base_uri": "https://localhost:8080/"
        },
        "id": "jELNh6DiYAhZ",
        "outputId": "f5ea3427-58be-4948-c431-ddf7381ece58"
      },
      "source": [
        "fp='https://bit.ly/bitcoin-purchases2'\r\n",
        "print(fp)"
      ],
      "execution_count": null,
      "outputs": [
        {
          "output_type": "stream",
          "text": [
            "https://bit.ly/bitcoin-purchases2\n"
          ],
          "name": "stdout"
        }
      ]
    },
    {
      "cell_type": "code",
      "metadata": {
        "colab": {
          "base_uri": "https://localhost:8080/",
          "height": 202
        },
        "id": "OPdK-Z_8aF4b",
        "outputId": "d650c4c6-ec75-4952-dab9-3e232e4ae5c9"
      },
      "source": [
        "df=pd.read_csv(fp)\r\n",
        "df.head()"
      ],
      "execution_count": null,
      "outputs": [
        {
          "output_type": "execute_result",
          "data": {
            "text/html": [
              "<div>\n",
              "<style scoped>\n",
              "    .dataframe tbody tr th:only-of-type {\n",
              "        vertical-align: middle;\n",
              "    }\n",
              "\n",
              "    .dataframe tbody tr th {\n",
              "        vertical-align: top;\n",
              "    }\n",
              "\n",
              "    .dataframe thead th {\n",
              "        text-align: right;\n",
              "    }\n",
              "</style>\n",
              "<table border=\"1\" class=\"dataframe\">\n",
              "  <thead>\n",
              "    <tr style=\"text-align: right;\">\n",
              "      <th></th>\n",
              "      <th>bitcoin address</th>\n",
              "      <th>wire amount</th>\n",
              "      <th>credit card</th>\n",
              "    </tr>\n",
              "  </thead>\n",
              "  <tbody>\n",
              "    <tr>\n",
              "      <th>0</th>\n",
              "      <td>1J9DVMtgvnPv4KGHL2XSzoTSt5cBBL1DXe</td>\n",
              "      <td>£8356.92</td>\n",
              "      <td>3543456448666398</td>\n",
              "    </tr>\n",
              "    <tr>\n",
              "      <th>1</th>\n",
              "      <td>1HaiVQbzCTs7t1K1fckYEUi9t8ERBFRR7Q</td>\n",
              "      <td>€311,06</td>\n",
              "      <td>3584615208479876</td>\n",
              "    </tr>\n",
              "    <tr>\n",
              "      <th>2</th>\n",
              "      <td>1NGPjXfDScEUSZYajAzCkxaVApTbBHC7jP</td>\n",
              "      <td>€2032,44</td>\n",
              "      <td>6370577480710876</td>\n",
              "    </tr>\n",
              "    <tr>\n",
              "      <th>3</th>\n",
              "      <td>15cSYRTbcrxYinxNxk7VbkPLZG8nypdjy6</td>\n",
              "      <td>¥8155.74</td>\n",
              "      <td>4508652385157398</td>\n",
              "    </tr>\n",
              "    <tr>\n",
              "      <th>4</th>\n",
              "      <td>18j2qG1DH9YduJiBiccAq8Ak897G3E4JyZ</td>\n",
              "      <td>£3265.44</td>\n",
              "      <td>374622922103592</td>\n",
              "    </tr>\n",
              "  </tbody>\n",
              "</table>\n",
              "</div>"
            ],
            "text/plain": [
              "                      bitcoin address wire amount       credit card\n",
              "0  1J9DVMtgvnPv4KGHL2XSzoTSt5cBBL1DXe    £8356.92  3543456448666398\n",
              "1  1HaiVQbzCTs7t1K1fckYEUi9t8ERBFRR7Q     €311,06  3584615208479876\n",
              "2  1NGPjXfDScEUSZYajAzCkxaVApTbBHC7jP    €2032,44  6370577480710876\n",
              "3  15cSYRTbcrxYinxNxk7VbkPLZG8nypdjy6    ¥8155.74  4508652385157398\n",
              "4  18j2qG1DH9YduJiBiccAq8Ak897G3E4JyZ    £3265.44   374622922103592"
            ]
          },
          "metadata": {
            "tags": []
          },
          "execution_count": 12
        }
      ]
    },
    {
      "cell_type": "code",
      "metadata": {
        "colab": {
          "base_uri": "https://localhost:8080/",
          "height": 202
        },
        "id": "WpPoOkBZaVMn",
        "outputId": "d87a4af1-550e-4af0-b24a-3a863a6c63e1"
      },
      "source": [
        "df.tail()"
      ],
      "execution_count": null,
      "outputs": [
        {
          "output_type": "execute_result",
          "data": {
            "text/html": [
              "<div>\n",
              "<style scoped>\n",
              "    .dataframe tbody tr th:only-of-type {\n",
              "        vertical-align: middle;\n",
              "    }\n",
              "\n",
              "    .dataframe tbody tr th {\n",
              "        vertical-align: top;\n",
              "    }\n",
              "\n",
              "    .dataframe thead th {\n",
              "        text-align: right;\n",
              "    }\n",
              "</style>\n",
              "<table border=\"1\" class=\"dataframe\">\n",
              "  <thead>\n",
              "    <tr style=\"text-align: right;\">\n",
              "      <th></th>\n",
              "      <th>bitcoin address</th>\n",
              "      <th>wire amount</th>\n",
              "      <th>credit card</th>\n",
              "    </tr>\n",
              "  </thead>\n",
              "  <tbody>\n",
              "    <tr>\n",
              "      <th>995</th>\n",
              "      <td>1Jmz4FMQENDkrtkivVdXM8SiC6ZCJVTDhp</td>\n",
              "      <td>¥844.68</td>\n",
              "      <td>5541649583285688</td>\n",
              "    </tr>\n",
              "    <tr>\n",
              "      <th>996</th>\n",
              "      <td>1GCZKgPV9277czn1RsTYoubCwhbndUvPZU</td>\n",
              "      <td>€1433,63</td>\n",
              "      <td>6304232254235660027</td>\n",
              "    </tr>\n",
              "    <tr>\n",
              "      <th>997</th>\n",
              "      <td>1LK2DsWBUmSAsqg7n46sdgg4v2SNrqEPM</td>\n",
              "      <td>€3814,11</td>\n",
              "      <td>3546750658508135</td>\n",
              "    </tr>\n",
              "    <tr>\n",
              "      <th>998</th>\n",
              "      <td>1PD6oNfFEnxMsR1PvUvkjHQdHYLCewLJhq</td>\n",
              "      <td>$2900.85</td>\n",
              "      <td>6333272716093574938</td>\n",
              "    </tr>\n",
              "    <tr>\n",
              "      <th>999</th>\n",
              "      <td>1B2vk6p7usuV4dfrBMLo8Rzpb5NatTmE8R</td>\n",
              "      <td>$1587.16</td>\n",
              "      <td>4913614335644981</td>\n",
              "    </tr>\n",
              "  </tbody>\n",
              "</table>\n",
              "</div>"
            ],
            "text/plain": [
              "                        bitcoin address wire amount          credit card\n",
              "995  1Jmz4FMQENDkrtkivVdXM8SiC6ZCJVTDhp     ¥844.68     5541649583285688\n",
              "996  1GCZKgPV9277czn1RsTYoubCwhbndUvPZU    €1433,63  6304232254235660027\n",
              "997   1LK2DsWBUmSAsqg7n46sdgg4v2SNrqEPM    €3814,11     3546750658508135\n",
              "998  1PD6oNfFEnxMsR1PvUvkjHQdHYLCewLJhq    $2900.85  6333272716093574938\n",
              "999  1B2vk6p7usuV4dfrBMLo8Rzpb5NatTmE8R    $1587.16     4913614335644981"
            ]
          },
          "metadata": {
            "tags": []
          },
          "execution_count": 14
        }
      ]
    },
    {
      "cell_type": "code",
      "metadata": {
        "id": "G4ISm2htaas6"
      },
      "source": [
        "#Remplacer les virgules par des points\r\n",
        "df['wire amount']=df['wire amount'].str.replace(',','.')"
      ],
      "execution_count": null,
      "outputs": []
    },
    {
      "cell_type": "code",
      "metadata": {
        "colab": {
          "base_uri": "https://localhost:8080/"
        },
        "id": "6dEKiWqIaiOy",
        "outputId": "b4ff993a-b570-4e6d-bb84-4fcef6a84fb3"
      },
      "source": [
        "#Supression du symbole de la devise dans la colonne wire amount \r\n",
        "df['wire amount'].str.slice(1)"
      ],
      "execution_count": null,
      "outputs": [
        {
          "output_type": "execute_result",
          "data": {
            "text/plain": [
              "0      8356.92\n",
              "1       311,06\n",
              "2      2032,44\n",
              "3      8155.74\n",
              "4      3265.44\n",
              "        ...   \n",
              "995     844.68\n",
              "996    1433,63\n",
              "997    3814,11\n",
              "998    2900.85\n",
              "999    1587.16\n",
              "Name: wire amount, Length: 1000, dtype: object"
            ]
          },
          "metadata": {
            "tags": []
          },
          "execution_count": 17
        }
      ]
    },
    {
      "cell_type": "code",
      "metadata": {
        "colab": {
          "base_uri": "https://localhost:8080/",
          "height": 202
        },
        "id": "O9eZgrSUfHrz",
        "outputId": "d0fbbb2c-118a-497c-d0fe-9449769a716f"
      },
      "source": [
        "df.head()"
      ],
      "execution_count": null,
      "outputs": [
        {
          "output_type": "execute_result",
          "data": {
            "text/html": [
              "<div>\n",
              "<style scoped>\n",
              "    .dataframe tbody tr th:only-of-type {\n",
              "        vertical-align: middle;\n",
              "    }\n",
              "\n",
              "    .dataframe tbody tr th {\n",
              "        vertical-align: top;\n",
              "    }\n",
              "\n",
              "    .dataframe thead th {\n",
              "        text-align: right;\n",
              "    }\n",
              "</style>\n",
              "<table border=\"1\" class=\"dataframe\">\n",
              "  <thead>\n",
              "    <tr style=\"text-align: right;\">\n",
              "      <th></th>\n",
              "      <th>bitcoin address</th>\n",
              "      <th>wire amount</th>\n",
              "      <th>credit card</th>\n",
              "    </tr>\n",
              "  </thead>\n",
              "  <tbody>\n",
              "    <tr>\n",
              "      <th>0</th>\n",
              "      <td>1J9DVMtgvnPv4KGHL2XSzoTSt5cBBL1DXe</td>\n",
              "      <td>£8356.92</td>\n",
              "      <td>3543456448666398</td>\n",
              "    </tr>\n",
              "    <tr>\n",
              "      <th>1</th>\n",
              "      <td>1HaiVQbzCTs7t1K1fckYEUi9t8ERBFRR7Q</td>\n",
              "      <td>€311.06</td>\n",
              "      <td>3584615208479876</td>\n",
              "    </tr>\n",
              "    <tr>\n",
              "      <th>2</th>\n",
              "      <td>1NGPjXfDScEUSZYajAzCkxaVApTbBHC7jP</td>\n",
              "      <td>€2032.44</td>\n",
              "      <td>6370577480710876</td>\n",
              "    </tr>\n",
              "    <tr>\n",
              "      <th>3</th>\n",
              "      <td>15cSYRTbcrxYinxNxk7VbkPLZG8nypdjy6</td>\n",
              "      <td>¥8155.74</td>\n",
              "      <td>4508652385157398</td>\n",
              "    </tr>\n",
              "    <tr>\n",
              "      <th>4</th>\n",
              "      <td>18j2qG1DH9YduJiBiccAq8Ak897G3E4JyZ</td>\n",
              "      <td>£3265.44</td>\n",
              "      <td>374622922103592</td>\n",
              "    </tr>\n",
              "  </tbody>\n",
              "</table>\n",
              "</div>"
            ],
            "text/plain": [
              "                      bitcoin address wire amount       credit card\n",
              "0  1J9DVMtgvnPv4KGHL2XSzoTSt5cBBL1DXe    £8356.92  3543456448666398\n",
              "1  1HaiVQbzCTs7t1K1fckYEUi9t8ERBFRR7Q     €311.06  3584615208479876\n",
              "2  1NGPjXfDScEUSZYajAzCkxaVApTbBHC7jP    €2032.44  6370577480710876\n",
              "3  15cSYRTbcrxYinxNxk7VbkPLZG8nypdjy6    ¥8155.74  4508652385157398\n",
              "4  18j2qG1DH9YduJiBiccAq8Ak897G3E4JyZ    £3265.44   374622922103592"
            ]
          },
          "metadata": {
            "tags": []
          },
          "execution_count": 19
        }
      ]
    },
    {
      "cell_type": "code",
      "metadata": {
        "id": "iSHjaC9Yd8Lw"
      },
      "source": [
        "df['wire amount']=df['wire amount'].str.replace('$','').astype(float)\r\n",
        "df['wire amount']=df['wire amount'].str.replace('£','').astype(float)\r\n",
        "df['wire amount']=df['wire amount'].str.replace('€','').astype(float)\r\n",
        "df['wire amount']=df['wire amount'].str.replace('¥','').astype(float)"
      ],
      "execution_count": null,
      "outputs": []
    },
    {
      "cell_type": "code",
      "metadata": {
        "colab": {
          "base_uri": "https://localhost:8080/"
        },
        "id": "UccR9sDsgen5",
        "outputId": "3a750e65-c9c4-47e5-a166-d82235a034d0"
      },
      "source": [
        "#Création d'une colonne currency par les fonctions get ou slice\r\n",
        "df['wire amount'].str.get(0)"
      ],
      "execution_count": null,
      "outputs": [
        {
          "output_type": "execute_result",
          "data": {
            "text/plain": [
              "0      £\n",
              "1      €\n",
              "2      €\n",
              "3      ¥\n",
              "4      £\n",
              "      ..\n",
              "995    ¥\n",
              "996    €\n",
              "997    €\n",
              "998    $\n",
              "999    $\n",
              "Name: wire amount, Length: 1000, dtype: object"
            ]
          },
          "metadata": {
            "tags": []
          },
          "execution_count": 20
        }
      ]
    },
    {
      "cell_type": "code",
      "metadata": {
        "colab": {
          "base_uri": "https://localhost:8080/"
        },
        "id": "LHdYNZQygpz2",
        "outputId": "2e48aa2c-33d4-4420-928c-63d32d69292b"
      },
      "source": [
        "df['wire amount'].str.slice(stop=1)"
      ],
      "execution_count": null,
      "outputs": [
        {
          "output_type": "execute_result",
          "data": {
            "text/plain": [
              "0      £\n",
              "1      €\n",
              "2      €\n",
              "3      ¥\n",
              "4      £\n",
              "      ..\n",
              "995    ¥\n",
              "996    €\n",
              "997    €\n",
              "998    $\n",
              "999    $\n",
              "Name: wire amount, Length: 1000, dtype: object"
            ]
          },
          "metadata": {
            "tags": []
          },
          "execution_count": 21
        }
      ]
    },
    {
      "cell_type": "code",
      "metadata": {
        "colab": {
          "base_uri": "https://localhost:8080/",
          "height": 202
        },
        "id": "AuzUYZ_EguD-",
        "outputId": "c10f3c56-1906-4832-c4bc-da43714edacc"
      },
      "source": [
        "df['currency']=df['wire amount'].str.get(0)\r\n",
        "df.head()"
      ],
      "execution_count": null,
      "outputs": [
        {
          "output_type": "execute_result",
          "data": {
            "text/html": [
              "<div>\n",
              "<style scoped>\n",
              "    .dataframe tbody tr th:only-of-type {\n",
              "        vertical-align: middle;\n",
              "    }\n",
              "\n",
              "    .dataframe tbody tr th {\n",
              "        vertical-align: top;\n",
              "    }\n",
              "\n",
              "    .dataframe thead th {\n",
              "        text-align: right;\n",
              "    }\n",
              "</style>\n",
              "<table border=\"1\" class=\"dataframe\">\n",
              "  <thead>\n",
              "    <tr style=\"text-align: right;\">\n",
              "      <th></th>\n",
              "      <th>bitcoin address</th>\n",
              "      <th>wire amount</th>\n",
              "      <th>credit card</th>\n",
              "      <th>currency</th>\n",
              "    </tr>\n",
              "  </thead>\n",
              "  <tbody>\n",
              "    <tr>\n",
              "      <th>0</th>\n",
              "      <td>1J9DVMtgvnPv4KGHL2XSzoTSt5cBBL1DXe</td>\n",
              "      <td>£8356.92</td>\n",
              "      <td>3543456448666398</td>\n",
              "      <td>£</td>\n",
              "    </tr>\n",
              "    <tr>\n",
              "      <th>1</th>\n",
              "      <td>1HaiVQbzCTs7t1K1fckYEUi9t8ERBFRR7Q</td>\n",
              "      <td>€311.06</td>\n",
              "      <td>3584615208479876</td>\n",
              "      <td>€</td>\n",
              "    </tr>\n",
              "    <tr>\n",
              "      <th>2</th>\n",
              "      <td>1NGPjXfDScEUSZYajAzCkxaVApTbBHC7jP</td>\n",
              "      <td>€2032.44</td>\n",
              "      <td>6370577480710876</td>\n",
              "      <td>€</td>\n",
              "    </tr>\n",
              "    <tr>\n",
              "      <th>3</th>\n",
              "      <td>15cSYRTbcrxYinxNxk7VbkPLZG8nypdjy6</td>\n",
              "      <td>¥8155.74</td>\n",
              "      <td>4508652385157398</td>\n",
              "      <td>¥</td>\n",
              "    </tr>\n",
              "    <tr>\n",
              "      <th>4</th>\n",
              "      <td>18j2qG1DH9YduJiBiccAq8Ak897G3E4JyZ</td>\n",
              "      <td>£3265.44</td>\n",
              "      <td>374622922103592</td>\n",
              "      <td>£</td>\n",
              "    </tr>\n",
              "  </tbody>\n",
              "</table>\n",
              "</div>"
            ],
            "text/plain": [
              "                      bitcoin address wire amount       credit card currency\n",
              "0  1J9DVMtgvnPv4KGHL2XSzoTSt5cBBL1DXe    £8356.92  3543456448666398        £\n",
              "1  1HaiVQbzCTs7t1K1fckYEUi9t8ERBFRR7Q     €311.06  3584615208479876        €\n",
              "2  1NGPjXfDScEUSZYajAzCkxaVApTbBHC7jP    €2032.44  6370577480710876        €\n",
              "3  15cSYRTbcrxYinxNxk7VbkPLZG8nypdjy6    ¥8155.74  4508652385157398        ¥\n",
              "4  18j2qG1DH9YduJiBiccAq8Ak897G3E4JyZ    £3265.44   374622922103592        £"
            ]
          },
          "metadata": {
            "tags": []
          },
          "execution_count": 23
        }
      ]
    },
    {
      "cell_type": "code",
      "metadata": {
        "colab": {
          "base_uri": "https://localhost:8080/",
          "height": 202
        },
        "id": "L0OCkoGShMP2",
        "outputId": "dae74acb-a218-42d7-ffe9-ac8697501772"
      },
      "source": [
        "df['currency']=df['wire amount'].str.slice(stop=1)\r\n",
        "df.head()"
      ],
      "execution_count": null,
      "outputs": [
        {
          "output_type": "execute_result",
          "data": {
            "text/html": [
              "<div>\n",
              "<style scoped>\n",
              "    .dataframe tbody tr th:only-of-type {\n",
              "        vertical-align: middle;\n",
              "    }\n",
              "\n",
              "    .dataframe tbody tr th {\n",
              "        vertical-align: top;\n",
              "    }\n",
              "\n",
              "    .dataframe thead th {\n",
              "        text-align: right;\n",
              "    }\n",
              "</style>\n",
              "<table border=\"1\" class=\"dataframe\">\n",
              "  <thead>\n",
              "    <tr style=\"text-align: right;\">\n",
              "      <th></th>\n",
              "      <th>bitcoin address</th>\n",
              "      <th>wire amount</th>\n",
              "      <th>credit card</th>\n",
              "      <th>currency</th>\n",
              "    </tr>\n",
              "  </thead>\n",
              "  <tbody>\n",
              "    <tr>\n",
              "      <th>0</th>\n",
              "      <td>1J9DVMtgvnPv4KGHL2XSzoTSt5cBBL1DXe</td>\n",
              "      <td>£8356.92</td>\n",
              "      <td>3543456448666398</td>\n",
              "      <td>£</td>\n",
              "    </tr>\n",
              "    <tr>\n",
              "      <th>1</th>\n",
              "      <td>1HaiVQbzCTs7t1K1fckYEUi9t8ERBFRR7Q</td>\n",
              "      <td>€311.06</td>\n",
              "      <td>3584615208479876</td>\n",
              "      <td>€</td>\n",
              "    </tr>\n",
              "    <tr>\n",
              "      <th>2</th>\n",
              "      <td>1NGPjXfDScEUSZYajAzCkxaVApTbBHC7jP</td>\n",
              "      <td>€2032.44</td>\n",
              "      <td>6370577480710876</td>\n",
              "      <td>€</td>\n",
              "    </tr>\n",
              "    <tr>\n",
              "      <th>3</th>\n",
              "      <td>15cSYRTbcrxYinxNxk7VbkPLZG8nypdjy6</td>\n",
              "      <td>¥8155.74</td>\n",
              "      <td>4508652385157398</td>\n",
              "      <td>¥</td>\n",
              "    </tr>\n",
              "    <tr>\n",
              "      <th>4</th>\n",
              "      <td>18j2qG1DH9YduJiBiccAq8Ak897G3E4JyZ</td>\n",
              "      <td>£3265.44</td>\n",
              "      <td>374622922103592</td>\n",
              "      <td>£</td>\n",
              "    </tr>\n",
              "  </tbody>\n",
              "</table>\n",
              "</div>"
            ],
            "text/plain": [
              "                      bitcoin address wire amount       credit card currency\n",
              "0  1J9DVMtgvnPv4KGHL2XSzoTSt5cBBL1DXe    £8356.92  3543456448666398        £\n",
              "1  1HaiVQbzCTs7t1K1fckYEUi9t8ERBFRR7Q     €311.06  3584615208479876        €\n",
              "2  1NGPjXfDScEUSZYajAzCkxaVApTbBHC7jP    €2032.44  6370577480710876        €\n",
              "3  15cSYRTbcrxYinxNxk7VbkPLZG8nypdjy6    ¥8155.74  4508652385157398        ¥\n",
              "4  18j2qG1DH9YduJiBiccAq8Ak897G3E4JyZ    £3265.44   374622922103592        £"
            ]
          },
          "metadata": {
            "tags": []
          },
          "execution_count": 24
        }
      ]
    },
    {
      "cell_type": "code",
      "metadata": {
        "colab": {
          "base_uri": "https://localhost:8080/"
        },
        "id": "jYIOROhrhkJW",
        "outputId": "c5b3b28b-0b48-4567-893a-fad83a3da3c7"
      },
      "source": [
        "df['wire amount'].str.slice(1,None).astype(float)"
      ],
      "execution_count": null,
      "outputs": [
        {
          "output_type": "execute_result",
          "data": {
            "text/plain": [
              "0      8356.92\n",
              "1       311.06\n",
              "2      2032.44\n",
              "3      8155.74\n",
              "4      3265.44\n",
              "        ...   \n",
              "995     844.68\n",
              "996    1433.63\n",
              "997    3814.11\n",
              "998    2900.85\n",
              "999    1587.16\n",
              "Name: wire amount, Length: 1000, dtype: float64"
            ]
          },
          "metadata": {
            "tags": []
          },
          "execution_count": 25
        }
      ]
    },
    {
      "cell_type": "code",
      "metadata": {
        "colab": {
          "base_uri": "https://localhost:8080/",
          "height": 202
        },
        "id": "8w0p6_ScjM5z",
        "outputId": "07a63649-58ab-403e-86e0-470a249c0f28"
      },
      "source": [
        "df['wire amount']=df['wire amount'].str.slice(1).astype(float)\r\n",
        "df.head()"
      ],
      "execution_count": null,
      "outputs": [
        {
          "output_type": "execute_result",
          "data": {
            "text/html": [
              "<div>\n",
              "<style scoped>\n",
              "    .dataframe tbody tr th:only-of-type {\n",
              "        vertical-align: middle;\n",
              "    }\n",
              "\n",
              "    .dataframe tbody tr th {\n",
              "        vertical-align: top;\n",
              "    }\n",
              "\n",
              "    .dataframe thead th {\n",
              "        text-align: right;\n",
              "    }\n",
              "</style>\n",
              "<table border=\"1\" class=\"dataframe\">\n",
              "  <thead>\n",
              "    <tr style=\"text-align: right;\">\n",
              "      <th></th>\n",
              "      <th>bitcoin address</th>\n",
              "      <th>wire amount</th>\n",
              "      <th>credit card</th>\n",
              "      <th>currency</th>\n",
              "    </tr>\n",
              "  </thead>\n",
              "  <tbody>\n",
              "    <tr>\n",
              "      <th>0</th>\n",
              "      <td>1J9DVMtgvnPv4KGHL2XSzoTSt5cBBL1DXe</td>\n",
              "      <td>8356.92</td>\n",
              "      <td>3543456448666398</td>\n",
              "      <td>£</td>\n",
              "    </tr>\n",
              "    <tr>\n",
              "      <th>1</th>\n",
              "      <td>1HaiVQbzCTs7t1K1fckYEUi9t8ERBFRR7Q</td>\n",
              "      <td>311.06</td>\n",
              "      <td>3584615208479876</td>\n",
              "      <td>€</td>\n",
              "    </tr>\n",
              "    <tr>\n",
              "      <th>2</th>\n",
              "      <td>1NGPjXfDScEUSZYajAzCkxaVApTbBHC7jP</td>\n",
              "      <td>2032.44</td>\n",
              "      <td>6370577480710876</td>\n",
              "      <td>€</td>\n",
              "    </tr>\n",
              "    <tr>\n",
              "      <th>3</th>\n",
              "      <td>15cSYRTbcrxYinxNxk7VbkPLZG8nypdjy6</td>\n",
              "      <td>8155.74</td>\n",
              "      <td>4508652385157398</td>\n",
              "      <td>¥</td>\n",
              "    </tr>\n",
              "    <tr>\n",
              "      <th>4</th>\n",
              "      <td>18j2qG1DH9YduJiBiccAq8Ak897G3E4JyZ</td>\n",
              "      <td>3265.44</td>\n",
              "      <td>374622922103592</td>\n",
              "      <td>£</td>\n",
              "    </tr>\n",
              "  </tbody>\n",
              "</table>\n",
              "</div>"
            ],
            "text/plain": [
              "                      bitcoin address  wire amount       credit card currency\n",
              "0  1J9DVMtgvnPv4KGHL2XSzoTSt5cBBL1DXe      8356.92  3543456448666398        £\n",
              "1  1HaiVQbzCTs7t1K1fckYEUi9t8ERBFRR7Q       311.06  3584615208479876        €\n",
              "2  1NGPjXfDScEUSZYajAzCkxaVApTbBHC7jP      2032.44  6370577480710876        €\n",
              "3  15cSYRTbcrxYinxNxk7VbkPLZG8nypdjy6      8155.74  4508652385157398        ¥\n",
              "4  18j2qG1DH9YduJiBiccAq8Ak897G3E4JyZ      3265.44   374622922103592        £"
            ]
          },
          "metadata": {
            "tags": []
          },
          "execution_count": 26
        }
      ]
    },
    {
      "cell_type": "code",
      "metadata": {
        "colab": {
          "base_uri": "https://localhost:8080/"
        },
        "id": "POjtE00UjhT5",
        "outputId": "d6e5d73f-cd78-4b02-c621-7e99ba415c6e"
      },
      "source": [
        "fp='https://bit.ly/felonies-dataset'\r\n",
        "print(fp)"
      ],
      "execution_count": null,
      "outputs": [
        {
          "output_type": "stream",
          "text": [
            "https://bit.ly/felonies-dataset\n"
          ],
          "name": "stdout"
        }
      ]
    },
    {
      "cell_type": "code",
      "metadata": {
        "colab": {
          "base_uri": "https://localhost:8080/",
          "height": 202
        },
        "id": "8C2pFz6FmdaW",
        "outputId": "25092429-f462-419b-8482-dc97f70d19c2"
      },
      "source": [
        "df=pd.read_csv(fp)\r\n",
        "df.head()"
      ],
      "execution_count": null,
      "outputs": [
        {
          "output_type": "execute_result",
          "data": {
            "text/html": [
              "<div>\n",
              "<style scoped>\n",
              "    .dataframe tbody tr th:only-of-type {\n",
              "        vertical-align: middle;\n",
              "    }\n",
              "\n",
              "    .dataframe tbody tr th {\n",
              "        vertical-align: top;\n",
              "    }\n",
              "\n",
              "    .dataframe thead th {\n",
              "        text-align: right;\n",
              "    }\n",
              "</style>\n",
              "<table border=\"1\" class=\"dataframe\">\n",
              "  <thead>\n",
              "    <tr style=\"text-align: right;\">\n",
              "      <th></th>\n",
              "      <th>Date of Arrest</th>\n",
              "      <th>Age</th>\n",
              "      <th>Convicted</th>\n",
              "    </tr>\n",
              "  </thead>\n",
              "  <tbody>\n",
              "    <tr>\n",
              "      <th>0</th>\n",
              "      <td>2014-07-16 14:59:18</td>\n",
              "      <td>77</td>\n",
              "      <td>Yes</td>\n",
              "    </tr>\n",
              "    <tr>\n",
              "      <th>1</th>\n",
              "      <td>2002-12-19 22:17:59</td>\n",
              "      <td>28</td>\n",
              "      <td>Yes</td>\n",
              "    </tr>\n",
              "    <tr>\n",
              "      <th>2</th>\n",
              "      <td>1994-06-28 09:31:40</td>\n",
              "      <td>21</td>\n",
              "      <td>No</td>\n",
              "    </tr>\n",
              "    <tr>\n",
              "      <th>3</th>\n",
              "      <td>1985-05-14 09:52:17</td>\n",
              "      <td>45</td>\n",
              "      <td>Yes</td>\n",
              "    </tr>\n",
              "    <tr>\n",
              "      <th>4</th>\n",
              "      <td>1985-05-25 14:06:28</td>\n",
              "      <td>39</td>\n",
              "      <td>Yes</td>\n",
              "    </tr>\n",
              "  </tbody>\n",
              "</table>\n",
              "</div>"
            ],
            "text/plain": [
              "        Date of Arrest  Age Convicted\n",
              "0  2014-07-16 14:59:18   77       Yes\n",
              "1  2002-12-19 22:17:59   28       Yes\n",
              "2  1994-06-28 09:31:40   21        No\n",
              "3  1985-05-14 09:52:17   45       Yes\n",
              "4  1985-05-25 14:06:28   39       Yes"
            ]
          },
          "metadata": {
            "tags": []
          },
          "execution_count": 28
        }
      ]
    },
    {
      "cell_type": "code",
      "metadata": {
        "colab": {
          "base_uri": "https://localhost:8080/"
        },
        "id": "ptGYvIRvmnyv",
        "outputId": "d0bcbe7a-18eb-4c5c-f92f-55736284617b"
      },
      "source": [
        "df.dtypes"
      ],
      "execution_count": null,
      "outputs": [
        {
          "output_type": "execute_result",
          "data": {
            "text/plain": [
              "Date of Arrest    object\n",
              "Age                int64\n",
              "Convicted         object\n",
              "dtype: object"
            ]
          },
          "metadata": {
            "tags": []
          },
          "execution_count": 29
        }
      ]
    },
    {
      "cell_type": "code",
      "metadata": {
        "colab": {
          "base_uri": "https://localhost:8080/"
        },
        "id": "UseZc042m9h9",
        "outputId": "3dd54856-086b-41c4-8252-56046f9054bd"
      },
      "source": [
        "df['Age'].describe()"
      ],
      "execution_count": null,
      "outputs": [
        {
          "output_type": "execute_result",
          "data": {
            "text/plain": [
              "count    1000.000000\n",
              "mean       54.605000\n",
              "std        25.225172\n",
              "min        10.000000\n",
              "25%        33.000000\n",
              "50%        53.000000\n",
              "75%        76.000000\n",
              "max        99.000000\n",
              "Name: Age, dtype: float64"
            ]
          },
          "metadata": {
            "tags": []
          },
          "execution_count": 32
        }
      ]
    },
    {
      "cell_type": "code",
      "metadata": {
        "colab": {
          "base_uri": "https://localhost:8080/"
        },
        "id": "oXNw2SScoJj8",
        "outputId": "33b0f414-cd32-45f3-b612-810318e55603"
      },
      "source": [
        "#Recoder la date enfant 0-13, Adol 14-20, Adult 21-65, Seniors +65\r\n",
        "pd.cut(df['Age'],\r\n",
        "       bins=[9,13,20,65,100],\r\n",
        "       labels=['Child','Ado','Adult','Senior'])"
      ],
      "execution_count": null,
      "outputs": [
        {
          "output_type": "execute_result",
          "data": {
            "text/plain": [
              "0      Senior\n",
              "1       Adult\n",
              "2       Adult\n",
              "3       Adult\n",
              "4       Adult\n",
              "        ...  \n",
              "995    Senior\n",
              "996    Senior\n",
              "997    Senior\n",
              "998     Adult\n",
              "999     Adult\n",
              "Name: Age, Length: 1000, dtype: category\n",
              "Categories (4, object): ['Child' < 'Ado' < 'Adult' < 'Senior']"
            ]
          },
          "metadata": {
            "tags": []
          },
          "execution_count": 33
        }
      ]
    },
    {
      "cell_type": "code",
      "metadata": {
        "colab": {
          "base_uri": "https://localhost:8080/"
        },
        "id": "etI0T2xZrGPf",
        "outputId": "870e05e9-2c6b-46c1-bdf1-83f57a45d9b3"
      },
      "source": [
        "prefix=['ten','twent','thir','four','fif','six','seven','eigh','nine',]\r\n",
        "for i, prefix in enumerate(prefix):\r\n",
        "  age=(i+1)*10\r\n",
        "  categoryName=prefix+'ties'\r\n",
        "  print(f'* De {age} à {age+9} ans => {categoryName}')"
      ],
      "execution_count": null,
      "outputs": [
        {
          "output_type": "stream",
          "text": [
            "* De 10 à 19 ans => tenties\n",
            "* De 20 à 29 ans => twentties\n",
            "* De 30 à 39 ans => thirties\n",
            "* De 40 à 49 ans => fourties\n",
            "* De 50 à 59 ans => fifties\n",
            "* De 60 à 69 ans => sixties\n",
            "* De 70 à 79 ans => seventies\n",
            "* De 80 à 89 ans => eighties\n",
            "* De 90 à 99 ans => nineties\n"
          ],
          "name": "stdout"
        }
      ]
    },
    {
      "cell_type": "markdown",
      "metadata": {
        "id": "UWG4958rwVFI"
      },
      "source": [
        " De 10 à 19 ans => tenties\r\n",
        "* De 20 à 29 ans => twentties\r\n",
        "* De 30 à 39 ans => thirties\r\n",
        "* De 40 à 49 ans => fourties\r\n",
        "* De 50 à 59 ans => fifties\r\n",
        "* De 60 à 69 ans => sixties\r\n",
        "* De 70 à 79 ans => seventies\r\n",
        "* De 80 à 89 ans => eighties\r\n",
        "* De 90 à 99 ans => nineties"
      ]
    },
    {
      "cell_type": "code",
      "metadata": {
        "colab": {
          "base_uri": "https://localhost:8080/"
        },
        "id": "74uu0iLrwXb2",
        "outputId": "fc9e96f9-74f5-4ca8-dc15-9f140db99e72"
      },
      "source": [
        "# A dure\r\n",
        "df['Date of Arrest'].str.slice(0,4)"
      ],
      "execution_count": null,
      "outputs": [
        {
          "output_type": "execute_result",
          "data": {
            "text/plain": [
              "0      2014\n",
              "1      2002\n",
              "2      1994\n",
              "3      1985\n",
              "4      1985\n",
              "       ... \n",
              "995    1992\n",
              "996    1996\n",
              "997    1980\n",
              "998    1999\n",
              "999    1996\n",
              "Name: Date of Arrest, Length: 1000, dtype: object"
            ]
          },
          "metadata": {
            "tags": []
          },
          "execution_count": 36
        }
      ]
    },
    {
      "cell_type": "code",
      "metadata": {
        "colab": {
          "base_uri": "https://localhost:8080/",
          "height": 202
        },
        "id": "cKoLqNp9y2c9",
        "outputId": "c1b489ef-360d-40da-db09-72cfcaed845f"
      },
      "source": [
        "df['Year']=df['Date of Arrest'].str.slice(0,4).astype(int)\r\n",
        "df['Month']=df['Date of Arrest'].str.slice(5,7).astype(int)\r\n",
        "df['Day']=df['Date of Arrest'].str.slice(8,10).astype(int)\r\n",
        "df['Hours']=df['Date of Arrest'].str.slice(11,13).astype(int)\r\n",
        "df['Minutes']=df['Date of Arrest'].str.slice(14,16).astype(int)\r\n",
        "df['Secondes']=df['Date of Arrest'].str.slice(17,19).astype(int)\r\n",
        "df.head()"
      ],
      "execution_count": null,
      "outputs": [
        {
          "output_type": "execute_result",
          "data": {
            "text/html": [
              "<div>\n",
              "<style scoped>\n",
              "    .dataframe tbody tr th:only-of-type {\n",
              "        vertical-align: middle;\n",
              "    }\n",
              "\n",
              "    .dataframe tbody tr th {\n",
              "        vertical-align: top;\n",
              "    }\n",
              "\n",
              "    .dataframe thead th {\n",
              "        text-align: right;\n",
              "    }\n",
              "</style>\n",
              "<table border=\"1\" class=\"dataframe\">\n",
              "  <thead>\n",
              "    <tr style=\"text-align: right;\">\n",
              "      <th></th>\n",
              "      <th>Date of Arrest</th>\n",
              "      <th>Age</th>\n",
              "      <th>Convicted</th>\n",
              "      <th>Year</th>\n",
              "      <th>Month</th>\n",
              "      <th>Day</th>\n",
              "      <th>Hours</th>\n",
              "      <th>Minutes</th>\n",
              "      <th>Secondes</th>\n",
              "    </tr>\n",
              "  </thead>\n",
              "  <tbody>\n",
              "    <tr>\n",
              "      <th>0</th>\n",
              "      <td>2014-07-16 14:59:18</td>\n",
              "      <td>77</td>\n",
              "      <td>Yes</td>\n",
              "      <td>2014</td>\n",
              "      <td>7</td>\n",
              "      <td>16</td>\n",
              "      <td>14</td>\n",
              "      <td>59</td>\n",
              "      <td>18</td>\n",
              "    </tr>\n",
              "    <tr>\n",
              "      <th>1</th>\n",
              "      <td>2002-12-19 22:17:59</td>\n",
              "      <td>28</td>\n",
              "      <td>Yes</td>\n",
              "      <td>2002</td>\n",
              "      <td>12</td>\n",
              "      <td>19</td>\n",
              "      <td>22</td>\n",
              "      <td>17</td>\n",
              "      <td>59</td>\n",
              "    </tr>\n",
              "    <tr>\n",
              "      <th>2</th>\n",
              "      <td>1994-06-28 09:31:40</td>\n",
              "      <td>21</td>\n",
              "      <td>No</td>\n",
              "      <td>1994</td>\n",
              "      <td>6</td>\n",
              "      <td>28</td>\n",
              "      <td>9</td>\n",
              "      <td>31</td>\n",
              "      <td>40</td>\n",
              "    </tr>\n",
              "    <tr>\n",
              "      <th>3</th>\n",
              "      <td>1985-05-14 09:52:17</td>\n",
              "      <td>45</td>\n",
              "      <td>Yes</td>\n",
              "      <td>1985</td>\n",
              "      <td>5</td>\n",
              "      <td>14</td>\n",
              "      <td>9</td>\n",
              "      <td>52</td>\n",
              "      <td>17</td>\n",
              "    </tr>\n",
              "    <tr>\n",
              "      <th>4</th>\n",
              "      <td>1985-05-25 14:06:28</td>\n",
              "      <td>39</td>\n",
              "      <td>Yes</td>\n",
              "      <td>1985</td>\n",
              "      <td>5</td>\n",
              "      <td>25</td>\n",
              "      <td>14</td>\n",
              "      <td>6</td>\n",
              "      <td>28</td>\n",
              "    </tr>\n",
              "  </tbody>\n",
              "</table>\n",
              "</div>"
            ],
            "text/plain": [
              "        Date of Arrest  Age Convicted  Year  ...  Day  Hours  Minutes  Secondes\n",
              "0  2014-07-16 14:59:18   77       Yes  2014  ...   16     14       59        18\n",
              "1  2002-12-19 22:17:59   28       Yes  2002  ...   19     22       17        59\n",
              "2  1994-06-28 09:31:40   21        No  1994  ...   28      9       31        40\n",
              "3  1985-05-14 09:52:17   45       Yes  1985  ...   14      9       52        17\n",
              "4  1985-05-25 14:06:28   39       Yes  1985  ...   25     14        6        28\n",
              "\n",
              "[5 rows x 9 columns]"
            ]
          },
          "metadata": {
            "tags": []
          },
          "execution_count": 38
        }
      ]
    },
    {
      "cell_type": "code",
      "metadata": {
        "colab": {
          "base_uri": "https://localhost:8080/"
        },
        "id": "xvQ818GGzJ53",
        "outputId": "bb6f13ce-e65f-4149-e8af-464159a1c995"
      },
      "source": [
        "# a la coo\r\n",
        "#consiste à caster le type str dans notre champ date en type datetime\r\n",
        "pd.to_datetime(df['Date of Arrest'])\r\n"
      ],
      "execution_count": null,
      "outputs": [
        {
          "output_type": "execute_result",
          "data": {
            "text/plain": [
              "0     2014-07-16 14:59:18\n",
              "1     2002-12-19 22:17:59\n",
              "2     1994-06-28 09:31:40\n",
              "3     1985-05-14 09:52:17\n",
              "4     1985-05-25 14:06:28\n",
              "              ...        \n",
              "995   1992-02-04 14:24:25\n",
              "996   1996-04-29 18:03:23\n",
              "997   1980-07-15 21:59:27\n",
              "998   1999-07-05 17:16:12\n",
              "999   1996-03-17 18:29:25\n",
              "Name: Date of Arrest, Length: 1000, dtype: datetime64[ns]"
            ]
          },
          "metadata": {
            "tags": []
          },
          "execution_count": 39
        }
      ]
    },
    {
      "cell_type": "code",
      "metadata": {
        "colab": {
          "base_uri": "https://localhost:8080/"
        },
        "id": "YitKGUJ01gmO",
        "outputId": "17072eda-2b38-4822-f908-98ff350544ea"
      },
      "source": [
        "df['Date of Arrest']=pd.to_datetime(df['Date of Arrest'])\r\n",
        "df.dtypes"
      ],
      "execution_count": null,
      "outputs": [
        {
          "output_type": "execute_result",
          "data": {
            "text/plain": [
              "Date of Arrest    datetime64[ns]\n",
              "Age                        int64\n",
              "Convicted                 object\n",
              "dtype: object"
            ]
          },
          "metadata": {
            "tags": []
          },
          "execution_count": 51
        }
      ]
    },
    {
      "cell_type": "code",
      "metadata": {
        "id": "TcT2LxOO1y7C"
      },
      "source": [
        "#df.drop(['Year','Day','Hours','Month','Minutes','Secondes'],axis=1,inplace=True)"
      ],
      "execution_count": null,
      "outputs": []
    },
    {
      "cell_type": "code",
      "metadata": {
        "colab": {
          "base_uri": "https://localhost:8080/"
        },
        "id": "b5EoDsd72ZU9",
        "outputId": "ae074e71-3989-4f95-eb7d-3ba5cfcbf86a"
      },
      "source": [
        "df['Date of Arrest'].dt.date"
      ],
      "execution_count": null,
      "outputs": [
        {
          "output_type": "execute_result",
          "data": {
            "text/plain": [
              "0      2014-07-16\n",
              "1      2002-12-19\n",
              "2      1994-06-28\n",
              "3      1985-05-14\n",
              "4      1985-05-25\n",
              "          ...    \n",
              "995    1992-02-04\n",
              "996    1996-04-29\n",
              "997    1980-07-15\n",
              "998    1999-07-05\n",
              "999    1996-03-17\n",
              "Name: Date of Arrest, Length: 1000, dtype: object"
            ]
          },
          "metadata": {
            "tags": []
          },
          "execution_count": 53
        }
      ]
    },
    {
      "cell_type": "code",
      "metadata": {
        "colab": {
          "base_uri": "https://localhost:8080/"
        },
        "id": "Xl7flGdI3nDu",
        "outputId": "21627c7d-2ea7-4f7b-d3f1-8a46112445bc"
      },
      "source": [
        "df['Date of Arrest'].dt.month"
      ],
      "execution_count": null,
      "outputs": [
        {
          "output_type": "execute_result",
          "data": {
            "text/plain": [
              "0       7\n",
              "1      12\n",
              "2       6\n",
              "3       5\n",
              "4       5\n",
              "       ..\n",
              "995     2\n",
              "996     4\n",
              "997     7\n",
              "998     7\n",
              "999     3\n",
              "Name: Date of Arrest, Length: 1000, dtype: int64"
            ]
          },
          "metadata": {
            "tags": []
          },
          "execution_count": 54
        }
      ]
    },
    {
      "cell_type": "code",
      "metadata": {
        "colab": {
          "base_uri": "https://localhost:8080/"
        },
        "id": "ulvPjAn34AFL",
        "outputId": "883faf87-bf93-4969-fc05-40ab6873820c"
      },
      "source": [
        "df['Date of Arrest'].dt.day"
      ],
      "execution_count": null,
      "outputs": [
        {
          "output_type": "execute_result",
          "data": {
            "text/plain": [
              "0      16\n",
              "1      19\n",
              "2      28\n",
              "3      14\n",
              "4      25\n",
              "       ..\n",
              "995     4\n",
              "996    29\n",
              "997    15\n",
              "998     5\n",
              "999    17\n",
              "Name: Date of Arrest, Length: 1000, dtype: int64"
            ]
          },
          "metadata": {
            "tags": []
          },
          "execution_count": 61
        }
      ]
    },
    {
      "cell_type": "code",
      "metadata": {
        "colab": {
          "base_uri": "https://localhost:8080/"
        },
        "id": "bAGw7AGt4Cf8",
        "outputId": "35bb57f4-0aed-4dc1-f4f3-f76531ce8936"
      },
      "source": [
        "df['Date of Arrest'].dt.time"
      ],
      "execution_count": null,
      "outputs": [
        {
          "output_type": "execute_result",
          "data": {
            "text/plain": [
              "0      14:59:18\n",
              "1      22:17:59\n",
              "2      09:31:40\n",
              "3      09:52:17\n",
              "4      14:06:28\n",
              "         ...   \n",
              "995    14:24:25\n",
              "996    18:03:23\n",
              "997    21:59:27\n",
              "998    17:16:12\n",
              "999    18:29:25\n",
              "Name: Date of Arrest, Length: 1000, dtype: object"
            ]
          },
          "metadata": {
            "tags": []
          },
          "execution_count": 56
        }
      ]
    },
    {
      "cell_type": "code",
      "metadata": {
        "colab": {
          "base_uri": "https://localhost:8080/"
        },
        "id": "msJ47ReK4FLZ",
        "outputId": "6a0bcfb9-58a1-45ee-d350-1b3b4b3db545"
      },
      "source": [
        "df['Date of Arrest'].dt.dayofweek"
      ],
      "execution_count": null,
      "outputs": [
        {
          "output_type": "execute_result",
          "data": {
            "text/plain": [
              "0      2\n",
              "1      3\n",
              "2      1\n",
              "3      1\n",
              "4      5\n",
              "      ..\n",
              "995    1\n",
              "996    0\n",
              "997    1\n",
              "998    0\n",
              "999    6\n",
              "Name: Date of Arrest, Length: 1000, dtype: int64"
            ]
          },
          "metadata": {
            "tags": []
          },
          "execution_count": 57
        }
      ]
    },
    {
      "cell_type": "code",
      "metadata": {
        "colab": {
          "base_uri": "https://localhost:8080/"
        },
        "id": "gO2QnRWa4P_8",
        "outputId": "8c38ea29-a336-4aa1-8a03-c0f84e6072b7"
      },
      "source": [
        "df['Date of Arrest'].dt.day_name()"
      ],
      "execution_count": null,
      "outputs": [
        {
          "output_type": "execute_result",
          "data": {
            "text/plain": [
              "0      Wednesday\n",
              "1       Thursday\n",
              "2        Tuesday\n",
              "3        Tuesday\n",
              "4       Saturday\n",
              "         ...    \n",
              "995      Tuesday\n",
              "996       Monday\n",
              "997      Tuesday\n",
              "998       Monday\n",
              "999       Sunday\n",
              "Name: Date of Arrest, Length: 1000, dtype: object"
            ]
          },
          "metadata": {
            "tags": []
          },
          "execution_count": 62
        }
      ]
    },
    {
      "cell_type": "code",
      "metadata": {
        "colab": {
          "base_uri": "https://localhost:8080/"
        },
        "id": "vDS0npNG5IRB",
        "outputId": "bf505e14-c036-4259-a7d0-2c3451efec78"
      },
      "source": [
        "df['Date of Arrest'].dt.month_name()"
      ],
      "execution_count": null,
      "outputs": [
        {
          "output_type": "execute_result",
          "data": {
            "text/plain": [
              "0          July\n",
              "1      December\n",
              "2          June\n",
              "3           May\n",
              "4           May\n",
              "         ...   \n",
              "995    February\n",
              "996       April\n",
              "997        July\n",
              "998        July\n",
              "999       March\n",
              "Name: Date of Arrest, Length: 1000, dtype: object"
            ]
          },
          "metadata": {
            "tags": []
          },
          "execution_count": 64
        }
      ]
    },
    {
      "cell_type": "code",
      "metadata": {
        "colab": {
          "base_uri": "https://localhost:8080/"
        },
        "id": "FNjJuhHe5O6l",
        "outputId": "f8f2c9a5-dbf4-4979-eb18-4a15771f196d"
      },
      "source": [
        "df['Date of Arrest'].dt.year"
      ],
      "execution_count": null,
      "outputs": [
        {
          "output_type": "execute_result",
          "data": {
            "text/plain": [
              "0      2014\n",
              "1      2002\n",
              "2      1994\n",
              "3      1985\n",
              "4      1985\n",
              "       ... \n",
              "995    1992\n",
              "996    1996\n",
              "997    1980\n",
              "998    1999\n",
              "999    1996\n",
              "Name: Date of Arrest, Length: 1000, dtype: int64"
            ]
          },
          "metadata": {
            "tags": []
          },
          "execution_count": 65
        }
      ]
    },
    {
      "cell_type": "code",
      "metadata": {
        "id": "JhfIiq4AuCwL"
      },
      "source": [
        ""
      ],
      "execution_count": null,
      "outputs": []
    },
    {
      "cell_type": "markdown",
      "metadata": {
        "id": "sHPjnzG6uFW3"
      },
      "source": [
        "# Extraire de l'information categorielle depuis des dates"
      ]
    },
    {
      "cell_type": "code",
      "metadata": {
        "colab": {
          "base_uri": "https://localhost:8080/"
        },
        "id": "aUMzCXkjuPpw",
        "outputId": "44991ebd-9933-4aa2-98ec-06a195e1877b"
      },
      "source": [
        "fp='https://bit.ly/felonies-dataset'\r\n",
        "print(fp)"
      ],
      "execution_count": null,
      "outputs": [
        {
          "output_type": "stream",
          "text": [
            "https://bit.ly/felonies-dataset\n"
          ],
          "name": "stdout"
        }
      ]
    },
    {
      "cell_type": "code",
      "metadata": {
        "colab": {
          "base_uri": "https://localhost:8080/",
          "height": 202
        },
        "id": "F_fysHPuy394",
        "outputId": "8f0fad3a-7b5f-48f9-8ed3-e085e412600c"
      },
      "source": [
        "df=pd.read_csv(fp)\r\n",
        "df.head()"
      ],
      "execution_count": null,
      "outputs": [
        {
          "output_type": "execute_result",
          "data": {
            "text/html": [
              "<div>\n",
              "<style scoped>\n",
              "    .dataframe tbody tr th:only-of-type {\n",
              "        vertical-align: middle;\n",
              "    }\n",
              "\n",
              "    .dataframe tbody tr th {\n",
              "        vertical-align: top;\n",
              "    }\n",
              "\n",
              "    .dataframe thead th {\n",
              "        text-align: right;\n",
              "    }\n",
              "</style>\n",
              "<table border=\"1\" class=\"dataframe\">\n",
              "  <thead>\n",
              "    <tr style=\"text-align: right;\">\n",
              "      <th></th>\n",
              "      <th>Date of Arrest</th>\n",
              "      <th>Age</th>\n",
              "      <th>Convicted</th>\n",
              "    </tr>\n",
              "  </thead>\n",
              "  <tbody>\n",
              "    <tr>\n",
              "      <th>0</th>\n",
              "      <td>2014-07-16 14:59:18</td>\n",
              "      <td>77</td>\n",
              "      <td>Yes</td>\n",
              "    </tr>\n",
              "    <tr>\n",
              "      <th>1</th>\n",
              "      <td>2002-12-19 22:17:59</td>\n",
              "      <td>28</td>\n",
              "      <td>Yes</td>\n",
              "    </tr>\n",
              "    <tr>\n",
              "      <th>2</th>\n",
              "      <td>1994-06-28 09:31:40</td>\n",
              "      <td>21</td>\n",
              "      <td>No</td>\n",
              "    </tr>\n",
              "    <tr>\n",
              "      <th>3</th>\n",
              "      <td>1985-05-14 09:52:17</td>\n",
              "      <td>45</td>\n",
              "      <td>Yes</td>\n",
              "    </tr>\n",
              "    <tr>\n",
              "      <th>4</th>\n",
              "      <td>1985-05-25 14:06:28</td>\n",
              "      <td>39</td>\n",
              "      <td>Yes</td>\n",
              "    </tr>\n",
              "  </tbody>\n",
              "</table>\n",
              "</div>"
            ],
            "text/plain": [
              "        Date of Arrest  Age Convicted\n",
              "0  2014-07-16 14:59:18   77       Yes\n",
              "1  2002-12-19 22:17:59   28       Yes\n",
              "2  1994-06-28 09:31:40   21        No\n",
              "3  1985-05-14 09:52:17   45       Yes\n",
              "4  1985-05-25 14:06:28   39       Yes"
            ]
          },
          "metadata": {
            "tags": []
          },
          "execution_count": 3
        }
      ]
    },
    {
      "cell_type": "code",
      "metadata": {
        "colab": {
          "base_uri": "https://localhost:8080/"
        },
        "id": "-qIKqs7ezBx0",
        "outputId": "e9407617-3186-4136-dfe1-d12be6e1b6b4"
      },
      "source": [
        "df.dtypes"
      ],
      "execution_count": null,
      "outputs": [
        {
          "output_type": "execute_result",
          "data": {
            "text/plain": [
              "Date of Arrest    object\n",
              "Age                int64\n",
              "Convicted         object\n",
              "dtype: object"
            ]
          },
          "metadata": {
            "tags": []
          },
          "execution_count": 5
        }
      ]
    },
    {
      "cell_type": "code",
      "metadata": {
        "colab": {
          "base_uri": "https://localhost:8080/"
        },
        "id": "hJfGG3zXzEs0",
        "outputId": "659126bc-9b12-45ed-ff9c-a152b479f457"
      },
      "source": [
        "df['Date of Arrest']=pd.to_datetime(df['Date of Arrest'])\r\n",
        "df.dtypes"
      ],
      "execution_count": null,
      "outputs": [
        {
          "output_type": "execute_result",
          "data": {
            "text/plain": [
              "Date of Arrest    datetime64[ns]\n",
              "Age                        int64\n",
              "Convicted                 object\n",
              "dtype: object"
            ]
          },
          "metadata": {
            "tags": []
          },
          "execution_count": 6
        }
      ]
    },
    {
      "cell_type": "code",
      "metadata": {
        "id": "JJMfGw8tzdpq"
      },
      "source": [
        "from datetime import datetime"
      ],
      "execution_count": null,
      "outputs": []
    },
    {
      "cell_type": "code",
      "metadata": {
        "colab": {
          "base_uri": "https://localhost:8080/"
        },
        "id": "B-UXuoJ6054T",
        "outputId": "7ae44134-eb64-48b2-fc63-e3f1354deaed"
      },
      "source": [
        "datetime(year=1999,\r\n",
        "         month=1,\r\n",
        "         day=1)"
      ],
      "execution_count": null,
      "outputs": [
        {
          "output_type": "execute_result",
          "data": {
            "text/plain": [
              "datetime.datetime(1999, 1, 1, 0, 0)"
            ]
          },
          "metadata": {
            "tags": []
          },
          "execution_count": 8
        }
      ]
    },
    {
      "cell_type": "code",
      "metadata": {
        "id": "-vMxIPrq1P9B"
      },
      "source": [
        "def year(y):\r\n",
        "  return datetime(year=1999,month=1, day=1)\r\n",
        "  "
      ],
      "execution_count": null,
      "outputs": []
    },
    {
      "cell_type": "code",
      "metadata": {
        "colab": {
          "base_uri": "https://localhost:8080/"
        },
        "id": "pqhQkelx1l2G",
        "outputId": "5d2eae52-caf0-413c-e0ed-fe5041956729"
      },
      "source": [
        "year=lambda y: datetime(year=1999,month=1, day=1)\r\n",
        "\r\n",
        "year(2030)"
      ],
      "execution_count": null,
      "outputs": [
        {
          "output_type": "execute_result",
          "data": {
            "text/plain": [
              "datetime.datetime(1999, 1, 1, 0, 0)"
            ]
          },
          "metadata": {
            "tags": []
          },
          "execution_count": 10
        }
      ]
    },
    {
      "cell_type": "code",
      "metadata": {
        "colab": {
          "base_uri": "https://localhost:8080/"
        },
        "id": "XTfj-Y-w1zxr",
        "outputId": "f45b151a-c3fc-4efd-b6a4-af20cd9f8a87"
      },
      "source": [
        "df['Date of Arrest'].describe()"
      ],
      "execution_count": null,
      "outputs": [
        {
          "output_type": "stream",
          "text": [
            "/usr/local/lib/python3.6/dist-packages/ipykernel_launcher.py:1: FutureWarning: Treating datetime data as categorical rather than numeric in `.describe` is deprecated and will be removed in a future version of pandas. Specify `datetime_is_numeric=True` to silence this warning and adopt the future behavior now.\n",
            "  \"\"\"Entry point for launching an IPython kernel.\n"
          ],
          "name": "stderr"
        },
        {
          "output_type": "execute_result",
          "data": {
            "text/plain": [
              "count                    1000\n",
              "unique                   1000\n",
              "top       2012-09-17 23:04:27\n",
              "freq                        1\n",
              "first     1968-01-10 02:41:49\n",
              "last      2020-01-28 13:33:46\n",
              "Name: Date of Arrest, dtype: object"
            ]
          },
          "metadata": {
            "tags": []
          },
          "execution_count": 11
        }
      ]
    },
    {
      "cell_type": "code",
      "metadata": {
        "colab": {
          "base_uri": "https://localhost:8080/",
          "height": 35
        },
        "id": "yPavcePj8PHd",
        "outputId": "fe0235e1-114c-4bfe-f787-3b5172569020"
      },
      "source": [
        "print_data=lambda dt : dt.strftime('%d %b %Y')\r\n",
        "\r\n",
        "print_data(year(1990))"
      ],
      "execution_count": null,
      "outputs": [
        {
          "output_type": "execute_result",
          "data": {
            "application/vnd.google.colaboratory.intrinsic+json": {
              "type": "string"
            },
            "text/plain": [
              "'01 Jan 1999'"
            ]
          },
          "metadata": {
            "tags": []
          },
          "execution_count": 13
        }
      ]
    },
    {
      "cell_type": "code",
      "metadata": {
        "id": "A-5nyaJ-85BN"
      },
      "source": [
        "labels=[f'Periode {i+1}' for i in range(4)]"
      ],
      "execution_count": null,
      "outputs": []
    },
    {
      "cell_type": "code",
      "metadata": {
        "colab": {
          "base_uri": "https://localhost:8080/",
          "height": 537
        },
        "id": "tBGkA1-z_rDW",
        "outputId": "0c8c2e50-d8d1-42ea-e59e-9f11621aff41"
      },
      "source": [
        "pd.cut(df['Date of Arrest'],\r\n",
        "       bins=[year(1968),\r\n",
        "             year(1975),\r\n",
        "             year(1998),\r\n",
        "             year(2010),\r\n",
        "             year(2021)],\r\n",
        "       labels=labels)"
      ],
      "execution_count": null,
      "outputs": [
        {
          "output_type": "error",
          "ename": "ValueError",
          "evalue": "ignored",
          "traceback": [
            "\u001b[0;31m---------------------------------------------------------------------------\u001b[0m",
            "\u001b[0;31mValueError\u001b[0m                                Traceback (most recent call last)",
            "\u001b[0;32m<ipython-input-18-e50405e9f675>\u001b[0m in \u001b[0;36m<module>\u001b[0;34m()\u001b[0m\n\u001b[1;32m      5\u001b[0m              \u001b[0myear\u001b[0m\u001b[0;34m(\u001b[0m\u001b[0;36m2010\u001b[0m\u001b[0;34m)\u001b[0m\u001b[0;34m,\u001b[0m\u001b[0;34m\u001b[0m\u001b[0;34m\u001b[0m\u001b[0m\n\u001b[1;32m      6\u001b[0m              year(2021)],\n\u001b[0;32m----> 7\u001b[0;31m        labels=labels)\n\u001b[0m",
            "\u001b[0;32m/usr/local/lib/python3.6/dist-packages/pandas/core/reshape/tile.py\u001b[0m in \u001b[0;36mcut\u001b[0;34m(x, bins, right, labels, retbins, precision, include_lowest, duplicates, ordered)\u001b[0m\n\u001b[1;32m    282\u001b[0m         \u001b[0mdtype\u001b[0m\u001b[0;34m=\u001b[0m\u001b[0mdtype\u001b[0m\u001b[0;34m,\u001b[0m\u001b[0;34m\u001b[0m\u001b[0;34m\u001b[0m\u001b[0m\n\u001b[1;32m    283\u001b[0m         \u001b[0mduplicates\u001b[0m\u001b[0;34m=\u001b[0m\u001b[0mduplicates\u001b[0m\u001b[0;34m,\u001b[0m\u001b[0;34m\u001b[0m\u001b[0;34m\u001b[0m\u001b[0m\n\u001b[0;32m--> 284\u001b[0;31m         \u001b[0mordered\u001b[0m\u001b[0;34m=\u001b[0m\u001b[0mordered\u001b[0m\u001b[0;34m,\u001b[0m\u001b[0;34m\u001b[0m\u001b[0;34m\u001b[0m\u001b[0m\n\u001b[0m\u001b[1;32m    285\u001b[0m     )\n\u001b[1;32m    286\u001b[0m \u001b[0;34m\u001b[0m\u001b[0m\n",
            "\u001b[0;32m/usr/local/lib/python3.6/dist-packages/pandas/core/reshape/tile.py\u001b[0m in \u001b[0;36m_bins_to_cuts\u001b[0;34m(x, bins, right, labels, precision, include_lowest, dtype, duplicates, ordered)\u001b[0m\n\u001b[1;32m    400\u001b[0m         \u001b[0;32mif\u001b[0m \u001b[0mduplicates\u001b[0m \u001b[0;34m==\u001b[0m \u001b[0;34m\"raise\"\u001b[0m\u001b[0;34m:\u001b[0m\u001b[0;34m\u001b[0m\u001b[0;34m\u001b[0m\u001b[0m\n\u001b[1;32m    401\u001b[0m             raise ValueError(\n\u001b[0;32m--> 402\u001b[0;31m                 \u001b[0;34mf\"Bin edges must be unique: {repr(bins)}.\\n\"\u001b[0m\u001b[0;34m\u001b[0m\u001b[0;34m\u001b[0m\u001b[0m\n\u001b[0m\u001b[1;32m    403\u001b[0m                 \u001b[0;34mf\"You can drop duplicate edges by setting the 'duplicates' kwarg\"\u001b[0m\u001b[0;34m\u001b[0m\u001b[0;34m\u001b[0m\u001b[0m\n\u001b[1;32m    404\u001b[0m             )\n",
            "\u001b[0;31mValueError\u001b[0m: Bin edges must be unique: array([915148800000000000, 915148800000000000, 915148800000000000,\n       915148800000000000, 915148800000000000]).\nYou can drop duplicate edges by setting the 'duplicates' kwarg"
          ]
        }
      ]
    },
    {
      "cell_type": "markdown",
      "metadata": {
        "id": "67GGyrpFrAqS"
      },
      "source": [
        "# Objectif\r\n",
        "### *Lundi, Mardi = Debut de semaine\r\n",
        "### *Mercredi, Jeudi, Vendredi = Milieu de semaine\r\n",
        "### *Samedi, dimanche= Week-End"
      ]
    },
    {
      "cell_type": "code",
      "metadata": {
        "id": "DE3ojunaA_SQ",
        "colab": {
          "base_uri": "https://localhost:8080/"
        },
        "outputId": "0676cc24-1802-498e-c36c-77673c9449ea"
      },
      "source": [
        "df['Date of Arrest']=pd.to_datetime(df['Date of Arrest'])\r\n",
        "df.dtypes"
      ],
      "execution_count": null,
      "outputs": [
        {
          "output_type": "execute_result",
          "data": {
            "text/plain": [
              "Date of Arrest    datetime64[ns]\n",
              "Age                        int64\n",
              "Convicted                 object\n",
              "dtype: object"
            ]
          },
          "metadata": {
            "tags": []
          },
          "execution_count": 4
        }
      ]
    },
    {
      "cell_type": "code",
      "metadata": {
        "id": "kDCmBa_AmX-M"
      },
      "source": [
        "df.rename({'Date of Arrest':'DoA'}, axis=1, inplace=True)"
      ],
      "execution_count": null,
      "outputs": []
    },
    {
      "cell_type": "code",
      "metadata": {
        "colab": {
          "base_uri": "https://localhost:8080/",
          "height": 202
        },
        "id": "SEzxpKF0m5L4",
        "outputId": "2efecd98-4376-43d4-c021-f793d2969a7b"
      },
      "source": [
        "df.head()"
      ],
      "execution_count": null,
      "outputs": [
        {
          "output_type": "execute_result",
          "data": {
            "text/html": [
              "<div>\n",
              "<style scoped>\n",
              "    .dataframe tbody tr th:only-of-type {\n",
              "        vertical-align: middle;\n",
              "    }\n",
              "\n",
              "    .dataframe tbody tr th {\n",
              "        vertical-align: top;\n",
              "    }\n",
              "\n",
              "    .dataframe thead th {\n",
              "        text-align: right;\n",
              "    }\n",
              "</style>\n",
              "<table border=\"1\" class=\"dataframe\">\n",
              "  <thead>\n",
              "    <tr style=\"text-align: right;\">\n",
              "      <th></th>\n",
              "      <th>DoA</th>\n",
              "      <th>Age</th>\n",
              "      <th>Convicted</th>\n",
              "    </tr>\n",
              "  </thead>\n",
              "  <tbody>\n",
              "    <tr>\n",
              "      <th>0</th>\n",
              "      <td>2014-07-16 14:59:18</td>\n",
              "      <td>77</td>\n",
              "      <td>Yes</td>\n",
              "    </tr>\n",
              "    <tr>\n",
              "      <th>1</th>\n",
              "      <td>2002-12-19 22:17:59</td>\n",
              "      <td>28</td>\n",
              "      <td>Yes</td>\n",
              "    </tr>\n",
              "    <tr>\n",
              "      <th>2</th>\n",
              "      <td>1994-06-28 09:31:40</td>\n",
              "      <td>21</td>\n",
              "      <td>No</td>\n",
              "    </tr>\n",
              "    <tr>\n",
              "      <th>3</th>\n",
              "      <td>1985-05-14 09:52:17</td>\n",
              "      <td>45</td>\n",
              "      <td>Yes</td>\n",
              "    </tr>\n",
              "    <tr>\n",
              "      <th>4</th>\n",
              "      <td>1985-05-25 14:06:28</td>\n",
              "      <td>39</td>\n",
              "      <td>Yes</td>\n",
              "    </tr>\n",
              "  </tbody>\n",
              "</table>\n",
              "</div>"
            ],
            "text/plain": [
              "                  DoA  Age Convicted\n",
              "0 2014-07-16 14:59:18   77       Yes\n",
              "1 2002-12-19 22:17:59   28       Yes\n",
              "2 1994-06-28 09:31:40   21        No\n",
              "3 1985-05-14 09:52:17   45       Yes\n",
              "4 1985-05-25 14:06:28   39       Yes"
            ]
          },
          "metadata": {
            "tags": []
          },
          "execution_count": 6
        }
      ]
    },
    {
      "cell_type": "code",
      "metadata": {
        "colab": {
          "base_uri": "https://localhost:8080/"
        },
        "id": "JY_YWXzhm8OY",
        "outputId": "6e0be9d6-933d-435c-91ca-6eab35ddb5a2"
      },
      "source": [
        "df['DoA'].dt.dayofweek"
      ],
      "execution_count": null,
      "outputs": [
        {
          "output_type": "execute_result",
          "data": {
            "text/plain": [
              "0      2\n",
              "1      3\n",
              "2      1\n",
              "3      1\n",
              "4      5\n",
              "      ..\n",
              "995    1\n",
              "996    0\n",
              "997    1\n",
              "998    0\n",
              "999    6\n",
              "Name: DoA, Length: 1000, dtype: int64"
            ]
          },
          "metadata": {
            "tags": []
          },
          "execution_count": 7
        }
      ]
    },
    {
      "cell_type": "code",
      "metadata": {
        "id": "RAZSTfJmnS5W"
      },
      "source": [
        "day_list=['Monday', 'Tuesday','Wednesday','Thursday', 'Fraiday','Saturday','Sunday']"
      ],
      "execution_count": null,
      "outputs": []
    },
    {
      "cell_type": "code",
      "metadata": {
        "colab": {
          "base_uri": "https://localhost:8080/",
          "height": 35
        },
        "id": "ANIpxpUFoHc0",
        "outputId": "bb0ed958-7df1-4937-f91c-ef1d3b3fa198"
      },
      "source": [
        "day_list[0]"
      ],
      "execution_count": null,
      "outputs": [
        {
          "output_type": "execute_result",
          "data": {
            "application/vnd.google.colaboratory.intrinsic+json": {
              "type": "string"
            },
            "text/plain": [
              "'Monday'"
            ]
          },
          "metadata": {
            "tags": []
          },
          "execution_count": 17
        }
      ]
    },
    {
      "cell_type": "code",
      "metadata": {
        "colab": {
          "base_uri": "https://localhost:8080/",
          "height": 35
        },
        "id": "cUxkfg1ioOB6",
        "outputId": "e73f1816-d56a-4ab6-fdda-b303b56d0b0c"
      },
      "source": [
        "day_list[6]"
      ],
      "execution_count": null,
      "outputs": [
        {
          "output_type": "execute_result",
          "data": {
            "application/vnd.google.colaboratory.intrinsic+json": {
              "type": "string"
            },
            "text/plain": [
              "'Sunday'"
            ]
          },
          "metadata": {
            "tags": []
          },
          "execution_count": 18
        }
      ]
    },
    {
      "cell_type": "code",
      "metadata": {
        "id": "v9DQp4pCoSGP"
      },
      "source": [
        "id2day={i:s for i,s in enumerate(day_list) }\r\n",
        "day2id={s:i for i,s in enumerate(day_list) }"
      ],
      "execution_count": null,
      "outputs": []
    },
    {
      "cell_type": "code",
      "metadata": {
        "colab": {
          "base_uri": "https://localhost:8080/",
          "height": 35
        },
        "id": "bl2xloCYpTOu",
        "outputId": "53818fd6-dd89-4768-d964-b36ebf1a0dcb"
      },
      "source": [
        "id2day[0]"
      ],
      "execution_count": null,
      "outputs": [
        {
          "output_type": "execute_result",
          "data": {
            "application/vnd.google.colaboratory.intrinsic+json": {
              "type": "string"
            },
            "text/plain": [
              "'Monday'"
            ]
          },
          "metadata": {
            "tags": []
          },
          "execution_count": 23
        }
      ]
    },
    {
      "cell_type": "code",
      "metadata": {
        "colab": {
          "base_uri": "https://localhost:8080/"
        },
        "id": "mvwogBq5pW2x",
        "outputId": "97544bc3-839f-4bab-943a-5fc3781d9430"
      },
      "source": [
        "day2id['Monday']"
      ],
      "execution_count": null,
      "outputs": [
        {
          "output_type": "execute_result",
          "data": {
            "text/plain": [
              "0"
            ]
          },
          "metadata": {
            "tags": []
          },
          "execution_count": 24
        }
      ]
    },
    {
      "cell_type": "code",
      "metadata": {
        "id": "T_KE_oiYpb3m"
      },
      "source": [
        ""
      ],
      "execution_count": null,
      "outputs": []
    },
    {
      "cell_type": "markdown",
      "metadata": {
        "id": "TAWZOBDRseTP"
      },
      "source": [
        "## Methode 1 : pd.cut"
      ]
    },
    {
      "cell_type": "code",
      "metadata": {
        "id": "D4RaqEZssotN"
      },
      "source": [
        "from_monday=day2id['Monday']-1"
      ],
      "execution_count": null,
      "outputs": []
    },
    {
      "cell_type": "code",
      "metadata": {
        "colab": {
          "base_uri": "https://localhost:8080/",
          "height": 346
        },
        "id": "Pn3Uiy1as-tv",
        "outputId": "10c60e4e-9913-4ea5-df43-669dabf3977d"
      },
      "source": [
        "pd.cut(df['DoA'],\r\n",
        "       bins=[from_monday,\r\n",
        "             day2id['Tuesday'],\r\n",
        "             day2id['Fraiday'],\r\n",
        "             day2id['Sunday']],\r\n",
        "       labels=['WeekStart','WeekMiddle','WeekEnd'])"
      ],
      "execution_count": null,
      "outputs": [
        {
          "output_type": "error",
          "ename": "ValueError",
          "evalue": "ignored",
          "traceback": [
            "\u001b[0;31m---------------------------------------------------------------------------\u001b[0m",
            "\u001b[0;31mValueError\u001b[0m                                Traceback (most recent call last)",
            "\u001b[0;32m<ipython-input-32-2bad0864795d>\u001b[0m in \u001b[0;36m<module>\u001b[0;34m()\u001b[0m\n\u001b[1;32m      4\u001b[0m              \u001b[0mday2id\u001b[0m\u001b[0;34m[\u001b[0m\u001b[0;34m'Fraiday'\u001b[0m\u001b[0;34m]\u001b[0m\u001b[0;34m,\u001b[0m\u001b[0;34m\u001b[0m\u001b[0;34m\u001b[0m\u001b[0m\n\u001b[1;32m      5\u001b[0m              day2id['Sunday']],\n\u001b[0;32m----> 6\u001b[0;31m        labels=['WeekStart','WeekMiddle','WeekEnd'])\n\u001b[0m",
            "\u001b[0;32m/usr/local/lib/python3.6/dist-packages/pandas/core/reshape/tile.py\u001b[0m in \u001b[0;36mcut\u001b[0;34m(x, bins, right, labels, retbins, precision, include_lowest, duplicates, ordered)\u001b[0m\n\u001b[1;32m    267\u001b[0m         \u001b[0;32melse\u001b[0m\u001b[0;34m:\u001b[0m\u001b[0;34m\u001b[0m\u001b[0;34m\u001b[0m\u001b[0m\n\u001b[1;32m    268\u001b[0m             \u001b[0mbins\u001b[0m \u001b[0;34m=\u001b[0m \u001b[0mnp\u001b[0m\u001b[0;34m.\u001b[0m\u001b[0masarray\u001b[0m\u001b[0;34m(\u001b[0m\u001b[0mbins\u001b[0m\u001b[0;34m)\u001b[0m\u001b[0;34m\u001b[0m\u001b[0;34m\u001b[0m\u001b[0m\n\u001b[0;32m--> 269\u001b[0;31m         \u001b[0mbins\u001b[0m \u001b[0;34m=\u001b[0m \u001b[0m_convert_bin_to_numeric_type\u001b[0m\u001b[0;34m(\u001b[0m\u001b[0mbins\u001b[0m\u001b[0;34m,\u001b[0m \u001b[0mdtype\u001b[0m\u001b[0;34m)\u001b[0m\u001b[0;34m\u001b[0m\u001b[0;34m\u001b[0m\u001b[0m\n\u001b[0m\u001b[1;32m    270\u001b[0m \u001b[0;34m\u001b[0m\u001b[0m\n\u001b[1;32m    271\u001b[0m         \u001b[0;31m# GH 26045: cast to float64 to avoid an overflow\u001b[0m\u001b[0;34m\u001b[0m\u001b[0;34m\u001b[0m\u001b[0;34m\u001b[0m\u001b[0m\n",
            "\u001b[0;32m/usr/local/lib/python3.6/dist-packages/pandas/core/reshape/tile.py\u001b[0m in \u001b[0;36m_convert_bin_to_numeric_type\u001b[0;34m(bins, dtype)\u001b[0m\n\u001b[1;32m    511\u001b[0m             \u001b[0mbins\u001b[0m \u001b[0;34m=\u001b[0m \u001b[0mto_datetime\u001b[0m\u001b[0;34m(\u001b[0m\u001b[0mbins\u001b[0m\u001b[0;34m)\u001b[0m\u001b[0;34m.\u001b[0m\u001b[0mview\u001b[0m\u001b[0;34m(\u001b[0m\u001b[0mnp\u001b[0m\u001b[0;34m.\u001b[0m\u001b[0mint64\u001b[0m\u001b[0;34m)\u001b[0m\u001b[0;34m\u001b[0m\u001b[0;34m\u001b[0m\u001b[0m\n\u001b[1;32m    512\u001b[0m         \u001b[0;32melse\u001b[0m\u001b[0;34m:\u001b[0m\u001b[0;34m\u001b[0m\u001b[0;34m\u001b[0m\u001b[0m\n\u001b[0;32m--> 513\u001b[0;31m             \u001b[0;32mraise\u001b[0m \u001b[0mValueError\u001b[0m\u001b[0;34m(\u001b[0m\u001b[0;34m\"bins must be of datetime64 dtype\"\u001b[0m\u001b[0;34m)\u001b[0m\u001b[0;34m\u001b[0m\u001b[0;34m\u001b[0m\u001b[0m\n\u001b[0m\u001b[1;32m    514\u001b[0m \u001b[0;34m\u001b[0m\u001b[0m\n\u001b[1;32m    515\u001b[0m     \u001b[0;32mreturn\u001b[0m \u001b[0mbins\u001b[0m\u001b[0;34m\u001b[0m\u001b[0;34m\u001b[0m\u001b[0m\n",
            "\u001b[0;31mValueError\u001b[0m: bins must be of datetime64 dtype"
          ]
        }
      ]
    },
    {
      "cell_type": "code",
      "metadata": {
        "colab": {
          "base_uri": "https://localhost:8080/"
        },
        "id": "HWcEPPmEydn6",
        "outputId": "1c6e00cb-3bf5-480e-8f5a-4a647af0c21d"
      },
      "source": [
        "pd.cut(df['DoA'].dt.dayofweek,\r\n",
        "       bins=[from_monday,\r\n",
        "             day2id['Tuesday'],\r\n",
        "             day2id['Fraiday'],\r\n",
        "             day2id['Sunday']],\r\n",
        "       labels=['WeekStart','WeekMiddle','WeekEnd'])"
      ],
      "execution_count": null,
      "outputs": [
        {
          "output_type": "execute_result",
          "data": {
            "text/plain": [
              "0      WeekMiddle\n",
              "1      WeekMiddle\n",
              "2       WeekStart\n",
              "3       WeekStart\n",
              "4         WeekEnd\n",
              "          ...    \n",
              "995     WeekStart\n",
              "996     WeekStart\n",
              "997     WeekStart\n",
              "998     WeekStart\n",
              "999       WeekEnd\n",
              "Name: DoA, Length: 1000, dtype: category\n",
              "Categories (3, object): ['WeekStart' < 'WeekMiddle' < 'WeekEnd']"
            ]
          },
          "metadata": {
            "tags": []
          },
          "execution_count": 33
        }
      ]
    },
    {
      "cell_type": "code",
      "metadata": {
        "colab": {
          "base_uri": "https://localhost:8080/",
          "height": 202
        },
        "id": "8yo3NR9Syvo5",
        "outputId": "b05a2385-86f2-4a19-ccfc-b16fd61da60b"
      },
      "source": [
        "df['Week_Periode']=pd.cut(df['DoA'].dt.dayofweek,\r\n",
        "                          bins=[from_monday,\r\n",
        "                                day2id['Tuesday'],\r\n",
        "                                day2id['Fraiday'],\r\n",
        "                                day2id['Sunday']],\r\n",
        "                          labels=['WeekStart','WeekMiddle','WeekEnd'])\r\n",
        "df.head()"
      ],
      "execution_count": null,
      "outputs": [
        {
          "output_type": "execute_result",
          "data": {
            "text/html": [
              "<div>\n",
              "<style scoped>\n",
              "    .dataframe tbody tr th:only-of-type {\n",
              "        vertical-align: middle;\n",
              "    }\n",
              "\n",
              "    .dataframe tbody tr th {\n",
              "        vertical-align: top;\n",
              "    }\n",
              "\n",
              "    .dataframe thead th {\n",
              "        text-align: right;\n",
              "    }\n",
              "</style>\n",
              "<table border=\"1\" class=\"dataframe\">\n",
              "  <thead>\n",
              "    <tr style=\"text-align: right;\">\n",
              "      <th></th>\n",
              "      <th>DoA</th>\n",
              "      <th>Age</th>\n",
              "      <th>Convicted</th>\n",
              "      <th>Week_Periode</th>\n",
              "      <th>DayOfWeek</th>\n",
              "    </tr>\n",
              "  </thead>\n",
              "  <tbody>\n",
              "    <tr>\n",
              "      <th>0</th>\n",
              "      <td>2014-07-16 14:59:18</td>\n",
              "      <td>77</td>\n",
              "      <td>Yes</td>\n",
              "      <td>WeekMiddle</td>\n",
              "      <td>Wednesday</td>\n",
              "    </tr>\n",
              "    <tr>\n",
              "      <th>1</th>\n",
              "      <td>2002-12-19 22:17:59</td>\n",
              "      <td>28</td>\n",
              "      <td>Yes</td>\n",
              "      <td>WeekMiddle</td>\n",
              "      <td>Thursday</td>\n",
              "    </tr>\n",
              "    <tr>\n",
              "      <th>2</th>\n",
              "      <td>1994-06-28 09:31:40</td>\n",
              "      <td>21</td>\n",
              "      <td>No</td>\n",
              "      <td>WeekStart</td>\n",
              "      <td>Tuesday</td>\n",
              "    </tr>\n",
              "    <tr>\n",
              "      <th>3</th>\n",
              "      <td>1985-05-14 09:52:17</td>\n",
              "      <td>45</td>\n",
              "      <td>Yes</td>\n",
              "      <td>WeekStart</td>\n",
              "      <td>Tuesday</td>\n",
              "    </tr>\n",
              "    <tr>\n",
              "      <th>4</th>\n",
              "      <td>1985-05-25 14:06:28</td>\n",
              "      <td>39</td>\n",
              "      <td>Yes</td>\n",
              "      <td>WeekEnd</td>\n",
              "      <td>Saturday</td>\n",
              "    </tr>\n",
              "  </tbody>\n",
              "</table>\n",
              "</div>"
            ],
            "text/plain": [
              "                  DoA  Age Convicted Week_Periode  DayOfWeek\n",
              "0 2014-07-16 14:59:18   77       Yes   WeekMiddle  Wednesday\n",
              "1 2002-12-19 22:17:59   28       Yes   WeekMiddle   Thursday\n",
              "2 1994-06-28 09:31:40   21        No    WeekStart    Tuesday\n",
              "3 1985-05-14 09:52:17   45       Yes    WeekStart    Tuesday\n",
              "4 1985-05-25 14:06:28   39       Yes      WeekEnd   Saturday"
            ]
          },
          "metadata": {
            "tags": []
          },
          "execution_count": 34
        }
      ]
    },
    {
      "cell_type": "code",
      "metadata": {
        "colab": {
          "base_uri": "https://localhost:8080/",
          "height": 202
        },
        "id": "F7AGQ2bjz3SZ",
        "outputId": "2d5ba623-8155-4b84-8056-5e818c8d4df8"
      },
      "source": [
        "df['DayOfWeek']=df['DoA'].dt.dayofweek.map(id2day)\r\n",
        "df.head()"
      ],
      "execution_count": null,
      "outputs": [
        {
          "output_type": "execute_result",
          "data": {
            "text/html": [
              "<div>\n",
              "<style scoped>\n",
              "    .dataframe tbody tr th:only-of-type {\n",
              "        vertical-align: middle;\n",
              "    }\n",
              "\n",
              "    .dataframe tbody tr th {\n",
              "        vertical-align: top;\n",
              "    }\n",
              "\n",
              "    .dataframe thead th {\n",
              "        text-align: right;\n",
              "    }\n",
              "</style>\n",
              "<table border=\"1\" class=\"dataframe\">\n",
              "  <thead>\n",
              "    <tr style=\"text-align: right;\">\n",
              "      <th></th>\n",
              "      <th>DoA</th>\n",
              "      <th>Age</th>\n",
              "      <th>Convicted</th>\n",
              "      <th>Week_Periode</th>\n",
              "      <th>DayOfWeek</th>\n",
              "    </tr>\n",
              "  </thead>\n",
              "  <tbody>\n",
              "    <tr>\n",
              "      <th>0</th>\n",
              "      <td>2014-07-16 14:59:18</td>\n",
              "      <td>77</td>\n",
              "      <td>Yes</td>\n",
              "      <td>WeekMiddle</td>\n",
              "      <td>Wednesday</td>\n",
              "    </tr>\n",
              "    <tr>\n",
              "      <th>1</th>\n",
              "      <td>2002-12-19 22:17:59</td>\n",
              "      <td>28</td>\n",
              "      <td>Yes</td>\n",
              "      <td>WeekMiddle</td>\n",
              "      <td>Thursday</td>\n",
              "    </tr>\n",
              "    <tr>\n",
              "      <th>2</th>\n",
              "      <td>1994-06-28 09:31:40</td>\n",
              "      <td>21</td>\n",
              "      <td>No</td>\n",
              "      <td>WeekStart</td>\n",
              "      <td>Tuesday</td>\n",
              "    </tr>\n",
              "    <tr>\n",
              "      <th>3</th>\n",
              "      <td>1985-05-14 09:52:17</td>\n",
              "      <td>45</td>\n",
              "      <td>Yes</td>\n",
              "      <td>WeekStart</td>\n",
              "      <td>Tuesday</td>\n",
              "    </tr>\n",
              "    <tr>\n",
              "      <th>4</th>\n",
              "      <td>1985-05-25 14:06:28</td>\n",
              "      <td>39</td>\n",
              "      <td>Yes</td>\n",
              "      <td>WeekEnd</td>\n",
              "      <td>Saturday</td>\n",
              "    </tr>\n",
              "  </tbody>\n",
              "</table>\n",
              "</div>"
            ],
            "text/plain": [
              "                  DoA  Age Convicted Week_Periode  DayOfWeek\n",
              "0 2014-07-16 14:59:18   77       Yes   WeekMiddle  Wednesday\n",
              "1 2002-12-19 22:17:59   28       Yes   WeekMiddle   Thursday\n",
              "2 1994-06-28 09:31:40   21        No    WeekStart    Tuesday\n",
              "3 1985-05-14 09:52:17   45       Yes    WeekStart    Tuesday\n",
              "4 1985-05-25 14:06:28   39       Yes      WeekEnd   Saturday"
            ]
          },
          "metadata": {
            "tags": []
          },
          "execution_count": 35
        }
      ]
    },
    {
      "cell_type": "code",
      "metadata": {
        "id": "A3QUmkZM0uwh"
      },
      "source": [
        ""
      ],
      "execution_count": null,
      "outputs": []
    },
    {
      "cell_type": "markdown",
      "metadata": {
        "id": "tnB-F7-m2A_u"
      },
      "source": [
        "### Methode 2 : Double map"
      ]
    },
    {
      "cell_type": "code",
      "metadata": {
        "colab": {
          "base_uri": "https://localhost:8080/"
        },
        "id": "F1j4XeJi2HLK",
        "outputId": "a7ac0784-55b2-4507-a48f-43aefd5a24d2"
      },
      "source": [
        "day2id"
      ],
      "execution_count": null,
      "outputs": [
        {
          "output_type": "execute_result",
          "data": {
            "text/plain": [
              "{'Fraiday': 4,\n",
              " 'Monday': 0,\n",
              " 'Saturday': 5,\n",
              " 'Sunday': 6,\n",
              " 'Thursday': 3,\n",
              " 'Tuesday': 1,\n",
              " 'Wednesday': 2}"
            ]
          },
          "metadata": {
            "tags": []
          },
          "execution_count": 36
        }
      ]
    },
    {
      "cell_type": "code",
      "metadata": {
        "id": "1oIXZzx-2aQg"
      },
      "source": [
        "day2category={'Fraiday': 'WeekMiddle',\r\n",
        " 'Monday': 'WeekStart',\r\n",
        " 'Saturday': 'WeekEnd',\r\n",
        " 'Sunday': 'WeekEnd',\r\n",
        " 'Thursday': 'WeekMiddle',\r\n",
        " 'Tuesday': 'WeekStart',\r\n",
        " 'Wednesday': 'WeekMiddle'}"
      ],
      "execution_count": null,
      "outputs": []
    },
    {
      "cell_type": "code",
      "metadata": {
        "colab": {
          "base_uri": "https://localhost:8080/"
        },
        "id": "QP0W8XT93obb",
        "outputId": "1958d955-6141-490e-91e3-2d629cb2e32c"
      },
      "source": [
        "df['DoA'].dt.dayofweek.map(id2day).map(day2category)"
      ],
      "execution_count": null,
      "outputs": [
        {
          "output_type": "execute_result",
          "data": {
            "text/plain": [
              "0      WeekMiddle\n",
              "1      WeekMiddle\n",
              "2       WeekStart\n",
              "3       WeekStart\n",
              "4         WeekEnd\n",
              "          ...    \n",
              "995     WeekStart\n",
              "996     WeekStart\n",
              "997     WeekStart\n",
              "998     WeekStart\n",
              "999       WeekEnd\n",
              "Name: DoA, Length: 1000, dtype: object"
            ]
          },
          "metadata": {
            "tags": []
          },
          "execution_count": 39
        }
      ]
    },
    {
      "cell_type": "code",
      "metadata": {
        "colab": {
          "base_uri": "https://localhost:8080/",
          "height": 202
        },
        "id": "JY4ieq5-4BET",
        "outputId": "f46eb86e-1b4c-4136-d495-2023e9c03448"
      },
      "source": [
        "df['Week_Periode2']=df['DoA'].dt.dayofweek.map(id2day).map(day2category)\r\n",
        "df.head()"
      ],
      "execution_count": null,
      "outputs": [
        {
          "output_type": "execute_result",
          "data": {
            "text/html": [
              "<div>\n",
              "<style scoped>\n",
              "    .dataframe tbody tr th:only-of-type {\n",
              "        vertical-align: middle;\n",
              "    }\n",
              "\n",
              "    .dataframe tbody tr th {\n",
              "        vertical-align: top;\n",
              "    }\n",
              "\n",
              "    .dataframe thead th {\n",
              "        text-align: right;\n",
              "    }\n",
              "</style>\n",
              "<table border=\"1\" class=\"dataframe\">\n",
              "  <thead>\n",
              "    <tr style=\"text-align: right;\">\n",
              "      <th></th>\n",
              "      <th>DoA</th>\n",
              "      <th>Age</th>\n",
              "      <th>Convicted</th>\n",
              "      <th>Week_Periode</th>\n",
              "      <th>DayOfWeek</th>\n",
              "      <th>Week_Periode2</th>\n",
              "    </tr>\n",
              "  </thead>\n",
              "  <tbody>\n",
              "    <tr>\n",
              "      <th>0</th>\n",
              "      <td>2014-07-16 14:59:18</td>\n",
              "      <td>77</td>\n",
              "      <td>Yes</td>\n",
              "      <td>WeekMiddle</td>\n",
              "      <td>Wednesday</td>\n",
              "      <td>WeekMiddle</td>\n",
              "    </tr>\n",
              "    <tr>\n",
              "      <th>1</th>\n",
              "      <td>2002-12-19 22:17:59</td>\n",
              "      <td>28</td>\n",
              "      <td>Yes</td>\n",
              "      <td>WeekMiddle</td>\n",
              "      <td>Thursday</td>\n",
              "      <td>WeekMiddle</td>\n",
              "    </tr>\n",
              "    <tr>\n",
              "      <th>2</th>\n",
              "      <td>1994-06-28 09:31:40</td>\n",
              "      <td>21</td>\n",
              "      <td>No</td>\n",
              "      <td>WeekStart</td>\n",
              "      <td>Tuesday</td>\n",
              "      <td>WeekStart</td>\n",
              "    </tr>\n",
              "    <tr>\n",
              "      <th>3</th>\n",
              "      <td>1985-05-14 09:52:17</td>\n",
              "      <td>45</td>\n",
              "      <td>Yes</td>\n",
              "      <td>WeekStart</td>\n",
              "      <td>Tuesday</td>\n",
              "      <td>WeekStart</td>\n",
              "    </tr>\n",
              "    <tr>\n",
              "      <th>4</th>\n",
              "      <td>1985-05-25 14:06:28</td>\n",
              "      <td>39</td>\n",
              "      <td>Yes</td>\n",
              "      <td>WeekEnd</td>\n",
              "      <td>Saturday</td>\n",
              "      <td>WeekEnd</td>\n",
              "    </tr>\n",
              "  </tbody>\n",
              "</table>\n",
              "</div>"
            ],
            "text/plain": [
              "                  DoA  Age Convicted Week_Periode  DayOfWeek Week_Periode2\n",
              "0 2014-07-16 14:59:18   77       Yes   WeekMiddle  Wednesday    WeekMiddle\n",
              "1 2002-12-19 22:17:59   28       Yes   WeekMiddle   Thursday    WeekMiddle\n",
              "2 1994-06-28 09:31:40   21        No    WeekStart    Tuesday     WeekStart\n",
              "3 1985-05-14 09:52:17   45       Yes    WeekStart    Tuesday     WeekStart\n",
              "4 1985-05-25 14:06:28   39       Yes      WeekEnd   Saturday       WeekEnd"
            ]
          },
          "metadata": {
            "tags": []
          },
          "execution_count": 40
        }
      ]
    },
    {
      "cell_type": "markdown",
      "metadata": {
        "id": "6JN-S4EV6kEV"
      },
      "source": [
        "### Objectif : creer une colonne categorielle 'Time of day'"
      ]
    },
    {
      "cell_type": "markdown",
      "metadata": {
        "id": "J8LgUIbj7AjG"
      },
      "source": [
        "#### *Morning entre 6h01 et 13\r\n",
        "#### *Afternoon Entre 13h01  et 18h\r\n",
        "#### *Evening Entre 18h01 et 22h \r\n",
        "#### *Night   Entre 22h01 et 6h \r\n",
        "\r\n",
        "#### Problème : Night\r\n"
      ]
    },
    {
      "cell_type": "code",
      "metadata": {
        "id": "n59LEvR28rgz"
      },
      "source": [
        "df['DoA']=pd.to_datetime(df['DoA'])"
      ],
      "execution_count": null,
      "outputs": []
    },
    {
      "cell_type": "code",
      "metadata": {
        "colab": {
          "base_uri": "https://localhost:8080/"
        },
        "id": "vKXSafxt9DNT",
        "outputId": "601bf7c8-b00d-4589-c4a3-79c6241c222c"
      },
      "source": [
        "df['DoA'].dt.hour"
      ],
      "execution_count": null,
      "outputs": [
        {
          "output_type": "execute_result",
          "data": {
            "text/plain": [
              "0      14\n",
              "1      22\n",
              "2       9\n",
              "3       9\n",
              "4      14\n",
              "       ..\n",
              "995    14\n",
              "996    18\n",
              "997    21\n",
              "998    17\n",
              "999    18\n",
              "Name: DoA, Length: 1000, dtype: int64"
            ]
          },
          "metadata": {
            "tags": []
          },
          "execution_count": 44
        }
      ]
    },
    {
      "cell_type": "code",
      "metadata": {
        "colab": {
          "base_uri": "https://localhost:8080/"
        },
        "id": "0bULzABT9PJH",
        "outputId": "271377a4-d77a-472e-f712-cdb34c567550"
      },
      "source": [
        "df['DoA'].dt.hour.min()"
      ],
      "execution_count": null,
      "outputs": [
        {
          "output_type": "execute_result",
          "data": {
            "text/plain": [
              "0"
            ]
          },
          "metadata": {
            "tags": []
          },
          "execution_count": 45
        }
      ]
    },
    {
      "cell_type": "code",
      "metadata": {
        "colab": {
          "base_uri": "https://localhost:8080/"
        },
        "id": "eEcsC5eS9y_p",
        "outputId": "8f13e9f8-d94a-4373-f048-368ffe87243d"
      },
      "source": [
        "df['DoA'].dt.hour.max()"
      ],
      "execution_count": null,
      "outputs": [
        {
          "output_type": "execute_result",
          "data": {
            "text/plain": [
              "23"
            ]
          },
          "metadata": {
            "tags": []
          },
          "execution_count": 46
        }
      ]
    },
    {
      "cell_type": "code",
      "metadata": {
        "colab": {
          "base_uri": "https://localhost:8080/"
        },
        "id": "9MmdajcZ91Mp",
        "outputId": "3f830457-e23f-4a63-d018-a77215158842"
      },
      "source": [
        "FromMidnight=-1\r\n",
        "tmp=pd.cut(df['DoA'].dt.hour,\r\n",
        "           bins=[FromMidnight,\r\n",
        "                 6,13,18,22,24],\r\n",
        "           labels=['Night','Morning','Afternoon','Evening','Night1'])\r\n",
        "tmp"
      ],
      "execution_count": null,
      "outputs": [
        {
          "output_type": "execute_result",
          "data": {
            "text/plain": [
              "0      Afternoon\n",
              "1        Evening\n",
              "2        Morning\n",
              "3        Morning\n",
              "4      Afternoon\n",
              "         ...    \n",
              "995    Afternoon\n",
              "996    Afternoon\n",
              "997      Evening\n",
              "998    Afternoon\n",
              "999    Afternoon\n",
              "Name: DoA, Length: 1000, dtype: category\n",
              "Categories (5, object): ['Night' < 'Morning' < 'Afternoon' < 'Evening' < 'Night1']"
            ]
          },
          "metadata": {
            "tags": []
          },
          "execution_count": 48
        }
      ]
    },
    {
      "cell_type": "code",
      "metadata": {
        "colab": {
          "base_uri": "https://localhost:8080/"
        },
        "id": "Zia5Mj8o_55n",
        "outputId": "59cd6ab6-40ca-4e7f-bbe8-565f468f4691"
      },
      "source": [
        "tmp.str.replace('1', '').astype('category')"
      ],
      "execution_count": null,
      "outputs": [
        {
          "output_type": "execute_result",
          "data": {
            "text/plain": [
              "0      Afternoon\n",
              "1        Evening\n",
              "2        Morning\n",
              "3        Morning\n",
              "4      Afternoon\n",
              "         ...    \n",
              "995    Afternoon\n",
              "996    Afternoon\n",
              "997      Evening\n",
              "998    Afternoon\n",
              "999    Afternoon\n",
              "Name: DoA, Length: 1000, dtype: category\n",
              "Categories (5, object): ['Afternoon', 'Evening', 'Morning', 'Night', 'Night1']"
            ]
          },
          "metadata": {
            "tags": []
          },
          "execution_count": 49
        }
      ]
    },
    {
      "cell_type": "code",
      "metadata": {
        "colab": {
          "base_uri": "https://localhost:8080/",
          "height": 202
        },
        "id": "BOCWW2BLAj8M",
        "outputId": "07800309-ad31-4e99-a821-27e7e0173c79"
      },
      "source": [
        "df['Time of Day']=tmp.str.replace('1', '').astype('category')\r\n",
        "df.head()"
      ],
      "execution_count": null,
      "outputs": [
        {
          "output_type": "execute_result",
          "data": {
            "text/html": [
              "<div>\n",
              "<style scoped>\n",
              "    .dataframe tbody tr th:only-of-type {\n",
              "        vertical-align: middle;\n",
              "    }\n",
              "\n",
              "    .dataframe tbody tr th {\n",
              "        vertical-align: top;\n",
              "    }\n",
              "\n",
              "    .dataframe thead th {\n",
              "        text-align: right;\n",
              "    }\n",
              "</style>\n",
              "<table border=\"1\" class=\"dataframe\">\n",
              "  <thead>\n",
              "    <tr style=\"text-align: right;\">\n",
              "      <th></th>\n",
              "      <th>DoA</th>\n",
              "      <th>Age</th>\n",
              "      <th>Convicted</th>\n",
              "      <th>Week_Periode</th>\n",
              "      <th>DayOfWeek</th>\n",
              "      <th>Week_Periode2</th>\n",
              "      <th>Time of Day</th>\n",
              "    </tr>\n",
              "  </thead>\n",
              "  <tbody>\n",
              "    <tr>\n",
              "      <th>0</th>\n",
              "      <td>2014-07-16 14:59:18</td>\n",
              "      <td>77</td>\n",
              "      <td>Yes</td>\n",
              "      <td>WeekMiddle</td>\n",
              "      <td>Wednesday</td>\n",
              "      <td>WeekMiddle</td>\n",
              "      <td>Afternoon</td>\n",
              "    </tr>\n",
              "    <tr>\n",
              "      <th>1</th>\n",
              "      <td>2002-12-19 22:17:59</td>\n",
              "      <td>28</td>\n",
              "      <td>Yes</td>\n",
              "      <td>WeekMiddle</td>\n",
              "      <td>Thursday</td>\n",
              "      <td>WeekMiddle</td>\n",
              "      <td>Evening</td>\n",
              "    </tr>\n",
              "    <tr>\n",
              "      <th>2</th>\n",
              "      <td>1994-06-28 09:31:40</td>\n",
              "      <td>21</td>\n",
              "      <td>No</td>\n",
              "      <td>WeekStart</td>\n",
              "      <td>Tuesday</td>\n",
              "      <td>WeekStart</td>\n",
              "      <td>Morning</td>\n",
              "    </tr>\n",
              "    <tr>\n",
              "      <th>3</th>\n",
              "      <td>1985-05-14 09:52:17</td>\n",
              "      <td>45</td>\n",
              "      <td>Yes</td>\n",
              "      <td>WeekStart</td>\n",
              "      <td>Tuesday</td>\n",
              "      <td>WeekStart</td>\n",
              "      <td>Morning</td>\n",
              "    </tr>\n",
              "    <tr>\n",
              "      <th>4</th>\n",
              "      <td>1985-05-25 14:06:28</td>\n",
              "      <td>39</td>\n",
              "      <td>Yes</td>\n",
              "      <td>WeekEnd</td>\n",
              "      <td>Saturday</td>\n",
              "      <td>WeekEnd</td>\n",
              "      <td>Afternoon</td>\n",
              "    </tr>\n",
              "  </tbody>\n",
              "</table>\n",
              "</div>"
            ],
            "text/plain": [
              "                  DoA  Age Convicted  ...  DayOfWeek Week_Periode2 Time of Day\n",
              "0 2014-07-16 14:59:18   77       Yes  ...  Wednesday    WeekMiddle   Afternoon\n",
              "1 2002-12-19 22:17:59   28       Yes  ...   Thursday    WeekMiddle     Evening\n",
              "2 1994-06-28 09:31:40   21        No  ...    Tuesday     WeekStart     Morning\n",
              "3 1985-05-14 09:52:17   45       Yes  ...    Tuesday     WeekStart     Morning\n",
              "4 1985-05-25 14:06:28   39       Yes  ...   Saturday       WeekEnd   Afternoon\n",
              "\n",
              "[5 rows x 7 columns]"
            ]
          },
          "metadata": {
            "tags": []
          },
          "execution_count": 50
        }
      ]
    },
    {
      "cell_type": "code",
      "metadata": {
        "colab": {
          "base_uri": "https://localhost:8080/"
        },
        "id": "XgmQPUScA98u",
        "outputId": "e9b20343-817f-4f60-ede0-f13166658dd4"
      },
      "source": [
        "dir(df['DoA'].dt)"
      ],
      "execution_count": null,
      "outputs": [
        {
          "output_type": "execute_result",
          "data": {
            "text/plain": [
              "['__annotations__',\n",
              " '__class__',\n",
              " '__delattr__',\n",
              " '__dict__',\n",
              " '__dir__',\n",
              " '__doc__',\n",
              " '__eq__',\n",
              " '__format__',\n",
              " '__ge__',\n",
              " '__getattribute__',\n",
              " '__gt__',\n",
              " '__hash__',\n",
              " '__init__',\n",
              " '__init_subclass__',\n",
              " '__le__',\n",
              " '__lt__',\n",
              " '__module__',\n",
              " '__ne__',\n",
              " '__new__',\n",
              " '__reduce__',\n",
              " '__reduce_ex__',\n",
              " '__repr__',\n",
              " '__setattr__',\n",
              " '__sizeof__',\n",
              " '__str__',\n",
              " '__subclasshook__',\n",
              " '__weakref__',\n",
              " '_accessors',\n",
              " '_add_delegate_accessors',\n",
              " '_constructor',\n",
              " '_delegate_method',\n",
              " '_delegate_property_get',\n",
              " '_delegate_property_set',\n",
              " '_deprecations',\n",
              " '_dir_additions',\n",
              " '_dir_deletions',\n",
              " '_freeze',\n",
              " '_get_values',\n",
              " '_reset_cache',\n",
              " 'ceil',\n",
              " 'date',\n",
              " 'day',\n",
              " 'day_name',\n",
              " 'dayofweek',\n",
              " 'dayofyear',\n",
              " 'days_in_month',\n",
              " 'daysinmonth',\n",
              " 'floor',\n",
              " 'freq',\n",
              " 'hour',\n",
              " 'is_leap_year',\n",
              " 'is_month_end',\n",
              " 'is_month_start',\n",
              " 'is_quarter_end',\n",
              " 'is_quarter_start',\n",
              " 'is_year_end',\n",
              " 'is_year_start',\n",
              " 'isocalendar',\n",
              " 'microsecond',\n",
              " 'minute',\n",
              " 'month',\n",
              " 'month_name',\n",
              " 'nanosecond',\n",
              " 'normalize',\n",
              " 'quarter',\n",
              " 'round',\n",
              " 'second',\n",
              " 'strftime',\n",
              " 'time',\n",
              " 'timetz',\n",
              " 'to_period',\n",
              " 'to_pydatetime',\n",
              " 'tz',\n",
              " 'tz_convert',\n",
              " 'tz_localize',\n",
              " 'week',\n",
              " 'weekday',\n",
              " 'weekofyear',\n",
              " 'year']"
            ]
          },
          "metadata": {
            "tags": []
          },
          "execution_count": 51
        }
      ]
    },
    {
      "cell_type": "code",
      "metadata": {
        "colab": {
          "base_uri": "https://localhost:8080/"
        },
        "id": "bMdWOb7rB3Bo",
        "outputId": "e256e2d4-a95d-40fa-b803-37605928d5a2"
      },
      "source": [
        "df['DoA'].dt.month"
      ],
      "execution_count": null,
      "outputs": [
        {
          "output_type": "execute_result",
          "data": {
            "text/plain": [
              "0       7\n",
              "1      12\n",
              "2       6\n",
              "3       5\n",
              "4       5\n",
              "       ..\n",
              "995     2\n",
              "996     4\n",
              "997     7\n",
              "998     7\n",
              "999     3\n",
              "Name: DoA, Length: 1000, dtype: int64"
            ]
          },
          "metadata": {
            "tags": []
          },
          "execution_count": 52
        }
      ]
    },
    {
      "cell_type": "code",
      "metadata": {
        "colab": {
          "base_uri": "https://localhost:8080/"
        },
        "id": "YtgX61llCWXc",
        "outputId": "919d02b9-eff3-408f-b214-31bdefa45a73"
      },
      "source": [
        "df['DoA'].dt.day"
      ],
      "execution_count": null,
      "outputs": [
        {
          "output_type": "execute_result",
          "data": {
            "text/plain": [
              "0      16\n",
              "1      19\n",
              "2      28\n",
              "3      14\n",
              "4      25\n",
              "       ..\n",
              "995     4\n",
              "996    29\n",
              "997    15\n",
              "998     5\n",
              "999    17\n",
              "Name: DoA, Length: 1000, dtype: int64"
            ]
          },
          "metadata": {
            "tags": []
          },
          "execution_count": 53
        }
      ]
    },
    {
      "cell_type": "code",
      "metadata": {
        "colab": {
          "base_uri": "https://localhost:8080/"
        },
        "id": "gjjuKiEOCb7P",
        "outputId": "24b9c32b-e3f1-4459-d143-6c1524f1b68c"
      },
      "source": [
        "cut=df['DoA'].dt.month*100 + df['DoA'].dt.day\r\n",
        "cut"
      ],
      "execution_count": null,
      "outputs": [
        {
          "output_type": "execute_result",
          "data": {
            "text/plain": [
              "0       716\n",
              "1      1219\n",
              "2       628\n",
              "3       514\n",
              "4       525\n",
              "       ... \n",
              "995     204\n",
              "996     429\n",
              "997     715\n",
              "998     705\n",
              "999     317\n",
              "Name: DoA, Length: 1000, dtype: int64"
            ]
          },
          "metadata": {
            "tags": []
          },
          "execution_count": 54
        }
      ]
    },
    {
      "cell_type": "code",
      "metadata": {
        "id": "NivsqztWDHn4"
      },
      "source": [
        "bins=[100,320,620,920,1220, 1231]"
      ],
      "execution_count": null,
      "outputs": []
    },
    {
      "cell_type": "code",
      "metadata": {
        "id": "Ur0wgdf3EJqE"
      },
      "source": [
        "From_Jan_01=100\r\n",
        "Mars_20=320\r\n",
        "June_20=620\r\n",
        "Sep_20=920\r\n",
        "Dec_20=1220\r\n",
        "Dec_31=1231"
      ],
      "execution_count": null,
      "outputs": []
    },
    {
      "cell_type": "code",
      "metadata": {
        "id": "CZG4P3qqE36k"
      },
      "source": [
        "tmp=pd.cut(cut,\r\n",
        "           bins=[From_Jan_01,\r\n",
        "                  Mars_20,\r\n",
        "                  June_20,\r\n",
        "                  Sep_20,\r\n",
        "                  Dec_20,\r\n",
        "                  Dec_31],\r\n",
        "           labels=['Winter','String','Summer','Fall','Winter1'])"
      ],
      "execution_count": null,
      "outputs": []
    },
    {
      "cell_type": "code",
      "metadata": {
        "colab": {
          "base_uri": "https://localhost:8080/"
        },
        "id": "YxjwASpAGTux",
        "outputId": "038223de-0cc3-4b34-a172-b722c3cd579a"
      },
      "source": [
        "tmp.str.replace('1', '').astype('category')"
      ],
      "execution_count": null,
      "outputs": [
        {
          "output_type": "execute_result",
          "data": {
            "text/plain": [
              "0      Summer\n",
              "1        Fall\n",
              "2      Summer\n",
              "3      String\n",
              "4      String\n",
              "        ...  \n",
              "995    Winter\n",
              "996    String\n",
              "997    Summer\n",
              "998    Summer\n",
              "999    Winter\n",
              "Name: DoA, Length: 1000, dtype: category\n",
              "Categories (4, object): ['Fall', 'String', 'Summer', 'Winter']"
            ]
          },
          "metadata": {
            "tags": []
          },
          "execution_count": 58
        }
      ]
    },
    {
      "cell_type": "code",
      "metadata": {
        "colab": {
          "base_uri": "https://localhost:8080/",
          "height": 202
        },
        "id": "gkyQF5W3GiB-",
        "outputId": "ee0e9ada-19a0-4997-f2e6-edb3eefff05e"
      },
      "source": [
        "df['Season']=tmp.str.replace('1', '').astype('category')\r\n",
        "df.head()"
      ],
      "execution_count": null,
      "outputs": [
        {
          "output_type": "execute_result",
          "data": {
            "text/html": [
              "<div>\n",
              "<style scoped>\n",
              "    .dataframe tbody tr th:only-of-type {\n",
              "        vertical-align: middle;\n",
              "    }\n",
              "\n",
              "    .dataframe tbody tr th {\n",
              "        vertical-align: top;\n",
              "    }\n",
              "\n",
              "    .dataframe thead th {\n",
              "        text-align: right;\n",
              "    }\n",
              "</style>\n",
              "<table border=\"1\" class=\"dataframe\">\n",
              "  <thead>\n",
              "    <tr style=\"text-align: right;\">\n",
              "      <th></th>\n",
              "      <th>DoA</th>\n",
              "      <th>Age</th>\n",
              "      <th>Convicted</th>\n",
              "      <th>Week_Periode</th>\n",
              "      <th>DayOfWeek</th>\n",
              "      <th>Week_Periode2</th>\n",
              "      <th>Time of Day</th>\n",
              "      <th>Season</th>\n",
              "    </tr>\n",
              "  </thead>\n",
              "  <tbody>\n",
              "    <tr>\n",
              "      <th>0</th>\n",
              "      <td>2014-07-16 14:59:18</td>\n",
              "      <td>77</td>\n",
              "      <td>Yes</td>\n",
              "      <td>WeekMiddle</td>\n",
              "      <td>Wednesday</td>\n",
              "      <td>WeekMiddle</td>\n",
              "      <td>Afternoon</td>\n",
              "      <td>Summer</td>\n",
              "    </tr>\n",
              "    <tr>\n",
              "      <th>1</th>\n",
              "      <td>2002-12-19 22:17:59</td>\n",
              "      <td>28</td>\n",
              "      <td>Yes</td>\n",
              "      <td>WeekMiddle</td>\n",
              "      <td>Thursday</td>\n",
              "      <td>WeekMiddle</td>\n",
              "      <td>Evening</td>\n",
              "      <td>Fall</td>\n",
              "    </tr>\n",
              "    <tr>\n",
              "      <th>2</th>\n",
              "      <td>1994-06-28 09:31:40</td>\n",
              "      <td>21</td>\n",
              "      <td>No</td>\n",
              "      <td>WeekStart</td>\n",
              "      <td>Tuesday</td>\n",
              "      <td>WeekStart</td>\n",
              "      <td>Morning</td>\n",
              "      <td>Summer</td>\n",
              "    </tr>\n",
              "    <tr>\n",
              "      <th>3</th>\n",
              "      <td>1985-05-14 09:52:17</td>\n",
              "      <td>45</td>\n",
              "      <td>Yes</td>\n",
              "      <td>WeekStart</td>\n",
              "      <td>Tuesday</td>\n",
              "      <td>WeekStart</td>\n",
              "      <td>Morning</td>\n",
              "      <td>String</td>\n",
              "    </tr>\n",
              "    <tr>\n",
              "      <th>4</th>\n",
              "      <td>1985-05-25 14:06:28</td>\n",
              "      <td>39</td>\n",
              "      <td>Yes</td>\n",
              "      <td>WeekEnd</td>\n",
              "      <td>Saturday</td>\n",
              "      <td>WeekEnd</td>\n",
              "      <td>Afternoon</td>\n",
              "      <td>String</td>\n",
              "    </tr>\n",
              "  </tbody>\n",
              "</table>\n",
              "</div>"
            ],
            "text/plain": [
              "                  DoA  Age Convicted  ... Week_Periode2 Time of Day  Season\n",
              "0 2014-07-16 14:59:18   77       Yes  ...    WeekMiddle   Afternoon  Summer\n",
              "1 2002-12-19 22:17:59   28       Yes  ...    WeekMiddle     Evening    Fall\n",
              "2 1994-06-28 09:31:40   21        No  ...     WeekStart     Morning  Summer\n",
              "3 1985-05-14 09:52:17   45       Yes  ...     WeekStart     Morning  String\n",
              "4 1985-05-25 14:06:28   39       Yes  ...       WeekEnd   Afternoon  String\n",
              "\n",
              "[5 rows x 8 columns]"
            ]
          },
          "metadata": {
            "tags": []
          },
          "execution_count": 59
        }
      ]
    },
    {
      "cell_type": "markdown",
      "metadata": {
        "id": "aAeACulSHVTl"
      },
      "source": [
        "# Données Manquantes"
      ]
    },
    {
      "cell_type": "code",
      "metadata": {
        "id": "YPRVxtatG1p-",
        "colab": {
          "base_uri": "https://localhost:8080/"
        },
        "outputId": "c2e8f085-a2c3-47fe-eabc-0adbec1d56be"
      },
      "source": [
        "fp='https://bit.ly/tx-data'\r\n",
        "print(fp)"
      ],
      "execution_count": null,
      "outputs": [
        {
          "output_type": "stream",
          "text": [
            "https://bit.ly/tx-data\n"
          ],
          "name": "stdout"
        }
      ]
    },
    {
      "cell_type": "code",
      "metadata": {
        "colab": {
          "base_uri": "https://localhost:8080/",
          "height": 202
        },
        "id": "hn1X4Www-H0J",
        "outputId": "d1a4a5e2-57df-4edf-b307-ea1aa3931498"
      },
      "source": [
        "import pandas as pd\r\n",
        "df=pd.read_csv(fp)\r\n",
        "df.head()"
      ],
      "execution_count": null,
      "outputs": [
        {
          "output_type": "execute_result",
          "data": {
            "text/html": [
              "<div>\n",
              "<style scoped>\n",
              "    .dataframe tbody tr th:only-of-type {\n",
              "        vertical-align: middle;\n",
              "    }\n",
              "\n",
              "    .dataframe tbody tr th {\n",
              "        vertical-align: top;\n",
              "    }\n",
              "\n",
              "    .dataframe thead th {\n",
              "        text-align: right;\n",
              "    }\n",
              "</style>\n",
              "<table border=\"1\" class=\"dataframe\">\n",
              "  <thead>\n",
              "    <tr style=\"text-align: right;\">\n",
              "      <th></th>\n",
              "      <th>transaction_id</th>\n",
              "      <th>first_name</th>\n",
              "      <th>last_name</th>\n",
              "      <th>ip_address</th>\n",
              "      <th>amount</th>\n",
              "    </tr>\n",
              "  </thead>\n",
              "  <tbody>\n",
              "    <tr>\n",
              "      <th>0</th>\n",
              "      <td>50563-403</td>\n",
              "      <td>Jacobo</td>\n",
              "      <td>Haresign</td>\n",
              "      <td>18.144.134.48</td>\n",
              "      <td>$647.77</td>\n",
              "    </tr>\n",
              "    <tr>\n",
              "      <th>1</th>\n",
              "      <td>54569-3911</td>\n",
              "      <td>Christy</td>\n",
              "      <td>Derl</td>\n",
              "      <td>254.107.123.242</td>\n",
              "      <td>$460.47</td>\n",
              "    </tr>\n",
              "    <tr>\n",
              "      <th>2</th>\n",
              "      <td>59667-0024</td>\n",
              "      <td>Florie</td>\n",
              "      <td>Prewer</td>\n",
              "      <td>148.80.11.233</td>\n",
              "      <td>$565.38</td>\n",
              "    </tr>\n",
              "    <tr>\n",
              "      <th>3</th>\n",
              "      <td>60429-123</td>\n",
              "      <td>Danika</td>\n",
              "      <td>Shimuk</td>\n",
              "      <td>233.91.221.158</td>\n",
              "      <td>$794.76</td>\n",
              "    </tr>\n",
              "    <tr>\n",
              "      <th>4</th>\n",
              "      <td>0187-0771</td>\n",
              "      <td>Annelise</td>\n",
              "      <td>Antonescu</td>\n",
              "      <td>238.143.41.105</td>\n",
              "      <td>$790.41</td>\n",
              "    </tr>\n",
              "  </tbody>\n",
              "</table>\n",
              "</div>"
            ],
            "text/plain": [
              "  transaction_id first_name  last_name       ip_address   amount\n",
              "0      50563-403     Jacobo   Haresign    18.144.134.48  $647.77\n",
              "1     54569-3911    Christy       Derl  254.107.123.242  $460.47\n",
              "2     59667-0024     Florie     Prewer    148.80.11.233  $565.38\n",
              "3      60429-123     Danika     Shimuk   233.91.221.158  $794.76\n",
              "4      0187-0771   Annelise  Antonescu   238.143.41.105  $790.41"
            ]
          },
          "metadata": {
            "tags": []
          },
          "execution_count": 4
        }
      ]
    },
    {
      "cell_type": "code",
      "metadata": {
        "colab": {
          "base_uri": "https://localhost:8080/",
          "height": 202
        },
        "id": "V6WAvFbl-ZBI",
        "outputId": "a02ff5fc-8195-40e0-931b-b8fd428e40d8"
      },
      "source": [
        "df.tail()"
      ],
      "execution_count": null,
      "outputs": [
        {
          "output_type": "execute_result",
          "data": {
            "text/html": [
              "<div>\n",
              "<style scoped>\n",
              "    .dataframe tbody tr th:only-of-type {\n",
              "        vertical-align: middle;\n",
              "    }\n",
              "\n",
              "    .dataframe tbody tr th {\n",
              "        vertical-align: top;\n",
              "    }\n",
              "\n",
              "    .dataframe thead th {\n",
              "        text-align: right;\n",
              "    }\n",
              "</style>\n",
              "<table border=\"1\" class=\"dataframe\">\n",
              "  <thead>\n",
              "    <tr style=\"text-align: right;\">\n",
              "      <th></th>\n",
              "      <th>transaction_id</th>\n",
              "      <th>first_name</th>\n",
              "      <th>last_name</th>\n",
              "      <th>ip_address</th>\n",
              "      <th>amount</th>\n",
              "    </tr>\n",
              "  </thead>\n",
              "  <tbody>\n",
              "    <tr>\n",
              "      <th>43</th>\n",
              "      <td>0456-2212</td>\n",
              "      <td>Layney</td>\n",
              "      <td>Janssens</td>\n",
              "      <td>79.49.30.228</td>\n",
              "      <td>$889.27</td>\n",
              "    </tr>\n",
              "    <tr>\n",
              "      <th>44</th>\n",
              "      <td>59779-276</td>\n",
              "      <td>Lynnelle</td>\n",
              "      <td>Ainslie</td>\n",
              "      <td>38.85.34.83</td>\n",
              "      <td>$473.65</td>\n",
              "    </tr>\n",
              "    <tr>\n",
              "      <th>45</th>\n",
              "      <td>68712-049</td>\n",
              "      <td>Phaedra</td>\n",
              "      <td>Teodoro</td>\n",
              "      <td>92.45.204.14</td>\n",
              "      <td>$445.56</td>\n",
              "    </tr>\n",
              "    <tr>\n",
              "      <th>46</th>\n",
              "      <td>10157-9539</td>\n",
              "      <td>Sibylla</td>\n",
              "      <td>Pedron</td>\n",
              "      <td>207.112.216.80</td>\n",
              "      <td>$362.15</td>\n",
              "    </tr>\n",
              "    <tr>\n",
              "      <th>47</th>\n",
              "      <td>0378-1044</td>\n",
              "      <td>Sharlene</td>\n",
              "      <td>Wolfendale</td>\n",
              "      <td>32.253.106.253</td>\n",
              "      <td>$133.98</td>\n",
              "    </tr>\n",
              "  </tbody>\n",
              "</table>\n",
              "</div>"
            ],
            "text/plain": [
              "   transaction_id first_name   last_name      ip_address   amount\n",
              "43      0456-2212     Layney    Janssens    79.49.30.228  $889.27\n",
              "44      59779-276   Lynnelle     Ainslie     38.85.34.83  $473.65\n",
              "45      68712-049    Phaedra     Teodoro    92.45.204.14  $445.56\n",
              "46     10157-9539    Sibylla      Pedron  207.112.216.80  $362.15\n",
              "47      0378-1044   Sharlene  Wolfendale  32.253.106.253  $133.98"
            ]
          },
          "metadata": {
            "tags": []
          },
          "execution_count": 5
        }
      ]
    },
    {
      "cell_type": "code",
      "metadata": {
        "colab": {
          "base_uri": "https://localhost:8080/"
        },
        "id": "KJLd3KZS-dZq",
        "outputId": "b9636b0f-3969-40f9-8cd4-0205772a61ed"
      },
      "source": [
        "df.dtypes"
      ],
      "execution_count": null,
      "outputs": [
        {
          "output_type": "execute_result",
          "data": {
            "text/plain": [
              "transaction_id    object\n",
              "first_name        object\n",
              "last_name         object\n",
              "ip_address        object\n",
              "amount            object\n",
              "dtype: object"
            ]
          },
          "metadata": {
            "tags": []
          },
          "execution_count": 6
        }
      ]
    },
    {
      "cell_type": "markdown",
      "metadata": {
        "id": "SZW2O-DE_JyK"
      },
      "source": [
        "### Reperer les doublons"
      ]
    },
    {
      "cell_type": "code",
      "metadata": {
        "colab": {
          "base_uri": "https://localhost:8080/",
          "height": 263
        },
        "id": "tmU9m2xj-ifw",
        "outputId": "0eaec194-9046-46f0-89cd-e08f9ebffc52"
      },
      "source": [
        "df[df.duplicated()]"
      ],
      "execution_count": null,
      "outputs": [
        {
          "output_type": "execute_result",
          "data": {
            "text/html": [
              "<div>\n",
              "<style scoped>\n",
              "    .dataframe tbody tr th:only-of-type {\n",
              "        vertical-align: middle;\n",
              "    }\n",
              "\n",
              "    .dataframe tbody tr th {\n",
              "        vertical-align: top;\n",
              "    }\n",
              "\n",
              "    .dataframe thead th {\n",
              "        text-align: right;\n",
              "    }\n",
              "</style>\n",
              "<table border=\"1\" class=\"dataframe\">\n",
              "  <thead>\n",
              "    <tr style=\"text-align: right;\">\n",
              "      <th></th>\n",
              "      <th>transaction_id</th>\n",
              "      <th>first_name</th>\n",
              "      <th>last_name</th>\n",
              "      <th>ip_address</th>\n",
              "      <th>amount</th>\n",
              "    </tr>\n",
              "  </thead>\n",
              "  <tbody>\n",
              "    <tr>\n",
              "      <th>15</th>\n",
              "      <td>68180-751</td>\n",
              "      <td>Marlon</td>\n",
              "      <td>Fernie</td>\n",
              "      <td>61.133.100.141</td>\n",
              "      <td>$974.30</td>\n",
              "    </tr>\n",
              "    <tr>\n",
              "      <th>19</th>\n",
              "      <td>53942-299</td>\n",
              "      <td>Upton</td>\n",
              "      <td>Emig</td>\n",
              "      <td>103.190.123.125</td>\n",
              "      <td>$759.53</td>\n",
              "    </tr>\n",
              "    <tr>\n",
              "      <th>20</th>\n",
              "      <td>60289-247</td>\n",
              "      <td>Corri</td>\n",
              "      <td>Rockcliffe</td>\n",
              "      <td>46.150.208.18</td>\n",
              "      <td>$5.68</td>\n",
              "    </tr>\n",
              "    <tr>\n",
              "      <th>28</th>\n",
              "      <td>59667-0024</td>\n",
              "      <td>Florie</td>\n",
              "      <td>Prewer</td>\n",
              "      <td>148.80.11.233</td>\n",
              "      <td>$565.38</td>\n",
              "    </tr>\n",
              "    <tr>\n",
              "      <th>32</th>\n",
              "      <td>65862-207</td>\n",
              "      <td>Alvira</td>\n",
              "      <td>Heifer</td>\n",
              "      <td>141.170.128.72</td>\n",
              "      <td>$584.13</td>\n",
              "    </tr>\n",
              "    <tr>\n",
              "      <th>37</th>\n",
              "      <td>65862-207</td>\n",
              "      <td>Alvira</td>\n",
              "      <td>Heifer</td>\n",
              "      <td>141.170.128.72</td>\n",
              "      <td>$584.13</td>\n",
              "    </tr>\n",
              "    <tr>\n",
              "      <th>42</th>\n",
              "      <td>0066-0508</td>\n",
              "      <td>Jedd</td>\n",
              "      <td>Hartman</td>\n",
              "      <td>21.55.247.91</td>\n",
              "      <td>$749.96</td>\n",
              "    </tr>\n",
              "  </tbody>\n",
              "</table>\n",
              "</div>"
            ],
            "text/plain": [
              "   transaction_id first_name   last_name       ip_address   amount\n",
              "15      68180-751     Marlon      Fernie   61.133.100.141  $974.30\n",
              "19      53942-299      Upton        Emig  103.190.123.125  $759.53\n",
              "20      60289-247      Corri  Rockcliffe    46.150.208.18    $5.68\n",
              "28     59667-0024     Florie      Prewer    148.80.11.233  $565.38\n",
              "32      65862-207     Alvira      Heifer   141.170.128.72  $584.13\n",
              "37      65862-207     Alvira      Heifer   141.170.128.72  $584.13\n",
              "42      0066-0508       Jedd     Hartman     21.55.247.91  $749.96"
            ]
          },
          "metadata": {
            "tags": []
          },
          "execution_count": 6
        }
      ]
    },
    {
      "cell_type": "code",
      "metadata": {
        "colab": {
          "base_uri": "https://localhost:8080/",
          "height": 447
        },
        "id": "VM4EAtOs-qwY",
        "outputId": "c439c23c-4c1d-4128-e9e7-e55b7eb1c334"
      },
      "source": [
        "df[df.duplicated(keep=False)]"
      ],
      "execution_count": null,
      "outputs": [
        {
          "output_type": "execute_result",
          "data": {
            "text/html": [
              "<div>\n",
              "<style scoped>\n",
              "    .dataframe tbody tr th:only-of-type {\n",
              "        vertical-align: middle;\n",
              "    }\n",
              "\n",
              "    .dataframe tbody tr th {\n",
              "        vertical-align: top;\n",
              "    }\n",
              "\n",
              "    .dataframe thead th {\n",
              "        text-align: right;\n",
              "    }\n",
              "</style>\n",
              "<table border=\"1\" class=\"dataframe\">\n",
              "  <thead>\n",
              "    <tr style=\"text-align: right;\">\n",
              "      <th></th>\n",
              "      <th>transaction_id</th>\n",
              "      <th>first_name</th>\n",
              "      <th>last_name</th>\n",
              "      <th>ip_address</th>\n",
              "      <th>amount</th>\n",
              "    </tr>\n",
              "  </thead>\n",
              "  <tbody>\n",
              "    <tr>\n",
              "      <th>2</th>\n",
              "      <td>59667-0024</td>\n",
              "      <td>Florie</td>\n",
              "      <td>Prewer</td>\n",
              "      <td>148.80.11.233</td>\n",
              "      <td>$565.38</td>\n",
              "    </tr>\n",
              "    <tr>\n",
              "      <th>5</th>\n",
              "      <td>53942-299</td>\n",
              "      <td>Upton</td>\n",
              "      <td>Emig</td>\n",
              "      <td>103.190.123.125</td>\n",
              "      <td>$759.53</td>\n",
              "    </tr>\n",
              "    <tr>\n",
              "      <th>7</th>\n",
              "      <td>60289-247</td>\n",
              "      <td>Corri</td>\n",
              "      <td>Rockcliffe</td>\n",
              "      <td>46.150.208.18</td>\n",
              "      <td>$5.68</td>\n",
              "    </tr>\n",
              "    <tr>\n",
              "      <th>12</th>\n",
              "      <td>68180-751</td>\n",
              "      <td>Marlon</td>\n",
              "      <td>Fernie</td>\n",
              "      <td>61.133.100.141</td>\n",
              "      <td>$974.30</td>\n",
              "    </tr>\n",
              "    <tr>\n",
              "      <th>14</th>\n",
              "      <td>65862-207</td>\n",
              "      <td>Alvira</td>\n",
              "      <td>Heifer</td>\n",
              "      <td>141.170.128.72</td>\n",
              "      <td>$584.13</td>\n",
              "    </tr>\n",
              "    <tr>\n",
              "      <th>15</th>\n",
              "      <td>68180-751</td>\n",
              "      <td>Marlon</td>\n",
              "      <td>Fernie</td>\n",
              "      <td>61.133.100.141</td>\n",
              "      <td>$974.30</td>\n",
              "    </tr>\n",
              "    <tr>\n",
              "      <th>16</th>\n",
              "      <td>0066-0508</td>\n",
              "      <td>Jedd</td>\n",
              "      <td>Hartman</td>\n",
              "      <td>21.55.247.91</td>\n",
              "      <td>$749.96</td>\n",
              "    </tr>\n",
              "    <tr>\n",
              "      <th>19</th>\n",
              "      <td>53942-299</td>\n",
              "      <td>Upton</td>\n",
              "      <td>Emig</td>\n",
              "      <td>103.190.123.125</td>\n",
              "      <td>$759.53</td>\n",
              "    </tr>\n",
              "    <tr>\n",
              "      <th>20</th>\n",
              "      <td>60289-247</td>\n",
              "      <td>Corri</td>\n",
              "      <td>Rockcliffe</td>\n",
              "      <td>46.150.208.18</td>\n",
              "      <td>$5.68</td>\n",
              "    </tr>\n",
              "    <tr>\n",
              "      <th>28</th>\n",
              "      <td>59667-0024</td>\n",
              "      <td>Florie</td>\n",
              "      <td>Prewer</td>\n",
              "      <td>148.80.11.233</td>\n",
              "      <td>$565.38</td>\n",
              "    </tr>\n",
              "    <tr>\n",
              "      <th>32</th>\n",
              "      <td>65862-207</td>\n",
              "      <td>Alvira</td>\n",
              "      <td>Heifer</td>\n",
              "      <td>141.170.128.72</td>\n",
              "      <td>$584.13</td>\n",
              "    </tr>\n",
              "    <tr>\n",
              "      <th>37</th>\n",
              "      <td>65862-207</td>\n",
              "      <td>Alvira</td>\n",
              "      <td>Heifer</td>\n",
              "      <td>141.170.128.72</td>\n",
              "      <td>$584.13</td>\n",
              "    </tr>\n",
              "    <tr>\n",
              "      <th>42</th>\n",
              "      <td>0066-0508</td>\n",
              "      <td>Jedd</td>\n",
              "      <td>Hartman</td>\n",
              "      <td>21.55.247.91</td>\n",
              "      <td>$749.96</td>\n",
              "    </tr>\n",
              "  </tbody>\n",
              "</table>\n",
              "</div>"
            ],
            "text/plain": [
              "   transaction_id first_name   last_name       ip_address   amount\n",
              "2      59667-0024     Florie      Prewer    148.80.11.233  $565.38\n",
              "5       53942-299      Upton        Emig  103.190.123.125  $759.53\n",
              "7       60289-247      Corri  Rockcliffe    46.150.208.18    $5.68\n",
              "12      68180-751     Marlon      Fernie   61.133.100.141  $974.30\n",
              "14      65862-207     Alvira      Heifer   141.170.128.72  $584.13\n",
              "15      68180-751     Marlon      Fernie   61.133.100.141  $974.30\n",
              "16      0066-0508       Jedd     Hartman     21.55.247.91  $749.96\n",
              "19      53942-299      Upton        Emig  103.190.123.125  $759.53\n",
              "20      60289-247      Corri  Rockcliffe    46.150.208.18    $5.68\n",
              "28     59667-0024     Florie      Prewer    148.80.11.233  $565.38\n",
              "32      65862-207     Alvira      Heifer   141.170.128.72  $584.13\n",
              "37      65862-207     Alvira      Heifer   141.170.128.72  $584.13\n",
              "42      0066-0508       Jedd     Hartman     21.55.247.91  $749.96"
            ]
          },
          "metadata": {
            "tags": []
          },
          "execution_count": 7
        }
      ]
    },
    {
      "cell_type": "code",
      "metadata": {
        "colab": {
          "base_uri": "https://localhost:8080/",
          "height": 263
        },
        "id": "qbOunqZzDa0X",
        "outputId": "2483cb34-6034-4ec8-ac89-dfcfa7ca516c"
      },
      "source": [
        "#En ciblant une colonne\r\n",
        "df[df.duplicated(subset='transaction_id')]"
      ],
      "execution_count": null,
      "outputs": [
        {
          "output_type": "execute_result",
          "data": {
            "text/html": [
              "<div>\n",
              "<style scoped>\n",
              "    .dataframe tbody tr th:only-of-type {\n",
              "        vertical-align: middle;\n",
              "    }\n",
              "\n",
              "    .dataframe tbody tr th {\n",
              "        vertical-align: top;\n",
              "    }\n",
              "\n",
              "    .dataframe thead th {\n",
              "        text-align: right;\n",
              "    }\n",
              "</style>\n",
              "<table border=\"1\" class=\"dataframe\">\n",
              "  <thead>\n",
              "    <tr style=\"text-align: right;\">\n",
              "      <th></th>\n",
              "      <th>transaction_id</th>\n",
              "      <th>first_name</th>\n",
              "      <th>last_name</th>\n",
              "      <th>ip_address</th>\n",
              "      <th>amount</th>\n",
              "    </tr>\n",
              "  </thead>\n",
              "  <tbody>\n",
              "    <tr>\n",
              "      <th>15</th>\n",
              "      <td>68180-751</td>\n",
              "      <td>Marlon</td>\n",
              "      <td>Fernie</td>\n",
              "      <td>61.133.100.141</td>\n",
              "      <td>$974.30</td>\n",
              "    </tr>\n",
              "    <tr>\n",
              "      <th>19</th>\n",
              "      <td>53942-299</td>\n",
              "      <td>Upton</td>\n",
              "      <td>Emig</td>\n",
              "      <td>103.190.123.125</td>\n",
              "      <td>$759.53</td>\n",
              "    </tr>\n",
              "    <tr>\n",
              "      <th>20</th>\n",
              "      <td>60289-247</td>\n",
              "      <td>Corri</td>\n",
              "      <td>Rockcliffe</td>\n",
              "      <td>46.150.208.18</td>\n",
              "      <td>$5.68</td>\n",
              "    </tr>\n",
              "    <tr>\n",
              "      <th>28</th>\n",
              "      <td>59667-0024</td>\n",
              "      <td>Florie</td>\n",
              "      <td>Prewer</td>\n",
              "      <td>148.80.11.233</td>\n",
              "      <td>$565.38</td>\n",
              "    </tr>\n",
              "    <tr>\n",
              "      <th>32</th>\n",
              "      <td>65862-207</td>\n",
              "      <td>Alvira</td>\n",
              "      <td>Heifer</td>\n",
              "      <td>141.170.128.72</td>\n",
              "      <td>$584.13</td>\n",
              "    </tr>\n",
              "    <tr>\n",
              "      <th>37</th>\n",
              "      <td>65862-207</td>\n",
              "      <td>Alvira</td>\n",
              "      <td>Heifer</td>\n",
              "      <td>141.170.128.72</td>\n",
              "      <td>$584.13</td>\n",
              "    </tr>\n",
              "    <tr>\n",
              "      <th>42</th>\n",
              "      <td>0066-0508</td>\n",
              "      <td>Jedd</td>\n",
              "      <td>Hartman</td>\n",
              "      <td>21.55.247.91</td>\n",
              "      <td>$749.96</td>\n",
              "    </tr>\n",
              "  </tbody>\n",
              "</table>\n",
              "</div>"
            ],
            "text/plain": [
              "   transaction_id first_name   last_name       ip_address   amount\n",
              "15      68180-751     Marlon      Fernie   61.133.100.141  $974.30\n",
              "19      53942-299      Upton        Emig  103.190.123.125  $759.53\n",
              "20      60289-247      Corri  Rockcliffe    46.150.208.18    $5.68\n",
              "28     59667-0024     Florie      Prewer    148.80.11.233  $565.38\n",
              "32      65862-207     Alvira      Heifer   141.170.128.72  $584.13\n",
              "37      65862-207     Alvira      Heifer   141.170.128.72  $584.13\n",
              "42      0066-0508       Jedd     Hartman     21.55.247.91  $749.96"
            ]
          },
          "metadata": {
            "tags": []
          },
          "execution_count": 8
        }
      ]
    },
    {
      "cell_type": "code",
      "metadata": {
        "colab": {
          "base_uri": "https://localhost:8080/",
          "height": 509
        },
        "id": "_jlU69b7Et5x",
        "outputId": "6a63bb18-ed9a-40d6-d268-b43ccdea3bee"
      },
      "source": [
        "#En ciblant une colonne\r\n",
        "df[df.duplicated(subset=['first_name','last_name'],keep=False)]"
      ],
      "execution_count": null,
      "outputs": [
        {
          "output_type": "execute_result",
          "data": {
            "text/html": [
              "<div>\n",
              "<style scoped>\n",
              "    .dataframe tbody tr th:only-of-type {\n",
              "        vertical-align: middle;\n",
              "    }\n",
              "\n",
              "    .dataframe tbody tr th {\n",
              "        vertical-align: top;\n",
              "    }\n",
              "\n",
              "    .dataframe thead th {\n",
              "        text-align: right;\n",
              "    }\n",
              "</style>\n",
              "<table border=\"1\" class=\"dataframe\">\n",
              "  <thead>\n",
              "    <tr style=\"text-align: right;\">\n",
              "      <th></th>\n",
              "      <th>transaction_id</th>\n",
              "      <th>first_name</th>\n",
              "      <th>last_name</th>\n",
              "      <th>ip_address</th>\n",
              "      <th>amount</th>\n",
              "    </tr>\n",
              "  </thead>\n",
              "  <tbody>\n",
              "    <tr>\n",
              "      <th>2</th>\n",
              "      <td>59667-0024</td>\n",
              "      <td>Florie</td>\n",
              "      <td>Prewer</td>\n",
              "      <td>148.80.11.233</td>\n",
              "      <td>$565.38</td>\n",
              "    </tr>\n",
              "    <tr>\n",
              "      <th>5</th>\n",
              "      <td>53942-299</td>\n",
              "      <td>Upton</td>\n",
              "      <td>Emig</td>\n",
              "      <td>103.190.123.125</td>\n",
              "      <td>$759.53</td>\n",
              "    </tr>\n",
              "    <tr>\n",
              "      <th>7</th>\n",
              "      <td>60289-247</td>\n",
              "      <td>Corri</td>\n",
              "      <td>Rockcliffe</td>\n",
              "      <td>46.150.208.18</td>\n",
              "      <td>$5.68</td>\n",
              "    </tr>\n",
              "    <tr>\n",
              "      <th>12</th>\n",
              "      <td>68180-751</td>\n",
              "      <td>Marlon</td>\n",
              "      <td>Fernie</td>\n",
              "      <td>61.133.100.141</td>\n",
              "      <td>$974.30</td>\n",
              "    </tr>\n",
              "    <tr>\n",
              "      <th>14</th>\n",
              "      <td>65862-207</td>\n",
              "      <td>Alvira</td>\n",
              "      <td>Heifer</td>\n",
              "      <td>141.170.128.72</td>\n",
              "      <td>$584.13</td>\n",
              "    </tr>\n",
              "    <tr>\n",
              "      <th>15</th>\n",
              "      <td>68180-751</td>\n",
              "      <td>Marlon</td>\n",
              "      <td>Fernie</td>\n",
              "      <td>61.133.100.141</td>\n",
              "      <td>$974.30</td>\n",
              "    </tr>\n",
              "    <tr>\n",
              "      <th>16</th>\n",
              "      <td>0066-0508</td>\n",
              "      <td>Jedd</td>\n",
              "      <td>Hartman</td>\n",
              "      <td>21.55.247.91</td>\n",
              "      <td>$749.96</td>\n",
              "    </tr>\n",
              "    <tr>\n",
              "      <th>18</th>\n",
              "      <td>44887-2589</td>\n",
              "      <td>Sergio</td>\n",
              "      <td>Whittlesee</td>\n",
              "      <td>76.116.223.149</td>\n",
              "      <td>$346.1</td>\n",
              "    </tr>\n",
              "    <tr>\n",
              "      <th>19</th>\n",
              "      <td>53942-299</td>\n",
              "      <td>Upton</td>\n",
              "      <td>Emig</td>\n",
              "      <td>103.190.123.125</td>\n",
              "      <td>$759.53</td>\n",
              "    </tr>\n",
              "    <tr>\n",
              "      <th>20</th>\n",
              "      <td>60289-247</td>\n",
              "      <td>Corri</td>\n",
              "      <td>Rockcliffe</td>\n",
              "      <td>46.150.208.18</td>\n",
              "      <td>$5.68</td>\n",
              "    </tr>\n",
              "    <tr>\n",
              "      <th>28</th>\n",
              "      <td>59667-0024</td>\n",
              "      <td>Florie</td>\n",
              "      <td>Prewer</td>\n",
              "      <td>148.80.11.233</td>\n",
              "      <td>$565.38</td>\n",
              "    </tr>\n",
              "    <tr>\n",
              "      <th>29</th>\n",
              "      <td>43857-0134</td>\n",
              "      <td>Sergio</td>\n",
              "      <td>Whittlesee</td>\n",
              "      <td>76.116.223.149</td>\n",
              "      <td>$346.11</td>\n",
              "    </tr>\n",
              "    <tr>\n",
              "      <th>32</th>\n",
              "      <td>65862-207</td>\n",
              "      <td>Alvira</td>\n",
              "      <td>Heifer</td>\n",
              "      <td>141.170.128.72</td>\n",
              "      <td>$584.13</td>\n",
              "    </tr>\n",
              "    <tr>\n",
              "      <th>37</th>\n",
              "      <td>65862-207</td>\n",
              "      <td>Alvira</td>\n",
              "      <td>Heifer</td>\n",
              "      <td>141.170.128.72</td>\n",
              "      <td>$584.13</td>\n",
              "    </tr>\n",
              "    <tr>\n",
              "      <th>42</th>\n",
              "      <td>0066-0508</td>\n",
              "      <td>Jedd</td>\n",
              "      <td>Hartman</td>\n",
              "      <td>21.55.247.91</td>\n",
              "      <td>$749.96</td>\n",
              "    </tr>\n",
              "  </tbody>\n",
              "</table>\n",
              "</div>"
            ],
            "text/plain": [
              "   transaction_id first_name   last_name       ip_address   amount\n",
              "2      59667-0024     Florie      Prewer    148.80.11.233  $565.38\n",
              "5       53942-299      Upton        Emig  103.190.123.125  $759.53\n",
              "7       60289-247      Corri  Rockcliffe    46.150.208.18    $5.68\n",
              "12      68180-751     Marlon      Fernie   61.133.100.141  $974.30\n",
              "14      65862-207     Alvira      Heifer   141.170.128.72  $584.13\n",
              "15      68180-751     Marlon      Fernie   61.133.100.141  $974.30\n",
              "16      0066-0508       Jedd     Hartman     21.55.247.91  $749.96\n",
              "18     44887-2589     Sergio  Whittlesee   76.116.223.149   $346.1\n",
              "19      53942-299      Upton        Emig  103.190.123.125  $759.53\n",
              "20      60289-247      Corri  Rockcliffe    46.150.208.18    $5.68\n",
              "28     59667-0024     Florie      Prewer    148.80.11.233  $565.38\n",
              "29     43857-0134     Sergio  Whittlesee   76.116.223.149  $346.11\n",
              "32      65862-207     Alvira      Heifer   141.170.128.72  $584.13\n",
              "37      65862-207     Alvira      Heifer   141.170.128.72  $584.13\n",
              "42      0066-0508       Jedd     Hartman     21.55.247.91  $749.96"
            ]
          },
          "metadata": {
            "tags": []
          },
          "execution_count": 9
        }
      ]
    },
    {
      "cell_type": "code",
      "metadata": {
        "colab": {
          "base_uri": "https://localhost:8080/"
        },
        "id": "Wag-vVimFTL3",
        "outputId": "eeafc6b4-9999-4c44-d22a-fb8e57c52b46"
      },
      "source": [
        "### Supprimer les doublons \r\n",
        "df.duplicated().sum()"
      ],
      "execution_count": null,
      "outputs": [
        {
          "output_type": "execute_result",
          "data": {
            "text/plain": [
              "7"
            ]
          },
          "metadata": {
            "tags": []
          },
          "execution_count": 11
        }
      ]
    },
    {
      "cell_type": "code",
      "metadata": {
        "colab": {
          "base_uri": "https://localhost:8080/"
        },
        "id": "W_qQfzPAknhB",
        "outputId": "2ece729d-e2bb-4f74-f994-0258a0456ba7"
      },
      "source": [
        "df[df.duplicated(subset=['first_name','last_name'],keep=False)].sum()"
      ],
      "execution_count": null,
      "outputs": [
        {
          "output_type": "execute_result",
          "data": {
            "text/plain": [
              "transaction_id    59667-002453942-29960289-24768180-75165862-207...\n",
              "first_name        FlorieUptonCorriMarlonAlviraMarlonJeddSergioUp...\n",
              "last_name         PrewerEmigRockcliffeFernieHeiferFernieHartmanW...\n",
              "ip_address        148.80.11.233103.190.123.12546.150.208.1861.13...\n",
              "amount            $565.38$759.53$5.68$974.30$584.13$974.30$749.9...\n",
              "dtype: object"
            ]
          },
          "metadata": {
            "tags": []
          },
          "execution_count": 13
        }
      ]
    },
    {
      "cell_type": "code",
      "metadata": {
        "colab": {
          "base_uri": "https://localhost:8080/"
        },
        "id": "aJOSlSplk4Gl",
        "outputId": "390f3928-534e-4f0d-c6bf-5c12eb2e53a9"
      },
      "source": [
        "df.drop_duplicates().duplicated().sum()"
      ],
      "execution_count": null,
      "outputs": [
        {
          "output_type": "execute_result",
          "data": {
            "text/plain": [
              "0"
            ]
          },
          "metadata": {
            "tags": []
          },
          "execution_count": 15
        }
      ]
    },
    {
      "cell_type": "code",
      "metadata": {
        "id": "jq1ZK5pDmoD6"
      },
      "source": [
        "# autre methode :\r\n",
        "df.drop_duplicates(subset=['transaction_id'], inplace=True)"
      ],
      "execution_count": null,
      "outputs": []
    },
    {
      "cell_type": "code",
      "metadata": {
        "colab": {
          "base_uri": "https://localhost:8080/"
        },
        "id": "mok7Yz_2nAqz",
        "outputId": "8b2054b4-c0a0-4805-e035-645b5165ee45"
      },
      "source": [
        "df.duplicated().sum()"
      ],
      "execution_count": null,
      "outputs": [
        {
          "output_type": "execute_result",
          "data": {
            "text/plain": [
              "0"
            ]
          },
          "metadata": {
            "tags": []
          },
          "execution_count": 17
        }
      ]
    },
    {
      "cell_type": "code",
      "metadata": {
        "colab": {
          "base_uri": "https://localhost:8080/"
        },
        "id": "2nISoR1tnFBQ",
        "outputId": "c89678fe-bc1f-4563-a212-d8da26d0c446"
      },
      "source": [
        "df.duplicated"
      ],
      "execution_count": null,
      "outputs": [
        {
          "output_type": "execute_result",
          "data": {
            "text/plain": [
              "<bound method DataFrame.duplicated of    transaction_id  first_name   last_name       ip_address   amount\n",
              "0       50563-403      Jacobo    Haresign    18.144.134.48  $647.77\n",
              "1      54569-3911     Christy        Derl  254.107.123.242  $460.47\n",
              "2      59667-0024      Florie      Prewer    148.80.11.233  $565.38\n",
              "3       60429-123      Danika      Shimuk   233.91.221.158  $794.76\n",
              "4       0187-0771    Annelise   Antonescu   238.143.41.105  $790.41\n",
              "5       53942-299       Upton        Emig  103.190.123.125  $759.53\n",
              "6       41163-519     Rachael     Housley    3.188.252.248  $871.72\n",
              "7       60289-247       Corri  Rockcliffe    46.150.208.18    $5.68\n",
              "8       0527-1742      Ambros    Goulding   174.124.224.39  $726.12\n",
              "9       57237-083        Roma     Addekin     37.14.63.174  $526.89\n",
              "10      60758-060     Auberon       Boxen     168.0.223.98  $309.65\n",
              "11     43857-0289      Cesare   Andriolli    244.204.3.163  $746.23\n",
              "12      68180-751      Marlon      Fernie   61.133.100.141  $974.30\n",
              "13      43319-040   Gavrielle      Vittet    180.20.70.166  $994.20\n",
              "14      65862-207      Alvira      Heifer   141.170.128.72  $584.13\n",
              "16      0066-0508        Jedd     Hartman     21.55.247.91  $749.96\n",
              "17      0187-5102        Beth     Lamping    125.152.40.91   $19.07\n",
              "18     44887-2589      Sergio  Whittlesee   76.116.223.149   $346.1\n",
              "21      42549-609      Candra    Josowitz  158.206.200.105  $443.87\n",
              "22      49999-065       Gunar        Enga     89.51.64.220   $62.60\n",
              "23      52125-412  Constancia    Emberson     58.64.16.173  $666.13\n",
              "24      64679-982     Felicle   Cappleman  246.127.246.202  $208.91\n",
              "25      59779-556    Bartlett   Thrussell   213.80.235.219  $592.77\n",
              "26      0093-1078     Wilhelm   Glanister   126.158.69.199  $722.42\n",
              "27     54569-1444      Ivette     Michele      134.85.3.31  $962.30\n",
              "29     43857-0134      Sergio  Whittlesee   76.116.223.149  $346.11\n",
              "30      0378-2920    Shaylynn   Dominighi   105.104.251.83  $253.56\n",
              "31     63629-3378      Leonid      Polino    68.183.173.70  $310.88\n",
              "33      11673-003       Leroy  Stephenson     143.46.85.46  $951.73\n",
              "34      60429-624     Glennis    Gianelli    48.90.168.126  $987.16\n",
              "35     54973-0611       Brody      Goburn    142.230.225.8  $663.04\n",
              "36     75949-1001      Madlin   Gotcliffe    45.31.218.244  $442.30\n",
              "38      53746-191        Amil    O'Hannay     216.93.89.14  $520.86\n",
              "39      42254-131   Inglebert     Houlson   102.102.146.27  $685.97\n",
              "40      0904-6088         Ann     Cowling    113.27.40.144  $408.82\n",
              "41      46122-023       Lloyd     Colliss     81.0.211.235  $225.69\n",
              "43      0456-2212      Layney    Janssens     79.49.30.228  $889.27\n",
              "44      59779-276    Lynnelle     Ainslie      38.85.34.83  $473.65\n",
              "45      68712-049     Phaedra     Teodoro     92.45.204.14  $445.56\n",
              "46     10157-9539     Sibylla      Pedron   207.112.216.80  $362.15\n",
              "47      0378-1044    Sharlene  Wolfendale   32.253.106.253  $133.98>"
            ]
          },
          "metadata": {
            "tags": []
          },
          "execution_count": 18
        }
      ]
    },
    {
      "cell_type": "code",
      "metadata": {
        "colab": {
          "base_uri": "https://localhost:8080/"
        },
        "id": "S1JhqLbnpGGJ",
        "outputId": "b27d764c-9ec0-4e0f-c79b-66eaf08ec380"
      },
      "source": [
        "fp='https://bit.ly/missing-values'\r\n",
        "print(fp)"
      ],
      "execution_count": null,
      "outputs": [
        {
          "output_type": "stream",
          "text": [
            "https://bit.ly/missing-values\n"
          ],
          "name": "stdout"
        }
      ]
    },
    {
      "cell_type": "code",
      "metadata": {
        "colab": {
          "base_uri": "https://localhost:8080/",
          "height": 202
        },
        "id": "KX-AkJK3pmQ0",
        "outputId": "a2d5dbfd-be86-4c39-9f56-734c0bc8681a"
      },
      "source": [
        "df=pd.read_csv(fp)\r\n",
        "df.head()"
      ],
      "execution_count": null,
      "outputs": [
        {
          "output_type": "execute_result",
          "data": {
            "text/html": [
              "<div>\n",
              "<style scoped>\n",
              "    .dataframe tbody tr th:only-of-type {\n",
              "        vertical-align: middle;\n",
              "    }\n",
              "\n",
              "    .dataframe tbody tr th {\n",
              "        vertical-align: top;\n",
              "    }\n",
              "\n",
              "    .dataframe thead th {\n",
              "        text-align: right;\n",
              "    }\n",
              "</style>\n",
              "<table border=\"1\" class=\"dataframe\">\n",
              "  <thead>\n",
              "    <tr style=\"text-align: right;\">\n",
              "      <th></th>\n",
              "      <th>color</th>\n",
              "      <th>rating</th>\n",
              "    </tr>\n",
              "  </thead>\n",
              "  <tbody>\n",
              "    <tr>\n",
              "      <th>0</th>\n",
              "      <td>NaN</td>\n",
              "      <td>1.16</td>\n",
              "    </tr>\n",
              "    <tr>\n",
              "      <th>1</th>\n",
              "      <td>Red</td>\n",
              "      <td>NaN</td>\n",
              "    </tr>\n",
              "    <tr>\n",
              "      <th>2</th>\n",
              "      <td>Blue</td>\n",
              "      <td>2.54</td>\n",
              "    </tr>\n",
              "    <tr>\n",
              "      <th>3</th>\n",
              "      <td>Red</td>\n",
              "      <td>1.51</td>\n",
              "    </tr>\n",
              "    <tr>\n",
              "      <th>4</th>\n",
              "      <td>Red</td>\n",
              "      <td>NaN</td>\n",
              "    </tr>\n",
              "  </tbody>\n",
              "</table>\n",
              "</div>"
            ],
            "text/plain": [
              "  color  rating\n",
              "0   NaN    1.16\n",
              "1   Red     NaN\n",
              "2  Blue    2.54\n",
              "3   Red    1.51\n",
              "4   Red     NaN"
            ]
          },
          "metadata": {
            "tags": []
          },
          "execution_count": 31
        }
      ]
    },
    {
      "cell_type": "code",
      "metadata": {
        "id": "He5WxL4Opvex"
      },
      "source": [
        "import numpy as np"
      ],
      "execution_count": null,
      "outputs": []
    },
    {
      "cell_type": "code",
      "metadata": {
        "colab": {
          "base_uri": "https://localhost:8080/"
        },
        "id": "jNsEPZ4MqcRV",
        "outputId": "5f00f195-c89a-4a80-cb3d-0c58257f42e2"
      },
      "source": [
        "df.isna().sum()"
      ],
      "execution_count": null,
      "outputs": [
        {
          "output_type": "execute_result",
          "data": {
            "text/plain": [
              "color     129\n",
              "rating    256\n",
              "dtype: int64"
            ]
          },
          "metadata": {
            "tags": []
          },
          "execution_count": 32
        }
      ]
    },
    {
      "cell_type": "code",
      "metadata": {
        "colab": {
          "base_uri": "https://localhost:8080/"
        },
        "id": "Ie0bXt9N1pnI",
        "outputId": "d10cd922-eece-434c-b255-3010001d1ec4"
      },
      "source": [
        "df.isna().mean()"
      ],
      "execution_count": null,
      "outputs": [
        {
          "output_type": "execute_result",
          "data": {
            "text/plain": [
              "color     0.140676\n",
              "rating    0.279171\n",
              "dtype: float64"
            ]
          },
          "metadata": {
            "tags": []
          },
          "execution_count": 33
        }
      ]
    },
    {
      "cell_type": "code",
      "metadata": {
        "colab": {
          "base_uri": "https://localhost:8080/"
        },
        "id": "Lly64TSD13ij",
        "outputId": "169c475e-e850-42cb-affd-ba6dc632b3d8"
      },
      "source": [
        "df['color'].value_counts(dropna=False)"
      ],
      "execution_count": null,
      "outputs": [
        {
          "output_type": "execute_result",
          "data": {
            "text/plain": [
              "Blue      323\n",
              "Red       234\n",
              "Orange    154\n",
              "NaN       129\n",
              "Yellow     77\n",
              "Name: color, dtype: int64"
            ]
          },
          "metadata": {
            "tags": []
          },
          "execution_count": 34
        }
      ]
    },
    {
      "cell_type": "code",
      "metadata": {
        "colab": {
          "base_uri": "https://localhost:8080/"
        },
        "id": "bElRWoyW2yDq",
        "outputId": "4803ec0c-a8f8-4711-ac3b-f2b33396dcbb"
      },
      "source": [
        "df['rating'].value_counts(dropna=False)"
      ],
      "execution_count": null,
      "outputs": [
        {
          "output_type": "execute_result",
          "data": {
            "text/plain": [
              "NaN     256\n",
              "3.17      7\n",
              "2.73      5\n",
              "3.57      5\n",
              "2.97      5\n",
              "       ... \n",
              "1.44      1\n",
              "1.49      1\n",
              "2.61      1\n",
              "2.62      1\n",
              "1.83      1\n",
              "Name: rating, Length: 342, dtype: int64"
            ]
          },
          "metadata": {
            "tags": []
          },
          "execution_count": 27
        }
      ]
    },
    {
      "cell_type": "code",
      "metadata": {
        "colab": {
          "base_uri": "https://localhost:8080/"
        },
        "id": "OMp_AdF-24nb",
        "outputId": "5c5f6a17-b2d1-4bb6-dad4-fb1171dee2ac"
      },
      "source": [
        "fp='https://bit.ly/missing-values-toy'\r\n",
        "print(fp)"
      ],
      "execution_count": null,
      "outputs": [
        {
          "output_type": "stream",
          "text": [
            "https://bit.ly/missing-values-toy\n"
          ],
          "name": "stdout"
        }
      ]
    },
    {
      "cell_type": "code",
      "metadata": {
        "colab": {
          "base_uri": "https://localhost:8080/",
          "height": 202
        },
        "id": "YPU6WIIW3qGg",
        "outputId": "75967619-19ba-43eb-cc69-5ab4e2751b2d"
      },
      "source": [
        "df=pd.read_csv(fp)\r\n",
        "df.head()"
      ],
      "execution_count": null,
      "outputs": [
        {
          "output_type": "execute_result",
          "data": {
            "text/html": [
              "<div>\n",
              "<style scoped>\n",
              "    .dataframe tbody tr th:only-of-type {\n",
              "        vertical-align: middle;\n",
              "    }\n",
              "\n",
              "    .dataframe tbody tr th {\n",
              "        vertical-align: top;\n",
              "    }\n",
              "\n",
              "    .dataframe thead th {\n",
              "        text-align: right;\n",
              "    }\n",
              "</style>\n",
              "<table border=\"1\" class=\"dataframe\">\n",
              "  <thead>\n",
              "    <tr style=\"text-align: right;\">\n",
              "      <th></th>\n",
              "      <th>Colonne Importante</th>\n",
              "      <th>Colonne Inutile</th>\n",
              "      <th>Colonne Peu Utile</th>\n",
              "    </tr>\n",
              "  </thead>\n",
              "  <tbody>\n",
              "    <tr>\n",
              "      <th>0</th>\n",
              "      <td>Oui</td>\n",
              "      <td>NaN</td>\n",
              "      <td>2.0</td>\n",
              "    </tr>\n",
              "    <tr>\n",
              "      <th>1</th>\n",
              "      <td>Non</td>\n",
              "      <td>1.0</td>\n",
              "      <td>NaN</td>\n",
              "    </tr>\n",
              "    <tr>\n",
              "      <th>2</th>\n",
              "      <td>Légerement</td>\n",
              "      <td>NaN</td>\n",
              "      <td>3.0</td>\n",
              "    </tr>\n",
              "    <tr>\n",
              "      <th>3</th>\n",
              "      <td>NaN</td>\n",
              "      <td>1.0</td>\n",
              "      <td>NaN</td>\n",
              "    </tr>\n",
              "    <tr>\n",
              "      <th>4</th>\n",
              "      <td>Oui</td>\n",
              "      <td>1.0</td>\n",
              "      <td>4.0</td>\n",
              "    </tr>\n",
              "  </tbody>\n",
              "</table>\n",
              "</div>"
            ],
            "text/plain": [
              "  Colonne Importante  Colonne Inutile  Colonne Peu Utile\n",
              "0                Oui              NaN                2.0\n",
              "1                Non              1.0                NaN\n",
              "2         Légerement              NaN                3.0\n",
              "3                NaN              1.0                NaN\n",
              "4                Oui              1.0                4.0"
            ]
          },
          "metadata": {
            "tags": []
          },
          "execution_count": 29
        }
      ]
    },
    {
      "cell_type": "code",
      "metadata": {
        "colab": {
          "base_uri": "https://localhost:8080/"
        },
        "id": "V0nXlbPc31ZZ",
        "outputId": "a66d02c8-c61f-4fc5-b80c-7214d1e774ab"
      },
      "source": [
        "df['color'].isna()"
      ],
      "execution_count": null,
      "outputs": [
        {
          "output_type": "execute_result",
          "data": {
            "text/plain": [
              "0       True\n",
              "1      False\n",
              "2      False\n",
              "3      False\n",
              "4      False\n",
              "       ...  \n",
              "912    False\n",
              "913    False\n",
              "914     True\n",
              "915    False\n",
              "916    False\n",
              "Name: color, Length: 917, dtype: bool"
            ]
          },
          "metadata": {
            "tags": []
          },
          "execution_count": 35
        }
      ]
    },
    {
      "cell_type": "code",
      "metadata": {
        "colab": {
          "base_uri": "https://localhost:8080/",
          "height": 202
        },
        "id": "rpc6TYu9V4Ay",
        "outputId": "823ae901-2d03-461c-8227-30a98a8840cf"
      },
      "source": [
        "df['color_missing']=df['color'].isna()\r\n",
        "df.head()"
      ],
      "execution_count": null,
      "outputs": [
        {
          "output_type": "execute_result",
          "data": {
            "text/html": [
              "<div>\n",
              "<style scoped>\n",
              "    .dataframe tbody tr th:only-of-type {\n",
              "        vertical-align: middle;\n",
              "    }\n",
              "\n",
              "    .dataframe tbody tr th {\n",
              "        vertical-align: top;\n",
              "    }\n",
              "\n",
              "    .dataframe thead th {\n",
              "        text-align: right;\n",
              "    }\n",
              "</style>\n",
              "<table border=\"1\" class=\"dataframe\">\n",
              "  <thead>\n",
              "    <tr style=\"text-align: right;\">\n",
              "      <th></th>\n",
              "      <th>color</th>\n",
              "      <th>rating</th>\n",
              "      <th>color_missing</th>\n",
              "    </tr>\n",
              "  </thead>\n",
              "  <tbody>\n",
              "    <tr>\n",
              "      <th>0</th>\n",
              "      <td>NaN</td>\n",
              "      <td>1.16</td>\n",
              "      <td>True</td>\n",
              "    </tr>\n",
              "    <tr>\n",
              "      <th>1</th>\n",
              "      <td>Red</td>\n",
              "      <td>NaN</td>\n",
              "      <td>False</td>\n",
              "    </tr>\n",
              "    <tr>\n",
              "      <th>2</th>\n",
              "      <td>Blue</td>\n",
              "      <td>2.54</td>\n",
              "      <td>False</td>\n",
              "    </tr>\n",
              "    <tr>\n",
              "      <th>3</th>\n",
              "      <td>Red</td>\n",
              "      <td>1.51</td>\n",
              "      <td>False</td>\n",
              "    </tr>\n",
              "    <tr>\n",
              "      <th>4</th>\n",
              "      <td>Red</td>\n",
              "      <td>NaN</td>\n",
              "      <td>False</td>\n",
              "    </tr>\n",
              "  </tbody>\n",
              "</table>\n",
              "</div>"
            ],
            "text/plain": [
              "  color  rating  color_missing\n",
              "0   NaN    1.16           True\n",
              "1   Red     NaN          False\n",
              "2  Blue    2.54          False\n",
              "3   Red    1.51          False\n",
              "4   Red     NaN          False"
            ]
          },
          "metadata": {
            "tags": []
          },
          "execution_count": 36
        }
      ]
    },
    {
      "cell_type": "code",
      "metadata": {
        "colab": {
          "base_uri": "https://localhost:8080/",
          "height": 202
        },
        "id": "VmyfYCITWFxV",
        "outputId": "3039082a-20c6-452a-e948-9fa6e4966abc"
      },
      "source": [
        "df['rating_missing']=df['rating'].isna()\r\n",
        "df.head()"
      ],
      "execution_count": null,
      "outputs": [
        {
          "output_type": "execute_result",
          "data": {
            "text/html": [
              "<div>\n",
              "<style scoped>\n",
              "    .dataframe tbody tr th:only-of-type {\n",
              "        vertical-align: middle;\n",
              "    }\n",
              "\n",
              "    .dataframe tbody tr th {\n",
              "        vertical-align: top;\n",
              "    }\n",
              "\n",
              "    .dataframe thead th {\n",
              "        text-align: right;\n",
              "    }\n",
              "</style>\n",
              "<table border=\"1\" class=\"dataframe\">\n",
              "  <thead>\n",
              "    <tr style=\"text-align: right;\">\n",
              "      <th></th>\n",
              "      <th>color</th>\n",
              "      <th>rating</th>\n",
              "      <th>color_missing</th>\n",
              "      <th>rating_missing</th>\n",
              "    </tr>\n",
              "  </thead>\n",
              "  <tbody>\n",
              "    <tr>\n",
              "      <th>0</th>\n",
              "      <td>NaN</td>\n",
              "      <td>1.16</td>\n",
              "      <td>True</td>\n",
              "      <td>False</td>\n",
              "    </tr>\n",
              "    <tr>\n",
              "      <th>1</th>\n",
              "      <td>Red</td>\n",
              "      <td>NaN</td>\n",
              "      <td>False</td>\n",
              "      <td>True</td>\n",
              "    </tr>\n",
              "    <tr>\n",
              "      <th>2</th>\n",
              "      <td>Blue</td>\n",
              "      <td>2.54</td>\n",
              "      <td>False</td>\n",
              "      <td>False</td>\n",
              "    </tr>\n",
              "    <tr>\n",
              "      <th>3</th>\n",
              "      <td>Red</td>\n",
              "      <td>1.51</td>\n",
              "      <td>False</td>\n",
              "      <td>False</td>\n",
              "    </tr>\n",
              "    <tr>\n",
              "      <th>4</th>\n",
              "      <td>Red</td>\n",
              "      <td>NaN</td>\n",
              "      <td>False</td>\n",
              "      <td>True</td>\n",
              "    </tr>\n",
              "  </tbody>\n",
              "</table>\n",
              "</div>"
            ],
            "text/plain": [
              "  color  rating  color_missing  rating_missing\n",
              "0   NaN    1.16           True           False\n",
              "1   Red     NaN          False            True\n",
              "2  Blue    2.54          False           False\n",
              "3   Red    1.51          False           False\n",
              "4   Red     NaN          False            True"
            ]
          },
          "metadata": {
            "tags": []
          },
          "execution_count": 38
        }
      ]
    },
    {
      "cell_type": "code",
      "metadata": {
        "id": "sK2UslQ9W_h4"
      },
      "source": [
        "df.drop(['color_missing','rating_missing'],axis=1, inplace=True)"
      ],
      "execution_count": null,
      "outputs": []
    },
    {
      "cell_type": "code",
      "metadata": {
        "colab": {
          "base_uri": "https://localhost:8080/",
          "height": 415
        },
        "id": "rc4nZcuAXe6H",
        "outputId": "beeaab3f-cfa9-4246-9719-0eb3118f1962"
      },
      "source": [
        "df"
      ],
      "execution_count": null,
      "outputs": [
        {
          "output_type": "execute_result",
          "data": {
            "text/html": [
              "<div>\n",
              "<style scoped>\n",
              "    .dataframe tbody tr th:only-of-type {\n",
              "        vertical-align: middle;\n",
              "    }\n",
              "\n",
              "    .dataframe tbody tr th {\n",
              "        vertical-align: top;\n",
              "    }\n",
              "\n",
              "    .dataframe thead th {\n",
              "        text-align: right;\n",
              "    }\n",
              "</style>\n",
              "<table border=\"1\" class=\"dataframe\">\n",
              "  <thead>\n",
              "    <tr style=\"text-align: right;\">\n",
              "      <th></th>\n",
              "      <th>color</th>\n",
              "      <th>rating</th>\n",
              "    </tr>\n",
              "  </thead>\n",
              "  <tbody>\n",
              "    <tr>\n",
              "      <th>0</th>\n",
              "      <td>NaN</td>\n",
              "      <td>1.16</td>\n",
              "    </tr>\n",
              "    <tr>\n",
              "      <th>1</th>\n",
              "      <td>Red</td>\n",
              "      <td>NaN</td>\n",
              "    </tr>\n",
              "    <tr>\n",
              "      <th>2</th>\n",
              "      <td>Blue</td>\n",
              "      <td>2.54</td>\n",
              "    </tr>\n",
              "    <tr>\n",
              "      <th>3</th>\n",
              "      <td>Red</td>\n",
              "      <td>1.51</td>\n",
              "    </tr>\n",
              "    <tr>\n",
              "      <th>4</th>\n",
              "      <td>Red</td>\n",
              "      <td>NaN</td>\n",
              "    </tr>\n",
              "    <tr>\n",
              "      <th>...</th>\n",
              "      <td>...</td>\n",
              "      <td>...</td>\n",
              "    </tr>\n",
              "    <tr>\n",
              "      <th>912</th>\n",
              "      <td>Blue</td>\n",
              "      <td>3.40</td>\n",
              "    </tr>\n",
              "    <tr>\n",
              "      <th>913</th>\n",
              "      <td>Red</td>\n",
              "      <td>NaN</td>\n",
              "    </tr>\n",
              "    <tr>\n",
              "      <th>914</th>\n",
              "      <td>NaN</td>\n",
              "      <td>1.24</td>\n",
              "    </tr>\n",
              "    <tr>\n",
              "      <th>915</th>\n",
              "      <td>Yellow</td>\n",
              "      <td>2.64</td>\n",
              "    </tr>\n",
              "    <tr>\n",
              "      <th>916</th>\n",
              "      <td>Blue</td>\n",
              "      <td>NaN</td>\n",
              "    </tr>\n",
              "  </tbody>\n",
              "</table>\n",
              "<p>917 rows × 2 columns</p>\n",
              "</div>"
            ],
            "text/plain": [
              "      color  rating\n",
              "0       NaN    1.16\n",
              "1       Red     NaN\n",
              "2      Blue    2.54\n",
              "3       Red    1.51\n",
              "4       Red     NaN\n",
              "..      ...     ...\n",
              "912    Blue    3.40\n",
              "913     Red     NaN\n",
              "914     NaN    1.24\n",
              "915  Yellow    2.64\n",
              "916    Blue     NaN\n",
              "\n",
              "[917 rows x 2 columns]"
            ]
          },
          "metadata": {
            "tags": []
          },
          "execution_count": 40
        }
      ]
    },
    {
      "cell_type": "code",
      "metadata": {
        "colab": {
          "base_uri": "https://localhost:8080/"
        },
        "id": "2bljeua3WWgz",
        "outputId": "21f44be3-2225-4335-b8bf-09290ad47552"
      },
      "source": [
        "for col_name in df.columns:\r\n",
        "  print(col_name)"
      ],
      "execution_count": null,
      "outputs": [
        {
          "output_type": "stream",
          "text": [
            "color\n",
            "rating\n"
          ],
          "name": "stdout"
        }
      ]
    },
    {
      "cell_type": "code",
      "metadata": {
        "colab": {
          "base_uri": "https://localhost:8080/",
          "height": 202
        },
        "id": "Hgd_NE9-Xrn2",
        "outputId": "3d26f2b6-5ffd-4e77-e2ff-806c279ef939"
      },
      "source": [
        "for col_name in df.columns:\r\n",
        "  df[col_name+'missing']=df[col_name].isna()\r\n",
        "df.head()"
      ],
      "execution_count": null,
      "outputs": [
        {
          "output_type": "execute_result",
          "data": {
            "text/html": [
              "<div>\n",
              "<style scoped>\n",
              "    .dataframe tbody tr th:only-of-type {\n",
              "        vertical-align: middle;\n",
              "    }\n",
              "\n",
              "    .dataframe tbody tr th {\n",
              "        vertical-align: top;\n",
              "    }\n",
              "\n",
              "    .dataframe thead th {\n",
              "        text-align: right;\n",
              "    }\n",
              "</style>\n",
              "<table border=\"1\" class=\"dataframe\">\n",
              "  <thead>\n",
              "    <tr style=\"text-align: right;\">\n",
              "      <th></th>\n",
              "      <th>color</th>\n",
              "      <th>rating</th>\n",
              "      <th>colormissing</th>\n",
              "      <th>ratingmissing</th>\n",
              "    </tr>\n",
              "  </thead>\n",
              "  <tbody>\n",
              "    <tr>\n",
              "      <th>0</th>\n",
              "      <td>NaN</td>\n",
              "      <td>1.16</td>\n",
              "      <td>True</td>\n",
              "      <td>False</td>\n",
              "    </tr>\n",
              "    <tr>\n",
              "      <th>1</th>\n",
              "      <td>Red</td>\n",
              "      <td>NaN</td>\n",
              "      <td>False</td>\n",
              "      <td>True</td>\n",
              "    </tr>\n",
              "    <tr>\n",
              "      <th>2</th>\n",
              "      <td>Blue</td>\n",
              "      <td>2.54</td>\n",
              "      <td>False</td>\n",
              "      <td>False</td>\n",
              "    </tr>\n",
              "    <tr>\n",
              "      <th>3</th>\n",
              "      <td>Red</td>\n",
              "      <td>1.51</td>\n",
              "      <td>False</td>\n",
              "      <td>False</td>\n",
              "    </tr>\n",
              "    <tr>\n",
              "      <th>4</th>\n",
              "      <td>Red</td>\n",
              "      <td>NaN</td>\n",
              "      <td>False</td>\n",
              "      <td>True</td>\n",
              "    </tr>\n",
              "  </tbody>\n",
              "</table>\n",
              "</div>"
            ],
            "text/plain": [
              "  color  rating  colormissing  ratingmissing\n",
              "0   NaN    1.16          True          False\n",
              "1   Red     NaN         False           True\n",
              "2  Blue    2.54         False          False\n",
              "3   Red    1.51         False          False\n",
              "4   Red     NaN         False           True"
            ]
          },
          "metadata": {
            "tags": []
          },
          "execution_count": 42
        }
      ]
    },
    {
      "cell_type": "code",
      "metadata": {
        "colab": {
          "base_uri": "https://localhost:8080/"
        },
        "id": "ECiI9KgaZ3zt",
        "outputId": "bd2bb76f-eef6-48ba-f3ce-882d36ea59f7"
      },
      "source": [
        "df['color'].value_counts(dropna=False)"
      ],
      "execution_count": null,
      "outputs": [
        {
          "output_type": "execute_result",
          "data": {
            "text/plain": [
              "Blue      323\n",
              "Red       234\n",
              "Orange    154\n",
              "NaN       129\n",
              "Yellow     77\n",
              "Name: color, dtype: int64"
            ]
          },
          "metadata": {
            "tags": []
          },
          "execution_count": 43
        }
      ]
    },
    {
      "cell_type": "code",
      "metadata": {
        "colab": {
          "base_uri": "https://localhost:8080/"
        },
        "id": "j6LT9jFwl0wT",
        "outputId": "27a7d709-f9eb-41bd-f6ed-ba2d3cb9c2d0"
      },
      "source": [
        "df['color'].fillna('Blue')"
      ],
      "execution_count": null,
      "outputs": [
        {
          "output_type": "execute_result",
          "data": {
            "text/plain": [
              "0        Blue\n",
              "1         Red\n",
              "2        Blue\n",
              "3         Red\n",
              "4         Red\n",
              "        ...  \n",
              "912      Blue\n",
              "913       Red\n",
              "914      Blue\n",
              "915    Yellow\n",
              "916      Blue\n",
              "Name: color, Length: 917, dtype: object"
            ]
          },
          "metadata": {
            "tags": []
          },
          "execution_count": 44
        }
      ]
    },
    {
      "cell_type": "markdown",
      "metadata": {
        "id": "f4_3jEQvutYf"
      },
      "source": [
        "# Variables dummy"
      ]
    },
    {
      "cell_type": "code",
      "metadata": {
        "colab": {
          "base_uri": "https://localhost:8080/"
        },
        "id": "NTZxOqPrmAtA",
        "outputId": "cca86f49-fbf8-46f9-e884-b54e91bda858"
      },
      "source": [
        "fp='https://bit.ly/dummy-variables'\r\n",
        "print(fp)"
      ],
      "execution_count": null,
      "outputs": [
        {
          "output_type": "stream",
          "text": [
            "https://bit.ly/dummy-variables\n"
          ],
          "name": "stdout"
        }
      ]
    },
    {
      "cell_type": "code",
      "metadata": {
        "colab": {
          "base_uri": "https://localhost:8080/",
          "height": 202
        },
        "id": "1fhZx5advamH",
        "outputId": "facbf3e9-2b00-4880-bd9d-fdcb3912a13c"
      },
      "source": [
        "import pandas as pd\r\n",
        "df=pd.read_csv(fp)\r\n",
        "df.head()"
      ],
      "execution_count": null,
      "outputs": [
        {
          "output_type": "execute_result",
          "data": {
            "text/html": [
              "<div>\n",
              "<style scoped>\n",
              "    .dataframe tbody tr th:only-of-type {\n",
              "        vertical-align: middle;\n",
              "    }\n",
              "\n",
              "    .dataframe tbody tr th {\n",
              "        vertical-align: top;\n",
              "    }\n",
              "\n",
              "    .dataframe thead th {\n",
              "        text-align: right;\n",
              "    }\n",
              "</style>\n",
              "<table border=\"1\" class=\"dataframe\">\n",
              "  <thead>\n",
              "    <tr style=\"text-align: right;\">\n",
              "      <th></th>\n",
              "      <th>color</th>\n",
              "      <th>premium</th>\n",
              "    </tr>\n",
              "  </thead>\n",
              "  <tbody>\n",
              "    <tr>\n",
              "      <th>0</th>\n",
              "      <td>Blue</td>\n",
              "      <td>False</td>\n",
              "    </tr>\n",
              "    <tr>\n",
              "      <th>1</th>\n",
              "      <td>Blue</td>\n",
              "      <td>True</td>\n",
              "    </tr>\n",
              "    <tr>\n",
              "      <th>2</th>\n",
              "      <td>Red</td>\n",
              "      <td>False</td>\n",
              "    </tr>\n",
              "    <tr>\n",
              "      <th>3</th>\n",
              "      <td>Red</td>\n",
              "      <td>False</td>\n",
              "    </tr>\n",
              "    <tr>\n",
              "      <th>4</th>\n",
              "      <td>Blue</td>\n",
              "      <td>False</td>\n",
              "    </tr>\n",
              "  </tbody>\n",
              "</table>\n",
              "</div>"
            ],
            "text/plain": [
              "  color  premium\n",
              "0  Blue    False\n",
              "1  Blue     True\n",
              "2   Red    False\n",
              "3   Red    False\n",
              "4  Blue    False"
            ]
          },
          "metadata": {
            "tags": []
          },
          "execution_count": 70
        }
      ]
    },
    {
      "cell_type": "code",
      "metadata": {
        "colab": {
          "base_uri": "https://localhost:8080/"
        },
        "id": "XIgCmQN0vlnf",
        "outputId": "cfcc1d77-e7f3-4cc5-d9fe-86e030be3f40"
      },
      "source": [
        "df['color'].value_counts(dropna=False)"
      ],
      "execution_count": null,
      "outputs": [
        {
          "output_type": "execute_result",
          "data": {
            "text/plain": [
              "Blue      364\n",
              "Red       327\n",
              "Orange    197\n",
              "Yellow    112\n",
              "Name: color, dtype: int64"
            ]
          },
          "metadata": {
            "tags": []
          },
          "execution_count": 47
        }
      ]
    },
    {
      "cell_type": "code",
      "metadata": {
        "colab": {
          "base_uri": "https://localhost:8080/"
        },
        "id": "XL3OhHd0v-Dl",
        "outputId": "416a9ec0-eea5-4f33-f160-77f191d200d3"
      },
      "source": [
        "df['premium'].value_counts(dropna=False)"
      ],
      "execution_count": null,
      "outputs": [
        {
          "output_type": "execute_result",
          "data": {
            "text/plain": [
              "False    520\n",
              "True     480\n",
              "Name: premium, dtype: int64"
            ]
          },
          "metadata": {
            "tags": []
          },
          "execution_count": 48
        }
      ]
    },
    {
      "cell_type": "code",
      "metadata": {
        "colab": {
          "base_uri": "https://localhost:8080/"
        },
        "id": "XCzwUBLewCnW",
        "outputId": "f88aeb24-4e66-425d-e24b-b7fd601ab52f"
      },
      "source": [
        "df['premium'].head()"
      ],
      "execution_count": null,
      "outputs": [
        {
          "output_type": "execute_result",
          "data": {
            "text/plain": [
              "0    False\n",
              "1     True\n",
              "2    False\n",
              "3    False\n",
              "4    False\n",
              "Name: premium, dtype: bool"
            ]
          },
          "metadata": {
            "tags": []
          },
          "execution_count": 49
        }
      ]
    },
    {
      "cell_type": "code",
      "metadata": {
        "colab": {
          "base_uri": "https://localhost:8080/"
        },
        "id": "cP7JA9STx0Q5",
        "outputId": "632a12be-4e73-4eda-c7f2-e5ba8a274069"
      },
      "source": [
        "df['premium'].astype(int)"
      ],
      "execution_count": null,
      "outputs": [
        {
          "output_type": "execute_result",
          "data": {
            "text/plain": [
              "0      0\n",
              "1      1\n",
              "2      0\n",
              "3      0\n",
              "4      0\n",
              "      ..\n",
              "995    0\n",
              "996    1\n",
              "997    0\n",
              "998    0\n",
              "999    1\n",
              "Name: premium, Length: 1000, dtype: int64"
            ]
          },
          "metadata": {
            "tags": []
          },
          "execution_count": 50
        }
      ]
    },
    {
      "cell_type": "code",
      "metadata": {
        "id": "901Cx2flx6-D"
      },
      "source": [
        "df['color']=df['color'].astype('category')"
      ],
      "execution_count": null,
      "outputs": []
    },
    {
      "cell_type": "code",
      "metadata": {
        "colab": {
          "base_uri": "https://localhost:8080/"
        },
        "id": "ljwLs7z_yk4o",
        "outputId": "05279ab2-c140-41e3-aaeb-de7c69c05738"
      },
      "source": [
        "df['color'].cat.codes"
      ],
      "execution_count": null,
      "outputs": [
        {
          "output_type": "execute_result",
          "data": {
            "text/plain": [
              "0      0\n",
              "1      0\n",
              "2      2\n",
              "3      2\n",
              "4      0\n",
              "      ..\n",
              "995    1\n",
              "996    0\n",
              "997    2\n",
              "998    0\n",
              "999    0\n",
              "Length: 1000, dtype: int8"
            ]
          },
          "metadata": {
            "tags": []
          },
          "execution_count": 52
        }
      ]
    },
    {
      "cell_type": "code",
      "metadata": {
        "id": "GFLy1KEByrE9"
      },
      "source": [
        "df['color_base_enc']=df['color'].cat.codes"
      ],
      "execution_count": null,
      "outputs": []
    },
    {
      "cell_type": "code",
      "metadata": {
        "colab": {
          "base_uri": "https://localhost:8080/",
          "height": 202
        },
        "id": "ZbvYMZ8bzNuA",
        "outputId": "cd46ae0a-d878-4323-83b8-e21f238b2be9"
      },
      "source": [
        "df['premium_base_enc']=df['premium'].astype(int)\r\n",
        "df.head()"
      ],
      "execution_count": null,
      "outputs": [
        {
          "output_type": "execute_result",
          "data": {
            "text/html": [
              "<div>\n",
              "<style scoped>\n",
              "    .dataframe tbody tr th:only-of-type {\n",
              "        vertical-align: middle;\n",
              "    }\n",
              "\n",
              "    .dataframe tbody tr th {\n",
              "        vertical-align: top;\n",
              "    }\n",
              "\n",
              "    .dataframe thead th {\n",
              "        text-align: right;\n",
              "    }\n",
              "</style>\n",
              "<table border=\"1\" class=\"dataframe\">\n",
              "  <thead>\n",
              "    <tr style=\"text-align: right;\">\n",
              "      <th></th>\n",
              "      <th>color</th>\n",
              "      <th>premium</th>\n",
              "      <th>premium_base_enc</th>\n",
              "      <th>color_base_enc</th>\n",
              "    </tr>\n",
              "  </thead>\n",
              "  <tbody>\n",
              "    <tr>\n",
              "      <th>0</th>\n",
              "      <td>Blue</td>\n",
              "      <td>False</td>\n",
              "      <td>0</td>\n",
              "      <td>0</td>\n",
              "    </tr>\n",
              "    <tr>\n",
              "      <th>1</th>\n",
              "      <td>Blue</td>\n",
              "      <td>True</td>\n",
              "      <td>1</td>\n",
              "      <td>0</td>\n",
              "    </tr>\n",
              "    <tr>\n",
              "      <th>2</th>\n",
              "      <td>Red</td>\n",
              "      <td>False</td>\n",
              "      <td>0</td>\n",
              "      <td>2</td>\n",
              "    </tr>\n",
              "    <tr>\n",
              "      <th>3</th>\n",
              "      <td>Red</td>\n",
              "      <td>False</td>\n",
              "      <td>0</td>\n",
              "      <td>2</td>\n",
              "    </tr>\n",
              "    <tr>\n",
              "      <th>4</th>\n",
              "      <td>Blue</td>\n",
              "      <td>False</td>\n",
              "      <td>0</td>\n",
              "      <td>0</td>\n",
              "    </tr>\n",
              "  </tbody>\n",
              "</table>\n",
              "</div>"
            ],
            "text/plain": [
              "  color  premium  premium_base_enc  color_base_enc\n",
              "0  Blue    False                 0               0\n",
              "1  Blue     True                 1               0\n",
              "2   Red    False                 0               2\n",
              "3   Red    False                 0               2\n",
              "4  Blue    False                 0               0"
            ]
          },
          "metadata": {
            "tags": []
          },
          "execution_count": 56
        }
      ]
    },
    {
      "cell_type": "markdown",
      "metadata": {
        "id": "ZDM8_gkw0qq1"
      },
      "source": [
        "### One HOT encoding"
      ]
    },
    {
      "cell_type": "code",
      "metadata": {
        "colab": {
          "base_uri": "https://localhost:8080/"
        },
        "id": "rr3KlstK23Oz",
        "outputId": "664db5bd-7475-4fcb-a7ae-d0ed56f92736"
      },
      "source": [
        "(df['color']=='Red').astype(int)"
      ],
      "execution_count": null,
      "outputs": [
        {
          "output_type": "execute_result",
          "data": {
            "text/plain": [
              "0      0\n",
              "1      0\n",
              "2      1\n",
              "3      1\n",
              "4      0\n",
              "      ..\n",
              "995    0\n",
              "996    0\n",
              "997    1\n",
              "998    0\n",
              "999    0\n",
              "Name: color, Length: 1000, dtype: int64"
            ]
          },
          "metadata": {
            "tags": []
          },
          "execution_count": 60
        }
      ]
    },
    {
      "cell_type": "code",
      "metadata": {
        "colab": {
          "base_uri": "https://localhost:8080/",
          "height": 222
        },
        "id": "wL_oofL4zTHy",
        "outputId": "149c0026-e499-4c27-f847-6506f5467e2a"
      },
      "source": [
        "df['color_red']=(df['color']=='Red').astype(int)\r\n",
        "df['color_Blue']=(df['color']=='Blue').astype(int)\r\n",
        "df['color_Yellow']=(df['color']=='Yellow').astype(int)\r\n",
        "df['color_Orange']=(df['color']=='Orange').astype(int)\r\n",
        "df.head()"
      ],
      "execution_count": null,
      "outputs": [
        {
          "output_type": "execute_result",
          "data": {
            "text/html": [
              "<div>\n",
              "<style scoped>\n",
              "    .dataframe tbody tr th:only-of-type {\n",
              "        vertical-align: middle;\n",
              "    }\n",
              "\n",
              "    .dataframe tbody tr th {\n",
              "        vertical-align: top;\n",
              "    }\n",
              "\n",
              "    .dataframe thead th {\n",
              "        text-align: right;\n",
              "    }\n",
              "</style>\n",
              "<table border=\"1\" class=\"dataframe\">\n",
              "  <thead>\n",
              "    <tr style=\"text-align: right;\">\n",
              "      <th></th>\n",
              "      <th>color</th>\n",
              "      <th>premium</th>\n",
              "      <th>premium_base_enc</th>\n",
              "      <th>color_base_enc</th>\n",
              "      <th>color_red</th>\n",
              "      <th>color_Blue</th>\n",
              "      <th>color_Yellow</th>\n",
              "      <th>color_Orange</th>\n",
              "    </tr>\n",
              "  </thead>\n",
              "  <tbody>\n",
              "    <tr>\n",
              "      <th>0</th>\n",
              "      <td>Blue</td>\n",
              "      <td>False</td>\n",
              "      <td>0</td>\n",
              "      <td>0</td>\n",
              "      <td>0</td>\n",
              "      <td>1</td>\n",
              "      <td>0</td>\n",
              "      <td>0</td>\n",
              "    </tr>\n",
              "    <tr>\n",
              "      <th>1</th>\n",
              "      <td>Blue</td>\n",
              "      <td>True</td>\n",
              "      <td>1</td>\n",
              "      <td>0</td>\n",
              "      <td>0</td>\n",
              "      <td>1</td>\n",
              "      <td>0</td>\n",
              "      <td>0</td>\n",
              "    </tr>\n",
              "    <tr>\n",
              "      <th>2</th>\n",
              "      <td>Red</td>\n",
              "      <td>False</td>\n",
              "      <td>0</td>\n",
              "      <td>2</td>\n",
              "      <td>1</td>\n",
              "      <td>0</td>\n",
              "      <td>0</td>\n",
              "      <td>0</td>\n",
              "    </tr>\n",
              "    <tr>\n",
              "      <th>3</th>\n",
              "      <td>Red</td>\n",
              "      <td>False</td>\n",
              "      <td>0</td>\n",
              "      <td>2</td>\n",
              "      <td>1</td>\n",
              "      <td>0</td>\n",
              "      <td>0</td>\n",
              "      <td>0</td>\n",
              "    </tr>\n",
              "    <tr>\n",
              "      <th>4</th>\n",
              "      <td>Blue</td>\n",
              "      <td>False</td>\n",
              "      <td>0</td>\n",
              "      <td>0</td>\n",
              "      <td>0</td>\n",
              "      <td>1</td>\n",
              "      <td>0</td>\n",
              "      <td>0</td>\n",
              "    </tr>\n",
              "  </tbody>\n",
              "</table>\n",
              "</div>"
            ],
            "text/plain": [
              "  color  premium  premium_base_enc  ...  color_Blue  color_Yellow  color_Orange\n",
              "0  Blue    False                 0  ...           1             0             0\n",
              "1  Blue     True                 1  ...           1             0             0\n",
              "2   Red    False                 0  ...           0             0             0\n",
              "3   Red    False                 0  ...           0             0             0\n",
              "4  Blue    False                 0  ...           1             0             0\n",
              "\n",
              "[5 rows x 8 columns]"
            ]
          },
          "metadata": {
            "tags": []
          },
          "execution_count": 61
        }
      ]
    },
    {
      "cell_type": "code",
      "metadata": {
        "colab": {
          "base_uri": "https://localhost:8080/",
          "height": 415
        },
        "id": "iYNUxlCc2_4y",
        "outputId": "9bd986f2-0643-445c-ceb2-f75d2963bd28"
      },
      "source": [
        "pd.get_dummies(df['color'])"
      ],
      "execution_count": null,
      "outputs": [
        {
          "output_type": "execute_result",
          "data": {
            "text/html": [
              "<div>\n",
              "<style scoped>\n",
              "    .dataframe tbody tr th:only-of-type {\n",
              "        vertical-align: middle;\n",
              "    }\n",
              "\n",
              "    .dataframe tbody tr th {\n",
              "        vertical-align: top;\n",
              "    }\n",
              "\n",
              "    .dataframe thead th {\n",
              "        text-align: right;\n",
              "    }\n",
              "</style>\n",
              "<table border=\"1\" class=\"dataframe\">\n",
              "  <thead>\n",
              "    <tr style=\"text-align: right;\">\n",
              "      <th></th>\n",
              "      <th>Blue</th>\n",
              "      <th>Orange</th>\n",
              "      <th>Red</th>\n",
              "      <th>Yellow</th>\n",
              "    </tr>\n",
              "  </thead>\n",
              "  <tbody>\n",
              "    <tr>\n",
              "      <th>0</th>\n",
              "      <td>1</td>\n",
              "      <td>0</td>\n",
              "      <td>0</td>\n",
              "      <td>0</td>\n",
              "    </tr>\n",
              "    <tr>\n",
              "      <th>1</th>\n",
              "      <td>1</td>\n",
              "      <td>0</td>\n",
              "      <td>0</td>\n",
              "      <td>0</td>\n",
              "    </tr>\n",
              "    <tr>\n",
              "      <th>2</th>\n",
              "      <td>0</td>\n",
              "      <td>0</td>\n",
              "      <td>1</td>\n",
              "      <td>0</td>\n",
              "    </tr>\n",
              "    <tr>\n",
              "      <th>3</th>\n",
              "      <td>0</td>\n",
              "      <td>0</td>\n",
              "      <td>1</td>\n",
              "      <td>0</td>\n",
              "    </tr>\n",
              "    <tr>\n",
              "      <th>4</th>\n",
              "      <td>1</td>\n",
              "      <td>0</td>\n",
              "      <td>0</td>\n",
              "      <td>0</td>\n",
              "    </tr>\n",
              "    <tr>\n",
              "      <th>...</th>\n",
              "      <td>...</td>\n",
              "      <td>...</td>\n",
              "      <td>...</td>\n",
              "      <td>...</td>\n",
              "    </tr>\n",
              "    <tr>\n",
              "      <th>995</th>\n",
              "      <td>0</td>\n",
              "      <td>1</td>\n",
              "      <td>0</td>\n",
              "      <td>0</td>\n",
              "    </tr>\n",
              "    <tr>\n",
              "      <th>996</th>\n",
              "      <td>1</td>\n",
              "      <td>0</td>\n",
              "      <td>0</td>\n",
              "      <td>0</td>\n",
              "    </tr>\n",
              "    <tr>\n",
              "      <th>997</th>\n",
              "      <td>0</td>\n",
              "      <td>0</td>\n",
              "      <td>1</td>\n",
              "      <td>0</td>\n",
              "    </tr>\n",
              "    <tr>\n",
              "      <th>998</th>\n",
              "      <td>1</td>\n",
              "      <td>0</td>\n",
              "      <td>0</td>\n",
              "      <td>0</td>\n",
              "    </tr>\n",
              "    <tr>\n",
              "      <th>999</th>\n",
              "      <td>1</td>\n",
              "      <td>0</td>\n",
              "      <td>0</td>\n",
              "      <td>0</td>\n",
              "    </tr>\n",
              "  </tbody>\n",
              "</table>\n",
              "<p>1000 rows × 4 columns</p>\n",
              "</div>"
            ],
            "text/plain": [
              "     Blue  Orange  Red  Yellow\n",
              "0       1       0    0       0\n",
              "1       1       0    0       0\n",
              "2       0       0    1       0\n",
              "3       0       0    1       0\n",
              "4       1       0    0       0\n",
              "..    ...     ...  ...     ...\n",
              "995     0       1    0       0\n",
              "996     1       0    0       0\n",
              "997     0       0    1       0\n",
              "998     1       0    0       0\n",
              "999     1       0    0       0\n",
              "\n",
              "[1000 rows x 4 columns]"
            ]
          },
          "metadata": {
            "tags": []
          },
          "execution_count": 62
        }
      ]
    },
    {
      "cell_type": "code",
      "metadata": {
        "id": "W_GhbsTL4nhc"
      },
      "source": [
        "pd.get_dummies?"
      ],
      "execution_count": null,
      "outputs": []
    },
    {
      "cell_type": "code",
      "metadata": {
        "colab": {
          "base_uri": "https://localhost:8080/",
          "height": 415
        },
        "id": "gN267Xc65Qpo",
        "outputId": "0feb8b31-8034-4742-ea18-b03d623aaa23"
      },
      "source": [
        "pd.get_dummies(df['color'],drop_first=True)"
      ],
      "execution_count": null,
      "outputs": [
        {
          "output_type": "execute_result",
          "data": {
            "text/html": [
              "<div>\n",
              "<style scoped>\n",
              "    .dataframe tbody tr th:only-of-type {\n",
              "        vertical-align: middle;\n",
              "    }\n",
              "\n",
              "    .dataframe tbody tr th {\n",
              "        vertical-align: top;\n",
              "    }\n",
              "\n",
              "    .dataframe thead th {\n",
              "        text-align: right;\n",
              "    }\n",
              "</style>\n",
              "<table border=\"1\" class=\"dataframe\">\n",
              "  <thead>\n",
              "    <tr style=\"text-align: right;\">\n",
              "      <th></th>\n",
              "      <th>Orange</th>\n",
              "      <th>Red</th>\n",
              "      <th>Yellow</th>\n",
              "    </tr>\n",
              "  </thead>\n",
              "  <tbody>\n",
              "    <tr>\n",
              "      <th>0</th>\n",
              "      <td>0</td>\n",
              "      <td>0</td>\n",
              "      <td>0</td>\n",
              "    </tr>\n",
              "    <tr>\n",
              "      <th>1</th>\n",
              "      <td>0</td>\n",
              "      <td>0</td>\n",
              "      <td>0</td>\n",
              "    </tr>\n",
              "    <tr>\n",
              "      <th>2</th>\n",
              "      <td>0</td>\n",
              "      <td>1</td>\n",
              "      <td>0</td>\n",
              "    </tr>\n",
              "    <tr>\n",
              "      <th>3</th>\n",
              "      <td>0</td>\n",
              "      <td>1</td>\n",
              "      <td>0</td>\n",
              "    </tr>\n",
              "    <tr>\n",
              "      <th>4</th>\n",
              "      <td>0</td>\n",
              "      <td>0</td>\n",
              "      <td>0</td>\n",
              "    </tr>\n",
              "    <tr>\n",
              "      <th>...</th>\n",
              "      <td>...</td>\n",
              "      <td>...</td>\n",
              "      <td>...</td>\n",
              "    </tr>\n",
              "    <tr>\n",
              "      <th>995</th>\n",
              "      <td>1</td>\n",
              "      <td>0</td>\n",
              "      <td>0</td>\n",
              "    </tr>\n",
              "    <tr>\n",
              "      <th>996</th>\n",
              "      <td>0</td>\n",
              "      <td>0</td>\n",
              "      <td>0</td>\n",
              "    </tr>\n",
              "    <tr>\n",
              "      <th>997</th>\n",
              "      <td>0</td>\n",
              "      <td>1</td>\n",
              "      <td>0</td>\n",
              "    </tr>\n",
              "    <tr>\n",
              "      <th>998</th>\n",
              "      <td>0</td>\n",
              "      <td>0</td>\n",
              "      <td>0</td>\n",
              "    </tr>\n",
              "    <tr>\n",
              "      <th>999</th>\n",
              "      <td>0</td>\n",
              "      <td>0</td>\n",
              "      <td>0</td>\n",
              "    </tr>\n",
              "  </tbody>\n",
              "</table>\n",
              "<p>1000 rows × 3 columns</p>\n",
              "</div>"
            ],
            "text/plain": [
              "     Orange  Red  Yellow\n",
              "0         0    0       0\n",
              "1         0    0       0\n",
              "2         0    1       0\n",
              "3         0    1       0\n",
              "4         0    0       0\n",
              "..      ...  ...     ...\n",
              "995       1    0       0\n",
              "996       0    0       0\n",
              "997       0    1       0\n",
              "998       0    0       0\n",
              "999       0    0       0\n",
              "\n",
              "[1000 rows x 3 columns]"
            ]
          },
          "metadata": {
            "tags": []
          },
          "execution_count": 64
        }
      ]
    },
    {
      "cell_type": "code",
      "metadata": {
        "colab": {
          "base_uri": "https://localhost:8080/",
          "height": 202
        },
        "id": "mQgY6FNe52GN",
        "outputId": "daa6ec84-8a09-46bd-e3ef-be9d788eede5"
      },
      "source": [
        "df=pd.read_csv(fp)\r\n",
        "df.head()"
      ],
      "execution_count": null,
      "outputs": [
        {
          "output_type": "execute_result",
          "data": {
            "text/html": [
              "<div>\n",
              "<style scoped>\n",
              "    .dataframe tbody tr th:only-of-type {\n",
              "        vertical-align: middle;\n",
              "    }\n",
              "\n",
              "    .dataframe tbody tr th {\n",
              "        vertical-align: top;\n",
              "    }\n",
              "\n",
              "    .dataframe thead th {\n",
              "        text-align: right;\n",
              "    }\n",
              "</style>\n",
              "<table border=\"1\" class=\"dataframe\">\n",
              "  <thead>\n",
              "    <tr style=\"text-align: right;\">\n",
              "      <th></th>\n",
              "      <th>color</th>\n",
              "      <th>premium</th>\n",
              "    </tr>\n",
              "  </thead>\n",
              "  <tbody>\n",
              "    <tr>\n",
              "      <th>0</th>\n",
              "      <td>Blue</td>\n",
              "      <td>False</td>\n",
              "    </tr>\n",
              "    <tr>\n",
              "      <th>1</th>\n",
              "      <td>Blue</td>\n",
              "      <td>True</td>\n",
              "    </tr>\n",
              "    <tr>\n",
              "      <th>2</th>\n",
              "      <td>Red</td>\n",
              "      <td>False</td>\n",
              "    </tr>\n",
              "    <tr>\n",
              "      <th>3</th>\n",
              "      <td>Red</td>\n",
              "      <td>False</td>\n",
              "    </tr>\n",
              "    <tr>\n",
              "      <th>4</th>\n",
              "      <td>Blue</td>\n",
              "      <td>False</td>\n",
              "    </tr>\n",
              "  </tbody>\n",
              "</table>\n",
              "</div>"
            ],
            "text/plain": [
              "  color  premium\n",
              "0  Blue    False\n",
              "1  Blue     True\n",
              "2   Red    False\n",
              "3   Red    False\n",
              "4  Blue    False"
            ]
          },
          "metadata": {
            "tags": []
          },
          "execution_count": 71
        }
      ]
    },
    {
      "cell_type": "code",
      "metadata": {
        "colab": {
          "base_uri": "https://localhost:8080/",
          "height": 202
        },
        "id": "BeIKpx8H7DHX",
        "outputId": "f3a18c47-591c-4eb1-e064-c8d59af4c1af"
      },
      "source": [
        "dummies=pd.get_dummies(df['color'])\r\n",
        "dummies.head()"
      ],
      "execution_count": null,
      "outputs": [
        {
          "output_type": "execute_result",
          "data": {
            "text/html": [
              "<div>\n",
              "<style scoped>\n",
              "    .dataframe tbody tr th:only-of-type {\n",
              "        vertical-align: middle;\n",
              "    }\n",
              "\n",
              "    .dataframe tbody tr th {\n",
              "        vertical-align: top;\n",
              "    }\n",
              "\n",
              "    .dataframe thead th {\n",
              "        text-align: right;\n",
              "    }\n",
              "</style>\n",
              "<table border=\"1\" class=\"dataframe\">\n",
              "  <thead>\n",
              "    <tr style=\"text-align: right;\">\n",
              "      <th></th>\n",
              "      <th>Blue</th>\n",
              "      <th>Orange</th>\n",
              "      <th>Red</th>\n",
              "      <th>Yellow</th>\n",
              "    </tr>\n",
              "  </thead>\n",
              "  <tbody>\n",
              "    <tr>\n",
              "      <th>0</th>\n",
              "      <td>1</td>\n",
              "      <td>0</td>\n",
              "      <td>0</td>\n",
              "      <td>0</td>\n",
              "    </tr>\n",
              "    <tr>\n",
              "      <th>1</th>\n",
              "      <td>1</td>\n",
              "      <td>0</td>\n",
              "      <td>0</td>\n",
              "      <td>0</td>\n",
              "    </tr>\n",
              "    <tr>\n",
              "      <th>2</th>\n",
              "      <td>0</td>\n",
              "      <td>0</td>\n",
              "      <td>1</td>\n",
              "      <td>0</td>\n",
              "    </tr>\n",
              "    <tr>\n",
              "      <th>3</th>\n",
              "      <td>0</td>\n",
              "      <td>0</td>\n",
              "      <td>1</td>\n",
              "      <td>0</td>\n",
              "    </tr>\n",
              "    <tr>\n",
              "      <th>4</th>\n",
              "      <td>1</td>\n",
              "      <td>0</td>\n",
              "      <td>0</td>\n",
              "      <td>0</td>\n",
              "    </tr>\n",
              "  </tbody>\n",
              "</table>\n",
              "</div>"
            ],
            "text/plain": [
              "   Blue  Orange  Red  Yellow\n",
              "0     1       0    0       0\n",
              "1     1       0    0       0\n",
              "2     0       0    1       0\n",
              "3     0       0    1       0\n",
              "4     1       0    0       0"
            ]
          },
          "metadata": {
            "tags": []
          },
          "execution_count": 73
        }
      ]
    },
    {
      "cell_type": "code",
      "metadata": {
        "colab": {
          "base_uri": "https://localhost:8080/",
          "height": 202
        },
        "id": "hHyHVaTn7xOE",
        "outputId": "63cd8d59-a89b-4757-9293-dc5a238a6484"
      },
      "source": [
        "df=pd.concat([df,dummies],axis=1)\r\n",
        "df.head()"
      ],
      "execution_count": null,
      "outputs": [
        {
          "output_type": "execute_result",
          "data": {
            "text/html": [
              "<div>\n",
              "<style scoped>\n",
              "    .dataframe tbody tr th:only-of-type {\n",
              "        vertical-align: middle;\n",
              "    }\n",
              "\n",
              "    .dataframe tbody tr th {\n",
              "        vertical-align: top;\n",
              "    }\n",
              "\n",
              "    .dataframe thead th {\n",
              "        text-align: right;\n",
              "    }\n",
              "</style>\n",
              "<table border=\"1\" class=\"dataframe\">\n",
              "  <thead>\n",
              "    <tr style=\"text-align: right;\">\n",
              "      <th></th>\n",
              "      <th>color</th>\n",
              "      <th>premium</th>\n",
              "      <th>Blue</th>\n",
              "      <th>Orange</th>\n",
              "      <th>Red</th>\n",
              "      <th>Yellow</th>\n",
              "    </tr>\n",
              "  </thead>\n",
              "  <tbody>\n",
              "    <tr>\n",
              "      <th>0</th>\n",
              "      <td>Blue</td>\n",
              "      <td>False</td>\n",
              "      <td>1</td>\n",
              "      <td>0</td>\n",
              "      <td>0</td>\n",
              "      <td>0</td>\n",
              "    </tr>\n",
              "    <tr>\n",
              "      <th>1</th>\n",
              "      <td>Blue</td>\n",
              "      <td>True</td>\n",
              "      <td>1</td>\n",
              "      <td>0</td>\n",
              "      <td>0</td>\n",
              "      <td>0</td>\n",
              "    </tr>\n",
              "    <tr>\n",
              "      <th>2</th>\n",
              "      <td>Red</td>\n",
              "      <td>False</td>\n",
              "      <td>0</td>\n",
              "      <td>0</td>\n",
              "      <td>1</td>\n",
              "      <td>0</td>\n",
              "    </tr>\n",
              "    <tr>\n",
              "      <th>3</th>\n",
              "      <td>Red</td>\n",
              "      <td>False</td>\n",
              "      <td>0</td>\n",
              "      <td>0</td>\n",
              "      <td>1</td>\n",
              "      <td>0</td>\n",
              "    </tr>\n",
              "    <tr>\n",
              "      <th>4</th>\n",
              "      <td>Blue</td>\n",
              "      <td>False</td>\n",
              "      <td>1</td>\n",
              "      <td>0</td>\n",
              "      <td>0</td>\n",
              "      <td>0</td>\n",
              "    </tr>\n",
              "  </tbody>\n",
              "</table>\n",
              "</div>"
            ],
            "text/plain": [
              "  color  premium  Blue  Orange  Red  Yellow\n",
              "0  Blue    False     1       0    0       0\n",
              "1  Blue     True     1       0    0       0\n",
              "2   Red    False     0       0    1       0\n",
              "3   Red    False     0       0    1       0\n",
              "4  Blue    False     1       0    0       0"
            ]
          },
          "metadata": {
            "tags": []
          },
          "execution_count": 75
        }
      ]
    },
    {
      "cell_type": "code",
      "metadata": {
        "colab": {
          "base_uri": "https://localhost:8080/",
          "height": 202
        },
        "id": "0Hdyu0s08VEb",
        "outputId": "fc46031a-ad25-453c-a5dc-0f936f06670a"
      },
      "source": [
        "df['premium_base_enc']=df['premium'].astype(int)\r\n",
        "df.head()"
      ],
      "execution_count": null,
      "outputs": [
        {
          "output_type": "execute_result",
          "data": {
            "text/html": [
              "<div>\n",
              "<style scoped>\n",
              "    .dataframe tbody tr th:only-of-type {\n",
              "        vertical-align: middle;\n",
              "    }\n",
              "\n",
              "    .dataframe tbody tr th {\n",
              "        vertical-align: top;\n",
              "    }\n",
              "\n",
              "    .dataframe thead th {\n",
              "        text-align: right;\n",
              "    }\n",
              "</style>\n",
              "<table border=\"1\" class=\"dataframe\">\n",
              "  <thead>\n",
              "    <tr style=\"text-align: right;\">\n",
              "      <th></th>\n",
              "      <th>color</th>\n",
              "      <th>premium</th>\n",
              "      <th>Blue</th>\n",
              "      <th>Orange</th>\n",
              "      <th>Red</th>\n",
              "      <th>Yellow</th>\n",
              "      <th>premium_base_enc</th>\n",
              "    </tr>\n",
              "  </thead>\n",
              "  <tbody>\n",
              "    <tr>\n",
              "      <th>0</th>\n",
              "      <td>Blue</td>\n",
              "      <td>False</td>\n",
              "      <td>1</td>\n",
              "      <td>0</td>\n",
              "      <td>0</td>\n",
              "      <td>0</td>\n",
              "      <td>0</td>\n",
              "    </tr>\n",
              "    <tr>\n",
              "      <th>1</th>\n",
              "      <td>Blue</td>\n",
              "      <td>True</td>\n",
              "      <td>1</td>\n",
              "      <td>0</td>\n",
              "      <td>0</td>\n",
              "      <td>0</td>\n",
              "      <td>1</td>\n",
              "    </tr>\n",
              "    <tr>\n",
              "      <th>2</th>\n",
              "      <td>Red</td>\n",
              "      <td>False</td>\n",
              "      <td>0</td>\n",
              "      <td>0</td>\n",
              "      <td>1</td>\n",
              "      <td>0</td>\n",
              "      <td>0</td>\n",
              "    </tr>\n",
              "    <tr>\n",
              "      <th>3</th>\n",
              "      <td>Red</td>\n",
              "      <td>False</td>\n",
              "      <td>0</td>\n",
              "      <td>0</td>\n",
              "      <td>1</td>\n",
              "      <td>0</td>\n",
              "      <td>0</td>\n",
              "    </tr>\n",
              "    <tr>\n",
              "      <th>4</th>\n",
              "      <td>Blue</td>\n",
              "      <td>False</td>\n",
              "      <td>1</td>\n",
              "      <td>0</td>\n",
              "      <td>0</td>\n",
              "      <td>0</td>\n",
              "      <td>0</td>\n",
              "    </tr>\n",
              "  </tbody>\n",
              "</table>\n",
              "</div>"
            ],
            "text/plain": [
              "  color  premium  Blue  Orange  Red  Yellow  premium_base_enc\n",
              "0  Blue    False     1       0    0       0                 0\n",
              "1  Blue     True     1       0    0       0                 1\n",
              "2   Red    False     0       0    1       0                 0\n",
              "3   Red    False     0       0    1       0                 0\n",
              "4  Blue    False     1       0    0       0                 0"
            ]
          },
          "metadata": {
            "tags": []
          },
          "execution_count": 76
        }
      ]
    },
    {
      "cell_type": "code",
      "metadata": {
        "id": "TmbPwjed9PfE"
      },
      "source": [
        "pd.get_dummies(df['color'],drop_first=True)"
      ],
      "execution_count": null,
      "outputs": []
    },
    {
      "cell_type": "code",
      "metadata": {
        "id": "6Z9kYLVL_XE1"
      },
      "source": [
        "df.to_csv('fichier.csv')"
      ],
      "execution_count": null,
      "outputs": []
    },
    {
      "cell_type": "code",
      "metadata": {
        "id": "90zjwh_p_uA0"
      },
      "source": [
        "import random"
      ],
      "execution_count": 2,
      "outputs": []
    },
    {
      "cell_type": "code",
      "metadata": {
        "id": "tVUW0zdA89eP"
      },
      "source": [
        "random.seed(123)"
      ],
      "execution_count": 3,
      "outputs": []
    },
    {
      "cell_type": "markdown",
      "metadata": {
        "id": "RkoBanFbDWIW"
      },
      "source": [
        "# Split Train /\r\n",
        "### Test / Valid\" stratifiées"
      ]
    },
    {
      "cell_type": "code",
      "metadata": {
        "id": "7Z5JQJKEACgL"
      },
      "source": [
        "import pandas as pd\r\n",
        "from random import randint\r\n",
        "from random import seed"
      ],
      "execution_count": 4,
      "outputs": []
    },
    {
      "cell_type": "code",
      "metadata": {
        "id": "ner7-C_3MsB6"
      },
      "source": [
        "seed(1)\r\n",
        "col_1=[randint(-10,10) for _ in range(10)]\r\n",
        "col_2=[randint(-20,-5) for _ in range(10)]\r\n",
        "col_Y=[randint(1,2) for _ in range(10)]"
      ],
      "execution_count": 5,
      "outputs": []
    },
    {
      "cell_type": "code",
      "metadata": {
        "colab": {
          "base_uri": "https://localhost:8080/",
          "height": 355
        },
        "id": "51OIJ5ovPUc4",
        "outputId": "d38cc428-82f7-4cea-9fb6-d2cac0101012"
      },
      "source": [
        "df=pd.DataFrame(data={'x1':col_1,\r\n",
        "                      'x2':col_2,\r\n",
        "                      'y':col_Y})\r\n",
        "df"
      ],
      "execution_count": 7,
      "outputs": [
        {
          "output_type": "execute_result",
          "data": {
            "text/html": [
              "<div>\n",
              "<style scoped>\n",
              "    .dataframe tbody tr th:only-of-type {\n",
              "        vertical-align: middle;\n",
              "    }\n",
              "\n",
              "    .dataframe tbody tr th {\n",
              "        vertical-align: top;\n",
              "    }\n",
              "\n",
              "    .dataframe thead th {\n",
              "        text-align: right;\n",
              "    }\n",
              "</style>\n",
              "<table border=\"1\" class=\"dataframe\">\n",
              "  <thead>\n",
              "    <tr style=\"text-align: right;\">\n",
              "      <th></th>\n",
              "      <th>x1</th>\n",
              "      <th>x2</th>\n",
              "      <th>y</th>\n",
              "    </tr>\n",
              "  </thead>\n",
              "  <tbody>\n",
              "    <tr>\n",
              "      <th>0</th>\n",
              "      <td>-6</td>\n",
              "      <td>-14</td>\n",
              "      <td>1</td>\n",
              "    </tr>\n",
              "    <tr>\n",
              "      <th>1</th>\n",
              "      <td>8</td>\n",
              "      <td>-17</td>\n",
              "      <td>2</td>\n",
              "    </tr>\n",
              "    <tr>\n",
              "      <th>2</th>\n",
              "      <td>-8</td>\n",
              "      <td>-5</td>\n",
              "      <td>1</td>\n",
              "    </tr>\n",
              "    <tr>\n",
              "      <th>3</th>\n",
              "      <td>-2</td>\n",
              "      <td>-20</td>\n",
              "      <td>1</td>\n",
              "    </tr>\n",
              "    <tr>\n",
              "      <th>4</th>\n",
              "      <td>-7</td>\n",
              "      <td>-8</td>\n",
              "      <td>1</td>\n",
              "    </tr>\n",
              "    <tr>\n",
              "      <th>5</th>\n",
              "      <td>5</td>\n",
              "      <td>-7</td>\n",
              "      <td>1</td>\n",
              "    </tr>\n",
              "    <tr>\n",
              "      <th>6</th>\n",
              "      <td>4</td>\n",
              "      <td>-20</td>\n",
              "      <td>2</td>\n",
              "    </tr>\n",
              "    <tr>\n",
              "      <th>7</th>\n",
              "      <td>5</td>\n",
              "      <td>-6</td>\n",
              "      <td>1</td>\n",
              "    </tr>\n",
              "    <tr>\n",
              "      <th>8</th>\n",
              "      <td>10</td>\n",
              "      <td>-12</td>\n",
              "      <td>2</td>\n",
              "    </tr>\n",
              "    <tr>\n",
              "      <th>9</th>\n",
              "      <td>2</td>\n",
              "      <td>-13</td>\n",
              "      <td>1</td>\n",
              "    </tr>\n",
              "  </tbody>\n",
              "</table>\n",
              "</div>"
            ],
            "text/plain": [
              "   x1  x2  y\n",
              "0  -6 -14  1\n",
              "1   8 -17  2\n",
              "2  -8  -5  1\n",
              "3  -2 -20  1\n",
              "4  -7  -8  1\n",
              "5   5  -7  1\n",
              "6   4 -20  2\n",
              "7   5  -6  1\n",
              "8  10 -12  2\n",
              "9   2 -13  1"
            ]
          },
          "metadata": {
            "tags": []
          },
          "execution_count": 7
        }
      ]
    },
    {
      "cell_type": "code",
      "metadata": {
        "colab": {
          "base_uri": "https://localhost:8080/",
          "height": 294
        },
        "id": "riFRymDaQFk3",
        "outputId": "b77e6299-547a-40f2-a580-f3dd678cea68"
      },
      "source": [
        "train_df=df.sample(frac=0.8,random_state=1)\r\n",
        "train_df"
      ],
      "execution_count": 14,
      "outputs": [
        {
          "output_type": "execute_result",
          "data": {
            "text/html": [
              "<div>\n",
              "<style scoped>\n",
              "    .dataframe tbody tr th:only-of-type {\n",
              "        vertical-align: middle;\n",
              "    }\n",
              "\n",
              "    .dataframe tbody tr th {\n",
              "        vertical-align: top;\n",
              "    }\n",
              "\n",
              "    .dataframe thead th {\n",
              "        text-align: right;\n",
              "    }\n",
              "</style>\n",
              "<table border=\"1\" class=\"dataframe\">\n",
              "  <thead>\n",
              "    <tr style=\"text-align: right;\">\n",
              "      <th></th>\n",
              "      <th>x1</th>\n",
              "      <th>x2</th>\n",
              "      <th>y</th>\n",
              "    </tr>\n",
              "  </thead>\n",
              "  <tbody>\n",
              "    <tr>\n",
              "      <th>2</th>\n",
              "      <td>-8</td>\n",
              "      <td>-5</td>\n",
              "      <td>1</td>\n",
              "    </tr>\n",
              "    <tr>\n",
              "      <th>9</th>\n",
              "      <td>2</td>\n",
              "      <td>-13</td>\n",
              "      <td>1</td>\n",
              "    </tr>\n",
              "    <tr>\n",
              "      <th>6</th>\n",
              "      <td>4</td>\n",
              "      <td>-20</td>\n",
              "      <td>2</td>\n",
              "    </tr>\n",
              "    <tr>\n",
              "      <th>4</th>\n",
              "      <td>-7</td>\n",
              "      <td>-8</td>\n",
              "      <td>1</td>\n",
              "    </tr>\n",
              "    <tr>\n",
              "      <th>0</th>\n",
              "      <td>-6</td>\n",
              "      <td>-14</td>\n",
              "      <td>1</td>\n",
              "    </tr>\n",
              "    <tr>\n",
              "      <th>3</th>\n",
              "      <td>-2</td>\n",
              "      <td>-20</td>\n",
              "      <td>1</td>\n",
              "    </tr>\n",
              "    <tr>\n",
              "      <th>1</th>\n",
              "      <td>8</td>\n",
              "      <td>-17</td>\n",
              "      <td>2</td>\n",
              "    </tr>\n",
              "    <tr>\n",
              "      <th>7</th>\n",
              "      <td>5</td>\n",
              "      <td>-6</td>\n",
              "      <td>1</td>\n",
              "    </tr>\n",
              "  </tbody>\n",
              "</table>\n",
              "</div>"
            ],
            "text/plain": [
              "   x1  x2  y\n",
              "2  -8  -5  1\n",
              "9   2 -13  1\n",
              "6   4 -20  2\n",
              "4  -7  -8  1\n",
              "0  -6 -14  1\n",
              "3  -2 -20  1\n",
              "1   8 -17  2\n",
              "7   5  -6  1"
            ]
          },
          "metadata": {
            "tags": []
          },
          "execution_count": 14
        }
      ]
    },
    {
      "cell_type": "code",
      "metadata": {
        "colab": {
          "base_uri": "https://localhost:8080/"
        },
        "id": "hDXC4zYsQtZg",
        "outputId": "1e46c8ed-24df-455d-9145-439f1a61b7f5"
      },
      "source": [
        "train_df.index"
      ],
      "execution_count": 11,
      "outputs": [
        {
          "output_type": "execute_result",
          "data": {
            "text/plain": [
              "Int64Index([2, 9, 6, 4, 0, 3, 1, 7], dtype='int64')"
            ]
          },
          "metadata": {
            "tags": []
          },
          "execution_count": 11
        }
      ]
    },
    {
      "cell_type": "code",
      "metadata": {
        "colab": {
          "base_uri": "https://localhost:8080/",
          "height": 110
        },
        "id": "fZSI-i9CSbCe",
        "outputId": "20501f39-4717-427c-f9ab-2371f56779e1"
      },
      "source": [
        "test_df=df.sample(frac=0.2,random_state=1)\r\n",
        "test_df"
      ],
      "execution_count": 13,
      "outputs": [
        {
          "output_type": "execute_result",
          "data": {
            "text/html": [
              "<div>\n",
              "<style scoped>\n",
              "    .dataframe tbody tr th:only-of-type {\n",
              "        vertical-align: middle;\n",
              "    }\n",
              "\n",
              "    .dataframe tbody tr th {\n",
              "        vertical-align: top;\n",
              "    }\n",
              "\n",
              "    .dataframe thead th {\n",
              "        text-align: right;\n",
              "    }\n",
              "</style>\n",
              "<table border=\"1\" class=\"dataframe\">\n",
              "  <thead>\n",
              "    <tr style=\"text-align: right;\">\n",
              "      <th></th>\n",
              "      <th>x1</th>\n",
              "      <th>x2</th>\n",
              "      <th>y</th>\n",
              "    </tr>\n",
              "  </thead>\n",
              "  <tbody>\n",
              "    <tr>\n",
              "      <th>2</th>\n",
              "      <td>-8</td>\n",
              "      <td>-5</td>\n",
              "      <td>1</td>\n",
              "    </tr>\n",
              "    <tr>\n",
              "      <th>9</th>\n",
              "      <td>2</td>\n",
              "      <td>-13</td>\n",
              "      <td>1</td>\n",
              "    </tr>\n",
              "  </tbody>\n",
              "</table>\n",
              "</div>"
            ],
            "text/plain": [
              "   x1  x2  y\n",
              "2  -8  -5  1\n",
              "9   2 -13  1"
            ]
          },
          "metadata": {
            "tags": []
          },
          "execution_count": 13
        }
      ]
    },
    {
      "cell_type": "code",
      "metadata": {
        "colab": {
          "base_uri": "https://localhost:8080/"
        },
        "id": "jIRnLZfpS79m",
        "outputId": "1531511a-81cf-4872-ec84-1a7f8f6509f5"
      },
      "source": [
        "test_df.index.isin(train_df.index)"
      ],
      "execution_count": 15,
      "outputs": [
        {
          "output_type": "execute_result",
          "data": {
            "text/plain": [
              "array([ True,  True])"
            ]
          },
          "metadata": {
            "tags": []
          },
          "execution_count": 15
        }
      ]
    },
    {
      "cell_type": "code",
      "metadata": {
        "colab": {
          "base_uri": "https://localhost:8080/"
        },
        "id": "eOx0mgTVTLoA",
        "outputId": "195eea18-d1d3-41cc-d2b6-f664fdc69256"
      },
      "source": [
        "df.index.isin(train_df.index)"
      ],
      "execution_count": 16,
      "outputs": [
        {
          "output_type": "execute_result",
          "data": {
            "text/plain": [
              "array([ True,  True,  True,  True,  True, False,  True,  True, False,\n",
              "        True])"
            ]
          },
          "metadata": {
            "tags": []
          },
          "execution_count": 16
        }
      ]
    },
    {
      "cell_type": "code",
      "metadata": {
        "colab": {
          "base_uri": "https://localhost:8080/"
        },
        "id": "lFEFMQpxTfvY",
        "outputId": "85041b58-43cf-44c2-d8a0-8578388f0380"
      },
      "source": [
        "~df.index.isin(train_df.index)"
      ],
      "execution_count": 17,
      "outputs": [
        {
          "output_type": "execute_result",
          "data": {
            "text/plain": [
              "array([False, False, False, False, False,  True, False, False,  True,\n",
              "       False])"
            ]
          },
          "metadata": {
            "tags": []
          },
          "execution_count": 17
        }
      ]
    },
    {
      "cell_type": "code",
      "metadata": {
        "id": "2Ktj4MdKUKvI"
      },
      "source": [
        "not_in_train_set=~df.index.isin(train_df.index)"
      ],
      "execution_count": 18,
      "outputs": []
    },
    {
      "cell_type": "code",
      "metadata": {
        "colab": {
          "base_uri": "https://localhost:8080/",
          "height": 110
        },
        "id": "2iYmPwJ6Ud5c",
        "outputId": "0d5b0961-b5df-4fe9-eb89-e1aa6568872a"
      },
      "source": [
        "train_df=df[not_in_train_set]\r\n",
        "train_df"
      ],
      "execution_count": 20,
      "outputs": [
        {
          "output_type": "execute_result",
          "data": {
            "text/html": [
              "<div>\n",
              "<style scoped>\n",
              "    .dataframe tbody tr th:only-of-type {\n",
              "        vertical-align: middle;\n",
              "    }\n",
              "\n",
              "    .dataframe tbody tr th {\n",
              "        vertical-align: top;\n",
              "    }\n",
              "\n",
              "    .dataframe thead th {\n",
              "        text-align: right;\n",
              "    }\n",
              "</style>\n",
              "<table border=\"1\" class=\"dataframe\">\n",
              "  <thead>\n",
              "    <tr style=\"text-align: right;\">\n",
              "      <th></th>\n",
              "      <th>x1</th>\n",
              "      <th>x2</th>\n",
              "      <th>y</th>\n",
              "    </tr>\n",
              "  </thead>\n",
              "  <tbody>\n",
              "    <tr>\n",
              "      <th>5</th>\n",
              "      <td>5</td>\n",
              "      <td>-7</td>\n",
              "      <td>1</td>\n",
              "    </tr>\n",
              "    <tr>\n",
              "      <th>8</th>\n",
              "      <td>10</td>\n",
              "      <td>-12</td>\n",
              "      <td>2</td>\n",
              "    </tr>\n",
              "  </tbody>\n",
              "</table>\n",
              "</div>"
            ],
            "text/plain": [
              "   x1  x2  y\n",
              "5   5  -7  1\n",
              "8  10 -12  2"
            ]
          },
          "metadata": {
            "tags": []
          },
          "execution_count": 20
        }
      ]
    },
    {
      "cell_type": "code",
      "metadata": {
        "colab": {
          "base_uri": "https://localhost:8080/",
          "height": 233
        },
        "id": "pXN_8eksUmtk",
        "outputId": "96a9e265-3e90-4974-f0b1-fb9221f63762"
      },
      "source": [
        "#Sélection stratifiée\r\n",
        "train_1=df[df['y']==1].sample(frac=0.8,random_state=1)\r\n",
        "train_1"
      ],
      "execution_count": 21,
      "outputs": [
        {
          "output_type": "execute_result",
          "data": {
            "text/html": [
              "<div>\n",
              "<style scoped>\n",
              "    .dataframe tbody tr th:only-of-type {\n",
              "        vertical-align: middle;\n",
              "    }\n",
              "\n",
              "    .dataframe tbody tr th {\n",
              "        vertical-align: top;\n",
              "    }\n",
              "\n",
              "    .dataframe thead th {\n",
              "        text-align: right;\n",
              "    }\n",
              "</style>\n",
              "<table border=\"1\" class=\"dataframe\">\n",
              "  <thead>\n",
              "    <tr style=\"text-align: right;\">\n",
              "      <th></th>\n",
              "      <th>x1</th>\n",
              "      <th>x2</th>\n",
              "      <th>y</th>\n",
              "    </tr>\n",
              "  </thead>\n",
              "  <tbody>\n",
              "    <tr>\n",
              "      <th>9</th>\n",
              "      <td>2</td>\n",
              "      <td>-13</td>\n",
              "      <td>1</td>\n",
              "    </tr>\n",
              "    <tr>\n",
              "      <th>3</th>\n",
              "      <td>-2</td>\n",
              "      <td>-20</td>\n",
              "      <td>1</td>\n",
              "    </tr>\n",
              "    <tr>\n",
              "      <th>2</th>\n",
              "      <td>-8</td>\n",
              "      <td>-5</td>\n",
              "      <td>1</td>\n",
              "    </tr>\n",
              "    <tr>\n",
              "      <th>0</th>\n",
              "      <td>-6</td>\n",
              "      <td>-14</td>\n",
              "      <td>1</td>\n",
              "    </tr>\n",
              "    <tr>\n",
              "      <th>5</th>\n",
              "      <td>5</td>\n",
              "      <td>-7</td>\n",
              "      <td>1</td>\n",
              "    </tr>\n",
              "    <tr>\n",
              "      <th>4</th>\n",
              "      <td>-7</td>\n",
              "      <td>-8</td>\n",
              "      <td>1</td>\n",
              "    </tr>\n",
              "  </tbody>\n",
              "</table>\n",
              "</div>"
            ],
            "text/plain": [
              "   x1  x2  y\n",
              "9   2 -13  1\n",
              "3  -2 -20  1\n",
              "2  -8  -5  1\n",
              "0  -6 -14  1\n",
              "5   5  -7  1\n",
              "4  -7  -8  1"
            ]
          },
          "metadata": {
            "tags": []
          },
          "execution_count": 21
        }
      ]
    },
    {
      "cell_type": "code",
      "metadata": {
        "colab": {
          "base_uri": "https://localhost:8080/",
          "height": 110
        },
        "id": "xUxO86XNYB30",
        "outputId": "91e04aca-da66-4397-972e-7d8af8955230"
      },
      "source": [
        "train_2=df[df['y']==2].sample(frac=0.8,random_state=1)\r\n",
        "train_2"
      ],
      "execution_count": 22,
      "outputs": [
        {
          "output_type": "execute_result",
          "data": {
            "text/html": [
              "<div>\n",
              "<style scoped>\n",
              "    .dataframe tbody tr th:only-of-type {\n",
              "        vertical-align: middle;\n",
              "    }\n",
              "\n",
              "    .dataframe tbody tr th {\n",
              "        vertical-align: top;\n",
              "    }\n",
              "\n",
              "    .dataframe thead th {\n",
              "        text-align: right;\n",
              "    }\n",
              "</style>\n",
              "<table border=\"1\" class=\"dataframe\">\n",
              "  <thead>\n",
              "    <tr style=\"text-align: right;\">\n",
              "      <th></th>\n",
              "      <th>x1</th>\n",
              "      <th>x2</th>\n",
              "      <th>y</th>\n",
              "    </tr>\n",
              "  </thead>\n",
              "  <tbody>\n",
              "    <tr>\n",
              "      <th>1</th>\n",
              "      <td>8</td>\n",
              "      <td>-17</td>\n",
              "      <td>2</td>\n",
              "    </tr>\n",
              "    <tr>\n",
              "      <th>8</th>\n",
              "      <td>10</td>\n",
              "      <td>-12</td>\n",
              "      <td>2</td>\n",
              "    </tr>\n",
              "  </tbody>\n",
              "</table>\n",
              "</div>"
            ],
            "text/plain": [
              "   x1  x2  y\n",
              "1   8 -17  2\n",
              "8  10 -12  2"
            ]
          },
          "metadata": {
            "tags": []
          },
          "execution_count": 22
        }
      ]
    },
    {
      "cell_type": "code",
      "metadata": {
        "colab": {
          "base_uri": "https://localhost:8080/",
          "height": 294
        },
        "id": "cjpcBK6lYRoa",
        "outputId": "b2feb4c7-5959-4ec0-d4bf-04a81ac4fa11"
      },
      "source": [
        "train_df=pd.concat([train_1,train_2], axis=0)\r\n",
        "train_df"
      ],
      "execution_count": 24,
      "outputs": [
        {
          "output_type": "execute_result",
          "data": {
            "text/html": [
              "<div>\n",
              "<style scoped>\n",
              "    .dataframe tbody tr th:only-of-type {\n",
              "        vertical-align: middle;\n",
              "    }\n",
              "\n",
              "    .dataframe tbody tr th {\n",
              "        vertical-align: top;\n",
              "    }\n",
              "\n",
              "    .dataframe thead th {\n",
              "        text-align: right;\n",
              "    }\n",
              "</style>\n",
              "<table border=\"1\" class=\"dataframe\">\n",
              "  <thead>\n",
              "    <tr style=\"text-align: right;\">\n",
              "      <th></th>\n",
              "      <th>x1</th>\n",
              "      <th>x2</th>\n",
              "      <th>y</th>\n",
              "    </tr>\n",
              "  </thead>\n",
              "  <tbody>\n",
              "    <tr>\n",
              "      <th>9</th>\n",
              "      <td>2</td>\n",
              "      <td>-13</td>\n",
              "      <td>1</td>\n",
              "    </tr>\n",
              "    <tr>\n",
              "      <th>3</th>\n",
              "      <td>-2</td>\n",
              "      <td>-20</td>\n",
              "      <td>1</td>\n",
              "    </tr>\n",
              "    <tr>\n",
              "      <th>2</th>\n",
              "      <td>-8</td>\n",
              "      <td>-5</td>\n",
              "      <td>1</td>\n",
              "    </tr>\n",
              "    <tr>\n",
              "      <th>0</th>\n",
              "      <td>-6</td>\n",
              "      <td>-14</td>\n",
              "      <td>1</td>\n",
              "    </tr>\n",
              "    <tr>\n",
              "      <th>5</th>\n",
              "      <td>5</td>\n",
              "      <td>-7</td>\n",
              "      <td>1</td>\n",
              "    </tr>\n",
              "    <tr>\n",
              "      <th>4</th>\n",
              "      <td>-7</td>\n",
              "      <td>-8</td>\n",
              "      <td>1</td>\n",
              "    </tr>\n",
              "    <tr>\n",
              "      <th>1</th>\n",
              "      <td>8</td>\n",
              "      <td>-17</td>\n",
              "      <td>2</td>\n",
              "    </tr>\n",
              "    <tr>\n",
              "      <th>8</th>\n",
              "      <td>10</td>\n",
              "      <td>-12</td>\n",
              "      <td>2</td>\n",
              "    </tr>\n",
              "  </tbody>\n",
              "</table>\n",
              "</div>"
            ],
            "text/plain": [
              "   x1  x2  y\n",
              "9   2 -13  1\n",
              "3  -2 -20  1\n",
              "2  -8  -5  1\n",
              "0  -6 -14  1\n",
              "5   5  -7  1\n",
              "4  -7  -8  1\n",
              "1   8 -17  2\n",
              "8  10 -12  2"
            ]
          },
          "metadata": {
            "tags": []
          },
          "execution_count": 24
        }
      ]
    },
    {
      "cell_type": "code",
      "metadata": {
        "colab": {
          "base_uri": "https://localhost:8080/",
          "height": 110
        },
        "id": "tlf_xC7tY0N0",
        "outputId": "b04481dd-de76-4354-8c87-4dbd56cee6ef"
      },
      "source": [
        "not_in_train=~df.index.isin(train_df.index)\r\n",
        "\r\n",
        "test_df=df[not_in_train]\r\n",
        "test_df"
      ],
      "execution_count": 25,
      "outputs": [
        {
          "output_type": "execute_result",
          "data": {
            "text/html": [
              "<div>\n",
              "<style scoped>\n",
              "    .dataframe tbody tr th:only-of-type {\n",
              "        vertical-align: middle;\n",
              "    }\n",
              "\n",
              "    .dataframe tbody tr th {\n",
              "        vertical-align: top;\n",
              "    }\n",
              "\n",
              "    .dataframe thead th {\n",
              "        text-align: right;\n",
              "    }\n",
              "</style>\n",
              "<table border=\"1\" class=\"dataframe\">\n",
              "  <thead>\n",
              "    <tr style=\"text-align: right;\">\n",
              "      <th></th>\n",
              "      <th>x1</th>\n",
              "      <th>x2</th>\n",
              "      <th>y</th>\n",
              "    </tr>\n",
              "  </thead>\n",
              "  <tbody>\n",
              "    <tr>\n",
              "      <th>6</th>\n",
              "      <td>4</td>\n",
              "      <td>-20</td>\n",
              "      <td>2</td>\n",
              "    </tr>\n",
              "    <tr>\n",
              "      <th>7</th>\n",
              "      <td>5</td>\n",
              "      <td>-6</td>\n",
              "      <td>1</td>\n",
              "    </tr>\n",
              "  </tbody>\n",
              "</table>\n",
              "</div>"
            ],
            "text/plain": [
              "   x1  x2  y\n",
              "6   4 -20  2\n",
              "7   5  -6  1"
            ]
          },
          "metadata": {
            "tags": []
          },
          "execution_count": 25
        }
      ]
    },
    {
      "cell_type": "code",
      "metadata": {
        "colab": {
          "base_uri": "https://localhost:8080/"
        },
        "id": "MlDtJYtLZoe5",
        "outputId": "f232fa53-5653-47bd-efbd-b74335642a79"
      },
      "source": [
        "df['y'].unique()"
      ],
      "execution_count": 26,
      "outputs": [
        {
          "output_type": "execute_result",
          "data": {
            "text/plain": [
              "array([1, 2])"
            ]
          },
          "metadata": {
            "tags": []
          },
          "execution_count": 26
        }
      ]
    },
    {
      "cell_type": "code",
      "metadata": {
        "id": "YNcPr0aFaEBa"
      },
      "source": [
        "#Automatiser\r\n",
        "\r\n",
        "#Créer un data set stratifié d'entrainement\r\n",
        "train_parts=[]\r\n",
        "for value in df['y'].unique():\r\n",
        "  tmp=df[df['y']==value]\r\n",
        "  part=tmp.sample(frac=0.8,\r\n",
        "                  random_state=1)\r\n",
        "  train_parts.append(part)\r\n",
        "train_df=pd.concat(train_parts,\r\n",
        "                   axis=0)\r\n",
        "\r\n",
        "#Identifier les index qui ne sont pas dans le train set \r\n",
        "not_in_train=~df.index.isin(train_df.index)\r\n",
        "\r\n",
        "#On crée le test set par complément\r\n",
        "test_set=df[not_in_train]"
      ],
      "execution_count": 28,
      "outputs": []
    },
    {
      "cell_type": "code",
      "metadata": {
        "id": "w7cCEN24dKqW"
      },
      "source": [
        "def stratified_split(df,col_y,frac=0.8,\r\n",
        "                     random_state=1):\r\n",
        "    #Créer un data set stratifié d'entrainement\r\n",
        "  train_parts=[]\r\n",
        "  for value in df[col_y].unique():\r\n",
        "    tmp=df[df[col_y]==value]\r\n",
        "    part=tmp.sample(frac=frac,\r\n",
        "                    random_state=random_state)\r\n",
        "    train_parts.append(part)\r\n",
        "  train_df=pd.concat(train_parts,\r\n",
        "                     axis=0)\r\n",
        "\r\n",
        "  #Identifier les index qui ne sont pas dans le train set \r\n",
        "  not_in_train=~df.index.isin(train_df.index)\r\n",
        "\r\n",
        "  #On crée le test set par complément\r\n",
        "  test_df=df[not_in_train]\r\n",
        "\r\n",
        "  return train_df, test_df"
      ],
      "execution_count": 29,
      "outputs": []
    },
    {
      "cell_type": "code",
      "metadata": {
        "id": "br9t4_K1fXlN"
      },
      "source": [
        "train_df, test_df=stratified_split(df,'y')"
      ],
      "execution_count": 30,
      "outputs": []
    },
    {
      "cell_type": "code",
      "metadata": {
        "id": "OB2sCAu1fyR5"
      },
      "source": [
        "train_df, valid_df=stratified_split(train_df,'y')"
      ],
      "execution_count": 31,
      "outputs": []
    },
    {
      "cell_type": "code",
      "metadata": {
        "colab": {
          "base_uri": "https://localhost:8080/"
        },
        "id": "1Xt8We_kgCI2",
        "outputId": "ce457df3-374d-461e-eeb6-d5ac4bf848e6"
      },
      "source": [
        "train_df, test_df ,valid_df"
      ],
      "execution_count": 32,
      "outputs": [
        {
          "output_type": "execute_result",
          "data": {
            "text/plain": [
              "(   x1  x2  y\n",
              " 2  -8  -5  1\n",
              " 3  -2 -20  1\n",
              " 5   5  -7  1\n",
              " 9   2 -13  1\n",
              " 0  -6 -14  1\n",
              " 1   8 -17  2\n",
              " 8  10 -12  2,    x1  x2  y\n",
              " 6   4 -20  2\n",
              " 7   5  -6  1,    x1  x2  y\n",
              " 4  -7  -8  1)"
            ]
          },
          "metadata": {
            "tags": []
          },
          "execution_count": 32
        }
      ]
    },
    {
      "cell_type": "code",
      "metadata": {
        "id": "R35ERch8gQWq"
      },
      "source": [
        "train_df.to_csv('train.csv',index=None) \r\n",
        "\r\n",
        "test_df.to_csv('test.csv',index=None)\r\n",
        "\r\n",
        "valid_df.to_csv('valit.csv',index=None)"
      ],
      "execution_count": 33,
      "outputs": []
    },
    {
      "cell_type": "markdown",
      "metadata": {
        "id": "cL6qSGSthNpm"
      },
      "source": [
        "# Isoler la variable cible"
      ]
    },
    {
      "cell_type": "code",
      "metadata": {
        "id": "WzlwZzp5hDPj"
      },
      "source": [
        "Y=train_df['y']\r\n",
        "X=train_df.drop('y', axis=1)"
      ],
      "execution_count": 47,
      "outputs": []
    },
    {
      "cell_type": "code",
      "metadata": {
        "colab": {
          "base_uri": "https://localhost:8080/"
        },
        "id": "l7TjbksQjZCu",
        "outputId": "fe387d55-3ec6-4b2c-88cb-c612d2d211e5"
      },
      "source": [
        "Y.head()"
      ],
      "execution_count": 48,
      "outputs": [
        {
          "output_type": "execute_result",
          "data": {
            "text/plain": [
              "2    1\n",
              "3    1\n",
              "5    1\n",
              "9    1\n",
              "0    1\n",
              "Name: y, dtype: int64"
            ]
          },
          "metadata": {
            "tags": []
          },
          "execution_count": 48
        }
      ]
    },
    {
      "cell_type": "code",
      "metadata": {
        "colab": {
          "base_uri": "https://localhost:8080/",
          "height": 202
        },
        "id": "jTBTRbAhhbyn",
        "outputId": "f5f0e3dc-e376-406f-f617-e36ec635c591"
      },
      "source": [
        "X.head()"
      ],
      "execution_count": 49,
      "outputs": [
        {
          "output_type": "execute_result",
          "data": {
            "text/html": [
              "<div>\n",
              "<style scoped>\n",
              "    .dataframe tbody tr th:only-of-type {\n",
              "        vertical-align: middle;\n",
              "    }\n",
              "\n",
              "    .dataframe tbody tr th {\n",
              "        vertical-align: top;\n",
              "    }\n",
              "\n",
              "    .dataframe thead th {\n",
              "        text-align: right;\n",
              "    }\n",
              "</style>\n",
              "<table border=\"1\" class=\"dataframe\">\n",
              "  <thead>\n",
              "    <tr style=\"text-align: right;\">\n",
              "      <th></th>\n",
              "      <th>x1</th>\n",
              "      <th>x2</th>\n",
              "    </tr>\n",
              "  </thead>\n",
              "  <tbody>\n",
              "    <tr>\n",
              "      <th>2</th>\n",
              "      <td>-8</td>\n",
              "      <td>-5</td>\n",
              "    </tr>\n",
              "    <tr>\n",
              "      <th>3</th>\n",
              "      <td>-2</td>\n",
              "      <td>-20</td>\n",
              "    </tr>\n",
              "    <tr>\n",
              "      <th>5</th>\n",
              "      <td>5</td>\n",
              "      <td>-7</td>\n",
              "    </tr>\n",
              "    <tr>\n",
              "      <th>9</th>\n",
              "      <td>2</td>\n",
              "      <td>-13</td>\n",
              "    </tr>\n",
              "    <tr>\n",
              "      <th>0</th>\n",
              "      <td>-6</td>\n",
              "      <td>-14</td>\n",
              "    </tr>\n",
              "  </tbody>\n",
              "</table>\n",
              "</div>"
            ],
            "text/plain": [
              "   x1  x2\n",
              "2  -8  -5\n",
              "3  -2 -20\n",
              "5   5  -7\n",
              "9   2 -13\n",
              "0  -6 -14"
            ]
          },
          "metadata": {
            "tags": []
          },
          "execution_count": 49
        }
      ]
    },
    {
      "cell_type": "code",
      "metadata": {
        "id": "RDu1qBiSji0J"
      },
      "source": [
        "def isolate(df, col_y):\r\n",
        "  Y=train_df['y']\r\n",
        "  X=train_df.drop('y', axis=1)\r\n",
        "  return X,Y"
      ],
      "execution_count": 54,
      "outputs": []
    },
    {
      "cell_type": "code",
      "metadata": {
        "id": "ZvM1MJqdkSih"
      },
      "source": [
        "train_X, train_Y=isolate(train_df,col_y='y')"
      ],
      "execution_count": 55,
      "outputs": []
    },
    {
      "cell_type": "code",
      "metadata": {
        "colab": {
          "base_uri": "https://localhost:8080/",
          "height": 202
        },
        "id": "OjeJxIezkib0",
        "outputId": "0585c5f4-28d5-409f-b71a-64b480270967"
      },
      "source": [
        "train_X.head()"
      ],
      "execution_count": 56,
      "outputs": [
        {
          "output_type": "execute_result",
          "data": {
            "text/html": [
              "<div>\n",
              "<style scoped>\n",
              "    .dataframe tbody tr th:only-of-type {\n",
              "        vertical-align: middle;\n",
              "    }\n",
              "\n",
              "    .dataframe tbody tr th {\n",
              "        vertical-align: top;\n",
              "    }\n",
              "\n",
              "    .dataframe thead th {\n",
              "        text-align: right;\n",
              "    }\n",
              "</style>\n",
              "<table border=\"1\" class=\"dataframe\">\n",
              "  <thead>\n",
              "    <tr style=\"text-align: right;\">\n",
              "      <th></th>\n",
              "      <th>x1</th>\n",
              "      <th>x2</th>\n",
              "    </tr>\n",
              "  </thead>\n",
              "  <tbody>\n",
              "    <tr>\n",
              "      <th>2</th>\n",
              "      <td>-8</td>\n",
              "      <td>-5</td>\n",
              "    </tr>\n",
              "    <tr>\n",
              "      <th>3</th>\n",
              "      <td>-2</td>\n",
              "      <td>-20</td>\n",
              "    </tr>\n",
              "    <tr>\n",
              "      <th>5</th>\n",
              "      <td>5</td>\n",
              "      <td>-7</td>\n",
              "    </tr>\n",
              "    <tr>\n",
              "      <th>9</th>\n",
              "      <td>2</td>\n",
              "      <td>-13</td>\n",
              "    </tr>\n",
              "    <tr>\n",
              "      <th>0</th>\n",
              "      <td>-6</td>\n",
              "      <td>-14</td>\n",
              "    </tr>\n",
              "  </tbody>\n",
              "</table>\n",
              "</div>"
            ],
            "text/plain": [
              "   x1  x2\n",
              "2  -8  -5\n",
              "3  -2 -20\n",
              "5   5  -7\n",
              "9   2 -13\n",
              "0  -6 -14"
            ]
          },
          "metadata": {
            "tags": []
          },
          "execution_count": 56
        }
      ]
    },
    {
      "cell_type": "code",
      "metadata": {
        "colab": {
          "base_uri": "https://localhost:8080/"
        },
        "id": "0CXc53JAksKu",
        "outputId": "ef94e9e9-4641-4e5b-f80b-278d8270b964"
      },
      "source": [
        "train_Y.head()"
      ],
      "execution_count": 57,
      "outputs": [
        {
          "output_type": "execute_result",
          "data": {
            "text/plain": [
              "2    1\n",
              "3    1\n",
              "5    1\n",
              "9    1\n",
              "0    1\n",
              "Name: y, dtype: int64"
            ]
          },
          "metadata": {
            "tags": []
          },
          "execution_count": 57
        }
      ]
    },
    {
      "cell_type": "code",
      "metadata": {
        "id": "G7d13fAbk1jJ"
      },
      "source": [
        "from sklearn.utils import shuffle\r\n",
        "\r\n",
        "train_X, train_Y=shuffle(train_X, train_Y,random_state=0)"
      ],
      "execution_count": 58,
      "outputs": []
    },
    {
      "cell_type": "code",
      "metadata": {
        "colab": {
          "base_uri": "https://localhost:8080/"
        },
        "id": "Sw4JE7sulzg2",
        "outputId": "29b534cb-0192-4988-c017-035d81a0f48a"
      },
      "source": [
        "train_Y.head()"
      ],
      "execution_count": 59,
      "outputs": [
        {
          "output_type": "execute_result",
          "data": {
            "text/plain": [
              "8    2\n",
              "5    1\n",
              "3    1\n",
              "9    1\n",
              "2    1\n",
              "Name: y, dtype: int64"
            ]
          },
          "metadata": {
            "tags": []
          },
          "execution_count": 59
        }
      ]
    },
    {
      "cell_type": "code",
      "metadata": {
        "colab": {
          "base_uri": "https://localhost:8080/",
          "height": 202
        },
        "id": "C-6hkUYVl3Yg",
        "outputId": "64cc1282-9409-42a9-dcd7-0b904588ce1b"
      },
      "source": [
        "train_X.head()"
      ],
      "execution_count": 60,
      "outputs": [
        {
          "output_type": "execute_result",
          "data": {
            "text/html": [
              "<div>\n",
              "<style scoped>\n",
              "    .dataframe tbody tr th:only-of-type {\n",
              "        vertical-align: middle;\n",
              "    }\n",
              "\n",
              "    .dataframe tbody tr th {\n",
              "        vertical-align: top;\n",
              "    }\n",
              "\n",
              "    .dataframe thead th {\n",
              "        text-align: right;\n",
              "    }\n",
              "</style>\n",
              "<table border=\"1\" class=\"dataframe\">\n",
              "  <thead>\n",
              "    <tr style=\"text-align: right;\">\n",
              "      <th></th>\n",
              "      <th>x1</th>\n",
              "      <th>x2</th>\n",
              "    </tr>\n",
              "  </thead>\n",
              "  <tbody>\n",
              "    <tr>\n",
              "      <th>8</th>\n",
              "      <td>10</td>\n",
              "      <td>-12</td>\n",
              "    </tr>\n",
              "    <tr>\n",
              "      <th>5</th>\n",
              "      <td>5</td>\n",
              "      <td>-7</td>\n",
              "    </tr>\n",
              "    <tr>\n",
              "      <th>3</th>\n",
              "      <td>-2</td>\n",
              "      <td>-20</td>\n",
              "    </tr>\n",
              "    <tr>\n",
              "      <th>9</th>\n",
              "      <td>2</td>\n",
              "      <td>-13</td>\n",
              "    </tr>\n",
              "    <tr>\n",
              "      <th>2</th>\n",
              "      <td>-8</td>\n",
              "      <td>-5</td>\n",
              "    </tr>\n",
              "  </tbody>\n",
              "</table>\n",
              "</div>"
            ],
            "text/plain": [
              "   x1  x2\n",
              "8  10 -12\n",
              "5   5  -7\n",
              "3  -2 -20\n",
              "9   2 -13\n",
              "2  -8  -5"
            ]
          },
          "metadata": {
            "tags": []
          },
          "execution_count": 60
        }
      ]
    },
    {
      "cell_type": "markdown",
      "metadata": {
        "id": "bHf_sczLoSW5"
      },
      "source": [
        "# Entrainement "
      ]
    },
    {
      "cell_type": "code",
      "metadata": {
        "colab": {
          "base_uri": "https://localhost:8080/",
          "height": 219
        },
        "id": "HNhUuZV9l6Bz",
        "outputId": "48c4addf-138e-4724-8d1b-4628c77147be"
      },
      "source": [
        "data1='https://bit.ly/vintage-auctions'\r\n",
        "print(data1)\r\n",
        "\r\n",
        "df1=pd.read_csv(data1)\r\n",
        "df1.head()"
      ],
      "execution_count": 63,
      "outputs": [
        {
          "output_type": "stream",
          "text": [
            "https://bit.ly/vintage-auctions\n"
          ],
          "name": "stdout"
        },
        {
          "output_type": "execute_result",
          "data": {
            "text/html": [
              "<div>\n",
              "<style scoped>\n",
              "    .dataframe tbody tr th:only-of-type {\n",
              "        vertical-align: middle;\n",
              "    }\n",
              "\n",
              "    .dataframe tbody tr th {\n",
              "        vertical-align: top;\n",
              "    }\n",
              "\n",
              "    .dataframe thead th {\n",
              "        text-align: right;\n",
              "    }\n",
              "</style>\n",
              "<table border=\"1\" class=\"dataframe\">\n",
              "  <thead>\n",
              "    <tr style=\"text-align: right;\">\n",
              "      <th></th>\n",
              "      <th>tx id</th>\n",
              "      <th>time</th>\n",
              "      <th>auction</th>\n",
              "      <th>color</th>\n",
              "      <th>shirt size</th>\n",
              "      <th>condition</th>\n",
              "    </tr>\n",
              "  </thead>\n",
              "  <tbody>\n",
              "    <tr>\n",
              "      <th>0</th>\n",
              "      <td>8dbf3cfa48b25f32e300f279bb4163c67d5c60cd</td>\n",
              "      <td>3:36 PM</td>\n",
              "      <td>$17.18</td>\n",
              "      <td>Puce</td>\n",
              "      <td>S</td>\n",
              "      <td>used</td>\n",
              "    </tr>\n",
              "    <tr>\n",
              "      <th>1</th>\n",
              "      <td>8ccebfdb1a41830bdcc0e926531f3215986b3a90</td>\n",
              "      <td>9:03 AM</td>\n",
              "      <td>$15.19</td>\n",
              "      <td>Aquamarine</td>\n",
              "      <td>L</td>\n",
              "      <td>never worn</td>\n",
              "    </tr>\n",
              "    <tr>\n",
              "      <th>2</th>\n",
              "      <td>ae85a421a91cec8baf16ff1e45fb3e239130b584</td>\n",
              "      <td>7:42 PM</td>\n",
              "      <td>$7.58</td>\n",
              "      <td>Violet</td>\n",
              "      <td>L</td>\n",
              "      <td>used</td>\n",
              "    </tr>\n",
              "    <tr>\n",
              "      <th>3</th>\n",
              "      <td>85e44f09a04a79182befcfd55e288a855f633e81</td>\n",
              "      <td>10:28 PM</td>\n",
              "      <td>$9.10</td>\n",
              "      <td>Goldenrod</td>\n",
              "      <td>XS</td>\n",
              "      <td>NaN</td>\n",
              "    </tr>\n",
              "    <tr>\n",
              "      <th>4</th>\n",
              "      <td>ff750bfca4910cfa7f538fbe5463457839021680</td>\n",
              "      <td>6:38 AM</td>\n",
              "      <td>$8.22</td>\n",
              "      <td>NaN</td>\n",
              "      <td>2XL</td>\n",
              "      <td>used</td>\n",
              "    </tr>\n",
              "  </tbody>\n",
              "</table>\n",
              "</div>"
            ],
            "text/plain": [
              "                                      tx id      time  ... shirt size   condition\n",
              "0  8dbf3cfa48b25f32e300f279bb4163c67d5c60cd   3:36 PM  ...          S        used\n",
              "1  8ccebfdb1a41830bdcc0e926531f3215986b3a90   9:03 AM  ...          L  never worn\n",
              "2  ae85a421a91cec8baf16ff1e45fb3e239130b584   7:42 PM  ...          L        used\n",
              "3  85e44f09a04a79182befcfd55e288a855f633e81  10:28 PM  ...         XS         NaN\n",
              "4  ff750bfca4910cfa7f538fbe5463457839021680   6:38 AM  ...        2XL        used\n",
              "\n",
              "[5 rows x 6 columns]"
            ]
          },
          "metadata": {
            "tags": []
          },
          "execution_count": 63
        }
      ]
    },
    {
      "cell_type": "code",
      "metadata": {
        "colab": {
          "base_uri": "https://localhost:8080/"
        },
        "id": "1M0f0BZpyiLi",
        "outputId": "56f2c6a5-0af3-41e2-d5dc-a2b712298228"
      },
      "source": [
        "df1.dtypes"
      ],
      "execution_count": 76,
      "outputs": [
        {
          "output_type": "execute_result",
          "data": {
            "text/plain": [
              "tx id         object\n",
              "time          object\n",
              "auction       object\n",
              "color         object\n",
              "shirt size    object\n",
              "condition     object\n",
              "dtype: object"
            ]
          },
          "metadata": {
            "tags": []
          },
          "execution_count": 76
        }
      ]
    },
    {
      "cell_type": "code",
      "metadata": {
        "colab": {
          "base_uri": "https://localhost:8080/",
          "height": 202
        },
        "id": "MT3MV-5stahf",
        "outputId": "fd526483-2c97-4a81-9975-c0a6d23d6dc6"
      },
      "source": [
        "df1.tail()"
      ],
      "execution_count": 77,
      "outputs": [
        {
          "output_type": "execute_result",
          "data": {
            "text/html": [
              "<div>\n",
              "<style scoped>\n",
              "    .dataframe tbody tr th:only-of-type {\n",
              "        vertical-align: middle;\n",
              "    }\n",
              "\n",
              "    .dataframe tbody tr th {\n",
              "        vertical-align: top;\n",
              "    }\n",
              "\n",
              "    .dataframe thead th {\n",
              "        text-align: right;\n",
              "    }\n",
              "</style>\n",
              "<table border=\"1\" class=\"dataframe\">\n",
              "  <thead>\n",
              "    <tr style=\"text-align: right;\">\n",
              "      <th></th>\n",
              "      <th>tx id</th>\n",
              "      <th>time</th>\n",
              "      <th>auction</th>\n",
              "      <th>color</th>\n",
              "      <th>shirt size</th>\n",
              "      <th>condition</th>\n",
              "    </tr>\n",
              "  </thead>\n",
              "  <tbody>\n",
              "    <tr>\n",
              "      <th>995</th>\n",
              "      <td>6fa16b110f53367cf15e6e1dcffdcb4c2653f1ab</td>\n",
              "      <td>9:56 AM</td>\n",
              "      <td>$5.79</td>\n",
              "      <td>Violet</td>\n",
              "      <td>2XL</td>\n",
              "      <td>NaN</td>\n",
              "    </tr>\n",
              "    <tr>\n",
              "      <th>996</th>\n",
              "      <td>2b7b6cbc2224502c7137262575e97a450b336fc2</td>\n",
              "      <td>11:31 AM</td>\n",
              "      <td>$14.07</td>\n",
              "      <td>Purple</td>\n",
              "      <td>S</td>\n",
              "      <td>Used</td>\n",
              "    </tr>\n",
              "    <tr>\n",
              "      <th>997</th>\n",
              "      <td>7f2a5141de8a7f752f8f98722393ffa3b0fb1e7a</td>\n",
              "      <td>6:25 AM</td>\n",
              "      <td>$17.63</td>\n",
              "      <td>Yellow</td>\n",
              "      <td>XS</td>\n",
              "      <td>used</td>\n",
              "    </tr>\n",
              "    <tr>\n",
              "      <th>998</th>\n",
              "      <td>c4549687dee4d3061fd3c82433367bea083d4d05</td>\n",
              "      <td>2:22 AM</td>\n",
              "      <td>$17.00</td>\n",
              "      <td>Yellow</td>\n",
              "      <td>L</td>\n",
              "      <td>Used</td>\n",
              "    </tr>\n",
              "    <tr>\n",
              "      <th>999</th>\n",
              "      <td>abf227d09fe37b3e333b419e0854c6c2fd1caa50</td>\n",
              "      <td>7:47 PM</td>\n",
              "      <td>$17.05</td>\n",
              "      <td>Indigo</td>\n",
              "      <td>XL</td>\n",
              "      <td>used</td>\n",
              "    </tr>\n",
              "  </tbody>\n",
              "</table>\n",
              "</div>"
            ],
            "text/plain": [
              "                                        tx id      time  ... shirt size condition\n",
              "995  6fa16b110f53367cf15e6e1dcffdcb4c2653f1ab   9:56 AM  ...        2XL       NaN\n",
              "996  2b7b6cbc2224502c7137262575e97a450b336fc2  11:31 AM  ...          S      Used\n",
              "997  7f2a5141de8a7f752f8f98722393ffa3b0fb1e7a   6:25 AM  ...         XS      used\n",
              "998  c4549687dee4d3061fd3c82433367bea083d4d05   2:22 AM  ...          L      Used\n",
              "999  abf227d09fe37b3e333b419e0854c6c2fd1caa50   7:47 PM  ...         XL      used\n",
              "\n",
              "[5 rows x 6 columns]"
            ]
          },
          "metadata": {
            "tags": []
          },
          "execution_count": 77
        }
      ]
    },
    {
      "cell_type": "markdown",
      "metadata": {
        "id": "LYux7pjNtulS"
      },
      "source": [
        "### Ennoncé :\r\n",
        "#### Extraire les prix de la colonne action\r\n",
        "#### Créer une colonne time_cat contenant 6 categories\r\n",
        "##### 1. Nuit 1h--6h29\r\n",
        "##### 2. Matin 6h30--11h59\r\n",
        "##### 3. Midi 12h--13h59\r\n",
        "##### 4. Après midi 14h--17h59\r\n",
        "##### 5. Afterwork 18h--20h59\r\n",
        "##### 6. Soir 21h--00h59\r\n",
        "#### Encoder toures les variables categorielles \r\n",
        "#### Droper les colonnes time, tx_id et toutes les colonnes redondantes\r\n",
        "#### Split train/test/valid, stratifié par rapport à la colonne time_cat\r\n",
        "#### Isoler la variable cible qui est le montant de l'auction \r\n",
        "#### Sauvegarder les trois dataset dans 3 csv "
      ]
    },
    {
      "cell_type": "code",
      "metadata": {
        "id": "Hym3A0TutfiY"
      },
      "source": [
        ""
      ],
      "execution_count": null,
      "outputs": []
    },
    {
      "cell_type": "code",
      "metadata": {
        "id": "l50FYBk3tfUb"
      },
      "source": [
        ""
      ],
      "execution_count": null,
      "outputs": []
    },
    {
      "cell_type": "code",
      "metadata": {
        "id": "StYx8F6DtfAd"
      },
      "source": [
        ""
      ],
      "execution_count": null,
      "outputs": []
    },
    {
      "cell_type": "code",
      "metadata": {
        "id": "L2azju-CteOv"
      },
      "source": [
        ""
      ],
      "execution_count": null,
      "outputs": []
    },
    {
      "cell_type": "code",
      "metadata": {
        "colab": {
          "base_uri": "https://localhost:8080/",
          "height": 219
        },
        "id": "5z3cJrbporvv",
        "outputId": "de12cd63-5591-4806-dbc9-ce6b09526f89"
      },
      "source": [
        "import pandas as pd\r\n",
        "\r\n",
        "data2='https://bit.ly/diamonds-data'\r\n",
        "print(data2)\r\n",
        "\r\n",
        "df2=pd.read_csv(data2)\r\n",
        "df2.head()"
      ],
      "execution_count": 70,
      "outputs": [
        {
          "output_type": "stream",
          "text": [
            "https://bit.ly/diamonds-data\n"
          ],
          "name": "stdout"
        },
        {
          "output_type": "execute_result",
          "data": {
            "text/html": [
              "<div>\n",
              "<style scoped>\n",
              "    .dataframe tbody tr th:only-of-type {\n",
              "        vertical-align: middle;\n",
              "    }\n",
              "\n",
              "    .dataframe tbody tr th {\n",
              "        vertical-align: top;\n",
              "    }\n",
              "\n",
              "    .dataframe thead th {\n",
              "        text-align: right;\n",
              "    }\n",
              "</style>\n",
              "<table border=\"1\" class=\"dataframe\">\n",
              "  <thead>\n",
              "    <tr style=\"text-align: right;\">\n",
              "      <th></th>\n",
              "      <th>Unnamed: 0</th>\n",
              "      <th>carat</th>\n",
              "      <th>cut</th>\n",
              "      <th>color</th>\n",
              "      <th>clarity</th>\n",
              "      <th>depth</th>\n",
              "      <th>table</th>\n",
              "      <th>price</th>\n",
              "      <th>x</th>\n",
              "      <th>y</th>\n",
              "      <th>z</th>\n",
              "    </tr>\n",
              "  </thead>\n",
              "  <tbody>\n",
              "    <tr>\n",
              "      <th>0</th>\n",
              "      <td>1</td>\n",
              "      <td>0.23</td>\n",
              "      <td>Ideal</td>\n",
              "      <td>E</td>\n",
              "      <td>SI2</td>\n",
              "      <td>61.5</td>\n",
              "      <td>55.0</td>\n",
              "      <td>326</td>\n",
              "      <td>3.95</td>\n",
              "      <td>3.98</td>\n",
              "      <td>2.43</td>\n",
              "    </tr>\n",
              "    <tr>\n",
              "      <th>1</th>\n",
              "      <td>2</td>\n",
              "      <td>0.21</td>\n",
              "      <td>Premium</td>\n",
              "      <td>E</td>\n",
              "      <td>SI1</td>\n",
              "      <td>59.8</td>\n",
              "      <td>61.0</td>\n",
              "      <td>326</td>\n",
              "      <td>3.89</td>\n",
              "      <td>3.84</td>\n",
              "      <td>2.31</td>\n",
              "    </tr>\n",
              "    <tr>\n",
              "      <th>2</th>\n",
              "      <td>3</td>\n",
              "      <td>0.23</td>\n",
              "      <td>Good</td>\n",
              "      <td>E</td>\n",
              "      <td>VS1</td>\n",
              "      <td>56.9</td>\n",
              "      <td>65.0</td>\n",
              "      <td>327</td>\n",
              "      <td>4.05</td>\n",
              "      <td>4.07</td>\n",
              "      <td>2.31</td>\n",
              "    </tr>\n",
              "    <tr>\n",
              "      <th>3</th>\n",
              "      <td>4</td>\n",
              "      <td>0.29</td>\n",
              "      <td>Premium</td>\n",
              "      <td>I</td>\n",
              "      <td>VS2</td>\n",
              "      <td>62.4</td>\n",
              "      <td>58.0</td>\n",
              "      <td>334</td>\n",
              "      <td>4.20</td>\n",
              "      <td>4.23</td>\n",
              "      <td>2.63</td>\n",
              "    </tr>\n",
              "    <tr>\n",
              "      <th>4</th>\n",
              "      <td>5</td>\n",
              "      <td>0.31</td>\n",
              "      <td>Good</td>\n",
              "      <td>J</td>\n",
              "      <td>SI2</td>\n",
              "      <td>63.3</td>\n",
              "      <td>58.0</td>\n",
              "      <td>335</td>\n",
              "      <td>4.34</td>\n",
              "      <td>4.35</td>\n",
              "      <td>2.75</td>\n",
              "    </tr>\n",
              "  </tbody>\n",
              "</table>\n",
              "</div>"
            ],
            "text/plain": [
              "   Unnamed: 0  carat      cut color clarity  ...  table  price     x     y     z\n",
              "0           1   0.23    Ideal     E     SI2  ...   55.0    326  3.95  3.98  2.43\n",
              "1           2   0.21  Premium     E     SI1  ...   61.0    326  3.89  3.84  2.31\n",
              "2           3   0.23     Good     E     VS1  ...   65.0    327  4.05  4.07  2.31\n",
              "3           4   0.29  Premium     I     VS2  ...   58.0    334  4.20  4.23  2.63\n",
              "4           5   0.31     Good     J     SI2  ...   58.0    335  4.34  4.35  2.75\n",
              "\n",
              "[5 rows x 11 columns]"
            ]
          },
          "metadata": {
            "tags": []
          },
          "execution_count": 70
        }
      ]
    },
    {
      "cell_type": "code",
      "metadata": {
        "colab": {
          "base_uri": "https://localhost:8080/",
          "height": 358
        },
        "id": "TswFDhm2o9Su",
        "outputId": "e98430ae-256b-416c-e3ec-961366543990"
      },
      "source": [
        "import pandas as pd\r\n",
        "\r\n",
        "data3='https://bit.ly/titanic-train-set'\r\n",
        "print(data3)\r\n",
        "\r\n",
        "df3=pd.read_csv(data3)\r\n",
        "df3.head()"
      ],
      "execution_count": 67,
      "outputs": [
        {
          "output_type": "stream",
          "text": [
            "https://bit.ly/titanic-train-set\n"
          ],
          "name": "stdout"
        },
        {
          "output_type": "execute_result",
          "data": {
            "text/html": [
              "<div>\n",
              "<style scoped>\n",
              "    .dataframe tbody tr th:only-of-type {\n",
              "        vertical-align: middle;\n",
              "    }\n",
              "\n",
              "    .dataframe tbody tr th {\n",
              "        vertical-align: top;\n",
              "    }\n",
              "\n",
              "    .dataframe thead th {\n",
              "        text-align: right;\n",
              "    }\n",
              "</style>\n",
              "<table border=\"1\" class=\"dataframe\">\n",
              "  <thead>\n",
              "    <tr style=\"text-align: right;\">\n",
              "      <th></th>\n",
              "      <th>PassengerId</th>\n",
              "      <th>Survived</th>\n",
              "      <th>Pclass</th>\n",
              "      <th>Name</th>\n",
              "      <th>Sex</th>\n",
              "      <th>Age</th>\n",
              "      <th>SibSp</th>\n",
              "      <th>Parch</th>\n",
              "      <th>Ticket</th>\n",
              "      <th>Fare</th>\n",
              "      <th>Cabin</th>\n",
              "      <th>Embarked</th>\n",
              "    </tr>\n",
              "  </thead>\n",
              "  <tbody>\n",
              "    <tr>\n",
              "      <th>0</th>\n",
              "      <td>1</td>\n",
              "      <td>0</td>\n",
              "      <td>3</td>\n",
              "      <td>Braund, Mr. Owen Harris</td>\n",
              "      <td>male</td>\n",
              "      <td>22.0</td>\n",
              "      <td>1</td>\n",
              "      <td>0</td>\n",
              "      <td>A/5 21171</td>\n",
              "      <td>7.2500</td>\n",
              "      <td>NaN</td>\n",
              "      <td>S</td>\n",
              "    </tr>\n",
              "    <tr>\n",
              "      <th>1</th>\n",
              "      <td>2</td>\n",
              "      <td>1</td>\n",
              "      <td>1</td>\n",
              "      <td>Cumings, Mrs. John Bradley (Florence Briggs Th...</td>\n",
              "      <td>female</td>\n",
              "      <td>38.0</td>\n",
              "      <td>1</td>\n",
              "      <td>0</td>\n",
              "      <td>PC 17599</td>\n",
              "      <td>71.2833</td>\n",
              "      <td>C85</td>\n",
              "      <td>C</td>\n",
              "    </tr>\n",
              "    <tr>\n",
              "      <th>2</th>\n",
              "      <td>3</td>\n",
              "      <td>1</td>\n",
              "      <td>3</td>\n",
              "      <td>Heikkinen, Miss. Laina</td>\n",
              "      <td>female</td>\n",
              "      <td>26.0</td>\n",
              "      <td>0</td>\n",
              "      <td>0</td>\n",
              "      <td>STON/O2. 3101282</td>\n",
              "      <td>7.9250</td>\n",
              "      <td>NaN</td>\n",
              "      <td>S</td>\n",
              "    </tr>\n",
              "    <tr>\n",
              "      <th>3</th>\n",
              "      <td>4</td>\n",
              "      <td>1</td>\n",
              "      <td>1</td>\n",
              "      <td>Futrelle, Mrs. Jacques Heath (Lily May Peel)</td>\n",
              "      <td>female</td>\n",
              "      <td>35.0</td>\n",
              "      <td>1</td>\n",
              "      <td>0</td>\n",
              "      <td>113803</td>\n",
              "      <td>53.1000</td>\n",
              "      <td>C123</td>\n",
              "      <td>S</td>\n",
              "    </tr>\n",
              "    <tr>\n",
              "      <th>4</th>\n",
              "      <td>5</td>\n",
              "      <td>0</td>\n",
              "      <td>3</td>\n",
              "      <td>Allen, Mr. William Henry</td>\n",
              "      <td>male</td>\n",
              "      <td>35.0</td>\n",
              "      <td>0</td>\n",
              "      <td>0</td>\n",
              "      <td>373450</td>\n",
              "      <td>8.0500</td>\n",
              "      <td>NaN</td>\n",
              "      <td>S</td>\n",
              "    </tr>\n",
              "  </tbody>\n",
              "</table>\n",
              "</div>"
            ],
            "text/plain": [
              "   PassengerId  Survived  Pclass  ...     Fare Cabin  Embarked\n",
              "0            1         0       3  ...   7.2500   NaN         S\n",
              "1            2         1       1  ...  71.2833   C85         C\n",
              "2            3         1       3  ...   7.9250   NaN         S\n",
              "3            4         1       1  ...  53.1000  C123         S\n",
              "4            5         0       3  ...   8.0500   NaN         S\n",
              "\n",
              "[5 rows x 12 columns]"
            ]
          },
          "metadata": {
            "tags": []
          },
          "execution_count": 67
        }
      ]
    },
    {
      "cell_type": "code",
      "metadata": {
        "colab": {
          "base_uri": "https://localhost:8080/",
          "height": 254
        },
        "id": "ZuxGxeMLqrUZ",
        "outputId": "fc8541ba-c374-4175-e7a8-08f0ce18bc66"
      },
      "source": [
        "import pandas as pd\r\n",
        "\r\n",
        "data4='https://bit.ly/titanic-test-set'\r\n",
        "print(data4)\r\n",
        "\r\n",
        "df4=pd.read_csv(data4)\r\n",
        "df4.head()"
      ],
      "execution_count": 68,
      "outputs": [
        {
          "output_type": "stream",
          "text": [
            "https://bit.ly/titanic-test-set\n"
          ],
          "name": "stdout"
        },
        {
          "output_type": "execute_result",
          "data": {
            "text/html": [
              "<div>\n",
              "<style scoped>\n",
              "    .dataframe tbody tr th:only-of-type {\n",
              "        vertical-align: middle;\n",
              "    }\n",
              "\n",
              "    .dataframe tbody tr th {\n",
              "        vertical-align: top;\n",
              "    }\n",
              "\n",
              "    .dataframe thead th {\n",
              "        text-align: right;\n",
              "    }\n",
              "</style>\n",
              "<table border=\"1\" class=\"dataframe\">\n",
              "  <thead>\n",
              "    <tr style=\"text-align: right;\">\n",
              "      <th></th>\n",
              "      <th>PassengerId</th>\n",
              "      <th>Pclass</th>\n",
              "      <th>Name</th>\n",
              "      <th>Sex</th>\n",
              "      <th>Age</th>\n",
              "      <th>SibSp</th>\n",
              "      <th>Parch</th>\n",
              "      <th>Ticket</th>\n",
              "      <th>Fare</th>\n",
              "      <th>Cabin</th>\n",
              "      <th>Embarked</th>\n",
              "    </tr>\n",
              "  </thead>\n",
              "  <tbody>\n",
              "    <tr>\n",
              "      <th>0</th>\n",
              "      <td>892</td>\n",
              "      <td>3</td>\n",
              "      <td>Kelly, Mr. James</td>\n",
              "      <td>male</td>\n",
              "      <td>34.5</td>\n",
              "      <td>0</td>\n",
              "      <td>0</td>\n",
              "      <td>330911</td>\n",
              "      <td>7.8292</td>\n",
              "      <td>NaN</td>\n",
              "      <td>Q</td>\n",
              "    </tr>\n",
              "    <tr>\n",
              "      <th>1</th>\n",
              "      <td>893</td>\n",
              "      <td>3</td>\n",
              "      <td>Wilkes, Mrs. James (Ellen Needs)</td>\n",
              "      <td>female</td>\n",
              "      <td>47.0</td>\n",
              "      <td>1</td>\n",
              "      <td>0</td>\n",
              "      <td>363272</td>\n",
              "      <td>7.0000</td>\n",
              "      <td>NaN</td>\n",
              "      <td>S</td>\n",
              "    </tr>\n",
              "    <tr>\n",
              "      <th>2</th>\n",
              "      <td>894</td>\n",
              "      <td>2</td>\n",
              "      <td>Myles, Mr. Thomas Francis</td>\n",
              "      <td>male</td>\n",
              "      <td>62.0</td>\n",
              "      <td>0</td>\n",
              "      <td>0</td>\n",
              "      <td>240276</td>\n",
              "      <td>9.6875</td>\n",
              "      <td>NaN</td>\n",
              "      <td>Q</td>\n",
              "    </tr>\n",
              "    <tr>\n",
              "      <th>3</th>\n",
              "      <td>895</td>\n",
              "      <td>3</td>\n",
              "      <td>Wirz, Mr. Albert</td>\n",
              "      <td>male</td>\n",
              "      <td>27.0</td>\n",
              "      <td>0</td>\n",
              "      <td>0</td>\n",
              "      <td>315154</td>\n",
              "      <td>8.6625</td>\n",
              "      <td>NaN</td>\n",
              "      <td>S</td>\n",
              "    </tr>\n",
              "    <tr>\n",
              "      <th>4</th>\n",
              "      <td>896</td>\n",
              "      <td>3</td>\n",
              "      <td>Hirvonen, Mrs. Alexander (Helga E Lindqvist)</td>\n",
              "      <td>female</td>\n",
              "      <td>22.0</td>\n",
              "      <td>1</td>\n",
              "      <td>1</td>\n",
              "      <td>3101298</td>\n",
              "      <td>12.2875</td>\n",
              "      <td>NaN</td>\n",
              "      <td>S</td>\n",
              "    </tr>\n",
              "  </tbody>\n",
              "</table>\n",
              "</div>"
            ],
            "text/plain": [
              "   PassengerId  Pclass  ... Cabin Embarked\n",
              "0          892       3  ...   NaN        Q\n",
              "1          893       3  ...   NaN        S\n",
              "2          894       2  ...   NaN        Q\n",
              "3          895       3  ...   NaN        S\n",
              "4          896       3  ...   NaN        S\n",
              "\n",
              "[5 rows x 11 columns]"
            ]
          },
          "metadata": {
            "tags": []
          },
          "execution_count": 68
        }
      ]
    },
    {
      "cell_type": "code",
      "metadata": {
        "id": "uQo2TPZOq4OR"
      },
      "source": [
        ""
      ],
      "execution_count": null,
      "outputs": []
    }
  ]
}
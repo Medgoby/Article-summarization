{
  "nbformat": 4,
  "nbformat_minor": 0,
  "metadata": {
    "colab": {
      "name": "My_Data_Quality.ipynb",
      "provenance": [],
      "collapsed_sections": [],
      "authorship_tag": "ABX9TyPwmlvi4IexHrbStMwUpZHi",
      "include_colab_link": true
    },
    "kernelspec": {
      "name": "python3",
      "display_name": "Python 3"
    }
  },
  "cells": [
    {
      "cell_type": "markdown",
      "metadata": {
        "id": "view-in-github",
        "colab_type": "text"
      },
      "source": [
        "<a href=\"https://colab.research.google.com/github/Medgoby/Article-summarization/blob/master/My_Data_Quality.ipynb\" target=\"_parent\"><img src=\"https://colab.research.google.com/assets/colab-badge.svg\" alt=\"Open In Colab\"/></a>"
      ]
    },
    {
      "cell_type": "code",
      "metadata": {
        "id": "xNtWpcBKfwkz"
      },
      "source": [
        ""
      ],
      "execution_count": null,
      "outputs": []
    },
    {
      "cell_type": "code",
      "metadata": {
        "id": "flUaOuEnfsgb"
      },
      "source": [
        ""
      ],
      "execution_count": null,
      "outputs": []
    },
    {
      "cell_type": "code",
      "metadata": {
        "id": "bxX7LDPVfnW6"
      },
      "source": [
        ""
      ],
      "execution_count": null,
      "outputs": []
    },
    {
      "cell_type": "code",
      "metadata": {
        "id": "mwGlCnKdmkeq",
        "colab": {
          "base_uri": "https://localhost:8080/",
          "height": 35
        },
        "outputId": "19768668-5dc5-43b6-c609-14159a830248"
      },
      "source": [
        "import pandas as pd\r\n",
        "pd.__version__"
      ],
      "execution_count": 1,
      "outputs": [
        {
          "output_type": "execute_result",
          "data": {
            "application/vnd.google.colaboratory.intrinsic+json": {
              "type": "string"
            },
            "text/plain": [
              "'1.1.5'"
            ]
          },
          "metadata": {
            "tags": []
          },
          "execution_count": 1
        }
      ]
    },
    {
      "cell_type": "code",
      "metadata": {
        "colab": {
          "base_uri": "https://localhost:8080/",
          "height": 235
        },
        "id": "2O2SIoCxCxzG",
        "outputId": "21c780cb-e3e7-4e06-b793-daa18e6599e8"
      },
      "source": [
        "list=[62,1,-5,34]\r\n",
        "min=[0]\r\n",
        "for e in list: \r\n",
        "  if e < min :\r\n",
        "    min=e\r\n",
        "print(min)"
      ],
      "execution_count": null,
      "outputs": [
        {
          "output_type": "error",
          "ename": "TypeError",
          "evalue": "ignored",
          "traceback": [
            "\u001b[0;31m---------------------------------------------------------------------------\u001b[0m",
            "\u001b[0;31mTypeError\u001b[0m                                 Traceback (most recent call last)",
            "\u001b[0;32m<ipython-input-7-1133cc466d5e>\u001b[0m in \u001b[0;36m<module>\u001b[0;34m()\u001b[0m\n\u001b[1;32m      2\u001b[0m \u001b[0mmin\u001b[0m\u001b[0;34m=\u001b[0m\u001b[0;34m[\u001b[0m\u001b[0;36m0\u001b[0m\u001b[0;34m]\u001b[0m\u001b[0;34m\u001b[0m\u001b[0;34m\u001b[0m\u001b[0m\n\u001b[1;32m      3\u001b[0m \u001b[0;32mfor\u001b[0m \u001b[0me\u001b[0m \u001b[0;32min\u001b[0m \u001b[0mlist\u001b[0m\u001b[0;34m:\u001b[0m\u001b[0;34m\u001b[0m\u001b[0;34m\u001b[0m\u001b[0m\n\u001b[0;32m----> 4\u001b[0;31m   \u001b[0;32mif\u001b[0m \u001b[0me\u001b[0m \u001b[0;34m<\u001b[0m \u001b[0mmin\u001b[0m \u001b[0;34m:\u001b[0m\u001b[0;34m\u001b[0m\u001b[0;34m\u001b[0m\u001b[0m\n\u001b[0m\u001b[1;32m      5\u001b[0m     \u001b[0mmin\u001b[0m\u001b[0;34m=\u001b[0m\u001b[0me\u001b[0m\u001b[0;34m\u001b[0m\u001b[0;34m\u001b[0m\u001b[0m\n\u001b[1;32m      6\u001b[0m \u001b[0mprint\u001b[0m\u001b[0;34m(\u001b[0m\u001b[0mmin\u001b[0m\u001b[0;34m)\u001b[0m\u001b[0;34m\u001b[0m\u001b[0;34m\u001b[0m\u001b[0m\n",
            "\u001b[0;31mTypeError\u001b[0m: '<' not supported between instances of 'int' and 'list'"
          ]
        }
      ]
    },
    {
      "cell_type": "code",
      "metadata": {
        "id": "3W6RfT2NDwAU"
      },
      "source": [
        ""
      ],
      "execution_count": null,
      "outputs": []
    },
    {
      "cell_type": "markdown",
      "metadata": {
        "id": "IV_19oICHKuA"
      },
      "source": [
        "## Lecture des fichiers"
      ]
    },
    {
      "cell_type": "code",
      "metadata": {
        "id": "8pLLaez1HUCL"
      },
      "source": [
        "filepath='https://bit.ly/world-cities-clean'"
      ],
      "execution_count": 3,
      "outputs": []
    },
    {
      "cell_type": "code",
      "metadata": {
        "colab": {
          "base_uri": "https://localhost:8080/"
        },
        "id": "NxVa2q3LJcXo",
        "outputId": "61be0e73-72df-419d-c569-61cbd9e02fa5"
      },
      "source": [
        "print(filepath)"
      ],
      "execution_count": 4,
      "outputs": [
        {
          "output_type": "stream",
          "text": [
            "https://bit.ly/world-cities-clean\n"
          ],
          "name": "stdout"
        }
      ]
    },
    {
      "cell_type": "code",
      "metadata": {
        "colab": {
          "base_uri": "https://localhost:8080/",
          "height": 202
        },
        "id": "J32sA6yQJljV",
        "outputId": "369858b7-5d56-4550-b7b5-dea4f13f0cc1"
      },
      "source": [
        "df=pd.read_csv(filepath)\r\n",
        "df.sample(5)"
      ],
      "execution_count": 9,
      "outputs": [
        {
          "output_type": "execute_result",
          "data": {
            "text/html": [
              "<div>\n",
              "<style scoped>\n",
              "    .dataframe tbody tr th:only-of-type {\n",
              "        vertical-align: middle;\n",
              "    }\n",
              "\n",
              "    .dataframe tbody tr th {\n",
              "        vertical-align: top;\n",
              "    }\n",
              "\n",
              "    .dataframe thead th {\n",
              "        text-align: right;\n",
              "    }\n",
              "</style>\n",
              "<table border=\"1\" class=\"dataframe\">\n",
              "  <thead>\n",
              "    <tr style=\"text-align: right;\">\n",
              "      <th></th>\n",
              "      <th>name</th>\n",
              "      <th>country</th>\n",
              "      <th>subcountry</th>\n",
              "      <th>geonameid</th>\n",
              "    </tr>\n",
              "  </thead>\n",
              "  <tbody>\n",
              "    <tr>\n",
              "      <th>19377</th>\n",
              "      <td>Igunga</td>\n",
              "      <td>Tanzania</td>\n",
              "      <td>Tabora</td>\n",
              "      <td>159386</td>\n",
              "    </tr>\n",
              "    <tr>\n",
              "      <th>6540</th>\n",
              "      <td>Batī</td>\n",
              "      <td>Ethiopia</td>\n",
              "      <td>Amhara</td>\n",
              "      <td>342641</td>\n",
              "    </tr>\n",
              "    <tr>\n",
              "      <th>21951</th>\n",
              "      <td>Rosamond</td>\n",
              "      <td>United States</td>\n",
              "      <td>California</td>\n",
              "      <td>5388735</td>\n",
              "    </tr>\n",
              "    <tr>\n",
              "      <th>13195</th>\n",
              "      <td>Merke</td>\n",
              "      <td>Kazakhstan</td>\n",
              "      <td>Zhambyl</td>\n",
              "      <td>1520969</td>\n",
              "    </tr>\n",
              "    <tr>\n",
              "      <th>19120</th>\n",
              "      <td>İstanbul</td>\n",
              "      <td>Turkey</td>\n",
              "      <td>Istanbul</td>\n",
              "      <td>745044</td>\n",
              "    </tr>\n",
              "  </tbody>\n",
              "</table>\n",
              "</div>"
            ],
            "text/plain": [
              "           name        country  subcountry  geonameid\n",
              "19377    Igunga       Tanzania      Tabora     159386\n",
              "6540       Batī       Ethiopia      Amhara     342641\n",
              "21951  Rosamond  United States  California    5388735\n",
              "13195     Merke     Kazakhstan     Zhambyl    1520969\n",
              "19120  İstanbul         Turkey    Istanbul     745044"
            ]
          },
          "metadata": {
            "tags": []
          },
          "execution_count": 9
        }
      ]
    },
    {
      "cell_type": "code",
      "metadata": {
        "id": "ejjoKkOILoxo"
      },
      "source": [
        "fp='https://bit.ly/world-cities-dirty-v2'"
      ],
      "execution_count": 15,
      "outputs": []
    },
    {
      "cell_type": "code",
      "metadata": {
        "colab": {
          "base_uri": "https://localhost:8080/"
        },
        "id": "diUHSWheO-bH",
        "outputId": "6bb0de41-fff0-454e-821f-1bc89ab75b72"
      },
      "source": [
        "print(fp)"
      ],
      "execution_count": 16,
      "outputs": [
        {
          "output_type": "stream",
          "text": [
            "https://bit.ly/world-cities-dirty-v2\n"
          ],
          "name": "stdout"
        }
      ]
    },
    {
      "cell_type": "code",
      "metadata": {
        "colab": {
          "base_uri": "https://localhost:8080/",
          "height": 341
        },
        "id": "Wp0_umbiPD3-",
        "outputId": "6bfeb7f0-7dff-4b1e-ed74-8cd3f925eb0f"
      },
      "source": [
        "df=pd.read_csv(fp)\r\n",
        "df.sample(5)"
      ],
      "execution_count": 18,
      "outputs": [
        {
          "output_type": "execute_result",
          "data": {
            "text/html": [
              "<div>\n",
              "<style scoped>\n",
              "    .dataframe tbody tr th:only-of-type {\n",
              "        vertical-align: middle;\n",
              "    }\n",
              "\n",
              "    .dataframe tbody tr th {\n",
              "        vertical-align: top;\n",
              "    }\n",
              "\n",
              "    .dataframe thead th {\n",
              "        text-align: right;\n",
              "    }\n",
              "</style>\n",
              "<table border=\"1\" class=\"dataframe\">\n",
              "  <thead>\n",
              "    <tr style=\"text-align: right;\">\n",
              "      <th></th>\n",
              "      <th></th>\n",
              "      <th></th>\n",
              "      <th></th>\n",
              "      <th></th>\n",
              "      <th></th>\n",
              "      <th>Lorem ipsum dolor sit amet</th>\n",
              "      <th>consectetur adipiscing elit</th>\n",
              "      <th>sed do eiusmod tempor incididunt ut labore et dolore magna aliqua. Ut enim ad minim veniam</th>\n",
              "      <th>quis nostrud exercitation ullamco laboris nisi ut aliquip ex ea commodo consequat. Duis aute irure dolor in reprehenderit in voluptate velit esse cillum dolore eu fugiat nulla pariatur. Excepteur sint occaecat cupidatat non proident</th>\n",
              "      <th>sunt in culpa qui officia deserunt mollit anim id est laborum.</th>\n",
              "    </tr>\n",
              "  </thead>\n",
              "  <tbody>\n",
              "    <tr>\n",
              "      <th>South Jordan Heights</th>\n",
              "      <th>United States</th>\n",
              "      <th>Utah</th>\n",
              "      <th>5781765</th>\n",
              "      <th>NaN</th>\n",
              "      <th>NaN</th>\n",
              "      <td>NaN</td>\n",
              "      <td>NaN</td>\n",
              "      <td>NaN</td>\n",
              "      <td>NaN</td>\n",
              "      <td>NaN</td>\n",
              "    </tr>\n",
              "    <tr>\n",
              "      <th>Eltville</th>\n",
              "      <th>Germany</th>\n",
              "      <th>Hesse</th>\n",
              "      <th>2930646</th>\n",
              "      <th>NaN</th>\n",
              "      <th>NaN</th>\n",
              "      <td>NaN</td>\n",
              "      <td>NaN</td>\n",
              "      <td>NaN</td>\n",
              "      <td>NaN</td>\n",
              "      <td>NaN</td>\n",
              "    </tr>\n",
              "    <tr>\n",
              "      <th>Maarssen</th>\n",
              "      <th>Netherlands</th>\n",
              "      <th>Utrecht</th>\n",
              "      <th>2751316</th>\n",
              "      <th>NaN</th>\n",
              "      <th>NaN</th>\n",
              "      <td>NaN</td>\n",
              "      <td>NaN</td>\n",
              "      <td>NaN</td>\n",
              "      <td>NaN</td>\n",
              "      <td>NaN</td>\n",
              "    </tr>\n",
              "    <tr>\n",
              "      <th>Gurupi</th>\n",
              "      <th>Brazil</th>\n",
              "      <th>Tocantins</th>\n",
              "      <th>3461724</th>\n",
              "      <th>NaN</th>\n",
              "      <th>NaN</th>\n",
              "      <td>NaN</td>\n",
              "      <td>NaN</td>\n",
              "      <td>NaN</td>\n",
              "      <td>NaN</td>\n",
              "      <td>NaN</td>\n",
              "    </tr>\n",
              "    <tr>\n",
              "      <th>Mahanje</th>\n",
              "      <th>Tanzania</th>\n",
              "      <th>Ruvuma</th>\n",
              "      <th>155285</th>\n",
              "      <th>NaN</th>\n",
              "      <th>NaN</th>\n",
              "      <td>NaN</td>\n",
              "      <td>NaN</td>\n",
              "      <td>NaN</td>\n",
              "      <td>NaN</td>\n",
              "      <td>NaN</td>\n",
              "    </tr>\n",
              "  </tbody>\n",
              "</table>\n",
              "</div>"
            ],
            "text/plain": [
              "                                                             Lorem ipsum dolor sit amet  ...  sunt in culpa qui officia deserunt mollit anim id est laborum.\n",
              "South Jordan Heights United States Utah      5781765 NaN NaN                        NaN  ...                                                NaN             \n",
              "Eltville             Germany       Hesse     2930646 NaN NaN                        NaN  ...                                                NaN             \n",
              "Maarssen             Netherlands   Utrecht   2751316 NaN NaN                        NaN  ...                                                NaN             \n",
              "Gurupi               Brazil        Tocantins 3461724 NaN NaN                        NaN  ...                                                NaN             \n",
              "Mahanje              Tanzania      Ruvuma    155285  NaN NaN                        NaN  ...                                                NaN             \n",
              "\n",
              "[5 rows x 5 columns]"
            ]
          },
          "metadata": {
            "tags": []
          },
          "execution_count": 18
        }
      ]
    },
    {
      "cell_type": "code",
      "metadata": {
        "colab": {
          "base_uri": "https://localhost:8080/",
          "height": 257
        },
        "id": "KCvHvBvhPukI",
        "outputId": "73ce0e3a-96ef-4ea8-f3f8-04c16390aa5d"
      },
      "source": [
        "df=pd.read_csv(fp,\r\n",
        "               skiprows=2, #enlève les deux prémières lignes\r\n",
        "               skipfooter=1) #enlève la dernière ligne\r\n",
        "df.sample(5)"
      ],
      "execution_count": 21,
      "outputs": [
        {
          "output_type": "stream",
          "text": [
            "/usr/local/lib/python3.6/dist-packages/ipykernel_launcher.py:3: ParserWarning: Falling back to the 'python' engine because the 'c' engine does not support skipfooter; you can avoid this warning by specifying engine='python'.\n",
            "  This is separate from the ipykernel package so we can avoid doing imports until\n"
          ],
          "name": "stderr"
        },
        {
          "output_type": "execute_result",
          "data": {
            "text/html": [
              "<div>\n",
              "<style scoped>\n",
              "    .dataframe tbody tr th:only-of-type {\n",
              "        vertical-align: middle;\n",
              "    }\n",
              "\n",
              "    .dataframe tbody tr th {\n",
              "        vertical-align: top;\n",
              "    }\n",
              "\n",
              "    .dataframe thead th {\n",
              "        text-align: right;\n",
              "    }\n",
              "</style>\n",
              "<table border=\"1\" class=\"dataframe\">\n",
              "  <thead>\n",
              "    <tr style=\"text-align: right;\">\n",
              "      <th></th>\n",
              "      <th>name</th>\n",
              "      <th>country</th>\n",
              "      <th>subcountry</th>\n",
              "      <th>geonameid</th>\n",
              "    </tr>\n",
              "  </thead>\n",
              "  <tbody>\n",
              "    <tr>\n",
              "      <th>22296</th>\n",
              "      <td>Frederickson</td>\n",
              "      <td>United States</td>\n",
              "      <td>Washington</td>\n",
              "      <td>5795011</td>\n",
              "    </tr>\n",
              "    <tr>\n",
              "      <th>11171</th>\n",
              "      <td>Mohali</td>\n",
              "      <td>India</td>\n",
              "      <td>Punjab</td>\n",
              "      <td>6992326</td>\n",
              "    </tr>\n",
              "    <tr>\n",
              "      <th>5298</th>\n",
              "      <td>Altglienicke</td>\n",
              "      <td>Germany</td>\n",
              "      <td>Berlin</td>\n",
              "      <td>2957185</td>\n",
              "    </tr>\n",
              "    <tr>\n",
              "      <th>20862</th>\n",
              "      <td>Wheeling</td>\n",
              "      <td>United States</td>\n",
              "      <td>Illinois</td>\n",
              "      <td>4916311</td>\n",
              "    </tr>\n",
              "    <tr>\n",
              "      <th>16527</th>\n",
              "      <td>Torres Vedras</td>\n",
              "      <td>Portugal</td>\n",
              "      <td>Lisbon</td>\n",
              "      <td>2262581</td>\n",
              "    </tr>\n",
              "  </tbody>\n",
              "</table>\n",
              "</div>"
            ],
            "text/plain": [
              "                name        country  subcountry  geonameid\n",
              "22296   Frederickson  United States  Washington    5795011\n",
              "11171         Mohali          India      Punjab    6992326\n",
              "5298    Altglienicke        Germany      Berlin    2957185\n",
              "20862       Wheeling  United States    Illinois    4916311\n",
              "16527  Torres Vedras       Portugal      Lisbon    2262581"
            ]
          },
          "metadata": {
            "tags": []
          },
          "execution_count": 21
        }
      ]
    },
    {
      "cell_type": "code",
      "metadata": {
        "colab": {
          "base_uri": "https://localhost:8080/"
        },
        "id": "VowG1ALLQaae",
        "outputId": "eb838003-b334-4574-b035-3135b709eb7d"
      },
      "source": [
        "df.shape"
      ],
      "execution_count": 22,
      "outputs": [
        {
          "output_type": "execute_result",
          "data": {
            "text/plain": [
              "(23018, 4)"
            ]
          },
          "metadata": {
            "tags": []
          },
          "execution_count": 22
        }
      ]
    },
    {
      "cell_type": "code",
      "metadata": {
        "colab": {
          "base_uri": "https://localhost:8080/"
        },
        "id": "7Z-i7ahKRL_f",
        "outputId": "9fd3780c-7418-4096-f7bd-47212adfa284"
      },
      "source": [
        "fp='https://bit.ly/world-cities-dirty-v3'\r\n",
        "print(fp)"
      ],
      "execution_count": 23,
      "outputs": [
        {
          "output_type": "stream",
          "text": [
            "https://bit.ly/world-cities-dirty-v3\n"
          ],
          "name": "stdout"
        }
      ]
    },
    {
      "cell_type": "code",
      "metadata": {
        "colab": {
          "base_uri": "https://localhost:8080/",
          "height": 202
        },
        "id": "a_J6MjfmSXE7",
        "outputId": "3e7b8352-ff13-4b10-8512-9e9a65a712e6"
      },
      "source": [
        "df=pd.read_csv(fp, names=['names','country','subcountry','geonameid'],\r\n",
        "               sep='|')\r\n",
        "df.head()"
      ],
      "execution_count": 28,
      "outputs": [
        {
          "output_type": "execute_result",
          "data": {
            "text/html": [
              "<div>\n",
              "<style scoped>\n",
              "    .dataframe tbody tr th:only-of-type {\n",
              "        vertical-align: middle;\n",
              "    }\n",
              "\n",
              "    .dataframe tbody tr th {\n",
              "        vertical-align: top;\n",
              "    }\n",
              "\n",
              "    .dataframe thead th {\n",
              "        text-align: right;\n",
              "    }\n",
              "</style>\n",
              "<table border=\"1\" class=\"dataframe\">\n",
              "  <thead>\n",
              "    <tr style=\"text-align: right;\">\n",
              "      <th></th>\n",
              "      <th>names</th>\n",
              "      <th>country</th>\n",
              "      <th>subcountry</th>\n",
              "      <th>geonameid</th>\n",
              "    </tr>\n",
              "  </thead>\n",
              "  <tbody>\n",
              "    <tr>\n",
              "      <th>0</th>\n",
              "      <td>les Escaldes</td>\n",
              "      <td>Andorra</td>\n",
              "      <td>Escaldes-Engordany</td>\n",
              "      <td>3040051</td>\n",
              "    </tr>\n",
              "    <tr>\n",
              "      <th>1</th>\n",
              "      <td>Andorra la Vella</td>\n",
              "      <td>Andorra</td>\n",
              "      <td>Andorra la Vella</td>\n",
              "      <td>3041563</td>\n",
              "    </tr>\n",
              "    <tr>\n",
              "      <th>2</th>\n",
              "      <td>Umm al Qaywayn</td>\n",
              "      <td>United Arab Emirates</td>\n",
              "      <td>Umm al Qaywayn</td>\n",
              "      <td>290594</td>\n",
              "    </tr>\n",
              "    <tr>\n",
              "      <th>3</th>\n",
              "      <td>Ras al-Khaimah</td>\n",
              "      <td>United Arab Emirates</td>\n",
              "      <td>Raʼs al Khaymah</td>\n",
              "      <td>291074</td>\n",
              "    </tr>\n",
              "    <tr>\n",
              "      <th>4</th>\n",
              "      <td>Khawr Fakkān</td>\n",
              "      <td>United Arab Emirates</td>\n",
              "      <td>Ash Shāriqah</td>\n",
              "      <td>291696</td>\n",
              "    </tr>\n",
              "  </tbody>\n",
              "</table>\n",
              "</div>"
            ],
            "text/plain": [
              "              names               country          subcountry  geonameid\n",
              "0      les Escaldes               Andorra  Escaldes-Engordany    3040051\n",
              "1  Andorra la Vella               Andorra    Andorra la Vella    3041563\n",
              "2    Umm al Qaywayn  United Arab Emirates      Umm al Qaywayn     290594\n",
              "3    Ras al-Khaimah  United Arab Emirates     Raʼs al Khaymah     291074\n",
              "4      Khawr Fakkān  United Arab Emirates        Ash Shāriqah     291696"
            ]
          },
          "metadata": {
            "tags": []
          },
          "execution_count": 28
        }
      ]
    },
    {
      "cell_type": "code",
      "metadata": {
        "colab": {
          "base_uri": "https://localhost:8080/"
        },
        "id": "KZ1LDn37SpfZ",
        "outputId": "3e5ae517-fd9b-4802-a22c-5b6bfd362afe"
      },
      "source": [
        "fp='https://bit.ly/bitcoin-data'\r\n",
        "print(fp)"
      ],
      "execution_count": 30,
      "outputs": [
        {
          "output_type": "stream",
          "text": [
            "https://bit.ly/bitcoin-data\n"
          ],
          "name": "stdout"
        }
      ]
    },
    {
      "cell_type": "code",
      "metadata": {
        "colab": {
          "base_uri": "https://localhost:8080/",
          "height": 257
        },
        "id": "PHZkzbWRV_zQ",
        "outputId": "ba64d763-33a7-4eea-bf6e-85acaf6365f9"
      },
      "source": [
        "df=pd.read_csv(fp,\r\n",
        "               skipfooter=2) \r\n",
        "df.sample(5)"
      ],
      "execution_count": 31,
      "outputs": [
        {
          "output_type": "stream",
          "text": [
            "/usr/local/lib/python3.6/dist-packages/ipykernel_launcher.py:2: ParserWarning: Falling back to the 'python' engine because the 'c' engine does not support skipfooter; you can avoid this warning by specifying engine='python'.\n",
            "  \n"
          ],
          "name": "stderr"
        },
        {
          "output_type": "execute_result",
          "data": {
            "text/html": [
              "<div>\n",
              "<style scoped>\n",
              "    .dataframe tbody tr th:only-of-type {\n",
              "        vertical-align: middle;\n",
              "    }\n",
              "\n",
              "    .dataframe tbody tr th {\n",
              "        vertical-align: top;\n",
              "    }\n",
              "\n",
              "    .dataframe thead th {\n",
              "        text-align: right;\n",
              "    }\n",
              "</style>\n",
              "<table border=\"1\" class=\"dataframe\">\n",
              "  <thead>\n",
              "    <tr style=\"text-align: right;\">\n",
              "      <th></th>\n",
              "      <th>Date</th>\n",
              "      <th>Open*</th>\n",
              "      <th>High</th>\n",
              "      <th>Low</th>\n",
              "      <th>Close**</th>\n",
              "      <th>Volume</th>\n",
              "      <th>Market Cap</th>\n",
              "    </tr>\n",
              "  </thead>\n",
              "  <tbody>\n",
              "    <tr>\n",
              "      <th>25</th>\n",
              "      <td>Dec 20 2019</td>\n",
              "      <td>7208.64</td>\n",
              "      <td>7257.92</td>\n",
              "      <td>7086.12</td>\n",
              "      <td>7218.82</td>\n",
              "      <td>22633815180</td>\n",
              "      <td>130752796980</td>\n",
              "    </tr>\n",
              "    <tr>\n",
              "      <th>14</th>\n",
              "      <td>Dec 31 2019</td>\n",
              "      <td>7294.44</td>\n",
              "      <td>7335.29</td>\n",
              "      <td>7169.78</td>\n",
              "      <td>7193.60</td>\n",
              "      <td>21167946112</td>\n",
              "      <td>130446112598</td>\n",
              "    </tr>\n",
              "    <tr>\n",
              "      <th>16</th>\n",
              "      <td>Dec 29 2019</td>\n",
              "      <td>7317.65</td>\n",
              "      <td>7513.95</td>\n",
              "      <td>7279.87</td>\n",
              "      <td>7422.65</td>\n",
              "      <td>22445257702</td>\n",
              "      <td>134570835775</td>\n",
              "    </tr>\n",
              "    <tr>\n",
              "      <th>28</th>\n",
              "      <td>Dec 17 2019</td>\n",
              "      <td>6931.32</td>\n",
              "      <td>6964.07</td>\n",
              "      <td>6587.97</td>\n",
              "      <td>6640.52</td>\n",
              "      <td>22363804217</td>\n",
              "      <td>120234244809</td>\n",
              "    </tr>\n",
              "    <tr>\n",
              "      <th>7</th>\n",
              "      <td>Jan 07 2020</td>\n",
              "      <td>7768.68</td>\n",
              "      <td>8178.22</td>\n",
              "      <td>7768.23</td>\n",
              "      <td>8163.69</td>\n",
              "      <td>28767291327</td>\n",
              "      <td>148152237654</td>\n",
              "    </tr>\n",
              "  </tbody>\n",
              "</table>\n",
              "</div>"
            ],
            "text/plain": [
              "           Date    Open*     High      Low  Close**       Volume    Market Cap\n",
              "25  Dec 20 2019  7208.64  7257.92  7086.12  7218.82  22633815180  130752796980\n",
              "14  Dec 31 2019  7294.44  7335.29  7169.78  7193.60  21167946112  130446112598\n",
              "16  Dec 29 2019  7317.65  7513.95  7279.87  7422.65  22445257702  134570835775\n",
              "28  Dec 17 2019  6931.32  6964.07  6587.97  6640.52  22363804217  120234244809\n",
              "7   Jan 07 2020  7768.68  8178.22  7768.23  8163.69  28767291327  148152237654"
            ]
          },
          "metadata": {
            "tags": []
          },
          "execution_count": 31
        }
      ]
    },
    {
      "cell_type": "code",
      "metadata": {
        "colab": {
          "base_uri": "https://localhost:8080/"
        },
        "id": "Wq4tgW7-WVr1",
        "outputId": "27fd1fc1-0d7d-4294-a55a-e7e2767b4f04"
      },
      "source": [
        "df.isna().sum()"
      ],
      "execution_count": 32,
      "outputs": [
        {
          "output_type": "execute_result",
          "data": {
            "text/plain": [
              "Date          0\n",
              "Open*         0\n",
              "High          0\n",
              "Low           0\n",
              "Close**       0\n",
              "Volume        0\n",
              "Market Cap    0\n",
              "dtype: int64"
            ]
          },
          "metadata": {
            "tags": []
          },
          "execution_count": 32
        }
      ]
    },
    {
      "cell_type": "code",
      "metadata": {
        "colab": {
          "base_uri": "https://localhost:8080/",
          "height": 202
        },
        "id": "aD7_zk8gYMZh",
        "outputId": "925aad7a-10fd-42f7-9ee0-a343beb7d214"
      },
      "source": [
        "df.rename(columns={'Open*':'Open', 'Close**':'Close'}, inplace=True)\r\n",
        "df.head()"
      ],
      "execution_count": 36,
      "outputs": [
        {
          "output_type": "execute_result",
          "data": {
            "text/html": [
              "<div>\n",
              "<style scoped>\n",
              "    .dataframe tbody tr th:only-of-type {\n",
              "        vertical-align: middle;\n",
              "    }\n",
              "\n",
              "    .dataframe tbody tr th {\n",
              "        vertical-align: top;\n",
              "    }\n",
              "\n",
              "    .dataframe thead th {\n",
              "        text-align: right;\n",
              "    }\n",
              "</style>\n",
              "<table border=\"1\" class=\"dataframe\">\n",
              "  <thead>\n",
              "    <tr style=\"text-align: right;\">\n",
              "      <th></th>\n",
              "      <th>Date</th>\n",
              "      <th>Open</th>\n",
              "      <th>High</th>\n",
              "      <th>Low</th>\n",
              "      <th>Close</th>\n",
              "      <th>Volume</th>\n",
              "      <th>Market Cap</th>\n",
              "    </tr>\n",
              "  </thead>\n",
              "  <tbody>\n",
              "    <tr>\n",
              "      <th>0</th>\n",
              "      <td>Jan 14 2020</td>\n",
              "      <td>8140.93</td>\n",
              "      <td>8879.51</td>\n",
              "      <td>8140.93</td>\n",
              "      <td>8827.76</td>\n",
              "      <td>44841784107</td>\n",
              "      <td>160319484883</td>\n",
              "    </tr>\n",
              "    <tr>\n",
              "      <th>1</th>\n",
              "      <td>Jan 13 2020</td>\n",
              "      <td>8189.77</td>\n",
              "      <td>8197.79</td>\n",
              "      <td>8079.70</td>\n",
              "      <td>8144.19</td>\n",
              "      <td>22482910688</td>\n",
              "      <td>147890525973</td>\n",
              "    </tr>\n",
              "    <tr>\n",
              "      <th>2</th>\n",
              "      <td>Jan 12 2020</td>\n",
              "      <td>8033.26</td>\n",
              "      <td>8200.06</td>\n",
              "      <td>8009.06</td>\n",
              "      <td>8192.49</td>\n",
              "      <td>22903438381</td>\n",
              "      <td>148752956966</td>\n",
              "    </tr>\n",
              "    <tr>\n",
              "      <th>3</th>\n",
              "      <td>Jan 11 2020</td>\n",
              "      <td>8162.19</td>\n",
              "      <td>8218.36</td>\n",
              "      <td>8029.64</td>\n",
              "      <td>8037.54</td>\n",
              "      <td>25521165085</td>\n",
              "      <td>145924199942</td>\n",
              "    </tr>\n",
              "    <tr>\n",
              "      <th>4</th>\n",
              "      <td>Jan 10 2020</td>\n",
              "      <td>7878.31</td>\n",
              "      <td>8166.55</td>\n",
              "      <td>7726.77</td>\n",
              "      <td>8166.55</td>\n",
              "      <td>28714583844</td>\n",
              "      <td>148249907277</td>\n",
              "    </tr>\n",
              "  </tbody>\n",
              "</table>\n",
              "</div>"
            ],
            "text/plain": [
              "          Date     Open     High      Low    Close       Volume    Market Cap\n",
              "0  Jan 14 2020  8140.93  8879.51  8140.93  8827.76  44841784107  160319484883\n",
              "1  Jan 13 2020  8189.77  8197.79  8079.70  8144.19  22482910688  147890525973\n",
              "2  Jan 12 2020  8033.26  8200.06  8009.06  8192.49  22903438381  148752956966\n",
              "3  Jan 11 2020  8162.19  8218.36  8029.64  8037.54  25521165085  145924199942\n",
              "4  Jan 10 2020  7878.31  8166.55  7726.77  8166.55  28714583844  148249907277"
            ]
          },
          "metadata": {
            "tags": []
          },
          "execution_count": 36
        }
      ]
    },
    {
      "cell_type": "code",
      "metadata": {
        "id": "L65QttVUYUAg"
      },
      "source": [
        "#Création d'une fonction permettant de remplacer les espaces par un tirêt du 8\r\n",
        "def SansEspace (s):\r\n",
        "  return s.replace (' ', '_')"
      ],
      "execution_count": 37,
      "outputs": []
    },
    {
      "cell_type": "code",
      "metadata": {
        "colab": {
          "base_uri": "https://localhost:8080/",
          "height": 35
        },
        "id": "ojOlx-LklhJN",
        "outputId": "011c2a5d-0392-4c35-b00a-4f60e0ce0d93"
      },
      "source": [
        "#Essayer la fonction\r\n",
        "SansEspace('Barry Mohamed')"
      ],
      "execution_count": 39,
      "outputs": [
        {
          "output_type": "execute_result",
          "data": {
            "application/vnd.google.colaboratory.intrinsic+json": {
              "type": "string"
            },
            "text/plain": [
              "'Barry_Mohamed'"
            ]
          },
          "metadata": {
            "tags": []
          },
          "execution_count": 39
        }
      ]
    },
    {
      "cell_type": "code",
      "metadata": {
        "colab": {
          "base_uri": "https://localhost:8080/",
          "height": 999
        },
        "id": "xt6nGTO1lnr4",
        "outputId": "08c192d7-f01c-4452-c72c-9de8a295ebf4"
      },
      "source": [
        "#Appliquer sur le DataFrame\r\n",
        "df.rename(SansEspace,\r\n",
        "          axis='columns')"
      ],
      "execution_count": 40,
      "outputs": [
        {
          "output_type": "execute_result",
          "data": {
            "text/html": [
              "<div>\n",
              "<style scoped>\n",
              "    .dataframe tbody tr th:only-of-type {\n",
              "        vertical-align: middle;\n",
              "    }\n",
              "\n",
              "    .dataframe tbody tr th {\n",
              "        vertical-align: top;\n",
              "    }\n",
              "\n",
              "    .dataframe thead th {\n",
              "        text-align: right;\n",
              "    }\n",
              "</style>\n",
              "<table border=\"1\" class=\"dataframe\">\n",
              "  <thead>\n",
              "    <tr style=\"text-align: right;\">\n",
              "      <th></th>\n",
              "      <th>Date</th>\n",
              "      <th>Open</th>\n",
              "      <th>High</th>\n",
              "      <th>Low</th>\n",
              "      <th>Close</th>\n",
              "      <th>Volume</th>\n",
              "      <th>Market_Cap</th>\n",
              "    </tr>\n",
              "  </thead>\n",
              "  <tbody>\n",
              "    <tr>\n",
              "      <th>0</th>\n",
              "      <td>Jan 14 2020</td>\n",
              "      <td>8140.93</td>\n",
              "      <td>8879.51</td>\n",
              "      <td>8140.93</td>\n",
              "      <td>8827.76</td>\n",
              "      <td>44841784107</td>\n",
              "      <td>160319484883</td>\n",
              "    </tr>\n",
              "    <tr>\n",
              "      <th>1</th>\n",
              "      <td>Jan 13 2020</td>\n",
              "      <td>8189.77</td>\n",
              "      <td>8197.79</td>\n",
              "      <td>8079.70</td>\n",
              "      <td>8144.19</td>\n",
              "      <td>22482910688</td>\n",
              "      <td>147890525973</td>\n",
              "    </tr>\n",
              "    <tr>\n",
              "      <th>2</th>\n",
              "      <td>Jan 12 2020</td>\n",
              "      <td>8033.26</td>\n",
              "      <td>8200.06</td>\n",
              "      <td>8009.06</td>\n",
              "      <td>8192.49</td>\n",
              "      <td>22903438381</td>\n",
              "      <td>148752956966</td>\n",
              "    </tr>\n",
              "    <tr>\n",
              "      <th>3</th>\n",
              "      <td>Jan 11 2020</td>\n",
              "      <td>8162.19</td>\n",
              "      <td>8218.36</td>\n",
              "      <td>8029.64</td>\n",
              "      <td>8037.54</td>\n",
              "      <td>25521165085</td>\n",
              "      <td>145924199942</td>\n",
              "    </tr>\n",
              "    <tr>\n",
              "      <th>4</th>\n",
              "      <td>Jan 10 2020</td>\n",
              "      <td>7878.31</td>\n",
              "      <td>8166.55</td>\n",
              "      <td>7726.77</td>\n",
              "      <td>8166.55</td>\n",
              "      <td>28714583844</td>\n",
              "      <td>148249907277</td>\n",
              "    </tr>\n",
              "    <tr>\n",
              "      <th>5</th>\n",
              "      <td>Jan 09 2020</td>\n",
              "      <td>8082.30</td>\n",
              "      <td>8082.30</td>\n",
              "      <td>7842.40</td>\n",
              "      <td>7879.07</td>\n",
              "      <td>24045990466</td>\n",
              "      <td>143016572819</td>\n",
              "    </tr>\n",
              "    <tr>\n",
              "      <th>6</th>\n",
              "      <td>Jan 08 2020</td>\n",
              "      <td>8161.94</td>\n",
              "      <td>8396.74</td>\n",
              "      <td>7956.77</td>\n",
              "      <td>8079.86</td>\n",
              "      <td>31672559265</td>\n",
              "      <td>146645162431</td>\n",
              "    </tr>\n",
              "    <tr>\n",
              "      <th>7</th>\n",
              "      <td>Jan 07 2020</td>\n",
              "      <td>7768.68</td>\n",
              "      <td>8178.22</td>\n",
              "      <td>7768.23</td>\n",
              "      <td>8163.69</td>\n",
              "      <td>28767291327</td>\n",
              "      <td>148152237654</td>\n",
              "    </tr>\n",
              "    <tr>\n",
              "      <th>8</th>\n",
              "      <td>Jan 06 2020</td>\n",
              "      <td>7410.45</td>\n",
              "      <td>7781.87</td>\n",
              "      <td>7409.29</td>\n",
              "      <td>7769.22</td>\n",
              "      <td>23276261598</td>\n",
              "      <td>140976457304</td>\n",
              "    </tr>\n",
              "    <tr>\n",
              "      <th>9</th>\n",
              "      <td>Jan 05 2020</td>\n",
              "      <td>7410.45</td>\n",
              "      <td>7544.50</td>\n",
              "      <td>7400.54</td>\n",
              "      <td>7411.32</td>\n",
              "      <td>19725074095</td>\n",
              "      <td>134469548249</td>\n",
              "    </tr>\n",
              "    <tr>\n",
              "      <th>10</th>\n",
              "      <td>Jan 04 2020</td>\n",
              "      <td>7345.38</td>\n",
              "      <td>7427.39</td>\n",
              "      <td>7309.51</td>\n",
              "      <td>7410.66</td>\n",
              "      <td>18444271275</td>\n",
              "      <td>134442464030</td>\n",
              "    </tr>\n",
              "    <tr>\n",
              "      <th>11</th>\n",
              "      <td>Jan 03 2020</td>\n",
              "      <td>6984.43</td>\n",
              "      <td>7413.72</td>\n",
              "      <td>6915.00</td>\n",
              "      <td>7344.88</td>\n",
              "      <td>28111481032</td>\n",
              "      <td>133233444755</td>\n",
              "    </tr>\n",
              "    <tr>\n",
              "      <th>12</th>\n",
              "      <td>Jan 02 2020</td>\n",
              "      <td>7202.55</td>\n",
              "      <td>7212.16</td>\n",
              "      <td>6935.27</td>\n",
              "      <td>6985.47</td>\n",
              "      <td>20802083465</td>\n",
              "      <td>126699395235</td>\n",
              "    </tr>\n",
              "    <tr>\n",
              "      <th>13</th>\n",
              "      <td>Jan 01 2020</td>\n",
              "      <td>7194.89</td>\n",
              "      <td>7254.33</td>\n",
              "      <td>7174.94</td>\n",
              "      <td>7200.17</td>\n",
              "      <td>18565664997</td>\n",
              "      <td>130580829150</td>\n",
              "    </tr>\n",
              "    <tr>\n",
              "      <th>14</th>\n",
              "      <td>Dec 31 2019</td>\n",
              "      <td>7294.44</td>\n",
              "      <td>7335.29</td>\n",
              "      <td>7169.78</td>\n",
              "      <td>7193.60</td>\n",
              "      <td>21167946112</td>\n",
              "      <td>130446112598</td>\n",
              "    </tr>\n",
              "    <tr>\n",
              "      <th>15</th>\n",
              "      <td>Dec 30 2019</td>\n",
              "      <td>7420.27</td>\n",
              "      <td>7454.82</td>\n",
              "      <td>7276.31</td>\n",
              "      <td>7293.00</td>\n",
              "      <td>22874131672</td>\n",
              "      <td>132235128152</td>\n",
              "    </tr>\n",
              "    <tr>\n",
              "      <th>16</th>\n",
              "      <td>Dec 29 2019</td>\n",
              "      <td>7317.65</td>\n",
              "      <td>7513.95</td>\n",
              "      <td>7279.87</td>\n",
              "      <td>7422.65</td>\n",
              "      <td>22445257702</td>\n",
              "      <td>134570835775</td>\n",
              "    </tr>\n",
              "    <tr>\n",
              "      <th>17</th>\n",
              "      <td>Dec 28 2019</td>\n",
              "      <td>7289.03</td>\n",
              "      <td>7399.04</td>\n",
              "      <td>7286.91</td>\n",
              "      <td>7317.99</td>\n",
              "      <td>21365673026</td>\n",
              "      <td>132659059740</td>\n",
              "    </tr>\n",
              "    <tr>\n",
              "      <th>18</th>\n",
              "      <td>Dec 27 2019</td>\n",
              "      <td>7238.14</td>\n",
              "      <td>7363.53</td>\n",
              "      <td>7189.93</td>\n",
              "      <td>7290.09</td>\n",
              "      <td>22777360996</td>\n",
              "      <td>132139502950</td>\n",
              "    </tr>\n",
              "    <tr>\n",
              "      <th>19</th>\n",
              "      <td>Dec 26 2019</td>\n",
              "      <td>7274.80</td>\n",
              "      <td>7388.30</td>\n",
              "      <td>7200.39</td>\n",
              "      <td>7238.97</td>\n",
              "      <td>22787010034</td>\n",
              "      <td>131200030100</td>\n",
              "    </tr>\n",
              "    <tr>\n",
              "      <th>20</th>\n",
              "      <td>Dec 25 2019</td>\n",
              "      <td>7325.76</td>\n",
              "      <td>7357.02</td>\n",
              "      <td>7220.99</td>\n",
              "      <td>7275.16</td>\n",
              "      <td>21559505149</td>\n",
              "      <td>131840641292</td>\n",
              "    </tr>\n",
              "    <tr>\n",
              "      <th>21</th>\n",
              "      <td>Dec 24 2019</td>\n",
              "      <td>7354.39</td>\n",
              "      <td>7535.72</td>\n",
              "      <td>7269.53</td>\n",
              "      <td>7322.53</td>\n",
              "      <td>22991622105</td>\n",
              "      <td>132687583295</td>\n",
              "    </tr>\n",
              "    <tr>\n",
              "      <th>22</th>\n",
              "      <td>Dec 23 2019</td>\n",
              "      <td>7508.90</td>\n",
              "      <td>7656.18</td>\n",
              "      <td>7326.19</td>\n",
              "      <td>7355.63</td>\n",
              "      <td>27831788041</td>\n",
              "      <td>133275709111</td>\n",
              "    </tr>\n",
              "    <tr>\n",
              "      <th>23</th>\n",
              "      <td>Dec 22 2019</td>\n",
              "      <td>7191.19</td>\n",
              "      <td>7518.03</td>\n",
              "      <td>7167.18</td>\n",
              "      <td>7511.59</td>\n",
              "      <td>23134537956</td>\n",
              "      <td>136088022049</td>\n",
              "    </tr>\n",
              "    <tr>\n",
              "      <th>24</th>\n",
              "      <td>Dec 21 2019</td>\n",
              "      <td>7220.59</td>\n",
              "      <td>7223.23</td>\n",
              "      <td>7112.74</td>\n",
              "      <td>7191.16</td>\n",
              "      <td>19312552168</td>\n",
              "      <td>130267655889</td>\n",
              "    </tr>\n",
              "    <tr>\n",
              "      <th>25</th>\n",
              "      <td>Dec 20 2019</td>\n",
              "      <td>7208.64</td>\n",
              "      <td>7257.92</td>\n",
              "      <td>7086.12</td>\n",
              "      <td>7218.82</td>\n",
              "      <td>22633815180</td>\n",
              "      <td>130752796980</td>\n",
              "    </tr>\n",
              "    <tr>\n",
              "      <th>26</th>\n",
              "      <td>Dec 19 2019</td>\n",
              "      <td>7277.59</td>\n",
              "      <td>7346.60</td>\n",
              "      <td>7041.38</td>\n",
              "      <td>7202.84</td>\n",
              "      <td>25904604416</td>\n",
              "      <td>130445758713</td>\n",
              "    </tr>\n",
              "    <tr>\n",
              "      <th>27</th>\n",
              "      <td>Dec 18 2019</td>\n",
              "      <td>6647.70</td>\n",
              "      <td>7324.98</td>\n",
              "      <td>6540.05</td>\n",
              "      <td>7276.80</td>\n",
              "      <td>31836522778</td>\n",
              "      <td>131754969804</td>\n",
              "    </tr>\n",
              "    <tr>\n",
              "      <th>28</th>\n",
              "      <td>Dec 17 2019</td>\n",
              "      <td>6931.32</td>\n",
              "      <td>6964.07</td>\n",
              "      <td>6587.97</td>\n",
              "      <td>6640.52</td>\n",
              "      <td>22363804217</td>\n",
              "      <td>120234244809</td>\n",
              "    </tr>\n",
              "    <tr>\n",
              "      <th>29</th>\n",
              "      <td>Dec 16 2019</td>\n",
              "      <td>7153.66</td>\n",
              "      <td>7171.17</td>\n",
              "      <td>6903.68</td>\n",
              "      <td>6932.48</td>\n",
              "      <td>20213265950</td>\n",
              "      <td>125515586952</td>\n",
              "    </tr>\n",
              "    <tr>\n",
              "      <th>30</th>\n",
              "      <td>Dec 15 2019</td>\n",
              "      <td>7124.24</td>\n",
              "      <td>7181.08</td>\n",
              "      <td>6924.38</td>\n",
              "      <td>7152.30</td>\n",
              "      <td>16881129804</td>\n",
              "      <td>129481424648</td>\n",
              "    </tr>\n",
              "  </tbody>\n",
              "</table>\n",
              "</div>"
            ],
            "text/plain": [
              "           Date     Open     High      Low    Close       Volume    Market_Cap\n",
              "0   Jan 14 2020  8140.93  8879.51  8140.93  8827.76  44841784107  160319484883\n",
              "1   Jan 13 2020  8189.77  8197.79  8079.70  8144.19  22482910688  147890525973\n",
              "2   Jan 12 2020  8033.26  8200.06  8009.06  8192.49  22903438381  148752956966\n",
              "3   Jan 11 2020  8162.19  8218.36  8029.64  8037.54  25521165085  145924199942\n",
              "4   Jan 10 2020  7878.31  8166.55  7726.77  8166.55  28714583844  148249907277\n",
              "5   Jan 09 2020  8082.30  8082.30  7842.40  7879.07  24045990466  143016572819\n",
              "6   Jan 08 2020  8161.94  8396.74  7956.77  8079.86  31672559265  146645162431\n",
              "7   Jan 07 2020  7768.68  8178.22  7768.23  8163.69  28767291327  148152237654\n",
              "8   Jan 06 2020  7410.45  7781.87  7409.29  7769.22  23276261598  140976457304\n",
              "9   Jan 05 2020  7410.45  7544.50  7400.54  7411.32  19725074095  134469548249\n",
              "10  Jan 04 2020  7345.38  7427.39  7309.51  7410.66  18444271275  134442464030\n",
              "11  Jan 03 2020  6984.43  7413.72  6915.00  7344.88  28111481032  133233444755\n",
              "12  Jan 02 2020  7202.55  7212.16  6935.27  6985.47  20802083465  126699395235\n",
              "13  Jan 01 2020  7194.89  7254.33  7174.94  7200.17  18565664997  130580829150\n",
              "14  Dec 31 2019  7294.44  7335.29  7169.78  7193.60  21167946112  130446112598\n",
              "15  Dec 30 2019  7420.27  7454.82  7276.31  7293.00  22874131672  132235128152\n",
              "16  Dec 29 2019  7317.65  7513.95  7279.87  7422.65  22445257702  134570835775\n",
              "17  Dec 28 2019  7289.03  7399.04  7286.91  7317.99  21365673026  132659059740\n",
              "18  Dec 27 2019  7238.14  7363.53  7189.93  7290.09  22777360996  132139502950\n",
              "19  Dec 26 2019  7274.80  7388.30  7200.39  7238.97  22787010034  131200030100\n",
              "20  Dec 25 2019  7325.76  7357.02  7220.99  7275.16  21559505149  131840641292\n",
              "21  Dec 24 2019  7354.39  7535.72  7269.53  7322.53  22991622105  132687583295\n",
              "22  Dec 23 2019  7508.90  7656.18  7326.19  7355.63  27831788041  133275709111\n",
              "23  Dec 22 2019  7191.19  7518.03  7167.18  7511.59  23134537956  136088022049\n",
              "24  Dec 21 2019  7220.59  7223.23  7112.74  7191.16  19312552168  130267655889\n",
              "25  Dec 20 2019  7208.64  7257.92  7086.12  7218.82  22633815180  130752796980\n",
              "26  Dec 19 2019  7277.59  7346.60  7041.38  7202.84  25904604416  130445758713\n",
              "27  Dec 18 2019  6647.70  7324.98  6540.05  7276.80  31836522778  131754969804\n",
              "28  Dec 17 2019  6931.32  6964.07  6587.97  6640.52  22363804217  120234244809\n",
              "29  Dec 16 2019  7153.66  7171.17  6903.68  6932.48  20213265950  125515586952\n",
              "30  Dec 15 2019  7124.24  7181.08  6924.38  7152.30  16881129804  129481424648"
            ]
          },
          "metadata": {
            "tags": []
          },
          "execution_count": 40
        }
      ]
    },
    {
      "cell_type": "code",
      "metadata": {
        "colab": {
          "base_uri": "https://localhost:8080/",
          "height": 999
        },
        "id": "hAlxf8FMmeqW",
        "outputId": "1711f1c1-28ec-4fa9-aeaf-7eac7d0e3b72"
      },
      "source": [
        "df.drop('Volume',\r\n",
        "        axis='columns')"
      ],
      "execution_count": 41,
      "outputs": [
        {
          "output_type": "execute_result",
          "data": {
            "text/html": [
              "<div>\n",
              "<style scoped>\n",
              "    .dataframe tbody tr th:only-of-type {\n",
              "        vertical-align: middle;\n",
              "    }\n",
              "\n",
              "    .dataframe tbody tr th {\n",
              "        vertical-align: top;\n",
              "    }\n",
              "\n",
              "    .dataframe thead th {\n",
              "        text-align: right;\n",
              "    }\n",
              "</style>\n",
              "<table border=\"1\" class=\"dataframe\">\n",
              "  <thead>\n",
              "    <tr style=\"text-align: right;\">\n",
              "      <th></th>\n",
              "      <th>Date</th>\n",
              "      <th>Open</th>\n",
              "      <th>High</th>\n",
              "      <th>Low</th>\n",
              "      <th>Close</th>\n",
              "      <th>Market Cap</th>\n",
              "    </tr>\n",
              "  </thead>\n",
              "  <tbody>\n",
              "    <tr>\n",
              "      <th>0</th>\n",
              "      <td>Jan 14 2020</td>\n",
              "      <td>8140.93</td>\n",
              "      <td>8879.51</td>\n",
              "      <td>8140.93</td>\n",
              "      <td>8827.76</td>\n",
              "      <td>160319484883</td>\n",
              "    </tr>\n",
              "    <tr>\n",
              "      <th>1</th>\n",
              "      <td>Jan 13 2020</td>\n",
              "      <td>8189.77</td>\n",
              "      <td>8197.79</td>\n",
              "      <td>8079.70</td>\n",
              "      <td>8144.19</td>\n",
              "      <td>147890525973</td>\n",
              "    </tr>\n",
              "    <tr>\n",
              "      <th>2</th>\n",
              "      <td>Jan 12 2020</td>\n",
              "      <td>8033.26</td>\n",
              "      <td>8200.06</td>\n",
              "      <td>8009.06</td>\n",
              "      <td>8192.49</td>\n",
              "      <td>148752956966</td>\n",
              "    </tr>\n",
              "    <tr>\n",
              "      <th>3</th>\n",
              "      <td>Jan 11 2020</td>\n",
              "      <td>8162.19</td>\n",
              "      <td>8218.36</td>\n",
              "      <td>8029.64</td>\n",
              "      <td>8037.54</td>\n",
              "      <td>145924199942</td>\n",
              "    </tr>\n",
              "    <tr>\n",
              "      <th>4</th>\n",
              "      <td>Jan 10 2020</td>\n",
              "      <td>7878.31</td>\n",
              "      <td>8166.55</td>\n",
              "      <td>7726.77</td>\n",
              "      <td>8166.55</td>\n",
              "      <td>148249907277</td>\n",
              "    </tr>\n",
              "    <tr>\n",
              "      <th>5</th>\n",
              "      <td>Jan 09 2020</td>\n",
              "      <td>8082.30</td>\n",
              "      <td>8082.30</td>\n",
              "      <td>7842.40</td>\n",
              "      <td>7879.07</td>\n",
              "      <td>143016572819</td>\n",
              "    </tr>\n",
              "    <tr>\n",
              "      <th>6</th>\n",
              "      <td>Jan 08 2020</td>\n",
              "      <td>8161.94</td>\n",
              "      <td>8396.74</td>\n",
              "      <td>7956.77</td>\n",
              "      <td>8079.86</td>\n",
              "      <td>146645162431</td>\n",
              "    </tr>\n",
              "    <tr>\n",
              "      <th>7</th>\n",
              "      <td>Jan 07 2020</td>\n",
              "      <td>7768.68</td>\n",
              "      <td>8178.22</td>\n",
              "      <td>7768.23</td>\n",
              "      <td>8163.69</td>\n",
              "      <td>148152237654</td>\n",
              "    </tr>\n",
              "    <tr>\n",
              "      <th>8</th>\n",
              "      <td>Jan 06 2020</td>\n",
              "      <td>7410.45</td>\n",
              "      <td>7781.87</td>\n",
              "      <td>7409.29</td>\n",
              "      <td>7769.22</td>\n",
              "      <td>140976457304</td>\n",
              "    </tr>\n",
              "    <tr>\n",
              "      <th>9</th>\n",
              "      <td>Jan 05 2020</td>\n",
              "      <td>7410.45</td>\n",
              "      <td>7544.50</td>\n",
              "      <td>7400.54</td>\n",
              "      <td>7411.32</td>\n",
              "      <td>134469548249</td>\n",
              "    </tr>\n",
              "    <tr>\n",
              "      <th>10</th>\n",
              "      <td>Jan 04 2020</td>\n",
              "      <td>7345.38</td>\n",
              "      <td>7427.39</td>\n",
              "      <td>7309.51</td>\n",
              "      <td>7410.66</td>\n",
              "      <td>134442464030</td>\n",
              "    </tr>\n",
              "    <tr>\n",
              "      <th>11</th>\n",
              "      <td>Jan 03 2020</td>\n",
              "      <td>6984.43</td>\n",
              "      <td>7413.72</td>\n",
              "      <td>6915.00</td>\n",
              "      <td>7344.88</td>\n",
              "      <td>133233444755</td>\n",
              "    </tr>\n",
              "    <tr>\n",
              "      <th>12</th>\n",
              "      <td>Jan 02 2020</td>\n",
              "      <td>7202.55</td>\n",
              "      <td>7212.16</td>\n",
              "      <td>6935.27</td>\n",
              "      <td>6985.47</td>\n",
              "      <td>126699395235</td>\n",
              "    </tr>\n",
              "    <tr>\n",
              "      <th>13</th>\n",
              "      <td>Jan 01 2020</td>\n",
              "      <td>7194.89</td>\n",
              "      <td>7254.33</td>\n",
              "      <td>7174.94</td>\n",
              "      <td>7200.17</td>\n",
              "      <td>130580829150</td>\n",
              "    </tr>\n",
              "    <tr>\n",
              "      <th>14</th>\n",
              "      <td>Dec 31 2019</td>\n",
              "      <td>7294.44</td>\n",
              "      <td>7335.29</td>\n",
              "      <td>7169.78</td>\n",
              "      <td>7193.60</td>\n",
              "      <td>130446112598</td>\n",
              "    </tr>\n",
              "    <tr>\n",
              "      <th>15</th>\n",
              "      <td>Dec 30 2019</td>\n",
              "      <td>7420.27</td>\n",
              "      <td>7454.82</td>\n",
              "      <td>7276.31</td>\n",
              "      <td>7293.00</td>\n",
              "      <td>132235128152</td>\n",
              "    </tr>\n",
              "    <tr>\n",
              "      <th>16</th>\n",
              "      <td>Dec 29 2019</td>\n",
              "      <td>7317.65</td>\n",
              "      <td>7513.95</td>\n",
              "      <td>7279.87</td>\n",
              "      <td>7422.65</td>\n",
              "      <td>134570835775</td>\n",
              "    </tr>\n",
              "    <tr>\n",
              "      <th>17</th>\n",
              "      <td>Dec 28 2019</td>\n",
              "      <td>7289.03</td>\n",
              "      <td>7399.04</td>\n",
              "      <td>7286.91</td>\n",
              "      <td>7317.99</td>\n",
              "      <td>132659059740</td>\n",
              "    </tr>\n",
              "    <tr>\n",
              "      <th>18</th>\n",
              "      <td>Dec 27 2019</td>\n",
              "      <td>7238.14</td>\n",
              "      <td>7363.53</td>\n",
              "      <td>7189.93</td>\n",
              "      <td>7290.09</td>\n",
              "      <td>132139502950</td>\n",
              "    </tr>\n",
              "    <tr>\n",
              "      <th>19</th>\n",
              "      <td>Dec 26 2019</td>\n",
              "      <td>7274.80</td>\n",
              "      <td>7388.30</td>\n",
              "      <td>7200.39</td>\n",
              "      <td>7238.97</td>\n",
              "      <td>131200030100</td>\n",
              "    </tr>\n",
              "    <tr>\n",
              "      <th>20</th>\n",
              "      <td>Dec 25 2019</td>\n",
              "      <td>7325.76</td>\n",
              "      <td>7357.02</td>\n",
              "      <td>7220.99</td>\n",
              "      <td>7275.16</td>\n",
              "      <td>131840641292</td>\n",
              "    </tr>\n",
              "    <tr>\n",
              "      <th>21</th>\n",
              "      <td>Dec 24 2019</td>\n",
              "      <td>7354.39</td>\n",
              "      <td>7535.72</td>\n",
              "      <td>7269.53</td>\n",
              "      <td>7322.53</td>\n",
              "      <td>132687583295</td>\n",
              "    </tr>\n",
              "    <tr>\n",
              "      <th>22</th>\n",
              "      <td>Dec 23 2019</td>\n",
              "      <td>7508.90</td>\n",
              "      <td>7656.18</td>\n",
              "      <td>7326.19</td>\n",
              "      <td>7355.63</td>\n",
              "      <td>133275709111</td>\n",
              "    </tr>\n",
              "    <tr>\n",
              "      <th>23</th>\n",
              "      <td>Dec 22 2019</td>\n",
              "      <td>7191.19</td>\n",
              "      <td>7518.03</td>\n",
              "      <td>7167.18</td>\n",
              "      <td>7511.59</td>\n",
              "      <td>136088022049</td>\n",
              "    </tr>\n",
              "    <tr>\n",
              "      <th>24</th>\n",
              "      <td>Dec 21 2019</td>\n",
              "      <td>7220.59</td>\n",
              "      <td>7223.23</td>\n",
              "      <td>7112.74</td>\n",
              "      <td>7191.16</td>\n",
              "      <td>130267655889</td>\n",
              "    </tr>\n",
              "    <tr>\n",
              "      <th>25</th>\n",
              "      <td>Dec 20 2019</td>\n",
              "      <td>7208.64</td>\n",
              "      <td>7257.92</td>\n",
              "      <td>7086.12</td>\n",
              "      <td>7218.82</td>\n",
              "      <td>130752796980</td>\n",
              "    </tr>\n",
              "    <tr>\n",
              "      <th>26</th>\n",
              "      <td>Dec 19 2019</td>\n",
              "      <td>7277.59</td>\n",
              "      <td>7346.60</td>\n",
              "      <td>7041.38</td>\n",
              "      <td>7202.84</td>\n",
              "      <td>130445758713</td>\n",
              "    </tr>\n",
              "    <tr>\n",
              "      <th>27</th>\n",
              "      <td>Dec 18 2019</td>\n",
              "      <td>6647.70</td>\n",
              "      <td>7324.98</td>\n",
              "      <td>6540.05</td>\n",
              "      <td>7276.80</td>\n",
              "      <td>131754969804</td>\n",
              "    </tr>\n",
              "    <tr>\n",
              "      <th>28</th>\n",
              "      <td>Dec 17 2019</td>\n",
              "      <td>6931.32</td>\n",
              "      <td>6964.07</td>\n",
              "      <td>6587.97</td>\n",
              "      <td>6640.52</td>\n",
              "      <td>120234244809</td>\n",
              "    </tr>\n",
              "    <tr>\n",
              "      <th>29</th>\n",
              "      <td>Dec 16 2019</td>\n",
              "      <td>7153.66</td>\n",
              "      <td>7171.17</td>\n",
              "      <td>6903.68</td>\n",
              "      <td>6932.48</td>\n",
              "      <td>125515586952</td>\n",
              "    </tr>\n",
              "    <tr>\n",
              "      <th>30</th>\n",
              "      <td>Dec 15 2019</td>\n",
              "      <td>7124.24</td>\n",
              "      <td>7181.08</td>\n",
              "      <td>6924.38</td>\n",
              "      <td>7152.30</td>\n",
              "      <td>129481424648</td>\n",
              "    </tr>\n",
              "  </tbody>\n",
              "</table>\n",
              "</div>"
            ],
            "text/plain": [
              "           Date     Open     High      Low    Close    Market Cap\n",
              "0   Jan 14 2020  8140.93  8879.51  8140.93  8827.76  160319484883\n",
              "1   Jan 13 2020  8189.77  8197.79  8079.70  8144.19  147890525973\n",
              "2   Jan 12 2020  8033.26  8200.06  8009.06  8192.49  148752956966\n",
              "3   Jan 11 2020  8162.19  8218.36  8029.64  8037.54  145924199942\n",
              "4   Jan 10 2020  7878.31  8166.55  7726.77  8166.55  148249907277\n",
              "5   Jan 09 2020  8082.30  8082.30  7842.40  7879.07  143016572819\n",
              "6   Jan 08 2020  8161.94  8396.74  7956.77  8079.86  146645162431\n",
              "7   Jan 07 2020  7768.68  8178.22  7768.23  8163.69  148152237654\n",
              "8   Jan 06 2020  7410.45  7781.87  7409.29  7769.22  140976457304\n",
              "9   Jan 05 2020  7410.45  7544.50  7400.54  7411.32  134469548249\n",
              "10  Jan 04 2020  7345.38  7427.39  7309.51  7410.66  134442464030\n",
              "11  Jan 03 2020  6984.43  7413.72  6915.00  7344.88  133233444755\n",
              "12  Jan 02 2020  7202.55  7212.16  6935.27  6985.47  126699395235\n",
              "13  Jan 01 2020  7194.89  7254.33  7174.94  7200.17  130580829150\n",
              "14  Dec 31 2019  7294.44  7335.29  7169.78  7193.60  130446112598\n",
              "15  Dec 30 2019  7420.27  7454.82  7276.31  7293.00  132235128152\n",
              "16  Dec 29 2019  7317.65  7513.95  7279.87  7422.65  134570835775\n",
              "17  Dec 28 2019  7289.03  7399.04  7286.91  7317.99  132659059740\n",
              "18  Dec 27 2019  7238.14  7363.53  7189.93  7290.09  132139502950\n",
              "19  Dec 26 2019  7274.80  7388.30  7200.39  7238.97  131200030100\n",
              "20  Dec 25 2019  7325.76  7357.02  7220.99  7275.16  131840641292\n",
              "21  Dec 24 2019  7354.39  7535.72  7269.53  7322.53  132687583295\n",
              "22  Dec 23 2019  7508.90  7656.18  7326.19  7355.63  133275709111\n",
              "23  Dec 22 2019  7191.19  7518.03  7167.18  7511.59  136088022049\n",
              "24  Dec 21 2019  7220.59  7223.23  7112.74  7191.16  130267655889\n",
              "25  Dec 20 2019  7208.64  7257.92  7086.12  7218.82  130752796980\n",
              "26  Dec 19 2019  7277.59  7346.60  7041.38  7202.84  130445758713\n",
              "27  Dec 18 2019  6647.70  7324.98  6540.05  7276.80  131754969804\n",
              "28  Dec 17 2019  6931.32  6964.07  6587.97  6640.52  120234244809\n",
              "29  Dec 16 2019  7153.66  7171.17  6903.68  6932.48  125515586952\n",
              "30  Dec 15 2019  7124.24  7181.08  6924.38  7152.30  129481424648"
            ]
          },
          "metadata": {
            "tags": []
          },
          "execution_count": 41
        }
      ]
    },
    {
      "cell_type": "code",
      "metadata": {
        "id": "c9Na9TaAolPN"
      },
      "source": [
        "#df.drop_duplicates\r\n",
        "#df.dropna\r\n",
        "#df.rename(str.lower, axis='columns')\r\n",
        "#df_copy=df.copy(deep=True)"
      ],
      "execution_count": 2,
      "outputs": []
    },
    {
      "cell_type": "code",
      "metadata": {
        "colab": {
          "base_uri": "https://localhost:8080/"
        },
        "id": "GRw-X_yQU31Q",
        "outputId": "3de7663f-de33-40b0-e230-9ee4a196bc5f"
      },
      "source": [
        "fp='https://bit.ly/bitcoin-purchases'\r\n",
        "print(fp)"
      ],
      "execution_count": 3,
      "outputs": [
        {
          "output_type": "stream",
          "text": [
            "https://bit.ly/bitcoin-purchases\n"
          ],
          "name": "stdout"
        }
      ]
    },
    {
      "cell_type": "code",
      "metadata": {
        "colab": {
          "base_uri": "https://localhost:8080/",
          "height": 202
        },
        "id": "GbcmHnrdVGZ0",
        "outputId": "de801f73-fb22-47b0-9d81-e146fdcec53c"
      },
      "source": [
        "df=pd.read_csv(fp)\r\n",
        "df.head()"
      ],
      "execution_count": 4,
      "outputs": [
        {
          "output_type": "execute_result",
          "data": {
            "text/html": [
              "<div>\n",
              "<style scoped>\n",
              "    .dataframe tbody tr th:only-of-type {\n",
              "        vertical-align: middle;\n",
              "    }\n",
              "\n",
              "    .dataframe tbody tr th {\n",
              "        vertical-align: top;\n",
              "    }\n",
              "\n",
              "    .dataframe thead th {\n",
              "        text-align: right;\n",
              "    }\n",
              "</style>\n",
              "<table border=\"1\" class=\"dataframe\">\n",
              "  <thead>\n",
              "    <tr style=\"text-align: right;\">\n",
              "      <th></th>\n",
              "      <th>bitcoin address</th>\n",
              "      <th>wire amount</th>\n",
              "      <th>credit card</th>\n",
              "    </tr>\n",
              "  </thead>\n",
              "  <tbody>\n",
              "    <tr>\n",
              "      <th>0</th>\n",
              "      <td>1HeUNvQfhjn8afvjMrMEX5VQB5zy8AacXZ</td>\n",
              "      <td>$2268.82</td>\n",
              "      <td>6759241310493014168</td>\n",
              "    </tr>\n",
              "    <tr>\n",
              "      <th>1</th>\n",
              "      <td>18xA8uEzQsEQpyfJWrrLmnu72ut7p2GgeU</td>\n",
              "      <td>$4590.27</td>\n",
              "      <td>6394078189900621</td>\n",
              "    </tr>\n",
              "    <tr>\n",
              "      <th>2</th>\n",
              "      <td>1CPLebXd6VKdEmD6xsVByYDbsyhkZ4XzrE</td>\n",
              "      <td>$6160.48</td>\n",
              "      <td>3539006321388994</td>\n",
              "    </tr>\n",
              "    <tr>\n",
              "      <th>3</th>\n",
              "      <td>1ESn9zPPwAExS98jqhjkDPd7tGeoevL42u</td>\n",
              "      <td>$6647.19</td>\n",
              "      <td>3560801557252993</td>\n",
              "    </tr>\n",
              "    <tr>\n",
              "      <th>4</th>\n",
              "      <td>1JLYsDExCUsEPrN6vNsEgJubJE4xqWtqhp</td>\n",
              "      <td>$3759.40</td>\n",
              "      <td>5349906235596126</td>\n",
              "    </tr>\n",
              "  </tbody>\n",
              "</table>\n",
              "</div>"
            ],
            "text/plain": [
              "                      bitcoin address wire amount          credit card\n",
              "0  1HeUNvQfhjn8afvjMrMEX5VQB5zy8AacXZ    $2268.82  6759241310493014168\n",
              "1  18xA8uEzQsEQpyfJWrrLmnu72ut7p2GgeU    $4590.27     6394078189900621\n",
              "2  1CPLebXd6VKdEmD6xsVByYDbsyhkZ4XzrE    $6160.48     3539006321388994\n",
              "3  1ESn9zPPwAExS98jqhjkDPd7tGeoevL42u    $6647.19     3560801557252993\n",
              "4  1JLYsDExCUsEPrN6vNsEgJubJE4xqWtqhp    $3759.40     5349906235596126"
            ]
          },
          "metadata": {
            "tags": []
          },
          "execution_count": 4
        }
      ]
    },
    {
      "cell_type": "code",
      "metadata": {
        "colab": {
          "base_uri": "https://localhost:8080/"
        },
        "id": "XehOtB7gVjLW",
        "outputId": "348520f8-0e73-41a2-f5a4-7cb0ddd12bdb"
      },
      "source": [
        "df.shape"
      ],
      "execution_count": 5,
      "outputs": [
        {
          "output_type": "execute_result",
          "data": {
            "text/plain": [
              "(1000, 3)"
            ]
          },
          "metadata": {
            "tags": []
          },
          "execution_count": 5
        }
      ]
    },
    {
      "cell_type": "code",
      "metadata": {
        "colab": {
          "base_uri": "https://localhost:8080/"
        },
        "id": "xCJ666gXVp2L",
        "outputId": "61dacbca-572b-4667-b6ca-0f385a6a6172"
      },
      "source": [
        "df.dtypes"
      ],
      "execution_count": 6,
      "outputs": [
        {
          "output_type": "execute_result",
          "data": {
            "text/plain": [
              "bitcoin address    object\n",
              "wire amount        object\n",
              "credit card         int64\n",
              "dtype: object"
            ]
          },
          "metadata": {
            "tags": []
          },
          "execution_count": 6
        }
      ]
    },
    {
      "cell_type": "code",
      "metadata": {
        "colab": {
          "base_uri": "https://localhost:8080/"
        },
        "id": "HUkcoO55Vs9m",
        "outputId": "b533b0c7-3e72-40c4-e1e9-a917681b1bc6"
      },
      "source": [
        "#Suppression du sigle dollar\r\n",
        "df['wire amount'].str.replace('$','')"
      ],
      "execution_count": 7,
      "outputs": [
        {
          "output_type": "execute_result",
          "data": {
            "text/plain": [
              "0      2268.82\n",
              "1      4590.27\n",
              "2      6160.48\n",
              "3      6647.19\n",
              "4      3759.40\n",
              "        ...   \n",
              "995    8777.99\n",
              "996    7614.59\n",
              "997    1710.21\n",
              "998    5240.64\n",
              "999    5672.95\n",
              "Name: wire amount, Length: 1000, dtype: object"
            ]
          },
          "metadata": {
            "tags": []
          },
          "execution_count": 7
        }
      ]
    },
    {
      "cell_type": "code",
      "metadata": {
        "colab": {
          "base_uri": "https://localhost:8080/"
        },
        "id": "JIU0J8EWXkng",
        "outputId": "0a0c7ee8-9e8b-4cf7-c27f-2bd41630d6b3"
      },
      "source": [
        "df['wire amount'].str.replace('$','').astype(float)"
      ],
      "execution_count": 8,
      "outputs": [
        {
          "output_type": "execute_result",
          "data": {
            "text/plain": [
              "0      2268.82\n",
              "1      4590.27\n",
              "2      6160.48\n",
              "3      6647.19\n",
              "4      3759.40\n",
              "        ...   \n",
              "995    8777.99\n",
              "996    7614.59\n",
              "997    1710.21\n",
              "998    5240.64\n",
              "999    5672.95\n",
              "Name: wire amount, Length: 1000, dtype: float64"
            ]
          },
          "metadata": {
            "tags": []
          },
          "execution_count": 8
        }
      ]
    },
    {
      "cell_type": "code",
      "metadata": {
        "id": "f_TmHX5-XzxG"
      },
      "source": [
        "df['wire amount']=df['wire amount'].str.replace('$','').astype(float)"
      ],
      "execution_count": 9,
      "outputs": []
    },
    {
      "cell_type": "code",
      "metadata": {
        "colab": {
          "base_uri": "https://localhost:8080/"
        },
        "id": "_Zcqdw_CX5xV",
        "outputId": "19ddddb5-c6e1-45d4-c714-fed40534e7d6"
      },
      "source": [
        "df.dtypes"
      ],
      "execution_count": 10,
      "outputs": [
        {
          "output_type": "execute_result",
          "data": {
            "text/plain": [
              "bitcoin address     object\n",
              "wire amount        float64\n",
              "credit card          int64\n",
              "dtype: object"
            ]
          },
          "metadata": {
            "tags": []
          },
          "execution_count": 10
        }
      ]
    },
    {
      "cell_type": "code",
      "metadata": {
        "colab": {
          "base_uri": "https://localhost:8080/"
        },
        "id": "jELNh6DiYAhZ",
        "outputId": "f5ea3427-58be-4948-c431-ddf7381ece58"
      },
      "source": [
        "fp='https://bit.ly/bitcoin-purchases2'\r\n",
        "print(fp)"
      ],
      "execution_count": 11,
      "outputs": [
        {
          "output_type": "stream",
          "text": [
            "https://bit.ly/bitcoin-purchases2\n"
          ],
          "name": "stdout"
        }
      ]
    },
    {
      "cell_type": "code",
      "metadata": {
        "colab": {
          "base_uri": "https://localhost:8080/",
          "height": 202
        },
        "id": "OPdK-Z_8aF4b",
        "outputId": "d650c4c6-ec75-4952-dab9-3e232e4ae5c9"
      },
      "source": [
        "df=pd.read_csv(fp)\r\n",
        "df.head()"
      ],
      "execution_count": 12,
      "outputs": [
        {
          "output_type": "execute_result",
          "data": {
            "text/html": [
              "<div>\n",
              "<style scoped>\n",
              "    .dataframe tbody tr th:only-of-type {\n",
              "        vertical-align: middle;\n",
              "    }\n",
              "\n",
              "    .dataframe tbody tr th {\n",
              "        vertical-align: top;\n",
              "    }\n",
              "\n",
              "    .dataframe thead th {\n",
              "        text-align: right;\n",
              "    }\n",
              "</style>\n",
              "<table border=\"1\" class=\"dataframe\">\n",
              "  <thead>\n",
              "    <tr style=\"text-align: right;\">\n",
              "      <th></th>\n",
              "      <th>bitcoin address</th>\n",
              "      <th>wire amount</th>\n",
              "      <th>credit card</th>\n",
              "    </tr>\n",
              "  </thead>\n",
              "  <tbody>\n",
              "    <tr>\n",
              "      <th>0</th>\n",
              "      <td>1J9DVMtgvnPv4KGHL2XSzoTSt5cBBL1DXe</td>\n",
              "      <td>£8356.92</td>\n",
              "      <td>3543456448666398</td>\n",
              "    </tr>\n",
              "    <tr>\n",
              "      <th>1</th>\n",
              "      <td>1HaiVQbzCTs7t1K1fckYEUi9t8ERBFRR7Q</td>\n",
              "      <td>€311,06</td>\n",
              "      <td>3584615208479876</td>\n",
              "    </tr>\n",
              "    <tr>\n",
              "      <th>2</th>\n",
              "      <td>1NGPjXfDScEUSZYajAzCkxaVApTbBHC7jP</td>\n",
              "      <td>€2032,44</td>\n",
              "      <td>6370577480710876</td>\n",
              "    </tr>\n",
              "    <tr>\n",
              "      <th>3</th>\n",
              "      <td>15cSYRTbcrxYinxNxk7VbkPLZG8nypdjy6</td>\n",
              "      <td>¥8155.74</td>\n",
              "      <td>4508652385157398</td>\n",
              "    </tr>\n",
              "    <tr>\n",
              "      <th>4</th>\n",
              "      <td>18j2qG1DH9YduJiBiccAq8Ak897G3E4JyZ</td>\n",
              "      <td>£3265.44</td>\n",
              "      <td>374622922103592</td>\n",
              "    </tr>\n",
              "  </tbody>\n",
              "</table>\n",
              "</div>"
            ],
            "text/plain": [
              "                      bitcoin address wire amount       credit card\n",
              "0  1J9DVMtgvnPv4KGHL2XSzoTSt5cBBL1DXe    £8356.92  3543456448666398\n",
              "1  1HaiVQbzCTs7t1K1fckYEUi9t8ERBFRR7Q     €311,06  3584615208479876\n",
              "2  1NGPjXfDScEUSZYajAzCkxaVApTbBHC7jP    €2032,44  6370577480710876\n",
              "3  15cSYRTbcrxYinxNxk7VbkPLZG8nypdjy6    ¥8155.74  4508652385157398\n",
              "4  18j2qG1DH9YduJiBiccAq8Ak897G3E4JyZ    £3265.44   374622922103592"
            ]
          },
          "metadata": {
            "tags": []
          },
          "execution_count": 12
        }
      ]
    },
    {
      "cell_type": "code",
      "metadata": {
        "colab": {
          "base_uri": "https://localhost:8080/",
          "height": 202
        },
        "id": "WpPoOkBZaVMn",
        "outputId": "d87a4af1-550e-4af0-b24a-3a863a6c63e1"
      },
      "source": [
        "df.tail()"
      ],
      "execution_count": 14,
      "outputs": [
        {
          "output_type": "execute_result",
          "data": {
            "text/html": [
              "<div>\n",
              "<style scoped>\n",
              "    .dataframe tbody tr th:only-of-type {\n",
              "        vertical-align: middle;\n",
              "    }\n",
              "\n",
              "    .dataframe tbody tr th {\n",
              "        vertical-align: top;\n",
              "    }\n",
              "\n",
              "    .dataframe thead th {\n",
              "        text-align: right;\n",
              "    }\n",
              "</style>\n",
              "<table border=\"1\" class=\"dataframe\">\n",
              "  <thead>\n",
              "    <tr style=\"text-align: right;\">\n",
              "      <th></th>\n",
              "      <th>bitcoin address</th>\n",
              "      <th>wire amount</th>\n",
              "      <th>credit card</th>\n",
              "    </tr>\n",
              "  </thead>\n",
              "  <tbody>\n",
              "    <tr>\n",
              "      <th>995</th>\n",
              "      <td>1Jmz4FMQENDkrtkivVdXM8SiC6ZCJVTDhp</td>\n",
              "      <td>¥844.68</td>\n",
              "      <td>5541649583285688</td>\n",
              "    </tr>\n",
              "    <tr>\n",
              "      <th>996</th>\n",
              "      <td>1GCZKgPV9277czn1RsTYoubCwhbndUvPZU</td>\n",
              "      <td>€1433,63</td>\n",
              "      <td>6304232254235660027</td>\n",
              "    </tr>\n",
              "    <tr>\n",
              "      <th>997</th>\n",
              "      <td>1LK2DsWBUmSAsqg7n46sdgg4v2SNrqEPM</td>\n",
              "      <td>€3814,11</td>\n",
              "      <td>3546750658508135</td>\n",
              "    </tr>\n",
              "    <tr>\n",
              "      <th>998</th>\n",
              "      <td>1PD6oNfFEnxMsR1PvUvkjHQdHYLCewLJhq</td>\n",
              "      <td>$2900.85</td>\n",
              "      <td>6333272716093574938</td>\n",
              "    </tr>\n",
              "    <tr>\n",
              "      <th>999</th>\n",
              "      <td>1B2vk6p7usuV4dfrBMLo8Rzpb5NatTmE8R</td>\n",
              "      <td>$1587.16</td>\n",
              "      <td>4913614335644981</td>\n",
              "    </tr>\n",
              "  </tbody>\n",
              "</table>\n",
              "</div>"
            ],
            "text/plain": [
              "                        bitcoin address wire amount          credit card\n",
              "995  1Jmz4FMQENDkrtkivVdXM8SiC6ZCJVTDhp     ¥844.68     5541649583285688\n",
              "996  1GCZKgPV9277czn1RsTYoubCwhbndUvPZU    €1433,63  6304232254235660027\n",
              "997   1LK2DsWBUmSAsqg7n46sdgg4v2SNrqEPM    €3814,11     3546750658508135\n",
              "998  1PD6oNfFEnxMsR1PvUvkjHQdHYLCewLJhq    $2900.85  6333272716093574938\n",
              "999  1B2vk6p7usuV4dfrBMLo8Rzpb5NatTmE8R    $1587.16     4913614335644981"
            ]
          },
          "metadata": {
            "tags": []
          },
          "execution_count": 14
        }
      ]
    },
    {
      "cell_type": "code",
      "metadata": {
        "id": "G4ISm2htaas6"
      },
      "source": [
        "#Remplacer les virgules par des points\r\n",
        "df['wire amount']=df['wire amount'].str.replace(',','.')"
      ],
      "execution_count": 18,
      "outputs": []
    },
    {
      "cell_type": "code",
      "metadata": {
        "colab": {
          "base_uri": "https://localhost:8080/"
        },
        "id": "6dEKiWqIaiOy",
        "outputId": "b4ff993a-b570-4e6d-bb84-4fcef6a84fb3"
      },
      "source": [
        "#Supression du symbole de la devise dans la colonne wire amount \r\n",
        "df['wire amount'].str.slice(1)"
      ],
      "execution_count": 17,
      "outputs": [
        {
          "output_type": "execute_result",
          "data": {
            "text/plain": [
              "0      8356.92\n",
              "1       311,06\n",
              "2      2032,44\n",
              "3      8155.74\n",
              "4      3265.44\n",
              "        ...   \n",
              "995     844.68\n",
              "996    1433,63\n",
              "997    3814,11\n",
              "998    2900.85\n",
              "999    1587.16\n",
              "Name: wire amount, Length: 1000, dtype: object"
            ]
          },
          "metadata": {
            "tags": []
          },
          "execution_count": 17
        }
      ]
    },
    {
      "cell_type": "code",
      "metadata": {
        "colab": {
          "base_uri": "https://localhost:8080/",
          "height": 202
        },
        "id": "O9eZgrSUfHrz",
        "outputId": "d0fbbb2c-118a-497c-d0fe-9449769a716f"
      },
      "source": [
        "df.head()"
      ],
      "execution_count": 19,
      "outputs": [
        {
          "output_type": "execute_result",
          "data": {
            "text/html": [
              "<div>\n",
              "<style scoped>\n",
              "    .dataframe tbody tr th:only-of-type {\n",
              "        vertical-align: middle;\n",
              "    }\n",
              "\n",
              "    .dataframe tbody tr th {\n",
              "        vertical-align: top;\n",
              "    }\n",
              "\n",
              "    .dataframe thead th {\n",
              "        text-align: right;\n",
              "    }\n",
              "</style>\n",
              "<table border=\"1\" class=\"dataframe\">\n",
              "  <thead>\n",
              "    <tr style=\"text-align: right;\">\n",
              "      <th></th>\n",
              "      <th>bitcoin address</th>\n",
              "      <th>wire amount</th>\n",
              "      <th>credit card</th>\n",
              "    </tr>\n",
              "  </thead>\n",
              "  <tbody>\n",
              "    <tr>\n",
              "      <th>0</th>\n",
              "      <td>1J9DVMtgvnPv4KGHL2XSzoTSt5cBBL1DXe</td>\n",
              "      <td>£8356.92</td>\n",
              "      <td>3543456448666398</td>\n",
              "    </tr>\n",
              "    <tr>\n",
              "      <th>1</th>\n",
              "      <td>1HaiVQbzCTs7t1K1fckYEUi9t8ERBFRR7Q</td>\n",
              "      <td>€311.06</td>\n",
              "      <td>3584615208479876</td>\n",
              "    </tr>\n",
              "    <tr>\n",
              "      <th>2</th>\n",
              "      <td>1NGPjXfDScEUSZYajAzCkxaVApTbBHC7jP</td>\n",
              "      <td>€2032.44</td>\n",
              "      <td>6370577480710876</td>\n",
              "    </tr>\n",
              "    <tr>\n",
              "      <th>3</th>\n",
              "      <td>15cSYRTbcrxYinxNxk7VbkPLZG8nypdjy6</td>\n",
              "      <td>¥8155.74</td>\n",
              "      <td>4508652385157398</td>\n",
              "    </tr>\n",
              "    <tr>\n",
              "      <th>4</th>\n",
              "      <td>18j2qG1DH9YduJiBiccAq8Ak897G3E4JyZ</td>\n",
              "      <td>£3265.44</td>\n",
              "      <td>374622922103592</td>\n",
              "    </tr>\n",
              "  </tbody>\n",
              "</table>\n",
              "</div>"
            ],
            "text/plain": [
              "                      bitcoin address wire amount       credit card\n",
              "0  1J9DVMtgvnPv4KGHL2XSzoTSt5cBBL1DXe    £8356.92  3543456448666398\n",
              "1  1HaiVQbzCTs7t1K1fckYEUi9t8ERBFRR7Q     €311.06  3584615208479876\n",
              "2  1NGPjXfDScEUSZYajAzCkxaVApTbBHC7jP    €2032.44  6370577480710876\n",
              "3  15cSYRTbcrxYinxNxk7VbkPLZG8nypdjy6    ¥8155.74  4508652385157398\n",
              "4  18j2qG1DH9YduJiBiccAq8Ak897G3E4JyZ    £3265.44   374622922103592"
            ]
          },
          "metadata": {
            "tags": []
          },
          "execution_count": 19
        }
      ]
    },
    {
      "cell_type": "code",
      "metadata": {
        "id": "iSHjaC9Yd8Lw"
      },
      "source": [
        "df['wire amount']=df['wire amount'].str.replace('$','').astype(float)\r\n",
        "df['wire amount']=df['wire amount'].str.replace('£','').astype(float)\r\n",
        "df['wire amount']=df['wire amount'].str.replace('€','').astype(float)\r\n",
        "df['wire amount']=df['wire amount'].str.replace('¥','').astype(float)"
      ],
      "execution_count": null,
      "outputs": []
    },
    {
      "cell_type": "code",
      "metadata": {
        "colab": {
          "base_uri": "https://localhost:8080/"
        },
        "id": "UccR9sDsgen5",
        "outputId": "3a750e65-c9c4-47e5-a166-d82235a034d0"
      },
      "source": [
        "#Création d'une colonne currency par les fonctions get ou slice\r\n",
        "df['wire amount'].str.get(0)"
      ],
      "execution_count": 20,
      "outputs": [
        {
          "output_type": "execute_result",
          "data": {
            "text/plain": [
              "0      £\n",
              "1      €\n",
              "2      €\n",
              "3      ¥\n",
              "4      £\n",
              "      ..\n",
              "995    ¥\n",
              "996    €\n",
              "997    €\n",
              "998    $\n",
              "999    $\n",
              "Name: wire amount, Length: 1000, dtype: object"
            ]
          },
          "metadata": {
            "tags": []
          },
          "execution_count": 20
        }
      ]
    },
    {
      "cell_type": "code",
      "metadata": {
        "colab": {
          "base_uri": "https://localhost:8080/"
        },
        "id": "LHdYNZQygpz2",
        "outputId": "2e48aa2c-33d4-4420-928c-63d32d69292b"
      },
      "source": [
        "df['wire amount'].str.slice(stop=1)"
      ],
      "execution_count": 21,
      "outputs": [
        {
          "output_type": "execute_result",
          "data": {
            "text/plain": [
              "0      £\n",
              "1      €\n",
              "2      €\n",
              "3      ¥\n",
              "4      £\n",
              "      ..\n",
              "995    ¥\n",
              "996    €\n",
              "997    €\n",
              "998    $\n",
              "999    $\n",
              "Name: wire amount, Length: 1000, dtype: object"
            ]
          },
          "metadata": {
            "tags": []
          },
          "execution_count": 21
        }
      ]
    },
    {
      "cell_type": "code",
      "metadata": {
        "colab": {
          "base_uri": "https://localhost:8080/",
          "height": 202
        },
        "id": "AuzUYZ_EguD-",
        "outputId": "c10f3c56-1906-4832-c4bc-da43714edacc"
      },
      "source": [
        "df['currency']=df['wire amount'].str.get(0)\r\n",
        "df.head()"
      ],
      "execution_count": 23,
      "outputs": [
        {
          "output_type": "execute_result",
          "data": {
            "text/html": [
              "<div>\n",
              "<style scoped>\n",
              "    .dataframe tbody tr th:only-of-type {\n",
              "        vertical-align: middle;\n",
              "    }\n",
              "\n",
              "    .dataframe tbody tr th {\n",
              "        vertical-align: top;\n",
              "    }\n",
              "\n",
              "    .dataframe thead th {\n",
              "        text-align: right;\n",
              "    }\n",
              "</style>\n",
              "<table border=\"1\" class=\"dataframe\">\n",
              "  <thead>\n",
              "    <tr style=\"text-align: right;\">\n",
              "      <th></th>\n",
              "      <th>bitcoin address</th>\n",
              "      <th>wire amount</th>\n",
              "      <th>credit card</th>\n",
              "      <th>currency</th>\n",
              "    </tr>\n",
              "  </thead>\n",
              "  <tbody>\n",
              "    <tr>\n",
              "      <th>0</th>\n",
              "      <td>1J9DVMtgvnPv4KGHL2XSzoTSt5cBBL1DXe</td>\n",
              "      <td>£8356.92</td>\n",
              "      <td>3543456448666398</td>\n",
              "      <td>£</td>\n",
              "    </tr>\n",
              "    <tr>\n",
              "      <th>1</th>\n",
              "      <td>1HaiVQbzCTs7t1K1fckYEUi9t8ERBFRR7Q</td>\n",
              "      <td>€311.06</td>\n",
              "      <td>3584615208479876</td>\n",
              "      <td>€</td>\n",
              "    </tr>\n",
              "    <tr>\n",
              "      <th>2</th>\n",
              "      <td>1NGPjXfDScEUSZYajAzCkxaVApTbBHC7jP</td>\n",
              "      <td>€2032.44</td>\n",
              "      <td>6370577480710876</td>\n",
              "      <td>€</td>\n",
              "    </tr>\n",
              "    <tr>\n",
              "      <th>3</th>\n",
              "      <td>15cSYRTbcrxYinxNxk7VbkPLZG8nypdjy6</td>\n",
              "      <td>¥8155.74</td>\n",
              "      <td>4508652385157398</td>\n",
              "      <td>¥</td>\n",
              "    </tr>\n",
              "    <tr>\n",
              "      <th>4</th>\n",
              "      <td>18j2qG1DH9YduJiBiccAq8Ak897G3E4JyZ</td>\n",
              "      <td>£3265.44</td>\n",
              "      <td>374622922103592</td>\n",
              "      <td>£</td>\n",
              "    </tr>\n",
              "  </tbody>\n",
              "</table>\n",
              "</div>"
            ],
            "text/plain": [
              "                      bitcoin address wire amount       credit card currency\n",
              "0  1J9DVMtgvnPv4KGHL2XSzoTSt5cBBL1DXe    £8356.92  3543456448666398        £\n",
              "1  1HaiVQbzCTs7t1K1fckYEUi9t8ERBFRR7Q     €311.06  3584615208479876        €\n",
              "2  1NGPjXfDScEUSZYajAzCkxaVApTbBHC7jP    €2032.44  6370577480710876        €\n",
              "3  15cSYRTbcrxYinxNxk7VbkPLZG8nypdjy6    ¥8155.74  4508652385157398        ¥\n",
              "4  18j2qG1DH9YduJiBiccAq8Ak897G3E4JyZ    £3265.44   374622922103592        £"
            ]
          },
          "metadata": {
            "tags": []
          },
          "execution_count": 23
        }
      ]
    },
    {
      "cell_type": "code",
      "metadata": {
        "colab": {
          "base_uri": "https://localhost:8080/",
          "height": 202
        },
        "id": "L0OCkoGShMP2",
        "outputId": "dae74acb-a218-42d7-ffe9-ac8697501772"
      },
      "source": [
        "df['currency']=df['wire amount'].str.slice(stop=1)\r\n",
        "df.head()"
      ],
      "execution_count": 24,
      "outputs": [
        {
          "output_type": "execute_result",
          "data": {
            "text/html": [
              "<div>\n",
              "<style scoped>\n",
              "    .dataframe tbody tr th:only-of-type {\n",
              "        vertical-align: middle;\n",
              "    }\n",
              "\n",
              "    .dataframe tbody tr th {\n",
              "        vertical-align: top;\n",
              "    }\n",
              "\n",
              "    .dataframe thead th {\n",
              "        text-align: right;\n",
              "    }\n",
              "</style>\n",
              "<table border=\"1\" class=\"dataframe\">\n",
              "  <thead>\n",
              "    <tr style=\"text-align: right;\">\n",
              "      <th></th>\n",
              "      <th>bitcoin address</th>\n",
              "      <th>wire amount</th>\n",
              "      <th>credit card</th>\n",
              "      <th>currency</th>\n",
              "    </tr>\n",
              "  </thead>\n",
              "  <tbody>\n",
              "    <tr>\n",
              "      <th>0</th>\n",
              "      <td>1J9DVMtgvnPv4KGHL2XSzoTSt5cBBL1DXe</td>\n",
              "      <td>£8356.92</td>\n",
              "      <td>3543456448666398</td>\n",
              "      <td>£</td>\n",
              "    </tr>\n",
              "    <tr>\n",
              "      <th>1</th>\n",
              "      <td>1HaiVQbzCTs7t1K1fckYEUi9t8ERBFRR7Q</td>\n",
              "      <td>€311.06</td>\n",
              "      <td>3584615208479876</td>\n",
              "      <td>€</td>\n",
              "    </tr>\n",
              "    <tr>\n",
              "      <th>2</th>\n",
              "      <td>1NGPjXfDScEUSZYajAzCkxaVApTbBHC7jP</td>\n",
              "      <td>€2032.44</td>\n",
              "      <td>6370577480710876</td>\n",
              "      <td>€</td>\n",
              "    </tr>\n",
              "    <tr>\n",
              "      <th>3</th>\n",
              "      <td>15cSYRTbcrxYinxNxk7VbkPLZG8nypdjy6</td>\n",
              "      <td>¥8155.74</td>\n",
              "      <td>4508652385157398</td>\n",
              "      <td>¥</td>\n",
              "    </tr>\n",
              "    <tr>\n",
              "      <th>4</th>\n",
              "      <td>18j2qG1DH9YduJiBiccAq8Ak897G3E4JyZ</td>\n",
              "      <td>£3265.44</td>\n",
              "      <td>374622922103592</td>\n",
              "      <td>£</td>\n",
              "    </tr>\n",
              "  </tbody>\n",
              "</table>\n",
              "</div>"
            ],
            "text/plain": [
              "                      bitcoin address wire amount       credit card currency\n",
              "0  1J9DVMtgvnPv4KGHL2XSzoTSt5cBBL1DXe    £8356.92  3543456448666398        £\n",
              "1  1HaiVQbzCTs7t1K1fckYEUi9t8ERBFRR7Q     €311.06  3584615208479876        €\n",
              "2  1NGPjXfDScEUSZYajAzCkxaVApTbBHC7jP    €2032.44  6370577480710876        €\n",
              "3  15cSYRTbcrxYinxNxk7VbkPLZG8nypdjy6    ¥8155.74  4508652385157398        ¥\n",
              "4  18j2qG1DH9YduJiBiccAq8Ak897G3E4JyZ    £3265.44   374622922103592        £"
            ]
          },
          "metadata": {
            "tags": []
          },
          "execution_count": 24
        }
      ]
    },
    {
      "cell_type": "code",
      "metadata": {
        "colab": {
          "base_uri": "https://localhost:8080/"
        },
        "id": "jYIOROhrhkJW",
        "outputId": "c5b3b28b-0b48-4567-893a-fad83a3da3c7"
      },
      "source": [
        "df['wire amount'].str.slice(1,None).astype(float)"
      ],
      "execution_count": 25,
      "outputs": [
        {
          "output_type": "execute_result",
          "data": {
            "text/plain": [
              "0      8356.92\n",
              "1       311.06\n",
              "2      2032.44\n",
              "3      8155.74\n",
              "4      3265.44\n",
              "        ...   \n",
              "995     844.68\n",
              "996    1433.63\n",
              "997    3814.11\n",
              "998    2900.85\n",
              "999    1587.16\n",
              "Name: wire amount, Length: 1000, dtype: float64"
            ]
          },
          "metadata": {
            "tags": []
          },
          "execution_count": 25
        }
      ]
    },
    {
      "cell_type": "code",
      "metadata": {
        "colab": {
          "base_uri": "https://localhost:8080/",
          "height": 202
        },
        "id": "8w0p6_ScjM5z",
        "outputId": "07a63649-58ab-403e-86e0-470a249c0f28"
      },
      "source": [
        "df['wire amount']=df['wire amount'].str.slice(1).astype(float)\r\n",
        "df.head()"
      ],
      "execution_count": 26,
      "outputs": [
        {
          "output_type": "execute_result",
          "data": {
            "text/html": [
              "<div>\n",
              "<style scoped>\n",
              "    .dataframe tbody tr th:only-of-type {\n",
              "        vertical-align: middle;\n",
              "    }\n",
              "\n",
              "    .dataframe tbody tr th {\n",
              "        vertical-align: top;\n",
              "    }\n",
              "\n",
              "    .dataframe thead th {\n",
              "        text-align: right;\n",
              "    }\n",
              "</style>\n",
              "<table border=\"1\" class=\"dataframe\">\n",
              "  <thead>\n",
              "    <tr style=\"text-align: right;\">\n",
              "      <th></th>\n",
              "      <th>bitcoin address</th>\n",
              "      <th>wire amount</th>\n",
              "      <th>credit card</th>\n",
              "      <th>currency</th>\n",
              "    </tr>\n",
              "  </thead>\n",
              "  <tbody>\n",
              "    <tr>\n",
              "      <th>0</th>\n",
              "      <td>1J9DVMtgvnPv4KGHL2XSzoTSt5cBBL1DXe</td>\n",
              "      <td>8356.92</td>\n",
              "      <td>3543456448666398</td>\n",
              "      <td>£</td>\n",
              "    </tr>\n",
              "    <tr>\n",
              "      <th>1</th>\n",
              "      <td>1HaiVQbzCTs7t1K1fckYEUi9t8ERBFRR7Q</td>\n",
              "      <td>311.06</td>\n",
              "      <td>3584615208479876</td>\n",
              "      <td>€</td>\n",
              "    </tr>\n",
              "    <tr>\n",
              "      <th>2</th>\n",
              "      <td>1NGPjXfDScEUSZYajAzCkxaVApTbBHC7jP</td>\n",
              "      <td>2032.44</td>\n",
              "      <td>6370577480710876</td>\n",
              "      <td>€</td>\n",
              "    </tr>\n",
              "    <tr>\n",
              "      <th>3</th>\n",
              "      <td>15cSYRTbcrxYinxNxk7VbkPLZG8nypdjy6</td>\n",
              "      <td>8155.74</td>\n",
              "      <td>4508652385157398</td>\n",
              "      <td>¥</td>\n",
              "    </tr>\n",
              "    <tr>\n",
              "      <th>4</th>\n",
              "      <td>18j2qG1DH9YduJiBiccAq8Ak897G3E4JyZ</td>\n",
              "      <td>3265.44</td>\n",
              "      <td>374622922103592</td>\n",
              "      <td>£</td>\n",
              "    </tr>\n",
              "  </tbody>\n",
              "</table>\n",
              "</div>"
            ],
            "text/plain": [
              "                      bitcoin address  wire amount       credit card currency\n",
              "0  1J9DVMtgvnPv4KGHL2XSzoTSt5cBBL1DXe      8356.92  3543456448666398        £\n",
              "1  1HaiVQbzCTs7t1K1fckYEUi9t8ERBFRR7Q       311.06  3584615208479876        €\n",
              "2  1NGPjXfDScEUSZYajAzCkxaVApTbBHC7jP      2032.44  6370577480710876        €\n",
              "3  15cSYRTbcrxYinxNxk7VbkPLZG8nypdjy6      8155.74  4508652385157398        ¥\n",
              "4  18j2qG1DH9YduJiBiccAq8Ak897G3E4JyZ      3265.44   374622922103592        £"
            ]
          },
          "metadata": {
            "tags": []
          },
          "execution_count": 26
        }
      ]
    },
    {
      "cell_type": "code",
      "metadata": {
        "colab": {
          "base_uri": "https://localhost:8080/"
        },
        "id": "POjtE00UjhT5",
        "outputId": "d6e5d73f-cd78-4b02-c621-7e99ba415c6e"
      },
      "source": [
        "fp='https://bit.ly/felonies-dataset'\r\n",
        "print(fp)"
      ],
      "execution_count": 27,
      "outputs": [
        {
          "output_type": "stream",
          "text": [
            "https://bit.ly/felonies-dataset\n"
          ],
          "name": "stdout"
        }
      ]
    },
    {
      "cell_type": "code",
      "metadata": {
        "colab": {
          "base_uri": "https://localhost:8080/",
          "height": 202
        },
        "id": "8C2pFz6FmdaW",
        "outputId": "25092429-f462-419b-8482-dc97f70d19c2"
      },
      "source": [
        "df=pd.read_csv(fp)\r\n",
        "df.head()"
      ],
      "execution_count": 28,
      "outputs": [
        {
          "output_type": "execute_result",
          "data": {
            "text/html": [
              "<div>\n",
              "<style scoped>\n",
              "    .dataframe tbody tr th:only-of-type {\n",
              "        vertical-align: middle;\n",
              "    }\n",
              "\n",
              "    .dataframe tbody tr th {\n",
              "        vertical-align: top;\n",
              "    }\n",
              "\n",
              "    .dataframe thead th {\n",
              "        text-align: right;\n",
              "    }\n",
              "</style>\n",
              "<table border=\"1\" class=\"dataframe\">\n",
              "  <thead>\n",
              "    <tr style=\"text-align: right;\">\n",
              "      <th></th>\n",
              "      <th>Date of Arrest</th>\n",
              "      <th>Age</th>\n",
              "      <th>Convicted</th>\n",
              "    </tr>\n",
              "  </thead>\n",
              "  <tbody>\n",
              "    <tr>\n",
              "      <th>0</th>\n",
              "      <td>2014-07-16 14:59:18</td>\n",
              "      <td>77</td>\n",
              "      <td>Yes</td>\n",
              "    </tr>\n",
              "    <tr>\n",
              "      <th>1</th>\n",
              "      <td>2002-12-19 22:17:59</td>\n",
              "      <td>28</td>\n",
              "      <td>Yes</td>\n",
              "    </tr>\n",
              "    <tr>\n",
              "      <th>2</th>\n",
              "      <td>1994-06-28 09:31:40</td>\n",
              "      <td>21</td>\n",
              "      <td>No</td>\n",
              "    </tr>\n",
              "    <tr>\n",
              "      <th>3</th>\n",
              "      <td>1985-05-14 09:52:17</td>\n",
              "      <td>45</td>\n",
              "      <td>Yes</td>\n",
              "    </tr>\n",
              "    <tr>\n",
              "      <th>4</th>\n",
              "      <td>1985-05-25 14:06:28</td>\n",
              "      <td>39</td>\n",
              "      <td>Yes</td>\n",
              "    </tr>\n",
              "  </tbody>\n",
              "</table>\n",
              "</div>"
            ],
            "text/plain": [
              "        Date of Arrest  Age Convicted\n",
              "0  2014-07-16 14:59:18   77       Yes\n",
              "1  2002-12-19 22:17:59   28       Yes\n",
              "2  1994-06-28 09:31:40   21        No\n",
              "3  1985-05-14 09:52:17   45       Yes\n",
              "4  1985-05-25 14:06:28   39       Yes"
            ]
          },
          "metadata": {
            "tags": []
          },
          "execution_count": 28
        }
      ]
    },
    {
      "cell_type": "code",
      "metadata": {
        "colab": {
          "base_uri": "https://localhost:8080/"
        },
        "id": "ptGYvIRvmnyv",
        "outputId": "d0bcbe7a-18eb-4c5c-f92f-55736284617b"
      },
      "source": [
        "df.dtypes"
      ],
      "execution_count": 29,
      "outputs": [
        {
          "output_type": "execute_result",
          "data": {
            "text/plain": [
              "Date of Arrest    object\n",
              "Age                int64\n",
              "Convicted         object\n",
              "dtype: object"
            ]
          },
          "metadata": {
            "tags": []
          },
          "execution_count": 29
        }
      ]
    },
    {
      "cell_type": "code",
      "metadata": {
        "colab": {
          "base_uri": "https://localhost:8080/"
        },
        "id": "UseZc042m9h9",
        "outputId": "3dd54856-086b-41c4-8252-56046f9054bd"
      },
      "source": [
        "df['Age'].describe()"
      ],
      "execution_count": 32,
      "outputs": [
        {
          "output_type": "execute_result",
          "data": {
            "text/plain": [
              "count    1000.000000\n",
              "mean       54.605000\n",
              "std        25.225172\n",
              "min        10.000000\n",
              "25%        33.000000\n",
              "50%        53.000000\n",
              "75%        76.000000\n",
              "max        99.000000\n",
              "Name: Age, dtype: float64"
            ]
          },
          "metadata": {
            "tags": []
          },
          "execution_count": 32
        }
      ]
    },
    {
      "cell_type": "code",
      "metadata": {
        "colab": {
          "base_uri": "https://localhost:8080/"
        },
        "id": "oXNw2SScoJj8",
        "outputId": "33b0f414-cd32-45f3-b612-810318e55603"
      },
      "source": [
        "#Recoder la date enfant 0-13, Adol 14-20, Adult 21-65, Seniors +65\r\n",
        "pd.cut(df['Age'],\r\n",
        "       bins=[9,13,20,65,100],\r\n",
        "       labels=['Child','Ado','Adult','Senior'])"
      ],
      "execution_count": 33,
      "outputs": [
        {
          "output_type": "execute_result",
          "data": {
            "text/plain": [
              "0      Senior\n",
              "1       Adult\n",
              "2       Adult\n",
              "3       Adult\n",
              "4       Adult\n",
              "        ...  \n",
              "995    Senior\n",
              "996    Senior\n",
              "997    Senior\n",
              "998     Adult\n",
              "999     Adult\n",
              "Name: Age, Length: 1000, dtype: category\n",
              "Categories (4, object): ['Child' < 'Ado' < 'Adult' < 'Senior']"
            ]
          },
          "metadata": {
            "tags": []
          },
          "execution_count": 33
        }
      ]
    },
    {
      "cell_type": "code",
      "metadata": {
        "colab": {
          "base_uri": "https://localhost:8080/"
        },
        "id": "etI0T2xZrGPf",
        "outputId": "870e05e9-2c6b-46c1-bdf1-83f57a45d9b3"
      },
      "source": [
        "prefix=['ten','twent','thir','four','fif','six','seven','eigh','nine',]\r\n",
        "for i, prefix in enumerate(prefix):\r\n",
        "  age=(i+1)*10\r\n",
        "  categoryName=prefix+'ties'\r\n",
        "  print(f'* De {age} à {age+9} ans => {categoryName}')"
      ],
      "execution_count": 35,
      "outputs": [
        {
          "output_type": "stream",
          "text": [
            "* De 10 à 19 ans => tenties\n",
            "* De 20 à 29 ans => twentties\n",
            "* De 30 à 39 ans => thirties\n",
            "* De 40 à 49 ans => fourties\n",
            "* De 50 à 59 ans => fifties\n",
            "* De 60 à 69 ans => sixties\n",
            "* De 70 à 79 ans => seventies\n",
            "* De 80 à 89 ans => eighties\n",
            "* De 90 à 99 ans => nineties\n"
          ],
          "name": "stdout"
        }
      ]
    },
    {
      "cell_type": "markdown",
      "metadata": {
        "id": "UWG4958rwVFI"
      },
      "source": [
        " De 10 à 19 ans => tenties\r\n",
        "* De 20 à 29 ans => twentties\r\n",
        "* De 30 à 39 ans => thirties\r\n",
        "* De 40 à 49 ans => fourties\r\n",
        "* De 50 à 59 ans => fifties\r\n",
        "* De 60 à 69 ans => sixties\r\n",
        "* De 70 à 79 ans => seventies\r\n",
        "* De 80 à 89 ans => eighties\r\n",
        "* De 90 à 99 ans => nineties"
      ]
    },
    {
      "cell_type": "code",
      "metadata": {
        "colab": {
          "base_uri": "https://localhost:8080/"
        },
        "id": "74uu0iLrwXb2",
        "outputId": "fc9e96f9-74f5-4ca8-dc15-9f140db99e72"
      },
      "source": [
        "# A dure\r\n",
        "df['Date of Arrest'].str.slice(0,4)"
      ],
      "execution_count": 36,
      "outputs": [
        {
          "output_type": "execute_result",
          "data": {
            "text/plain": [
              "0      2014\n",
              "1      2002\n",
              "2      1994\n",
              "3      1985\n",
              "4      1985\n",
              "       ... \n",
              "995    1992\n",
              "996    1996\n",
              "997    1980\n",
              "998    1999\n",
              "999    1996\n",
              "Name: Date of Arrest, Length: 1000, dtype: object"
            ]
          },
          "metadata": {
            "tags": []
          },
          "execution_count": 36
        }
      ]
    },
    {
      "cell_type": "code",
      "metadata": {
        "colab": {
          "base_uri": "https://localhost:8080/",
          "height": 202
        },
        "id": "cKoLqNp9y2c9",
        "outputId": "c1b489ef-360d-40da-db09-72cfcaed845f"
      },
      "source": [
        "df['Year']=df['Date of Arrest'].str.slice(0,4).astype(int)\r\n",
        "df['Month']=df['Date of Arrest'].str.slice(5,7).astype(int)\r\n",
        "df['Day']=df['Date of Arrest'].str.slice(8,10).astype(int)\r\n",
        "df['Hours']=df['Date of Arrest'].str.slice(11,13).astype(int)\r\n",
        "df['Minutes']=df['Date of Arrest'].str.slice(14,16).astype(int)\r\n",
        "df['Secondes']=df['Date of Arrest'].str.slice(17,19).astype(int)\r\n",
        "df.head()"
      ],
      "execution_count": 38,
      "outputs": [
        {
          "output_type": "execute_result",
          "data": {
            "text/html": [
              "<div>\n",
              "<style scoped>\n",
              "    .dataframe tbody tr th:only-of-type {\n",
              "        vertical-align: middle;\n",
              "    }\n",
              "\n",
              "    .dataframe tbody tr th {\n",
              "        vertical-align: top;\n",
              "    }\n",
              "\n",
              "    .dataframe thead th {\n",
              "        text-align: right;\n",
              "    }\n",
              "</style>\n",
              "<table border=\"1\" class=\"dataframe\">\n",
              "  <thead>\n",
              "    <tr style=\"text-align: right;\">\n",
              "      <th></th>\n",
              "      <th>Date of Arrest</th>\n",
              "      <th>Age</th>\n",
              "      <th>Convicted</th>\n",
              "      <th>Year</th>\n",
              "      <th>Month</th>\n",
              "      <th>Day</th>\n",
              "      <th>Hours</th>\n",
              "      <th>Minutes</th>\n",
              "      <th>Secondes</th>\n",
              "    </tr>\n",
              "  </thead>\n",
              "  <tbody>\n",
              "    <tr>\n",
              "      <th>0</th>\n",
              "      <td>2014-07-16 14:59:18</td>\n",
              "      <td>77</td>\n",
              "      <td>Yes</td>\n",
              "      <td>2014</td>\n",
              "      <td>7</td>\n",
              "      <td>16</td>\n",
              "      <td>14</td>\n",
              "      <td>59</td>\n",
              "      <td>18</td>\n",
              "    </tr>\n",
              "    <tr>\n",
              "      <th>1</th>\n",
              "      <td>2002-12-19 22:17:59</td>\n",
              "      <td>28</td>\n",
              "      <td>Yes</td>\n",
              "      <td>2002</td>\n",
              "      <td>12</td>\n",
              "      <td>19</td>\n",
              "      <td>22</td>\n",
              "      <td>17</td>\n",
              "      <td>59</td>\n",
              "    </tr>\n",
              "    <tr>\n",
              "      <th>2</th>\n",
              "      <td>1994-06-28 09:31:40</td>\n",
              "      <td>21</td>\n",
              "      <td>No</td>\n",
              "      <td>1994</td>\n",
              "      <td>6</td>\n",
              "      <td>28</td>\n",
              "      <td>9</td>\n",
              "      <td>31</td>\n",
              "      <td>40</td>\n",
              "    </tr>\n",
              "    <tr>\n",
              "      <th>3</th>\n",
              "      <td>1985-05-14 09:52:17</td>\n",
              "      <td>45</td>\n",
              "      <td>Yes</td>\n",
              "      <td>1985</td>\n",
              "      <td>5</td>\n",
              "      <td>14</td>\n",
              "      <td>9</td>\n",
              "      <td>52</td>\n",
              "      <td>17</td>\n",
              "    </tr>\n",
              "    <tr>\n",
              "      <th>4</th>\n",
              "      <td>1985-05-25 14:06:28</td>\n",
              "      <td>39</td>\n",
              "      <td>Yes</td>\n",
              "      <td>1985</td>\n",
              "      <td>5</td>\n",
              "      <td>25</td>\n",
              "      <td>14</td>\n",
              "      <td>6</td>\n",
              "      <td>28</td>\n",
              "    </tr>\n",
              "  </tbody>\n",
              "</table>\n",
              "</div>"
            ],
            "text/plain": [
              "        Date of Arrest  Age Convicted  Year  ...  Day  Hours  Minutes  Secondes\n",
              "0  2014-07-16 14:59:18   77       Yes  2014  ...   16     14       59        18\n",
              "1  2002-12-19 22:17:59   28       Yes  2002  ...   19     22       17        59\n",
              "2  1994-06-28 09:31:40   21        No  1994  ...   28      9       31        40\n",
              "3  1985-05-14 09:52:17   45       Yes  1985  ...   14      9       52        17\n",
              "4  1985-05-25 14:06:28   39       Yes  1985  ...   25     14        6        28\n",
              "\n",
              "[5 rows x 9 columns]"
            ]
          },
          "metadata": {
            "tags": []
          },
          "execution_count": 38
        }
      ]
    },
    {
      "cell_type": "code",
      "metadata": {
        "colab": {
          "base_uri": "https://localhost:8080/"
        },
        "id": "xvQ818GGzJ53",
        "outputId": "bb6f13ce-e65f-4149-e8af-464159a1c995"
      },
      "source": [
        "# a la coo\r\n",
        "#consiste à caster le type str dans notre champ date en type datetime\r\n",
        "pd.to_datetime(df['Date of Arrest'])\r\n"
      ],
      "execution_count": 39,
      "outputs": [
        {
          "output_type": "execute_result",
          "data": {
            "text/plain": [
              "0     2014-07-16 14:59:18\n",
              "1     2002-12-19 22:17:59\n",
              "2     1994-06-28 09:31:40\n",
              "3     1985-05-14 09:52:17\n",
              "4     1985-05-25 14:06:28\n",
              "              ...        \n",
              "995   1992-02-04 14:24:25\n",
              "996   1996-04-29 18:03:23\n",
              "997   1980-07-15 21:59:27\n",
              "998   1999-07-05 17:16:12\n",
              "999   1996-03-17 18:29:25\n",
              "Name: Date of Arrest, Length: 1000, dtype: datetime64[ns]"
            ]
          },
          "metadata": {
            "tags": []
          },
          "execution_count": 39
        }
      ]
    },
    {
      "cell_type": "code",
      "metadata": {
        "colab": {
          "base_uri": "https://localhost:8080/"
        },
        "id": "YitKGUJ01gmO",
        "outputId": "17072eda-2b38-4822-f908-98ff350544ea"
      },
      "source": [
        "df['Date of Arrest']=pd.to_datetime(df['Date of Arrest'])\r\n",
        "df.dtypes"
      ],
      "execution_count": 51,
      "outputs": [
        {
          "output_type": "execute_result",
          "data": {
            "text/plain": [
              "Date of Arrest    datetime64[ns]\n",
              "Age                        int64\n",
              "Convicted                 object\n",
              "dtype: object"
            ]
          },
          "metadata": {
            "tags": []
          },
          "execution_count": 51
        }
      ]
    },
    {
      "cell_type": "code",
      "metadata": {
        "id": "TcT2LxOO1y7C"
      },
      "source": [
        "#df.drop(['Year','Day','Hours','Month','Minutes','Secondes'],axis=1,inplace=True)"
      ],
      "execution_count": 52,
      "outputs": []
    },
    {
      "cell_type": "code",
      "metadata": {
        "colab": {
          "base_uri": "https://localhost:8080/"
        },
        "id": "b5EoDsd72ZU9",
        "outputId": "ae074e71-3989-4f95-eb7d-3ba5cfcbf86a"
      },
      "source": [
        "df['Date of Arrest'].dt.date"
      ],
      "execution_count": 53,
      "outputs": [
        {
          "output_type": "execute_result",
          "data": {
            "text/plain": [
              "0      2014-07-16\n",
              "1      2002-12-19\n",
              "2      1994-06-28\n",
              "3      1985-05-14\n",
              "4      1985-05-25\n",
              "          ...    \n",
              "995    1992-02-04\n",
              "996    1996-04-29\n",
              "997    1980-07-15\n",
              "998    1999-07-05\n",
              "999    1996-03-17\n",
              "Name: Date of Arrest, Length: 1000, dtype: object"
            ]
          },
          "metadata": {
            "tags": []
          },
          "execution_count": 53
        }
      ]
    },
    {
      "cell_type": "code",
      "metadata": {
        "colab": {
          "base_uri": "https://localhost:8080/"
        },
        "id": "Xl7flGdI3nDu",
        "outputId": "21627c7d-2ea7-4f7b-d3f1-8a46112445bc"
      },
      "source": [
        "df['Date of Arrest'].dt.month"
      ],
      "execution_count": 54,
      "outputs": [
        {
          "output_type": "execute_result",
          "data": {
            "text/plain": [
              "0       7\n",
              "1      12\n",
              "2       6\n",
              "3       5\n",
              "4       5\n",
              "       ..\n",
              "995     2\n",
              "996     4\n",
              "997     7\n",
              "998     7\n",
              "999     3\n",
              "Name: Date of Arrest, Length: 1000, dtype: int64"
            ]
          },
          "metadata": {
            "tags": []
          },
          "execution_count": 54
        }
      ]
    },
    {
      "cell_type": "code",
      "metadata": {
        "colab": {
          "base_uri": "https://localhost:8080/"
        },
        "id": "ulvPjAn34AFL",
        "outputId": "883faf87-bf93-4969-fc05-40ab6873820c"
      },
      "source": [
        "df['Date of Arrest'].dt.day"
      ],
      "execution_count": 61,
      "outputs": [
        {
          "output_type": "execute_result",
          "data": {
            "text/plain": [
              "0      16\n",
              "1      19\n",
              "2      28\n",
              "3      14\n",
              "4      25\n",
              "       ..\n",
              "995     4\n",
              "996    29\n",
              "997    15\n",
              "998     5\n",
              "999    17\n",
              "Name: Date of Arrest, Length: 1000, dtype: int64"
            ]
          },
          "metadata": {
            "tags": []
          },
          "execution_count": 61
        }
      ]
    },
    {
      "cell_type": "code",
      "metadata": {
        "colab": {
          "base_uri": "https://localhost:8080/"
        },
        "id": "bAGw7AGt4Cf8",
        "outputId": "35bb57f4-0aed-4dc1-f4f3-f76531ce8936"
      },
      "source": [
        "df['Date of Arrest'].dt.time"
      ],
      "execution_count": 56,
      "outputs": [
        {
          "output_type": "execute_result",
          "data": {
            "text/plain": [
              "0      14:59:18\n",
              "1      22:17:59\n",
              "2      09:31:40\n",
              "3      09:52:17\n",
              "4      14:06:28\n",
              "         ...   \n",
              "995    14:24:25\n",
              "996    18:03:23\n",
              "997    21:59:27\n",
              "998    17:16:12\n",
              "999    18:29:25\n",
              "Name: Date of Arrest, Length: 1000, dtype: object"
            ]
          },
          "metadata": {
            "tags": []
          },
          "execution_count": 56
        }
      ]
    },
    {
      "cell_type": "code",
      "metadata": {
        "colab": {
          "base_uri": "https://localhost:8080/"
        },
        "id": "msJ47ReK4FLZ",
        "outputId": "6a0bcfb9-58a1-45ee-d350-1b3b4b3db545"
      },
      "source": [
        "df['Date of Arrest'].dt.dayofweek"
      ],
      "execution_count": 57,
      "outputs": [
        {
          "output_type": "execute_result",
          "data": {
            "text/plain": [
              "0      2\n",
              "1      3\n",
              "2      1\n",
              "3      1\n",
              "4      5\n",
              "      ..\n",
              "995    1\n",
              "996    0\n",
              "997    1\n",
              "998    0\n",
              "999    6\n",
              "Name: Date of Arrest, Length: 1000, dtype: int64"
            ]
          },
          "metadata": {
            "tags": []
          },
          "execution_count": 57
        }
      ]
    },
    {
      "cell_type": "code",
      "metadata": {
        "colab": {
          "base_uri": "https://localhost:8080/"
        },
        "id": "gO2QnRWa4P_8",
        "outputId": "8c38ea29-a336-4aa1-8a03-c0f84e6072b7"
      },
      "source": [
        "df['Date of Arrest'].dt.day_name()"
      ],
      "execution_count": 62,
      "outputs": [
        {
          "output_type": "execute_result",
          "data": {
            "text/plain": [
              "0      Wednesday\n",
              "1       Thursday\n",
              "2        Tuesday\n",
              "3        Tuesday\n",
              "4       Saturday\n",
              "         ...    \n",
              "995      Tuesday\n",
              "996       Monday\n",
              "997      Tuesday\n",
              "998       Monday\n",
              "999       Sunday\n",
              "Name: Date of Arrest, Length: 1000, dtype: object"
            ]
          },
          "metadata": {
            "tags": []
          },
          "execution_count": 62
        }
      ]
    },
    {
      "cell_type": "code",
      "metadata": {
        "colab": {
          "base_uri": "https://localhost:8080/"
        },
        "id": "vDS0npNG5IRB",
        "outputId": "bf505e14-c036-4259-a7d0-2c3451efec78"
      },
      "source": [
        "df['Date of Arrest'].dt.month_name()"
      ],
      "execution_count": 64,
      "outputs": [
        {
          "output_type": "execute_result",
          "data": {
            "text/plain": [
              "0          July\n",
              "1      December\n",
              "2          June\n",
              "3           May\n",
              "4           May\n",
              "         ...   \n",
              "995    February\n",
              "996       April\n",
              "997        July\n",
              "998        July\n",
              "999       March\n",
              "Name: Date of Arrest, Length: 1000, dtype: object"
            ]
          },
          "metadata": {
            "tags": []
          },
          "execution_count": 64
        }
      ]
    },
    {
      "cell_type": "code",
      "metadata": {
        "colab": {
          "base_uri": "https://localhost:8080/"
        },
        "id": "FNjJuhHe5O6l",
        "outputId": "f8f2c9a5-dbf4-4979-eb18-4a15771f196d"
      },
      "source": [
        "df['Date of Arrest'].dt.year"
      ],
      "execution_count": 65,
      "outputs": [
        {
          "output_type": "execute_result",
          "data": {
            "text/plain": [
              "0      2014\n",
              "1      2002\n",
              "2      1994\n",
              "3      1985\n",
              "4      1985\n",
              "       ... \n",
              "995    1992\n",
              "996    1996\n",
              "997    1980\n",
              "998    1999\n",
              "999    1996\n",
              "Name: Date of Arrest, Length: 1000, dtype: int64"
            ]
          },
          "metadata": {
            "tags": []
          },
          "execution_count": 65
        }
      ]
    },
    {
      "cell_type": "code",
      "metadata": {
        "id": "RZ23UtMR5Zez"
      },
      "source": [
        ""
      ],
      "execution_count": null,
      "outputs": []
    }
  ]
}
{
  "nbformat": 4,
  "nbformat_minor": 0,
  "metadata": {
    "colab": {
      "name": "My_Data_Quality.ipynb",
      "provenance": [],
      "collapsed_sections": [],
      "mount_file_id": "12ea-KUhQfxtaafRAlpDE9wfe9KEithXU",
      "authorship_tag": "ABX9TyMn069cErT6/vF6xVPeiToU",
      "include_colab_link": true
    },
    "kernelspec": {
      "name": "python3",
      "display_name": "Python 3"
    }
  },
  "cells": [
    {
      "cell_type": "markdown",
      "metadata": {
        "id": "view-in-github",
        "colab_type": "text"
      },
      "source": [
        "<a href=\"https://colab.research.google.com/github/Medgoby/Article-summarization/blob/master/My_Data_Quality.ipynb\" target=\"_parent\"><img src=\"https://colab.research.google.com/assets/colab-badge.svg\" alt=\"Open In Colab\"/></a>"
      ]
    },
    {
      "cell_type": "code",
      "metadata": {
        "id": "mwGlCnKdmkeq",
        "colab": {
          "base_uri": "https://localhost:8080/",
          "height": 35
        },
        "outputId": "f710bf7b-a093-4787-9f23-bd795e58a2ce"
      },
      "source": [
        "import pandas as pd\r\n",
        "pd.__version__"
      ],
      "execution_count": 114,
      "outputs": [
        {
          "output_type": "execute_result",
          "data": {
            "application/vnd.google.colaboratory.intrinsic+json": {
              "type": "string"
            },
            "text/plain": [
              "'1.1.5'"
            ]
          },
          "metadata": {
            "tags": []
          },
          "execution_count": 114
        }
      ]
    },
    {
      "cell_type": "code",
      "metadata": {
        "colab": {
          "base_uri": "https://localhost:8080/",
          "height": 235
        },
        "id": "2O2SIoCxCxzG",
        "outputId": "21c780cb-e3e7-4e06-b793-daa18e6599e8"
      },
      "source": [
        "list=[62,1,-5,34]\r\n",
        "min=[0]\r\n",
        "for e in list: \r\n",
        "  if e < min :\r\n",
        "    min=e\r\n",
        "print(min)"
      ],
      "execution_count": null,
      "outputs": [
        {
          "output_type": "error",
          "ename": "TypeError",
          "evalue": "ignored",
          "traceback": [
            "\u001b[0;31m---------------------------------------------------------------------------\u001b[0m",
            "\u001b[0;31mTypeError\u001b[0m                                 Traceback (most recent call last)",
            "\u001b[0;32m<ipython-input-7-1133cc466d5e>\u001b[0m in \u001b[0;36m<module>\u001b[0;34m()\u001b[0m\n\u001b[1;32m      2\u001b[0m \u001b[0mmin\u001b[0m\u001b[0;34m=\u001b[0m\u001b[0;34m[\u001b[0m\u001b[0;36m0\u001b[0m\u001b[0;34m]\u001b[0m\u001b[0;34m\u001b[0m\u001b[0;34m\u001b[0m\u001b[0m\n\u001b[1;32m      3\u001b[0m \u001b[0;32mfor\u001b[0m \u001b[0me\u001b[0m \u001b[0;32min\u001b[0m \u001b[0mlist\u001b[0m\u001b[0;34m:\u001b[0m\u001b[0;34m\u001b[0m\u001b[0;34m\u001b[0m\u001b[0m\n\u001b[0;32m----> 4\u001b[0;31m   \u001b[0;32mif\u001b[0m \u001b[0me\u001b[0m \u001b[0;34m<\u001b[0m \u001b[0mmin\u001b[0m \u001b[0;34m:\u001b[0m\u001b[0;34m\u001b[0m\u001b[0;34m\u001b[0m\u001b[0m\n\u001b[0m\u001b[1;32m      5\u001b[0m     \u001b[0mmin\u001b[0m\u001b[0;34m=\u001b[0m\u001b[0me\u001b[0m\u001b[0;34m\u001b[0m\u001b[0;34m\u001b[0m\u001b[0m\n\u001b[1;32m      6\u001b[0m \u001b[0mprint\u001b[0m\u001b[0;34m(\u001b[0m\u001b[0mmin\u001b[0m\u001b[0;34m)\u001b[0m\u001b[0;34m\u001b[0m\u001b[0;34m\u001b[0m\u001b[0m\n",
            "\u001b[0;31mTypeError\u001b[0m: '<' not supported between instances of 'int' and 'list'"
          ]
        }
      ]
    },
    {
      "cell_type": "code",
      "metadata": {
        "id": "3W6RfT2NDwAU"
      },
      "source": [
        ""
      ],
      "execution_count": null,
      "outputs": []
    },
    {
      "cell_type": "markdown",
      "metadata": {
        "id": "IV_19oICHKuA"
      },
      "source": [
        "## Lecture des fichiers"
      ]
    },
    {
      "cell_type": "code",
      "metadata": {
        "id": "8pLLaez1HUCL"
      },
      "source": [
        "filepath='https://bit.ly/world-cities-clean'"
      ],
      "execution_count": null,
      "outputs": []
    },
    {
      "cell_type": "code",
      "metadata": {
        "colab": {
          "base_uri": "https://localhost:8080/"
        },
        "id": "NxVa2q3LJcXo",
        "outputId": "b6709573-bca7-4e14-dcb8-d1f46c6564d8"
      },
      "source": [
        "print(filepath)"
      ],
      "execution_count": null,
      "outputs": [
        {
          "output_type": "stream",
          "text": [
            "https://bit.ly/world-cities-clean\n"
          ],
          "name": "stdout"
        }
      ]
    },
    {
      "cell_type": "code",
      "metadata": {
        "colab": {
          "base_uri": "https://localhost:8080/",
          "height": 202
        },
        "id": "J32sA6yQJljV",
        "outputId": "231f15cf-5823-42cf-944a-d126559c7ecf"
      },
      "source": [
        "df=pd.read_csv(filepath)\r\n",
        "df.sample(5)"
      ],
      "execution_count": null,
      "outputs": [
        {
          "output_type": "execute_result",
          "data": {
            "text/html": [
              "<div>\n",
              "<style scoped>\n",
              "    .dataframe tbody tr th:only-of-type {\n",
              "        vertical-align: middle;\n",
              "    }\n",
              "\n",
              "    .dataframe tbody tr th {\n",
              "        vertical-align: top;\n",
              "    }\n",
              "\n",
              "    .dataframe thead th {\n",
              "        text-align: right;\n",
              "    }\n",
              "</style>\n",
              "<table border=\"1\" class=\"dataframe\">\n",
              "  <thead>\n",
              "    <tr style=\"text-align: right;\">\n",
              "      <th></th>\n",
              "      <th>name</th>\n",
              "      <th>country</th>\n",
              "      <th>subcountry</th>\n",
              "      <th>geonameid</th>\n",
              "    </tr>\n",
              "  </thead>\n",
              "  <tbody>\n",
              "    <tr>\n",
              "      <th>17049</th>\n",
              "      <td>Smolensk</td>\n",
              "      <td>Russia</td>\n",
              "      <td>Smolensk</td>\n",
              "      <td>491687</td>\n",
              "    </tr>\n",
              "    <tr>\n",
              "      <th>10309</th>\n",
              "      <td>Hosdurga</td>\n",
              "      <td>India</td>\n",
              "      <td>Karnataka</td>\n",
              "      <td>1269943</td>\n",
              "    </tr>\n",
              "    <tr>\n",
              "      <th>21111</th>\n",
              "      <td>Chanhassen</td>\n",
              "      <td>United States</td>\n",
              "      <td>Minnesota</td>\n",
              "      <td>5020881</td>\n",
              "    </tr>\n",
              "    <tr>\n",
              "      <th>22958</th>\n",
              "      <td>Cape Town</td>\n",
              "      <td>South Africa</td>\n",
              "      <td>Western Cape</td>\n",
              "      <td>3369157</td>\n",
              "    </tr>\n",
              "    <tr>\n",
              "      <th>3747</th>\n",
              "      <td>Beichengqu</td>\n",
              "      <td>China</td>\n",
              "      <td>Inner Mongolia</td>\n",
              "      <td>2037391</td>\n",
              "    </tr>\n",
              "  </tbody>\n",
              "</table>\n",
              "</div>"
            ],
            "text/plain": [
              "             name        country      subcountry  geonameid\n",
              "17049    Smolensk         Russia        Smolensk     491687\n",
              "10309    Hosdurga          India       Karnataka    1269943\n",
              "21111  Chanhassen  United States       Minnesota    5020881\n",
              "22958   Cape Town   South Africa    Western Cape    3369157\n",
              "3747   Beichengqu          China  Inner Mongolia    2037391"
            ]
          },
          "metadata": {
            "tags": []
          },
          "execution_count": 64
        }
      ]
    },
    {
      "cell_type": "code",
      "metadata": {
        "id": "ejjoKkOILoxo"
      },
      "source": [
        "fp='https://bit.ly/world-cities-dirty-v2'"
      ],
      "execution_count": null,
      "outputs": []
    },
    {
      "cell_type": "code",
      "metadata": {
        "colab": {
          "base_uri": "https://localhost:8080/"
        },
        "id": "diUHSWheO-bH",
        "outputId": "4c1898a6-abb0-4f5f-efce-93204d48aadf"
      },
      "source": [
        "print(fp)"
      ],
      "execution_count": null,
      "outputs": [
        {
          "output_type": "stream",
          "text": [
            "https://bit.ly/world-cities-dirty-v2\n"
          ],
          "name": "stdout"
        }
      ]
    },
    {
      "cell_type": "code",
      "metadata": {
        "colab": {
          "base_uri": "https://localhost:8080/",
          "height": 670
        },
        "id": "Wp0_umbiPD3-",
        "outputId": "70b97e89-f713-4c93-843d-f1aa0e037b40"
      },
      "source": [
        "df=pd.read_csv(fp)\r\n",
        "df.sample(5)"
      ],
      "execution_count": null,
      "outputs": [
        {
          "output_type": "execute_result",
          "data": {
            "text/html": [
              "<div>\n",
              "<style scoped>\n",
              "    .dataframe tbody tr th:only-of-type {\n",
              "        vertical-align: middle;\n",
              "    }\n",
              "\n",
              "    .dataframe tbody tr th {\n",
              "        vertical-align: top;\n",
              "    }\n",
              "\n",
              "    .dataframe thead th {\n",
              "        text-align: right;\n",
              "    }\n",
              "</style>\n",
              "<table border=\"1\" class=\"dataframe\">\n",
              "  <thead>\n",
              "    <tr style=\"text-align: right;\">\n",
              "      <th></th>\n",
              "      <th></th>\n",
              "      <th></th>\n",
              "      <th></th>\n",
              "      <th></th>\n",
              "      <th></th>\n",
              "      <th>Lorem ipsum dolor sit amet</th>\n",
              "      <th>consectetur adipiscing elit</th>\n",
              "      <th>sed do eiusmod tempor incididunt ut labore et dolore magna aliqua. Ut enim ad minim veniam</th>\n",
              "      <th>quis nostrud exercitation ullamco laboris nisi ut aliquip ex ea commodo consequat. Duis aute irure dolor in reprehenderit in voluptate velit esse cillum dolore eu fugiat nulla pariatur. Excepteur sint occaecat cupidatat non proident</th>\n",
              "      <th>sunt in culpa qui officia deserunt mollit anim id est laborum.</th>\n",
              "    </tr>\n",
              "  </thead>\n",
              "  <tbody>\n",
              "    <tr>\n",
              "      <th>Narsīpatnam</th>\n",
              "      <th>India</th>\n",
              "      <th>Andhra Pradesh</th>\n",
              "      <th>1261748</th>\n",
              "      <th>NaN</th>\n",
              "      <th>NaN</th>\n",
              "      <td>NaN</td>\n",
              "      <td>NaN</td>\n",
              "      <td>NaN</td>\n",
              "      <td>NaN</td>\n",
              "      <td>NaN</td>\n",
              "    </tr>\n",
              "    <tr>\n",
              "      <th>Toulouse</th>\n",
              "      <th>France</th>\n",
              "      <th>Languedoc-Roussillon-Midi-Pyrénées</th>\n",
              "      <th>2972315</th>\n",
              "      <th>NaN</th>\n",
              "      <th>NaN</th>\n",
              "      <td>NaN</td>\n",
              "      <td>NaN</td>\n",
              "      <td>NaN</td>\n",
              "      <td>NaN</td>\n",
              "      <td>NaN</td>\n",
              "    </tr>\n",
              "    <tr>\n",
              "      <th>Saint-Joseph</th>\n",
              "      <th>Reunion</th>\n",
              "      <th>Réunion</th>\n",
              "      <th>935227</th>\n",
              "      <th>NaN</th>\n",
              "      <th>NaN</th>\n",
              "      <td>NaN</td>\n",
              "      <td>NaN</td>\n",
              "      <td>NaN</td>\n",
              "      <td>NaN</td>\n",
              "      <td>NaN</td>\n",
              "    </tr>\n",
              "    <tr>\n",
              "      <th>Fier</th>\n",
              "      <th>Albania</th>\n",
              "      <th>Fier</th>\n",
              "      <th>3185672</th>\n",
              "      <th>NaN</th>\n",
              "      <th>NaN</th>\n",
              "      <td>NaN</td>\n",
              "      <td>NaN</td>\n",
              "      <td>NaN</td>\n",
              "      <td>NaN</td>\n",
              "      <td>NaN</td>\n",
              "    </tr>\n",
              "    <tr>\n",
              "      <th>Tortola</th>\n",
              "      <th>British Virgin Islands</th>\n",
              "      <th>NaN</th>\n",
              "      <th>8533874</th>\n",
              "      <th>NaN</th>\n",
              "      <th>NaN</th>\n",
              "      <td>NaN</td>\n",
              "      <td>NaN</td>\n",
              "      <td>NaN</td>\n",
              "      <td>NaN</td>\n",
              "      <td>NaN</td>\n",
              "    </tr>\n",
              "  </tbody>\n",
              "</table>\n",
              "</div>"
            ],
            "text/plain": [
              "                                                                                       Lorem ipsum dolor sit amet  ...  sunt in culpa qui officia deserunt mollit anim id est laborum.\n",
              "Narsīpatnam  India                  Andhra Pradesh                     1261748 NaN NaN                        NaN  ...                                                NaN             \n",
              "Toulouse     France                 Languedoc-Roussillon-Midi-Pyrénées 2972315 NaN NaN                        NaN  ...                                                NaN             \n",
              "Saint-Joseph Reunion                Réunion                            935227  NaN NaN                        NaN  ...                                                NaN             \n",
              "Fier         Albania                Fier                               3185672 NaN NaN                        NaN  ...                                                NaN             \n",
              "Tortola      British Virgin Islands NaN                                8533874 NaN NaN                        NaN  ...                                                NaN             \n",
              "\n",
              "[5 rows x 5 columns]"
            ]
          },
          "metadata": {
            "tags": []
          },
          "execution_count": 67
        }
      ]
    },
    {
      "cell_type": "code",
      "metadata": {
        "id": "q102XNT3g5MN"
      },
      "source": [
        "df.to_csv('world-cities-dirty-v2.csv')"
      ],
      "execution_count": null,
      "outputs": []
    },
    {
      "cell_type": "code",
      "metadata": {
        "colab": {
          "base_uri": "https://localhost:8080/",
          "height": 257
        },
        "id": "KCvHvBvhPukI",
        "outputId": "73ce0e3a-96ef-4ea8-f3f8-04c16390aa5d"
      },
      "source": [
        "df=pd.read_csv(fp,\r\n",
        "               skiprows=2, #enlève les deux prémières lignes\r\n",
        "               skipfooter=1) #enlève la dernière ligne\r\n",
        "df.sample(5)"
      ],
      "execution_count": null,
      "outputs": [
        {
          "output_type": "stream",
          "text": [
            "/usr/local/lib/python3.6/dist-packages/ipykernel_launcher.py:3: ParserWarning: Falling back to the 'python' engine because the 'c' engine does not support skipfooter; you can avoid this warning by specifying engine='python'.\n",
            "  This is separate from the ipykernel package so we can avoid doing imports until\n"
          ],
          "name": "stderr"
        },
        {
          "output_type": "execute_result",
          "data": {
            "text/html": [
              "<div>\n",
              "<style scoped>\n",
              "    .dataframe tbody tr th:only-of-type {\n",
              "        vertical-align: middle;\n",
              "    }\n",
              "\n",
              "    .dataframe tbody tr th {\n",
              "        vertical-align: top;\n",
              "    }\n",
              "\n",
              "    .dataframe thead th {\n",
              "        text-align: right;\n",
              "    }\n",
              "</style>\n",
              "<table border=\"1\" class=\"dataframe\">\n",
              "  <thead>\n",
              "    <tr style=\"text-align: right;\">\n",
              "      <th></th>\n",
              "      <th>name</th>\n",
              "      <th>country</th>\n",
              "      <th>subcountry</th>\n",
              "      <th>geonameid</th>\n",
              "    </tr>\n",
              "  </thead>\n",
              "  <tbody>\n",
              "    <tr>\n",
              "      <th>22296</th>\n",
              "      <td>Frederickson</td>\n",
              "      <td>United States</td>\n",
              "      <td>Washington</td>\n",
              "      <td>5795011</td>\n",
              "    </tr>\n",
              "    <tr>\n",
              "      <th>11171</th>\n",
              "      <td>Mohali</td>\n",
              "      <td>India</td>\n",
              "      <td>Punjab</td>\n",
              "      <td>6992326</td>\n",
              "    </tr>\n",
              "    <tr>\n",
              "      <th>5298</th>\n",
              "      <td>Altglienicke</td>\n",
              "      <td>Germany</td>\n",
              "      <td>Berlin</td>\n",
              "      <td>2957185</td>\n",
              "    </tr>\n",
              "    <tr>\n",
              "      <th>20862</th>\n",
              "      <td>Wheeling</td>\n",
              "      <td>United States</td>\n",
              "      <td>Illinois</td>\n",
              "      <td>4916311</td>\n",
              "    </tr>\n",
              "    <tr>\n",
              "      <th>16527</th>\n",
              "      <td>Torres Vedras</td>\n",
              "      <td>Portugal</td>\n",
              "      <td>Lisbon</td>\n",
              "      <td>2262581</td>\n",
              "    </tr>\n",
              "  </tbody>\n",
              "</table>\n",
              "</div>"
            ],
            "text/plain": [
              "                name        country  subcountry  geonameid\n",
              "22296   Frederickson  United States  Washington    5795011\n",
              "11171         Mohali          India      Punjab    6992326\n",
              "5298    Altglienicke        Germany      Berlin    2957185\n",
              "20862       Wheeling  United States    Illinois    4916311\n",
              "16527  Torres Vedras       Portugal      Lisbon    2262581"
            ]
          },
          "metadata": {
            "tags": []
          },
          "execution_count": 21
        }
      ]
    },
    {
      "cell_type": "code",
      "metadata": {
        "colab": {
          "base_uri": "https://localhost:8080/"
        },
        "id": "VowG1ALLQaae",
        "outputId": "eb838003-b334-4574-b035-3135b709eb7d"
      },
      "source": [
        "df.shape"
      ],
      "execution_count": null,
      "outputs": [
        {
          "output_type": "execute_result",
          "data": {
            "text/plain": [
              "(23018, 4)"
            ]
          },
          "metadata": {
            "tags": []
          },
          "execution_count": 22
        }
      ]
    },
    {
      "cell_type": "code",
      "metadata": {
        "colab": {
          "base_uri": "https://localhost:8080/"
        },
        "id": "7Z-i7ahKRL_f",
        "outputId": "e791e8be-279a-49c2-f6d1-ab9b05853e73"
      },
      "source": [
        "fp='https://bit.ly/world-cities-dirty-v3'\r\n",
        "print(fp)"
      ],
      "execution_count": null,
      "outputs": [
        {
          "output_type": "stream",
          "text": [
            "https://bit.ly/world-cities-dirty-v3\n"
          ],
          "name": "stdout"
        }
      ]
    },
    {
      "cell_type": "code",
      "metadata": {
        "colab": {
          "base_uri": "https://localhost:8080/",
          "height": 202
        },
        "id": "a_J6MjfmSXE7",
        "outputId": "a876fbf5-879a-4b93-8997-29818ad9696a"
      },
      "source": [
        "df=pd.read_csv(fp, names=['names','country','subcountry','geonameid'],\r\n",
        "               sep='|')\r\n",
        "df.head()"
      ],
      "execution_count": null,
      "outputs": [
        {
          "output_type": "execute_result",
          "data": {
            "text/html": [
              "<div>\n",
              "<style scoped>\n",
              "    .dataframe tbody tr th:only-of-type {\n",
              "        vertical-align: middle;\n",
              "    }\n",
              "\n",
              "    .dataframe tbody tr th {\n",
              "        vertical-align: top;\n",
              "    }\n",
              "\n",
              "    .dataframe thead th {\n",
              "        text-align: right;\n",
              "    }\n",
              "</style>\n",
              "<table border=\"1\" class=\"dataframe\">\n",
              "  <thead>\n",
              "    <tr style=\"text-align: right;\">\n",
              "      <th></th>\n",
              "      <th>names</th>\n",
              "      <th>country</th>\n",
              "      <th>subcountry</th>\n",
              "      <th>geonameid</th>\n",
              "    </tr>\n",
              "  </thead>\n",
              "  <tbody>\n",
              "    <tr>\n",
              "      <th>0</th>\n",
              "      <td>les Escaldes</td>\n",
              "      <td>Andorra</td>\n",
              "      <td>Escaldes-Engordany</td>\n",
              "      <td>3040051</td>\n",
              "    </tr>\n",
              "    <tr>\n",
              "      <th>1</th>\n",
              "      <td>Andorra la Vella</td>\n",
              "      <td>Andorra</td>\n",
              "      <td>Andorra la Vella</td>\n",
              "      <td>3041563</td>\n",
              "    </tr>\n",
              "    <tr>\n",
              "      <th>2</th>\n",
              "      <td>Umm al Qaywayn</td>\n",
              "      <td>United Arab Emirates</td>\n",
              "      <td>Umm al Qaywayn</td>\n",
              "      <td>290594</td>\n",
              "    </tr>\n",
              "    <tr>\n",
              "      <th>3</th>\n",
              "      <td>Ras al-Khaimah</td>\n",
              "      <td>United Arab Emirates</td>\n",
              "      <td>Raʼs al Khaymah</td>\n",
              "      <td>291074</td>\n",
              "    </tr>\n",
              "    <tr>\n",
              "      <th>4</th>\n",
              "      <td>Khawr Fakkān</td>\n",
              "      <td>United Arab Emirates</td>\n",
              "      <td>Ash Shāriqah</td>\n",
              "      <td>291696</td>\n",
              "    </tr>\n",
              "  </tbody>\n",
              "</table>\n",
              "</div>"
            ],
            "text/plain": [
              "              names               country          subcountry  geonameid\n",
              "0      les Escaldes               Andorra  Escaldes-Engordany    3040051\n",
              "1  Andorra la Vella               Andorra    Andorra la Vella    3041563\n",
              "2    Umm al Qaywayn  United Arab Emirates      Umm al Qaywayn     290594\n",
              "3    Ras al-Khaimah  United Arab Emirates     Raʼs al Khaymah     291074\n",
              "4      Khawr Fakkān  United Arab Emirates        Ash Shāriqah     291696"
            ]
          },
          "metadata": {
            "tags": []
          },
          "execution_count": 70
        }
      ]
    },
    {
      "cell_type": "code",
      "metadata": {
        "id": "AdfFndK9hsV3"
      },
      "source": [
        "df.to_csv('world-cities-dirty-v3.csv')"
      ],
      "execution_count": null,
      "outputs": []
    },
    {
      "cell_type": "code",
      "metadata": {
        "colab": {
          "base_uri": "https://localhost:8080/"
        },
        "id": "KZ1LDn37SpfZ",
        "outputId": "02a3cf3b-4902-45a7-8fb5-ed9b88b02ec9"
      },
      "source": [
        "fp='https://bit.ly/bitcoin-data'\r\n",
        "print(fp)"
      ],
      "execution_count": null,
      "outputs": [
        {
          "output_type": "stream",
          "text": [
            "https://bit.ly/bitcoin-data\n"
          ],
          "name": "stdout"
        }
      ]
    },
    {
      "cell_type": "code",
      "metadata": {
        "colab": {
          "base_uri": "https://localhost:8080/",
          "height": 202
        },
        "id": "iF--bdXOiF5C",
        "outputId": "4c2415d0-2918-4949-8a4e-a897da91d1f5"
      },
      "source": [
        "df=pd.read_csv(fp) \r\n",
        "df.sample(5)"
      ],
      "execution_count": null,
      "outputs": [
        {
          "output_type": "execute_result",
          "data": {
            "text/html": [
              "<div>\n",
              "<style scoped>\n",
              "    .dataframe tbody tr th:only-of-type {\n",
              "        vertical-align: middle;\n",
              "    }\n",
              "\n",
              "    .dataframe tbody tr th {\n",
              "        vertical-align: top;\n",
              "    }\n",
              "\n",
              "    .dataframe thead th {\n",
              "        text-align: right;\n",
              "    }\n",
              "</style>\n",
              "<table border=\"1\" class=\"dataframe\">\n",
              "  <thead>\n",
              "    <tr style=\"text-align: right;\">\n",
              "      <th></th>\n",
              "      <th>Date</th>\n",
              "      <th>Open*</th>\n",
              "      <th>High</th>\n",
              "      <th>Low</th>\n",
              "      <th>Close**</th>\n",
              "      <th>Volume</th>\n",
              "      <th>Market Cap</th>\n",
              "    </tr>\n",
              "  </thead>\n",
              "  <tbody>\n",
              "    <tr>\n",
              "      <th>32</th>\n",
              "      <td>** Latest data in range (UTC time)</td>\n",
              "      <td>NaN</td>\n",
              "      <td>NaN</td>\n",
              "      <td>NaN</td>\n",
              "      <td>NaN</td>\n",
              "      <td>NaN</td>\n",
              "      <td>NaN</td>\n",
              "    </tr>\n",
              "    <tr>\n",
              "      <th>12</th>\n",
              "      <td>Jan 02 2020</td>\n",
              "      <td>7202.55</td>\n",
              "      <td>7212.16</td>\n",
              "      <td>6935.27</td>\n",
              "      <td>6985.47</td>\n",
              "      <td>2.080208e+10</td>\n",
              "      <td>1.266994e+11</td>\n",
              "    </tr>\n",
              "    <tr>\n",
              "      <th>29</th>\n",
              "      <td>Dec 16 2019</td>\n",
              "      <td>7153.66</td>\n",
              "      <td>7171.17</td>\n",
              "      <td>6903.68</td>\n",
              "      <td>6932.48</td>\n",
              "      <td>2.021327e+10</td>\n",
              "      <td>1.255156e+11</td>\n",
              "    </tr>\n",
              "    <tr>\n",
              "      <th>19</th>\n",
              "      <td>Dec 26 2019</td>\n",
              "      <td>7274.80</td>\n",
              "      <td>7388.30</td>\n",
              "      <td>7200.39</td>\n",
              "      <td>7238.97</td>\n",
              "      <td>2.278701e+10</td>\n",
              "      <td>1.312000e+11</td>\n",
              "    </tr>\n",
              "    <tr>\n",
              "      <th>2</th>\n",
              "      <td>Jan 12 2020</td>\n",
              "      <td>8033.26</td>\n",
              "      <td>8200.06</td>\n",
              "      <td>8009.06</td>\n",
              "      <td>8192.49</td>\n",
              "      <td>2.290344e+10</td>\n",
              "      <td>1.487530e+11</td>\n",
              "    </tr>\n",
              "  </tbody>\n",
              "</table>\n",
              "</div>"
            ],
            "text/plain": [
              "                                  Date    Open*  ...        Volume    Market Cap\n",
              "32  ** Latest data in range (UTC time)      NaN  ...           NaN           NaN\n",
              "12                         Jan 02 2020  7202.55  ...  2.080208e+10  1.266994e+11\n",
              "29                         Dec 16 2019  7153.66  ...  2.021327e+10  1.255156e+11\n",
              "19                         Dec 26 2019  7274.80  ...  2.278701e+10  1.312000e+11\n",
              "2                          Jan 12 2020  8033.26  ...  2.290344e+10  1.487530e+11\n",
              "\n",
              "[5 rows x 7 columns]"
            ]
          },
          "metadata": {
            "tags": []
          },
          "execution_count": 75
        }
      ]
    },
    {
      "cell_type": "code",
      "metadata": {
        "id": "94Ca9PwniFnn"
      },
      "source": [
        "df.to_csv('bitcoin-data.csv')"
      ],
      "execution_count": null,
      "outputs": []
    },
    {
      "cell_type": "code",
      "metadata": {
        "colab": {
          "base_uri": "https://localhost:8080/",
          "height": 257
        },
        "id": "PHZkzbWRV_zQ",
        "outputId": "55dd9fbe-51ce-4c32-fba2-5158887651d2"
      },
      "source": [
        "df=pd.read_csv(fp,\r\n",
        "               skipfooter=2) \r\n",
        "df.sample(5)"
      ],
      "execution_count": null,
      "outputs": [
        {
          "output_type": "stream",
          "text": [
            "/usr/local/lib/python3.6/dist-packages/ipykernel_launcher.py:2: ParserWarning: Falling back to the 'python' engine because the 'c' engine does not support skipfooter; you can avoid this warning by specifying engine='python'.\n",
            "  \n"
          ],
          "name": "stderr"
        },
        {
          "output_type": "execute_result",
          "data": {
            "text/html": [
              "<div>\n",
              "<style scoped>\n",
              "    .dataframe tbody tr th:only-of-type {\n",
              "        vertical-align: middle;\n",
              "    }\n",
              "\n",
              "    .dataframe tbody tr th {\n",
              "        vertical-align: top;\n",
              "    }\n",
              "\n",
              "    .dataframe thead th {\n",
              "        text-align: right;\n",
              "    }\n",
              "</style>\n",
              "<table border=\"1\" class=\"dataframe\">\n",
              "  <thead>\n",
              "    <tr style=\"text-align: right;\">\n",
              "      <th></th>\n",
              "      <th>Date</th>\n",
              "      <th>Open*</th>\n",
              "      <th>High</th>\n",
              "      <th>Low</th>\n",
              "      <th>Close**</th>\n",
              "      <th>Volume</th>\n",
              "      <th>Market Cap</th>\n",
              "    </tr>\n",
              "  </thead>\n",
              "  <tbody>\n",
              "    <tr>\n",
              "      <th>27</th>\n",
              "      <td>Dec 18 2019</td>\n",
              "      <td>6647.70</td>\n",
              "      <td>7324.98</td>\n",
              "      <td>6540.05</td>\n",
              "      <td>7276.80</td>\n",
              "      <td>31836522778</td>\n",
              "      <td>131754969804</td>\n",
              "    </tr>\n",
              "    <tr>\n",
              "      <th>10</th>\n",
              "      <td>Jan 04 2020</td>\n",
              "      <td>7345.38</td>\n",
              "      <td>7427.39</td>\n",
              "      <td>7309.51</td>\n",
              "      <td>7410.66</td>\n",
              "      <td>18444271275</td>\n",
              "      <td>134442464030</td>\n",
              "    </tr>\n",
              "    <tr>\n",
              "      <th>21</th>\n",
              "      <td>Dec 24 2019</td>\n",
              "      <td>7354.39</td>\n",
              "      <td>7535.72</td>\n",
              "      <td>7269.53</td>\n",
              "      <td>7322.53</td>\n",
              "      <td>22991622105</td>\n",
              "      <td>132687583295</td>\n",
              "    </tr>\n",
              "    <tr>\n",
              "      <th>6</th>\n",
              "      <td>Jan 08 2020</td>\n",
              "      <td>8161.94</td>\n",
              "      <td>8396.74</td>\n",
              "      <td>7956.77</td>\n",
              "      <td>8079.86</td>\n",
              "      <td>31672559265</td>\n",
              "      <td>146645162431</td>\n",
              "    </tr>\n",
              "    <tr>\n",
              "      <th>12</th>\n",
              "      <td>Jan 02 2020</td>\n",
              "      <td>7202.55</td>\n",
              "      <td>7212.16</td>\n",
              "      <td>6935.27</td>\n",
              "      <td>6985.47</td>\n",
              "      <td>20802083465</td>\n",
              "      <td>126699395235</td>\n",
              "    </tr>\n",
              "  </tbody>\n",
              "</table>\n",
              "</div>"
            ],
            "text/plain": [
              "           Date    Open*     High      Low  Close**       Volume    Market Cap\n",
              "27  Dec 18 2019  6647.70  7324.98  6540.05  7276.80  31836522778  131754969804\n",
              "10  Jan 04 2020  7345.38  7427.39  7309.51  7410.66  18444271275  134442464030\n",
              "21  Dec 24 2019  7354.39  7535.72  7269.53  7322.53  22991622105  132687583295\n",
              "6   Jan 08 2020  8161.94  8396.74  7956.77  8079.86  31672559265  146645162431\n",
              "12  Jan 02 2020  7202.55  7212.16  6935.27  6985.47  20802083465  126699395235"
            ]
          },
          "metadata": {
            "tags": []
          },
          "execution_count": 77
        }
      ]
    },
    {
      "cell_type": "code",
      "metadata": {
        "colab": {
          "base_uri": "https://localhost:8080/"
        },
        "id": "Wq4tgW7-WVr1",
        "outputId": "27fd1fc1-0d7d-4294-a55a-e7e2767b4f04"
      },
      "source": [
        "df.isna().sum()"
      ],
      "execution_count": null,
      "outputs": [
        {
          "output_type": "execute_result",
          "data": {
            "text/plain": [
              "Date          0\n",
              "Open*         0\n",
              "High          0\n",
              "Low           0\n",
              "Close**       0\n",
              "Volume        0\n",
              "Market Cap    0\n",
              "dtype: int64"
            ]
          },
          "metadata": {
            "tags": []
          },
          "execution_count": 32
        }
      ]
    },
    {
      "cell_type": "code",
      "metadata": {
        "colab": {
          "base_uri": "https://localhost:8080/",
          "height": 202
        },
        "id": "aD7_zk8gYMZh",
        "outputId": "925aad7a-10fd-42f7-9ee0-a343beb7d214"
      },
      "source": [
        "df.rename(columns={'Open*':'Open', 'Close**':'Close'}, inplace=True)\r\n",
        "df.head()"
      ],
      "execution_count": null,
      "outputs": [
        {
          "output_type": "execute_result",
          "data": {
            "text/html": [
              "<div>\n",
              "<style scoped>\n",
              "    .dataframe tbody tr th:only-of-type {\n",
              "        vertical-align: middle;\n",
              "    }\n",
              "\n",
              "    .dataframe tbody tr th {\n",
              "        vertical-align: top;\n",
              "    }\n",
              "\n",
              "    .dataframe thead th {\n",
              "        text-align: right;\n",
              "    }\n",
              "</style>\n",
              "<table border=\"1\" class=\"dataframe\">\n",
              "  <thead>\n",
              "    <tr style=\"text-align: right;\">\n",
              "      <th></th>\n",
              "      <th>Date</th>\n",
              "      <th>Open</th>\n",
              "      <th>High</th>\n",
              "      <th>Low</th>\n",
              "      <th>Close</th>\n",
              "      <th>Volume</th>\n",
              "      <th>Market Cap</th>\n",
              "    </tr>\n",
              "  </thead>\n",
              "  <tbody>\n",
              "    <tr>\n",
              "      <th>0</th>\n",
              "      <td>Jan 14 2020</td>\n",
              "      <td>8140.93</td>\n",
              "      <td>8879.51</td>\n",
              "      <td>8140.93</td>\n",
              "      <td>8827.76</td>\n",
              "      <td>44841784107</td>\n",
              "      <td>160319484883</td>\n",
              "    </tr>\n",
              "    <tr>\n",
              "      <th>1</th>\n",
              "      <td>Jan 13 2020</td>\n",
              "      <td>8189.77</td>\n",
              "      <td>8197.79</td>\n",
              "      <td>8079.70</td>\n",
              "      <td>8144.19</td>\n",
              "      <td>22482910688</td>\n",
              "      <td>147890525973</td>\n",
              "    </tr>\n",
              "    <tr>\n",
              "      <th>2</th>\n",
              "      <td>Jan 12 2020</td>\n",
              "      <td>8033.26</td>\n",
              "      <td>8200.06</td>\n",
              "      <td>8009.06</td>\n",
              "      <td>8192.49</td>\n",
              "      <td>22903438381</td>\n",
              "      <td>148752956966</td>\n",
              "    </tr>\n",
              "    <tr>\n",
              "      <th>3</th>\n",
              "      <td>Jan 11 2020</td>\n",
              "      <td>8162.19</td>\n",
              "      <td>8218.36</td>\n",
              "      <td>8029.64</td>\n",
              "      <td>8037.54</td>\n",
              "      <td>25521165085</td>\n",
              "      <td>145924199942</td>\n",
              "    </tr>\n",
              "    <tr>\n",
              "      <th>4</th>\n",
              "      <td>Jan 10 2020</td>\n",
              "      <td>7878.31</td>\n",
              "      <td>8166.55</td>\n",
              "      <td>7726.77</td>\n",
              "      <td>8166.55</td>\n",
              "      <td>28714583844</td>\n",
              "      <td>148249907277</td>\n",
              "    </tr>\n",
              "  </tbody>\n",
              "</table>\n",
              "</div>"
            ],
            "text/plain": [
              "          Date     Open     High      Low    Close       Volume    Market Cap\n",
              "0  Jan 14 2020  8140.93  8879.51  8140.93  8827.76  44841784107  160319484883\n",
              "1  Jan 13 2020  8189.77  8197.79  8079.70  8144.19  22482910688  147890525973\n",
              "2  Jan 12 2020  8033.26  8200.06  8009.06  8192.49  22903438381  148752956966\n",
              "3  Jan 11 2020  8162.19  8218.36  8029.64  8037.54  25521165085  145924199942\n",
              "4  Jan 10 2020  7878.31  8166.55  7726.77  8166.55  28714583844  148249907277"
            ]
          },
          "metadata": {
            "tags": []
          },
          "execution_count": 36
        }
      ]
    },
    {
      "cell_type": "code",
      "metadata": {
        "id": "L65QttVUYUAg"
      },
      "source": [
        "#Création d'une fonction permettant de remplacer les espaces par un tirêt du 8\r\n",
        "def SansEspace (s):\r\n",
        "  return s.replace (' ', '_')"
      ],
      "execution_count": null,
      "outputs": []
    },
    {
      "cell_type": "code",
      "metadata": {
        "colab": {
          "base_uri": "https://localhost:8080/",
          "height": 35
        },
        "id": "ojOlx-LklhJN",
        "outputId": "011c2a5d-0392-4c35-b00a-4f60e0ce0d93"
      },
      "source": [
        "#Essayer la fonction\r\n",
        "SansEspace('Barry Mohamed')"
      ],
      "execution_count": null,
      "outputs": [
        {
          "output_type": "execute_result",
          "data": {
            "application/vnd.google.colaboratory.intrinsic+json": {
              "type": "string"
            },
            "text/plain": [
              "'Barry_Mohamed'"
            ]
          },
          "metadata": {
            "tags": []
          },
          "execution_count": 39
        }
      ]
    },
    {
      "cell_type": "code",
      "metadata": {
        "colab": {
          "base_uri": "https://localhost:8080/",
          "height": 999
        },
        "id": "xt6nGTO1lnr4",
        "outputId": "08c192d7-f01c-4452-c72c-9de8a295ebf4"
      },
      "source": [
        "#Appliquer sur le DataFrame\r\n",
        "df.rename(SansEspace,\r\n",
        "          axis='columns')"
      ],
      "execution_count": null,
      "outputs": [
        {
          "output_type": "execute_result",
          "data": {
            "text/html": [
              "<div>\n",
              "<style scoped>\n",
              "    .dataframe tbody tr th:only-of-type {\n",
              "        vertical-align: middle;\n",
              "    }\n",
              "\n",
              "    .dataframe tbody tr th {\n",
              "        vertical-align: top;\n",
              "    }\n",
              "\n",
              "    .dataframe thead th {\n",
              "        text-align: right;\n",
              "    }\n",
              "</style>\n",
              "<table border=\"1\" class=\"dataframe\">\n",
              "  <thead>\n",
              "    <tr style=\"text-align: right;\">\n",
              "      <th></th>\n",
              "      <th>Date</th>\n",
              "      <th>Open</th>\n",
              "      <th>High</th>\n",
              "      <th>Low</th>\n",
              "      <th>Close</th>\n",
              "      <th>Volume</th>\n",
              "      <th>Market_Cap</th>\n",
              "    </tr>\n",
              "  </thead>\n",
              "  <tbody>\n",
              "    <tr>\n",
              "      <th>0</th>\n",
              "      <td>Jan 14 2020</td>\n",
              "      <td>8140.93</td>\n",
              "      <td>8879.51</td>\n",
              "      <td>8140.93</td>\n",
              "      <td>8827.76</td>\n",
              "      <td>44841784107</td>\n",
              "      <td>160319484883</td>\n",
              "    </tr>\n",
              "    <tr>\n",
              "      <th>1</th>\n",
              "      <td>Jan 13 2020</td>\n",
              "      <td>8189.77</td>\n",
              "      <td>8197.79</td>\n",
              "      <td>8079.70</td>\n",
              "      <td>8144.19</td>\n",
              "      <td>22482910688</td>\n",
              "      <td>147890525973</td>\n",
              "    </tr>\n",
              "    <tr>\n",
              "      <th>2</th>\n",
              "      <td>Jan 12 2020</td>\n",
              "      <td>8033.26</td>\n",
              "      <td>8200.06</td>\n",
              "      <td>8009.06</td>\n",
              "      <td>8192.49</td>\n",
              "      <td>22903438381</td>\n",
              "      <td>148752956966</td>\n",
              "    </tr>\n",
              "    <tr>\n",
              "      <th>3</th>\n",
              "      <td>Jan 11 2020</td>\n",
              "      <td>8162.19</td>\n",
              "      <td>8218.36</td>\n",
              "      <td>8029.64</td>\n",
              "      <td>8037.54</td>\n",
              "      <td>25521165085</td>\n",
              "      <td>145924199942</td>\n",
              "    </tr>\n",
              "    <tr>\n",
              "      <th>4</th>\n",
              "      <td>Jan 10 2020</td>\n",
              "      <td>7878.31</td>\n",
              "      <td>8166.55</td>\n",
              "      <td>7726.77</td>\n",
              "      <td>8166.55</td>\n",
              "      <td>28714583844</td>\n",
              "      <td>148249907277</td>\n",
              "    </tr>\n",
              "    <tr>\n",
              "      <th>5</th>\n",
              "      <td>Jan 09 2020</td>\n",
              "      <td>8082.30</td>\n",
              "      <td>8082.30</td>\n",
              "      <td>7842.40</td>\n",
              "      <td>7879.07</td>\n",
              "      <td>24045990466</td>\n",
              "      <td>143016572819</td>\n",
              "    </tr>\n",
              "    <tr>\n",
              "      <th>6</th>\n",
              "      <td>Jan 08 2020</td>\n",
              "      <td>8161.94</td>\n",
              "      <td>8396.74</td>\n",
              "      <td>7956.77</td>\n",
              "      <td>8079.86</td>\n",
              "      <td>31672559265</td>\n",
              "      <td>146645162431</td>\n",
              "    </tr>\n",
              "    <tr>\n",
              "      <th>7</th>\n",
              "      <td>Jan 07 2020</td>\n",
              "      <td>7768.68</td>\n",
              "      <td>8178.22</td>\n",
              "      <td>7768.23</td>\n",
              "      <td>8163.69</td>\n",
              "      <td>28767291327</td>\n",
              "      <td>148152237654</td>\n",
              "    </tr>\n",
              "    <tr>\n",
              "      <th>8</th>\n",
              "      <td>Jan 06 2020</td>\n",
              "      <td>7410.45</td>\n",
              "      <td>7781.87</td>\n",
              "      <td>7409.29</td>\n",
              "      <td>7769.22</td>\n",
              "      <td>23276261598</td>\n",
              "      <td>140976457304</td>\n",
              "    </tr>\n",
              "    <tr>\n",
              "      <th>9</th>\n",
              "      <td>Jan 05 2020</td>\n",
              "      <td>7410.45</td>\n",
              "      <td>7544.50</td>\n",
              "      <td>7400.54</td>\n",
              "      <td>7411.32</td>\n",
              "      <td>19725074095</td>\n",
              "      <td>134469548249</td>\n",
              "    </tr>\n",
              "    <tr>\n",
              "      <th>10</th>\n",
              "      <td>Jan 04 2020</td>\n",
              "      <td>7345.38</td>\n",
              "      <td>7427.39</td>\n",
              "      <td>7309.51</td>\n",
              "      <td>7410.66</td>\n",
              "      <td>18444271275</td>\n",
              "      <td>134442464030</td>\n",
              "    </tr>\n",
              "    <tr>\n",
              "      <th>11</th>\n",
              "      <td>Jan 03 2020</td>\n",
              "      <td>6984.43</td>\n",
              "      <td>7413.72</td>\n",
              "      <td>6915.00</td>\n",
              "      <td>7344.88</td>\n",
              "      <td>28111481032</td>\n",
              "      <td>133233444755</td>\n",
              "    </tr>\n",
              "    <tr>\n",
              "      <th>12</th>\n",
              "      <td>Jan 02 2020</td>\n",
              "      <td>7202.55</td>\n",
              "      <td>7212.16</td>\n",
              "      <td>6935.27</td>\n",
              "      <td>6985.47</td>\n",
              "      <td>20802083465</td>\n",
              "      <td>126699395235</td>\n",
              "    </tr>\n",
              "    <tr>\n",
              "      <th>13</th>\n",
              "      <td>Jan 01 2020</td>\n",
              "      <td>7194.89</td>\n",
              "      <td>7254.33</td>\n",
              "      <td>7174.94</td>\n",
              "      <td>7200.17</td>\n",
              "      <td>18565664997</td>\n",
              "      <td>130580829150</td>\n",
              "    </tr>\n",
              "    <tr>\n",
              "      <th>14</th>\n",
              "      <td>Dec 31 2019</td>\n",
              "      <td>7294.44</td>\n",
              "      <td>7335.29</td>\n",
              "      <td>7169.78</td>\n",
              "      <td>7193.60</td>\n",
              "      <td>21167946112</td>\n",
              "      <td>130446112598</td>\n",
              "    </tr>\n",
              "    <tr>\n",
              "      <th>15</th>\n",
              "      <td>Dec 30 2019</td>\n",
              "      <td>7420.27</td>\n",
              "      <td>7454.82</td>\n",
              "      <td>7276.31</td>\n",
              "      <td>7293.00</td>\n",
              "      <td>22874131672</td>\n",
              "      <td>132235128152</td>\n",
              "    </tr>\n",
              "    <tr>\n",
              "      <th>16</th>\n",
              "      <td>Dec 29 2019</td>\n",
              "      <td>7317.65</td>\n",
              "      <td>7513.95</td>\n",
              "      <td>7279.87</td>\n",
              "      <td>7422.65</td>\n",
              "      <td>22445257702</td>\n",
              "      <td>134570835775</td>\n",
              "    </tr>\n",
              "    <tr>\n",
              "      <th>17</th>\n",
              "      <td>Dec 28 2019</td>\n",
              "      <td>7289.03</td>\n",
              "      <td>7399.04</td>\n",
              "      <td>7286.91</td>\n",
              "      <td>7317.99</td>\n",
              "      <td>21365673026</td>\n",
              "      <td>132659059740</td>\n",
              "    </tr>\n",
              "    <tr>\n",
              "      <th>18</th>\n",
              "      <td>Dec 27 2019</td>\n",
              "      <td>7238.14</td>\n",
              "      <td>7363.53</td>\n",
              "      <td>7189.93</td>\n",
              "      <td>7290.09</td>\n",
              "      <td>22777360996</td>\n",
              "      <td>132139502950</td>\n",
              "    </tr>\n",
              "    <tr>\n",
              "      <th>19</th>\n",
              "      <td>Dec 26 2019</td>\n",
              "      <td>7274.80</td>\n",
              "      <td>7388.30</td>\n",
              "      <td>7200.39</td>\n",
              "      <td>7238.97</td>\n",
              "      <td>22787010034</td>\n",
              "      <td>131200030100</td>\n",
              "    </tr>\n",
              "    <tr>\n",
              "      <th>20</th>\n",
              "      <td>Dec 25 2019</td>\n",
              "      <td>7325.76</td>\n",
              "      <td>7357.02</td>\n",
              "      <td>7220.99</td>\n",
              "      <td>7275.16</td>\n",
              "      <td>21559505149</td>\n",
              "      <td>131840641292</td>\n",
              "    </tr>\n",
              "    <tr>\n",
              "      <th>21</th>\n",
              "      <td>Dec 24 2019</td>\n",
              "      <td>7354.39</td>\n",
              "      <td>7535.72</td>\n",
              "      <td>7269.53</td>\n",
              "      <td>7322.53</td>\n",
              "      <td>22991622105</td>\n",
              "      <td>132687583295</td>\n",
              "    </tr>\n",
              "    <tr>\n",
              "      <th>22</th>\n",
              "      <td>Dec 23 2019</td>\n",
              "      <td>7508.90</td>\n",
              "      <td>7656.18</td>\n",
              "      <td>7326.19</td>\n",
              "      <td>7355.63</td>\n",
              "      <td>27831788041</td>\n",
              "      <td>133275709111</td>\n",
              "    </tr>\n",
              "    <tr>\n",
              "      <th>23</th>\n",
              "      <td>Dec 22 2019</td>\n",
              "      <td>7191.19</td>\n",
              "      <td>7518.03</td>\n",
              "      <td>7167.18</td>\n",
              "      <td>7511.59</td>\n",
              "      <td>23134537956</td>\n",
              "      <td>136088022049</td>\n",
              "    </tr>\n",
              "    <tr>\n",
              "      <th>24</th>\n",
              "      <td>Dec 21 2019</td>\n",
              "      <td>7220.59</td>\n",
              "      <td>7223.23</td>\n",
              "      <td>7112.74</td>\n",
              "      <td>7191.16</td>\n",
              "      <td>19312552168</td>\n",
              "      <td>130267655889</td>\n",
              "    </tr>\n",
              "    <tr>\n",
              "      <th>25</th>\n",
              "      <td>Dec 20 2019</td>\n",
              "      <td>7208.64</td>\n",
              "      <td>7257.92</td>\n",
              "      <td>7086.12</td>\n",
              "      <td>7218.82</td>\n",
              "      <td>22633815180</td>\n",
              "      <td>130752796980</td>\n",
              "    </tr>\n",
              "    <tr>\n",
              "      <th>26</th>\n",
              "      <td>Dec 19 2019</td>\n",
              "      <td>7277.59</td>\n",
              "      <td>7346.60</td>\n",
              "      <td>7041.38</td>\n",
              "      <td>7202.84</td>\n",
              "      <td>25904604416</td>\n",
              "      <td>130445758713</td>\n",
              "    </tr>\n",
              "    <tr>\n",
              "      <th>27</th>\n",
              "      <td>Dec 18 2019</td>\n",
              "      <td>6647.70</td>\n",
              "      <td>7324.98</td>\n",
              "      <td>6540.05</td>\n",
              "      <td>7276.80</td>\n",
              "      <td>31836522778</td>\n",
              "      <td>131754969804</td>\n",
              "    </tr>\n",
              "    <tr>\n",
              "      <th>28</th>\n",
              "      <td>Dec 17 2019</td>\n",
              "      <td>6931.32</td>\n",
              "      <td>6964.07</td>\n",
              "      <td>6587.97</td>\n",
              "      <td>6640.52</td>\n",
              "      <td>22363804217</td>\n",
              "      <td>120234244809</td>\n",
              "    </tr>\n",
              "    <tr>\n",
              "      <th>29</th>\n",
              "      <td>Dec 16 2019</td>\n",
              "      <td>7153.66</td>\n",
              "      <td>7171.17</td>\n",
              "      <td>6903.68</td>\n",
              "      <td>6932.48</td>\n",
              "      <td>20213265950</td>\n",
              "      <td>125515586952</td>\n",
              "    </tr>\n",
              "    <tr>\n",
              "      <th>30</th>\n",
              "      <td>Dec 15 2019</td>\n",
              "      <td>7124.24</td>\n",
              "      <td>7181.08</td>\n",
              "      <td>6924.38</td>\n",
              "      <td>7152.30</td>\n",
              "      <td>16881129804</td>\n",
              "      <td>129481424648</td>\n",
              "    </tr>\n",
              "  </tbody>\n",
              "</table>\n",
              "</div>"
            ],
            "text/plain": [
              "           Date     Open     High      Low    Close       Volume    Market_Cap\n",
              "0   Jan 14 2020  8140.93  8879.51  8140.93  8827.76  44841784107  160319484883\n",
              "1   Jan 13 2020  8189.77  8197.79  8079.70  8144.19  22482910688  147890525973\n",
              "2   Jan 12 2020  8033.26  8200.06  8009.06  8192.49  22903438381  148752956966\n",
              "3   Jan 11 2020  8162.19  8218.36  8029.64  8037.54  25521165085  145924199942\n",
              "4   Jan 10 2020  7878.31  8166.55  7726.77  8166.55  28714583844  148249907277\n",
              "5   Jan 09 2020  8082.30  8082.30  7842.40  7879.07  24045990466  143016572819\n",
              "6   Jan 08 2020  8161.94  8396.74  7956.77  8079.86  31672559265  146645162431\n",
              "7   Jan 07 2020  7768.68  8178.22  7768.23  8163.69  28767291327  148152237654\n",
              "8   Jan 06 2020  7410.45  7781.87  7409.29  7769.22  23276261598  140976457304\n",
              "9   Jan 05 2020  7410.45  7544.50  7400.54  7411.32  19725074095  134469548249\n",
              "10  Jan 04 2020  7345.38  7427.39  7309.51  7410.66  18444271275  134442464030\n",
              "11  Jan 03 2020  6984.43  7413.72  6915.00  7344.88  28111481032  133233444755\n",
              "12  Jan 02 2020  7202.55  7212.16  6935.27  6985.47  20802083465  126699395235\n",
              "13  Jan 01 2020  7194.89  7254.33  7174.94  7200.17  18565664997  130580829150\n",
              "14  Dec 31 2019  7294.44  7335.29  7169.78  7193.60  21167946112  130446112598\n",
              "15  Dec 30 2019  7420.27  7454.82  7276.31  7293.00  22874131672  132235128152\n",
              "16  Dec 29 2019  7317.65  7513.95  7279.87  7422.65  22445257702  134570835775\n",
              "17  Dec 28 2019  7289.03  7399.04  7286.91  7317.99  21365673026  132659059740\n",
              "18  Dec 27 2019  7238.14  7363.53  7189.93  7290.09  22777360996  132139502950\n",
              "19  Dec 26 2019  7274.80  7388.30  7200.39  7238.97  22787010034  131200030100\n",
              "20  Dec 25 2019  7325.76  7357.02  7220.99  7275.16  21559505149  131840641292\n",
              "21  Dec 24 2019  7354.39  7535.72  7269.53  7322.53  22991622105  132687583295\n",
              "22  Dec 23 2019  7508.90  7656.18  7326.19  7355.63  27831788041  133275709111\n",
              "23  Dec 22 2019  7191.19  7518.03  7167.18  7511.59  23134537956  136088022049\n",
              "24  Dec 21 2019  7220.59  7223.23  7112.74  7191.16  19312552168  130267655889\n",
              "25  Dec 20 2019  7208.64  7257.92  7086.12  7218.82  22633815180  130752796980\n",
              "26  Dec 19 2019  7277.59  7346.60  7041.38  7202.84  25904604416  130445758713\n",
              "27  Dec 18 2019  6647.70  7324.98  6540.05  7276.80  31836522778  131754969804\n",
              "28  Dec 17 2019  6931.32  6964.07  6587.97  6640.52  22363804217  120234244809\n",
              "29  Dec 16 2019  7153.66  7171.17  6903.68  6932.48  20213265950  125515586952\n",
              "30  Dec 15 2019  7124.24  7181.08  6924.38  7152.30  16881129804  129481424648"
            ]
          },
          "metadata": {
            "tags": []
          },
          "execution_count": 40
        }
      ]
    },
    {
      "cell_type": "code",
      "metadata": {
        "colab": {
          "base_uri": "https://localhost:8080/",
          "height": 999
        },
        "id": "hAlxf8FMmeqW",
        "outputId": "1711f1c1-28ec-4fa9-aeaf-7eac7d0e3b72"
      },
      "source": [
        "df.drop('Volume',\r\n",
        "        axis='columns')"
      ],
      "execution_count": null,
      "outputs": [
        {
          "output_type": "execute_result",
          "data": {
            "text/html": [
              "<div>\n",
              "<style scoped>\n",
              "    .dataframe tbody tr th:only-of-type {\n",
              "        vertical-align: middle;\n",
              "    }\n",
              "\n",
              "    .dataframe tbody tr th {\n",
              "        vertical-align: top;\n",
              "    }\n",
              "\n",
              "    .dataframe thead th {\n",
              "        text-align: right;\n",
              "    }\n",
              "</style>\n",
              "<table border=\"1\" class=\"dataframe\">\n",
              "  <thead>\n",
              "    <tr style=\"text-align: right;\">\n",
              "      <th></th>\n",
              "      <th>Date</th>\n",
              "      <th>Open</th>\n",
              "      <th>High</th>\n",
              "      <th>Low</th>\n",
              "      <th>Close</th>\n",
              "      <th>Market Cap</th>\n",
              "    </tr>\n",
              "  </thead>\n",
              "  <tbody>\n",
              "    <tr>\n",
              "      <th>0</th>\n",
              "      <td>Jan 14 2020</td>\n",
              "      <td>8140.93</td>\n",
              "      <td>8879.51</td>\n",
              "      <td>8140.93</td>\n",
              "      <td>8827.76</td>\n",
              "      <td>160319484883</td>\n",
              "    </tr>\n",
              "    <tr>\n",
              "      <th>1</th>\n",
              "      <td>Jan 13 2020</td>\n",
              "      <td>8189.77</td>\n",
              "      <td>8197.79</td>\n",
              "      <td>8079.70</td>\n",
              "      <td>8144.19</td>\n",
              "      <td>147890525973</td>\n",
              "    </tr>\n",
              "    <tr>\n",
              "      <th>2</th>\n",
              "      <td>Jan 12 2020</td>\n",
              "      <td>8033.26</td>\n",
              "      <td>8200.06</td>\n",
              "      <td>8009.06</td>\n",
              "      <td>8192.49</td>\n",
              "      <td>148752956966</td>\n",
              "    </tr>\n",
              "    <tr>\n",
              "      <th>3</th>\n",
              "      <td>Jan 11 2020</td>\n",
              "      <td>8162.19</td>\n",
              "      <td>8218.36</td>\n",
              "      <td>8029.64</td>\n",
              "      <td>8037.54</td>\n",
              "      <td>145924199942</td>\n",
              "    </tr>\n",
              "    <tr>\n",
              "      <th>4</th>\n",
              "      <td>Jan 10 2020</td>\n",
              "      <td>7878.31</td>\n",
              "      <td>8166.55</td>\n",
              "      <td>7726.77</td>\n",
              "      <td>8166.55</td>\n",
              "      <td>148249907277</td>\n",
              "    </tr>\n",
              "    <tr>\n",
              "      <th>5</th>\n",
              "      <td>Jan 09 2020</td>\n",
              "      <td>8082.30</td>\n",
              "      <td>8082.30</td>\n",
              "      <td>7842.40</td>\n",
              "      <td>7879.07</td>\n",
              "      <td>143016572819</td>\n",
              "    </tr>\n",
              "    <tr>\n",
              "      <th>6</th>\n",
              "      <td>Jan 08 2020</td>\n",
              "      <td>8161.94</td>\n",
              "      <td>8396.74</td>\n",
              "      <td>7956.77</td>\n",
              "      <td>8079.86</td>\n",
              "      <td>146645162431</td>\n",
              "    </tr>\n",
              "    <tr>\n",
              "      <th>7</th>\n",
              "      <td>Jan 07 2020</td>\n",
              "      <td>7768.68</td>\n",
              "      <td>8178.22</td>\n",
              "      <td>7768.23</td>\n",
              "      <td>8163.69</td>\n",
              "      <td>148152237654</td>\n",
              "    </tr>\n",
              "    <tr>\n",
              "      <th>8</th>\n",
              "      <td>Jan 06 2020</td>\n",
              "      <td>7410.45</td>\n",
              "      <td>7781.87</td>\n",
              "      <td>7409.29</td>\n",
              "      <td>7769.22</td>\n",
              "      <td>140976457304</td>\n",
              "    </tr>\n",
              "    <tr>\n",
              "      <th>9</th>\n",
              "      <td>Jan 05 2020</td>\n",
              "      <td>7410.45</td>\n",
              "      <td>7544.50</td>\n",
              "      <td>7400.54</td>\n",
              "      <td>7411.32</td>\n",
              "      <td>134469548249</td>\n",
              "    </tr>\n",
              "    <tr>\n",
              "      <th>10</th>\n",
              "      <td>Jan 04 2020</td>\n",
              "      <td>7345.38</td>\n",
              "      <td>7427.39</td>\n",
              "      <td>7309.51</td>\n",
              "      <td>7410.66</td>\n",
              "      <td>134442464030</td>\n",
              "    </tr>\n",
              "    <tr>\n",
              "      <th>11</th>\n",
              "      <td>Jan 03 2020</td>\n",
              "      <td>6984.43</td>\n",
              "      <td>7413.72</td>\n",
              "      <td>6915.00</td>\n",
              "      <td>7344.88</td>\n",
              "      <td>133233444755</td>\n",
              "    </tr>\n",
              "    <tr>\n",
              "      <th>12</th>\n",
              "      <td>Jan 02 2020</td>\n",
              "      <td>7202.55</td>\n",
              "      <td>7212.16</td>\n",
              "      <td>6935.27</td>\n",
              "      <td>6985.47</td>\n",
              "      <td>126699395235</td>\n",
              "    </tr>\n",
              "    <tr>\n",
              "      <th>13</th>\n",
              "      <td>Jan 01 2020</td>\n",
              "      <td>7194.89</td>\n",
              "      <td>7254.33</td>\n",
              "      <td>7174.94</td>\n",
              "      <td>7200.17</td>\n",
              "      <td>130580829150</td>\n",
              "    </tr>\n",
              "    <tr>\n",
              "      <th>14</th>\n",
              "      <td>Dec 31 2019</td>\n",
              "      <td>7294.44</td>\n",
              "      <td>7335.29</td>\n",
              "      <td>7169.78</td>\n",
              "      <td>7193.60</td>\n",
              "      <td>130446112598</td>\n",
              "    </tr>\n",
              "    <tr>\n",
              "      <th>15</th>\n",
              "      <td>Dec 30 2019</td>\n",
              "      <td>7420.27</td>\n",
              "      <td>7454.82</td>\n",
              "      <td>7276.31</td>\n",
              "      <td>7293.00</td>\n",
              "      <td>132235128152</td>\n",
              "    </tr>\n",
              "    <tr>\n",
              "      <th>16</th>\n",
              "      <td>Dec 29 2019</td>\n",
              "      <td>7317.65</td>\n",
              "      <td>7513.95</td>\n",
              "      <td>7279.87</td>\n",
              "      <td>7422.65</td>\n",
              "      <td>134570835775</td>\n",
              "    </tr>\n",
              "    <tr>\n",
              "      <th>17</th>\n",
              "      <td>Dec 28 2019</td>\n",
              "      <td>7289.03</td>\n",
              "      <td>7399.04</td>\n",
              "      <td>7286.91</td>\n",
              "      <td>7317.99</td>\n",
              "      <td>132659059740</td>\n",
              "    </tr>\n",
              "    <tr>\n",
              "      <th>18</th>\n",
              "      <td>Dec 27 2019</td>\n",
              "      <td>7238.14</td>\n",
              "      <td>7363.53</td>\n",
              "      <td>7189.93</td>\n",
              "      <td>7290.09</td>\n",
              "      <td>132139502950</td>\n",
              "    </tr>\n",
              "    <tr>\n",
              "      <th>19</th>\n",
              "      <td>Dec 26 2019</td>\n",
              "      <td>7274.80</td>\n",
              "      <td>7388.30</td>\n",
              "      <td>7200.39</td>\n",
              "      <td>7238.97</td>\n",
              "      <td>131200030100</td>\n",
              "    </tr>\n",
              "    <tr>\n",
              "      <th>20</th>\n",
              "      <td>Dec 25 2019</td>\n",
              "      <td>7325.76</td>\n",
              "      <td>7357.02</td>\n",
              "      <td>7220.99</td>\n",
              "      <td>7275.16</td>\n",
              "      <td>131840641292</td>\n",
              "    </tr>\n",
              "    <tr>\n",
              "      <th>21</th>\n",
              "      <td>Dec 24 2019</td>\n",
              "      <td>7354.39</td>\n",
              "      <td>7535.72</td>\n",
              "      <td>7269.53</td>\n",
              "      <td>7322.53</td>\n",
              "      <td>132687583295</td>\n",
              "    </tr>\n",
              "    <tr>\n",
              "      <th>22</th>\n",
              "      <td>Dec 23 2019</td>\n",
              "      <td>7508.90</td>\n",
              "      <td>7656.18</td>\n",
              "      <td>7326.19</td>\n",
              "      <td>7355.63</td>\n",
              "      <td>133275709111</td>\n",
              "    </tr>\n",
              "    <tr>\n",
              "      <th>23</th>\n",
              "      <td>Dec 22 2019</td>\n",
              "      <td>7191.19</td>\n",
              "      <td>7518.03</td>\n",
              "      <td>7167.18</td>\n",
              "      <td>7511.59</td>\n",
              "      <td>136088022049</td>\n",
              "    </tr>\n",
              "    <tr>\n",
              "      <th>24</th>\n",
              "      <td>Dec 21 2019</td>\n",
              "      <td>7220.59</td>\n",
              "      <td>7223.23</td>\n",
              "      <td>7112.74</td>\n",
              "      <td>7191.16</td>\n",
              "      <td>130267655889</td>\n",
              "    </tr>\n",
              "    <tr>\n",
              "      <th>25</th>\n",
              "      <td>Dec 20 2019</td>\n",
              "      <td>7208.64</td>\n",
              "      <td>7257.92</td>\n",
              "      <td>7086.12</td>\n",
              "      <td>7218.82</td>\n",
              "      <td>130752796980</td>\n",
              "    </tr>\n",
              "    <tr>\n",
              "      <th>26</th>\n",
              "      <td>Dec 19 2019</td>\n",
              "      <td>7277.59</td>\n",
              "      <td>7346.60</td>\n",
              "      <td>7041.38</td>\n",
              "      <td>7202.84</td>\n",
              "      <td>130445758713</td>\n",
              "    </tr>\n",
              "    <tr>\n",
              "      <th>27</th>\n",
              "      <td>Dec 18 2019</td>\n",
              "      <td>6647.70</td>\n",
              "      <td>7324.98</td>\n",
              "      <td>6540.05</td>\n",
              "      <td>7276.80</td>\n",
              "      <td>131754969804</td>\n",
              "    </tr>\n",
              "    <tr>\n",
              "      <th>28</th>\n",
              "      <td>Dec 17 2019</td>\n",
              "      <td>6931.32</td>\n",
              "      <td>6964.07</td>\n",
              "      <td>6587.97</td>\n",
              "      <td>6640.52</td>\n",
              "      <td>120234244809</td>\n",
              "    </tr>\n",
              "    <tr>\n",
              "      <th>29</th>\n",
              "      <td>Dec 16 2019</td>\n",
              "      <td>7153.66</td>\n",
              "      <td>7171.17</td>\n",
              "      <td>6903.68</td>\n",
              "      <td>6932.48</td>\n",
              "      <td>125515586952</td>\n",
              "    </tr>\n",
              "    <tr>\n",
              "      <th>30</th>\n",
              "      <td>Dec 15 2019</td>\n",
              "      <td>7124.24</td>\n",
              "      <td>7181.08</td>\n",
              "      <td>6924.38</td>\n",
              "      <td>7152.30</td>\n",
              "      <td>129481424648</td>\n",
              "    </tr>\n",
              "  </tbody>\n",
              "</table>\n",
              "</div>"
            ],
            "text/plain": [
              "           Date     Open     High      Low    Close    Market Cap\n",
              "0   Jan 14 2020  8140.93  8879.51  8140.93  8827.76  160319484883\n",
              "1   Jan 13 2020  8189.77  8197.79  8079.70  8144.19  147890525973\n",
              "2   Jan 12 2020  8033.26  8200.06  8009.06  8192.49  148752956966\n",
              "3   Jan 11 2020  8162.19  8218.36  8029.64  8037.54  145924199942\n",
              "4   Jan 10 2020  7878.31  8166.55  7726.77  8166.55  148249907277\n",
              "5   Jan 09 2020  8082.30  8082.30  7842.40  7879.07  143016572819\n",
              "6   Jan 08 2020  8161.94  8396.74  7956.77  8079.86  146645162431\n",
              "7   Jan 07 2020  7768.68  8178.22  7768.23  8163.69  148152237654\n",
              "8   Jan 06 2020  7410.45  7781.87  7409.29  7769.22  140976457304\n",
              "9   Jan 05 2020  7410.45  7544.50  7400.54  7411.32  134469548249\n",
              "10  Jan 04 2020  7345.38  7427.39  7309.51  7410.66  134442464030\n",
              "11  Jan 03 2020  6984.43  7413.72  6915.00  7344.88  133233444755\n",
              "12  Jan 02 2020  7202.55  7212.16  6935.27  6985.47  126699395235\n",
              "13  Jan 01 2020  7194.89  7254.33  7174.94  7200.17  130580829150\n",
              "14  Dec 31 2019  7294.44  7335.29  7169.78  7193.60  130446112598\n",
              "15  Dec 30 2019  7420.27  7454.82  7276.31  7293.00  132235128152\n",
              "16  Dec 29 2019  7317.65  7513.95  7279.87  7422.65  134570835775\n",
              "17  Dec 28 2019  7289.03  7399.04  7286.91  7317.99  132659059740\n",
              "18  Dec 27 2019  7238.14  7363.53  7189.93  7290.09  132139502950\n",
              "19  Dec 26 2019  7274.80  7388.30  7200.39  7238.97  131200030100\n",
              "20  Dec 25 2019  7325.76  7357.02  7220.99  7275.16  131840641292\n",
              "21  Dec 24 2019  7354.39  7535.72  7269.53  7322.53  132687583295\n",
              "22  Dec 23 2019  7508.90  7656.18  7326.19  7355.63  133275709111\n",
              "23  Dec 22 2019  7191.19  7518.03  7167.18  7511.59  136088022049\n",
              "24  Dec 21 2019  7220.59  7223.23  7112.74  7191.16  130267655889\n",
              "25  Dec 20 2019  7208.64  7257.92  7086.12  7218.82  130752796980\n",
              "26  Dec 19 2019  7277.59  7346.60  7041.38  7202.84  130445758713\n",
              "27  Dec 18 2019  6647.70  7324.98  6540.05  7276.80  131754969804\n",
              "28  Dec 17 2019  6931.32  6964.07  6587.97  6640.52  120234244809\n",
              "29  Dec 16 2019  7153.66  7171.17  6903.68  6932.48  125515586952\n",
              "30  Dec 15 2019  7124.24  7181.08  6924.38  7152.30  129481424648"
            ]
          },
          "metadata": {
            "tags": []
          },
          "execution_count": 41
        }
      ]
    },
    {
      "cell_type": "code",
      "metadata": {
        "id": "c9Na9TaAolPN"
      },
      "source": [
        "#df.drop_duplicates\r\n",
        "#df.dropna\r\n",
        "#df.rename(str.lower, axis='columns')\r\n",
        "#df_copy=df.copy(deep=True)"
      ],
      "execution_count": null,
      "outputs": []
    },
    {
      "cell_type": "code",
      "metadata": {
        "colab": {
          "base_uri": "https://localhost:8080/"
        },
        "id": "GRw-X_yQU31Q",
        "outputId": "4ca0672f-7b8c-4c6d-9a46-fe00f9751574"
      },
      "source": [
        "fp='https://bit.ly/bitcoin-purchases'\r\n",
        "print(fp)"
      ],
      "execution_count": null,
      "outputs": [
        {
          "output_type": "stream",
          "text": [
            "https://bit.ly/bitcoin-purchases\n"
          ],
          "name": "stdout"
        }
      ]
    },
    {
      "cell_type": "code",
      "metadata": {
        "colab": {
          "base_uri": "https://localhost:8080/",
          "height": 202
        },
        "id": "GbcmHnrdVGZ0",
        "outputId": "b4d13d0a-4c04-4202-9ad3-a87bfaf80e5d"
      },
      "source": [
        "df=pd.read_csv(fp)\r\n",
        "df.head()"
      ],
      "execution_count": null,
      "outputs": [
        {
          "output_type": "execute_result",
          "data": {
            "text/html": [
              "<div>\n",
              "<style scoped>\n",
              "    .dataframe tbody tr th:only-of-type {\n",
              "        vertical-align: middle;\n",
              "    }\n",
              "\n",
              "    .dataframe tbody tr th {\n",
              "        vertical-align: top;\n",
              "    }\n",
              "\n",
              "    .dataframe thead th {\n",
              "        text-align: right;\n",
              "    }\n",
              "</style>\n",
              "<table border=\"1\" class=\"dataframe\">\n",
              "  <thead>\n",
              "    <tr style=\"text-align: right;\">\n",
              "      <th></th>\n",
              "      <th>bitcoin address</th>\n",
              "      <th>wire amount</th>\n",
              "      <th>credit card</th>\n",
              "    </tr>\n",
              "  </thead>\n",
              "  <tbody>\n",
              "    <tr>\n",
              "      <th>0</th>\n",
              "      <td>1HeUNvQfhjn8afvjMrMEX5VQB5zy8AacXZ</td>\n",
              "      <td>$2268.82</td>\n",
              "      <td>6759241310493014168</td>\n",
              "    </tr>\n",
              "    <tr>\n",
              "      <th>1</th>\n",
              "      <td>18xA8uEzQsEQpyfJWrrLmnu72ut7p2GgeU</td>\n",
              "      <td>$4590.27</td>\n",
              "      <td>6394078189900621</td>\n",
              "    </tr>\n",
              "    <tr>\n",
              "      <th>2</th>\n",
              "      <td>1CPLebXd6VKdEmD6xsVByYDbsyhkZ4XzrE</td>\n",
              "      <td>$6160.48</td>\n",
              "      <td>3539006321388994</td>\n",
              "    </tr>\n",
              "    <tr>\n",
              "      <th>3</th>\n",
              "      <td>1ESn9zPPwAExS98jqhjkDPd7tGeoevL42u</td>\n",
              "      <td>$6647.19</td>\n",
              "      <td>3560801557252993</td>\n",
              "    </tr>\n",
              "    <tr>\n",
              "      <th>4</th>\n",
              "      <td>1JLYsDExCUsEPrN6vNsEgJubJE4xqWtqhp</td>\n",
              "      <td>$3759.40</td>\n",
              "      <td>5349906235596126</td>\n",
              "    </tr>\n",
              "  </tbody>\n",
              "</table>\n",
              "</div>"
            ],
            "text/plain": [
              "                      bitcoin address wire amount          credit card\n",
              "0  1HeUNvQfhjn8afvjMrMEX5VQB5zy8AacXZ    $2268.82  6759241310493014168\n",
              "1  18xA8uEzQsEQpyfJWrrLmnu72ut7p2GgeU    $4590.27     6394078189900621\n",
              "2  1CPLebXd6VKdEmD6xsVByYDbsyhkZ4XzrE    $6160.48     3539006321388994\n",
              "3  1ESn9zPPwAExS98jqhjkDPd7tGeoevL42u    $6647.19     3560801557252993\n",
              "4  1JLYsDExCUsEPrN6vNsEgJubJE4xqWtqhp    $3759.40     5349906235596126"
            ]
          },
          "metadata": {
            "tags": []
          },
          "execution_count": 79
        }
      ]
    },
    {
      "cell_type": "code",
      "metadata": {
        "id": "0kI64cP9itsY"
      },
      "source": [
        "df.to_csv('bitcoin-purchases.csv')"
      ],
      "execution_count": null,
      "outputs": []
    },
    {
      "cell_type": "code",
      "metadata": {
        "colab": {
          "base_uri": "https://localhost:8080/"
        },
        "id": "XehOtB7gVjLW",
        "outputId": "348520f8-0e73-41a2-f5a4-7cb0ddd12bdb"
      },
      "source": [
        "df.shape"
      ],
      "execution_count": null,
      "outputs": [
        {
          "output_type": "execute_result",
          "data": {
            "text/plain": [
              "(1000, 3)"
            ]
          },
          "metadata": {
            "tags": []
          },
          "execution_count": 5
        }
      ]
    },
    {
      "cell_type": "code",
      "metadata": {
        "colab": {
          "base_uri": "https://localhost:8080/"
        },
        "id": "xCJ666gXVp2L",
        "outputId": "61dacbca-572b-4667-b6ca-0f385a6a6172"
      },
      "source": [
        "df.dtypes"
      ],
      "execution_count": null,
      "outputs": [
        {
          "output_type": "execute_result",
          "data": {
            "text/plain": [
              "bitcoin address    object\n",
              "wire amount        object\n",
              "credit card         int64\n",
              "dtype: object"
            ]
          },
          "metadata": {
            "tags": []
          },
          "execution_count": 6
        }
      ]
    },
    {
      "cell_type": "code",
      "metadata": {
        "colab": {
          "base_uri": "https://localhost:8080/"
        },
        "id": "HUkcoO55Vs9m",
        "outputId": "b533b0c7-3e72-40c4-e1e9-a917681b1bc6"
      },
      "source": [
        "#Suppression du sigle dollar\r\n",
        "df['wire amount'].str.replace('$','')"
      ],
      "execution_count": null,
      "outputs": [
        {
          "output_type": "execute_result",
          "data": {
            "text/plain": [
              "0      2268.82\n",
              "1      4590.27\n",
              "2      6160.48\n",
              "3      6647.19\n",
              "4      3759.40\n",
              "        ...   \n",
              "995    8777.99\n",
              "996    7614.59\n",
              "997    1710.21\n",
              "998    5240.64\n",
              "999    5672.95\n",
              "Name: wire amount, Length: 1000, dtype: object"
            ]
          },
          "metadata": {
            "tags": []
          },
          "execution_count": 7
        }
      ]
    },
    {
      "cell_type": "code",
      "metadata": {
        "colab": {
          "base_uri": "https://localhost:8080/"
        },
        "id": "JIU0J8EWXkng",
        "outputId": "0a0c7ee8-9e8b-4cf7-c27f-2bd41630d6b3"
      },
      "source": [
        "df['wire amount'].str.replace('$','').astype(float)"
      ],
      "execution_count": null,
      "outputs": [
        {
          "output_type": "execute_result",
          "data": {
            "text/plain": [
              "0      2268.82\n",
              "1      4590.27\n",
              "2      6160.48\n",
              "3      6647.19\n",
              "4      3759.40\n",
              "        ...   \n",
              "995    8777.99\n",
              "996    7614.59\n",
              "997    1710.21\n",
              "998    5240.64\n",
              "999    5672.95\n",
              "Name: wire amount, Length: 1000, dtype: float64"
            ]
          },
          "metadata": {
            "tags": []
          },
          "execution_count": 8
        }
      ]
    },
    {
      "cell_type": "code",
      "metadata": {
        "id": "f_TmHX5-XzxG"
      },
      "source": [
        "df['wire amount']=df['wire amount'].str.replace('$','').astype(float)"
      ],
      "execution_count": null,
      "outputs": []
    },
    {
      "cell_type": "code",
      "metadata": {
        "colab": {
          "base_uri": "https://localhost:8080/"
        },
        "id": "_Zcqdw_CX5xV",
        "outputId": "19ddddb5-c6e1-45d4-c714-fed40534e7d6"
      },
      "source": [
        "df.dtypes"
      ],
      "execution_count": null,
      "outputs": [
        {
          "output_type": "execute_result",
          "data": {
            "text/plain": [
              "bitcoin address     object\n",
              "wire amount        float64\n",
              "credit card          int64\n",
              "dtype: object"
            ]
          },
          "metadata": {
            "tags": []
          },
          "execution_count": 10
        }
      ]
    },
    {
      "cell_type": "code",
      "metadata": {
        "colab": {
          "base_uri": "https://localhost:8080/"
        },
        "id": "jELNh6DiYAhZ",
        "outputId": "f915f9c5-f1b7-4ebd-fac5-e58eb28c817a"
      },
      "source": [
        "fp='https://bit.ly/bitcoin-purchases2'\r\n",
        "print(fp)"
      ],
      "execution_count": null,
      "outputs": [
        {
          "output_type": "stream",
          "text": [
            "https://bit.ly/bitcoin-purchases2\n"
          ],
          "name": "stdout"
        }
      ]
    },
    {
      "cell_type": "code",
      "metadata": {
        "colab": {
          "base_uri": "https://localhost:8080/",
          "height": 202
        },
        "id": "OPdK-Z_8aF4b",
        "outputId": "e11c552c-6b5f-4d76-e2ce-13c6ecabc6db"
      },
      "source": [
        "df=pd.read_csv(fp)\r\n",
        "df.head()"
      ],
      "execution_count": null,
      "outputs": [
        {
          "output_type": "execute_result",
          "data": {
            "text/html": [
              "<div>\n",
              "<style scoped>\n",
              "    .dataframe tbody tr th:only-of-type {\n",
              "        vertical-align: middle;\n",
              "    }\n",
              "\n",
              "    .dataframe tbody tr th {\n",
              "        vertical-align: top;\n",
              "    }\n",
              "\n",
              "    .dataframe thead th {\n",
              "        text-align: right;\n",
              "    }\n",
              "</style>\n",
              "<table border=\"1\" class=\"dataframe\">\n",
              "  <thead>\n",
              "    <tr style=\"text-align: right;\">\n",
              "      <th></th>\n",
              "      <th>bitcoin address</th>\n",
              "      <th>wire amount</th>\n",
              "      <th>credit card</th>\n",
              "    </tr>\n",
              "  </thead>\n",
              "  <tbody>\n",
              "    <tr>\n",
              "      <th>0</th>\n",
              "      <td>1J9DVMtgvnPv4KGHL2XSzoTSt5cBBL1DXe</td>\n",
              "      <td>£8356.92</td>\n",
              "      <td>3543456448666398</td>\n",
              "    </tr>\n",
              "    <tr>\n",
              "      <th>1</th>\n",
              "      <td>1HaiVQbzCTs7t1K1fckYEUi9t8ERBFRR7Q</td>\n",
              "      <td>€311,06</td>\n",
              "      <td>3584615208479876</td>\n",
              "    </tr>\n",
              "    <tr>\n",
              "      <th>2</th>\n",
              "      <td>1NGPjXfDScEUSZYajAzCkxaVApTbBHC7jP</td>\n",
              "      <td>€2032,44</td>\n",
              "      <td>6370577480710876</td>\n",
              "    </tr>\n",
              "    <tr>\n",
              "      <th>3</th>\n",
              "      <td>15cSYRTbcrxYinxNxk7VbkPLZG8nypdjy6</td>\n",
              "      <td>¥8155.74</td>\n",
              "      <td>4508652385157398</td>\n",
              "    </tr>\n",
              "    <tr>\n",
              "      <th>4</th>\n",
              "      <td>18j2qG1DH9YduJiBiccAq8Ak897G3E4JyZ</td>\n",
              "      <td>£3265.44</td>\n",
              "      <td>374622922103592</td>\n",
              "    </tr>\n",
              "  </tbody>\n",
              "</table>\n",
              "</div>"
            ],
            "text/plain": [
              "                      bitcoin address wire amount       credit card\n",
              "0  1J9DVMtgvnPv4KGHL2XSzoTSt5cBBL1DXe    £8356.92  3543456448666398\n",
              "1  1HaiVQbzCTs7t1K1fckYEUi9t8ERBFRR7Q     €311,06  3584615208479876\n",
              "2  1NGPjXfDScEUSZYajAzCkxaVApTbBHC7jP    €2032,44  6370577480710876\n",
              "3  15cSYRTbcrxYinxNxk7VbkPLZG8nypdjy6    ¥8155.74  4508652385157398\n",
              "4  18j2qG1DH9YduJiBiccAq8Ak897G3E4JyZ    £3265.44   374622922103592"
            ]
          },
          "metadata": {
            "tags": []
          },
          "execution_count": 82
        }
      ]
    },
    {
      "cell_type": "code",
      "metadata": {
        "id": "REM6Q-ZbjBpq"
      },
      "source": [
        "df.to_csv('bitcoin-purchases2.csv')"
      ],
      "execution_count": null,
      "outputs": []
    },
    {
      "cell_type": "code",
      "metadata": {
        "colab": {
          "base_uri": "https://localhost:8080/",
          "height": 202
        },
        "id": "WpPoOkBZaVMn",
        "outputId": "d87a4af1-550e-4af0-b24a-3a863a6c63e1"
      },
      "source": [
        "df.tail()"
      ],
      "execution_count": null,
      "outputs": [
        {
          "output_type": "execute_result",
          "data": {
            "text/html": [
              "<div>\n",
              "<style scoped>\n",
              "    .dataframe tbody tr th:only-of-type {\n",
              "        vertical-align: middle;\n",
              "    }\n",
              "\n",
              "    .dataframe tbody tr th {\n",
              "        vertical-align: top;\n",
              "    }\n",
              "\n",
              "    .dataframe thead th {\n",
              "        text-align: right;\n",
              "    }\n",
              "</style>\n",
              "<table border=\"1\" class=\"dataframe\">\n",
              "  <thead>\n",
              "    <tr style=\"text-align: right;\">\n",
              "      <th></th>\n",
              "      <th>bitcoin address</th>\n",
              "      <th>wire amount</th>\n",
              "      <th>credit card</th>\n",
              "    </tr>\n",
              "  </thead>\n",
              "  <tbody>\n",
              "    <tr>\n",
              "      <th>995</th>\n",
              "      <td>1Jmz4FMQENDkrtkivVdXM8SiC6ZCJVTDhp</td>\n",
              "      <td>¥844.68</td>\n",
              "      <td>5541649583285688</td>\n",
              "    </tr>\n",
              "    <tr>\n",
              "      <th>996</th>\n",
              "      <td>1GCZKgPV9277czn1RsTYoubCwhbndUvPZU</td>\n",
              "      <td>€1433,63</td>\n",
              "      <td>6304232254235660027</td>\n",
              "    </tr>\n",
              "    <tr>\n",
              "      <th>997</th>\n",
              "      <td>1LK2DsWBUmSAsqg7n46sdgg4v2SNrqEPM</td>\n",
              "      <td>€3814,11</td>\n",
              "      <td>3546750658508135</td>\n",
              "    </tr>\n",
              "    <tr>\n",
              "      <th>998</th>\n",
              "      <td>1PD6oNfFEnxMsR1PvUvkjHQdHYLCewLJhq</td>\n",
              "      <td>$2900.85</td>\n",
              "      <td>6333272716093574938</td>\n",
              "    </tr>\n",
              "    <tr>\n",
              "      <th>999</th>\n",
              "      <td>1B2vk6p7usuV4dfrBMLo8Rzpb5NatTmE8R</td>\n",
              "      <td>$1587.16</td>\n",
              "      <td>4913614335644981</td>\n",
              "    </tr>\n",
              "  </tbody>\n",
              "</table>\n",
              "</div>"
            ],
            "text/plain": [
              "                        bitcoin address wire amount          credit card\n",
              "995  1Jmz4FMQENDkrtkivVdXM8SiC6ZCJVTDhp     ¥844.68     5541649583285688\n",
              "996  1GCZKgPV9277czn1RsTYoubCwhbndUvPZU    €1433,63  6304232254235660027\n",
              "997   1LK2DsWBUmSAsqg7n46sdgg4v2SNrqEPM    €3814,11     3546750658508135\n",
              "998  1PD6oNfFEnxMsR1PvUvkjHQdHYLCewLJhq    $2900.85  6333272716093574938\n",
              "999  1B2vk6p7usuV4dfrBMLo8Rzpb5NatTmE8R    $1587.16     4913614335644981"
            ]
          },
          "metadata": {
            "tags": []
          },
          "execution_count": 14
        }
      ]
    },
    {
      "cell_type": "code",
      "metadata": {
        "id": "G4ISm2htaas6"
      },
      "source": [
        "#Remplacer les virgules par des points\r\n",
        "df['wire amount']=df['wire amount'].str.replace(',','.')"
      ],
      "execution_count": null,
      "outputs": []
    },
    {
      "cell_type": "code",
      "metadata": {
        "colab": {
          "base_uri": "https://localhost:8080/"
        },
        "id": "6dEKiWqIaiOy",
        "outputId": "b4ff993a-b570-4e6d-bb84-4fcef6a84fb3"
      },
      "source": [
        "#Supression du symbole de la devise dans la colonne wire amount \r\n",
        "df['wire amount'].str.slice(1)"
      ],
      "execution_count": null,
      "outputs": [
        {
          "output_type": "execute_result",
          "data": {
            "text/plain": [
              "0      8356.92\n",
              "1       311,06\n",
              "2      2032,44\n",
              "3      8155.74\n",
              "4      3265.44\n",
              "        ...   \n",
              "995     844.68\n",
              "996    1433,63\n",
              "997    3814,11\n",
              "998    2900.85\n",
              "999    1587.16\n",
              "Name: wire amount, Length: 1000, dtype: object"
            ]
          },
          "metadata": {
            "tags": []
          },
          "execution_count": 17
        }
      ]
    },
    {
      "cell_type": "code",
      "metadata": {
        "colab": {
          "base_uri": "https://localhost:8080/",
          "height": 202
        },
        "id": "O9eZgrSUfHrz",
        "outputId": "d0fbbb2c-118a-497c-d0fe-9449769a716f"
      },
      "source": [
        "df.head()"
      ],
      "execution_count": null,
      "outputs": [
        {
          "output_type": "execute_result",
          "data": {
            "text/html": [
              "<div>\n",
              "<style scoped>\n",
              "    .dataframe tbody tr th:only-of-type {\n",
              "        vertical-align: middle;\n",
              "    }\n",
              "\n",
              "    .dataframe tbody tr th {\n",
              "        vertical-align: top;\n",
              "    }\n",
              "\n",
              "    .dataframe thead th {\n",
              "        text-align: right;\n",
              "    }\n",
              "</style>\n",
              "<table border=\"1\" class=\"dataframe\">\n",
              "  <thead>\n",
              "    <tr style=\"text-align: right;\">\n",
              "      <th></th>\n",
              "      <th>bitcoin address</th>\n",
              "      <th>wire amount</th>\n",
              "      <th>credit card</th>\n",
              "    </tr>\n",
              "  </thead>\n",
              "  <tbody>\n",
              "    <tr>\n",
              "      <th>0</th>\n",
              "      <td>1J9DVMtgvnPv4KGHL2XSzoTSt5cBBL1DXe</td>\n",
              "      <td>£8356.92</td>\n",
              "      <td>3543456448666398</td>\n",
              "    </tr>\n",
              "    <tr>\n",
              "      <th>1</th>\n",
              "      <td>1HaiVQbzCTs7t1K1fckYEUi9t8ERBFRR7Q</td>\n",
              "      <td>€311.06</td>\n",
              "      <td>3584615208479876</td>\n",
              "    </tr>\n",
              "    <tr>\n",
              "      <th>2</th>\n",
              "      <td>1NGPjXfDScEUSZYajAzCkxaVApTbBHC7jP</td>\n",
              "      <td>€2032.44</td>\n",
              "      <td>6370577480710876</td>\n",
              "    </tr>\n",
              "    <tr>\n",
              "      <th>3</th>\n",
              "      <td>15cSYRTbcrxYinxNxk7VbkPLZG8nypdjy6</td>\n",
              "      <td>¥8155.74</td>\n",
              "      <td>4508652385157398</td>\n",
              "    </tr>\n",
              "    <tr>\n",
              "      <th>4</th>\n",
              "      <td>18j2qG1DH9YduJiBiccAq8Ak897G3E4JyZ</td>\n",
              "      <td>£3265.44</td>\n",
              "      <td>374622922103592</td>\n",
              "    </tr>\n",
              "  </tbody>\n",
              "</table>\n",
              "</div>"
            ],
            "text/plain": [
              "                      bitcoin address wire amount       credit card\n",
              "0  1J9DVMtgvnPv4KGHL2XSzoTSt5cBBL1DXe    £8356.92  3543456448666398\n",
              "1  1HaiVQbzCTs7t1K1fckYEUi9t8ERBFRR7Q     €311.06  3584615208479876\n",
              "2  1NGPjXfDScEUSZYajAzCkxaVApTbBHC7jP    €2032.44  6370577480710876\n",
              "3  15cSYRTbcrxYinxNxk7VbkPLZG8nypdjy6    ¥8155.74  4508652385157398\n",
              "4  18j2qG1DH9YduJiBiccAq8Ak897G3E4JyZ    £3265.44   374622922103592"
            ]
          },
          "metadata": {
            "tags": []
          },
          "execution_count": 19
        }
      ]
    },
    {
      "cell_type": "code",
      "metadata": {
        "id": "iSHjaC9Yd8Lw"
      },
      "source": [
        "df['wire amount']=df['wire amount'].str.replace('$','').astype(float)\r\n",
        "df['wire amount']=df['wire amount'].str.replace('£','').astype(float)\r\n",
        "df['wire amount']=df['wire amount'].str.replace('€','').astype(float)\r\n",
        "df['wire amount']=df['wire amount'].str.replace('¥','').astype(float)"
      ],
      "execution_count": null,
      "outputs": []
    },
    {
      "cell_type": "code",
      "metadata": {
        "colab": {
          "base_uri": "https://localhost:8080/"
        },
        "id": "UccR9sDsgen5",
        "outputId": "3a750e65-c9c4-47e5-a166-d82235a034d0"
      },
      "source": [
        "#Création d'une colonne currency par les fonctions get ou slice\r\n",
        "df['wire amount'].str.get(0)"
      ],
      "execution_count": null,
      "outputs": [
        {
          "output_type": "execute_result",
          "data": {
            "text/plain": [
              "0      £\n",
              "1      €\n",
              "2      €\n",
              "3      ¥\n",
              "4      £\n",
              "      ..\n",
              "995    ¥\n",
              "996    €\n",
              "997    €\n",
              "998    $\n",
              "999    $\n",
              "Name: wire amount, Length: 1000, dtype: object"
            ]
          },
          "metadata": {
            "tags": []
          },
          "execution_count": 20
        }
      ]
    },
    {
      "cell_type": "code",
      "metadata": {
        "colab": {
          "base_uri": "https://localhost:8080/"
        },
        "id": "LHdYNZQygpz2",
        "outputId": "2e48aa2c-33d4-4420-928c-63d32d69292b"
      },
      "source": [
        "df['wire amount'].str.slice(stop=1)"
      ],
      "execution_count": null,
      "outputs": [
        {
          "output_type": "execute_result",
          "data": {
            "text/plain": [
              "0      £\n",
              "1      €\n",
              "2      €\n",
              "3      ¥\n",
              "4      £\n",
              "      ..\n",
              "995    ¥\n",
              "996    €\n",
              "997    €\n",
              "998    $\n",
              "999    $\n",
              "Name: wire amount, Length: 1000, dtype: object"
            ]
          },
          "metadata": {
            "tags": []
          },
          "execution_count": 21
        }
      ]
    },
    {
      "cell_type": "code",
      "metadata": {
        "colab": {
          "base_uri": "https://localhost:8080/",
          "height": 202
        },
        "id": "AuzUYZ_EguD-",
        "outputId": "c10f3c56-1906-4832-c4bc-da43714edacc"
      },
      "source": [
        "df['currency']=df['wire amount'].str.get(0)\r\n",
        "df.head()"
      ],
      "execution_count": null,
      "outputs": [
        {
          "output_type": "execute_result",
          "data": {
            "text/html": [
              "<div>\n",
              "<style scoped>\n",
              "    .dataframe tbody tr th:only-of-type {\n",
              "        vertical-align: middle;\n",
              "    }\n",
              "\n",
              "    .dataframe tbody tr th {\n",
              "        vertical-align: top;\n",
              "    }\n",
              "\n",
              "    .dataframe thead th {\n",
              "        text-align: right;\n",
              "    }\n",
              "</style>\n",
              "<table border=\"1\" class=\"dataframe\">\n",
              "  <thead>\n",
              "    <tr style=\"text-align: right;\">\n",
              "      <th></th>\n",
              "      <th>bitcoin address</th>\n",
              "      <th>wire amount</th>\n",
              "      <th>credit card</th>\n",
              "      <th>currency</th>\n",
              "    </tr>\n",
              "  </thead>\n",
              "  <tbody>\n",
              "    <tr>\n",
              "      <th>0</th>\n",
              "      <td>1J9DVMtgvnPv4KGHL2XSzoTSt5cBBL1DXe</td>\n",
              "      <td>£8356.92</td>\n",
              "      <td>3543456448666398</td>\n",
              "      <td>£</td>\n",
              "    </tr>\n",
              "    <tr>\n",
              "      <th>1</th>\n",
              "      <td>1HaiVQbzCTs7t1K1fckYEUi9t8ERBFRR7Q</td>\n",
              "      <td>€311.06</td>\n",
              "      <td>3584615208479876</td>\n",
              "      <td>€</td>\n",
              "    </tr>\n",
              "    <tr>\n",
              "      <th>2</th>\n",
              "      <td>1NGPjXfDScEUSZYajAzCkxaVApTbBHC7jP</td>\n",
              "      <td>€2032.44</td>\n",
              "      <td>6370577480710876</td>\n",
              "      <td>€</td>\n",
              "    </tr>\n",
              "    <tr>\n",
              "      <th>3</th>\n",
              "      <td>15cSYRTbcrxYinxNxk7VbkPLZG8nypdjy6</td>\n",
              "      <td>¥8155.74</td>\n",
              "      <td>4508652385157398</td>\n",
              "      <td>¥</td>\n",
              "    </tr>\n",
              "    <tr>\n",
              "      <th>4</th>\n",
              "      <td>18j2qG1DH9YduJiBiccAq8Ak897G3E4JyZ</td>\n",
              "      <td>£3265.44</td>\n",
              "      <td>374622922103592</td>\n",
              "      <td>£</td>\n",
              "    </tr>\n",
              "  </tbody>\n",
              "</table>\n",
              "</div>"
            ],
            "text/plain": [
              "                      bitcoin address wire amount       credit card currency\n",
              "0  1J9DVMtgvnPv4KGHL2XSzoTSt5cBBL1DXe    £8356.92  3543456448666398        £\n",
              "1  1HaiVQbzCTs7t1K1fckYEUi9t8ERBFRR7Q     €311.06  3584615208479876        €\n",
              "2  1NGPjXfDScEUSZYajAzCkxaVApTbBHC7jP    €2032.44  6370577480710876        €\n",
              "3  15cSYRTbcrxYinxNxk7VbkPLZG8nypdjy6    ¥8155.74  4508652385157398        ¥\n",
              "4  18j2qG1DH9YduJiBiccAq8Ak897G3E4JyZ    £3265.44   374622922103592        £"
            ]
          },
          "metadata": {
            "tags": []
          },
          "execution_count": 23
        }
      ]
    },
    {
      "cell_type": "code",
      "metadata": {
        "colab": {
          "base_uri": "https://localhost:8080/",
          "height": 202
        },
        "id": "L0OCkoGShMP2",
        "outputId": "dae74acb-a218-42d7-ffe9-ac8697501772"
      },
      "source": [
        "df['currency']=df['wire amount'].str.slice(stop=1)\r\n",
        "df.head()"
      ],
      "execution_count": null,
      "outputs": [
        {
          "output_type": "execute_result",
          "data": {
            "text/html": [
              "<div>\n",
              "<style scoped>\n",
              "    .dataframe tbody tr th:only-of-type {\n",
              "        vertical-align: middle;\n",
              "    }\n",
              "\n",
              "    .dataframe tbody tr th {\n",
              "        vertical-align: top;\n",
              "    }\n",
              "\n",
              "    .dataframe thead th {\n",
              "        text-align: right;\n",
              "    }\n",
              "</style>\n",
              "<table border=\"1\" class=\"dataframe\">\n",
              "  <thead>\n",
              "    <tr style=\"text-align: right;\">\n",
              "      <th></th>\n",
              "      <th>bitcoin address</th>\n",
              "      <th>wire amount</th>\n",
              "      <th>credit card</th>\n",
              "      <th>currency</th>\n",
              "    </tr>\n",
              "  </thead>\n",
              "  <tbody>\n",
              "    <tr>\n",
              "      <th>0</th>\n",
              "      <td>1J9DVMtgvnPv4KGHL2XSzoTSt5cBBL1DXe</td>\n",
              "      <td>£8356.92</td>\n",
              "      <td>3543456448666398</td>\n",
              "      <td>£</td>\n",
              "    </tr>\n",
              "    <tr>\n",
              "      <th>1</th>\n",
              "      <td>1HaiVQbzCTs7t1K1fckYEUi9t8ERBFRR7Q</td>\n",
              "      <td>€311.06</td>\n",
              "      <td>3584615208479876</td>\n",
              "      <td>€</td>\n",
              "    </tr>\n",
              "    <tr>\n",
              "      <th>2</th>\n",
              "      <td>1NGPjXfDScEUSZYajAzCkxaVApTbBHC7jP</td>\n",
              "      <td>€2032.44</td>\n",
              "      <td>6370577480710876</td>\n",
              "      <td>€</td>\n",
              "    </tr>\n",
              "    <tr>\n",
              "      <th>3</th>\n",
              "      <td>15cSYRTbcrxYinxNxk7VbkPLZG8nypdjy6</td>\n",
              "      <td>¥8155.74</td>\n",
              "      <td>4508652385157398</td>\n",
              "      <td>¥</td>\n",
              "    </tr>\n",
              "    <tr>\n",
              "      <th>4</th>\n",
              "      <td>18j2qG1DH9YduJiBiccAq8Ak897G3E4JyZ</td>\n",
              "      <td>£3265.44</td>\n",
              "      <td>374622922103592</td>\n",
              "      <td>£</td>\n",
              "    </tr>\n",
              "  </tbody>\n",
              "</table>\n",
              "</div>"
            ],
            "text/plain": [
              "                      bitcoin address wire amount       credit card currency\n",
              "0  1J9DVMtgvnPv4KGHL2XSzoTSt5cBBL1DXe    £8356.92  3543456448666398        £\n",
              "1  1HaiVQbzCTs7t1K1fckYEUi9t8ERBFRR7Q     €311.06  3584615208479876        €\n",
              "2  1NGPjXfDScEUSZYajAzCkxaVApTbBHC7jP    €2032.44  6370577480710876        €\n",
              "3  15cSYRTbcrxYinxNxk7VbkPLZG8nypdjy6    ¥8155.74  4508652385157398        ¥\n",
              "4  18j2qG1DH9YduJiBiccAq8Ak897G3E4JyZ    £3265.44   374622922103592        £"
            ]
          },
          "metadata": {
            "tags": []
          },
          "execution_count": 24
        }
      ]
    },
    {
      "cell_type": "code",
      "metadata": {
        "colab": {
          "base_uri": "https://localhost:8080/"
        },
        "id": "jYIOROhrhkJW",
        "outputId": "c5b3b28b-0b48-4567-893a-fad83a3da3c7"
      },
      "source": [
        "df['wire amount'].str.slice(1,None).astype(float)"
      ],
      "execution_count": null,
      "outputs": [
        {
          "output_type": "execute_result",
          "data": {
            "text/plain": [
              "0      8356.92\n",
              "1       311.06\n",
              "2      2032.44\n",
              "3      8155.74\n",
              "4      3265.44\n",
              "        ...   \n",
              "995     844.68\n",
              "996    1433.63\n",
              "997    3814.11\n",
              "998    2900.85\n",
              "999    1587.16\n",
              "Name: wire amount, Length: 1000, dtype: float64"
            ]
          },
          "metadata": {
            "tags": []
          },
          "execution_count": 25
        }
      ]
    },
    {
      "cell_type": "code",
      "metadata": {
        "colab": {
          "base_uri": "https://localhost:8080/",
          "height": 202
        },
        "id": "8w0p6_ScjM5z",
        "outputId": "07a63649-58ab-403e-86e0-470a249c0f28"
      },
      "source": [
        "df['wire amount']=df['wire amount'].str.slice(1).astype(float)\r\n",
        "df.head()"
      ],
      "execution_count": null,
      "outputs": [
        {
          "output_type": "execute_result",
          "data": {
            "text/html": [
              "<div>\n",
              "<style scoped>\n",
              "    .dataframe tbody tr th:only-of-type {\n",
              "        vertical-align: middle;\n",
              "    }\n",
              "\n",
              "    .dataframe tbody tr th {\n",
              "        vertical-align: top;\n",
              "    }\n",
              "\n",
              "    .dataframe thead th {\n",
              "        text-align: right;\n",
              "    }\n",
              "</style>\n",
              "<table border=\"1\" class=\"dataframe\">\n",
              "  <thead>\n",
              "    <tr style=\"text-align: right;\">\n",
              "      <th></th>\n",
              "      <th>bitcoin address</th>\n",
              "      <th>wire amount</th>\n",
              "      <th>credit card</th>\n",
              "      <th>currency</th>\n",
              "    </tr>\n",
              "  </thead>\n",
              "  <tbody>\n",
              "    <tr>\n",
              "      <th>0</th>\n",
              "      <td>1J9DVMtgvnPv4KGHL2XSzoTSt5cBBL1DXe</td>\n",
              "      <td>8356.92</td>\n",
              "      <td>3543456448666398</td>\n",
              "      <td>£</td>\n",
              "    </tr>\n",
              "    <tr>\n",
              "      <th>1</th>\n",
              "      <td>1HaiVQbzCTs7t1K1fckYEUi9t8ERBFRR7Q</td>\n",
              "      <td>311.06</td>\n",
              "      <td>3584615208479876</td>\n",
              "      <td>€</td>\n",
              "    </tr>\n",
              "    <tr>\n",
              "      <th>2</th>\n",
              "      <td>1NGPjXfDScEUSZYajAzCkxaVApTbBHC7jP</td>\n",
              "      <td>2032.44</td>\n",
              "      <td>6370577480710876</td>\n",
              "      <td>€</td>\n",
              "    </tr>\n",
              "    <tr>\n",
              "      <th>3</th>\n",
              "      <td>15cSYRTbcrxYinxNxk7VbkPLZG8nypdjy6</td>\n",
              "      <td>8155.74</td>\n",
              "      <td>4508652385157398</td>\n",
              "      <td>¥</td>\n",
              "    </tr>\n",
              "    <tr>\n",
              "      <th>4</th>\n",
              "      <td>18j2qG1DH9YduJiBiccAq8Ak897G3E4JyZ</td>\n",
              "      <td>3265.44</td>\n",
              "      <td>374622922103592</td>\n",
              "      <td>£</td>\n",
              "    </tr>\n",
              "  </tbody>\n",
              "</table>\n",
              "</div>"
            ],
            "text/plain": [
              "                      bitcoin address  wire amount       credit card currency\n",
              "0  1J9DVMtgvnPv4KGHL2XSzoTSt5cBBL1DXe      8356.92  3543456448666398        £\n",
              "1  1HaiVQbzCTs7t1K1fckYEUi9t8ERBFRR7Q       311.06  3584615208479876        €\n",
              "2  1NGPjXfDScEUSZYajAzCkxaVApTbBHC7jP      2032.44  6370577480710876        €\n",
              "3  15cSYRTbcrxYinxNxk7VbkPLZG8nypdjy6      8155.74  4508652385157398        ¥\n",
              "4  18j2qG1DH9YduJiBiccAq8Ak897G3E4JyZ      3265.44   374622922103592        £"
            ]
          },
          "metadata": {
            "tags": []
          },
          "execution_count": 26
        }
      ]
    },
    {
      "cell_type": "code",
      "metadata": {
        "colab": {
          "base_uri": "https://localhost:8080/"
        },
        "id": "POjtE00UjhT5",
        "outputId": "e5cbeb91-6fb3-4b47-bff8-b2c248b5d003"
      },
      "source": [
        "fp='https://bit.ly/felonies-dataset'\r\n",
        "print(fp)"
      ],
      "execution_count": null,
      "outputs": [
        {
          "output_type": "stream",
          "text": [
            "https://bit.ly/felonies-dataset\n"
          ],
          "name": "stdout"
        }
      ]
    },
    {
      "cell_type": "code",
      "metadata": {
        "colab": {
          "base_uri": "https://localhost:8080/",
          "height": 202
        },
        "id": "8C2pFz6FmdaW",
        "outputId": "608a99c4-4dac-447e-8fdf-32930d90aa47"
      },
      "source": [
        "df=pd.read_csv(fp)\r\n",
        "df.head()"
      ],
      "execution_count": null,
      "outputs": [
        {
          "output_type": "execute_result",
          "data": {
            "text/html": [
              "<div>\n",
              "<style scoped>\n",
              "    .dataframe tbody tr th:only-of-type {\n",
              "        vertical-align: middle;\n",
              "    }\n",
              "\n",
              "    .dataframe tbody tr th {\n",
              "        vertical-align: top;\n",
              "    }\n",
              "\n",
              "    .dataframe thead th {\n",
              "        text-align: right;\n",
              "    }\n",
              "</style>\n",
              "<table border=\"1\" class=\"dataframe\">\n",
              "  <thead>\n",
              "    <tr style=\"text-align: right;\">\n",
              "      <th></th>\n",
              "      <th>Date of Arrest</th>\n",
              "      <th>Age</th>\n",
              "      <th>Convicted</th>\n",
              "    </tr>\n",
              "  </thead>\n",
              "  <tbody>\n",
              "    <tr>\n",
              "      <th>0</th>\n",
              "      <td>2014-07-16 14:59:18</td>\n",
              "      <td>77</td>\n",
              "      <td>Yes</td>\n",
              "    </tr>\n",
              "    <tr>\n",
              "      <th>1</th>\n",
              "      <td>2002-12-19 22:17:59</td>\n",
              "      <td>28</td>\n",
              "      <td>Yes</td>\n",
              "    </tr>\n",
              "    <tr>\n",
              "      <th>2</th>\n",
              "      <td>1994-06-28 09:31:40</td>\n",
              "      <td>21</td>\n",
              "      <td>No</td>\n",
              "    </tr>\n",
              "    <tr>\n",
              "      <th>3</th>\n",
              "      <td>1985-05-14 09:52:17</td>\n",
              "      <td>45</td>\n",
              "      <td>Yes</td>\n",
              "    </tr>\n",
              "    <tr>\n",
              "      <th>4</th>\n",
              "      <td>1985-05-25 14:06:28</td>\n",
              "      <td>39</td>\n",
              "      <td>Yes</td>\n",
              "    </tr>\n",
              "  </tbody>\n",
              "</table>\n",
              "</div>"
            ],
            "text/plain": [
              "        Date of Arrest  Age Convicted\n",
              "0  2014-07-16 14:59:18   77       Yes\n",
              "1  2002-12-19 22:17:59   28       Yes\n",
              "2  1994-06-28 09:31:40   21        No\n",
              "3  1985-05-14 09:52:17   45       Yes\n",
              "4  1985-05-25 14:06:28   39       Yes"
            ]
          },
          "metadata": {
            "tags": []
          },
          "execution_count": 85
        }
      ]
    },
    {
      "cell_type": "code",
      "metadata": {
        "id": "GDrDMYVwjOnK"
      },
      "source": [
        "df.to_csv('felonies-dataset.csv')"
      ],
      "execution_count": null,
      "outputs": []
    },
    {
      "cell_type": "code",
      "metadata": {
        "colab": {
          "base_uri": "https://localhost:8080/"
        },
        "id": "ptGYvIRvmnyv",
        "outputId": "d0bcbe7a-18eb-4c5c-f92f-55736284617b"
      },
      "source": [
        "df.dtypes"
      ],
      "execution_count": null,
      "outputs": [
        {
          "output_type": "execute_result",
          "data": {
            "text/plain": [
              "Date of Arrest    object\n",
              "Age                int64\n",
              "Convicted         object\n",
              "dtype: object"
            ]
          },
          "metadata": {
            "tags": []
          },
          "execution_count": 29
        }
      ]
    },
    {
      "cell_type": "code",
      "metadata": {
        "colab": {
          "base_uri": "https://localhost:8080/"
        },
        "id": "UseZc042m9h9",
        "outputId": "3dd54856-086b-41c4-8252-56046f9054bd"
      },
      "source": [
        "df['Age'].describe()"
      ],
      "execution_count": null,
      "outputs": [
        {
          "output_type": "execute_result",
          "data": {
            "text/plain": [
              "count    1000.000000\n",
              "mean       54.605000\n",
              "std        25.225172\n",
              "min        10.000000\n",
              "25%        33.000000\n",
              "50%        53.000000\n",
              "75%        76.000000\n",
              "max        99.000000\n",
              "Name: Age, dtype: float64"
            ]
          },
          "metadata": {
            "tags": []
          },
          "execution_count": 32
        }
      ]
    },
    {
      "cell_type": "code",
      "metadata": {
        "colab": {
          "base_uri": "https://localhost:8080/"
        },
        "id": "oXNw2SScoJj8",
        "outputId": "33b0f414-cd32-45f3-b612-810318e55603"
      },
      "source": [
        "#Recoder la date enfant 0-13, Adol 14-20, Adult 21-65, Seniors +65\r\n",
        "pd.cut(df['Age'],\r\n",
        "       bins=[9,13,20,65,100],\r\n",
        "       labels=['Child','Ado','Adult','Senior'])"
      ],
      "execution_count": null,
      "outputs": [
        {
          "output_type": "execute_result",
          "data": {
            "text/plain": [
              "0      Senior\n",
              "1       Adult\n",
              "2       Adult\n",
              "3       Adult\n",
              "4       Adult\n",
              "        ...  \n",
              "995    Senior\n",
              "996    Senior\n",
              "997    Senior\n",
              "998     Adult\n",
              "999     Adult\n",
              "Name: Age, Length: 1000, dtype: category\n",
              "Categories (4, object): ['Child' < 'Ado' < 'Adult' < 'Senior']"
            ]
          },
          "metadata": {
            "tags": []
          },
          "execution_count": 33
        }
      ]
    },
    {
      "cell_type": "code",
      "metadata": {
        "colab": {
          "base_uri": "https://localhost:8080/"
        },
        "id": "etI0T2xZrGPf",
        "outputId": "870e05e9-2c6b-46c1-bdf1-83f57a45d9b3"
      },
      "source": [
        "prefix=['ten','twent','thir','four','fif','six','seven','eigh','nine',]\r\n",
        "for i, prefix in enumerate(prefix):\r\n",
        "  age=(i+1)*10\r\n",
        "  categoryName=prefix+'ties'\r\n",
        "  print(f'* De {age} à {age+9} ans => {categoryName}')"
      ],
      "execution_count": null,
      "outputs": [
        {
          "output_type": "stream",
          "text": [
            "* De 10 à 19 ans => tenties\n",
            "* De 20 à 29 ans => twentties\n",
            "* De 30 à 39 ans => thirties\n",
            "* De 40 à 49 ans => fourties\n",
            "* De 50 à 59 ans => fifties\n",
            "* De 60 à 69 ans => sixties\n",
            "* De 70 à 79 ans => seventies\n",
            "* De 80 à 89 ans => eighties\n",
            "* De 90 à 99 ans => nineties\n"
          ],
          "name": "stdout"
        }
      ]
    },
    {
      "cell_type": "markdown",
      "metadata": {
        "id": "UWG4958rwVFI"
      },
      "source": [
        " De 10 à 19 ans => tenties\r\n",
        "* De 20 à 29 ans => twentties\r\n",
        "* De 30 à 39 ans => thirties\r\n",
        "* De 40 à 49 ans => fourties\r\n",
        "* De 50 à 59 ans => fifties\r\n",
        "* De 60 à 69 ans => sixties\r\n",
        "* De 70 à 79 ans => seventies\r\n",
        "* De 80 à 89 ans => eighties\r\n",
        "* De 90 à 99 ans => nineties"
      ]
    },
    {
      "cell_type": "code",
      "metadata": {
        "colab": {
          "base_uri": "https://localhost:8080/"
        },
        "id": "74uu0iLrwXb2",
        "outputId": "fc9e96f9-74f5-4ca8-dc15-9f140db99e72"
      },
      "source": [
        "# A dure\r\n",
        "df['Date of Arrest'].str.slice(0,4)"
      ],
      "execution_count": null,
      "outputs": [
        {
          "output_type": "execute_result",
          "data": {
            "text/plain": [
              "0      2014\n",
              "1      2002\n",
              "2      1994\n",
              "3      1985\n",
              "4      1985\n",
              "       ... \n",
              "995    1992\n",
              "996    1996\n",
              "997    1980\n",
              "998    1999\n",
              "999    1996\n",
              "Name: Date of Arrest, Length: 1000, dtype: object"
            ]
          },
          "metadata": {
            "tags": []
          },
          "execution_count": 36
        }
      ]
    },
    {
      "cell_type": "code",
      "metadata": {
        "colab": {
          "base_uri": "https://localhost:8080/",
          "height": 202
        },
        "id": "cKoLqNp9y2c9",
        "outputId": "c1b489ef-360d-40da-db09-72cfcaed845f"
      },
      "source": [
        "df['Year']=df['Date of Arrest'].str.slice(0,4).astype(int)\r\n",
        "df['Month']=df['Date of Arrest'].str.slice(5,7).astype(int)\r\n",
        "df['Day']=df['Date of Arrest'].str.slice(8,10).astype(int)\r\n",
        "df['Hours']=df['Date of Arrest'].str.slice(11,13).astype(int)\r\n",
        "df['Minutes']=df['Date of Arrest'].str.slice(14,16).astype(int)\r\n",
        "df['Secondes']=df['Date of Arrest'].str.slice(17,19).astype(int)\r\n",
        "df.head()"
      ],
      "execution_count": null,
      "outputs": [
        {
          "output_type": "execute_result",
          "data": {
            "text/html": [
              "<div>\n",
              "<style scoped>\n",
              "    .dataframe tbody tr th:only-of-type {\n",
              "        vertical-align: middle;\n",
              "    }\n",
              "\n",
              "    .dataframe tbody tr th {\n",
              "        vertical-align: top;\n",
              "    }\n",
              "\n",
              "    .dataframe thead th {\n",
              "        text-align: right;\n",
              "    }\n",
              "</style>\n",
              "<table border=\"1\" class=\"dataframe\">\n",
              "  <thead>\n",
              "    <tr style=\"text-align: right;\">\n",
              "      <th></th>\n",
              "      <th>Date of Arrest</th>\n",
              "      <th>Age</th>\n",
              "      <th>Convicted</th>\n",
              "      <th>Year</th>\n",
              "      <th>Month</th>\n",
              "      <th>Day</th>\n",
              "      <th>Hours</th>\n",
              "      <th>Minutes</th>\n",
              "      <th>Secondes</th>\n",
              "    </tr>\n",
              "  </thead>\n",
              "  <tbody>\n",
              "    <tr>\n",
              "      <th>0</th>\n",
              "      <td>2014-07-16 14:59:18</td>\n",
              "      <td>77</td>\n",
              "      <td>Yes</td>\n",
              "      <td>2014</td>\n",
              "      <td>7</td>\n",
              "      <td>16</td>\n",
              "      <td>14</td>\n",
              "      <td>59</td>\n",
              "      <td>18</td>\n",
              "    </tr>\n",
              "    <tr>\n",
              "      <th>1</th>\n",
              "      <td>2002-12-19 22:17:59</td>\n",
              "      <td>28</td>\n",
              "      <td>Yes</td>\n",
              "      <td>2002</td>\n",
              "      <td>12</td>\n",
              "      <td>19</td>\n",
              "      <td>22</td>\n",
              "      <td>17</td>\n",
              "      <td>59</td>\n",
              "    </tr>\n",
              "    <tr>\n",
              "      <th>2</th>\n",
              "      <td>1994-06-28 09:31:40</td>\n",
              "      <td>21</td>\n",
              "      <td>No</td>\n",
              "      <td>1994</td>\n",
              "      <td>6</td>\n",
              "      <td>28</td>\n",
              "      <td>9</td>\n",
              "      <td>31</td>\n",
              "      <td>40</td>\n",
              "    </tr>\n",
              "    <tr>\n",
              "      <th>3</th>\n",
              "      <td>1985-05-14 09:52:17</td>\n",
              "      <td>45</td>\n",
              "      <td>Yes</td>\n",
              "      <td>1985</td>\n",
              "      <td>5</td>\n",
              "      <td>14</td>\n",
              "      <td>9</td>\n",
              "      <td>52</td>\n",
              "      <td>17</td>\n",
              "    </tr>\n",
              "    <tr>\n",
              "      <th>4</th>\n",
              "      <td>1985-05-25 14:06:28</td>\n",
              "      <td>39</td>\n",
              "      <td>Yes</td>\n",
              "      <td>1985</td>\n",
              "      <td>5</td>\n",
              "      <td>25</td>\n",
              "      <td>14</td>\n",
              "      <td>6</td>\n",
              "      <td>28</td>\n",
              "    </tr>\n",
              "  </tbody>\n",
              "</table>\n",
              "</div>"
            ],
            "text/plain": [
              "        Date of Arrest  Age Convicted  Year  ...  Day  Hours  Minutes  Secondes\n",
              "0  2014-07-16 14:59:18   77       Yes  2014  ...   16     14       59        18\n",
              "1  2002-12-19 22:17:59   28       Yes  2002  ...   19     22       17        59\n",
              "2  1994-06-28 09:31:40   21        No  1994  ...   28      9       31        40\n",
              "3  1985-05-14 09:52:17   45       Yes  1985  ...   14      9       52        17\n",
              "4  1985-05-25 14:06:28   39       Yes  1985  ...   25     14        6        28\n",
              "\n",
              "[5 rows x 9 columns]"
            ]
          },
          "metadata": {
            "tags": []
          },
          "execution_count": 38
        }
      ]
    },
    {
      "cell_type": "code",
      "metadata": {
        "colab": {
          "base_uri": "https://localhost:8080/"
        },
        "id": "xvQ818GGzJ53",
        "outputId": "bb6f13ce-e65f-4149-e8af-464159a1c995"
      },
      "source": [
        "# a la coo\r\n",
        "#consiste à caster le type str dans notre champ date en type datetime\r\n",
        "pd.to_datetime(df['Date of Arrest'])\r\n"
      ],
      "execution_count": null,
      "outputs": [
        {
          "output_type": "execute_result",
          "data": {
            "text/plain": [
              "0     2014-07-16 14:59:18\n",
              "1     2002-12-19 22:17:59\n",
              "2     1994-06-28 09:31:40\n",
              "3     1985-05-14 09:52:17\n",
              "4     1985-05-25 14:06:28\n",
              "              ...        \n",
              "995   1992-02-04 14:24:25\n",
              "996   1996-04-29 18:03:23\n",
              "997   1980-07-15 21:59:27\n",
              "998   1999-07-05 17:16:12\n",
              "999   1996-03-17 18:29:25\n",
              "Name: Date of Arrest, Length: 1000, dtype: datetime64[ns]"
            ]
          },
          "metadata": {
            "tags": []
          },
          "execution_count": 39
        }
      ]
    },
    {
      "cell_type": "code",
      "metadata": {
        "colab": {
          "base_uri": "https://localhost:8080/"
        },
        "id": "YitKGUJ01gmO",
        "outputId": "17072eda-2b38-4822-f908-98ff350544ea"
      },
      "source": [
        "df['Date of Arrest']=pd.to_datetime(df['Date of Arrest'])\r\n",
        "df.dtypes"
      ],
      "execution_count": null,
      "outputs": [
        {
          "output_type": "execute_result",
          "data": {
            "text/plain": [
              "Date of Arrest    datetime64[ns]\n",
              "Age                        int64\n",
              "Convicted                 object\n",
              "dtype: object"
            ]
          },
          "metadata": {
            "tags": []
          },
          "execution_count": 51
        }
      ]
    },
    {
      "cell_type": "code",
      "metadata": {
        "id": "TcT2LxOO1y7C"
      },
      "source": [
        "#df.drop(['Year','Day','Hours','Month','Minutes','Secondes'],axis=1,inplace=True)"
      ],
      "execution_count": null,
      "outputs": []
    },
    {
      "cell_type": "code",
      "metadata": {
        "colab": {
          "base_uri": "https://localhost:8080/"
        },
        "id": "b5EoDsd72ZU9",
        "outputId": "ae074e71-3989-4f95-eb7d-3ba5cfcbf86a"
      },
      "source": [
        "df['Date of Arrest'].dt.date"
      ],
      "execution_count": null,
      "outputs": [
        {
          "output_type": "execute_result",
          "data": {
            "text/plain": [
              "0      2014-07-16\n",
              "1      2002-12-19\n",
              "2      1994-06-28\n",
              "3      1985-05-14\n",
              "4      1985-05-25\n",
              "          ...    \n",
              "995    1992-02-04\n",
              "996    1996-04-29\n",
              "997    1980-07-15\n",
              "998    1999-07-05\n",
              "999    1996-03-17\n",
              "Name: Date of Arrest, Length: 1000, dtype: object"
            ]
          },
          "metadata": {
            "tags": []
          },
          "execution_count": 53
        }
      ]
    },
    {
      "cell_type": "code",
      "metadata": {
        "colab": {
          "base_uri": "https://localhost:8080/"
        },
        "id": "Xl7flGdI3nDu",
        "outputId": "21627c7d-2ea7-4f7b-d3f1-8a46112445bc"
      },
      "source": [
        "df['Date of Arrest'].dt.month"
      ],
      "execution_count": null,
      "outputs": [
        {
          "output_type": "execute_result",
          "data": {
            "text/plain": [
              "0       7\n",
              "1      12\n",
              "2       6\n",
              "3       5\n",
              "4       5\n",
              "       ..\n",
              "995     2\n",
              "996     4\n",
              "997     7\n",
              "998     7\n",
              "999     3\n",
              "Name: Date of Arrest, Length: 1000, dtype: int64"
            ]
          },
          "metadata": {
            "tags": []
          },
          "execution_count": 54
        }
      ]
    },
    {
      "cell_type": "code",
      "metadata": {
        "colab": {
          "base_uri": "https://localhost:8080/"
        },
        "id": "ulvPjAn34AFL",
        "outputId": "883faf87-bf93-4969-fc05-40ab6873820c"
      },
      "source": [
        "df['Date of Arrest'].dt.day"
      ],
      "execution_count": null,
      "outputs": [
        {
          "output_type": "execute_result",
          "data": {
            "text/plain": [
              "0      16\n",
              "1      19\n",
              "2      28\n",
              "3      14\n",
              "4      25\n",
              "       ..\n",
              "995     4\n",
              "996    29\n",
              "997    15\n",
              "998     5\n",
              "999    17\n",
              "Name: Date of Arrest, Length: 1000, dtype: int64"
            ]
          },
          "metadata": {
            "tags": []
          },
          "execution_count": 61
        }
      ]
    },
    {
      "cell_type": "code",
      "metadata": {
        "colab": {
          "base_uri": "https://localhost:8080/"
        },
        "id": "bAGw7AGt4Cf8",
        "outputId": "35bb57f4-0aed-4dc1-f4f3-f76531ce8936"
      },
      "source": [
        "df['Date of Arrest'].dt.time"
      ],
      "execution_count": null,
      "outputs": [
        {
          "output_type": "execute_result",
          "data": {
            "text/plain": [
              "0      14:59:18\n",
              "1      22:17:59\n",
              "2      09:31:40\n",
              "3      09:52:17\n",
              "4      14:06:28\n",
              "         ...   \n",
              "995    14:24:25\n",
              "996    18:03:23\n",
              "997    21:59:27\n",
              "998    17:16:12\n",
              "999    18:29:25\n",
              "Name: Date of Arrest, Length: 1000, dtype: object"
            ]
          },
          "metadata": {
            "tags": []
          },
          "execution_count": 56
        }
      ]
    },
    {
      "cell_type": "code",
      "metadata": {
        "colab": {
          "base_uri": "https://localhost:8080/"
        },
        "id": "msJ47ReK4FLZ",
        "outputId": "6a0bcfb9-58a1-45ee-d350-1b3b4b3db545"
      },
      "source": [
        "df['Date of Arrest'].dt.dayofweek"
      ],
      "execution_count": null,
      "outputs": [
        {
          "output_type": "execute_result",
          "data": {
            "text/plain": [
              "0      2\n",
              "1      3\n",
              "2      1\n",
              "3      1\n",
              "4      5\n",
              "      ..\n",
              "995    1\n",
              "996    0\n",
              "997    1\n",
              "998    0\n",
              "999    6\n",
              "Name: Date of Arrest, Length: 1000, dtype: int64"
            ]
          },
          "metadata": {
            "tags": []
          },
          "execution_count": 57
        }
      ]
    },
    {
      "cell_type": "code",
      "metadata": {
        "colab": {
          "base_uri": "https://localhost:8080/"
        },
        "id": "gO2QnRWa4P_8",
        "outputId": "8c38ea29-a336-4aa1-8a03-c0f84e6072b7"
      },
      "source": [
        "df['Date of Arrest'].dt.day_name()"
      ],
      "execution_count": null,
      "outputs": [
        {
          "output_type": "execute_result",
          "data": {
            "text/plain": [
              "0      Wednesday\n",
              "1       Thursday\n",
              "2        Tuesday\n",
              "3        Tuesday\n",
              "4       Saturday\n",
              "         ...    \n",
              "995      Tuesday\n",
              "996       Monday\n",
              "997      Tuesday\n",
              "998       Monday\n",
              "999       Sunday\n",
              "Name: Date of Arrest, Length: 1000, dtype: object"
            ]
          },
          "metadata": {
            "tags": []
          },
          "execution_count": 62
        }
      ]
    },
    {
      "cell_type": "code",
      "metadata": {
        "colab": {
          "base_uri": "https://localhost:8080/"
        },
        "id": "vDS0npNG5IRB",
        "outputId": "bf505e14-c036-4259-a7d0-2c3451efec78"
      },
      "source": [
        "df['Date of Arrest'].dt.month_name()"
      ],
      "execution_count": null,
      "outputs": [
        {
          "output_type": "execute_result",
          "data": {
            "text/plain": [
              "0          July\n",
              "1      December\n",
              "2          June\n",
              "3           May\n",
              "4           May\n",
              "         ...   \n",
              "995    February\n",
              "996       April\n",
              "997        July\n",
              "998        July\n",
              "999       March\n",
              "Name: Date of Arrest, Length: 1000, dtype: object"
            ]
          },
          "metadata": {
            "tags": []
          },
          "execution_count": 64
        }
      ]
    },
    {
      "cell_type": "code",
      "metadata": {
        "colab": {
          "base_uri": "https://localhost:8080/"
        },
        "id": "FNjJuhHe5O6l",
        "outputId": "f8f2c9a5-dbf4-4979-eb18-4a15771f196d"
      },
      "source": [
        "df['Date of Arrest'].dt.year"
      ],
      "execution_count": null,
      "outputs": [
        {
          "output_type": "execute_result",
          "data": {
            "text/plain": [
              "0      2014\n",
              "1      2002\n",
              "2      1994\n",
              "3      1985\n",
              "4      1985\n",
              "       ... \n",
              "995    1992\n",
              "996    1996\n",
              "997    1980\n",
              "998    1999\n",
              "999    1996\n",
              "Name: Date of Arrest, Length: 1000, dtype: int64"
            ]
          },
          "metadata": {
            "tags": []
          },
          "execution_count": 65
        }
      ]
    },
    {
      "cell_type": "code",
      "metadata": {
        "id": "JhfIiq4AuCwL"
      },
      "source": [
        ""
      ],
      "execution_count": null,
      "outputs": []
    },
    {
      "cell_type": "markdown",
      "metadata": {
        "id": "sHPjnzG6uFW3"
      },
      "source": [
        "# Extraire de l'information categorielle depuis des dates"
      ]
    },
    {
      "cell_type": "code",
      "metadata": {
        "colab": {
          "base_uri": "https://localhost:8080/"
        },
        "id": "aUMzCXkjuPpw",
        "outputId": "44991ebd-9933-4aa2-98ec-06a195e1877b"
      },
      "source": [
        "fp='https://bit.ly/felonies-dataset'\r\n",
        "print(fp)"
      ],
      "execution_count": null,
      "outputs": [
        {
          "output_type": "stream",
          "text": [
            "https://bit.ly/felonies-dataset\n"
          ],
          "name": "stdout"
        }
      ]
    },
    {
      "cell_type": "code",
      "metadata": {
        "colab": {
          "base_uri": "https://localhost:8080/",
          "height": 202
        },
        "id": "F_fysHPuy394",
        "outputId": "8f0fad3a-7b5f-48f9-8ed3-e085e412600c"
      },
      "source": [
        "df=pd.read_csv(fp)\r\n",
        "df.head()"
      ],
      "execution_count": null,
      "outputs": [
        {
          "output_type": "execute_result",
          "data": {
            "text/html": [
              "<div>\n",
              "<style scoped>\n",
              "    .dataframe tbody tr th:only-of-type {\n",
              "        vertical-align: middle;\n",
              "    }\n",
              "\n",
              "    .dataframe tbody tr th {\n",
              "        vertical-align: top;\n",
              "    }\n",
              "\n",
              "    .dataframe thead th {\n",
              "        text-align: right;\n",
              "    }\n",
              "</style>\n",
              "<table border=\"1\" class=\"dataframe\">\n",
              "  <thead>\n",
              "    <tr style=\"text-align: right;\">\n",
              "      <th></th>\n",
              "      <th>Date of Arrest</th>\n",
              "      <th>Age</th>\n",
              "      <th>Convicted</th>\n",
              "    </tr>\n",
              "  </thead>\n",
              "  <tbody>\n",
              "    <tr>\n",
              "      <th>0</th>\n",
              "      <td>2014-07-16 14:59:18</td>\n",
              "      <td>77</td>\n",
              "      <td>Yes</td>\n",
              "    </tr>\n",
              "    <tr>\n",
              "      <th>1</th>\n",
              "      <td>2002-12-19 22:17:59</td>\n",
              "      <td>28</td>\n",
              "      <td>Yes</td>\n",
              "    </tr>\n",
              "    <tr>\n",
              "      <th>2</th>\n",
              "      <td>1994-06-28 09:31:40</td>\n",
              "      <td>21</td>\n",
              "      <td>No</td>\n",
              "    </tr>\n",
              "    <tr>\n",
              "      <th>3</th>\n",
              "      <td>1985-05-14 09:52:17</td>\n",
              "      <td>45</td>\n",
              "      <td>Yes</td>\n",
              "    </tr>\n",
              "    <tr>\n",
              "      <th>4</th>\n",
              "      <td>1985-05-25 14:06:28</td>\n",
              "      <td>39</td>\n",
              "      <td>Yes</td>\n",
              "    </tr>\n",
              "  </tbody>\n",
              "</table>\n",
              "</div>"
            ],
            "text/plain": [
              "        Date of Arrest  Age Convicted\n",
              "0  2014-07-16 14:59:18   77       Yes\n",
              "1  2002-12-19 22:17:59   28       Yes\n",
              "2  1994-06-28 09:31:40   21        No\n",
              "3  1985-05-14 09:52:17   45       Yes\n",
              "4  1985-05-25 14:06:28   39       Yes"
            ]
          },
          "metadata": {
            "tags": []
          },
          "execution_count": 3
        }
      ]
    },
    {
      "cell_type": "code",
      "metadata": {
        "id": "5gPrP_QxWsl9"
      },
      "source": [
        ""
      ],
      "execution_count": null,
      "outputs": []
    },
    {
      "cell_type": "code",
      "metadata": {
        "colab": {
          "base_uri": "https://localhost:8080/"
        },
        "id": "-qIKqs7ezBx0",
        "outputId": "e9407617-3186-4136-dfe1-d12be6e1b6b4"
      },
      "source": [
        "df.dtypes"
      ],
      "execution_count": null,
      "outputs": [
        {
          "output_type": "execute_result",
          "data": {
            "text/plain": [
              "Date of Arrest    object\n",
              "Age                int64\n",
              "Convicted         object\n",
              "dtype: object"
            ]
          },
          "metadata": {
            "tags": []
          },
          "execution_count": 5
        }
      ]
    },
    {
      "cell_type": "code",
      "metadata": {
        "colab": {
          "base_uri": "https://localhost:8080/"
        },
        "id": "hJfGG3zXzEs0",
        "outputId": "659126bc-9b12-45ed-ff9c-a152b479f457"
      },
      "source": [
        "df['Date of Arrest']=pd.to_datetime(df['Date of Arrest'])\r\n",
        "df.dtypes"
      ],
      "execution_count": null,
      "outputs": [
        {
          "output_type": "execute_result",
          "data": {
            "text/plain": [
              "Date of Arrest    datetime64[ns]\n",
              "Age                        int64\n",
              "Convicted                 object\n",
              "dtype: object"
            ]
          },
          "metadata": {
            "tags": []
          },
          "execution_count": 6
        }
      ]
    },
    {
      "cell_type": "code",
      "metadata": {
        "id": "JJMfGw8tzdpq"
      },
      "source": [
        "from datetime import datetime"
      ],
      "execution_count": null,
      "outputs": []
    },
    {
      "cell_type": "code",
      "metadata": {
        "colab": {
          "base_uri": "https://localhost:8080/"
        },
        "id": "B-UXuoJ6054T",
        "outputId": "7ae44134-eb64-48b2-fc63-e3f1354deaed"
      },
      "source": [
        "datetime(year=1999,\r\n",
        "         month=1,\r\n",
        "         day=1)"
      ],
      "execution_count": null,
      "outputs": [
        {
          "output_type": "execute_result",
          "data": {
            "text/plain": [
              "datetime.datetime(1999, 1, 1, 0, 0)"
            ]
          },
          "metadata": {
            "tags": []
          },
          "execution_count": 8
        }
      ]
    },
    {
      "cell_type": "code",
      "metadata": {
        "id": "-vMxIPrq1P9B"
      },
      "source": [
        "def year(y):\r\n",
        "  return datetime(year=1999,month=1, day=1)\r\n",
        "  "
      ],
      "execution_count": null,
      "outputs": []
    },
    {
      "cell_type": "code",
      "metadata": {
        "colab": {
          "base_uri": "https://localhost:8080/"
        },
        "id": "pqhQkelx1l2G",
        "outputId": "5d2eae52-caf0-413c-e0ed-fe5041956729"
      },
      "source": [
        "year=lambda y: datetime(year=1999,month=1, day=1)\r\n",
        "\r\n",
        "year(2030)"
      ],
      "execution_count": null,
      "outputs": [
        {
          "output_type": "execute_result",
          "data": {
            "text/plain": [
              "datetime.datetime(1999, 1, 1, 0, 0)"
            ]
          },
          "metadata": {
            "tags": []
          },
          "execution_count": 10
        }
      ]
    },
    {
      "cell_type": "code",
      "metadata": {
        "colab": {
          "base_uri": "https://localhost:8080/"
        },
        "id": "XTfj-Y-w1zxr",
        "outputId": "f45b151a-c3fc-4efd-b6a4-af20cd9f8a87"
      },
      "source": [
        "df['Date of Arrest'].describe()"
      ],
      "execution_count": null,
      "outputs": [
        {
          "output_type": "stream",
          "text": [
            "/usr/local/lib/python3.6/dist-packages/ipykernel_launcher.py:1: FutureWarning: Treating datetime data as categorical rather than numeric in `.describe` is deprecated and will be removed in a future version of pandas. Specify `datetime_is_numeric=True` to silence this warning and adopt the future behavior now.\n",
            "  \"\"\"Entry point for launching an IPython kernel.\n"
          ],
          "name": "stderr"
        },
        {
          "output_type": "execute_result",
          "data": {
            "text/plain": [
              "count                    1000\n",
              "unique                   1000\n",
              "top       2012-09-17 23:04:27\n",
              "freq                        1\n",
              "first     1968-01-10 02:41:49\n",
              "last      2020-01-28 13:33:46\n",
              "Name: Date of Arrest, dtype: object"
            ]
          },
          "metadata": {
            "tags": []
          },
          "execution_count": 11
        }
      ]
    },
    {
      "cell_type": "code",
      "metadata": {
        "colab": {
          "base_uri": "https://localhost:8080/",
          "height": 35
        },
        "id": "yPavcePj8PHd",
        "outputId": "fe0235e1-114c-4bfe-f787-3b5172569020"
      },
      "source": [
        "print_data=lambda dt : dt.strftime('%d %b %Y')\r\n",
        "\r\n",
        "print_data(year(1990))"
      ],
      "execution_count": null,
      "outputs": [
        {
          "output_type": "execute_result",
          "data": {
            "application/vnd.google.colaboratory.intrinsic+json": {
              "type": "string"
            },
            "text/plain": [
              "'01 Jan 1999'"
            ]
          },
          "metadata": {
            "tags": []
          },
          "execution_count": 13
        }
      ]
    },
    {
      "cell_type": "code",
      "metadata": {
        "id": "A-5nyaJ-85BN"
      },
      "source": [
        "labels=[f'Periode {i+1}' for i in range(4)]"
      ],
      "execution_count": null,
      "outputs": []
    },
    {
      "cell_type": "code",
      "metadata": {
        "colab": {
          "base_uri": "https://localhost:8080/",
          "height": 537
        },
        "id": "tBGkA1-z_rDW",
        "outputId": "0c8c2e50-d8d1-42ea-e59e-9f11621aff41"
      },
      "source": [
        "pd.cut(df['Date of Arrest'],\r\n",
        "       bins=[year(1968),\r\n",
        "             year(1975),\r\n",
        "             year(1998),\r\n",
        "             year(2010),\r\n",
        "             year(2021)],\r\n",
        "       labels=labels)"
      ],
      "execution_count": null,
      "outputs": [
        {
          "output_type": "error",
          "ename": "ValueError",
          "evalue": "ignored",
          "traceback": [
            "\u001b[0;31m---------------------------------------------------------------------------\u001b[0m",
            "\u001b[0;31mValueError\u001b[0m                                Traceback (most recent call last)",
            "\u001b[0;32m<ipython-input-18-e50405e9f675>\u001b[0m in \u001b[0;36m<module>\u001b[0;34m()\u001b[0m\n\u001b[1;32m      5\u001b[0m              \u001b[0myear\u001b[0m\u001b[0;34m(\u001b[0m\u001b[0;36m2010\u001b[0m\u001b[0;34m)\u001b[0m\u001b[0;34m,\u001b[0m\u001b[0;34m\u001b[0m\u001b[0;34m\u001b[0m\u001b[0m\n\u001b[1;32m      6\u001b[0m              year(2021)],\n\u001b[0;32m----> 7\u001b[0;31m        labels=labels)\n\u001b[0m",
            "\u001b[0;32m/usr/local/lib/python3.6/dist-packages/pandas/core/reshape/tile.py\u001b[0m in \u001b[0;36mcut\u001b[0;34m(x, bins, right, labels, retbins, precision, include_lowest, duplicates, ordered)\u001b[0m\n\u001b[1;32m    282\u001b[0m         \u001b[0mdtype\u001b[0m\u001b[0;34m=\u001b[0m\u001b[0mdtype\u001b[0m\u001b[0;34m,\u001b[0m\u001b[0;34m\u001b[0m\u001b[0;34m\u001b[0m\u001b[0m\n\u001b[1;32m    283\u001b[0m         \u001b[0mduplicates\u001b[0m\u001b[0;34m=\u001b[0m\u001b[0mduplicates\u001b[0m\u001b[0;34m,\u001b[0m\u001b[0;34m\u001b[0m\u001b[0;34m\u001b[0m\u001b[0m\n\u001b[0;32m--> 284\u001b[0;31m         \u001b[0mordered\u001b[0m\u001b[0;34m=\u001b[0m\u001b[0mordered\u001b[0m\u001b[0;34m,\u001b[0m\u001b[0;34m\u001b[0m\u001b[0;34m\u001b[0m\u001b[0m\n\u001b[0m\u001b[1;32m    285\u001b[0m     )\n\u001b[1;32m    286\u001b[0m \u001b[0;34m\u001b[0m\u001b[0m\n",
            "\u001b[0;32m/usr/local/lib/python3.6/dist-packages/pandas/core/reshape/tile.py\u001b[0m in \u001b[0;36m_bins_to_cuts\u001b[0;34m(x, bins, right, labels, precision, include_lowest, dtype, duplicates, ordered)\u001b[0m\n\u001b[1;32m    400\u001b[0m         \u001b[0;32mif\u001b[0m \u001b[0mduplicates\u001b[0m \u001b[0;34m==\u001b[0m \u001b[0;34m\"raise\"\u001b[0m\u001b[0;34m:\u001b[0m\u001b[0;34m\u001b[0m\u001b[0;34m\u001b[0m\u001b[0m\n\u001b[1;32m    401\u001b[0m             raise ValueError(\n\u001b[0;32m--> 402\u001b[0;31m                 \u001b[0;34mf\"Bin edges must be unique: {repr(bins)}.\\n\"\u001b[0m\u001b[0;34m\u001b[0m\u001b[0;34m\u001b[0m\u001b[0m\n\u001b[0m\u001b[1;32m    403\u001b[0m                 \u001b[0;34mf\"You can drop duplicate edges by setting the 'duplicates' kwarg\"\u001b[0m\u001b[0;34m\u001b[0m\u001b[0;34m\u001b[0m\u001b[0m\n\u001b[1;32m    404\u001b[0m             )\n",
            "\u001b[0;31mValueError\u001b[0m: Bin edges must be unique: array([915148800000000000, 915148800000000000, 915148800000000000,\n       915148800000000000, 915148800000000000]).\nYou can drop duplicate edges by setting the 'duplicates' kwarg"
          ]
        }
      ]
    },
    {
      "cell_type": "markdown",
      "metadata": {
        "id": "67GGyrpFrAqS"
      },
      "source": [
        "# Objectif\r\n",
        "### *Lundi, Mardi = Debut de semaine\r\n",
        "### *Mercredi, Jeudi, Vendredi = Milieu de semaine\r\n",
        "### *Samedi, dimanche= Week-End"
      ]
    },
    {
      "cell_type": "code",
      "metadata": {
        "id": "DE3ojunaA_SQ",
        "colab": {
          "base_uri": "https://localhost:8080/"
        },
        "outputId": "0676cc24-1802-498e-c36c-77673c9449ea"
      },
      "source": [
        "df['Date of Arrest']=pd.to_datetime(df['Date of Arrest'])\r\n",
        "df.dtypes"
      ],
      "execution_count": null,
      "outputs": [
        {
          "output_type": "execute_result",
          "data": {
            "text/plain": [
              "Date of Arrest    datetime64[ns]\n",
              "Age                        int64\n",
              "Convicted                 object\n",
              "dtype: object"
            ]
          },
          "metadata": {
            "tags": []
          },
          "execution_count": 4
        }
      ]
    },
    {
      "cell_type": "code",
      "metadata": {
        "id": "kDCmBa_AmX-M"
      },
      "source": [
        "df.rename({'Date of Arrest':'DoA'}, axis=1, inplace=True)"
      ],
      "execution_count": null,
      "outputs": []
    },
    {
      "cell_type": "code",
      "metadata": {
        "colab": {
          "base_uri": "https://localhost:8080/",
          "height": 202
        },
        "id": "SEzxpKF0m5L4",
        "outputId": "2efecd98-4376-43d4-c021-f793d2969a7b"
      },
      "source": [
        "df.head()"
      ],
      "execution_count": null,
      "outputs": [
        {
          "output_type": "execute_result",
          "data": {
            "text/html": [
              "<div>\n",
              "<style scoped>\n",
              "    .dataframe tbody tr th:only-of-type {\n",
              "        vertical-align: middle;\n",
              "    }\n",
              "\n",
              "    .dataframe tbody tr th {\n",
              "        vertical-align: top;\n",
              "    }\n",
              "\n",
              "    .dataframe thead th {\n",
              "        text-align: right;\n",
              "    }\n",
              "</style>\n",
              "<table border=\"1\" class=\"dataframe\">\n",
              "  <thead>\n",
              "    <tr style=\"text-align: right;\">\n",
              "      <th></th>\n",
              "      <th>DoA</th>\n",
              "      <th>Age</th>\n",
              "      <th>Convicted</th>\n",
              "    </tr>\n",
              "  </thead>\n",
              "  <tbody>\n",
              "    <tr>\n",
              "      <th>0</th>\n",
              "      <td>2014-07-16 14:59:18</td>\n",
              "      <td>77</td>\n",
              "      <td>Yes</td>\n",
              "    </tr>\n",
              "    <tr>\n",
              "      <th>1</th>\n",
              "      <td>2002-12-19 22:17:59</td>\n",
              "      <td>28</td>\n",
              "      <td>Yes</td>\n",
              "    </tr>\n",
              "    <tr>\n",
              "      <th>2</th>\n",
              "      <td>1994-06-28 09:31:40</td>\n",
              "      <td>21</td>\n",
              "      <td>No</td>\n",
              "    </tr>\n",
              "    <tr>\n",
              "      <th>3</th>\n",
              "      <td>1985-05-14 09:52:17</td>\n",
              "      <td>45</td>\n",
              "      <td>Yes</td>\n",
              "    </tr>\n",
              "    <tr>\n",
              "      <th>4</th>\n",
              "      <td>1985-05-25 14:06:28</td>\n",
              "      <td>39</td>\n",
              "      <td>Yes</td>\n",
              "    </tr>\n",
              "  </tbody>\n",
              "</table>\n",
              "</div>"
            ],
            "text/plain": [
              "                  DoA  Age Convicted\n",
              "0 2014-07-16 14:59:18   77       Yes\n",
              "1 2002-12-19 22:17:59   28       Yes\n",
              "2 1994-06-28 09:31:40   21        No\n",
              "3 1985-05-14 09:52:17   45       Yes\n",
              "4 1985-05-25 14:06:28   39       Yes"
            ]
          },
          "metadata": {
            "tags": []
          },
          "execution_count": 6
        }
      ]
    },
    {
      "cell_type": "code",
      "metadata": {
        "colab": {
          "base_uri": "https://localhost:8080/"
        },
        "id": "JY_YWXzhm8OY",
        "outputId": "6e0be9d6-933d-435c-91ca-6eab35ddb5a2"
      },
      "source": [
        "df['DoA'].dt.dayofweek"
      ],
      "execution_count": null,
      "outputs": [
        {
          "output_type": "execute_result",
          "data": {
            "text/plain": [
              "0      2\n",
              "1      3\n",
              "2      1\n",
              "3      1\n",
              "4      5\n",
              "      ..\n",
              "995    1\n",
              "996    0\n",
              "997    1\n",
              "998    0\n",
              "999    6\n",
              "Name: DoA, Length: 1000, dtype: int64"
            ]
          },
          "metadata": {
            "tags": []
          },
          "execution_count": 7
        }
      ]
    },
    {
      "cell_type": "code",
      "metadata": {
        "id": "RAZSTfJmnS5W"
      },
      "source": [
        "day_list=['Monday', 'Tuesday','Wednesday','Thursday', 'Fraiday','Saturday','Sunday']"
      ],
      "execution_count": null,
      "outputs": []
    },
    {
      "cell_type": "code",
      "metadata": {
        "colab": {
          "base_uri": "https://localhost:8080/",
          "height": 35
        },
        "id": "ANIpxpUFoHc0",
        "outputId": "bb0ed958-7df1-4937-f91c-ef1d3b3fa198"
      },
      "source": [
        "day_list[0]"
      ],
      "execution_count": null,
      "outputs": [
        {
          "output_type": "execute_result",
          "data": {
            "application/vnd.google.colaboratory.intrinsic+json": {
              "type": "string"
            },
            "text/plain": [
              "'Monday'"
            ]
          },
          "metadata": {
            "tags": []
          },
          "execution_count": 17
        }
      ]
    },
    {
      "cell_type": "code",
      "metadata": {
        "colab": {
          "base_uri": "https://localhost:8080/",
          "height": 35
        },
        "id": "cUxkfg1ioOB6",
        "outputId": "e73f1816-d56a-4ab6-fdda-b303b56d0b0c"
      },
      "source": [
        "day_list[6]"
      ],
      "execution_count": null,
      "outputs": [
        {
          "output_type": "execute_result",
          "data": {
            "application/vnd.google.colaboratory.intrinsic+json": {
              "type": "string"
            },
            "text/plain": [
              "'Sunday'"
            ]
          },
          "metadata": {
            "tags": []
          },
          "execution_count": 18
        }
      ]
    },
    {
      "cell_type": "code",
      "metadata": {
        "id": "v9DQp4pCoSGP"
      },
      "source": [
        "id2day={i:s for i,s in enumerate(day_list) }\r\n",
        "day2id={s:i for i,s in enumerate(day_list) }"
      ],
      "execution_count": null,
      "outputs": []
    },
    {
      "cell_type": "code",
      "metadata": {
        "colab": {
          "base_uri": "https://localhost:8080/",
          "height": 35
        },
        "id": "bl2xloCYpTOu",
        "outputId": "53818fd6-dd89-4768-d964-b36ebf1a0dcb"
      },
      "source": [
        "id2day[0]"
      ],
      "execution_count": null,
      "outputs": [
        {
          "output_type": "execute_result",
          "data": {
            "application/vnd.google.colaboratory.intrinsic+json": {
              "type": "string"
            },
            "text/plain": [
              "'Monday'"
            ]
          },
          "metadata": {
            "tags": []
          },
          "execution_count": 23
        }
      ]
    },
    {
      "cell_type": "code",
      "metadata": {
        "colab": {
          "base_uri": "https://localhost:8080/"
        },
        "id": "mvwogBq5pW2x",
        "outputId": "97544bc3-839f-4bab-943a-5fc3781d9430"
      },
      "source": [
        "day2id['Monday']"
      ],
      "execution_count": null,
      "outputs": [
        {
          "output_type": "execute_result",
          "data": {
            "text/plain": [
              "0"
            ]
          },
          "metadata": {
            "tags": []
          },
          "execution_count": 24
        }
      ]
    },
    {
      "cell_type": "code",
      "metadata": {
        "id": "T_KE_oiYpb3m"
      },
      "source": [
        ""
      ],
      "execution_count": null,
      "outputs": []
    },
    {
      "cell_type": "markdown",
      "metadata": {
        "id": "TAWZOBDRseTP"
      },
      "source": [
        "## Methode 1 : pd.cut"
      ]
    },
    {
      "cell_type": "code",
      "metadata": {
        "id": "D4RaqEZssotN"
      },
      "source": [
        "from_monday=day2id['Monday']-1"
      ],
      "execution_count": null,
      "outputs": []
    },
    {
      "cell_type": "code",
      "metadata": {
        "colab": {
          "base_uri": "https://localhost:8080/",
          "height": 346
        },
        "id": "Pn3Uiy1as-tv",
        "outputId": "10c60e4e-9913-4ea5-df43-669dabf3977d"
      },
      "source": [
        "pd.cut(df['DoA'],\r\n",
        "       bins=[from_monday,\r\n",
        "             day2id['Tuesday'],\r\n",
        "             day2id['Fraiday'],\r\n",
        "             day2id['Sunday']],\r\n",
        "       labels=['WeekStart','WeekMiddle','WeekEnd'])"
      ],
      "execution_count": null,
      "outputs": [
        {
          "output_type": "error",
          "ename": "ValueError",
          "evalue": "ignored",
          "traceback": [
            "\u001b[0;31m---------------------------------------------------------------------------\u001b[0m",
            "\u001b[0;31mValueError\u001b[0m                                Traceback (most recent call last)",
            "\u001b[0;32m<ipython-input-32-2bad0864795d>\u001b[0m in \u001b[0;36m<module>\u001b[0;34m()\u001b[0m\n\u001b[1;32m      4\u001b[0m              \u001b[0mday2id\u001b[0m\u001b[0;34m[\u001b[0m\u001b[0;34m'Fraiday'\u001b[0m\u001b[0;34m]\u001b[0m\u001b[0;34m,\u001b[0m\u001b[0;34m\u001b[0m\u001b[0;34m\u001b[0m\u001b[0m\n\u001b[1;32m      5\u001b[0m              day2id['Sunday']],\n\u001b[0;32m----> 6\u001b[0;31m        labels=['WeekStart','WeekMiddle','WeekEnd'])\n\u001b[0m",
            "\u001b[0;32m/usr/local/lib/python3.6/dist-packages/pandas/core/reshape/tile.py\u001b[0m in \u001b[0;36mcut\u001b[0;34m(x, bins, right, labels, retbins, precision, include_lowest, duplicates, ordered)\u001b[0m\n\u001b[1;32m    267\u001b[0m         \u001b[0;32melse\u001b[0m\u001b[0;34m:\u001b[0m\u001b[0;34m\u001b[0m\u001b[0;34m\u001b[0m\u001b[0m\n\u001b[1;32m    268\u001b[0m             \u001b[0mbins\u001b[0m \u001b[0;34m=\u001b[0m \u001b[0mnp\u001b[0m\u001b[0;34m.\u001b[0m\u001b[0masarray\u001b[0m\u001b[0;34m(\u001b[0m\u001b[0mbins\u001b[0m\u001b[0;34m)\u001b[0m\u001b[0;34m\u001b[0m\u001b[0;34m\u001b[0m\u001b[0m\n\u001b[0;32m--> 269\u001b[0;31m         \u001b[0mbins\u001b[0m \u001b[0;34m=\u001b[0m \u001b[0m_convert_bin_to_numeric_type\u001b[0m\u001b[0;34m(\u001b[0m\u001b[0mbins\u001b[0m\u001b[0;34m,\u001b[0m \u001b[0mdtype\u001b[0m\u001b[0;34m)\u001b[0m\u001b[0;34m\u001b[0m\u001b[0;34m\u001b[0m\u001b[0m\n\u001b[0m\u001b[1;32m    270\u001b[0m \u001b[0;34m\u001b[0m\u001b[0m\n\u001b[1;32m    271\u001b[0m         \u001b[0;31m# GH 26045: cast to float64 to avoid an overflow\u001b[0m\u001b[0;34m\u001b[0m\u001b[0;34m\u001b[0m\u001b[0;34m\u001b[0m\u001b[0m\n",
            "\u001b[0;32m/usr/local/lib/python3.6/dist-packages/pandas/core/reshape/tile.py\u001b[0m in \u001b[0;36m_convert_bin_to_numeric_type\u001b[0;34m(bins, dtype)\u001b[0m\n\u001b[1;32m    511\u001b[0m             \u001b[0mbins\u001b[0m \u001b[0;34m=\u001b[0m \u001b[0mto_datetime\u001b[0m\u001b[0;34m(\u001b[0m\u001b[0mbins\u001b[0m\u001b[0;34m)\u001b[0m\u001b[0;34m.\u001b[0m\u001b[0mview\u001b[0m\u001b[0;34m(\u001b[0m\u001b[0mnp\u001b[0m\u001b[0;34m.\u001b[0m\u001b[0mint64\u001b[0m\u001b[0;34m)\u001b[0m\u001b[0;34m\u001b[0m\u001b[0;34m\u001b[0m\u001b[0m\n\u001b[1;32m    512\u001b[0m         \u001b[0;32melse\u001b[0m\u001b[0;34m:\u001b[0m\u001b[0;34m\u001b[0m\u001b[0;34m\u001b[0m\u001b[0m\n\u001b[0;32m--> 513\u001b[0;31m             \u001b[0;32mraise\u001b[0m \u001b[0mValueError\u001b[0m\u001b[0;34m(\u001b[0m\u001b[0;34m\"bins must be of datetime64 dtype\"\u001b[0m\u001b[0;34m)\u001b[0m\u001b[0;34m\u001b[0m\u001b[0;34m\u001b[0m\u001b[0m\n\u001b[0m\u001b[1;32m    514\u001b[0m \u001b[0;34m\u001b[0m\u001b[0m\n\u001b[1;32m    515\u001b[0m     \u001b[0;32mreturn\u001b[0m \u001b[0mbins\u001b[0m\u001b[0;34m\u001b[0m\u001b[0;34m\u001b[0m\u001b[0m\n",
            "\u001b[0;31mValueError\u001b[0m: bins must be of datetime64 dtype"
          ]
        }
      ]
    },
    {
      "cell_type": "code",
      "metadata": {
        "id": "X5iTXKZupmcD"
      },
      "source": [
        "# Import PyDrive and associated libraries.\n",
        "# This only needs to be done once per notebook.\n",
        "from pydrive.auth import GoogleAuth\n",
        "from pydrive.drive import GoogleDrive\n",
        "from google.colab import auth\n",
        "from oauth2client.client import GoogleCredentials\n",
        "\n",
        "# Authenticate and create the PyDrive client.\n",
        "# This only needs to be done once per notebook.\n",
        "auth.authenticate_user()\n",
        "gauth = GoogleAuth()\n",
        "gauth.credentials = GoogleCredentials.get_application_default()\n",
        "drive = GoogleDrive(gauth)\n",
        "\n",
        "# Download a file based on its file ID.\n",
        "#\n",
        "# A file ID looks like: laggVyWshwcyP6kEI-y_W3P8D26sz\n",
        "file_id = 'REPLACE_WITH_YOUR_FILE_ID'\n",
        "downloaded = drive.CreateFile({'id': file_id})\n",
        "print('Downloaded content \"{}\"'.format(downloaded.GetContentString()))"
      ],
      "execution_count": null,
      "outputs": []
    },
    {
      "cell_type": "code",
      "metadata": {
        "id": "owHpX3czpoWR"
      },
      "source": [
        "# Import PyDrive and associated libraries.\n",
        "# This only needs to be done once per notebook.\n",
        "from pydrive.auth import GoogleAuth\n",
        "from pydrive.drive import GoogleDrive\n",
        "from google.colab import auth\n",
        "from oauth2client.client import GoogleCredentials\n",
        "\n",
        "# Authenticate and create the PyDrive client.\n",
        "# This only needs to be done once per notebook.\n",
        "auth.authenticate_user()\n",
        "gauth = GoogleAuth()\n",
        "gauth.credentials = GoogleCredentials.get_application_default()\n",
        "drive = GoogleDrive(gauth)\n",
        "\n",
        "# Download a file based on its file ID.\n",
        "#\n",
        "# A file ID looks like: laggVyWshwcyP6kEI-y_W3P8D26sz\n",
        "file_id = 'REPLACE_WITH_YOUR_FILE_ID'\n",
        "downloaded = drive.CreateFile({'id': file_id})\n",
        "print('Downloaded content \"{}\"'.format(downloaded.GetContentString()))"
      ],
      "execution_count": null,
      "outputs": []
    },
    {
      "cell_type": "code",
      "metadata": {
        "id": "wKkkziRspqgT"
      },
      "source": [
        "# Import PyDrive and associated libraries.\n",
        "# This only needs to be done once per notebook.\n",
        "from pydrive.auth import GoogleAuth\n",
        "from pydrive.drive import GoogleDrive\n",
        "from google.colab import auth\n",
        "from oauth2client.client import GoogleCredentials\n",
        "\n",
        "# Authenticate and create the PyDrive client.\n",
        "# This only needs to be done once per notebook.\n",
        "auth.authenticate_user()\n",
        "gauth = GoogleAuth()\n",
        "gauth.credentials = GoogleCredentials.get_application_default()\n",
        "drive = GoogleDrive(gauth)\n",
        "\n",
        "# Download a file based on its file ID.\n",
        "#\n",
        "# A file ID looks like: laggVyWshwcyP6kEI-y_W3P8D26sz\n",
        "file_id = 'REPLACE_WITH_YOUR_FILE_ID'\n",
        "downloaded = drive.CreateFile({'id': file_id})\n",
        "print('Downloaded content \"{}\"'.format(downloaded.GetContentString()))"
      ],
      "execution_count": null,
      "outputs": []
    },
    {
      "cell_type": "code",
      "metadata": {
        "colab": {
          "base_uri": "https://localhost:8080/"
        },
        "id": "HWcEPPmEydn6",
        "outputId": "1c6e00cb-3bf5-480e-8f5a-4a647af0c21d"
      },
      "source": [
        "pd.cut(df['DoA'].dt.dayofweek,\r\n",
        "       bins=[from_monday,\r\n",
        "             day2id['Tuesday'],\r\n",
        "             day2id['Fraiday'],\r\n",
        "             day2id['Sunday']],\r\n",
        "       labels=['WeekStart','WeekMiddle','WeekEnd'])"
      ],
      "execution_count": null,
      "outputs": [
        {
          "output_type": "execute_result",
          "data": {
            "text/plain": [
              "0      WeekMiddle\n",
              "1      WeekMiddle\n",
              "2       WeekStart\n",
              "3       WeekStart\n",
              "4         WeekEnd\n",
              "          ...    \n",
              "995     WeekStart\n",
              "996     WeekStart\n",
              "997     WeekStart\n",
              "998     WeekStart\n",
              "999       WeekEnd\n",
              "Name: DoA, Length: 1000, dtype: category\n",
              "Categories (3, object): ['WeekStart' < 'WeekMiddle' < 'WeekEnd']"
            ]
          },
          "metadata": {
            "tags": []
          },
          "execution_count": 33
        }
      ]
    },
    {
      "cell_type": "code",
      "metadata": {
        "colab": {
          "base_uri": "https://localhost:8080/",
          "height": 202
        },
        "id": "8yo3NR9Syvo5",
        "outputId": "b05a2385-86f2-4a19-ccfc-b16fd61da60b"
      },
      "source": [
        "df['Week_Periode']=pd.cut(df['DoA'].dt.dayofweek,\r\n",
        "                          bins=[from_monday,\r\n",
        "                                day2id['Tuesday'],\r\n",
        "                                day2id['Fraiday'],\r\n",
        "                                day2id['Sunday']],\r\n",
        "                          labels=['WeekStart','WeekMiddle','WeekEnd'])\r\n",
        "df.head()"
      ],
      "execution_count": null,
      "outputs": [
        {
          "output_type": "execute_result",
          "data": {
            "text/html": [
              "<div>\n",
              "<style scoped>\n",
              "    .dataframe tbody tr th:only-of-type {\n",
              "        vertical-align: middle;\n",
              "    }\n",
              "\n",
              "    .dataframe tbody tr th {\n",
              "        vertical-align: top;\n",
              "    }\n",
              "\n",
              "    .dataframe thead th {\n",
              "        text-align: right;\n",
              "    }\n",
              "</style>\n",
              "<table border=\"1\" class=\"dataframe\">\n",
              "  <thead>\n",
              "    <tr style=\"text-align: right;\">\n",
              "      <th></th>\n",
              "      <th>DoA</th>\n",
              "      <th>Age</th>\n",
              "      <th>Convicted</th>\n",
              "      <th>Week_Periode</th>\n",
              "      <th>DayOfWeek</th>\n",
              "    </tr>\n",
              "  </thead>\n",
              "  <tbody>\n",
              "    <tr>\n",
              "      <th>0</th>\n",
              "      <td>2014-07-16 14:59:18</td>\n",
              "      <td>77</td>\n",
              "      <td>Yes</td>\n",
              "      <td>WeekMiddle</td>\n",
              "      <td>Wednesday</td>\n",
              "    </tr>\n",
              "    <tr>\n",
              "      <th>1</th>\n",
              "      <td>2002-12-19 22:17:59</td>\n",
              "      <td>28</td>\n",
              "      <td>Yes</td>\n",
              "      <td>WeekMiddle</td>\n",
              "      <td>Thursday</td>\n",
              "    </tr>\n",
              "    <tr>\n",
              "      <th>2</th>\n",
              "      <td>1994-06-28 09:31:40</td>\n",
              "      <td>21</td>\n",
              "      <td>No</td>\n",
              "      <td>WeekStart</td>\n",
              "      <td>Tuesday</td>\n",
              "    </tr>\n",
              "    <tr>\n",
              "      <th>3</th>\n",
              "      <td>1985-05-14 09:52:17</td>\n",
              "      <td>45</td>\n",
              "      <td>Yes</td>\n",
              "      <td>WeekStart</td>\n",
              "      <td>Tuesday</td>\n",
              "    </tr>\n",
              "    <tr>\n",
              "      <th>4</th>\n",
              "      <td>1985-05-25 14:06:28</td>\n",
              "      <td>39</td>\n",
              "      <td>Yes</td>\n",
              "      <td>WeekEnd</td>\n",
              "      <td>Saturday</td>\n",
              "    </tr>\n",
              "  </tbody>\n",
              "</table>\n",
              "</div>"
            ],
            "text/plain": [
              "                  DoA  Age Convicted Week_Periode  DayOfWeek\n",
              "0 2014-07-16 14:59:18   77       Yes   WeekMiddle  Wednesday\n",
              "1 2002-12-19 22:17:59   28       Yes   WeekMiddle   Thursday\n",
              "2 1994-06-28 09:31:40   21        No    WeekStart    Tuesday\n",
              "3 1985-05-14 09:52:17   45       Yes    WeekStart    Tuesday\n",
              "4 1985-05-25 14:06:28   39       Yes      WeekEnd   Saturday"
            ]
          },
          "metadata": {
            "tags": []
          },
          "execution_count": 34
        }
      ]
    },
    {
      "cell_type": "code",
      "metadata": {
        "colab": {
          "base_uri": "https://localhost:8080/",
          "height": 202
        },
        "id": "F7AGQ2bjz3SZ",
        "outputId": "2d5ba623-8155-4b84-8056-5e818c8d4df8"
      },
      "source": [
        "df['DayOfWeek']=df['DoA'].dt.dayofweek.map(id2day)\r\n",
        "df.head()"
      ],
      "execution_count": null,
      "outputs": [
        {
          "output_type": "execute_result",
          "data": {
            "text/html": [
              "<div>\n",
              "<style scoped>\n",
              "    .dataframe tbody tr th:only-of-type {\n",
              "        vertical-align: middle;\n",
              "    }\n",
              "\n",
              "    .dataframe tbody tr th {\n",
              "        vertical-align: top;\n",
              "    }\n",
              "\n",
              "    .dataframe thead th {\n",
              "        text-align: right;\n",
              "    }\n",
              "</style>\n",
              "<table border=\"1\" class=\"dataframe\">\n",
              "  <thead>\n",
              "    <tr style=\"text-align: right;\">\n",
              "      <th></th>\n",
              "      <th>DoA</th>\n",
              "      <th>Age</th>\n",
              "      <th>Convicted</th>\n",
              "      <th>Week_Periode</th>\n",
              "      <th>DayOfWeek</th>\n",
              "    </tr>\n",
              "  </thead>\n",
              "  <tbody>\n",
              "    <tr>\n",
              "      <th>0</th>\n",
              "      <td>2014-07-16 14:59:18</td>\n",
              "      <td>77</td>\n",
              "      <td>Yes</td>\n",
              "      <td>WeekMiddle</td>\n",
              "      <td>Wednesday</td>\n",
              "    </tr>\n",
              "    <tr>\n",
              "      <th>1</th>\n",
              "      <td>2002-12-19 22:17:59</td>\n",
              "      <td>28</td>\n",
              "      <td>Yes</td>\n",
              "      <td>WeekMiddle</td>\n",
              "      <td>Thursday</td>\n",
              "    </tr>\n",
              "    <tr>\n",
              "      <th>2</th>\n",
              "      <td>1994-06-28 09:31:40</td>\n",
              "      <td>21</td>\n",
              "      <td>No</td>\n",
              "      <td>WeekStart</td>\n",
              "      <td>Tuesday</td>\n",
              "    </tr>\n",
              "    <tr>\n",
              "      <th>3</th>\n",
              "      <td>1985-05-14 09:52:17</td>\n",
              "      <td>45</td>\n",
              "      <td>Yes</td>\n",
              "      <td>WeekStart</td>\n",
              "      <td>Tuesday</td>\n",
              "    </tr>\n",
              "    <tr>\n",
              "      <th>4</th>\n",
              "      <td>1985-05-25 14:06:28</td>\n",
              "      <td>39</td>\n",
              "      <td>Yes</td>\n",
              "      <td>WeekEnd</td>\n",
              "      <td>Saturday</td>\n",
              "    </tr>\n",
              "  </tbody>\n",
              "</table>\n",
              "</div>"
            ],
            "text/plain": [
              "                  DoA  Age Convicted Week_Periode  DayOfWeek\n",
              "0 2014-07-16 14:59:18   77       Yes   WeekMiddle  Wednesday\n",
              "1 2002-12-19 22:17:59   28       Yes   WeekMiddle   Thursday\n",
              "2 1994-06-28 09:31:40   21        No    WeekStart    Tuesday\n",
              "3 1985-05-14 09:52:17   45       Yes    WeekStart    Tuesday\n",
              "4 1985-05-25 14:06:28   39       Yes      WeekEnd   Saturday"
            ]
          },
          "metadata": {
            "tags": []
          },
          "execution_count": 35
        }
      ]
    },
    {
      "cell_type": "code",
      "metadata": {
        "id": "A3QUmkZM0uwh"
      },
      "source": [
        ""
      ],
      "execution_count": null,
      "outputs": []
    },
    {
      "cell_type": "markdown",
      "metadata": {
        "id": "tnB-F7-m2A_u"
      },
      "source": [
        "### Methode 2 : Double map"
      ]
    },
    {
      "cell_type": "code",
      "metadata": {
        "colab": {
          "base_uri": "https://localhost:8080/"
        },
        "id": "F1j4XeJi2HLK",
        "outputId": "a7ac0784-55b2-4507-a48f-43aefd5a24d2"
      },
      "source": [
        "day2id"
      ],
      "execution_count": null,
      "outputs": [
        {
          "output_type": "execute_result",
          "data": {
            "text/plain": [
              "{'Fraiday': 4,\n",
              " 'Monday': 0,\n",
              " 'Saturday': 5,\n",
              " 'Sunday': 6,\n",
              " 'Thursday': 3,\n",
              " 'Tuesday': 1,\n",
              " 'Wednesday': 2}"
            ]
          },
          "metadata": {
            "tags": []
          },
          "execution_count": 36
        }
      ]
    },
    {
      "cell_type": "code",
      "metadata": {
        "id": "1oIXZzx-2aQg"
      },
      "source": [
        "day2category={'Fraiday': 'WeekMiddle',\r\n",
        " 'Monday': 'WeekStart',\r\n",
        " 'Saturday': 'WeekEnd',\r\n",
        " 'Sunday': 'WeekEnd',\r\n",
        " 'Thursday': 'WeekMiddle',\r\n",
        " 'Tuesday': 'WeekStart',\r\n",
        " 'Wednesday': 'WeekMiddle'}"
      ],
      "execution_count": null,
      "outputs": []
    },
    {
      "cell_type": "code",
      "metadata": {
        "colab": {
          "base_uri": "https://localhost:8080/"
        },
        "id": "QP0W8XT93obb",
        "outputId": "1958d955-6141-490e-91e3-2d629cb2e32c"
      },
      "source": [
        "df['DoA'].dt.dayofweek.map(id2day).map(day2category)"
      ],
      "execution_count": null,
      "outputs": [
        {
          "output_type": "execute_result",
          "data": {
            "text/plain": [
              "0      WeekMiddle\n",
              "1      WeekMiddle\n",
              "2       WeekStart\n",
              "3       WeekStart\n",
              "4         WeekEnd\n",
              "          ...    \n",
              "995     WeekStart\n",
              "996     WeekStart\n",
              "997     WeekStart\n",
              "998     WeekStart\n",
              "999       WeekEnd\n",
              "Name: DoA, Length: 1000, dtype: object"
            ]
          },
          "metadata": {
            "tags": []
          },
          "execution_count": 39
        }
      ]
    },
    {
      "cell_type": "code",
      "metadata": {
        "colab": {
          "base_uri": "https://localhost:8080/",
          "height": 202
        },
        "id": "JY4ieq5-4BET",
        "outputId": "f46eb86e-1b4c-4136-d495-2023e9c03448"
      },
      "source": [
        "df['Week_Periode2']=df['DoA'].dt.dayofweek.map(id2day).map(day2category)\r\n",
        "df.head()"
      ],
      "execution_count": null,
      "outputs": [
        {
          "output_type": "execute_result",
          "data": {
            "text/html": [
              "<div>\n",
              "<style scoped>\n",
              "    .dataframe tbody tr th:only-of-type {\n",
              "        vertical-align: middle;\n",
              "    }\n",
              "\n",
              "    .dataframe tbody tr th {\n",
              "        vertical-align: top;\n",
              "    }\n",
              "\n",
              "    .dataframe thead th {\n",
              "        text-align: right;\n",
              "    }\n",
              "</style>\n",
              "<table border=\"1\" class=\"dataframe\">\n",
              "  <thead>\n",
              "    <tr style=\"text-align: right;\">\n",
              "      <th></th>\n",
              "      <th>DoA</th>\n",
              "      <th>Age</th>\n",
              "      <th>Convicted</th>\n",
              "      <th>Week_Periode</th>\n",
              "      <th>DayOfWeek</th>\n",
              "      <th>Week_Periode2</th>\n",
              "    </tr>\n",
              "  </thead>\n",
              "  <tbody>\n",
              "    <tr>\n",
              "      <th>0</th>\n",
              "      <td>2014-07-16 14:59:18</td>\n",
              "      <td>77</td>\n",
              "      <td>Yes</td>\n",
              "      <td>WeekMiddle</td>\n",
              "      <td>Wednesday</td>\n",
              "      <td>WeekMiddle</td>\n",
              "    </tr>\n",
              "    <tr>\n",
              "      <th>1</th>\n",
              "      <td>2002-12-19 22:17:59</td>\n",
              "      <td>28</td>\n",
              "      <td>Yes</td>\n",
              "      <td>WeekMiddle</td>\n",
              "      <td>Thursday</td>\n",
              "      <td>WeekMiddle</td>\n",
              "    </tr>\n",
              "    <tr>\n",
              "      <th>2</th>\n",
              "      <td>1994-06-28 09:31:40</td>\n",
              "      <td>21</td>\n",
              "      <td>No</td>\n",
              "      <td>WeekStart</td>\n",
              "      <td>Tuesday</td>\n",
              "      <td>WeekStart</td>\n",
              "    </tr>\n",
              "    <tr>\n",
              "      <th>3</th>\n",
              "      <td>1985-05-14 09:52:17</td>\n",
              "      <td>45</td>\n",
              "      <td>Yes</td>\n",
              "      <td>WeekStart</td>\n",
              "      <td>Tuesday</td>\n",
              "      <td>WeekStart</td>\n",
              "    </tr>\n",
              "    <tr>\n",
              "      <th>4</th>\n",
              "      <td>1985-05-25 14:06:28</td>\n",
              "      <td>39</td>\n",
              "      <td>Yes</td>\n",
              "      <td>WeekEnd</td>\n",
              "      <td>Saturday</td>\n",
              "      <td>WeekEnd</td>\n",
              "    </tr>\n",
              "  </tbody>\n",
              "</table>\n",
              "</div>"
            ],
            "text/plain": [
              "                  DoA  Age Convicted Week_Periode  DayOfWeek Week_Periode2\n",
              "0 2014-07-16 14:59:18   77       Yes   WeekMiddle  Wednesday    WeekMiddle\n",
              "1 2002-12-19 22:17:59   28       Yes   WeekMiddle   Thursday    WeekMiddle\n",
              "2 1994-06-28 09:31:40   21        No    WeekStart    Tuesday     WeekStart\n",
              "3 1985-05-14 09:52:17   45       Yes    WeekStart    Tuesday     WeekStart\n",
              "4 1985-05-25 14:06:28   39       Yes      WeekEnd   Saturday       WeekEnd"
            ]
          },
          "metadata": {
            "tags": []
          },
          "execution_count": 40
        }
      ]
    },
    {
      "cell_type": "markdown",
      "metadata": {
        "id": "6JN-S4EV6kEV"
      },
      "source": [
        "### Objectif : creer une colonne categorielle 'Time of day'"
      ]
    },
    {
      "cell_type": "markdown",
      "metadata": {
        "id": "J8LgUIbj7AjG"
      },
      "source": [
        "#### *Morning entre 6h01 et 13\r\n",
        "#### *Afternoon Entre 13h01  et 18h\r\n",
        "#### *Evening Entre 18h01 et 22h \r\n",
        "#### *Night   Entre 22h01 et 6h \r\n",
        "\r\n",
        "#### Problème : Night\r\n"
      ]
    },
    {
      "cell_type": "code",
      "metadata": {
        "id": "n59LEvR28rgz"
      },
      "source": [
        "df['DoA']=pd.to_datetime(df['DoA'])"
      ],
      "execution_count": null,
      "outputs": []
    },
    {
      "cell_type": "code",
      "metadata": {
        "colab": {
          "base_uri": "https://localhost:8080/"
        },
        "id": "vKXSafxt9DNT",
        "outputId": "601bf7c8-b00d-4589-c4a3-79c6241c222c"
      },
      "source": [
        "df['DoA'].dt.hour"
      ],
      "execution_count": null,
      "outputs": [
        {
          "output_type": "execute_result",
          "data": {
            "text/plain": [
              "0      14\n",
              "1      22\n",
              "2       9\n",
              "3       9\n",
              "4      14\n",
              "       ..\n",
              "995    14\n",
              "996    18\n",
              "997    21\n",
              "998    17\n",
              "999    18\n",
              "Name: DoA, Length: 1000, dtype: int64"
            ]
          },
          "metadata": {
            "tags": []
          },
          "execution_count": 44
        }
      ]
    },
    {
      "cell_type": "code",
      "metadata": {
        "colab": {
          "base_uri": "https://localhost:8080/"
        },
        "id": "0bULzABT9PJH",
        "outputId": "271377a4-d77a-472e-f712-cdb34c567550"
      },
      "source": [
        "df['DoA'].dt.hour.min()"
      ],
      "execution_count": null,
      "outputs": [
        {
          "output_type": "execute_result",
          "data": {
            "text/plain": [
              "0"
            ]
          },
          "metadata": {
            "tags": []
          },
          "execution_count": 45
        }
      ]
    },
    {
      "cell_type": "code",
      "metadata": {
        "colab": {
          "base_uri": "https://localhost:8080/"
        },
        "id": "eEcsC5eS9y_p",
        "outputId": "8f13e9f8-d94a-4373-f048-368ffe87243d"
      },
      "source": [
        "df['DoA'].dt.hour.max()"
      ],
      "execution_count": null,
      "outputs": [
        {
          "output_type": "execute_result",
          "data": {
            "text/plain": [
              "23"
            ]
          },
          "metadata": {
            "tags": []
          },
          "execution_count": 46
        }
      ]
    },
    {
      "cell_type": "code",
      "metadata": {
        "colab": {
          "base_uri": "https://localhost:8080/"
        },
        "id": "9MmdajcZ91Mp",
        "outputId": "3f830457-e23f-4a63-d018-a77215158842"
      },
      "source": [
        "FromMidnight=-1\r\n",
        "tmp=pd.cut(df['DoA'].dt.hour,\r\n",
        "           bins=[FromMidnight,\r\n",
        "                 6,13,18,22,24],\r\n",
        "           labels=['Night','Morning','Afternoon','Evening','Night1'])\r\n",
        "tmp"
      ],
      "execution_count": null,
      "outputs": [
        {
          "output_type": "execute_result",
          "data": {
            "text/plain": [
              "0      Afternoon\n",
              "1        Evening\n",
              "2        Morning\n",
              "3        Morning\n",
              "4      Afternoon\n",
              "         ...    \n",
              "995    Afternoon\n",
              "996    Afternoon\n",
              "997      Evening\n",
              "998    Afternoon\n",
              "999    Afternoon\n",
              "Name: DoA, Length: 1000, dtype: category\n",
              "Categories (5, object): ['Night' < 'Morning' < 'Afternoon' < 'Evening' < 'Night1']"
            ]
          },
          "metadata": {
            "tags": []
          },
          "execution_count": 48
        }
      ]
    },
    {
      "cell_type": "code",
      "metadata": {
        "colab": {
          "base_uri": "https://localhost:8080/"
        },
        "id": "Zia5Mj8o_55n",
        "outputId": "59cd6ab6-40ca-4e7f-bbe8-565f468f4691"
      },
      "source": [
        "tmp.str.replace('1', '').astype('category')"
      ],
      "execution_count": null,
      "outputs": [
        {
          "output_type": "execute_result",
          "data": {
            "text/plain": [
              "0      Afternoon\n",
              "1        Evening\n",
              "2        Morning\n",
              "3        Morning\n",
              "4      Afternoon\n",
              "         ...    \n",
              "995    Afternoon\n",
              "996    Afternoon\n",
              "997      Evening\n",
              "998    Afternoon\n",
              "999    Afternoon\n",
              "Name: DoA, Length: 1000, dtype: category\n",
              "Categories (5, object): ['Afternoon', 'Evening', 'Morning', 'Night', 'Night1']"
            ]
          },
          "metadata": {
            "tags": []
          },
          "execution_count": 49
        }
      ]
    },
    {
      "cell_type": "code",
      "metadata": {
        "colab": {
          "base_uri": "https://localhost:8080/",
          "height": 202
        },
        "id": "BOCWW2BLAj8M",
        "outputId": "07800309-ad31-4e99-a821-27e7e0173c79"
      },
      "source": [
        "df['Time of Day']=tmp.str.replace('1', '').astype('category')\r\n",
        "df.head()"
      ],
      "execution_count": null,
      "outputs": [
        {
          "output_type": "execute_result",
          "data": {
            "text/html": [
              "<div>\n",
              "<style scoped>\n",
              "    .dataframe tbody tr th:only-of-type {\n",
              "        vertical-align: middle;\n",
              "    }\n",
              "\n",
              "    .dataframe tbody tr th {\n",
              "        vertical-align: top;\n",
              "    }\n",
              "\n",
              "    .dataframe thead th {\n",
              "        text-align: right;\n",
              "    }\n",
              "</style>\n",
              "<table border=\"1\" class=\"dataframe\">\n",
              "  <thead>\n",
              "    <tr style=\"text-align: right;\">\n",
              "      <th></th>\n",
              "      <th>DoA</th>\n",
              "      <th>Age</th>\n",
              "      <th>Convicted</th>\n",
              "      <th>Week_Periode</th>\n",
              "      <th>DayOfWeek</th>\n",
              "      <th>Week_Periode2</th>\n",
              "      <th>Time of Day</th>\n",
              "    </tr>\n",
              "  </thead>\n",
              "  <tbody>\n",
              "    <tr>\n",
              "      <th>0</th>\n",
              "      <td>2014-07-16 14:59:18</td>\n",
              "      <td>77</td>\n",
              "      <td>Yes</td>\n",
              "      <td>WeekMiddle</td>\n",
              "      <td>Wednesday</td>\n",
              "      <td>WeekMiddle</td>\n",
              "      <td>Afternoon</td>\n",
              "    </tr>\n",
              "    <tr>\n",
              "      <th>1</th>\n",
              "      <td>2002-12-19 22:17:59</td>\n",
              "      <td>28</td>\n",
              "      <td>Yes</td>\n",
              "      <td>WeekMiddle</td>\n",
              "      <td>Thursday</td>\n",
              "      <td>WeekMiddle</td>\n",
              "      <td>Evening</td>\n",
              "    </tr>\n",
              "    <tr>\n",
              "      <th>2</th>\n",
              "      <td>1994-06-28 09:31:40</td>\n",
              "      <td>21</td>\n",
              "      <td>No</td>\n",
              "      <td>WeekStart</td>\n",
              "      <td>Tuesday</td>\n",
              "      <td>WeekStart</td>\n",
              "      <td>Morning</td>\n",
              "    </tr>\n",
              "    <tr>\n",
              "      <th>3</th>\n",
              "      <td>1985-05-14 09:52:17</td>\n",
              "      <td>45</td>\n",
              "      <td>Yes</td>\n",
              "      <td>WeekStart</td>\n",
              "      <td>Tuesday</td>\n",
              "      <td>WeekStart</td>\n",
              "      <td>Morning</td>\n",
              "    </tr>\n",
              "    <tr>\n",
              "      <th>4</th>\n",
              "      <td>1985-05-25 14:06:28</td>\n",
              "      <td>39</td>\n",
              "      <td>Yes</td>\n",
              "      <td>WeekEnd</td>\n",
              "      <td>Saturday</td>\n",
              "      <td>WeekEnd</td>\n",
              "      <td>Afternoon</td>\n",
              "    </tr>\n",
              "  </tbody>\n",
              "</table>\n",
              "</div>"
            ],
            "text/plain": [
              "                  DoA  Age Convicted  ...  DayOfWeek Week_Periode2 Time of Day\n",
              "0 2014-07-16 14:59:18   77       Yes  ...  Wednesday    WeekMiddle   Afternoon\n",
              "1 2002-12-19 22:17:59   28       Yes  ...   Thursday    WeekMiddle     Evening\n",
              "2 1994-06-28 09:31:40   21        No  ...    Tuesday     WeekStart     Morning\n",
              "3 1985-05-14 09:52:17   45       Yes  ...    Tuesday     WeekStart     Morning\n",
              "4 1985-05-25 14:06:28   39       Yes  ...   Saturday       WeekEnd   Afternoon\n",
              "\n",
              "[5 rows x 7 columns]"
            ]
          },
          "metadata": {
            "tags": []
          },
          "execution_count": 50
        }
      ]
    },
    {
      "cell_type": "code",
      "metadata": {
        "colab": {
          "base_uri": "https://localhost:8080/"
        },
        "id": "XgmQPUScA98u",
        "outputId": "e9b20343-817f-4f60-ede0-f13166658dd4"
      },
      "source": [
        "dir(df['DoA'].dt)"
      ],
      "execution_count": null,
      "outputs": [
        {
          "output_type": "execute_result",
          "data": {
            "text/plain": [
              "['__annotations__',\n",
              " '__class__',\n",
              " '__delattr__',\n",
              " '__dict__',\n",
              " '__dir__',\n",
              " '__doc__',\n",
              " '__eq__',\n",
              " '__format__',\n",
              " '__ge__',\n",
              " '__getattribute__',\n",
              " '__gt__',\n",
              " '__hash__',\n",
              " '__init__',\n",
              " '__init_subclass__',\n",
              " '__le__',\n",
              " '__lt__',\n",
              " '__module__',\n",
              " '__ne__',\n",
              " '__new__',\n",
              " '__reduce__',\n",
              " '__reduce_ex__',\n",
              " '__repr__',\n",
              " '__setattr__',\n",
              " '__sizeof__',\n",
              " '__str__',\n",
              " '__subclasshook__',\n",
              " '__weakref__',\n",
              " '_accessors',\n",
              " '_add_delegate_accessors',\n",
              " '_constructor',\n",
              " '_delegate_method',\n",
              " '_delegate_property_get',\n",
              " '_delegate_property_set',\n",
              " '_deprecations',\n",
              " '_dir_additions',\n",
              " '_dir_deletions',\n",
              " '_freeze',\n",
              " '_get_values',\n",
              " '_reset_cache',\n",
              " 'ceil',\n",
              " 'date',\n",
              " 'day',\n",
              " 'day_name',\n",
              " 'dayofweek',\n",
              " 'dayofyear',\n",
              " 'days_in_month',\n",
              " 'daysinmonth',\n",
              " 'floor',\n",
              " 'freq',\n",
              " 'hour',\n",
              " 'is_leap_year',\n",
              " 'is_month_end',\n",
              " 'is_month_start',\n",
              " 'is_quarter_end',\n",
              " 'is_quarter_start',\n",
              " 'is_year_end',\n",
              " 'is_year_start',\n",
              " 'isocalendar',\n",
              " 'microsecond',\n",
              " 'minute',\n",
              " 'month',\n",
              " 'month_name',\n",
              " 'nanosecond',\n",
              " 'normalize',\n",
              " 'quarter',\n",
              " 'round',\n",
              " 'second',\n",
              " 'strftime',\n",
              " 'time',\n",
              " 'timetz',\n",
              " 'to_period',\n",
              " 'to_pydatetime',\n",
              " 'tz',\n",
              " 'tz_convert',\n",
              " 'tz_localize',\n",
              " 'week',\n",
              " 'weekday',\n",
              " 'weekofyear',\n",
              " 'year']"
            ]
          },
          "metadata": {
            "tags": []
          },
          "execution_count": 51
        }
      ]
    },
    {
      "cell_type": "code",
      "metadata": {
        "colab": {
          "base_uri": "https://localhost:8080/"
        },
        "id": "bMdWOb7rB3Bo",
        "outputId": "e256e2d4-a95d-40fa-b803-37605928d5a2"
      },
      "source": [
        "df['DoA'].dt.month"
      ],
      "execution_count": null,
      "outputs": [
        {
          "output_type": "execute_result",
          "data": {
            "text/plain": [
              "0       7\n",
              "1      12\n",
              "2       6\n",
              "3       5\n",
              "4       5\n",
              "       ..\n",
              "995     2\n",
              "996     4\n",
              "997     7\n",
              "998     7\n",
              "999     3\n",
              "Name: DoA, Length: 1000, dtype: int64"
            ]
          },
          "metadata": {
            "tags": []
          },
          "execution_count": 52
        }
      ]
    },
    {
      "cell_type": "code",
      "metadata": {
        "colab": {
          "base_uri": "https://localhost:8080/"
        },
        "id": "YtgX61llCWXc",
        "outputId": "919d02b9-eff3-408f-b214-31bdefa45a73"
      },
      "source": [
        "df['DoA'].dt.day"
      ],
      "execution_count": null,
      "outputs": [
        {
          "output_type": "execute_result",
          "data": {
            "text/plain": [
              "0      16\n",
              "1      19\n",
              "2      28\n",
              "3      14\n",
              "4      25\n",
              "       ..\n",
              "995     4\n",
              "996    29\n",
              "997    15\n",
              "998     5\n",
              "999    17\n",
              "Name: DoA, Length: 1000, dtype: int64"
            ]
          },
          "metadata": {
            "tags": []
          },
          "execution_count": 53
        }
      ]
    },
    {
      "cell_type": "code",
      "metadata": {
        "colab": {
          "base_uri": "https://localhost:8080/"
        },
        "id": "gjjuKiEOCb7P",
        "outputId": "24b9c32b-e3f1-4459-d143-6c1524f1b68c"
      },
      "source": [
        "cut=df['DoA'].dt.month*100 + df['DoA'].dt.day\r\n",
        "cut"
      ],
      "execution_count": null,
      "outputs": [
        {
          "output_type": "execute_result",
          "data": {
            "text/plain": [
              "0       716\n",
              "1      1219\n",
              "2       628\n",
              "3       514\n",
              "4       525\n",
              "       ... \n",
              "995     204\n",
              "996     429\n",
              "997     715\n",
              "998     705\n",
              "999     317\n",
              "Name: DoA, Length: 1000, dtype: int64"
            ]
          },
          "metadata": {
            "tags": []
          },
          "execution_count": 54
        }
      ]
    },
    {
      "cell_type": "code",
      "metadata": {
        "id": "NivsqztWDHn4"
      },
      "source": [
        "bins=[100,320,620,920,1220, 1231]"
      ],
      "execution_count": null,
      "outputs": []
    },
    {
      "cell_type": "code",
      "metadata": {
        "id": "Ur0wgdf3EJqE"
      },
      "source": [
        "From_Jan_01=100\r\n",
        "Mars_20=320\r\n",
        "June_20=620\r\n",
        "Sep_20=920\r\n",
        "Dec_20=1220\r\n",
        "Dec_31=1231"
      ],
      "execution_count": null,
      "outputs": []
    },
    {
      "cell_type": "code",
      "metadata": {
        "id": "CZG4P3qqE36k"
      },
      "source": [
        "tmp=pd.cut(cut,\r\n",
        "           bins=[From_Jan_01,\r\n",
        "                  Mars_20,\r\n",
        "                  June_20,\r\n",
        "                  Sep_20,\r\n",
        "                  Dec_20,\r\n",
        "                  Dec_31],\r\n",
        "           labels=['Winter','String','Summer','Fall','Winter1'])"
      ],
      "execution_count": null,
      "outputs": []
    },
    {
      "cell_type": "code",
      "metadata": {
        "colab": {
          "base_uri": "https://localhost:8080/"
        },
        "id": "YxjwASpAGTux",
        "outputId": "038223de-0cc3-4b34-a172-b722c3cd579a"
      },
      "source": [
        "tmp.str.replace('1', '').astype('category')"
      ],
      "execution_count": null,
      "outputs": [
        {
          "output_type": "execute_result",
          "data": {
            "text/plain": [
              "0      Summer\n",
              "1        Fall\n",
              "2      Summer\n",
              "3      String\n",
              "4      String\n",
              "        ...  \n",
              "995    Winter\n",
              "996    String\n",
              "997    Summer\n",
              "998    Summer\n",
              "999    Winter\n",
              "Name: DoA, Length: 1000, dtype: category\n",
              "Categories (4, object): ['Fall', 'String', 'Summer', 'Winter']"
            ]
          },
          "metadata": {
            "tags": []
          },
          "execution_count": 58
        }
      ]
    },
    {
      "cell_type": "code",
      "metadata": {
        "colab": {
          "base_uri": "https://localhost:8080/",
          "height": 202
        },
        "id": "gkyQF5W3GiB-",
        "outputId": "ee0e9ada-19a0-4997-f2e6-edb3eefff05e"
      },
      "source": [
        "df['Season']=tmp.str.replace('1', '').astype('category')\r\n",
        "df.head()"
      ],
      "execution_count": null,
      "outputs": [
        {
          "output_type": "execute_result",
          "data": {
            "text/html": [
              "<div>\n",
              "<style scoped>\n",
              "    .dataframe tbody tr th:only-of-type {\n",
              "        vertical-align: middle;\n",
              "    }\n",
              "\n",
              "    .dataframe tbody tr th {\n",
              "        vertical-align: top;\n",
              "    }\n",
              "\n",
              "    .dataframe thead th {\n",
              "        text-align: right;\n",
              "    }\n",
              "</style>\n",
              "<table border=\"1\" class=\"dataframe\">\n",
              "  <thead>\n",
              "    <tr style=\"text-align: right;\">\n",
              "      <th></th>\n",
              "      <th>DoA</th>\n",
              "      <th>Age</th>\n",
              "      <th>Convicted</th>\n",
              "      <th>Week_Periode</th>\n",
              "      <th>DayOfWeek</th>\n",
              "      <th>Week_Periode2</th>\n",
              "      <th>Time of Day</th>\n",
              "      <th>Season</th>\n",
              "    </tr>\n",
              "  </thead>\n",
              "  <tbody>\n",
              "    <tr>\n",
              "      <th>0</th>\n",
              "      <td>2014-07-16 14:59:18</td>\n",
              "      <td>77</td>\n",
              "      <td>Yes</td>\n",
              "      <td>WeekMiddle</td>\n",
              "      <td>Wednesday</td>\n",
              "      <td>WeekMiddle</td>\n",
              "      <td>Afternoon</td>\n",
              "      <td>Summer</td>\n",
              "    </tr>\n",
              "    <tr>\n",
              "      <th>1</th>\n",
              "      <td>2002-12-19 22:17:59</td>\n",
              "      <td>28</td>\n",
              "      <td>Yes</td>\n",
              "      <td>WeekMiddle</td>\n",
              "      <td>Thursday</td>\n",
              "      <td>WeekMiddle</td>\n",
              "      <td>Evening</td>\n",
              "      <td>Fall</td>\n",
              "    </tr>\n",
              "    <tr>\n",
              "      <th>2</th>\n",
              "      <td>1994-06-28 09:31:40</td>\n",
              "      <td>21</td>\n",
              "      <td>No</td>\n",
              "      <td>WeekStart</td>\n",
              "      <td>Tuesday</td>\n",
              "      <td>WeekStart</td>\n",
              "      <td>Morning</td>\n",
              "      <td>Summer</td>\n",
              "    </tr>\n",
              "    <tr>\n",
              "      <th>3</th>\n",
              "      <td>1985-05-14 09:52:17</td>\n",
              "      <td>45</td>\n",
              "      <td>Yes</td>\n",
              "      <td>WeekStart</td>\n",
              "      <td>Tuesday</td>\n",
              "      <td>WeekStart</td>\n",
              "      <td>Morning</td>\n",
              "      <td>String</td>\n",
              "    </tr>\n",
              "    <tr>\n",
              "      <th>4</th>\n",
              "      <td>1985-05-25 14:06:28</td>\n",
              "      <td>39</td>\n",
              "      <td>Yes</td>\n",
              "      <td>WeekEnd</td>\n",
              "      <td>Saturday</td>\n",
              "      <td>WeekEnd</td>\n",
              "      <td>Afternoon</td>\n",
              "      <td>String</td>\n",
              "    </tr>\n",
              "  </tbody>\n",
              "</table>\n",
              "</div>"
            ],
            "text/plain": [
              "                  DoA  Age Convicted  ... Week_Periode2 Time of Day  Season\n",
              "0 2014-07-16 14:59:18   77       Yes  ...    WeekMiddle   Afternoon  Summer\n",
              "1 2002-12-19 22:17:59   28       Yes  ...    WeekMiddle     Evening    Fall\n",
              "2 1994-06-28 09:31:40   21        No  ...     WeekStart     Morning  Summer\n",
              "3 1985-05-14 09:52:17   45       Yes  ...     WeekStart     Morning  String\n",
              "4 1985-05-25 14:06:28   39       Yes  ...       WeekEnd   Afternoon  String\n",
              "\n",
              "[5 rows x 8 columns]"
            ]
          },
          "metadata": {
            "tags": []
          },
          "execution_count": 59
        }
      ]
    },
    {
      "cell_type": "markdown",
      "metadata": {
        "id": "aAeACulSHVTl"
      },
      "source": [
        "# Données Manquantes"
      ]
    },
    {
      "cell_type": "code",
      "metadata": {
        "id": "YPRVxtatG1p-",
        "colab": {
          "base_uri": "https://localhost:8080/"
        },
        "outputId": "9c17c54b-8e09-4453-db52-4d4e8174f612"
      },
      "source": [
        "fp='https://bit.ly/tx-data'\r\n",
        "print(fp)"
      ],
      "execution_count": null,
      "outputs": [
        {
          "output_type": "stream",
          "text": [
            "https://bit.ly/tx-data\n"
          ],
          "name": "stdout"
        }
      ]
    },
    {
      "cell_type": "code",
      "metadata": {
        "colab": {
          "base_uri": "https://localhost:8080/",
          "height": 202
        },
        "id": "hn1X4Www-H0J",
        "outputId": "e1738bc8-5614-4dd2-d25d-15391b939cf7"
      },
      "source": [
        "import pandas as pd\r\n",
        "df=pd.read_csv(fp)\r\n",
        "df.head()"
      ],
      "execution_count": null,
      "outputs": [
        {
          "output_type": "execute_result",
          "data": {
            "text/html": [
              "<div>\n",
              "<style scoped>\n",
              "    .dataframe tbody tr th:only-of-type {\n",
              "        vertical-align: middle;\n",
              "    }\n",
              "\n",
              "    .dataframe tbody tr th {\n",
              "        vertical-align: top;\n",
              "    }\n",
              "\n",
              "    .dataframe thead th {\n",
              "        text-align: right;\n",
              "    }\n",
              "</style>\n",
              "<table border=\"1\" class=\"dataframe\">\n",
              "  <thead>\n",
              "    <tr style=\"text-align: right;\">\n",
              "      <th></th>\n",
              "      <th>transaction_id</th>\n",
              "      <th>first_name</th>\n",
              "      <th>last_name</th>\n",
              "      <th>ip_address</th>\n",
              "      <th>amount</th>\n",
              "    </tr>\n",
              "  </thead>\n",
              "  <tbody>\n",
              "    <tr>\n",
              "      <th>0</th>\n",
              "      <td>50563-403</td>\n",
              "      <td>Jacobo</td>\n",
              "      <td>Haresign</td>\n",
              "      <td>18.144.134.48</td>\n",
              "      <td>$647.77</td>\n",
              "    </tr>\n",
              "    <tr>\n",
              "      <th>1</th>\n",
              "      <td>54569-3911</td>\n",
              "      <td>Christy</td>\n",
              "      <td>Derl</td>\n",
              "      <td>254.107.123.242</td>\n",
              "      <td>$460.47</td>\n",
              "    </tr>\n",
              "    <tr>\n",
              "      <th>2</th>\n",
              "      <td>59667-0024</td>\n",
              "      <td>Florie</td>\n",
              "      <td>Prewer</td>\n",
              "      <td>148.80.11.233</td>\n",
              "      <td>$565.38</td>\n",
              "    </tr>\n",
              "    <tr>\n",
              "      <th>3</th>\n",
              "      <td>60429-123</td>\n",
              "      <td>Danika</td>\n",
              "      <td>Shimuk</td>\n",
              "      <td>233.91.221.158</td>\n",
              "      <td>$794.76</td>\n",
              "    </tr>\n",
              "    <tr>\n",
              "      <th>4</th>\n",
              "      <td>0187-0771</td>\n",
              "      <td>Annelise</td>\n",
              "      <td>Antonescu</td>\n",
              "      <td>238.143.41.105</td>\n",
              "      <td>$790.41</td>\n",
              "    </tr>\n",
              "  </tbody>\n",
              "</table>\n",
              "</div>"
            ],
            "text/plain": [
              "  transaction_id first_name  last_name       ip_address   amount\n",
              "0      50563-403     Jacobo   Haresign    18.144.134.48  $647.77\n",
              "1     54569-3911    Christy       Derl  254.107.123.242  $460.47\n",
              "2     59667-0024     Florie     Prewer    148.80.11.233  $565.38\n",
              "3      60429-123     Danika     Shimuk   233.91.221.158  $794.76\n",
              "4      0187-0771   Annelise  Antonescu   238.143.41.105  $790.41"
            ]
          },
          "metadata": {
            "tags": []
          },
          "execution_count": 88
        }
      ]
    },
    {
      "cell_type": "code",
      "metadata": {
        "id": "-Ea2QQQDkFC0"
      },
      "source": [
        "df.to_csv('tx-data.csv')"
      ],
      "execution_count": null,
      "outputs": []
    },
    {
      "cell_type": "code",
      "metadata": {
        "colab": {
          "base_uri": "https://localhost:8080/",
          "height": 202
        },
        "id": "V6WAvFbl-ZBI",
        "outputId": "a02ff5fc-8195-40e0-931b-b8fd428e40d8"
      },
      "source": [
        "df.tail()"
      ],
      "execution_count": null,
      "outputs": [
        {
          "output_type": "execute_result",
          "data": {
            "text/html": [
              "<div>\n",
              "<style scoped>\n",
              "    .dataframe tbody tr th:only-of-type {\n",
              "        vertical-align: middle;\n",
              "    }\n",
              "\n",
              "    .dataframe tbody tr th {\n",
              "        vertical-align: top;\n",
              "    }\n",
              "\n",
              "    .dataframe thead th {\n",
              "        text-align: right;\n",
              "    }\n",
              "</style>\n",
              "<table border=\"1\" class=\"dataframe\">\n",
              "  <thead>\n",
              "    <tr style=\"text-align: right;\">\n",
              "      <th></th>\n",
              "      <th>transaction_id</th>\n",
              "      <th>first_name</th>\n",
              "      <th>last_name</th>\n",
              "      <th>ip_address</th>\n",
              "      <th>amount</th>\n",
              "    </tr>\n",
              "  </thead>\n",
              "  <tbody>\n",
              "    <tr>\n",
              "      <th>43</th>\n",
              "      <td>0456-2212</td>\n",
              "      <td>Layney</td>\n",
              "      <td>Janssens</td>\n",
              "      <td>79.49.30.228</td>\n",
              "      <td>$889.27</td>\n",
              "    </tr>\n",
              "    <tr>\n",
              "      <th>44</th>\n",
              "      <td>59779-276</td>\n",
              "      <td>Lynnelle</td>\n",
              "      <td>Ainslie</td>\n",
              "      <td>38.85.34.83</td>\n",
              "      <td>$473.65</td>\n",
              "    </tr>\n",
              "    <tr>\n",
              "      <th>45</th>\n",
              "      <td>68712-049</td>\n",
              "      <td>Phaedra</td>\n",
              "      <td>Teodoro</td>\n",
              "      <td>92.45.204.14</td>\n",
              "      <td>$445.56</td>\n",
              "    </tr>\n",
              "    <tr>\n",
              "      <th>46</th>\n",
              "      <td>10157-9539</td>\n",
              "      <td>Sibylla</td>\n",
              "      <td>Pedron</td>\n",
              "      <td>207.112.216.80</td>\n",
              "      <td>$362.15</td>\n",
              "    </tr>\n",
              "    <tr>\n",
              "      <th>47</th>\n",
              "      <td>0378-1044</td>\n",
              "      <td>Sharlene</td>\n",
              "      <td>Wolfendale</td>\n",
              "      <td>32.253.106.253</td>\n",
              "      <td>$133.98</td>\n",
              "    </tr>\n",
              "  </tbody>\n",
              "</table>\n",
              "</div>"
            ],
            "text/plain": [
              "   transaction_id first_name   last_name      ip_address   amount\n",
              "43      0456-2212     Layney    Janssens    79.49.30.228  $889.27\n",
              "44      59779-276   Lynnelle     Ainslie     38.85.34.83  $473.65\n",
              "45      68712-049    Phaedra     Teodoro    92.45.204.14  $445.56\n",
              "46     10157-9539    Sibylla      Pedron  207.112.216.80  $362.15\n",
              "47      0378-1044   Sharlene  Wolfendale  32.253.106.253  $133.98"
            ]
          },
          "metadata": {
            "tags": []
          },
          "execution_count": 5
        }
      ]
    },
    {
      "cell_type": "code",
      "metadata": {
        "colab": {
          "base_uri": "https://localhost:8080/"
        },
        "id": "KJLd3KZS-dZq",
        "outputId": "b9636b0f-3969-40f9-8cd4-0205772a61ed"
      },
      "source": [
        "df.dtypes"
      ],
      "execution_count": null,
      "outputs": [
        {
          "output_type": "execute_result",
          "data": {
            "text/plain": [
              "transaction_id    object\n",
              "first_name        object\n",
              "last_name         object\n",
              "ip_address        object\n",
              "amount            object\n",
              "dtype: object"
            ]
          },
          "metadata": {
            "tags": []
          },
          "execution_count": 6
        }
      ]
    },
    {
      "cell_type": "markdown",
      "metadata": {
        "id": "SZW2O-DE_JyK"
      },
      "source": [
        "### Reperer les doublons"
      ]
    },
    {
      "cell_type": "code",
      "metadata": {
        "colab": {
          "base_uri": "https://localhost:8080/",
          "height": 263
        },
        "id": "tmU9m2xj-ifw",
        "outputId": "0eaec194-9046-46f0-89cd-e08f9ebffc52"
      },
      "source": [
        "df[df.duplicated()]"
      ],
      "execution_count": null,
      "outputs": [
        {
          "output_type": "execute_result",
          "data": {
            "text/html": [
              "<div>\n",
              "<style scoped>\n",
              "    .dataframe tbody tr th:only-of-type {\n",
              "        vertical-align: middle;\n",
              "    }\n",
              "\n",
              "    .dataframe tbody tr th {\n",
              "        vertical-align: top;\n",
              "    }\n",
              "\n",
              "    .dataframe thead th {\n",
              "        text-align: right;\n",
              "    }\n",
              "</style>\n",
              "<table border=\"1\" class=\"dataframe\">\n",
              "  <thead>\n",
              "    <tr style=\"text-align: right;\">\n",
              "      <th></th>\n",
              "      <th>transaction_id</th>\n",
              "      <th>first_name</th>\n",
              "      <th>last_name</th>\n",
              "      <th>ip_address</th>\n",
              "      <th>amount</th>\n",
              "    </tr>\n",
              "  </thead>\n",
              "  <tbody>\n",
              "    <tr>\n",
              "      <th>15</th>\n",
              "      <td>68180-751</td>\n",
              "      <td>Marlon</td>\n",
              "      <td>Fernie</td>\n",
              "      <td>61.133.100.141</td>\n",
              "      <td>$974.30</td>\n",
              "    </tr>\n",
              "    <tr>\n",
              "      <th>19</th>\n",
              "      <td>53942-299</td>\n",
              "      <td>Upton</td>\n",
              "      <td>Emig</td>\n",
              "      <td>103.190.123.125</td>\n",
              "      <td>$759.53</td>\n",
              "    </tr>\n",
              "    <tr>\n",
              "      <th>20</th>\n",
              "      <td>60289-247</td>\n",
              "      <td>Corri</td>\n",
              "      <td>Rockcliffe</td>\n",
              "      <td>46.150.208.18</td>\n",
              "      <td>$5.68</td>\n",
              "    </tr>\n",
              "    <tr>\n",
              "      <th>28</th>\n",
              "      <td>59667-0024</td>\n",
              "      <td>Florie</td>\n",
              "      <td>Prewer</td>\n",
              "      <td>148.80.11.233</td>\n",
              "      <td>$565.38</td>\n",
              "    </tr>\n",
              "    <tr>\n",
              "      <th>32</th>\n",
              "      <td>65862-207</td>\n",
              "      <td>Alvira</td>\n",
              "      <td>Heifer</td>\n",
              "      <td>141.170.128.72</td>\n",
              "      <td>$584.13</td>\n",
              "    </tr>\n",
              "    <tr>\n",
              "      <th>37</th>\n",
              "      <td>65862-207</td>\n",
              "      <td>Alvira</td>\n",
              "      <td>Heifer</td>\n",
              "      <td>141.170.128.72</td>\n",
              "      <td>$584.13</td>\n",
              "    </tr>\n",
              "    <tr>\n",
              "      <th>42</th>\n",
              "      <td>0066-0508</td>\n",
              "      <td>Jedd</td>\n",
              "      <td>Hartman</td>\n",
              "      <td>21.55.247.91</td>\n",
              "      <td>$749.96</td>\n",
              "    </tr>\n",
              "  </tbody>\n",
              "</table>\n",
              "</div>"
            ],
            "text/plain": [
              "   transaction_id first_name   last_name       ip_address   amount\n",
              "15      68180-751     Marlon      Fernie   61.133.100.141  $974.30\n",
              "19      53942-299      Upton        Emig  103.190.123.125  $759.53\n",
              "20      60289-247      Corri  Rockcliffe    46.150.208.18    $5.68\n",
              "28     59667-0024     Florie      Prewer    148.80.11.233  $565.38\n",
              "32      65862-207     Alvira      Heifer   141.170.128.72  $584.13\n",
              "37      65862-207     Alvira      Heifer   141.170.128.72  $584.13\n",
              "42      0066-0508       Jedd     Hartman     21.55.247.91  $749.96"
            ]
          },
          "metadata": {
            "tags": []
          },
          "execution_count": 6
        }
      ]
    },
    {
      "cell_type": "code",
      "metadata": {
        "colab": {
          "base_uri": "https://localhost:8080/",
          "height": 447
        },
        "id": "VM4EAtOs-qwY",
        "outputId": "c439c23c-4c1d-4128-e9e7-e55b7eb1c334"
      },
      "source": [
        "df[df.duplicated(keep=False)]"
      ],
      "execution_count": null,
      "outputs": [
        {
          "output_type": "execute_result",
          "data": {
            "text/html": [
              "<div>\n",
              "<style scoped>\n",
              "    .dataframe tbody tr th:only-of-type {\n",
              "        vertical-align: middle;\n",
              "    }\n",
              "\n",
              "    .dataframe tbody tr th {\n",
              "        vertical-align: top;\n",
              "    }\n",
              "\n",
              "    .dataframe thead th {\n",
              "        text-align: right;\n",
              "    }\n",
              "</style>\n",
              "<table border=\"1\" class=\"dataframe\">\n",
              "  <thead>\n",
              "    <tr style=\"text-align: right;\">\n",
              "      <th></th>\n",
              "      <th>transaction_id</th>\n",
              "      <th>first_name</th>\n",
              "      <th>last_name</th>\n",
              "      <th>ip_address</th>\n",
              "      <th>amount</th>\n",
              "    </tr>\n",
              "  </thead>\n",
              "  <tbody>\n",
              "    <tr>\n",
              "      <th>2</th>\n",
              "      <td>59667-0024</td>\n",
              "      <td>Florie</td>\n",
              "      <td>Prewer</td>\n",
              "      <td>148.80.11.233</td>\n",
              "      <td>$565.38</td>\n",
              "    </tr>\n",
              "    <tr>\n",
              "      <th>5</th>\n",
              "      <td>53942-299</td>\n",
              "      <td>Upton</td>\n",
              "      <td>Emig</td>\n",
              "      <td>103.190.123.125</td>\n",
              "      <td>$759.53</td>\n",
              "    </tr>\n",
              "    <tr>\n",
              "      <th>7</th>\n",
              "      <td>60289-247</td>\n",
              "      <td>Corri</td>\n",
              "      <td>Rockcliffe</td>\n",
              "      <td>46.150.208.18</td>\n",
              "      <td>$5.68</td>\n",
              "    </tr>\n",
              "    <tr>\n",
              "      <th>12</th>\n",
              "      <td>68180-751</td>\n",
              "      <td>Marlon</td>\n",
              "      <td>Fernie</td>\n",
              "      <td>61.133.100.141</td>\n",
              "      <td>$974.30</td>\n",
              "    </tr>\n",
              "    <tr>\n",
              "      <th>14</th>\n",
              "      <td>65862-207</td>\n",
              "      <td>Alvira</td>\n",
              "      <td>Heifer</td>\n",
              "      <td>141.170.128.72</td>\n",
              "      <td>$584.13</td>\n",
              "    </tr>\n",
              "    <tr>\n",
              "      <th>15</th>\n",
              "      <td>68180-751</td>\n",
              "      <td>Marlon</td>\n",
              "      <td>Fernie</td>\n",
              "      <td>61.133.100.141</td>\n",
              "      <td>$974.30</td>\n",
              "    </tr>\n",
              "    <tr>\n",
              "      <th>16</th>\n",
              "      <td>0066-0508</td>\n",
              "      <td>Jedd</td>\n",
              "      <td>Hartman</td>\n",
              "      <td>21.55.247.91</td>\n",
              "      <td>$749.96</td>\n",
              "    </tr>\n",
              "    <tr>\n",
              "      <th>19</th>\n",
              "      <td>53942-299</td>\n",
              "      <td>Upton</td>\n",
              "      <td>Emig</td>\n",
              "      <td>103.190.123.125</td>\n",
              "      <td>$759.53</td>\n",
              "    </tr>\n",
              "    <tr>\n",
              "      <th>20</th>\n",
              "      <td>60289-247</td>\n",
              "      <td>Corri</td>\n",
              "      <td>Rockcliffe</td>\n",
              "      <td>46.150.208.18</td>\n",
              "      <td>$5.68</td>\n",
              "    </tr>\n",
              "    <tr>\n",
              "      <th>28</th>\n",
              "      <td>59667-0024</td>\n",
              "      <td>Florie</td>\n",
              "      <td>Prewer</td>\n",
              "      <td>148.80.11.233</td>\n",
              "      <td>$565.38</td>\n",
              "    </tr>\n",
              "    <tr>\n",
              "      <th>32</th>\n",
              "      <td>65862-207</td>\n",
              "      <td>Alvira</td>\n",
              "      <td>Heifer</td>\n",
              "      <td>141.170.128.72</td>\n",
              "      <td>$584.13</td>\n",
              "    </tr>\n",
              "    <tr>\n",
              "      <th>37</th>\n",
              "      <td>65862-207</td>\n",
              "      <td>Alvira</td>\n",
              "      <td>Heifer</td>\n",
              "      <td>141.170.128.72</td>\n",
              "      <td>$584.13</td>\n",
              "    </tr>\n",
              "    <tr>\n",
              "      <th>42</th>\n",
              "      <td>0066-0508</td>\n",
              "      <td>Jedd</td>\n",
              "      <td>Hartman</td>\n",
              "      <td>21.55.247.91</td>\n",
              "      <td>$749.96</td>\n",
              "    </tr>\n",
              "  </tbody>\n",
              "</table>\n",
              "</div>"
            ],
            "text/plain": [
              "   transaction_id first_name   last_name       ip_address   amount\n",
              "2      59667-0024     Florie      Prewer    148.80.11.233  $565.38\n",
              "5       53942-299      Upton        Emig  103.190.123.125  $759.53\n",
              "7       60289-247      Corri  Rockcliffe    46.150.208.18    $5.68\n",
              "12      68180-751     Marlon      Fernie   61.133.100.141  $974.30\n",
              "14      65862-207     Alvira      Heifer   141.170.128.72  $584.13\n",
              "15      68180-751     Marlon      Fernie   61.133.100.141  $974.30\n",
              "16      0066-0508       Jedd     Hartman     21.55.247.91  $749.96\n",
              "19      53942-299      Upton        Emig  103.190.123.125  $759.53\n",
              "20      60289-247      Corri  Rockcliffe    46.150.208.18    $5.68\n",
              "28     59667-0024     Florie      Prewer    148.80.11.233  $565.38\n",
              "32      65862-207     Alvira      Heifer   141.170.128.72  $584.13\n",
              "37      65862-207     Alvira      Heifer   141.170.128.72  $584.13\n",
              "42      0066-0508       Jedd     Hartman     21.55.247.91  $749.96"
            ]
          },
          "metadata": {
            "tags": []
          },
          "execution_count": 7
        }
      ]
    },
    {
      "cell_type": "code",
      "metadata": {
        "colab": {
          "base_uri": "https://localhost:8080/",
          "height": 263
        },
        "id": "qbOunqZzDa0X",
        "outputId": "2483cb34-6034-4ec8-ac89-dfcfa7ca516c"
      },
      "source": [
        "#En ciblant une colonne\r\n",
        "df[df.duplicated(subset='transaction_id')]"
      ],
      "execution_count": null,
      "outputs": [
        {
          "output_type": "execute_result",
          "data": {
            "text/html": [
              "<div>\n",
              "<style scoped>\n",
              "    .dataframe tbody tr th:only-of-type {\n",
              "        vertical-align: middle;\n",
              "    }\n",
              "\n",
              "    .dataframe tbody tr th {\n",
              "        vertical-align: top;\n",
              "    }\n",
              "\n",
              "    .dataframe thead th {\n",
              "        text-align: right;\n",
              "    }\n",
              "</style>\n",
              "<table border=\"1\" class=\"dataframe\">\n",
              "  <thead>\n",
              "    <tr style=\"text-align: right;\">\n",
              "      <th></th>\n",
              "      <th>transaction_id</th>\n",
              "      <th>first_name</th>\n",
              "      <th>last_name</th>\n",
              "      <th>ip_address</th>\n",
              "      <th>amount</th>\n",
              "    </tr>\n",
              "  </thead>\n",
              "  <tbody>\n",
              "    <tr>\n",
              "      <th>15</th>\n",
              "      <td>68180-751</td>\n",
              "      <td>Marlon</td>\n",
              "      <td>Fernie</td>\n",
              "      <td>61.133.100.141</td>\n",
              "      <td>$974.30</td>\n",
              "    </tr>\n",
              "    <tr>\n",
              "      <th>19</th>\n",
              "      <td>53942-299</td>\n",
              "      <td>Upton</td>\n",
              "      <td>Emig</td>\n",
              "      <td>103.190.123.125</td>\n",
              "      <td>$759.53</td>\n",
              "    </tr>\n",
              "    <tr>\n",
              "      <th>20</th>\n",
              "      <td>60289-247</td>\n",
              "      <td>Corri</td>\n",
              "      <td>Rockcliffe</td>\n",
              "      <td>46.150.208.18</td>\n",
              "      <td>$5.68</td>\n",
              "    </tr>\n",
              "    <tr>\n",
              "      <th>28</th>\n",
              "      <td>59667-0024</td>\n",
              "      <td>Florie</td>\n",
              "      <td>Prewer</td>\n",
              "      <td>148.80.11.233</td>\n",
              "      <td>$565.38</td>\n",
              "    </tr>\n",
              "    <tr>\n",
              "      <th>32</th>\n",
              "      <td>65862-207</td>\n",
              "      <td>Alvira</td>\n",
              "      <td>Heifer</td>\n",
              "      <td>141.170.128.72</td>\n",
              "      <td>$584.13</td>\n",
              "    </tr>\n",
              "    <tr>\n",
              "      <th>37</th>\n",
              "      <td>65862-207</td>\n",
              "      <td>Alvira</td>\n",
              "      <td>Heifer</td>\n",
              "      <td>141.170.128.72</td>\n",
              "      <td>$584.13</td>\n",
              "    </tr>\n",
              "    <tr>\n",
              "      <th>42</th>\n",
              "      <td>0066-0508</td>\n",
              "      <td>Jedd</td>\n",
              "      <td>Hartman</td>\n",
              "      <td>21.55.247.91</td>\n",
              "      <td>$749.96</td>\n",
              "    </tr>\n",
              "  </tbody>\n",
              "</table>\n",
              "</div>"
            ],
            "text/plain": [
              "   transaction_id first_name   last_name       ip_address   amount\n",
              "15      68180-751     Marlon      Fernie   61.133.100.141  $974.30\n",
              "19      53942-299      Upton        Emig  103.190.123.125  $759.53\n",
              "20      60289-247      Corri  Rockcliffe    46.150.208.18    $5.68\n",
              "28     59667-0024     Florie      Prewer    148.80.11.233  $565.38\n",
              "32      65862-207     Alvira      Heifer   141.170.128.72  $584.13\n",
              "37      65862-207     Alvira      Heifer   141.170.128.72  $584.13\n",
              "42      0066-0508       Jedd     Hartman     21.55.247.91  $749.96"
            ]
          },
          "metadata": {
            "tags": []
          },
          "execution_count": 8
        }
      ]
    },
    {
      "cell_type": "code",
      "metadata": {
        "colab": {
          "base_uri": "https://localhost:8080/",
          "height": 509
        },
        "id": "_jlU69b7Et5x",
        "outputId": "6a63bb18-ed9a-40d6-d268-b43ccdea3bee"
      },
      "source": [
        "#En ciblant une colonne\r\n",
        "df[df.duplicated(subset=['first_name','last_name'],keep=False)]"
      ],
      "execution_count": null,
      "outputs": [
        {
          "output_type": "execute_result",
          "data": {
            "text/html": [
              "<div>\n",
              "<style scoped>\n",
              "    .dataframe tbody tr th:only-of-type {\n",
              "        vertical-align: middle;\n",
              "    }\n",
              "\n",
              "    .dataframe tbody tr th {\n",
              "        vertical-align: top;\n",
              "    }\n",
              "\n",
              "    .dataframe thead th {\n",
              "        text-align: right;\n",
              "    }\n",
              "</style>\n",
              "<table border=\"1\" class=\"dataframe\">\n",
              "  <thead>\n",
              "    <tr style=\"text-align: right;\">\n",
              "      <th></th>\n",
              "      <th>transaction_id</th>\n",
              "      <th>first_name</th>\n",
              "      <th>last_name</th>\n",
              "      <th>ip_address</th>\n",
              "      <th>amount</th>\n",
              "    </tr>\n",
              "  </thead>\n",
              "  <tbody>\n",
              "    <tr>\n",
              "      <th>2</th>\n",
              "      <td>59667-0024</td>\n",
              "      <td>Florie</td>\n",
              "      <td>Prewer</td>\n",
              "      <td>148.80.11.233</td>\n",
              "      <td>$565.38</td>\n",
              "    </tr>\n",
              "    <tr>\n",
              "      <th>5</th>\n",
              "      <td>53942-299</td>\n",
              "      <td>Upton</td>\n",
              "      <td>Emig</td>\n",
              "      <td>103.190.123.125</td>\n",
              "      <td>$759.53</td>\n",
              "    </tr>\n",
              "    <tr>\n",
              "      <th>7</th>\n",
              "      <td>60289-247</td>\n",
              "      <td>Corri</td>\n",
              "      <td>Rockcliffe</td>\n",
              "      <td>46.150.208.18</td>\n",
              "      <td>$5.68</td>\n",
              "    </tr>\n",
              "    <tr>\n",
              "      <th>12</th>\n",
              "      <td>68180-751</td>\n",
              "      <td>Marlon</td>\n",
              "      <td>Fernie</td>\n",
              "      <td>61.133.100.141</td>\n",
              "      <td>$974.30</td>\n",
              "    </tr>\n",
              "    <tr>\n",
              "      <th>14</th>\n",
              "      <td>65862-207</td>\n",
              "      <td>Alvira</td>\n",
              "      <td>Heifer</td>\n",
              "      <td>141.170.128.72</td>\n",
              "      <td>$584.13</td>\n",
              "    </tr>\n",
              "    <tr>\n",
              "      <th>15</th>\n",
              "      <td>68180-751</td>\n",
              "      <td>Marlon</td>\n",
              "      <td>Fernie</td>\n",
              "      <td>61.133.100.141</td>\n",
              "      <td>$974.30</td>\n",
              "    </tr>\n",
              "    <tr>\n",
              "      <th>16</th>\n",
              "      <td>0066-0508</td>\n",
              "      <td>Jedd</td>\n",
              "      <td>Hartman</td>\n",
              "      <td>21.55.247.91</td>\n",
              "      <td>$749.96</td>\n",
              "    </tr>\n",
              "    <tr>\n",
              "      <th>18</th>\n",
              "      <td>44887-2589</td>\n",
              "      <td>Sergio</td>\n",
              "      <td>Whittlesee</td>\n",
              "      <td>76.116.223.149</td>\n",
              "      <td>$346.1</td>\n",
              "    </tr>\n",
              "    <tr>\n",
              "      <th>19</th>\n",
              "      <td>53942-299</td>\n",
              "      <td>Upton</td>\n",
              "      <td>Emig</td>\n",
              "      <td>103.190.123.125</td>\n",
              "      <td>$759.53</td>\n",
              "    </tr>\n",
              "    <tr>\n",
              "      <th>20</th>\n",
              "      <td>60289-247</td>\n",
              "      <td>Corri</td>\n",
              "      <td>Rockcliffe</td>\n",
              "      <td>46.150.208.18</td>\n",
              "      <td>$5.68</td>\n",
              "    </tr>\n",
              "    <tr>\n",
              "      <th>28</th>\n",
              "      <td>59667-0024</td>\n",
              "      <td>Florie</td>\n",
              "      <td>Prewer</td>\n",
              "      <td>148.80.11.233</td>\n",
              "      <td>$565.38</td>\n",
              "    </tr>\n",
              "    <tr>\n",
              "      <th>29</th>\n",
              "      <td>43857-0134</td>\n",
              "      <td>Sergio</td>\n",
              "      <td>Whittlesee</td>\n",
              "      <td>76.116.223.149</td>\n",
              "      <td>$346.11</td>\n",
              "    </tr>\n",
              "    <tr>\n",
              "      <th>32</th>\n",
              "      <td>65862-207</td>\n",
              "      <td>Alvira</td>\n",
              "      <td>Heifer</td>\n",
              "      <td>141.170.128.72</td>\n",
              "      <td>$584.13</td>\n",
              "    </tr>\n",
              "    <tr>\n",
              "      <th>37</th>\n",
              "      <td>65862-207</td>\n",
              "      <td>Alvira</td>\n",
              "      <td>Heifer</td>\n",
              "      <td>141.170.128.72</td>\n",
              "      <td>$584.13</td>\n",
              "    </tr>\n",
              "    <tr>\n",
              "      <th>42</th>\n",
              "      <td>0066-0508</td>\n",
              "      <td>Jedd</td>\n",
              "      <td>Hartman</td>\n",
              "      <td>21.55.247.91</td>\n",
              "      <td>$749.96</td>\n",
              "    </tr>\n",
              "  </tbody>\n",
              "</table>\n",
              "</div>"
            ],
            "text/plain": [
              "   transaction_id first_name   last_name       ip_address   amount\n",
              "2      59667-0024     Florie      Prewer    148.80.11.233  $565.38\n",
              "5       53942-299      Upton        Emig  103.190.123.125  $759.53\n",
              "7       60289-247      Corri  Rockcliffe    46.150.208.18    $5.68\n",
              "12      68180-751     Marlon      Fernie   61.133.100.141  $974.30\n",
              "14      65862-207     Alvira      Heifer   141.170.128.72  $584.13\n",
              "15      68180-751     Marlon      Fernie   61.133.100.141  $974.30\n",
              "16      0066-0508       Jedd     Hartman     21.55.247.91  $749.96\n",
              "18     44887-2589     Sergio  Whittlesee   76.116.223.149   $346.1\n",
              "19      53942-299      Upton        Emig  103.190.123.125  $759.53\n",
              "20      60289-247      Corri  Rockcliffe    46.150.208.18    $5.68\n",
              "28     59667-0024     Florie      Prewer    148.80.11.233  $565.38\n",
              "29     43857-0134     Sergio  Whittlesee   76.116.223.149  $346.11\n",
              "32      65862-207     Alvira      Heifer   141.170.128.72  $584.13\n",
              "37      65862-207     Alvira      Heifer   141.170.128.72  $584.13\n",
              "42      0066-0508       Jedd     Hartman     21.55.247.91  $749.96"
            ]
          },
          "metadata": {
            "tags": []
          },
          "execution_count": 9
        }
      ]
    },
    {
      "cell_type": "code",
      "metadata": {
        "colab": {
          "base_uri": "https://localhost:8080/"
        },
        "id": "Wag-vVimFTL3",
        "outputId": "eeafc6b4-9999-4c44-d22a-fb8e57c52b46"
      },
      "source": [
        "### Supprimer les doublons \r\n",
        "df.duplicated().sum()"
      ],
      "execution_count": null,
      "outputs": [
        {
          "output_type": "execute_result",
          "data": {
            "text/plain": [
              "7"
            ]
          },
          "metadata": {
            "tags": []
          },
          "execution_count": 11
        }
      ]
    },
    {
      "cell_type": "code",
      "metadata": {
        "colab": {
          "base_uri": "https://localhost:8080/"
        },
        "id": "W_qQfzPAknhB",
        "outputId": "2ece729d-e2bb-4f74-f994-0258a0456ba7"
      },
      "source": [
        "df[df.duplicated(subset=['first_name','last_name'],keep=False)].sum()"
      ],
      "execution_count": null,
      "outputs": [
        {
          "output_type": "execute_result",
          "data": {
            "text/plain": [
              "transaction_id    59667-002453942-29960289-24768180-75165862-207...\n",
              "first_name        FlorieUptonCorriMarlonAlviraMarlonJeddSergioUp...\n",
              "last_name         PrewerEmigRockcliffeFernieHeiferFernieHartmanW...\n",
              "ip_address        148.80.11.233103.190.123.12546.150.208.1861.13...\n",
              "amount            $565.38$759.53$5.68$974.30$584.13$974.30$749.9...\n",
              "dtype: object"
            ]
          },
          "metadata": {
            "tags": []
          },
          "execution_count": 13
        }
      ]
    },
    {
      "cell_type": "code",
      "metadata": {
        "colab": {
          "base_uri": "https://localhost:8080/"
        },
        "id": "aJOSlSplk4Gl",
        "outputId": "390f3928-534e-4f0d-c6bf-5c12eb2e53a9"
      },
      "source": [
        "df.drop_duplicates().duplicated().sum()"
      ],
      "execution_count": null,
      "outputs": [
        {
          "output_type": "execute_result",
          "data": {
            "text/plain": [
              "0"
            ]
          },
          "metadata": {
            "tags": []
          },
          "execution_count": 15
        }
      ]
    },
    {
      "cell_type": "code",
      "metadata": {
        "id": "jq1ZK5pDmoD6"
      },
      "source": [
        "# autre methode :\r\n",
        "df.drop_duplicates(subset=['transaction_id'], inplace=True)"
      ],
      "execution_count": null,
      "outputs": []
    },
    {
      "cell_type": "code",
      "metadata": {
        "colab": {
          "base_uri": "https://localhost:8080/"
        },
        "id": "mok7Yz_2nAqz",
        "outputId": "8b2054b4-c0a0-4805-e035-645b5165ee45"
      },
      "source": [
        "df.duplicated().sum()"
      ],
      "execution_count": null,
      "outputs": [
        {
          "output_type": "execute_result",
          "data": {
            "text/plain": [
              "0"
            ]
          },
          "metadata": {
            "tags": []
          },
          "execution_count": 17
        }
      ]
    },
    {
      "cell_type": "code",
      "metadata": {
        "colab": {
          "base_uri": "https://localhost:8080/"
        },
        "id": "2nISoR1tnFBQ",
        "outputId": "c89678fe-bc1f-4563-a212-d8da26d0c446"
      },
      "source": [
        "df.duplicated"
      ],
      "execution_count": null,
      "outputs": [
        {
          "output_type": "execute_result",
          "data": {
            "text/plain": [
              "<bound method DataFrame.duplicated of    transaction_id  first_name   last_name       ip_address   amount\n",
              "0       50563-403      Jacobo    Haresign    18.144.134.48  $647.77\n",
              "1      54569-3911     Christy        Derl  254.107.123.242  $460.47\n",
              "2      59667-0024      Florie      Prewer    148.80.11.233  $565.38\n",
              "3       60429-123      Danika      Shimuk   233.91.221.158  $794.76\n",
              "4       0187-0771    Annelise   Antonescu   238.143.41.105  $790.41\n",
              "5       53942-299       Upton        Emig  103.190.123.125  $759.53\n",
              "6       41163-519     Rachael     Housley    3.188.252.248  $871.72\n",
              "7       60289-247       Corri  Rockcliffe    46.150.208.18    $5.68\n",
              "8       0527-1742      Ambros    Goulding   174.124.224.39  $726.12\n",
              "9       57237-083        Roma     Addekin     37.14.63.174  $526.89\n",
              "10      60758-060     Auberon       Boxen     168.0.223.98  $309.65\n",
              "11     43857-0289      Cesare   Andriolli    244.204.3.163  $746.23\n",
              "12      68180-751      Marlon      Fernie   61.133.100.141  $974.30\n",
              "13      43319-040   Gavrielle      Vittet    180.20.70.166  $994.20\n",
              "14      65862-207      Alvira      Heifer   141.170.128.72  $584.13\n",
              "16      0066-0508        Jedd     Hartman     21.55.247.91  $749.96\n",
              "17      0187-5102        Beth     Lamping    125.152.40.91   $19.07\n",
              "18     44887-2589      Sergio  Whittlesee   76.116.223.149   $346.1\n",
              "21      42549-609      Candra    Josowitz  158.206.200.105  $443.87\n",
              "22      49999-065       Gunar        Enga     89.51.64.220   $62.60\n",
              "23      52125-412  Constancia    Emberson     58.64.16.173  $666.13\n",
              "24      64679-982     Felicle   Cappleman  246.127.246.202  $208.91\n",
              "25      59779-556    Bartlett   Thrussell   213.80.235.219  $592.77\n",
              "26      0093-1078     Wilhelm   Glanister   126.158.69.199  $722.42\n",
              "27     54569-1444      Ivette     Michele      134.85.3.31  $962.30\n",
              "29     43857-0134      Sergio  Whittlesee   76.116.223.149  $346.11\n",
              "30      0378-2920    Shaylynn   Dominighi   105.104.251.83  $253.56\n",
              "31     63629-3378      Leonid      Polino    68.183.173.70  $310.88\n",
              "33      11673-003       Leroy  Stephenson     143.46.85.46  $951.73\n",
              "34      60429-624     Glennis    Gianelli    48.90.168.126  $987.16\n",
              "35     54973-0611       Brody      Goburn    142.230.225.8  $663.04\n",
              "36     75949-1001      Madlin   Gotcliffe    45.31.218.244  $442.30\n",
              "38      53746-191        Amil    O'Hannay     216.93.89.14  $520.86\n",
              "39      42254-131   Inglebert     Houlson   102.102.146.27  $685.97\n",
              "40      0904-6088         Ann     Cowling    113.27.40.144  $408.82\n",
              "41      46122-023       Lloyd     Colliss     81.0.211.235  $225.69\n",
              "43      0456-2212      Layney    Janssens     79.49.30.228  $889.27\n",
              "44      59779-276    Lynnelle     Ainslie      38.85.34.83  $473.65\n",
              "45      68712-049     Phaedra     Teodoro     92.45.204.14  $445.56\n",
              "46     10157-9539     Sibylla      Pedron   207.112.216.80  $362.15\n",
              "47      0378-1044    Sharlene  Wolfendale   32.253.106.253  $133.98>"
            ]
          },
          "metadata": {
            "tags": []
          },
          "execution_count": 18
        }
      ]
    },
    {
      "cell_type": "code",
      "metadata": {
        "colab": {
          "base_uri": "https://localhost:8080/"
        },
        "id": "S1JhqLbnpGGJ",
        "outputId": "413edfc6-f35b-4d07-960d-eaecb64abbbd"
      },
      "source": [
        "fp='https://bit.ly/missing-values'\r\n",
        "print(fp)"
      ],
      "execution_count": null,
      "outputs": [
        {
          "output_type": "stream",
          "text": [
            "https://bit.ly/missing-values\n"
          ],
          "name": "stdout"
        }
      ]
    },
    {
      "cell_type": "code",
      "metadata": {
        "colab": {
          "base_uri": "https://localhost:8080/",
          "height": 202
        },
        "id": "KX-AkJK3pmQ0",
        "outputId": "b9b5747e-6189-46e3-9d7e-28c7c950adbe"
      },
      "source": [
        "df=pd.read_csv(fp)\r\n",
        "df.head()"
      ],
      "execution_count": null,
      "outputs": [
        {
          "output_type": "execute_result",
          "data": {
            "text/html": [
              "<div>\n",
              "<style scoped>\n",
              "    .dataframe tbody tr th:only-of-type {\n",
              "        vertical-align: middle;\n",
              "    }\n",
              "\n",
              "    .dataframe tbody tr th {\n",
              "        vertical-align: top;\n",
              "    }\n",
              "\n",
              "    .dataframe thead th {\n",
              "        text-align: right;\n",
              "    }\n",
              "</style>\n",
              "<table border=\"1\" class=\"dataframe\">\n",
              "  <thead>\n",
              "    <tr style=\"text-align: right;\">\n",
              "      <th></th>\n",
              "      <th>color</th>\n",
              "      <th>rating</th>\n",
              "    </tr>\n",
              "  </thead>\n",
              "  <tbody>\n",
              "    <tr>\n",
              "      <th>0</th>\n",
              "      <td>NaN</td>\n",
              "      <td>1.16</td>\n",
              "    </tr>\n",
              "    <tr>\n",
              "      <th>1</th>\n",
              "      <td>Red</td>\n",
              "      <td>NaN</td>\n",
              "    </tr>\n",
              "    <tr>\n",
              "      <th>2</th>\n",
              "      <td>Blue</td>\n",
              "      <td>2.54</td>\n",
              "    </tr>\n",
              "    <tr>\n",
              "      <th>3</th>\n",
              "      <td>Red</td>\n",
              "      <td>1.51</td>\n",
              "    </tr>\n",
              "    <tr>\n",
              "      <th>4</th>\n",
              "      <td>Red</td>\n",
              "      <td>NaN</td>\n",
              "    </tr>\n",
              "  </tbody>\n",
              "</table>\n",
              "</div>"
            ],
            "text/plain": [
              "  color  rating\n",
              "0   NaN    1.16\n",
              "1   Red     NaN\n",
              "2  Blue    2.54\n",
              "3   Red    1.51\n",
              "4   Red     NaN"
            ]
          },
          "metadata": {
            "tags": []
          },
          "execution_count": 91
        }
      ]
    },
    {
      "cell_type": "code",
      "metadata": {
        "id": "U3zuH9V2kR0k"
      },
      "source": [
        "df.to_csv('missing-values.csv')"
      ],
      "execution_count": null,
      "outputs": []
    },
    {
      "cell_type": "code",
      "metadata": {
        "id": "He5WxL4Opvex"
      },
      "source": [
        "import numpy as np"
      ],
      "execution_count": null,
      "outputs": []
    },
    {
      "cell_type": "code",
      "metadata": {
        "colab": {
          "base_uri": "https://localhost:8080/"
        },
        "id": "jNsEPZ4MqcRV",
        "outputId": "5f00f195-c89a-4a80-cb3d-0c58257f42e2"
      },
      "source": [
        "df.isna().sum()"
      ],
      "execution_count": null,
      "outputs": [
        {
          "output_type": "execute_result",
          "data": {
            "text/plain": [
              "color     129\n",
              "rating    256\n",
              "dtype: int64"
            ]
          },
          "metadata": {
            "tags": []
          },
          "execution_count": 32
        }
      ]
    },
    {
      "cell_type": "code",
      "metadata": {
        "colab": {
          "base_uri": "https://localhost:8080/"
        },
        "id": "Ie0bXt9N1pnI",
        "outputId": "d10cd922-eece-434c-b255-3010001d1ec4"
      },
      "source": [
        "df.isna().mean()"
      ],
      "execution_count": null,
      "outputs": [
        {
          "output_type": "execute_result",
          "data": {
            "text/plain": [
              "color     0.140676\n",
              "rating    0.279171\n",
              "dtype: float64"
            ]
          },
          "metadata": {
            "tags": []
          },
          "execution_count": 33
        }
      ]
    },
    {
      "cell_type": "code",
      "metadata": {
        "colab": {
          "base_uri": "https://localhost:8080/"
        },
        "id": "Lly64TSD13ij",
        "outputId": "169c475e-e850-42cb-affd-ba6dc632b3d8"
      },
      "source": [
        "df['color'].value_counts(dropna=False)"
      ],
      "execution_count": null,
      "outputs": [
        {
          "output_type": "execute_result",
          "data": {
            "text/plain": [
              "Blue      323\n",
              "Red       234\n",
              "Orange    154\n",
              "NaN       129\n",
              "Yellow     77\n",
              "Name: color, dtype: int64"
            ]
          },
          "metadata": {
            "tags": []
          },
          "execution_count": 34
        }
      ]
    },
    {
      "cell_type": "code",
      "metadata": {
        "colab": {
          "base_uri": "https://localhost:8080/"
        },
        "id": "bElRWoyW2yDq",
        "outputId": "4803ec0c-a8f8-4711-ac3b-f2b33396dcbb"
      },
      "source": [
        "df['rating'].value_counts(dropna=False)"
      ],
      "execution_count": null,
      "outputs": [
        {
          "output_type": "execute_result",
          "data": {
            "text/plain": [
              "NaN     256\n",
              "3.17      7\n",
              "2.73      5\n",
              "3.57      5\n",
              "2.97      5\n",
              "       ... \n",
              "1.44      1\n",
              "1.49      1\n",
              "2.61      1\n",
              "2.62      1\n",
              "1.83      1\n",
              "Name: rating, Length: 342, dtype: int64"
            ]
          },
          "metadata": {
            "tags": []
          },
          "execution_count": 27
        }
      ]
    },
    {
      "cell_type": "code",
      "metadata": {
        "colab": {
          "base_uri": "https://localhost:8080/"
        },
        "id": "OMp_AdF-24nb",
        "outputId": "bb103d0a-7d96-4c6b-b1a0-fafaea2614c6"
      },
      "source": [
        "fp='https://bit.ly/missing-values-toy'\r\n",
        "print(fp)"
      ],
      "execution_count": null,
      "outputs": [
        {
          "output_type": "stream",
          "text": [
            "https://bit.ly/missing-values-toy\n"
          ],
          "name": "stdout"
        }
      ]
    },
    {
      "cell_type": "code",
      "metadata": {
        "colab": {
          "base_uri": "https://localhost:8080/",
          "height": 202
        },
        "id": "YPU6WIIW3qGg",
        "outputId": "f61d3474-23fa-4ad2-8314-0b71bf23552d"
      },
      "source": [
        "df=pd.read_csv(fp)\r\n",
        "df.head()"
      ],
      "execution_count": null,
      "outputs": [
        {
          "output_type": "execute_result",
          "data": {
            "text/html": [
              "<div>\n",
              "<style scoped>\n",
              "    .dataframe tbody tr th:only-of-type {\n",
              "        vertical-align: middle;\n",
              "    }\n",
              "\n",
              "    .dataframe tbody tr th {\n",
              "        vertical-align: top;\n",
              "    }\n",
              "\n",
              "    .dataframe thead th {\n",
              "        text-align: right;\n",
              "    }\n",
              "</style>\n",
              "<table border=\"1\" class=\"dataframe\">\n",
              "  <thead>\n",
              "    <tr style=\"text-align: right;\">\n",
              "      <th></th>\n",
              "      <th>Colonne Importante</th>\n",
              "      <th>Colonne Inutile</th>\n",
              "      <th>Colonne Peu Utile</th>\n",
              "    </tr>\n",
              "  </thead>\n",
              "  <tbody>\n",
              "    <tr>\n",
              "      <th>0</th>\n",
              "      <td>Oui</td>\n",
              "      <td>NaN</td>\n",
              "      <td>2.0</td>\n",
              "    </tr>\n",
              "    <tr>\n",
              "      <th>1</th>\n",
              "      <td>Non</td>\n",
              "      <td>1.0</td>\n",
              "      <td>NaN</td>\n",
              "    </tr>\n",
              "    <tr>\n",
              "      <th>2</th>\n",
              "      <td>Légerement</td>\n",
              "      <td>NaN</td>\n",
              "      <td>3.0</td>\n",
              "    </tr>\n",
              "    <tr>\n",
              "      <th>3</th>\n",
              "      <td>NaN</td>\n",
              "      <td>1.0</td>\n",
              "      <td>NaN</td>\n",
              "    </tr>\n",
              "    <tr>\n",
              "      <th>4</th>\n",
              "      <td>Oui</td>\n",
              "      <td>1.0</td>\n",
              "      <td>4.0</td>\n",
              "    </tr>\n",
              "  </tbody>\n",
              "</table>\n",
              "</div>"
            ],
            "text/plain": [
              "  Colonne Importante  Colonne Inutile  Colonne Peu Utile\n",
              "0                Oui              NaN                2.0\n",
              "1                Non              1.0                NaN\n",
              "2         Légerement              NaN                3.0\n",
              "3                NaN              1.0                NaN\n",
              "4                Oui              1.0                4.0"
            ]
          },
          "metadata": {
            "tags": []
          },
          "execution_count": 94
        }
      ]
    },
    {
      "cell_type": "code",
      "metadata": {
        "id": "J8ZCxk8_kwi8"
      },
      "source": [
        "df.to_csv('missing-values-toy.csv')"
      ],
      "execution_count": null,
      "outputs": []
    },
    {
      "cell_type": "code",
      "metadata": {
        "colab": {
          "base_uri": "https://localhost:8080/"
        },
        "id": "V0nXlbPc31ZZ",
        "outputId": "a66d02c8-c61f-4fc5-b80c-7214d1e774ab"
      },
      "source": [
        "df['color'].isna()"
      ],
      "execution_count": null,
      "outputs": [
        {
          "output_type": "execute_result",
          "data": {
            "text/plain": [
              "0       True\n",
              "1      False\n",
              "2      False\n",
              "3      False\n",
              "4      False\n",
              "       ...  \n",
              "912    False\n",
              "913    False\n",
              "914     True\n",
              "915    False\n",
              "916    False\n",
              "Name: color, Length: 917, dtype: bool"
            ]
          },
          "metadata": {
            "tags": []
          },
          "execution_count": 35
        }
      ]
    },
    {
      "cell_type": "code",
      "metadata": {
        "colab": {
          "base_uri": "https://localhost:8080/",
          "height": 202
        },
        "id": "rpc6TYu9V4Ay",
        "outputId": "823ae901-2d03-461c-8227-30a98a8840cf"
      },
      "source": [
        "df['color_missing']=df['color'].isna()\r\n",
        "df.head()"
      ],
      "execution_count": null,
      "outputs": [
        {
          "output_type": "execute_result",
          "data": {
            "text/html": [
              "<div>\n",
              "<style scoped>\n",
              "    .dataframe tbody tr th:only-of-type {\n",
              "        vertical-align: middle;\n",
              "    }\n",
              "\n",
              "    .dataframe tbody tr th {\n",
              "        vertical-align: top;\n",
              "    }\n",
              "\n",
              "    .dataframe thead th {\n",
              "        text-align: right;\n",
              "    }\n",
              "</style>\n",
              "<table border=\"1\" class=\"dataframe\">\n",
              "  <thead>\n",
              "    <tr style=\"text-align: right;\">\n",
              "      <th></th>\n",
              "      <th>color</th>\n",
              "      <th>rating</th>\n",
              "      <th>color_missing</th>\n",
              "    </tr>\n",
              "  </thead>\n",
              "  <tbody>\n",
              "    <tr>\n",
              "      <th>0</th>\n",
              "      <td>NaN</td>\n",
              "      <td>1.16</td>\n",
              "      <td>True</td>\n",
              "    </tr>\n",
              "    <tr>\n",
              "      <th>1</th>\n",
              "      <td>Red</td>\n",
              "      <td>NaN</td>\n",
              "      <td>False</td>\n",
              "    </tr>\n",
              "    <tr>\n",
              "      <th>2</th>\n",
              "      <td>Blue</td>\n",
              "      <td>2.54</td>\n",
              "      <td>False</td>\n",
              "    </tr>\n",
              "    <tr>\n",
              "      <th>3</th>\n",
              "      <td>Red</td>\n",
              "      <td>1.51</td>\n",
              "      <td>False</td>\n",
              "    </tr>\n",
              "    <tr>\n",
              "      <th>4</th>\n",
              "      <td>Red</td>\n",
              "      <td>NaN</td>\n",
              "      <td>False</td>\n",
              "    </tr>\n",
              "  </tbody>\n",
              "</table>\n",
              "</div>"
            ],
            "text/plain": [
              "  color  rating  color_missing\n",
              "0   NaN    1.16           True\n",
              "1   Red     NaN          False\n",
              "2  Blue    2.54          False\n",
              "3   Red    1.51          False\n",
              "4   Red     NaN          False"
            ]
          },
          "metadata": {
            "tags": []
          },
          "execution_count": 36
        }
      ]
    },
    {
      "cell_type": "code",
      "metadata": {
        "colab": {
          "base_uri": "https://localhost:8080/",
          "height": 202
        },
        "id": "VmyfYCITWFxV",
        "outputId": "3039082a-20c6-452a-e948-9fa6e4966abc"
      },
      "source": [
        "df['rating_missing']=df['rating'].isna()\r\n",
        "df.head()"
      ],
      "execution_count": null,
      "outputs": [
        {
          "output_type": "execute_result",
          "data": {
            "text/html": [
              "<div>\n",
              "<style scoped>\n",
              "    .dataframe tbody tr th:only-of-type {\n",
              "        vertical-align: middle;\n",
              "    }\n",
              "\n",
              "    .dataframe tbody tr th {\n",
              "        vertical-align: top;\n",
              "    }\n",
              "\n",
              "    .dataframe thead th {\n",
              "        text-align: right;\n",
              "    }\n",
              "</style>\n",
              "<table border=\"1\" class=\"dataframe\">\n",
              "  <thead>\n",
              "    <tr style=\"text-align: right;\">\n",
              "      <th></th>\n",
              "      <th>color</th>\n",
              "      <th>rating</th>\n",
              "      <th>color_missing</th>\n",
              "      <th>rating_missing</th>\n",
              "    </tr>\n",
              "  </thead>\n",
              "  <tbody>\n",
              "    <tr>\n",
              "      <th>0</th>\n",
              "      <td>NaN</td>\n",
              "      <td>1.16</td>\n",
              "      <td>True</td>\n",
              "      <td>False</td>\n",
              "    </tr>\n",
              "    <tr>\n",
              "      <th>1</th>\n",
              "      <td>Red</td>\n",
              "      <td>NaN</td>\n",
              "      <td>False</td>\n",
              "      <td>True</td>\n",
              "    </tr>\n",
              "    <tr>\n",
              "      <th>2</th>\n",
              "      <td>Blue</td>\n",
              "      <td>2.54</td>\n",
              "      <td>False</td>\n",
              "      <td>False</td>\n",
              "    </tr>\n",
              "    <tr>\n",
              "      <th>3</th>\n",
              "      <td>Red</td>\n",
              "      <td>1.51</td>\n",
              "      <td>False</td>\n",
              "      <td>False</td>\n",
              "    </tr>\n",
              "    <tr>\n",
              "      <th>4</th>\n",
              "      <td>Red</td>\n",
              "      <td>NaN</td>\n",
              "      <td>False</td>\n",
              "      <td>True</td>\n",
              "    </tr>\n",
              "  </tbody>\n",
              "</table>\n",
              "</div>"
            ],
            "text/plain": [
              "  color  rating  color_missing  rating_missing\n",
              "0   NaN    1.16           True           False\n",
              "1   Red     NaN          False            True\n",
              "2  Blue    2.54          False           False\n",
              "3   Red    1.51          False           False\n",
              "4   Red     NaN          False            True"
            ]
          },
          "metadata": {
            "tags": []
          },
          "execution_count": 38
        }
      ]
    },
    {
      "cell_type": "code",
      "metadata": {
        "id": "sK2UslQ9W_h4"
      },
      "source": [
        "df.drop(['color_missing','rating_missing'],axis=1, inplace=True)"
      ],
      "execution_count": null,
      "outputs": []
    },
    {
      "cell_type": "code",
      "metadata": {
        "colab": {
          "base_uri": "https://localhost:8080/",
          "height": 415
        },
        "id": "rc4nZcuAXe6H",
        "outputId": "beeaab3f-cfa9-4246-9719-0eb3118f1962"
      },
      "source": [
        "df"
      ],
      "execution_count": null,
      "outputs": [
        {
          "output_type": "execute_result",
          "data": {
            "text/html": [
              "<div>\n",
              "<style scoped>\n",
              "    .dataframe tbody tr th:only-of-type {\n",
              "        vertical-align: middle;\n",
              "    }\n",
              "\n",
              "    .dataframe tbody tr th {\n",
              "        vertical-align: top;\n",
              "    }\n",
              "\n",
              "    .dataframe thead th {\n",
              "        text-align: right;\n",
              "    }\n",
              "</style>\n",
              "<table border=\"1\" class=\"dataframe\">\n",
              "  <thead>\n",
              "    <tr style=\"text-align: right;\">\n",
              "      <th></th>\n",
              "      <th>color</th>\n",
              "      <th>rating</th>\n",
              "    </tr>\n",
              "  </thead>\n",
              "  <tbody>\n",
              "    <tr>\n",
              "      <th>0</th>\n",
              "      <td>NaN</td>\n",
              "      <td>1.16</td>\n",
              "    </tr>\n",
              "    <tr>\n",
              "      <th>1</th>\n",
              "      <td>Red</td>\n",
              "      <td>NaN</td>\n",
              "    </tr>\n",
              "    <tr>\n",
              "      <th>2</th>\n",
              "      <td>Blue</td>\n",
              "      <td>2.54</td>\n",
              "    </tr>\n",
              "    <tr>\n",
              "      <th>3</th>\n",
              "      <td>Red</td>\n",
              "      <td>1.51</td>\n",
              "    </tr>\n",
              "    <tr>\n",
              "      <th>4</th>\n",
              "      <td>Red</td>\n",
              "      <td>NaN</td>\n",
              "    </tr>\n",
              "    <tr>\n",
              "      <th>...</th>\n",
              "      <td>...</td>\n",
              "      <td>...</td>\n",
              "    </tr>\n",
              "    <tr>\n",
              "      <th>912</th>\n",
              "      <td>Blue</td>\n",
              "      <td>3.40</td>\n",
              "    </tr>\n",
              "    <tr>\n",
              "      <th>913</th>\n",
              "      <td>Red</td>\n",
              "      <td>NaN</td>\n",
              "    </tr>\n",
              "    <tr>\n",
              "      <th>914</th>\n",
              "      <td>NaN</td>\n",
              "      <td>1.24</td>\n",
              "    </tr>\n",
              "    <tr>\n",
              "      <th>915</th>\n",
              "      <td>Yellow</td>\n",
              "      <td>2.64</td>\n",
              "    </tr>\n",
              "    <tr>\n",
              "      <th>916</th>\n",
              "      <td>Blue</td>\n",
              "      <td>NaN</td>\n",
              "    </tr>\n",
              "  </tbody>\n",
              "</table>\n",
              "<p>917 rows × 2 columns</p>\n",
              "</div>"
            ],
            "text/plain": [
              "      color  rating\n",
              "0       NaN    1.16\n",
              "1       Red     NaN\n",
              "2      Blue    2.54\n",
              "3       Red    1.51\n",
              "4       Red     NaN\n",
              "..      ...     ...\n",
              "912    Blue    3.40\n",
              "913     Red     NaN\n",
              "914     NaN    1.24\n",
              "915  Yellow    2.64\n",
              "916    Blue     NaN\n",
              "\n",
              "[917 rows x 2 columns]"
            ]
          },
          "metadata": {
            "tags": []
          },
          "execution_count": 40
        }
      ]
    },
    {
      "cell_type": "code",
      "metadata": {
        "colab": {
          "base_uri": "https://localhost:8080/"
        },
        "id": "2bljeua3WWgz",
        "outputId": "21f44be3-2225-4335-b8bf-09290ad47552"
      },
      "source": [
        "for col_name in df.columns:\r\n",
        "  print(col_name)"
      ],
      "execution_count": null,
      "outputs": [
        {
          "output_type": "stream",
          "text": [
            "color\n",
            "rating\n"
          ],
          "name": "stdout"
        }
      ]
    },
    {
      "cell_type": "code",
      "metadata": {
        "colab": {
          "base_uri": "https://localhost:8080/",
          "height": 202
        },
        "id": "Hgd_NE9-Xrn2",
        "outputId": "3d26f2b6-5ffd-4e77-e2ff-806c279ef939"
      },
      "source": [
        "for col_name in df.columns:\r\n",
        "  df[col_name+'missing']=df[col_name].isna()\r\n",
        "df.head()"
      ],
      "execution_count": null,
      "outputs": [
        {
          "output_type": "execute_result",
          "data": {
            "text/html": [
              "<div>\n",
              "<style scoped>\n",
              "    .dataframe tbody tr th:only-of-type {\n",
              "        vertical-align: middle;\n",
              "    }\n",
              "\n",
              "    .dataframe tbody tr th {\n",
              "        vertical-align: top;\n",
              "    }\n",
              "\n",
              "    .dataframe thead th {\n",
              "        text-align: right;\n",
              "    }\n",
              "</style>\n",
              "<table border=\"1\" class=\"dataframe\">\n",
              "  <thead>\n",
              "    <tr style=\"text-align: right;\">\n",
              "      <th></th>\n",
              "      <th>color</th>\n",
              "      <th>rating</th>\n",
              "      <th>colormissing</th>\n",
              "      <th>ratingmissing</th>\n",
              "    </tr>\n",
              "  </thead>\n",
              "  <tbody>\n",
              "    <tr>\n",
              "      <th>0</th>\n",
              "      <td>NaN</td>\n",
              "      <td>1.16</td>\n",
              "      <td>True</td>\n",
              "      <td>False</td>\n",
              "    </tr>\n",
              "    <tr>\n",
              "      <th>1</th>\n",
              "      <td>Red</td>\n",
              "      <td>NaN</td>\n",
              "      <td>False</td>\n",
              "      <td>True</td>\n",
              "    </tr>\n",
              "    <tr>\n",
              "      <th>2</th>\n",
              "      <td>Blue</td>\n",
              "      <td>2.54</td>\n",
              "      <td>False</td>\n",
              "      <td>False</td>\n",
              "    </tr>\n",
              "    <tr>\n",
              "      <th>3</th>\n",
              "      <td>Red</td>\n",
              "      <td>1.51</td>\n",
              "      <td>False</td>\n",
              "      <td>False</td>\n",
              "    </tr>\n",
              "    <tr>\n",
              "      <th>4</th>\n",
              "      <td>Red</td>\n",
              "      <td>NaN</td>\n",
              "      <td>False</td>\n",
              "      <td>True</td>\n",
              "    </tr>\n",
              "  </tbody>\n",
              "</table>\n",
              "</div>"
            ],
            "text/plain": [
              "  color  rating  colormissing  ratingmissing\n",
              "0   NaN    1.16          True          False\n",
              "1   Red     NaN         False           True\n",
              "2  Blue    2.54         False          False\n",
              "3   Red    1.51         False          False\n",
              "4   Red     NaN         False           True"
            ]
          },
          "metadata": {
            "tags": []
          },
          "execution_count": 42
        }
      ]
    },
    {
      "cell_type": "code",
      "metadata": {
        "colab": {
          "base_uri": "https://localhost:8080/"
        },
        "id": "ECiI9KgaZ3zt",
        "outputId": "bd2bb76f-eef6-48ba-f3ce-882d36ea59f7"
      },
      "source": [
        "df['color'].value_counts(dropna=False)"
      ],
      "execution_count": null,
      "outputs": [
        {
          "output_type": "execute_result",
          "data": {
            "text/plain": [
              "Blue      323\n",
              "Red       234\n",
              "Orange    154\n",
              "NaN       129\n",
              "Yellow     77\n",
              "Name: color, dtype: int64"
            ]
          },
          "metadata": {
            "tags": []
          },
          "execution_count": 43
        }
      ]
    },
    {
      "cell_type": "code",
      "metadata": {
        "colab": {
          "base_uri": "https://localhost:8080/"
        },
        "id": "j6LT9jFwl0wT",
        "outputId": "27a7d709-f9eb-41bd-f6ed-ba2d3cb9c2d0"
      },
      "source": [
        "df['color'].fillna('Blue')"
      ],
      "execution_count": null,
      "outputs": [
        {
          "output_type": "execute_result",
          "data": {
            "text/plain": [
              "0        Blue\n",
              "1         Red\n",
              "2        Blue\n",
              "3         Red\n",
              "4         Red\n",
              "        ...  \n",
              "912      Blue\n",
              "913       Red\n",
              "914      Blue\n",
              "915    Yellow\n",
              "916      Blue\n",
              "Name: color, Length: 917, dtype: object"
            ]
          },
          "metadata": {
            "tags": []
          },
          "execution_count": 44
        }
      ]
    },
    {
      "cell_type": "markdown",
      "metadata": {
        "id": "f4_3jEQvutYf"
      },
      "source": [
        "# Variables dummy"
      ]
    },
    {
      "cell_type": "code",
      "metadata": {
        "colab": {
          "base_uri": "https://localhost:8080/"
        },
        "id": "NTZxOqPrmAtA",
        "outputId": "b76b02c6-2a69-4ba8-eb33-d237e87144c2"
      },
      "source": [
        "fp='https://bit.ly/dummy-variables'\r\n",
        "print(fp)"
      ],
      "execution_count": null,
      "outputs": [
        {
          "output_type": "stream",
          "text": [
            "https://bit.ly/dummy-variables\n"
          ],
          "name": "stdout"
        }
      ]
    },
    {
      "cell_type": "code",
      "metadata": {
        "colab": {
          "base_uri": "https://localhost:8080/",
          "height": 202
        },
        "id": "1fhZx5advamH",
        "outputId": "6d04bde3-a560-4b84-fd36-adc8d02d1824"
      },
      "source": [
        "import pandas as pd\r\n",
        "df=pd.read_csv(fp)\r\n",
        "df.head()"
      ],
      "execution_count": null,
      "outputs": [
        {
          "output_type": "execute_result",
          "data": {
            "text/html": [
              "<div>\n",
              "<style scoped>\n",
              "    .dataframe tbody tr th:only-of-type {\n",
              "        vertical-align: middle;\n",
              "    }\n",
              "\n",
              "    .dataframe tbody tr th {\n",
              "        vertical-align: top;\n",
              "    }\n",
              "\n",
              "    .dataframe thead th {\n",
              "        text-align: right;\n",
              "    }\n",
              "</style>\n",
              "<table border=\"1\" class=\"dataframe\">\n",
              "  <thead>\n",
              "    <tr style=\"text-align: right;\">\n",
              "      <th></th>\n",
              "      <th>color</th>\n",
              "      <th>premium</th>\n",
              "    </tr>\n",
              "  </thead>\n",
              "  <tbody>\n",
              "    <tr>\n",
              "      <th>0</th>\n",
              "      <td>Blue</td>\n",
              "      <td>False</td>\n",
              "    </tr>\n",
              "    <tr>\n",
              "      <th>1</th>\n",
              "      <td>Blue</td>\n",
              "      <td>True</td>\n",
              "    </tr>\n",
              "    <tr>\n",
              "      <th>2</th>\n",
              "      <td>Red</td>\n",
              "      <td>False</td>\n",
              "    </tr>\n",
              "    <tr>\n",
              "      <th>3</th>\n",
              "      <td>Red</td>\n",
              "      <td>False</td>\n",
              "    </tr>\n",
              "    <tr>\n",
              "      <th>4</th>\n",
              "      <td>Blue</td>\n",
              "      <td>False</td>\n",
              "    </tr>\n",
              "  </tbody>\n",
              "</table>\n",
              "</div>"
            ],
            "text/plain": [
              "  color  premium\n",
              "0  Blue    False\n",
              "1  Blue     True\n",
              "2   Red    False\n",
              "3   Red    False\n",
              "4  Blue    False"
            ]
          },
          "metadata": {
            "tags": []
          },
          "execution_count": 97
        }
      ]
    },
    {
      "cell_type": "code",
      "metadata": {
        "id": "APMuOu2Yk_ys"
      },
      "source": [
        "df.to_csv('dummy-variables.csv')"
      ],
      "execution_count": null,
      "outputs": []
    },
    {
      "cell_type": "code",
      "metadata": {
        "colab": {
          "base_uri": "https://localhost:8080/"
        },
        "id": "XIgCmQN0vlnf",
        "outputId": "cfcc1d77-e7f3-4cc5-d9fe-86e030be3f40"
      },
      "source": [
        "df['color'].value_counts(dropna=False)"
      ],
      "execution_count": null,
      "outputs": [
        {
          "output_type": "execute_result",
          "data": {
            "text/plain": [
              "Blue      364\n",
              "Red       327\n",
              "Orange    197\n",
              "Yellow    112\n",
              "Name: color, dtype: int64"
            ]
          },
          "metadata": {
            "tags": []
          },
          "execution_count": 47
        }
      ]
    },
    {
      "cell_type": "code",
      "metadata": {
        "colab": {
          "base_uri": "https://localhost:8080/"
        },
        "id": "XL3OhHd0v-Dl",
        "outputId": "416a9ec0-eea5-4f33-f160-77f191d200d3"
      },
      "source": [
        "df['premium'].value_counts(dropna=False)"
      ],
      "execution_count": null,
      "outputs": [
        {
          "output_type": "execute_result",
          "data": {
            "text/plain": [
              "False    520\n",
              "True     480\n",
              "Name: premium, dtype: int64"
            ]
          },
          "metadata": {
            "tags": []
          },
          "execution_count": 48
        }
      ]
    },
    {
      "cell_type": "code",
      "metadata": {
        "colab": {
          "base_uri": "https://localhost:8080/"
        },
        "id": "XCzwUBLewCnW",
        "outputId": "f88aeb24-4e66-425d-e24b-b7fd601ab52f"
      },
      "source": [
        "df['premium'].head()"
      ],
      "execution_count": null,
      "outputs": [
        {
          "output_type": "execute_result",
          "data": {
            "text/plain": [
              "0    False\n",
              "1     True\n",
              "2    False\n",
              "3    False\n",
              "4    False\n",
              "Name: premium, dtype: bool"
            ]
          },
          "metadata": {
            "tags": []
          },
          "execution_count": 49
        }
      ]
    },
    {
      "cell_type": "code",
      "metadata": {
        "colab": {
          "base_uri": "https://localhost:8080/"
        },
        "id": "cP7JA9STx0Q5",
        "outputId": "632a12be-4e73-4eda-c7f2-e5ba8a274069"
      },
      "source": [
        "df['premium'].astype(int)"
      ],
      "execution_count": null,
      "outputs": [
        {
          "output_type": "execute_result",
          "data": {
            "text/plain": [
              "0      0\n",
              "1      1\n",
              "2      0\n",
              "3      0\n",
              "4      0\n",
              "      ..\n",
              "995    0\n",
              "996    1\n",
              "997    0\n",
              "998    0\n",
              "999    1\n",
              "Name: premium, Length: 1000, dtype: int64"
            ]
          },
          "metadata": {
            "tags": []
          },
          "execution_count": 50
        }
      ]
    },
    {
      "cell_type": "code",
      "metadata": {
        "id": "901Cx2flx6-D"
      },
      "source": [
        "df['color']=df['color'].astype('category')"
      ],
      "execution_count": null,
      "outputs": []
    },
    {
      "cell_type": "code",
      "metadata": {
        "colab": {
          "base_uri": "https://localhost:8080/"
        },
        "id": "ljwLs7z_yk4o",
        "outputId": "05279ab2-c140-41e3-aaeb-de7c69c05738"
      },
      "source": [
        "df['color'].cat.codes"
      ],
      "execution_count": null,
      "outputs": [
        {
          "output_type": "execute_result",
          "data": {
            "text/plain": [
              "0      0\n",
              "1      0\n",
              "2      2\n",
              "3      2\n",
              "4      0\n",
              "      ..\n",
              "995    1\n",
              "996    0\n",
              "997    2\n",
              "998    0\n",
              "999    0\n",
              "Length: 1000, dtype: int8"
            ]
          },
          "metadata": {
            "tags": []
          },
          "execution_count": 52
        }
      ]
    },
    {
      "cell_type": "code",
      "metadata": {
        "id": "GFLy1KEByrE9"
      },
      "source": [
        "df['color_base_enc']=df['color'].cat.codes"
      ],
      "execution_count": null,
      "outputs": []
    },
    {
      "cell_type": "code",
      "metadata": {
        "colab": {
          "base_uri": "https://localhost:8080/",
          "height": 202
        },
        "id": "ZbvYMZ8bzNuA",
        "outputId": "cd46ae0a-d878-4323-83b8-e21f238b2be9"
      },
      "source": [
        "df['premium_base_enc']=df['premium'].astype(int)\r\n",
        "df.head()"
      ],
      "execution_count": null,
      "outputs": [
        {
          "output_type": "execute_result",
          "data": {
            "text/html": [
              "<div>\n",
              "<style scoped>\n",
              "    .dataframe tbody tr th:only-of-type {\n",
              "        vertical-align: middle;\n",
              "    }\n",
              "\n",
              "    .dataframe tbody tr th {\n",
              "        vertical-align: top;\n",
              "    }\n",
              "\n",
              "    .dataframe thead th {\n",
              "        text-align: right;\n",
              "    }\n",
              "</style>\n",
              "<table border=\"1\" class=\"dataframe\">\n",
              "  <thead>\n",
              "    <tr style=\"text-align: right;\">\n",
              "      <th></th>\n",
              "      <th>color</th>\n",
              "      <th>premium</th>\n",
              "      <th>premium_base_enc</th>\n",
              "      <th>color_base_enc</th>\n",
              "    </tr>\n",
              "  </thead>\n",
              "  <tbody>\n",
              "    <tr>\n",
              "      <th>0</th>\n",
              "      <td>Blue</td>\n",
              "      <td>False</td>\n",
              "      <td>0</td>\n",
              "      <td>0</td>\n",
              "    </tr>\n",
              "    <tr>\n",
              "      <th>1</th>\n",
              "      <td>Blue</td>\n",
              "      <td>True</td>\n",
              "      <td>1</td>\n",
              "      <td>0</td>\n",
              "    </tr>\n",
              "    <tr>\n",
              "      <th>2</th>\n",
              "      <td>Red</td>\n",
              "      <td>False</td>\n",
              "      <td>0</td>\n",
              "      <td>2</td>\n",
              "    </tr>\n",
              "    <tr>\n",
              "      <th>3</th>\n",
              "      <td>Red</td>\n",
              "      <td>False</td>\n",
              "      <td>0</td>\n",
              "      <td>2</td>\n",
              "    </tr>\n",
              "    <tr>\n",
              "      <th>4</th>\n",
              "      <td>Blue</td>\n",
              "      <td>False</td>\n",
              "      <td>0</td>\n",
              "      <td>0</td>\n",
              "    </tr>\n",
              "  </tbody>\n",
              "</table>\n",
              "</div>"
            ],
            "text/plain": [
              "  color  premium  premium_base_enc  color_base_enc\n",
              "0  Blue    False                 0               0\n",
              "1  Blue     True                 1               0\n",
              "2   Red    False                 0               2\n",
              "3   Red    False                 0               2\n",
              "4  Blue    False                 0               0"
            ]
          },
          "metadata": {
            "tags": []
          },
          "execution_count": 56
        }
      ]
    },
    {
      "cell_type": "markdown",
      "metadata": {
        "id": "ZDM8_gkw0qq1"
      },
      "source": [
        "### One HOT encoding"
      ]
    },
    {
      "cell_type": "code",
      "metadata": {
        "colab": {
          "base_uri": "https://localhost:8080/"
        },
        "id": "rr3KlstK23Oz",
        "outputId": "664db5bd-7475-4fcb-a7ae-d0ed56f92736"
      },
      "source": [
        "(df['color']=='Red').astype(int)"
      ],
      "execution_count": null,
      "outputs": [
        {
          "output_type": "execute_result",
          "data": {
            "text/plain": [
              "0      0\n",
              "1      0\n",
              "2      1\n",
              "3      1\n",
              "4      0\n",
              "      ..\n",
              "995    0\n",
              "996    0\n",
              "997    1\n",
              "998    0\n",
              "999    0\n",
              "Name: color, Length: 1000, dtype: int64"
            ]
          },
          "metadata": {
            "tags": []
          },
          "execution_count": 60
        }
      ]
    },
    {
      "cell_type": "code",
      "metadata": {
        "colab": {
          "base_uri": "https://localhost:8080/",
          "height": 222
        },
        "id": "wL_oofL4zTHy",
        "outputId": "149c0026-e499-4c27-f847-6506f5467e2a"
      },
      "source": [
        "df['color_red']=(df['color']=='Red').astype(int)\r\n",
        "df['color_Blue']=(df['color']=='Blue').astype(int)\r\n",
        "df['color_Yellow']=(df['color']=='Yellow').astype(int)\r\n",
        "df['color_Orange']=(df['color']=='Orange').astype(int)\r\n",
        "df.head()"
      ],
      "execution_count": null,
      "outputs": [
        {
          "output_type": "execute_result",
          "data": {
            "text/html": [
              "<div>\n",
              "<style scoped>\n",
              "    .dataframe tbody tr th:only-of-type {\n",
              "        vertical-align: middle;\n",
              "    }\n",
              "\n",
              "    .dataframe tbody tr th {\n",
              "        vertical-align: top;\n",
              "    }\n",
              "\n",
              "    .dataframe thead th {\n",
              "        text-align: right;\n",
              "    }\n",
              "</style>\n",
              "<table border=\"1\" class=\"dataframe\">\n",
              "  <thead>\n",
              "    <tr style=\"text-align: right;\">\n",
              "      <th></th>\n",
              "      <th>color</th>\n",
              "      <th>premium</th>\n",
              "      <th>premium_base_enc</th>\n",
              "      <th>color_base_enc</th>\n",
              "      <th>color_red</th>\n",
              "      <th>color_Blue</th>\n",
              "      <th>color_Yellow</th>\n",
              "      <th>color_Orange</th>\n",
              "    </tr>\n",
              "  </thead>\n",
              "  <tbody>\n",
              "    <tr>\n",
              "      <th>0</th>\n",
              "      <td>Blue</td>\n",
              "      <td>False</td>\n",
              "      <td>0</td>\n",
              "      <td>0</td>\n",
              "      <td>0</td>\n",
              "      <td>1</td>\n",
              "      <td>0</td>\n",
              "      <td>0</td>\n",
              "    </tr>\n",
              "    <tr>\n",
              "      <th>1</th>\n",
              "      <td>Blue</td>\n",
              "      <td>True</td>\n",
              "      <td>1</td>\n",
              "      <td>0</td>\n",
              "      <td>0</td>\n",
              "      <td>1</td>\n",
              "      <td>0</td>\n",
              "      <td>0</td>\n",
              "    </tr>\n",
              "    <tr>\n",
              "      <th>2</th>\n",
              "      <td>Red</td>\n",
              "      <td>False</td>\n",
              "      <td>0</td>\n",
              "      <td>2</td>\n",
              "      <td>1</td>\n",
              "      <td>0</td>\n",
              "      <td>0</td>\n",
              "      <td>0</td>\n",
              "    </tr>\n",
              "    <tr>\n",
              "      <th>3</th>\n",
              "      <td>Red</td>\n",
              "      <td>False</td>\n",
              "      <td>0</td>\n",
              "      <td>2</td>\n",
              "      <td>1</td>\n",
              "      <td>0</td>\n",
              "      <td>0</td>\n",
              "      <td>0</td>\n",
              "    </tr>\n",
              "    <tr>\n",
              "      <th>4</th>\n",
              "      <td>Blue</td>\n",
              "      <td>False</td>\n",
              "      <td>0</td>\n",
              "      <td>0</td>\n",
              "      <td>0</td>\n",
              "      <td>1</td>\n",
              "      <td>0</td>\n",
              "      <td>0</td>\n",
              "    </tr>\n",
              "  </tbody>\n",
              "</table>\n",
              "</div>"
            ],
            "text/plain": [
              "  color  premium  premium_base_enc  ...  color_Blue  color_Yellow  color_Orange\n",
              "0  Blue    False                 0  ...           1             0             0\n",
              "1  Blue     True                 1  ...           1             0             0\n",
              "2   Red    False                 0  ...           0             0             0\n",
              "3   Red    False                 0  ...           0             0             0\n",
              "4  Blue    False                 0  ...           1             0             0\n",
              "\n",
              "[5 rows x 8 columns]"
            ]
          },
          "metadata": {
            "tags": []
          },
          "execution_count": 61
        }
      ]
    },
    {
      "cell_type": "code",
      "metadata": {
        "colab": {
          "base_uri": "https://localhost:8080/",
          "height": 415
        },
        "id": "iYNUxlCc2_4y",
        "outputId": "9bd986f2-0643-445c-ceb2-f75d2963bd28"
      },
      "source": [
        "pd.get_dummies(df['color'])"
      ],
      "execution_count": null,
      "outputs": [
        {
          "output_type": "execute_result",
          "data": {
            "text/html": [
              "<div>\n",
              "<style scoped>\n",
              "    .dataframe tbody tr th:only-of-type {\n",
              "        vertical-align: middle;\n",
              "    }\n",
              "\n",
              "    .dataframe tbody tr th {\n",
              "        vertical-align: top;\n",
              "    }\n",
              "\n",
              "    .dataframe thead th {\n",
              "        text-align: right;\n",
              "    }\n",
              "</style>\n",
              "<table border=\"1\" class=\"dataframe\">\n",
              "  <thead>\n",
              "    <tr style=\"text-align: right;\">\n",
              "      <th></th>\n",
              "      <th>Blue</th>\n",
              "      <th>Orange</th>\n",
              "      <th>Red</th>\n",
              "      <th>Yellow</th>\n",
              "    </tr>\n",
              "  </thead>\n",
              "  <tbody>\n",
              "    <tr>\n",
              "      <th>0</th>\n",
              "      <td>1</td>\n",
              "      <td>0</td>\n",
              "      <td>0</td>\n",
              "      <td>0</td>\n",
              "    </tr>\n",
              "    <tr>\n",
              "      <th>1</th>\n",
              "      <td>1</td>\n",
              "      <td>0</td>\n",
              "      <td>0</td>\n",
              "      <td>0</td>\n",
              "    </tr>\n",
              "    <tr>\n",
              "      <th>2</th>\n",
              "      <td>0</td>\n",
              "      <td>0</td>\n",
              "      <td>1</td>\n",
              "      <td>0</td>\n",
              "    </tr>\n",
              "    <tr>\n",
              "      <th>3</th>\n",
              "      <td>0</td>\n",
              "      <td>0</td>\n",
              "      <td>1</td>\n",
              "      <td>0</td>\n",
              "    </tr>\n",
              "    <tr>\n",
              "      <th>4</th>\n",
              "      <td>1</td>\n",
              "      <td>0</td>\n",
              "      <td>0</td>\n",
              "      <td>0</td>\n",
              "    </tr>\n",
              "    <tr>\n",
              "      <th>...</th>\n",
              "      <td>...</td>\n",
              "      <td>...</td>\n",
              "      <td>...</td>\n",
              "      <td>...</td>\n",
              "    </tr>\n",
              "    <tr>\n",
              "      <th>995</th>\n",
              "      <td>0</td>\n",
              "      <td>1</td>\n",
              "      <td>0</td>\n",
              "      <td>0</td>\n",
              "    </tr>\n",
              "    <tr>\n",
              "      <th>996</th>\n",
              "      <td>1</td>\n",
              "      <td>0</td>\n",
              "      <td>0</td>\n",
              "      <td>0</td>\n",
              "    </tr>\n",
              "    <tr>\n",
              "      <th>997</th>\n",
              "      <td>0</td>\n",
              "      <td>0</td>\n",
              "      <td>1</td>\n",
              "      <td>0</td>\n",
              "    </tr>\n",
              "    <tr>\n",
              "      <th>998</th>\n",
              "      <td>1</td>\n",
              "      <td>0</td>\n",
              "      <td>0</td>\n",
              "      <td>0</td>\n",
              "    </tr>\n",
              "    <tr>\n",
              "      <th>999</th>\n",
              "      <td>1</td>\n",
              "      <td>0</td>\n",
              "      <td>0</td>\n",
              "      <td>0</td>\n",
              "    </tr>\n",
              "  </tbody>\n",
              "</table>\n",
              "<p>1000 rows × 4 columns</p>\n",
              "</div>"
            ],
            "text/plain": [
              "     Blue  Orange  Red  Yellow\n",
              "0       1       0    0       0\n",
              "1       1       0    0       0\n",
              "2       0       0    1       0\n",
              "3       0       0    1       0\n",
              "4       1       0    0       0\n",
              "..    ...     ...  ...     ...\n",
              "995     0       1    0       0\n",
              "996     1       0    0       0\n",
              "997     0       0    1       0\n",
              "998     1       0    0       0\n",
              "999     1       0    0       0\n",
              "\n",
              "[1000 rows x 4 columns]"
            ]
          },
          "metadata": {
            "tags": []
          },
          "execution_count": 62
        }
      ]
    },
    {
      "cell_type": "code",
      "metadata": {
        "id": "W_GhbsTL4nhc"
      },
      "source": [
        "pd.get_dummies?"
      ],
      "execution_count": null,
      "outputs": []
    },
    {
      "cell_type": "code",
      "metadata": {
        "colab": {
          "base_uri": "https://localhost:8080/",
          "height": 415
        },
        "id": "gN267Xc65Qpo",
        "outputId": "0feb8b31-8034-4742-ea18-b03d623aaa23"
      },
      "source": [
        "pd.get_dummies(df['color'],drop_first=True)"
      ],
      "execution_count": null,
      "outputs": [
        {
          "output_type": "execute_result",
          "data": {
            "text/html": [
              "<div>\n",
              "<style scoped>\n",
              "    .dataframe tbody tr th:only-of-type {\n",
              "        vertical-align: middle;\n",
              "    }\n",
              "\n",
              "    .dataframe tbody tr th {\n",
              "        vertical-align: top;\n",
              "    }\n",
              "\n",
              "    .dataframe thead th {\n",
              "        text-align: right;\n",
              "    }\n",
              "</style>\n",
              "<table border=\"1\" class=\"dataframe\">\n",
              "  <thead>\n",
              "    <tr style=\"text-align: right;\">\n",
              "      <th></th>\n",
              "      <th>Orange</th>\n",
              "      <th>Red</th>\n",
              "      <th>Yellow</th>\n",
              "    </tr>\n",
              "  </thead>\n",
              "  <tbody>\n",
              "    <tr>\n",
              "      <th>0</th>\n",
              "      <td>0</td>\n",
              "      <td>0</td>\n",
              "      <td>0</td>\n",
              "    </tr>\n",
              "    <tr>\n",
              "      <th>1</th>\n",
              "      <td>0</td>\n",
              "      <td>0</td>\n",
              "      <td>0</td>\n",
              "    </tr>\n",
              "    <tr>\n",
              "      <th>2</th>\n",
              "      <td>0</td>\n",
              "      <td>1</td>\n",
              "      <td>0</td>\n",
              "    </tr>\n",
              "    <tr>\n",
              "      <th>3</th>\n",
              "      <td>0</td>\n",
              "      <td>1</td>\n",
              "      <td>0</td>\n",
              "    </tr>\n",
              "    <tr>\n",
              "      <th>4</th>\n",
              "      <td>0</td>\n",
              "      <td>0</td>\n",
              "      <td>0</td>\n",
              "    </tr>\n",
              "    <tr>\n",
              "      <th>...</th>\n",
              "      <td>...</td>\n",
              "      <td>...</td>\n",
              "      <td>...</td>\n",
              "    </tr>\n",
              "    <tr>\n",
              "      <th>995</th>\n",
              "      <td>1</td>\n",
              "      <td>0</td>\n",
              "      <td>0</td>\n",
              "    </tr>\n",
              "    <tr>\n",
              "      <th>996</th>\n",
              "      <td>0</td>\n",
              "      <td>0</td>\n",
              "      <td>0</td>\n",
              "    </tr>\n",
              "    <tr>\n",
              "      <th>997</th>\n",
              "      <td>0</td>\n",
              "      <td>1</td>\n",
              "      <td>0</td>\n",
              "    </tr>\n",
              "    <tr>\n",
              "      <th>998</th>\n",
              "      <td>0</td>\n",
              "      <td>0</td>\n",
              "      <td>0</td>\n",
              "    </tr>\n",
              "    <tr>\n",
              "      <th>999</th>\n",
              "      <td>0</td>\n",
              "      <td>0</td>\n",
              "      <td>0</td>\n",
              "    </tr>\n",
              "  </tbody>\n",
              "</table>\n",
              "<p>1000 rows × 3 columns</p>\n",
              "</div>"
            ],
            "text/plain": [
              "     Orange  Red  Yellow\n",
              "0         0    0       0\n",
              "1         0    0       0\n",
              "2         0    1       0\n",
              "3         0    1       0\n",
              "4         0    0       0\n",
              "..      ...  ...     ...\n",
              "995       1    0       0\n",
              "996       0    0       0\n",
              "997       0    1       0\n",
              "998       0    0       0\n",
              "999       0    0       0\n",
              "\n",
              "[1000 rows x 3 columns]"
            ]
          },
          "metadata": {
            "tags": []
          },
          "execution_count": 64
        }
      ]
    },
    {
      "cell_type": "code",
      "metadata": {
        "colab": {
          "base_uri": "https://localhost:8080/",
          "height": 202
        },
        "id": "mQgY6FNe52GN",
        "outputId": "daa6ec84-8a09-46bd-e3ef-be9d788eede5"
      },
      "source": [
        "df=pd.read_csv(fp)\r\n",
        "df.head()"
      ],
      "execution_count": null,
      "outputs": [
        {
          "output_type": "execute_result",
          "data": {
            "text/html": [
              "<div>\n",
              "<style scoped>\n",
              "    .dataframe tbody tr th:only-of-type {\n",
              "        vertical-align: middle;\n",
              "    }\n",
              "\n",
              "    .dataframe tbody tr th {\n",
              "        vertical-align: top;\n",
              "    }\n",
              "\n",
              "    .dataframe thead th {\n",
              "        text-align: right;\n",
              "    }\n",
              "</style>\n",
              "<table border=\"1\" class=\"dataframe\">\n",
              "  <thead>\n",
              "    <tr style=\"text-align: right;\">\n",
              "      <th></th>\n",
              "      <th>color</th>\n",
              "      <th>premium</th>\n",
              "    </tr>\n",
              "  </thead>\n",
              "  <tbody>\n",
              "    <tr>\n",
              "      <th>0</th>\n",
              "      <td>Blue</td>\n",
              "      <td>False</td>\n",
              "    </tr>\n",
              "    <tr>\n",
              "      <th>1</th>\n",
              "      <td>Blue</td>\n",
              "      <td>True</td>\n",
              "    </tr>\n",
              "    <tr>\n",
              "      <th>2</th>\n",
              "      <td>Red</td>\n",
              "      <td>False</td>\n",
              "    </tr>\n",
              "    <tr>\n",
              "      <th>3</th>\n",
              "      <td>Red</td>\n",
              "      <td>False</td>\n",
              "    </tr>\n",
              "    <tr>\n",
              "      <th>4</th>\n",
              "      <td>Blue</td>\n",
              "      <td>False</td>\n",
              "    </tr>\n",
              "  </tbody>\n",
              "</table>\n",
              "</div>"
            ],
            "text/plain": [
              "  color  premium\n",
              "0  Blue    False\n",
              "1  Blue     True\n",
              "2   Red    False\n",
              "3   Red    False\n",
              "4  Blue    False"
            ]
          },
          "metadata": {
            "tags": []
          },
          "execution_count": 71
        }
      ]
    },
    {
      "cell_type": "code",
      "metadata": {
        "colab": {
          "base_uri": "https://localhost:8080/",
          "height": 202
        },
        "id": "BeIKpx8H7DHX",
        "outputId": "f3a18c47-591c-4eb1-e064-c8d59af4c1af"
      },
      "source": [
        "dummies=pd.get_dummies(df['color'])\r\n",
        "dummies.head()"
      ],
      "execution_count": null,
      "outputs": [
        {
          "output_type": "execute_result",
          "data": {
            "text/html": [
              "<div>\n",
              "<style scoped>\n",
              "    .dataframe tbody tr th:only-of-type {\n",
              "        vertical-align: middle;\n",
              "    }\n",
              "\n",
              "    .dataframe tbody tr th {\n",
              "        vertical-align: top;\n",
              "    }\n",
              "\n",
              "    .dataframe thead th {\n",
              "        text-align: right;\n",
              "    }\n",
              "</style>\n",
              "<table border=\"1\" class=\"dataframe\">\n",
              "  <thead>\n",
              "    <tr style=\"text-align: right;\">\n",
              "      <th></th>\n",
              "      <th>Blue</th>\n",
              "      <th>Orange</th>\n",
              "      <th>Red</th>\n",
              "      <th>Yellow</th>\n",
              "    </tr>\n",
              "  </thead>\n",
              "  <tbody>\n",
              "    <tr>\n",
              "      <th>0</th>\n",
              "      <td>1</td>\n",
              "      <td>0</td>\n",
              "      <td>0</td>\n",
              "      <td>0</td>\n",
              "    </tr>\n",
              "    <tr>\n",
              "      <th>1</th>\n",
              "      <td>1</td>\n",
              "      <td>0</td>\n",
              "      <td>0</td>\n",
              "      <td>0</td>\n",
              "    </tr>\n",
              "    <tr>\n",
              "      <th>2</th>\n",
              "      <td>0</td>\n",
              "      <td>0</td>\n",
              "      <td>1</td>\n",
              "      <td>0</td>\n",
              "    </tr>\n",
              "    <tr>\n",
              "      <th>3</th>\n",
              "      <td>0</td>\n",
              "      <td>0</td>\n",
              "      <td>1</td>\n",
              "      <td>0</td>\n",
              "    </tr>\n",
              "    <tr>\n",
              "      <th>4</th>\n",
              "      <td>1</td>\n",
              "      <td>0</td>\n",
              "      <td>0</td>\n",
              "      <td>0</td>\n",
              "    </tr>\n",
              "  </tbody>\n",
              "</table>\n",
              "</div>"
            ],
            "text/plain": [
              "   Blue  Orange  Red  Yellow\n",
              "0     1       0    0       0\n",
              "1     1       0    0       0\n",
              "2     0       0    1       0\n",
              "3     0       0    1       0\n",
              "4     1       0    0       0"
            ]
          },
          "metadata": {
            "tags": []
          },
          "execution_count": 73
        }
      ]
    },
    {
      "cell_type": "code",
      "metadata": {
        "colab": {
          "base_uri": "https://localhost:8080/",
          "height": 202
        },
        "id": "hHyHVaTn7xOE",
        "outputId": "63cd8d59-a89b-4757-9293-dc5a238a6484"
      },
      "source": [
        "df=pd.concat([df,dummies],axis=1)\r\n",
        "df.head()"
      ],
      "execution_count": null,
      "outputs": [
        {
          "output_type": "execute_result",
          "data": {
            "text/html": [
              "<div>\n",
              "<style scoped>\n",
              "    .dataframe tbody tr th:only-of-type {\n",
              "        vertical-align: middle;\n",
              "    }\n",
              "\n",
              "    .dataframe tbody tr th {\n",
              "        vertical-align: top;\n",
              "    }\n",
              "\n",
              "    .dataframe thead th {\n",
              "        text-align: right;\n",
              "    }\n",
              "</style>\n",
              "<table border=\"1\" class=\"dataframe\">\n",
              "  <thead>\n",
              "    <tr style=\"text-align: right;\">\n",
              "      <th></th>\n",
              "      <th>color</th>\n",
              "      <th>premium</th>\n",
              "      <th>Blue</th>\n",
              "      <th>Orange</th>\n",
              "      <th>Red</th>\n",
              "      <th>Yellow</th>\n",
              "    </tr>\n",
              "  </thead>\n",
              "  <tbody>\n",
              "    <tr>\n",
              "      <th>0</th>\n",
              "      <td>Blue</td>\n",
              "      <td>False</td>\n",
              "      <td>1</td>\n",
              "      <td>0</td>\n",
              "      <td>0</td>\n",
              "      <td>0</td>\n",
              "    </tr>\n",
              "    <tr>\n",
              "      <th>1</th>\n",
              "      <td>Blue</td>\n",
              "      <td>True</td>\n",
              "      <td>1</td>\n",
              "      <td>0</td>\n",
              "      <td>0</td>\n",
              "      <td>0</td>\n",
              "    </tr>\n",
              "    <tr>\n",
              "      <th>2</th>\n",
              "      <td>Red</td>\n",
              "      <td>False</td>\n",
              "      <td>0</td>\n",
              "      <td>0</td>\n",
              "      <td>1</td>\n",
              "      <td>0</td>\n",
              "    </tr>\n",
              "    <tr>\n",
              "      <th>3</th>\n",
              "      <td>Red</td>\n",
              "      <td>False</td>\n",
              "      <td>0</td>\n",
              "      <td>0</td>\n",
              "      <td>1</td>\n",
              "      <td>0</td>\n",
              "    </tr>\n",
              "    <tr>\n",
              "      <th>4</th>\n",
              "      <td>Blue</td>\n",
              "      <td>False</td>\n",
              "      <td>1</td>\n",
              "      <td>0</td>\n",
              "      <td>0</td>\n",
              "      <td>0</td>\n",
              "    </tr>\n",
              "  </tbody>\n",
              "</table>\n",
              "</div>"
            ],
            "text/plain": [
              "  color  premium  Blue  Orange  Red  Yellow\n",
              "0  Blue    False     1       0    0       0\n",
              "1  Blue     True     1       0    0       0\n",
              "2   Red    False     0       0    1       0\n",
              "3   Red    False     0       0    1       0\n",
              "4  Blue    False     1       0    0       0"
            ]
          },
          "metadata": {
            "tags": []
          },
          "execution_count": 75
        }
      ]
    },
    {
      "cell_type": "code",
      "metadata": {
        "colab": {
          "base_uri": "https://localhost:8080/",
          "height": 202
        },
        "id": "0Hdyu0s08VEb",
        "outputId": "fc46031a-ad25-453c-a5dc-0f936f06670a"
      },
      "source": [
        "df['premium_base_enc']=df['premium'].astype(int)\r\n",
        "df.head()"
      ],
      "execution_count": null,
      "outputs": [
        {
          "output_type": "execute_result",
          "data": {
            "text/html": [
              "<div>\n",
              "<style scoped>\n",
              "    .dataframe tbody tr th:only-of-type {\n",
              "        vertical-align: middle;\n",
              "    }\n",
              "\n",
              "    .dataframe tbody tr th {\n",
              "        vertical-align: top;\n",
              "    }\n",
              "\n",
              "    .dataframe thead th {\n",
              "        text-align: right;\n",
              "    }\n",
              "</style>\n",
              "<table border=\"1\" class=\"dataframe\">\n",
              "  <thead>\n",
              "    <tr style=\"text-align: right;\">\n",
              "      <th></th>\n",
              "      <th>color</th>\n",
              "      <th>premium</th>\n",
              "      <th>Blue</th>\n",
              "      <th>Orange</th>\n",
              "      <th>Red</th>\n",
              "      <th>Yellow</th>\n",
              "      <th>premium_base_enc</th>\n",
              "    </tr>\n",
              "  </thead>\n",
              "  <tbody>\n",
              "    <tr>\n",
              "      <th>0</th>\n",
              "      <td>Blue</td>\n",
              "      <td>False</td>\n",
              "      <td>1</td>\n",
              "      <td>0</td>\n",
              "      <td>0</td>\n",
              "      <td>0</td>\n",
              "      <td>0</td>\n",
              "    </tr>\n",
              "    <tr>\n",
              "      <th>1</th>\n",
              "      <td>Blue</td>\n",
              "      <td>True</td>\n",
              "      <td>1</td>\n",
              "      <td>0</td>\n",
              "      <td>0</td>\n",
              "      <td>0</td>\n",
              "      <td>1</td>\n",
              "    </tr>\n",
              "    <tr>\n",
              "      <th>2</th>\n",
              "      <td>Red</td>\n",
              "      <td>False</td>\n",
              "      <td>0</td>\n",
              "      <td>0</td>\n",
              "      <td>1</td>\n",
              "      <td>0</td>\n",
              "      <td>0</td>\n",
              "    </tr>\n",
              "    <tr>\n",
              "      <th>3</th>\n",
              "      <td>Red</td>\n",
              "      <td>False</td>\n",
              "      <td>0</td>\n",
              "      <td>0</td>\n",
              "      <td>1</td>\n",
              "      <td>0</td>\n",
              "      <td>0</td>\n",
              "    </tr>\n",
              "    <tr>\n",
              "      <th>4</th>\n",
              "      <td>Blue</td>\n",
              "      <td>False</td>\n",
              "      <td>1</td>\n",
              "      <td>0</td>\n",
              "      <td>0</td>\n",
              "      <td>0</td>\n",
              "      <td>0</td>\n",
              "    </tr>\n",
              "  </tbody>\n",
              "</table>\n",
              "</div>"
            ],
            "text/plain": [
              "  color  premium  Blue  Orange  Red  Yellow  premium_base_enc\n",
              "0  Blue    False     1       0    0       0                 0\n",
              "1  Blue     True     1       0    0       0                 1\n",
              "2   Red    False     0       0    1       0                 0\n",
              "3   Red    False     0       0    1       0                 0\n",
              "4  Blue    False     1       0    0       0                 0"
            ]
          },
          "metadata": {
            "tags": []
          },
          "execution_count": 76
        }
      ]
    },
    {
      "cell_type": "code",
      "metadata": {
        "id": "TmbPwjed9PfE"
      },
      "source": [
        "pd.get_dummies(df['color'],drop_first=True)"
      ],
      "execution_count": null,
      "outputs": []
    },
    {
      "cell_type": "code",
      "metadata": {
        "id": "6Z9kYLVL_XE1"
      },
      "source": [
        "df.to_csv('fichier.csv')"
      ],
      "execution_count": null,
      "outputs": []
    },
    {
      "cell_type": "code",
      "metadata": {
        "id": "90zjwh_p_uA0"
      },
      "source": [
        "import random"
      ],
      "execution_count": null,
      "outputs": []
    },
    {
      "cell_type": "code",
      "metadata": {
        "id": "tVUW0zdA89eP"
      },
      "source": [
        "random.seed(123)"
      ],
      "execution_count": null,
      "outputs": []
    },
    {
      "cell_type": "markdown",
      "metadata": {
        "id": "RkoBanFbDWIW"
      },
      "source": [
        "# Split Train /\r\n",
        "### Test / Valid\" stratifiées"
      ]
    },
    {
      "cell_type": "code",
      "metadata": {
        "id": "7Z5JQJKEACgL"
      },
      "source": [
        "import pandas as pd\r\n",
        "from random import randint\r\n",
        "from random import seed"
      ],
      "execution_count": null,
      "outputs": []
    },
    {
      "cell_type": "code",
      "metadata": {
        "id": "ner7-C_3MsB6"
      },
      "source": [
        "seed(1)\r\n",
        "col_1=[randint(-10,10) for _ in range(10)]\r\n",
        "col_2=[randint(-20,-5) for _ in range(10)]\r\n",
        "col_Y=[randint(1,2) for _ in range(10)]"
      ],
      "execution_count": null,
      "outputs": []
    },
    {
      "cell_type": "code",
      "metadata": {
        "colab": {
          "base_uri": "https://localhost:8080/",
          "height": 355
        },
        "id": "51OIJ5ovPUc4",
        "outputId": "d38cc428-82f7-4cea-9fb6-d2cac0101012"
      },
      "source": [
        "df=pd.DataFrame(data={'x1':col_1,\r\n",
        "                      'x2':col_2,\r\n",
        "                      'y':col_Y})\r\n",
        "df"
      ],
      "execution_count": null,
      "outputs": [
        {
          "output_type": "execute_result",
          "data": {
            "text/html": [
              "<div>\n",
              "<style scoped>\n",
              "    .dataframe tbody tr th:only-of-type {\n",
              "        vertical-align: middle;\n",
              "    }\n",
              "\n",
              "    .dataframe tbody tr th {\n",
              "        vertical-align: top;\n",
              "    }\n",
              "\n",
              "    .dataframe thead th {\n",
              "        text-align: right;\n",
              "    }\n",
              "</style>\n",
              "<table border=\"1\" class=\"dataframe\">\n",
              "  <thead>\n",
              "    <tr style=\"text-align: right;\">\n",
              "      <th></th>\n",
              "      <th>x1</th>\n",
              "      <th>x2</th>\n",
              "      <th>y</th>\n",
              "    </tr>\n",
              "  </thead>\n",
              "  <tbody>\n",
              "    <tr>\n",
              "      <th>0</th>\n",
              "      <td>-6</td>\n",
              "      <td>-14</td>\n",
              "      <td>1</td>\n",
              "    </tr>\n",
              "    <tr>\n",
              "      <th>1</th>\n",
              "      <td>8</td>\n",
              "      <td>-17</td>\n",
              "      <td>2</td>\n",
              "    </tr>\n",
              "    <tr>\n",
              "      <th>2</th>\n",
              "      <td>-8</td>\n",
              "      <td>-5</td>\n",
              "      <td>1</td>\n",
              "    </tr>\n",
              "    <tr>\n",
              "      <th>3</th>\n",
              "      <td>-2</td>\n",
              "      <td>-20</td>\n",
              "      <td>1</td>\n",
              "    </tr>\n",
              "    <tr>\n",
              "      <th>4</th>\n",
              "      <td>-7</td>\n",
              "      <td>-8</td>\n",
              "      <td>1</td>\n",
              "    </tr>\n",
              "    <tr>\n",
              "      <th>5</th>\n",
              "      <td>5</td>\n",
              "      <td>-7</td>\n",
              "      <td>1</td>\n",
              "    </tr>\n",
              "    <tr>\n",
              "      <th>6</th>\n",
              "      <td>4</td>\n",
              "      <td>-20</td>\n",
              "      <td>2</td>\n",
              "    </tr>\n",
              "    <tr>\n",
              "      <th>7</th>\n",
              "      <td>5</td>\n",
              "      <td>-6</td>\n",
              "      <td>1</td>\n",
              "    </tr>\n",
              "    <tr>\n",
              "      <th>8</th>\n",
              "      <td>10</td>\n",
              "      <td>-12</td>\n",
              "      <td>2</td>\n",
              "    </tr>\n",
              "    <tr>\n",
              "      <th>9</th>\n",
              "      <td>2</td>\n",
              "      <td>-13</td>\n",
              "      <td>1</td>\n",
              "    </tr>\n",
              "  </tbody>\n",
              "</table>\n",
              "</div>"
            ],
            "text/plain": [
              "   x1  x2  y\n",
              "0  -6 -14  1\n",
              "1   8 -17  2\n",
              "2  -8  -5  1\n",
              "3  -2 -20  1\n",
              "4  -7  -8  1\n",
              "5   5  -7  1\n",
              "6   4 -20  2\n",
              "7   5  -6  1\n",
              "8  10 -12  2\n",
              "9   2 -13  1"
            ]
          },
          "metadata": {
            "tags": []
          },
          "execution_count": 7
        }
      ]
    },
    {
      "cell_type": "code",
      "metadata": {
        "colab": {
          "base_uri": "https://localhost:8080/",
          "height": 294
        },
        "id": "riFRymDaQFk3",
        "outputId": "b77e6299-547a-40f2-a580-f3dd678cea68"
      },
      "source": [
        "train_df=df.sample(frac=0.8,random_state=1)\r\n",
        "train_df"
      ],
      "execution_count": null,
      "outputs": [
        {
          "output_type": "execute_result",
          "data": {
            "text/html": [
              "<div>\n",
              "<style scoped>\n",
              "    .dataframe tbody tr th:only-of-type {\n",
              "        vertical-align: middle;\n",
              "    }\n",
              "\n",
              "    .dataframe tbody tr th {\n",
              "        vertical-align: top;\n",
              "    }\n",
              "\n",
              "    .dataframe thead th {\n",
              "        text-align: right;\n",
              "    }\n",
              "</style>\n",
              "<table border=\"1\" class=\"dataframe\">\n",
              "  <thead>\n",
              "    <tr style=\"text-align: right;\">\n",
              "      <th></th>\n",
              "      <th>x1</th>\n",
              "      <th>x2</th>\n",
              "      <th>y</th>\n",
              "    </tr>\n",
              "  </thead>\n",
              "  <tbody>\n",
              "    <tr>\n",
              "      <th>2</th>\n",
              "      <td>-8</td>\n",
              "      <td>-5</td>\n",
              "      <td>1</td>\n",
              "    </tr>\n",
              "    <tr>\n",
              "      <th>9</th>\n",
              "      <td>2</td>\n",
              "      <td>-13</td>\n",
              "      <td>1</td>\n",
              "    </tr>\n",
              "    <tr>\n",
              "      <th>6</th>\n",
              "      <td>4</td>\n",
              "      <td>-20</td>\n",
              "      <td>2</td>\n",
              "    </tr>\n",
              "    <tr>\n",
              "      <th>4</th>\n",
              "      <td>-7</td>\n",
              "      <td>-8</td>\n",
              "      <td>1</td>\n",
              "    </tr>\n",
              "    <tr>\n",
              "      <th>0</th>\n",
              "      <td>-6</td>\n",
              "      <td>-14</td>\n",
              "      <td>1</td>\n",
              "    </tr>\n",
              "    <tr>\n",
              "      <th>3</th>\n",
              "      <td>-2</td>\n",
              "      <td>-20</td>\n",
              "      <td>1</td>\n",
              "    </tr>\n",
              "    <tr>\n",
              "      <th>1</th>\n",
              "      <td>8</td>\n",
              "      <td>-17</td>\n",
              "      <td>2</td>\n",
              "    </tr>\n",
              "    <tr>\n",
              "      <th>7</th>\n",
              "      <td>5</td>\n",
              "      <td>-6</td>\n",
              "      <td>1</td>\n",
              "    </tr>\n",
              "  </tbody>\n",
              "</table>\n",
              "</div>"
            ],
            "text/plain": [
              "   x1  x2  y\n",
              "2  -8  -5  1\n",
              "9   2 -13  1\n",
              "6   4 -20  2\n",
              "4  -7  -8  1\n",
              "0  -6 -14  1\n",
              "3  -2 -20  1\n",
              "1   8 -17  2\n",
              "7   5  -6  1"
            ]
          },
          "metadata": {
            "tags": []
          },
          "execution_count": 14
        }
      ]
    },
    {
      "cell_type": "code",
      "metadata": {
        "colab": {
          "base_uri": "https://localhost:8080/"
        },
        "id": "hDXC4zYsQtZg",
        "outputId": "1e46c8ed-24df-455d-9145-439f1a61b7f5"
      },
      "source": [
        "train_df.index"
      ],
      "execution_count": null,
      "outputs": [
        {
          "output_type": "execute_result",
          "data": {
            "text/plain": [
              "Int64Index([2, 9, 6, 4, 0, 3, 1, 7], dtype='int64')"
            ]
          },
          "metadata": {
            "tags": []
          },
          "execution_count": 11
        }
      ]
    },
    {
      "cell_type": "code",
      "metadata": {
        "colab": {
          "base_uri": "https://localhost:8080/",
          "height": 110
        },
        "id": "fZSI-i9CSbCe",
        "outputId": "20501f39-4717-427c-f9ab-2371f56779e1"
      },
      "source": [
        "test_df=df.sample(frac=0.2,random_state=1)\r\n",
        "test_df"
      ],
      "execution_count": null,
      "outputs": [
        {
          "output_type": "execute_result",
          "data": {
            "text/html": [
              "<div>\n",
              "<style scoped>\n",
              "    .dataframe tbody tr th:only-of-type {\n",
              "        vertical-align: middle;\n",
              "    }\n",
              "\n",
              "    .dataframe tbody tr th {\n",
              "        vertical-align: top;\n",
              "    }\n",
              "\n",
              "    .dataframe thead th {\n",
              "        text-align: right;\n",
              "    }\n",
              "</style>\n",
              "<table border=\"1\" class=\"dataframe\">\n",
              "  <thead>\n",
              "    <tr style=\"text-align: right;\">\n",
              "      <th></th>\n",
              "      <th>x1</th>\n",
              "      <th>x2</th>\n",
              "      <th>y</th>\n",
              "    </tr>\n",
              "  </thead>\n",
              "  <tbody>\n",
              "    <tr>\n",
              "      <th>2</th>\n",
              "      <td>-8</td>\n",
              "      <td>-5</td>\n",
              "      <td>1</td>\n",
              "    </tr>\n",
              "    <tr>\n",
              "      <th>9</th>\n",
              "      <td>2</td>\n",
              "      <td>-13</td>\n",
              "      <td>1</td>\n",
              "    </tr>\n",
              "  </tbody>\n",
              "</table>\n",
              "</div>"
            ],
            "text/plain": [
              "   x1  x2  y\n",
              "2  -8  -5  1\n",
              "9   2 -13  1"
            ]
          },
          "metadata": {
            "tags": []
          },
          "execution_count": 13
        }
      ]
    },
    {
      "cell_type": "code",
      "metadata": {
        "colab": {
          "base_uri": "https://localhost:8080/"
        },
        "id": "jIRnLZfpS79m",
        "outputId": "1531511a-81cf-4872-ec84-1a7f8f6509f5"
      },
      "source": [
        "test_df.index.isin(train_df.index)"
      ],
      "execution_count": null,
      "outputs": [
        {
          "output_type": "execute_result",
          "data": {
            "text/plain": [
              "array([ True,  True])"
            ]
          },
          "metadata": {
            "tags": []
          },
          "execution_count": 15
        }
      ]
    },
    {
      "cell_type": "code",
      "metadata": {
        "colab": {
          "base_uri": "https://localhost:8080/"
        },
        "id": "eOx0mgTVTLoA",
        "outputId": "195eea18-d1d3-41cc-d2b6-f664fdc69256"
      },
      "source": [
        "df.index.isin(train_df.index)"
      ],
      "execution_count": null,
      "outputs": [
        {
          "output_type": "execute_result",
          "data": {
            "text/plain": [
              "array([ True,  True,  True,  True,  True, False,  True,  True, False,\n",
              "        True])"
            ]
          },
          "metadata": {
            "tags": []
          },
          "execution_count": 16
        }
      ]
    },
    {
      "cell_type": "code",
      "metadata": {
        "colab": {
          "base_uri": "https://localhost:8080/"
        },
        "id": "lFEFMQpxTfvY",
        "outputId": "85041b58-43cf-44c2-d8a0-8578388f0380"
      },
      "source": [
        "~df.index.isin(train_df.index)"
      ],
      "execution_count": null,
      "outputs": [
        {
          "output_type": "execute_result",
          "data": {
            "text/plain": [
              "array([False, False, False, False, False,  True, False, False,  True,\n",
              "       False])"
            ]
          },
          "metadata": {
            "tags": []
          },
          "execution_count": 17
        }
      ]
    },
    {
      "cell_type": "code",
      "metadata": {
        "id": "2Ktj4MdKUKvI"
      },
      "source": [
        "not_in_train_set=~df.index.isin(train_df.index)"
      ],
      "execution_count": null,
      "outputs": []
    },
    {
      "cell_type": "code",
      "metadata": {
        "colab": {
          "base_uri": "https://localhost:8080/",
          "height": 110
        },
        "id": "2iYmPwJ6Ud5c",
        "outputId": "0d5b0961-b5df-4fe9-eb89-e1aa6568872a"
      },
      "source": [
        "train_df=df[not_in_train_set]\r\n",
        "train_df"
      ],
      "execution_count": null,
      "outputs": [
        {
          "output_type": "execute_result",
          "data": {
            "text/html": [
              "<div>\n",
              "<style scoped>\n",
              "    .dataframe tbody tr th:only-of-type {\n",
              "        vertical-align: middle;\n",
              "    }\n",
              "\n",
              "    .dataframe tbody tr th {\n",
              "        vertical-align: top;\n",
              "    }\n",
              "\n",
              "    .dataframe thead th {\n",
              "        text-align: right;\n",
              "    }\n",
              "</style>\n",
              "<table border=\"1\" class=\"dataframe\">\n",
              "  <thead>\n",
              "    <tr style=\"text-align: right;\">\n",
              "      <th></th>\n",
              "      <th>x1</th>\n",
              "      <th>x2</th>\n",
              "      <th>y</th>\n",
              "    </tr>\n",
              "  </thead>\n",
              "  <tbody>\n",
              "    <tr>\n",
              "      <th>5</th>\n",
              "      <td>5</td>\n",
              "      <td>-7</td>\n",
              "      <td>1</td>\n",
              "    </tr>\n",
              "    <tr>\n",
              "      <th>8</th>\n",
              "      <td>10</td>\n",
              "      <td>-12</td>\n",
              "      <td>2</td>\n",
              "    </tr>\n",
              "  </tbody>\n",
              "</table>\n",
              "</div>"
            ],
            "text/plain": [
              "   x1  x2  y\n",
              "5   5  -7  1\n",
              "8  10 -12  2"
            ]
          },
          "metadata": {
            "tags": []
          },
          "execution_count": 20
        }
      ]
    },
    {
      "cell_type": "code",
      "metadata": {
        "colab": {
          "base_uri": "https://localhost:8080/",
          "height": 233
        },
        "id": "pXN_8eksUmtk",
        "outputId": "96a9e265-3e90-4974-f0b1-fb9221f63762"
      },
      "source": [
        "#Sélection stratifiée\r\n",
        "train_1=df[df['y']==1].sample(frac=0.8,random_state=1)\r\n",
        "train_1"
      ],
      "execution_count": null,
      "outputs": [
        {
          "output_type": "execute_result",
          "data": {
            "text/html": [
              "<div>\n",
              "<style scoped>\n",
              "    .dataframe tbody tr th:only-of-type {\n",
              "        vertical-align: middle;\n",
              "    }\n",
              "\n",
              "    .dataframe tbody tr th {\n",
              "        vertical-align: top;\n",
              "    }\n",
              "\n",
              "    .dataframe thead th {\n",
              "        text-align: right;\n",
              "    }\n",
              "</style>\n",
              "<table border=\"1\" class=\"dataframe\">\n",
              "  <thead>\n",
              "    <tr style=\"text-align: right;\">\n",
              "      <th></th>\n",
              "      <th>x1</th>\n",
              "      <th>x2</th>\n",
              "      <th>y</th>\n",
              "    </tr>\n",
              "  </thead>\n",
              "  <tbody>\n",
              "    <tr>\n",
              "      <th>9</th>\n",
              "      <td>2</td>\n",
              "      <td>-13</td>\n",
              "      <td>1</td>\n",
              "    </tr>\n",
              "    <tr>\n",
              "      <th>3</th>\n",
              "      <td>-2</td>\n",
              "      <td>-20</td>\n",
              "      <td>1</td>\n",
              "    </tr>\n",
              "    <tr>\n",
              "      <th>2</th>\n",
              "      <td>-8</td>\n",
              "      <td>-5</td>\n",
              "      <td>1</td>\n",
              "    </tr>\n",
              "    <tr>\n",
              "      <th>0</th>\n",
              "      <td>-6</td>\n",
              "      <td>-14</td>\n",
              "      <td>1</td>\n",
              "    </tr>\n",
              "    <tr>\n",
              "      <th>5</th>\n",
              "      <td>5</td>\n",
              "      <td>-7</td>\n",
              "      <td>1</td>\n",
              "    </tr>\n",
              "    <tr>\n",
              "      <th>4</th>\n",
              "      <td>-7</td>\n",
              "      <td>-8</td>\n",
              "      <td>1</td>\n",
              "    </tr>\n",
              "  </tbody>\n",
              "</table>\n",
              "</div>"
            ],
            "text/plain": [
              "   x1  x2  y\n",
              "9   2 -13  1\n",
              "3  -2 -20  1\n",
              "2  -8  -5  1\n",
              "0  -6 -14  1\n",
              "5   5  -7  1\n",
              "4  -7  -8  1"
            ]
          },
          "metadata": {
            "tags": []
          },
          "execution_count": 21
        }
      ]
    },
    {
      "cell_type": "code",
      "metadata": {
        "colab": {
          "base_uri": "https://localhost:8080/",
          "height": 110
        },
        "id": "xUxO86XNYB30",
        "outputId": "91e04aca-da66-4397-972e-7d8af8955230"
      },
      "source": [
        "train_2=df[df['y']==2].sample(frac=0.8,random_state=1)\r\n",
        "train_2"
      ],
      "execution_count": null,
      "outputs": [
        {
          "output_type": "execute_result",
          "data": {
            "text/html": [
              "<div>\n",
              "<style scoped>\n",
              "    .dataframe tbody tr th:only-of-type {\n",
              "        vertical-align: middle;\n",
              "    }\n",
              "\n",
              "    .dataframe tbody tr th {\n",
              "        vertical-align: top;\n",
              "    }\n",
              "\n",
              "    .dataframe thead th {\n",
              "        text-align: right;\n",
              "    }\n",
              "</style>\n",
              "<table border=\"1\" class=\"dataframe\">\n",
              "  <thead>\n",
              "    <tr style=\"text-align: right;\">\n",
              "      <th></th>\n",
              "      <th>x1</th>\n",
              "      <th>x2</th>\n",
              "      <th>y</th>\n",
              "    </tr>\n",
              "  </thead>\n",
              "  <tbody>\n",
              "    <tr>\n",
              "      <th>1</th>\n",
              "      <td>8</td>\n",
              "      <td>-17</td>\n",
              "      <td>2</td>\n",
              "    </tr>\n",
              "    <tr>\n",
              "      <th>8</th>\n",
              "      <td>10</td>\n",
              "      <td>-12</td>\n",
              "      <td>2</td>\n",
              "    </tr>\n",
              "  </tbody>\n",
              "</table>\n",
              "</div>"
            ],
            "text/plain": [
              "   x1  x2  y\n",
              "1   8 -17  2\n",
              "8  10 -12  2"
            ]
          },
          "metadata": {
            "tags": []
          },
          "execution_count": 22
        }
      ]
    },
    {
      "cell_type": "code",
      "metadata": {
        "colab": {
          "base_uri": "https://localhost:8080/",
          "height": 294
        },
        "id": "cjpcBK6lYRoa",
        "outputId": "b2feb4c7-5959-4ec0-d4bf-04a81ac4fa11"
      },
      "source": [
        "train_df=pd.concat([train_1,train_2], axis=0)\r\n",
        "train_df"
      ],
      "execution_count": null,
      "outputs": [
        {
          "output_type": "execute_result",
          "data": {
            "text/html": [
              "<div>\n",
              "<style scoped>\n",
              "    .dataframe tbody tr th:only-of-type {\n",
              "        vertical-align: middle;\n",
              "    }\n",
              "\n",
              "    .dataframe tbody tr th {\n",
              "        vertical-align: top;\n",
              "    }\n",
              "\n",
              "    .dataframe thead th {\n",
              "        text-align: right;\n",
              "    }\n",
              "</style>\n",
              "<table border=\"1\" class=\"dataframe\">\n",
              "  <thead>\n",
              "    <tr style=\"text-align: right;\">\n",
              "      <th></th>\n",
              "      <th>x1</th>\n",
              "      <th>x2</th>\n",
              "      <th>y</th>\n",
              "    </tr>\n",
              "  </thead>\n",
              "  <tbody>\n",
              "    <tr>\n",
              "      <th>9</th>\n",
              "      <td>2</td>\n",
              "      <td>-13</td>\n",
              "      <td>1</td>\n",
              "    </tr>\n",
              "    <tr>\n",
              "      <th>3</th>\n",
              "      <td>-2</td>\n",
              "      <td>-20</td>\n",
              "      <td>1</td>\n",
              "    </tr>\n",
              "    <tr>\n",
              "      <th>2</th>\n",
              "      <td>-8</td>\n",
              "      <td>-5</td>\n",
              "      <td>1</td>\n",
              "    </tr>\n",
              "    <tr>\n",
              "      <th>0</th>\n",
              "      <td>-6</td>\n",
              "      <td>-14</td>\n",
              "      <td>1</td>\n",
              "    </tr>\n",
              "    <tr>\n",
              "      <th>5</th>\n",
              "      <td>5</td>\n",
              "      <td>-7</td>\n",
              "      <td>1</td>\n",
              "    </tr>\n",
              "    <tr>\n",
              "      <th>4</th>\n",
              "      <td>-7</td>\n",
              "      <td>-8</td>\n",
              "      <td>1</td>\n",
              "    </tr>\n",
              "    <tr>\n",
              "      <th>1</th>\n",
              "      <td>8</td>\n",
              "      <td>-17</td>\n",
              "      <td>2</td>\n",
              "    </tr>\n",
              "    <tr>\n",
              "      <th>8</th>\n",
              "      <td>10</td>\n",
              "      <td>-12</td>\n",
              "      <td>2</td>\n",
              "    </tr>\n",
              "  </tbody>\n",
              "</table>\n",
              "</div>"
            ],
            "text/plain": [
              "   x1  x2  y\n",
              "9   2 -13  1\n",
              "3  -2 -20  1\n",
              "2  -8  -5  1\n",
              "0  -6 -14  1\n",
              "5   5  -7  1\n",
              "4  -7  -8  1\n",
              "1   8 -17  2\n",
              "8  10 -12  2"
            ]
          },
          "metadata": {
            "tags": []
          },
          "execution_count": 24
        }
      ]
    },
    {
      "cell_type": "code",
      "metadata": {
        "colab": {
          "base_uri": "https://localhost:8080/",
          "height": 110
        },
        "id": "tlf_xC7tY0N0",
        "outputId": "b04481dd-de76-4354-8c87-4dbd56cee6ef"
      },
      "source": [
        "not_in_train=~df.index.isin(train_df.index)\r\n",
        "\r\n",
        "test_df=df[not_in_train]\r\n",
        "test_df"
      ],
      "execution_count": null,
      "outputs": [
        {
          "output_type": "execute_result",
          "data": {
            "text/html": [
              "<div>\n",
              "<style scoped>\n",
              "    .dataframe tbody tr th:only-of-type {\n",
              "        vertical-align: middle;\n",
              "    }\n",
              "\n",
              "    .dataframe tbody tr th {\n",
              "        vertical-align: top;\n",
              "    }\n",
              "\n",
              "    .dataframe thead th {\n",
              "        text-align: right;\n",
              "    }\n",
              "</style>\n",
              "<table border=\"1\" class=\"dataframe\">\n",
              "  <thead>\n",
              "    <tr style=\"text-align: right;\">\n",
              "      <th></th>\n",
              "      <th>x1</th>\n",
              "      <th>x2</th>\n",
              "      <th>y</th>\n",
              "    </tr>\n",
              "  </thead>\n",
              "  <tbody>\n",
              "    <tr>\n",
              "      <th>6</th>\n",
              "      <td>4</td>\n",
              "      <td>-20</td>\n",
              "      <td>2</td>\n",
              "    </tr>\n",
              "    <tr>\n",
              "      <th>7</th>\n",
              "      <td>5</td>\n",
              "      <td>-6</td>\n",
              "      <td>1</td>\n",
              "    </tr>\n",
              "  </tbody>\n",
              "</table>\n",
              "</div>"
            ],
            "text/plain": [
              "   x1  x2  y\n",
              "6   4 -20  2\n",
              "7   5  -6  1"
            ]
          },
          "metadata": {
            "tags": []
          },
          "execution_count": 25
        }
      ]
    },
    {
      "cell_type": "code",
      "metadata": {
        "colab": {
          "base_uri": "https://localhost:8080/"
        },
        "id": "MlDtJYtLZoe5",
        "outputId": "f232fa53-5653-47bd-efbd-b74335642a79"
      },
      "source": [
        "df['y'].unique()"
      ],
      "execution_count": null,
      "outputs": [
        {
          "output_type": "execute_result",
          "data": {
            "text/plain": [
              "array([1, 2])"
            ]
          },
          "metadata": {
            "tags": []
          },
          "execution_count": 26
        }
      ]
    },
    {
      "cell_type": "code",
      "metadata": {
        "id": "YNcPr0aFaEBa"
      },
      "source": [
        "#Automatiser\r\n",
        "\r\n",
        "#Créer un data set stratifié d'entrainement\r\n",
        "train_parts=[]\r\n",
        "for value in df['y'].unique():\r\n",
        "  tmp=df[df['y']==value]\r\n",
        "  part=tmp.sample(frac=0.8,\r\n",
        "                  random_state=1)\r\n",
        "  train_parts.append(part)\r\n",
        "train_df=pd.concat(train_parts,\r\n",
        "                   axis=0)\r\n",
        "\r\n",
        "#Identifier les index qui ne sont pas dans le train set \r\n",
        "not_in_train=~df.index.isin(train_df.index)\r\n",
        "\r\n",
        "#On crée le test set par complément\r\n",
        "test_set=df[not_in_train]"
      ],
      "execution_count": null,
      "outputs": []
    },
    {
      "cell_type": "code",
      "metadata": {
        "id": "w7cCEN24dKqW"
      },
      "source": [
        "def stratified_split(df,col_y,frac=0.8,\r\n",
        "                     random_state=1):\r\n",
        "    #Créer un data set stratifié d'entrainement\r\n",
        "  train_parts=[]\r\n",
        "  for value in df[col_y].unique():\r\n",
        "    tmp=df[df[col_y]==value]\r\n",
        "    part=tmp.sample(frac=frac,\r\n",
        "                    random_state=random_state)\r\n",
        "    train_parts.append(part)\r\n",
        "  train_df=pd.concat(train_parts,\r\n",
        "                     axis=0)\r\n",
        "\r\n",
        "  #Identifier les index qui ne sont pas dans le train set \r\n",
        "  not_in_train=~df.index.isin(train_df.index)\r\n",
        "\r\n",
        "  #On crée le test set par complément\r\n",
        "  test_df=df[not_in_train]\r\n",
        "\r\n",
        "  return train_df, test_df"
      ],
      "execution_count": null,
      "outputs": []
    },
    {
      "cell_type": "code",
      "metadata": {
        "id": "br9t4_K1fXlN"
      },
      "source": [
        "train_df, test_df=stratified_split(df,'y')"
      ],
      "execution_count": null,
      "outputs": []
    },
    {
      "cell_type": "code",
      "metadata": {
        "id": "OB2sCAu1fyR5"
      },
      "source": [
        "train_df, valid_df=stratified_split(train_df,'y')"
      ],
      "execution_count": null,
      "outputs": []
    },
    {
      "cell_type": "code",
      "metadata": {
        "colab": {
          "base_uri": "https://localhost:8080/"
        },
        "id": "1Xt8We_kgCI2",
        "outputId": "ce457df3-374d-461e-eeb6-d5ac4bf848e6"
      },
      "source": [
        "train_df, test_df ,valid_df"
      ],
      "execution_count": null,
      "outputs": [
        {
          "output_type": "execute_result",
          "data": {
            "text/plain": [
              "(   x1  x2  y\n",
              " 2  -8  -5  1\n",
              " 3  -2 -20  1\n",
              " 5   5  -7  1\n",
              " 9   2 -13  1\n",
              " 0  -6 -14  1\n",
              " 1   8 -17  2\n",
              " 8  10 -12  2,    x1  x2  y\n",
              " 6   4 -20  2\n",
              " 7   5  -6  1,    x1  x2  y\n",
              " 4  -7  -8  1)"
            ]
          },
          "metadata": {
            "tags": []
          },
          "execution_count": 32
        }
      ]
    },
    {
      "cell_type": "code",
      "metadata": {
        "id": "R35ERch8gQWq"
      },
      "source": [
        "train_df.to_csv('train.csv',index=None) \r\n",
        "\r\n",
        "test_df.to_csv('test.csv',index=None)\r\n",
        "\r\n",
        "valid_df.to_csv('valit.csv',index=None)"
      ],
      "execution_count": null,
      "outputs": []
    },
    {
      "cell_type": "markdown",
      "metadata": {
        "id": "cL6qSGSthNpm"
      },
      "source": [
        "# Isoler la variable cible"
      ]
    },
    {
      "cell_type": "code",
      "metadata": {
        "id": "WzlwZzp5hDPj"
      },
      "source": [
        "Y=train_df['y']\r\n",
        "X=train_df.drop('y', axis=1)"
      ],
      "execution_count": null,
      "outputs": []
    },
    {
      "cell_type": "code",
      "metadata": {
        "colab": {
          "base_uri": "https://localhost:8080/"
        },
        "id": "l7TjbksQjZCu",
        "outputId": "fe387d55-3ec6-4b2c-88cb-c612d2d211e5"
      },
      "source": [
        "Y.head()"
      ],
      "execution_count": null,
      "outputs": [
        {
          "output_type": "execute_result",
          "data": {
            "text/plain": [
              "2    1\n",
              "3    1\n",
              "5    1\n",
              "9    1\n",
              "0    1\n",
              "Name: y, dtype: int64"
            ]
          },
          "metadata": {
            "tags": []
          },
          "execution_count": 48
        }
      ]
    },
    {
      "cell_type": "code",
      "metadata": {
        "colab": {
          "base_uri": "https://localhost:8080/",
          "height": 202
        },
        "id": "jTBTRbAhhbyn",
        "outputId": "f5f0e3dc-e376-406f-f617-e36ec635c591"
      },
      "source": [
        "X.head()"
      ],
      "execution_count": null,
      "outputs": [
        {
          "output_type": "execute_result",
          "data": {
            "text/html": [
              "<div>\n",
              "<style scoped>\n",
              "    .dataframe tbody tr th:only-of-type {\n",
              "        vertical-align: middle;\n",
              "    }\n",
              "\n",
              "    .dataframe tbody tr th {\n",
              "        vertical-align: top;\n",
              "    }\n",
              "\n",
              "    .dataframe thead th {\n",
              "        text-align: right;\n",
              "    }\n",
              "</style>\n",
              "<table border=\"1\" class=\"dataframe\">\n",
              "  <thead>\n",
              "    <tr style=\"text-align: right;\">\n",
              "      <th></th>\n",
              "      <th>x1</th>\n",
              "      <th>x2</th>\n",
              "    </tr>\n",
              "  </thead>\n",
              "  <tbody>\n",
              "    <tr>\n",
              "      <th>2</th>\n",
              "      <td>-8</td>\n",
              "      <td>-5</td>\n",
              "    </tr>\n",
              "    <tr>\n",
              "      <th>3</th>\n",
              "      <td>-2</td>\n",
              "      <td>-20</td>\n",
              "    </tr>\n",
              "    <tr>\n",
              "      <th>5</th>\n",
              "      <td>5</td>\n",
              "      <td>-7</td>\n",
              "    </tr>\n",
              "    <tr>\n",
              "      <th>9</th>\n",
              "      <td>2</td>\n",
              "      <td>-13</td>\n",
              "    </tr>\n",
              "    <tr>\n",
              "      <th>0</th>\n",
              "      <td>-6</td>\n",
              "      <td>-14</td>\n",
              "    </tr>\n",
              "  </tbody>\n",
              "</table>\n",
              "</div>"
            ],
            "text/plain": [
              "   x1  x2\n",
              "2  -8  -5\n",
              "3  -2 -20\n",
              "5   5  -7\n",
              "9   2 -13\n",
              "0  -6 -14"
            ]
          },
          "metadata": {
            "tags": []
          },
          "execution_count": 49
        }
      ]
    },
    {
      "cell_type": "code",
      "metadata": {
        "id": "RDu1qBiSji0J"
      },
      "source": [
        "def isolate(df, col_y):\r\n",
        "  Y=train_df['y']\r\n",
        "  X=train_df.drop('y', axis=1)\r\n",
        "  return X,Y"
      ],
      "execution_count": null,
      "outputs": []
    },
    {
      "cell_type": "code",
      "metadata": {
        "id": "ZvM1MJqdkSih"
      },
      "source": [
        "train_X, train_Y=isolate(train_df,col_y='y')"
      ],
      "execution_count": null,
      "outputs": []
    },
    {
      "cell_type": "code",
      "metadata": {
        "colab": {
          "base_uri": "https://localhost:8080/",
          "height": 202
        },
        "id": "OjeJxIezkib0",
        "outputId": "0585c5f4-28d5-409f-b71a-64b480270967"
      },
      "source": [
        "train_X.head()"
      ],
      "execution_count": null,
      "outputs": [
        {
          "output_type": "execute_result",
          "data": {
            "text/html": [
              "<div>\n",
              "<style scoped>\n",
              "    .dataframe tbody tr th:only-of-type {\n",
              "        vertical-align: middle;\n",
              "    }\n",
              "\n",
              "    .dataframe tbody tr th {\n",
              "        vertical-align: top;\n",
              "    }\n",
              "\n",
              "    .dataframe thead th {\n",
              "        text-align: right;\n",
              "    }\n",
              "</style>\n",
              "<table border=\"1\" class=\"dataframe\">\n",
              "  <thead>\n",
              "    <tr style=\"text-align: right;\">\n",
              "      <th></th>\n",
              "      <th>x1</th>\n",
              "      <th>x2</th>\n",
              "    </tr>\n",
              "  </thead>\n",
              "  <tbody>\n",
              "    <tr>\n",
              "      <th>2</th>\n",
              "      <td>-8</td>\n",
              "      <td>-5</td>\n",
              "    </tr>\n",
              "    <tr>\n",
              "      <th>3</th>\n",
              "      <td>-2</td>\n",
              "      <td>-20</td>\n",
              "    </tr>\n",
              "    <tr>\n",
              "      <th>5</th>\n",
              "      <td>5</td>\n",
              "      <td>-7</td>\n",
              "    </tr>\n",
              "    <tr>\n",
              "      <th>9</th>\n",
              "      <td>2</td>\n",
              "      <td>-13</td>\n",
              "    </tr>\n",
              "    <tr>\n",
              "      <th>0</th>\n",
              "      <td>-6</td>\n",
              "      <td>-14</td>\n",
              "    </tr>\n",
              "  </tbody>\n",
              "</table>\n",
              "</div>"
            ],
            "text/plain": [
              "   x1  x2\n",
              "2  -8  -5\n",
              "3  -2 -20\n",
              "5   5  -7\n",
              "9   2 -13\n",
              "0  -6 -14"
            ]
          },
          "metadata": {
            "tags": []
          },
          "execution_count": 56
        }
      ]
    },
    {
      "cell_type": "code",
      "metadata": {
        "colab": {
          "base_uri": "https://localhost:8080/"
        },
        "id": "0CXc53JAksKu",
        "outputId": "ef94e9e9-4641-4e5b-f80b-278d8270b964"
      },
      "source": [
        "train_Y.head()"
      ],
      "execution_count": null,
      "outputs": [
        {
          "output_type": "execute_result",
          "data": {
            "text/plain": [
              "2    1\n",
              "3    1\n",
              "5    1\n",
              "9    1\n",
              "0    1\n",
              "Name: y, dtype: int64"
            ]
          },
          "metadata": {
            "tags": []
          },
          "execution_count": 57
        }
      ]
    },
    {
      "cell_type": "code",
      "metadata": {
        "id": "G7d13fAbk1jJ"
      },
      "source": [
        "from sklearn.utils import shuffle\r\n",
        "\r\n",
        "train_X, train_Y=shuffle(train_X, train_Y,random_state=0)"
      ],
      "execution_count": null,
      "outputs": []
    },
    {
      "cell_type": "code",
      "metadata": {
        "colab": {
          "base_uri": "https://localhost:8080/"
        },
        "id": "Sw4JE7sulzg2",
        "outputId": "29b534cb-0192-4988-c017-035d81a0f48a"
      },
      "source": [
        "train_Y.head()"
      ],
      "execution_count": null,
      "outputs": [
        {
          "output_type": "execute_result",
          "data": {
            "text/plain": [
              "8    2\n",
              "5    1\n",
              "3    1\n",
              "9    1\n",
              "2    1\n",
              "Name: y, dtype: int64"
            ]
          },
          "metadata": {
            "tags": []
          },
          "execution_count": 59
        }
      ]
    },
    {
      "cell_type": "code",
      "metadata": {
        "colab": {
          "base_uri": "https://localhost:8080/",
          "height": 202
        },
        "id": "C-6hkUYVl3Yg",
        "outputId": "64cc1282-9409-42a9-dcd7-0b904588ce1b"
      },
      "source": [
        "train_X.head()"
      ],
      "execution_count": null,
      "outputs": [
        {
          "output_type": "execute_result",
          "data": {
            "text/html": [
              "<div>\n",
              "<style scoped>\n",
              "    .dataframe tbody tr th:only-of-type {\n",
              "        vertical-align: middle;\n",
              "    }\n",
              "\n",
              "    .dataframe tbody tr th {\n",
              "        vertical-align: top;\n",
              "    }\n",
              "\n",
              "    .dataframe thead th {\n",
              "        text-align: right;\n",
              "    }\n",
              "</style>\n",
              "<table border=\"1\" class=\"dataframe\">\n",
              "  <thead>\n",
              "    <tr style=\"text-align: right;\">\n",
              "      <th></th>\n",
              "      <th>x1</th>\n",
              "      <th>x2</th>\n",
              "    </tr>\n",
              "  </thead>\n",
              "  <tbody>\n",
              "    <tr>\n",
              "      <th>8</th>\n",
              "      <td>10</td>\n",
              "      <td>-12</td>\n",
              "    </tr>\n",
              "    <tr>\n",
              "      <th>5</th>\n",
              "      <td>5</td>\n",
              "      <td>-7</td>\n",
              "    </tr>\n",
              "    <tr>\n",
              "      <th>3</th>\n",
              "      <td>-2</td>\n",
              "      <td>-20</td>\n",
              "    </tr>\n",
              "    <tr>\n",
              "      <th>9</th>\n",
              "      <td>2</td>\n",
              "      <td>-13</td>\n",
              "    </tr>\n",
              "    <tr>\n",
              "      <th>2</th>\n",
              "      <td>-8</td>\n",
              "      <td>-5</td>\n",
              "    </tr>\n",
              "  </tbody>\n",
              "</table>\n",
              "</div>"
            ],
            "text/plain": [
              "   x1  x2\n",
              "8  10 -12\n",
              "5   5  -7\n",
              "3  -2 -20\n",
              "9   2 -13\n",
              "2  -8  -5"
            ]
          },
          "metadata": {
            "tags": []
          },
          "execution_count": 60
        }
      ]
    },
    {
      "cell_type": "markdown",
      "metadata": {
        "id": "bHf_sczLoSW5"
      },
      "source": [
        "# Entrainement "
      ]
    },
    {
      "cell_type": "code",
      "metadata": {
        "colab": {
          "base_uri": "https://localhost:8080/",
          "height": 323
        },
        "id": "HNhUuZV9l6Bz",
        "outputId": "8343cbda-bed6-49a2-875d-854d5e1d3c9b"
      },
      "source": [
        "data1='https://bit.ly/vintage-auctions'\r\n",
        "print(data1)\r\n",
        "\r\n",
        "df1=pd.read_csv(data1)\r\n",
        "df1.head()"
      ],
      "execution_count": 4,
      "outputs": [
        {
          "output_type": "stream",
          "text": [
            "https://bit.ly/vintage-auctions\n"
          ],
          "name": "stdout"
        },
        {
          "output_type": "execute_result",
          "data": {
            "text/html": [
              "<div>\n",
              "<style scoped>\n",
              "    .dataframe tbody tr th:only-of-type {\n",
              "        vertical-align: middle;\n",
              "    }\n",
              "\n",
              "    .dataframe tbody tr th {\n",
              "        vertical-align: top;\n",
              "    }\n",
              "\n",
              "    .dataframe thead th {\n",
              "        text-align: right;\n",
              "    }\n",
              "</style>\n",
              "<table border=\"1\" class=\"dataframe\">\n",
              "  <thead>\n",
              "    <tr style=\"text-align: right;\">\n",
              "      <th></th>\n",
              "      <th>tx id</th>\n",
              "      <th>time</th>\n",
              "      <th>auction</th>\n",
              "      <th>color</th>\n",
              "      <th>shirt size</th>\n",
              "      <th>condition</th>\n",
              "    </tr>\n",
              "  </thead>\n",
              "  <tbody>\n",
              "    <tr>\n",
              "      <th>0</th>\n",
              "      <td>8dbf3cfa48b25f32e300f279bb4163c67d5c60cd</td>\n",
              "      <td>3:36 PM</td>\n",
              "      <td>$17.18</td>\n",
              "      <td>Puce</td>\n",
              "      <td>S</td>\n",
              "      <td>used</td>\n",
              "    </tr>\n",
              "    <tr>\n",
              "      <th>1</th>\n",
              "      <td>8ccebfdb1a41830bdcc0e926531f3215986b3a90</td>\n",
              "      <td>9:03 AM</td>\n",
              "      <td>$15.19</td>\n",
              "      <td>Aquamarine</td>\n",
              "      <td>L</td>\n",
              "      <td>never worn</td>\n",
              "    </tr>\n",
              "    <tr>\n",
              "      <th>2</th>\n",
              "      <td>ae85a421a91cec8baf16ff1e45fb3e239130b584</td>\n",
              "      <td>7:42 PM</td>\n",
              "      <td>$7.58</td>\n",
              "      <td>Violet</td>\n",
              "      <td>L</td>\n",
              "      <td>used</td>\n",
              "    </tr>\n",
              "    <tr>\n",
              "      <th>3</th>\n",
              "      <td>85e44f09a04a79182befcfd55e288a855f633e81</td>\n",
              "      <td>10:28 PM</td>\n",
              "      <td>$9.10</td>\n",
              "      <td>Goldenrod</td>\n",
              "      <td>XS</td>\n",
              "      <td>NaN</td>\n",
              "    </tr>\n",
              "    <tr>\n",
              "      <th>4</th>\n",
              "      <td>ff750bfca4910cfa7f538fbe5463457839021680</td>\n",
              "      <td>6:38 AM</td>\n",
              "      <td>$8.22</td>\n",
              "      <td>NaN</td>\n",
              "      <td>2XL</td>\n",
              "      <td>used</td>\n",
              "    </tr>\n",
              "  </tbody>\n",
              "</table>\n",
              "</div>"
            ],
            "text/plain": [
              "                                      tx id      time  ... shirt size   condition\n",
              "0  8dbf3cfa48b25f32e300f279bb4163c67d5c60cd   3:36 PM  ...          S        used\n",
              "1  8ccebfdb1a41830bdcc0e926531f3215986b3a90   9:03 AM  ...          L  never worn\n",
              "2  ae85a421a91cec8baf16ff1e45fb3e239130b584   7:42 PM  ...          L        used\n",
              "3  85e44f09a04a79182befcfd55e288a855f633e81  10:28 PM  ...         XS         NaN\n",
              "4  ff750bfca4910cfa7f538fbe5463457839021680   6:38 AM  ...        2XL        used\n",
              "\n",
              "[5 rows x 6 columns]"
            ]
          },
          "metadata": {
            "tags": []
          },
          "execution_count": 4
        }
      ]
    },
    {
      "cell_type": "code",
      "metadata": {
        "id": "tA8PBO1VlpHa"
      },
      "source": [
        "df1.to_csv('vintage-auctions.csv')"
      ],
      "execution_count": 5,
      "outputs": []
    },
    {
      "cell_type": "code",
      "metadata": {
        "colab": {
          "base_uri": "https://localhost:8080/"
        },
        "id": "1M0f0BZpyiLi",
        "outputId": "56f2c6a5-0af3-41e2-d5dc-a2b712298228"
      },
      "source": [
        "df1.dtypes"
      ],
      "execution_count": null,
      "outputs": [
        {
          "output_type": "execute_result",
          "data": {
            "text/plain": [
              "tx id         object\n",
              "time          object\n",
              "auction       object\n",
              "color         object\n",
              "shirt size    object\n",
              "condition     object\n",
              "dtype: object"
            ]
          },
          "metadata": {
            "tags": []
          },
          "execution_count": 76
        }
      ]
    },
    {
      "cell_type": "code",
      "metadata": {
        "colab": {
          "base_uri": "https://localhost:8080/",
          "height": 202
        },
        "id": "MT3MV-5stahf",
        "outputId": "fd526483-2c97-4a81-9975-c0a6d23d6dc6"
      },
      "source": [
        "df1.tail()"
      ],
      "execution_count": null,
      "outputs": [
        {
          "output_type": "execute_result",
          "data": {
            "text/html": [
              "<div>\n",
              "<style scoped>\n",
              "    .dataframe tbody tr th:only-of-type {\n",
              "        vertical-align: middle;\n",
              "    }\n",
              "\n",
              "    .dataframe tbody tr th {\n",
              "        vertical-align: top;\n",
              "    }\n",
              "\n",
              "    .dataframe thead th {\n",
              "        text-align: right;\n",
              "    }\n",
              "</style>\n",
              "<table border=\"1\" class=\"dataframe\">\n",
              "  <thead>\n",
              "    <tr style=\"text-align: right;\">\n",
              "      <th></th>\n",
              "      <th>tx id</th>\n",
              "      <th>time</th>\n",
              "      <th>auction</th>\n",
              "      <th>color</th>\n",
              "      <th>shirt size</th>\n",
              "      <th>condition</th>\n",
              "    </tr>\n",
              "  </thead>\n",
              "  <tbody>\n",
              "    <tr>\n",
              "      <th>995</th>\n",
              "      <td>6fa16b110f53367cf15e6e1dcffdcb4c2653f1ab</td>\n",
              "      <td>9:56 AM</td>\n",
              "      <td>$5.79</td>\n",
              "      <td>Violet</td>\n",
              "      <td>2XL</td>\n",
              "      <td>NaN</td>\n",
              "    </tr>\n",
              "    <tr>\n",
              "      <th>996</th>\n",
              "      <td>2b7b6cbc2224502c7137262575e97a450b336fc2</td>\n",
              "      <td>11:31 AM</td>\n",
              "      <td>$14.07</td>\n",
              "      <td>Purple</td>\n",
              "      <td>S</td>\n",
              "      <td>Used</td>\n",
              "    </tr>\n",
              "    <tr>\n",
              "      <th>997</th>\n",
              "      <td>7f2a5141de8a7f752f8f98722393ffa3b0fb1e7a</td>\n",
              "      <td>6:25 AM</td>\n",
              "      <td>$17.63</td>\n",
              "      <td>Yellow</td>\n",
              "      <td>XS</td>\n",
              "      <td>used</td>\n",
              "    </tr>\n",
              "    <tr>\n",
              "      <th>998</th>\n",
              "      <td>c4549687dee4d3061fd3c82433367bea083d4d05</td>\n",
              "      <td>2:22 AM</td>\n",
              "      <td>$17.00</td>\n",
              "      <td>Yellow</td>\n",
              "      <td>L</td>\n",
              "      <td>Used</td>\n",
              "    </tr>\n",
              "    <tr>\n",
              "      <th>999</th>\n",
              "      <td>abf227d09fe37b3e333b419e0854c6c2fd1caa50</td>\n",
              "      <td>7:47 PM</td>\n",
              "      <td>$17.05</td>\n",
              "      <td>Indigo</td>\n",
              "      <td>XL</td>\n",
              "      <td>used</td>\n",
              "    </tr>\n",
              "  </tbody>\n",
              "</table>\n",
              "</div>"
            ],
            "text/plain": [
              "                                        tx id      time  ... shirt size condition\n",
              "995  6fa16b110f53367cf15e6e1dcffdcb4c2653f1ab   9:56 AM  ...        2XL       NaN\n",
              "996  2b7b6cbc2224502c7137262575e97a450b336fc2  11:31 AM  ...          S      Used\n",
              "997  7f2a5141de8a7f752f8f98722393ffa3b0fb1e7a   6:25 AM  ...         XS      used\n",
              "998  c4549687dee4d3061fd3c82433367bea083d4d05   2:22 AM  ...          L      Used\n",
              "999  abf227d09fe37b3e333b419e0854c6c2fd1caa50   7:47 PM  ...         XL      used\n",
              "\n",
              "[5 rows x 6 columns]"
            ]
          },
          "metadata": {
            "tags": []
          },
          "execution_count": 77
        }
      ]
    },
    {
      "cell_type": "markdown",
      "metadata": {
        "id": "LYux7pjNtulS"
      },
      "source": [
        "### Ennoncé :\r\n",
        "#### Extraire les prix de la colonne action\r\n",
        "#### Créer une colonne time_cat contenant 6 categories\r\n",
        "##### 1. Nuit 1h--6h29\r\n",
        "##### 2. Matin 6h30--11h59\r\n",
        "##### 3. Midi 12h--13h59\r\n",
        "##### 4. Après midi 14h--17h59\r\n",
        "##### 5. Afterwork 18h--20h59\r\n",
        "##### 6. Soir 21h--00h59\r\n",
        "#### Encoder toures les variables categorielles \r\n",
        "#### Droper les colonnes time, tx_id et toutes les colonnes redondantes\r\n",
        "#### Split train/test/valid, stratifié par rapport à la colonne time_cat\r\n",
        "#### Isoler la variable cible qui est le montant de l'auction \r\n",
        "#### Sauvegarder les trois dataset dans 3 csv "
      ]
    },
    {
      "cell_type": "code",
      "metadata": {
        "id": "Hym3A0TutfiY"
      },
      "source": [
        ""
      ],
      "execution_count": null,
      "outputs": []
    },
    {
      "cell_type": "code",
      "metadata": {
        "id": "l50FYBk3tfUb"
      },
      "source": [
        ""
      ],
      "execution_count": null,
      "outputs": []
    },
    {
      "cell_type": "code",
      "metadata": {
        "id": "StYx8F6DtfAd"
      },
      "source": [
        ""
      ],
      "execution_count": null,
      "outputs": []
    },
    {
      "cell_type": "code",
      "metadata": {
        "id": "L2azju-CteOv"
      },
      "source": [
        ""
      ],
      "execution_count": null,
      "outputs": []
    },
    {
      "cell_type": "code",
      "metadata": {
        "colab": {
          "base_uri": "https://localhost:8080/",
          "height": 219
        },
        "id": "5z3cJrbporvv",
        "outputId": "38f9d341-e6cd-487d-ae5a-747eafd6d45a"
      },
      "source": [
        "import pandas as pd\r\n",
        "\r\n",
        "data2='https://bit.ly/diamonds-data'\r\n",
        "print(data2)\r\n",
        "\r\n",
        "df2=pd.read_csv(data2,index_col=0)\r\n",
        "df2.head()"
      ],
      "execution_count": 52,
      "outputs": [
        {
          "output_type": "stream",
          "text": [
            "https://bit.ly/diamonds-data\n"
          ],
          "name": "stdout"
        },
        {
          "output_type": "execute_result",
          "data": {
            "text/html": [
              "<div>\n",
              "<style scoped>\n",
              "    .dataframe tbody tr th:only-of-type {\n",
              "        vertical-align: middle;\n",
              "    }\n",
              "\n",
              "    .dataframe tbody tr th {\n",
              "        vertical-align: top;\n",
              "    }\n",
              "\n",
              "    .dataframe thead th {\n",
              "        text-align: right;\n",
              "    }\n",
              "</style>\n",
              "<table border=\"1\" class=\"dataframe\">\n",
              "  <thead>\n",
              "    <tr style=\"text-align: right;\">\n",
              "      <th></th>\n",
              "      <th>carat</th>\n",
              "      <th>cut</th>\n",
              "      <th>color</th>\n",
              "      <th>clarity</th>\n",
              "      <th>depth</th>\n",
              "      <th>table</th>\n",
              "      <th>price</th>\n",
              "      <th>x</th>\n",
              "      <th>y</th>\n",
              "      <th>z</th>\n",
              "    </tr>\n",
              "  </thead>\n",
              "  <tbody>\n",
              "    <tr>\n",
              "      <th>1</th>\n",
              "      <td>0.23</td>\n",
              "      <td>Ideal</td>\n",
              "      <td>E</td>\n",
              "      <td>SI2</td>\n",
              "      <td>61.5</td>\n",
              "      <td>55.0</td>\n",
              "      <td>326</td>\n",
              "      <td>3.95</td>\n",
              "      <td>3.98</td>\n",
              "      <td>2.43</td>\n",
              "    </tr>\n",
              "    <tr>\n",
              "      <th>2</th>\n",
              "      <td>0.21</td>\n",
              "      <td>Premium</td>\n",
              "      <td>E</td>\n",
              "      <td>SI1</td>\n",
              "      <td>59.8</td>\n",
              "      <td>61.0</td>\n",
              "      <td>326</td>\n",
              "      <td>3.89</td>\n",
              "      <td>3.84</td>\n",
              "      <td>2.31</td>\n",
              "    </tr>\n",
              "    <tr>\n",
              "      <th>3</th>\n",
              "      <td>0.23</td>\n",
              "      <td>Good</td>\n",
              "      <td>E</td>\n",
              "      <td>VS1</td>\n",
              "      <td>56.9</td>\n",
              "      <td>65.0</td>\n",
              "      <td>327</td>\n",
              "      <td>4.05</td>\n",
              "      <td>4.07</td>\n",
              "      <td>2.31</td>\n",
              "    </tr>\n",
              "    <tr>\n",
              "      <th>4</th>\n",
              "      <td>0.29</td>\n",
              "      <td>Premium</td>\n",
              "      <td>I</td>\n",
              "      <td>VS2</td>\n",
              "      <td>62.4</td>\n",
              "      <td>58.0</td>\n",
              "      <td>334</td>\n",
              "      <td>4.20</td>\n",
              "      <td>4.23</td>\n",
              "      <td>2.63</td>\n",
              "    </tr>\n",
              "    <tr>\n",
              "      <th>5</th>\n",
              "      <td>0.31</td>\n",
              "      <td>Good</td>\n",
              "      <td>J</td>\n",
              "      <td>SI2</td>\n",
              "      <td>63.3</td>\n",
              "      <td>58.0</td>\n",
              "      <td>335</td>\n",
              "      <td>4.34</td>\n",
              "      <td>4.35</td>\n",
              "      <td>2.75</td>\n",
              "    </tr>\n",
              "  </tbody>\n",
              "</table>\n",
              "</div>"
            ],
            "text/plain": [
              "   carat      cut color clarity  depth  table  price     x     y     z\n",
              "1   0.23    Ideal     E     SI2   61.5   55.0    326  3.95  3.98  2.43\n",
              "2   0.21  Premium     E     SI1   59.8   61.0    326  3.89  3.84  2.31\n",
              "3   0.23     Good     E     VS1   56.9   65.0    327  4.05  4.07  2.31\n",
              "4   0.29  Premium     I     VS2   62.4   58.0    334  4.20  4.23  2.63\n",
              "5   0.31     Good     J     SI2   63.3   58.0    335  4.34  4.35  2.75"
            ]
          },
          "metadata": {
            "tags": []
          },
          "execution_count": 52
        }
      ]
    },
    {
      "cell_type": "code",
      "metadata": {
        "id": "FQctXUsfl1Nh"
      },
      "source": [
        "df2.to_csv('diamonds-data.csv')"
      ],
      "execution_count": 53,
      "outputs": []
    },
    {
      "cell_type": "code",
      "metadata": {
        "colab": {
          "base_uri": "https://localhost:8080/",
          "height": 202
        },
        "id": "tawBNoKN9rYD",
        "outputId": "f0f54416-e4cf-4e64-9aee-d62804693a18"
      },
      "source": [
        "df2.tail()"
      ],
      "execution_count": null,
      "outputs": [
        {
          "output_type": "execute_result",
          "data": {
            "text/html": [
              "<div>\n",
              "<style scoped>\n",
              "    .dataframe tbody tr th:only-of-type {\n",
              "        vertical-align: middle;\n",
              "    }\n",
              "\n",
              "    .dataframe tbody tr th {\n",
              "        vertical-align: top;\n",
              "    }\n",
              "\n",
              "    .dataframe thead th {\n",
              "        text-align: right;\n",
              "    }\n",
              "</style>\n",
              "<table border=\"1\" class=\"dataframe\">\n",
              "  <thead>\n",
              "    <tr style=\"text-align: right;\">\n",
              "      <th></th>\n",
              "      <th>carat</th>\n",
              "      <th>cut</th>\n",
              "      <th>color</th>\n",
              "      <th>clarity</th>\n",
              "      <th>depth</th>\n",
              "      <th>table</th>\n",
              "      <th>price</th>\n",
              "      <th>x</th>\n",
              "      <th>y</th>\n",
              "      <th>z</th>\n",
              "    </tr>\n",
              "  </thead>\n",
              "  <tbody>\n",
              "    <tr>\n",
              "      <th>53936</th>\n",
              "      <td>0.72</td>\n",
              "      <td>Ideal</td>\n",
              "      <td>D</td>\n",
              "      <td>SI1</td>\n",
              "      <td>60.8</td>\n",
              "      <td>57.0</td>\n",
              "      <td>2757</td>\n",
              "      <td>5.75</td>\n",
              "      <td>5.76</td>\n",
              "      <td>3.50</td>\n",
              "    </tr>\n",
              "    <tr>\n",
              "      <th>53937</th>\n",
              "      <td>0.72</td>\n",
              "      <td>Good</td>\n",
              "      <td>D</td>\n",
              "      <td>SI1</td>\n",
              "      <td>63.1</td>\n",
              "      <td>55.0</td>\n",
              "      <td>2757</td>\n",
              "      <td>5.69</td>\n",
              "      <td>5.75</td>\n",
              "      <td>3.61</td>\n",
              "    </tr>\n",
              "    <tr>\n",
              "      <th>53938</th>\n",
              "      <td>0.70</td>\n",
              "      <td>Very Good</td>\n",
              "      <td>D</td>\n",
              "      <td>SI1</td>\n",
              "      <td>62.8</td>\n",
              "      <td>60.0</td>\n",
              "      <td>2757</td>\n",
              "      <td>5.66</td>\n",
              "      <td>5.68</td>\n",
              "      <td>3.56</td>\n",
              "    </tr>\n",
              "    <tr>\n",
              "      <th>53939</th>\n",
              "      <td>0.86</td>\n",
              "      <td>Premium</td>\n",
              "      <td>H</td>\n",
              "      <td>SI2</td>\n",
              "      <td>61.0</td>\n",
              "      <td>58.0</td>\n",
              "      <td>2757</td>\n",
              "      <td>6.15</td>\n",
              "      <td>6.12</td>\n",
              "      <td>3.74</td>\n",
              "    </tr>\n",
              "    <tr>\n",
              "      <th>53940</th>\n",
              "      <td>0.75</td>\n",
              "      <td>Ideal</td>\n",
              "      <td>D</td>\n",
              "      <td>SI2</td>\n",
              "      <td>62.2</td>\n",
              "      <td>55.0</td>\n",
              "      <td>2757</td>\n",
              "      <td>5.83</td>\n",
              "      <td>5.87</td>\n",
              "      <td>3.64</td>\n",
              "    </tr>\n",
              "  </tbody>\n",
              "</table>\n",
              "</div>"
            ],
            "text/plain": [
              "       carat        cut color clarity  depth  table  price     x     y     z\n",
              "53936   0.72      Ideal     D     SI1   60.8   57.0   2757  5.75  5.76  3.50\n",
              "53937   0.72       Good     D     SI1   63.1   55.0   2757  5.69  5.75  3.61\n",
              "53938   0.70  Very Good     D     SI1   62.8   60.0   2757  5.66  5.68  3.56\n",
              "53939   0.86    Premium     H     SI2   61.0   58.0   2757  6.15  6.12  3.74\n",
              "53940   0.75      Ideal     D     SI2   62.2   55.0   2757  5.83  5.87  3.64"
            ]
          },
          "metadata": {
            "tags": []
          },
          "execution_count": 8
        }
      ]
    },
    {
      "cell_type": "code",
      "metadata": {
        "colab": {
          "base_uri": "https://localhost:8080/"
        },
        "id": "CNKByd4H9rSZ",
        "outputId": "f1fdafd3-65e4-45eb-b198-81c373f29f45"
      },
      "source": [
        "df2.shape"
      ],
      "execution_count": null,
      "outputs": [
        {
          "output_type": "execute_result",
          "data": {
            "text/plain": [
              "(53940, 10)"
            ]
          },
          "metadata": {
            "tags": []
          },
          "execution_count": 6
        }
      ]
    },
    {
      "cell_type": "code",
      "metadata": {
        "colab": {
          "base_uri": "https://localhost:8080/"
        },
        "id": "9L6jegAn9rJl",
        "outputId": "0336e96f-bbf8-48be-a2bb-36d307c389ad"
      },
      "source": [
        "df2.dtypes"
      ],
      "execution_count": null,
      "outputs": [
        {
          "output_type": "execute_result",
          "data": {
            "text/plain": [
              "carat      float64\n",
              "cut         object\n",
              "color       object\n",
              "clarity     object\n",
              "depth      float64\n",
              "table      float64\n",
              "price        int64\n",
              "x          float64\n",
              "y          float64\n",
              "z          float64\n",
              "dtype: object"
            ]
          },
          "metadata": {
            "tags": []
          },
          "execution_count": 7
        }
      ]
    },
    {
      "cell_type": "code",
      "metadata": {
        "colab": {
          "base_uri": "https://localhost:8080/"
        },
        "id": "q8teDb2T9rBB",
        "outputId": "1402c832-7890-44d6-f835-370a7a7fcacc"
      },
      "source": [
        "df2.isna().sum()"
      ],
      "execution_count": null,
      "outputs": [
        {
          "output_type": "execute_result",
          "data": {
            "text/plain": [
              "carat      0\n",
              "cut        0\n",
              "color      0\n",
              "clarity    0\n",
              "depth      0\n",
              "table      0\n",
              "price      0\n",
              "x          0\n",
              "y          0\n",
              "z          0\n",
              "dtype: int64"
            ]
          },
          "metadata": {
            "tags": []
          },
          "execution_count": 9
        }
      ]
    },
    {
      "cell_type": "code",
      "metadata": {
        "colab": {
          "base_uri": "https://localhost:8080/"
        },
        "id": "yoUnLJL9DbaH",
        "outputId": "164a3454-2a29-4538-afb0-7a6366a87e13"
      },
      "source": [
        "df2.duplicated()"
      ],
      "execution_count": null,
      "outputs": [
        {
          "output_type": "execute_result",
          "data": {
            "text/plain": [
              "1        False\n",
              "2        False\n",
              "3        False\n",
              "4        False\n",
              "5        False\n",
              "         ...  \n",
              "53936    False\n",
              "53937    False\n",
              "53938    False\n",
              "53939    False\n",
              "53940    False\n",
              "Length: 53940, dtype: bool"
            ]
          },
          "metadata": {
            "tags": []
          },
          "execution_count": 17
        }
      ]
    },
    {
      "cell_type": "code",
      "metadata": {
        "colab": {
          "base_uri": "https://localhost:8080/",
          "height": 415
        },
        "id": "POagijR4EdxE",
        "outputId": "c911ab19-da3e-4af2-ea75-7124ff6efe3d"
      },
      "source": [
        "df2[df2.duplicated()]"
      ],
      "execution_count": null,
      "outputs": [
        {
          "output_type": "execute_result",
          "data": {
            "text/html": [
              "<div>\n",
              "<style scoped>\n",
              "    .dataframe tbody tr th:only-of-type {\n",
              "        vertical-align: middle;\n",
              "    }\n",
              "\n",
              "    .dataframe tbody tr th {\n",
              "        vertical-align: top;\n",
              "    }\n",
              "\n",
              "    .dataframe thead th {\n",
              "        text-align: right;\n",
              "    }\n",
              "</style>\n",
              "<table border=\"1\" class=\"dataframe\">\n",
              "  <thead>\n",
              "    <tr style=\"text-align: right;\">\n",
              "      <th></th>\n",
              "      <th>carat</th>\n",
              "      <th>cut</th>\n",
              "      <th>color</th>\n",
              "      <th>clarity</th>\n",
              "      <th>depth</th>\n",
              "      <th>table</th>\n",
              "      <th>price</th>\n",
              "      <th>x</th>\n",
              "      <th>y</th>\n",
              "      <th>z</th>\n",
              "    </tr>\n",
              "  </thead>\n",
              "  <tbody>\n",
              "    <tr>\n",
              "      <th>1006</th>\n",
              "      <td>0.79</td>\n",
              "      <td>Ideal</td>\n",
              "      <td>G</td>\n",
              "      <td>SI1</td>\n",
              "      <td>62.3</td>\n",
              "      <td>57.0</td>\n",
              "      <td>2898</td>\n",
              "      <td>5.90</td>\n",
              "      <td>5.85</td>\n",
              "      <td>3.66</td>\n",
              "    </tr>\n",
              "    <tr>\n",
              "      <th>1007</th>\n",
              "      <td>0.79</td>\n",
              "      <td>Ideal</td>\n",
              "      <td>G</td>\n",
              "      <td>SI1</td>\n",
              "      <td>62.3</td>\n",
              "      <td>57.0</td>\n",
              "      <td>2898</td>\n",
              "      <td>5.90</td>\n",
              "      <td>5.85</td>\n",
              "      <td>3.66</td>\n",
              "    </tr>\n",
              "    <tr>\n",
              "      <th>1008</th>\n",
              "      <td>0.79</td>\n",
              "      <td>Ideal</td>\n",
              "      <td>G</td>\n",
              "      <td>SI1</td>\n",
              "      <td>62.3</td>\n",
              "      <td>57.0</td>\n",
              "      <td>2898</td>\n",
              "      <td>5.90</td>\n",
              "      <td>5.85</td>\n",
              "      <td>3.66</td>\n",
              "    </tr>\n",
              "    <tr>\n",
              "      <th>1009</th>\n",
              "      <td>0.79</td>\n",
              "      <td>Ideal</td>\n",
              "      <td>G</td>\n",
              "      <td>SI1</td>\n",
              "      <td>62.3</td>\n",
              "      <td>57.0</td>\n",
              "      <td>2898</td>\n",
              "      <td>5.90</td>\n",
              "      <td>5.85</td>\n",
              "      <td>3.66</td>\n",
              "    </tr>\n",
              "    <tr>\n",
              "      <th>2026</th>\n",
              "      <td>1.52</td>\n",
              "      <td>Good</td>\n",
              "      <td>E</td>\n",
              "      <td>I1</td>\n",
              "      <td>57.3</td>\n",
              "      <td>58.0</td>\n",
              "      <td>3105</td>\n",
              "      <td>7.53</td>\n",
              "      <td>7.42</td>\n",
              "      <td>4.28</td>\n",
              "    </tr>\n",
              "    <tr>\n",
              "      <th>...</th>\n",
              "      <td>...</td>\n",
              "      <td>...</td>\n",
              "      <td>...</td>\n",
              "      <td>...</td>\n",
              "      <td>...</td>\n",
              "      <td>...</td>\n",
              "      <td>...</td>\n",
              "      <td>...</td>\n",
              "      <td>...</td>\n",
              "      <td>...</td>\n",
              "    </tr>\n",
              "    <tr>\n",
              "      <th>47970</th>\n",
              "      <td>0.52</td>\n",
              "      <td>Ideal</td>\n",
              "      <td>D</td>\n",
              "      <td>VS2</td>\n",
              "      <td>61.8</td>\n",
              "      <td>55.0</td>\n",
              "      <td>1919</td>\n",
              "      <td>5.19</td>\n",
              "      <td>5.16</td>\n",
              "      <td>3.20</td>\n",
              "    </tr>\n",
              "    <tr>\n",
              "      <th>49327</th>\n",
              "      <td>0.51</td>\n",
              "      <td>Ideal</td>\n",
              "      <td>F</td>\n",
              "      <td>VVS2</td>\n",
              "      <td>61.2</td>\n",
              "      <td>56.0</td>\n",
              "      <td>2093</td>\n",
              "      <td>5.17</td>\n",
              "      <td>5.19</td>\n",
              "      <td>3.17</td>\n",
              "    </tr>\n",
              "    <tr>\n",
              "      <th>49558</th>\n",
              "      <td>0.71</td>\n",
              "      <td>Good</td>\n",
              "      <td>F</td>\n",
              "      <td>SI2</td>\n",
              "      <td>64.1</td>\n",
              "      <td>60.0</td>\n",
              "      <td>2130</td>\n",
              "      <td>0.00</td>\n",
              "      <td>0.00</td>\n",
              "      <td>0.00</td>\n",
              "    </tr>\n",
              "    <tr>\n",
              "      <th>50080</th>\n",
              "      <td>0.51</td>\n",
              "      <td>Ideal</td>\n",
              "      <td>F</td>\n",
              "      <td>VVS2</td>\n",
              "      <td>61.2</td>\n",
              "      <td>56.0</td>\n",
              "      <td>2203</td>\n",
              "      <td>5.19</td>\n",
              "      <td>5.17</td>\n",
              "      <td>3.17</td>\n",
              "    </tr>\n",
              "    <tr>\n",
              "      <th>52862</th>\n",
              "      <td>0.50</td>\n",
              "      <td>Fair</td>\n",
              "      <td>E</td>\n",
              "      <td>VS2</td>\n",
              "      <td>79.0</td>\n",
              "      <td>73.0</td>\n",
              "      <td>2579</td>\n",
              "      <td>5.21</td>\n",
              "      <td>5.18</td>\n",
              "      <td>4.09</td>\n",
              "    </tr>\n",
              "  </tbody>\n",
              "</table>\n",
              "<p>146 rows × 10 columns</p>\n",
              "</div>"
            ],
            "text/plain": [
              "       carat    cut color clarity  depth  table  price     x     y     z\n",
              "1006    0.79  Ideal     G     SI1   62.3   57.0   2898  5.90  5.85  3.66\n",
              "1007    0.79  Ideal     G     SI1   62.3   57.0   2898  5.90  5.85  3.66\n",
              "1008    0.79  Ideal     G     SI1   62.3   57.0   2898  5.90  5.85  3.66\n",
              "1009    0.79  Ideal     G     SI1   62.3   57.0   2898  5.90  5.85  3.66\n",
              "2026    1.52   Good     E      I1   57.3   58.0   3105  7.53  7.42  4.28\n",
              "...      ...    ...   ...     ...    ...    ...    ...   ...   ...   ...\n",
              "47970   0.52  Ideal     D     VS2   61.8   55.0   1919  5.19  5.16  3.20\n",
              "49327   0.51  Ideal     F    VVS2   61.2   56.0   2093  5.17  5.19  3.17\n",
              "49558   0.71   Good     F     SI2   64.1   60.0   2130  0.00  0.00  0.00\n",
              "50080   0.51  Ideal     F    VVS2   61.2   56.0   2203  5.19  5.17  3.17\n",
              "52862   0.50   Fair     E     VS2   79.0   73.0   2579  5.21  5.18  4.09\n",
              "\n",
              "[146 rows x 10 columns]"
            ]
          },
          "metadata": {
            "tags": []
          },
          "execution_count": 18
        }
      ]
    },
    {
      "cell_type": "code",
      "metadata": {
        "colab": {
          "base_uri": "https://localhost:8080/"
        },
        "id": "raHA1dOR9q11",
        "outputId": "dd5b5534-8269-469a-ecaf-a617906cab2f"
      },
      "source": [
        "df2.duplicated().sum()"
      ],
      "execution_count": null,
      "outputs": [
        {
          "output_type": "execute_result",
          "data": {
            "text/plain": [
              "146"
            ]
          },
          "metadata": {
            "tags": []
          },
          "execution_count": 11
        }
      ]
    },
    {
      "cell_type": "code",
      "metadata": {
        "colab": {
          "base_uri": "https://localhost:8080/"
        },
        "id": "sRakshzC9qpx",
        "outputId": "b1297d8e-0e01-4469-9168-fcdb62cc4a42"
      },
      "source": [
        "df2[df2.duplicated(subset=['cut','color'],keep=False)].sum()"
      ],
      "execution_count": null,
      "outputs": [
        {
          "output_type": "execute_result",
          "data": {
            "text/plain": [
              "carat                                                43040.9\n",
              "cut        IdealPremiumGoodPremiumGoodVery GoodVery GoodV...\n",
              "color      EEEIJJIHEHJJFJEEIJJJIEHJJGIJDFFFEEDFEHDIIJDDHF...\n",
              "clarity    SI2SI1VS1VS2SI2VVS2VVS1SI1VS2VS1SI1VS1SI1SI2SI...\n",
              "depth                                            3.33076e+06\n",
              "table                                            3.09924e+06\n",
              "price                                              212135217\n",
              "x                                                     309139\n",
              "y                                                     309320\n",
              "z                                                     190879\n",
              "dtype: object"
            ]
          },
          "metadata": {
            "tags": []
          },
          "execution_count": 19
        }
      ]
    },
    {
      "cell_type": "code",
      "metadata": {
        "colab": {
          "base_uri": "https://localhost:8080/"
        },
        "id": "TnjQ6Ef7CCp7",
        "outputId": "a1877818-42ee-47de-eab5-cebd2e3ae5f6"
      },
      "source": [
        "df2.price.nunique()"
      ],
      "execution_count": null,
      "outputs": [
        {
          "output_type": "execute_result",
          "data": {
            "text/plain": [
              "11602"
            ]
          },
          "metadata": {
            "tags": []
          },
          "execution_count": 25
        }
      ]
    },
    {
      "cell_type": "code",
      "metadata": {
        "id": "sZcHC8kZCCd-"
      },
      "source": [
        ""
      ],
      "execution_count": null,
      "outputs": []
    },
    {
      "cell_type": "code",
      "metadata": {
        "id": "Ki16e_o-CCS2"
      },
      "source": [
        ""
      ],
      "execution_count": null,
      "outputs": []
    },
    {
      "cell_type": "code",
      "metadata": {
        "id": "SBJ1at81CCB6"
      },
      "source": [
        ""
      ],
      "execution_count": null,
      "outputs": []
    },
    {
      "cell_type": "code",
      "metadata": {
        "id": "uTQp-fbO9qVA"
      },
      "source": [
        ""
      ],
      "execution_count": null,
      "outputs": []
    },
    {
      "cell_type": "code",
      "metadata": {
        "id": "-fD-KTtc9mIL"
      },
      "source": [
        ""
      ],
      "execution_count": null,
      "outputs": []
    },
    {
      "cell_type": "code",
      "metadata": {
        "colab": {
          "base_uri": "https://localhost:8080/",
          "height": 250
        },
        "id": "TswFDhm2o9Su",
        "outputId": "a50cbbf4-b4a3-47b0-fa83-20b8d2b7778d"
      },
      "source": [
        "import pandas as pd\r\n",
        "\r\n",
        "data3='https://bit.ly/titanic-train-set'\r\n",
        "print(data3)\r\n",
        "\r\n",
        "df3=pd.read_csv(data3,index_col=0)\r\n",
        "df3.head()"
      ],
      "execution_count": null,
      "outputs": [
        {
          "output_type": "stream",
          "text": [
            "https://bit.ly/titanic-train-set\n"
          ],
          "name": "stdout"
        },
        {
          "output_type": "execute_result",
          "data": {
            "text/html": [
              "<div>\n",
              "<style scoped>\n",
              "    .dataframe tbody tr th:only-of-type {\n",
              "        vertical-align: middle;\n",
              "    }\n",
              "\n",
              "    .dataframe tbody tr th {\n",
              "        vertical-align: top;\n",
              "    }\n",
              "\n",
              "    .dataframe thead th {\n",
              "        text-align: right;\n",
              "    }\n",
              "</style>\n",
              "<table border=\"1\" class=\"dataframe\">\n",
              "  <thead>\n",
              "    <tr style=\"text-align: right;\">\n",
              "      <th></th>\n",
              "      <th>Survived</th>\n",
              "      <th>Pclass</th>\n",
              "      <th>Name</th>\n",
              "      <th>Sex</th>\n",
              "      <th>Age</th>\n",
              "      <th>SibSp</th>\n",
              "      <th>Parch</th>\n",
              "      <th>Ticket</th>\n",
              "      <th>Fare</th>\n",
              "      <th>Cabin</th>\n",
              "      <th>Embarked</th>\n",
              "    </tr>\n",
              "    <tr>\n",
              "      <th>PassengerId</th>\n",
              "      <th></th>\n",
              "      <th></th>\n",
              "      <th></th>\n",
              "      <th></th>\n",
              "      <th></th>\n",
              "      <th></th>\n",
              "      <th></th>\n",
              "      <th></th>\n",
              "      <th></th>\n",
              "      <th></th>\n",
              "      <th></th>\n",
              "    </tr>\n",
              "  </thead>\n",
              "  <tbody>\n",
              "    <tr>\n",
              "      <th>1</th>\n",
              "      <td>0</td>\n",
              "      <td>3</td>\n",
              "      <td>Braund, Mr. Owen Harris</td>\n",
              "      <td>male</td>\n",
              "      <td>22.0</td>\n",
              "      <td>1</td>\n",
              "      <td>0</td>\n",
              "      <td>A/5 21171</td>\n",
              "      <td>7.2500</td>\n",
              "      <td>NaN</td>\n",
              "      <td>S</td>\n",
              "    </tr>\n",
              "    <tr>\n",
              "      <th>2</th>\n",
              "      <td>1</td>\n",
              "      <td>1</td>\n",
              "      <td>Cumings, Mrs. John Bradley (Florence Briggs Th...</td>\n",
              "      <td>female</td>\n",
              "      <td>38.0</td>\n",
              "      <td>1</td>\n",
              "      <td>0</td>\n",
              "      <td>PC 17599</td>\n",
              "      <td>71.2833</td>\n",
              "      <td>C85</td>\n",
              "      <td>C</td>\n",
              "    </tr>\n",
              "    <tr>\n",
              "      <th>3</th>\n",
              "      <td>1</td>\n",
              "      <td>3</td>\n",
              "      <td>Heikkinen, Miss. Laina</td>\n",
              "      <td>female</td>\n",
              "      <td>26.0</td>\n",
              "      <td>0</td>\n",
              "      <td>0</td>\n",
              "      <td>STON/O2. 3101282</td>\n",
              "      <td>7.9250</td>\n",
              "      <td>NaN</td>\n",
              "      <td>S</td>\n",
              "    </tr>\n",
              "    <tr>\n",
              "      <th>4</th>\n",
              "      <td>1</td>\n",
              "      <td>1</td>\n",
              "      <td>Futrelle, Mrs. Jacques Heath (Lily May Peel)</td>\n",
              "      <td>female</td>\n",
              "      <td>35.0</td>\n",
              "      <td>1</td>\n",
              "      <td>0</td>\n",
              "      <td>113803</td>\n",
              "      <td>53.1000</td>\n",
              "      <td>C123</td>\n",
              "      <td>S</td>\n",
              "    </tr>\n",
              "    <tr>\n",
              "      <th>5</th>\n",
              "      <td>0</td>\n",
              "      <td>3</td>\n",
              "      <td>Allen, Mr. William Henry</td>\n",
              "      <td>male</td>\n",
              "      <td>35.0</td>\n",
              "      <td>0</td>\n",
              "      <td>0</td>\n",
              "      <td>373450</td>\n",
              "      <td>8.0500</td>\n",
              "      <td>NaN</td>\n",
              "      <td>S</td>\n",
              "    </tr>\n",
              "  </tbody>\n",
              "</table>\n",
              "</div>"
            ],
            "text/plain": [
              "             Survived  Pclass  ... Cabin Embarked\n",
              "PassengerId                    ...               \n",
              "1                   0       3  ...   NaN        S\n",
              "2                   1       1  ...   C85        C\n",
              "3                   1       3  ...   NaN        S\n",
              "4                   1       1  ...  C123        S\n",
              "5                   0       3  ...   NaN        S\n",
              "\n",
              "[5 rows x 11 columns]"
            ]
          },
          "metadata": {
            "tags": []
          },
          "execution_count": 110
        }
      ]
    },
    {
      "cell_type": "code",
      "metadata": {
        "id": "knP2Gk_2mD_h"
      },
      "source": [
        "df3.to_csv('titanic-train.csv')"
      ],
      "execution_count": null,
      "outputs": []
    },
    {
      "cell_type": "code",
      "metadata": {
        "colab": {
          "base_uri": "https://localhost:8080/",
          "height": 250
        },
        "id": "ZuxGxeMLqrUZ",
        "outputId": "a3de0e21-6fb3-4a35-efe6-0453b4ec4787"
      },
      "source": [
        "import pandas as pd\r\n",
        "\r\n",
        "data4='https://bit.ly/titanic-test-set'\r\n",
        "print(data4)\r\n",
        "\r\n",
        "df4=pd.read_csv(data4,index_col=0)\r\n",
        "df4.head()"
      ],
      "execution_count": null,
      "outputs": [
        {
          "output_type": "stream",
          "text": [
            "https://bit.ly/titanic-test-set\n"
          ],
          "name": "stdout"
        },
        {
          "output_type": "execute_result",
          "data": {
            "text/html": [
              "<div>\n",
              "<style scoped>\n",
              "    .dataframe tbody tr th:only-of-type {\n",
              "        vertical-align: middle;\n",
              "    }\n",
              "\n",
              "    .dataframe tbody tr th {\n",
              "        vertical-align: top;\n",
              "    }\n",
              "\n",
              "    .dataframe thead th {\n",
              "        text-align: right;\n",
              "    }\n",
              "</style>\n",
              "<table border=\"1\" class=\"dataframe\">\n",
              "  <thead>\n",
              "    <tr style=\"text-align: right;\">\n",
              "      <th></th>\n",
              "      <th>Pclass</th>\n",
              "      <th>Name</th>\n",
              "      <th>Sex</th>\n",
              "      <th>Age</th>\n",
              "      <th>SibSp</th>\n",
              "      <th>Parch</th>\n",
              "      <th>Ticket</th>\n",
              "      <th>Fare</th>\n",
              "      <th>Cabin</th>\n",
              "      <th>Embarked</th>\n",
              "    </tr>\n",
              "    <tr>\n",
              "      <th>PassengerId</th>\n",
              "      <th></th>\n",
              "      <th></th>\n",
              "      <th></th>\n",
              "      <th></th>\n",
              "      <th></th>\n",
              "      <th></th>\n",
              "      <th></th>\n",
              "      <th></th>\n",
              "      <th></th>\n",
              "      <th></th>\n",
              "    </tr>\n",
              "  </thead>\n",
              "  <tbody>\n",
              "    <tr>\n",
              "      <th>892</th>\n",
              "      <td>3</td>\n",
              "      <td>Kelly, Mr. James</td>\n",
              "      <td>male</td>\n",
              "      <td>34.5</td>\n",
              "      <td>0</td>\n",
              "      <td>0</td>\n",
              "      <td>330911</td>\n",
              "      <td>7.8292</td>\n",
              "      <td>NaN</td>\n",
              "      <td>Q</td>\n",
              "    </tr>\n",
              "    <tr>\n",
              "      <th>893</th>\n",
              "      <td>3</td>\n",
              "      <td>Wilkes, Mrs. James (Ellen Needs)</td>\n",
              "      <td>female</td>\n",
              "      <td>47.0</td>\n",
              "      <td>1</td>\n",
              "      <td>0</td>\n",
              "      <td>363272</td>\n",
              "      <td>7.0000</td>\n",
              "      <td>NaN</td>\n",
              "      <td>S</td>\n",
              "    </tr>\n",
              "    <tr>\n",
              "      <th>894</th>\n",
              "      <td>2</td>\n",
              "      <td>Myles, Mr. Thomas Francis</td>\n",
              "      <td>male</td>\n",
              "      <td>62.0</td>\n",
              "      <td>0</td>\n",
              "      <td>0</td>\n",
              "      <td>240276</td>\n",
              "      <td>9.6875</td>\n",
              "      <td>NaN</td>\n",
              "      <td>Q</td>\n",
              "    </tr>\n",
              "    <tr>\n",
              "      <th>895</th>\n",
              "      <td>3</td>\n",
              "      <td>Wirz, Mr. Albert</td>\n",
              "      <td>male</td>\n",
              "      <td>27.0</td>\n",
              "      <td>0</td>\n",
              "      <td>0</td>\n",
              "      <td>315154</td>\n",
              "      <td>8.6625</td>\n",
              "      <td>NaN</td>\n",
              "      <td>S</td>\n",
              "    </tr>\n",
              "    <tr>\n",
              "      <th>896</th>\n",
              "      <td>3</td>\n",
              "      <td>Hirvonen, Mrs. Alexander (Helga E Lindqvist)</td>\n",
              "      <td>female</td>\n",
              "      <td>22.0</td>\n",
              "      <td>1</td>\n",
              "      <td>1</td>\n",
              "      <td>3101298</td>\n",
              "      <td>12.2875</td>\n",
              "      <td>NaN</td>\n",
              "      <td>S</td>\n",
              "    </tr>\n",
              "  </tbody>\n",
              "</table>\n",
              "</div>"
            ],
            "text/plain": [
              "             Pclass  ... Embarked\n",
              "PassengerId          ...         \n",
              "892               3  ...        Q\n",
              "893               3  ...        S\n",
              "894               2  ...        Q\n",
              "895               3  ...        S\n",
              "896               3  ...        S\n",
              "\n",
              "[5 rows x 10 columns]"
            ]
          },
          "metadata": {
            "tags": []
          },
          "execution_count": 112
        }
      ]
    },
    {
      "cell_type": "code",
      "metadata": {
        "id": "l5_GLF7Tntk1"
      },
      "source": [
        "df4.to_csv('titanic_test.csv')"
      ],
      "execution_count": null,
      "outputs": []
    },
    {
      "cell_type": "code",
      "metadata": {
        "colab": {
          "base_uri": "https://localhost:8080/"
        },
        "id": "uQo2TPZOq4OR",
        "outputId": "64f9ec19-1619-4fcf-987d-df06a11e7711"
      },
      "source": [
        "df3.isna().sum()"
      ],
      "execution_count": null,
      "outputs": [
        {
          "output_type": "execute_result",
          "data": {
            "text/plain": [
              "Survived      0\n",
              "Pclass        0\n",
              "Name          0\n",
              "Sex           0\n",
              "Age         177\n",
              "SibSp         0\n",
              "Parch         0\n",
              "Ticket        0\n",
              "Fare          0\n",
              "Cabin       687\n",
              "Embarked      2\n",
              "dtype: int64"
            ]
          },
          "metadata": {
            "tags": []
          },
          "execution_count": 30
        }
      ]
    },
    {
      "cell_type": "code",
      "metadata": {
        "colab": {
          "base_uri": "https://localhost:8080/"
        },
        "id": "lZE-zOLYJm5r",
        "outputId": "877dd74c-50e3-4eb2-d02d-19640aabac2a"
      },
      "source": [
        "df4.isna().sum()"
      ],
      "execution_count": null,
      "outputs": [
        {
          "output_type": "execute_result",
          "data": {
            "text/plain": [
              "Pclass        0\n",
              "Name          0\n",
              "Sex           0\n",
              "Age          86\n",
              "SibSp         0\n",
              "Parch         0\n",
              "Ticket        0\n",
              "Fare          1\n",
              "Cabin       327\n",
              "Embarked      0\n",
              "dtype: int64"
            ]
          },
          "metadata": {
            "tags": []
          },
          "execution_count": 32
        }
      ]
    },
    {
      "cell_type": "code",
      "metadata": {
        "colab": {
          "base_uri": "https://localhost:8080/"
        },
        "id": "c4CTISU6Jx9s",
        "outputId": "c06e7d05-74a5-42c4-98f1-57954ca9dcfe"
      },
      "source": [
        "df3.duplicated().sum(),df4.duplicated().sum()"
      ],
      "execution_count": null,
      "outputs": [
        {
          "output_type": "execute_result",
          "data": {
            "text/plain": [
              "(0, 0)"
            ]
          },
          "metadata": {
            "tags": []
          },
          "execution_count": 33
        }
      ]
    },
    {
      "cell_type": "code",
      "metadata": {
        "colab": {
          "base_uri": "https://localhost:8080/"
        },
        "id": "Mj9zTHbnKonh",
        "outputId": "71e73925-d44d-445f-de03-faf14f2e6183"
      },
      "source": [
        "df3.dtypes"
      ],
      "execution_count": null,
      "outputs": [
        {
          "output_type": "execute_result",
          "data": {
            "text/plain": [
              "Survived      int64\n",
              "Pclass        int64\n",
              "Name         object\n",
              "Sex          object\n",
              "Age         float64\n",
              "SibSp         int64\n",
              "Parch         int64\n",
              "Ticket       object\n",
              "Fare        float64\n",
              "Cabin        object\n",
              "Embarked     object\n",
              "dtype: object"
            ]
          },
          "metadata": {
            "tags": []
          },
          "execution_count": 38
        }
      ]
    },
    {
      "cell_type": "code",
      "metadata": {
        "colab": {
          "base_uri": "https://localhost:8080/"
        },
        "id": "Tkizl7pvK5zO",
        "outputId": "5b26544e-421b-4a25-8747-ea4715791e4c"
      },
      "source": [
        "df4.dtypes"
      ],
      "execution_count": null,
      "outputs": [
        {
          "output_type": "execute_result",
          "data": {
            "text/plain": [
              "Pclass        int64\n",
              "Name         object\n",
              "Sex          object\n",
              "Age         float64\n",
              "SibSp         int64\n",
              "Parch         int64\n",
              "Ticket       object\n",
              "Fare        float64\n",
              "Cabin        object\n",
              "Embarked     object\n",
              "dtype: object"
            ]
          },
          "metadata": {
            "tags": []
          },
          "execution_count": 35
        }
      ]
    },
    {
      "cell_type": "code",
      "metadata": {
        "id": "zkDXo27OK9ZL"
      },
      "source": [
        ""
      ],
      "execution_count": null,
      "outputs": []
    },
    {
      "cell_type": "code",
      "metadata": {
        "id": "rPaxS_4BL-6Z"
      },
      "source": [
        ""
      ],
      "execution_count": null,
      "outputs": []
    },
    {
      "cell_type": "code",
      "metadata": {
        "id": "_3Cl4KkPL-vE"
      },
      "source": [
        ""
      ],
      "execution_count": null,
      "outputs": []
    },
    {
      "cell_type": "code",
      "metadata": {
        "id": "ujpGoUxjL-h3"
      },
      "source": [
        ""
      ],
      "execution_count": null,
      "outputs": []
    },
    {
      "cell_type": "markdown",
      "metadata": {
        "id": "kpOEf_YdMAe5"
      },
      "source": [
        "# Convertir des string en nombre"
      ]
    },
    {
      "cell_type": "code",
      "metadata": {
        "id": "POTQb1XLMG3e"
      },
      "source": [
        "import random\r\n",
        "\r\n",
        "def makeNumberStr(sep=['.']):\r\n",
        "  AvantVirgule=str(random.randint(1,1000))\r\n",
        "  #Pour que les nombres à un chiffre s'affichent avec \r\n",
        "  #~ex:'1' -> '01' (cf. string formating)\r\n",
        "  AprèsVirgule='{:02}'.format(random.randint(0,99))\r\n",
        "  sep=random.choice(sep)\r\n",
        "  return AvantVirgule + sep + AprèsVirgule\r\n",
        "\r\n",
        "col1=[makeNumberStr() for _ in range(200)]\r\n",
        "col2=[makeNumberStr(['.',',']) for _ in range(200)]\r\n",
        "\r\n",
        "exo1=pd.DataFrame(data={'col 1':col1,\r\n",
        "                        'col 2':col2})\r\n",
        "\r\n"
      ],
      "execution_count": 115,
      "outputs": []
    },
    {
      "cell_type": "code",
      "metadata": {
        "colab": {
          "base_uri": "https://localhost:8080/"
        },
        "id": "pvlrbA3RRKGD",
        "outputId": "8fd6e79b-89b1-410a-97bb-9c55e5969c53"
      },
      "source": [
        "exo1.dtypes"
      ],
      "execution_count": 116,
      "outputs": [
        {
          "output_type": "execute_result",
          "data": {
            "text/plain": [
              "col 1    object\n",
              "col 2    object\n",
              "dtype: object"
            ]
          },
          "metadata": {
            "tags": []
          },
          "execution_count": 116
        }
      ]
    },
    {
      "cell_type": "code",
      "metadata": {
        "colab": {
          "base_uri": "https://localhost:8080/",
          "height": 202
        },
        "id": "cwP7o4BRTYMB",
        "outputId": "4992f03a-962f-43fb-be3d-3e7d16b11e70"
      },
      "source": [
        "exo1.head()"
      ],
      "execution_count": 117,
      "outputs": [
        {
          "output_type": "execute_result",
          "data": {
            "text/html": [
              "<div>\n",
              "<style scoped>\n",
              "    .dataframe tbody tr th:only-of-type {\n",
              "        vertical-align: middle;\n",
              "    }\n",
              "\n",
              "    .dataframe tbody tr th {\n",
              "        vertical-align: top;\n",
              "    }\n",
              "\n",
              "    .dataframe thead th {\n",
              "        text-align: right;\n",
              "    }\n",
              "</style>\n",
              "<table border=\"1\" class=\"dataframe\">\n",
              "  <thead>\n",
              "    <tr style=\"text-align: right;\">\n",
              "      <th></th>\n",
              "      <th>col 1</th>\n",
              "      <th>col 2</th>\n",
              "    </tr>\n",
              "  </thead>\n",
              "  <tbody>\n",
              "    <tr>\n",
              "      <th>0</th>\n",
              "      <td>993.05</td>\n",
              "      <td>40,63</td>\n",
              "    </tr>\n",
              "    <tr>\n",
              "      <th>1</th>\n",
              "      <td>381.26</td>\n",
              "      <td>541,89</td>\n",
              "    </tr>\n",
              "    <tr>\n",
              "      <th>2</th>\n",
              "      <td>517.86</td>\n",
              "      <td>794,25</td>\n",
              "    </tr>\n",
              "    <tr>\n",
              "      <th>3</th>\n",
              "      <td>229.09</td>\n",
              "      <td>468.96</td>\n",
              "    </tr>\n",
              "    <tr>\n",
              "      <th>4</th>\n",
              "      <td>265.79</td>\n",
              "      <td>283.84</td>\n",
              "    </tr>\n",
              "  </tbody>\n",
              "</table>\n",
              "</div>"
            ],
            "text/plain": [
              "    col 1   col 2\n",
              "0  993.05   40,63\n",
              "1  381.26  541,89\n",
              "2  517.86  794,25\n",
              "3  229.09  468.96\n",
              "4  265.79  283.84"
            ]
          },
          "metadata": {
            "tags": []
          },
          "execution_count": 117
        }
      ]
    },
    {
      "cell_type": "code",
      "metadata": {
        "colab": {
          "base_uri": "https://localhost:8080/"
        },
        "id": "k_liXS8FTcEl",
        "outputId": "0dfecee5-f967-46a4-9642-5596611b6c4f"
      },
      "source": [
        "exo1['col 1'].astype(float).head()"
      ],
      "execution_count": 118,
      "outputs": [
        {
          "output_type": "execute_result",
          "data": {
            "text/plain": [
              "0    993.05\n",
              "1    381.26\n",
              "2    517.86\n",
              "3    229.09\n",
              "4    265.79\n",
              "Name: col 1, dtype: float64"
            ]
          },
          "metadata": {
            "tags": []
          },
          "execution_count": 118
        }
      ]
    },
    {
      "cell_type": "code",
      "metadata": {
        "colab": {
          "base_uri": "https://localhost:8080/",
          "height": 311
        },
        "id": "K097cK8iTwXS",
        "outputId": "70a4d2d2-2b5d-4825-dde0-898e1ccbb1f1"
      },
      "source": [
        "exo1['col 2'].astype(float).head()"
      ],
      "execution_count": 119,
      "outputs": [
        {
          "output_type": "error",
          "ename": "ValueError",
          "evalue": "ignored",
          "traceback": [
            "\u001b[0;31m---------------------------------------------------------------------------\u001b[0m",
            "\u001b[0;31mValueError\u001b[0m                                Traceback (most recent call last)",
            "\u001b[0;32m<ipython-input-119-7b5170b93173>\u001b[0m in \u001b[0;36m<module>\u001b[0;34m()\u001b[0m\n\u001b[0;32m----> 1\u001b[0;31m \u001b[0mexo1\u001b[0m\u001b[0;34m[\u001b[0m\u001b[0;34m'col 2'\u001b[0m\u001b[0;34m]\u001b[0m\u001b[0;34m.\u001b[0m\u001b[0mastype\u001b[0m\u001b[0;34m(\u001b[0m\u001b[0mfloat\u001b[0m\u001b[0;34m)\u001b[0m\u001b[0;34m.\u001b[0m\u001b[0mhead\u001b[0m\u001b[0;34m(\u001b[0m\u001b[0;34m)\u001b[0m\u001b[0;34m\u001b[0m\u001b[0;34m\u001b[0m\u001b[0m\n\u001b[0m",
            "\u001b[0;32m/usr/local/lib/python3.6/dist-packages/pandas/core/generic.py\u001b[0m in \u001b[0;36mastype\u001b[0;34m(self, dtype, copy, errors)\u001b[0m\n\u001b[1;32m   5546\u001b[0m         \u001b[0;32melse\u001b[0m\u001b[0;34m:\u001b[0m\u001b[0;34m\u001b[0m\u001b[0;34m\u001b[0m\u001b[0m\n\u001b[1;32m   5547\u001b[0m             \u001b[0;31m# else, only a single dtype is given\u001b[0m\u001b[0;34m\u001b[0m\u001b[0;34m\u001b[0m\u001b[0;34m\u001b[0m\u001b[0m\n\u001b[0;32m-> 5548\u001b[0;31m             \u001b[0mnew_data\u001b[0m \u001b[0;34m=\u001b[0m \u001b[0mself\u001b[0m\u001b[0;34m.\u001b[0m\u001b[0m_mgr\u001b[0m\u001b[0;34m.\u001b[0m\u001b[0mastype\u001b[0m\u001b[0;34m(\u001b[0m\u001b[0mdtype\u001b[0m\u001b[0;34m=\u001b[0m\u001b[0mdtype\u001b[0m\u001b[0;34m,\u001b[0m \u001b[0mcopy\u001b[0m\u001b[0;34m=\u001b[0m\u001b[0mcopy\u001b[0m\u001b[0;34m,\u001b[0m \u001b[0merrors\u001b[0m\u001b[0;34m=\u001b[0m\u001b[0merrors\u001b[0m\u001b[0;34m,\u001b[0m\u001b[0;34m)\u001b[0m\u001b[0;34m\u001b[0m\u001b[0;34m\u001b[0m\u001b[0m\n\u001b[0m\u001b[1;32m   5549\u001b[0m             \u001b[0;32mreturn\u001b[0m \u001b[0mself\u001b[0m\u001b[0;34m.\u001b[0m\u001b[0m_constructor\u001b[0m\u001b[0;34m(\u001b[0m\u001b[0mnew_data\u001b[0m\u001b[0;34m)\u001b[0m\u001b[0;34m.\u001b[0m\u001b[0m__finalize__\u001b[0m\u001b[0;34m(\u001b[0m\u001b[0mself\u001b[0m\u001b[0;34m,\u001b[0m \u001b[0mmethod\u001b[0m\u001b[0;34m=\u001b[0m\u001b[0;34m\"astype\"\u001b[0m\u001b[0;34m)\u001b[0m\u001b[0;34m\u001b[0m\u001b[0;34m\u001b[0m\u001b[0m\n\u001b[1;32m   5550\u001b[0m \u001b[0;34m\u001b[0m\u001b[0m\n",
            "\u001b[0;32m/usr/local/lib/python3.6/dist-packages/pandas/core/internals/managers.py\u001b[0m in \u001b[0;36mastype\u001b[0;34m(self, dtype, copy, errors)\u001b[0m\n\u001b[1;32m    602\u001b[0m         \u001b[0mself\u001b[0m\u001b[0;34m,\u001b[0m \u001b[0mdtype\u001b[0m\u001b[0;34m,\u001b[0m \u001b[0mcopy\u001b[0m\u001b[0;34m:\u001b[0m \u001b[0mbool\u001b[0m \u001b[0;34m=\u001b[0m \u001b[0;32mFalse\u001b[0m\u001b[0;34m,\u001b[0m \u001b[0merrors\u001b[0m\u001b[0;34m:\u001b[0m \u001b[0mstr\u001b[0m \u001b[0;34m=\u001b[0m \u001b[0;34m\"raise\"\u001b[0m\u001b[0;34m\u001b[0m\u001b[0;34m\u001b[0m\u001b[0m\n\u001b[1;32m    603\u001b[0m     ) -> \"BlockManager\":\n\u001b[0;32m--> 604\u001b[0;31m         \u001b[0;32mreturn\u001b[0m \u001b[0mself\u001b[0m\u001b[0;34m.\u001b[0m\u001b[0mapply\u001b[0m\u001b[0;34m(\u001b[0m\u001b[0;34m\"astype\"\u001b[0m\u001b[0;34m,\u001b[0m \u001b[0mdtype\u001b[0m\u001b[0;34m=\u001b[0m\u001b[0mdtype\u001b[0m\u001b[0;34m,\u001b[0m \u001b[0mcopy\u001b[0m\u001b[0;34m=\u001b[0m\u001b[0mcopy\u001b[0m\u001b[0;34m,\u001b[0m \u001b[0merrors\u001b[0m\u001b[0;34m=\u001b[0m\u001b[0merrors\u001b[0m\u001b[0;34m)\u001b[0m\u001b[0;34m\u001b[0m\u001b[0;34m\u001b[0m\u001b[0m\n\u001b[0m\u001b[1;32m    605\u001b[0m \u001b[0;34m\u001b[0m\u001b[0m\n\u001b[1;32m    606\u001b[0m     def convert(\n",
            "\u001b[0;32m/usr/local/lib/python3.6/dist-packages/pandas/core/internals/managers.py\u001b[0m in \u001b[0;36mapply\u001b[0;34m(self, f, align_keys, **kwargs)\u001b[0m\n\u001b[1;32m    407\u001b[0m                 \u001b[0mapplied\u001b[0m \u001b[0;34m=\u001b[0m \u001b[0mb\u001b[0m\u001b[0;34m.\u001b[0m\u001b[0mapply\u001b[0m\u001b[0;34m(\u001b[0m\u001b[0mf\u001b[0m\u001b[0;34m,\u001b[0m \u001b[0;34m**\u001b[0m\u001b[0mkwargs\u001b[0m\u001b[0;34m)\u001b[0m\u001b[0;34m\u001b[0m\u001b[0;34m\u001b[0m\u001b[0m\n\u001b[1;32m    408\u001b[0m             \u001b[0;32melse\u001b[0m\u001b[0;34m:\u001b[0m\u001b[0;34m\u001b[0m\u001b[0;34m\u001b[0m\u001b[0m\n\u001b[0;32m--> 409\u001b[0;31m                 \u001b[0mapplied\u001b[0m \u001b[0;34m=\u001b[0m \u001b[0mgetattr\u001b[0m\u001b[0;34m(\u001b[0m\u001b[0mb\u001b[0m\u001b[0;34m,\u001b[0m \u001b[0mf\u001b[0m\u001b[0;34m)\u001b[0m\u001b[0;34m(\u001b[0m\u001b[0;34m**\u001b[0m\u001b[0mkwargs\u001b[0m\u001b[0;34m)\u001b[0m\u001b[0;34m\u001b[0m\u001b[0;34m\u001b[0m\u001b[0m\n\u001b[0m\u001b[1;32m    410\u001b[0m             \u001b[0mresult_blocks\u001b[0m \u001b[0;34m=\u001b[0m \u001b[0m_extend_blocks\u001b[0m\u001b[0;34m(\u001b[0m\u001b[0mapplied\u001b[0m\u001b[0;34m,\u001b[0m \u001b[0mresult_blocks\u001b[0m\u001b[0;34m)\u001b[0m\u001b[0;34m\u001b[0m\u001b[0;34m\u001b[0m\u001b[0m\n\u001b[1;32m    411\u001b[0m \u001b[0;34m\u001b[0m\u001b[0m\n",
            "\u001b[0;32m/usr/local/lib/python3.6/dist-packages/pandas/core/internals/blocks.py\u001b[0m in \u001b[0;36mastype\u001b[0;34m(self, dtype, copy, errors)\u001b[0m\n\u001b[1;32m    593\u001b[0m             \u001b[0mvals1d\u001b[0m \u001b[0;34m=\u001b[0m \u001b[0mvalues\u001b[0m\u001b[0;34m.\u001b[0m\u001b[0mravel\u001b[0m\u001b[0;34m(\u001b[0m\u001b[0;34m)\u001b[0m\u001b[0;34m\u001b[0m\u001b[0;34m\u001b[0m\u001b[0m\n\u001b[1;32m    594\u001b[0m             \u001b[0;32mtry\u001b[0m\u001b[0;34m:\u001b[0m\u001b[0;34m\u001b[0m\u001b[0;34m\u001b[0m\u001b[0m\n\u001b[0;32m--> 595\u001b[0;31m                 \u001b[0mvalues\u001b[0m \u001b[0;34m=\u001b[0m \u001b[0mastype_nansafe\u001b[0m\u001b[0;34m(\u001b[0m\u001b[0mvals1d\u001b[0m\u001b[0;34m,\u001b[0m \u001b[0mdtype\u001b[0m\u001b[0;34m,\u001b[0m \u001b[0mcopy\u001b[0m\u001b[0;34m=\u001b[0m\u001b[0;32mTrue\u001b[0m\u001b[0;34m)\u001b[0m\u001b[0;34m\u001b[0m\u001b[0;34m\u001b[0m\u001b[0m\n\u001b[0m\u001b[1;32m    596\u001b[0m             \u001b[0;32mexcept\u001b[0m \u001b[0;34m(\u001b[0m\u001b[0mValueError\u001b[0m\u001b[0;34m,\u001b[0m \u001b[0mTypeError\u001b[0m\u001b[0;34m)\u001b[0m\u001b[0;34m:\u001b[0m\u001b[0;34m\u001b[0m\u001b[0;34m\u001b[0m\u001b[0m\n\u001b[1;32m    597\u001b[0m                 \u001b[0;31m# e.g. astype_nansafe can fail on object-dtype of strings\u001b[0m\u001b[0;34m\u001b[0m\u001b[0;34m\u001b[0m\u001b[0;34m\u001b[0m\u001b[0m\n",
            "\u001b[0;32m/usr/local/lib/python3.6/dist-packages/pandas/core/dtypes/cast.py\u001b[0m in \u001b[0;36mastype_nansafe\u001b[0;34m(arr, dtype, copy, skipna)\u001b[0m\n\u001b[1;32m    995\u001b[0m     \u001b[0;32mif\u001b[0m \u001b[0mcopy\u001b[0m \u001b[0;32mor\u001b[0m \u001b[0mis_object_dtype\u001b[0m\u001b[0;34m(\u001b[0m\u001b[0marr\u001b[0m\u001b[0;34m)\u001b[0m \u001b[0;32mor\u001b[0m \u001b[0mis_object_dtype\u001b[0m\u001b[0;34m(\u001b[0m\u001b[0mdtype\u001b[0m\u001b[0;34m)\u001b[0m\u001b[0;34m:\u001b[0m\u001b[0;34m\u001b[0m\u001b[0;34m\u001b[0m\u001b[0m\n\u001b[1;32m    996\u001b[0m         \u001b[0;31m# Explicit copy, or required since NumPy can't view from / to object.\u001b[0m\u001b[0;34m\u001b[0m\u001b[0;34m\u001b[0m\u001b[0;34m\u001b[0m\u001b[0m\n\u001b[0;32m--> 997\u001b[0;31m         \u001b[0;32mreturn\u001b[0m \u001b[0marr\u001b[0m\u001b[0;34m.\u001b[0m\u001b[0mastype\u001b[0m\u001b[0;34m(\u001b[0m\u001b[0mdtype\u001b[0m\u001b[0;34m,\u001b[0m \u001b[0mcopy\u001b[0m\u001b[0;34m=\u001b[0m\u001b[0;32mTrue\u001b[0m\u001b[0;34m)\u001b[0m\u001b[0;34m\u001b[0m\u001b[0;34m\u001b[0m\u001b[0m\n\u001b[0m\u001b[1;32m    998\u001b[0m \u001b[0;34m\u001b[0m\u001b[0m\n\u001b[1;32m    999\u001b[0m     \u001b[0;32mreturn\u001b[0m \u001b[0marr\u001b[0m\u001b[0;34m.\u001b[0m\u001b[0mview\u001b[0m\u001b[0;34m(\u001b[0m\u001b[0mdtype\u001b[0m\u001b[0;34m)\u001b[0m\u001b[0;34m\u001b[0m\u001b[0;34m\u001b[0m\u001b[0m\n",
            "\u001b[0;31mValueError\u001b[0m: could not convert string to float: '40,63'"
          ]
        }
      ]
    },
    {
      "cell_type": "code",
      "metadata": {
        "colab": {
          "base_uri": "https://localhost:8080/"
        },
        "id": "aheKOlDuT1AA",
        "outputId": "d978b98c-7274-4681-8d07-997702c77761"
      },
      "source": [
        "#Correction\r\n",
        "exo1['col 2'].str.replace(',','.').astype(float)"
      ],
      "execution_count": 120,
      "outputs": [
        {
          "output_type": "execute_result",
          "data": {
            "text/plain": [
              "0       40.63\n",
              "1      541.89\n",
              "2      794.25\n",
              "3      468.96\n",
              "4      283.84\n",
              "        ...  \n",
              "195    720.39\n",
              "196    648.13\n",
              "197    758.06\n",
              "198    307.00\n",
              "199    370.87\n",
              "Name: col 2, Length: 200, dtype: float64"
            ]
          },
          "metadata": {
            "tags": []
          },
          "execution_count": 120
        }
      ]
    },
    {
      "cell_type": "code",
      "metadata": {
        "id": "k5p7zkoKUM3-"
      },
      "source": [
        "exo1['col 1']=exo1['col 1'].astype(float)\r\n",
        "exo1['col 2']=exo1['col 2'].str.replace(',','.').astype(float)"
      ],
      "execution_count": 121,
      "outputs": []
    },
    {
      "cell_type": "code",
      "metadata": {
        "colab": {
          "base_uri": "https://localhost:8080/",
          "height": 202
        },
        "id": "CyolWmhIVFHn",
        "outputId": "e7b9f34f-c929-4d28-87a5-61469e899c37"
      },
      "source": [
        "exo1.head()"
      ],
      "execution_count": 122,
      "outputs": [
        {
          "output_type": "execute_result",
          "data": {
            "text/html": [
              "<div>\n",
              "<style scoped>\n",
              "    .dataframe tbody tr th:only-of-type {\n",
              "        vertical-align: middle;\n",
              "    }\n",
              "\n",
              "    .dataframe tbody tr th {\n",
              "        vertical-align: top;\n",
              "    }\n",
              "\n",
              "    .dataframe thead th {\n",
              "        text-align: right;\n",
              "    }\n",
              "</style>\n",
              "<table border=\"1\" class=\"dataframe\">\n",
              "  <thead>\n",
              "    <tr style=\"text-align: right;\">\n",
              "      <th></th>\n",
              "      <th>col 1</th>\n",
              "      <th>col 2</th>\n",
              "    </tr>\n",
              "  </thead>\n",
              "  <tbody>\n",
              "    <tr>\n",
              "      <th>0</th>\n",
              "      <td>993.05</td>\n",
              "      <td>40.63</td>\n",
              "    </tr>\n",
              "    <tr>\n",
              "      <th>1</th>\n",
              "      <td>381.26</td>\n",
              "      <td>541.89</td>\n",
              "    </tr>\n",
              "    <tr>\n",
              "      <th>2</th>\n",
              "      <td>517.86</td>\n",
              "      <td>794.25</td>\n",
              "    </tr>\n",
              "    <tr>\n",
              "      <th>3</th>\n",
              "      <td>229.09</td>\n",
              "      <td>468.96</td>\n",
              "    </tr>\n",
              "    <tr>\n",
              "      <th>4</th>\n",
              "      <td>265.79</td>\n",
              "      <td>283.84</td>\n",
              "    </tr>\n",
              "  </tbody>\n",
              "</table>\n",
              "</div>"
            ],
            "text/plain": [
              "    col 1   col 2\n",
              "0  993.05   40.63\n",
              "1  381.26  541.89\n",
              "2  517.86  794.25\n",
              "3  229.09  468.96\n",
              "4  265.79  283.84"
            ]
          },
          "metadata": {
            "tags": []
          },
          "execution_count": 122
        }
      ]
    },
    {
      "cell_type": "markdown",
      "metadata": {
        "id": "dpi6nDMqt-YZ"
      },
      "source": [
        "### Convertir les nombres en categorie"
      ]
    },
    {
      "cell_type": "code",
      "metadata": {
        "colab": {
          "base_uri": "https://localhost:8080/",
          "height": 202
        },
        "id": "SU6TBatmtfDR",
        "outputId": "329bc617-af4f-4e2d-a00f-f5b197428a50"
      },
      "source": [
        "df=pd.read_csv('/content/felonies-dataset.csv',index_col=0)\r\n",
        "df.head()"
      ],
      "execution_count": 125,
      "outputs": [
        {
          "output_type": "execute_result",
          "data": {
            "text/html": [
              "<div>\n",
              "<style scoped>\n",
              "    .dataframe tbody tr th:only-of-type {\n",
              "        vertical-align: middle;\n",
              "    }\n",
              "\n",
              "    .dataframe tbody tr th {\n",
              "        vertical-align: top;\n",
              "    }\n",
              "\n",
              "    .dataframe thead th {\n",
              "        text-align: right;\n",
              "    }\n",
              "</style>\n",
              "<table border=\"1\" class=\"dataframe\">\n",
              "  <thead>\n",
              "    <tr style=\"text-align: right;\">\n",
              "      <th></th>\n",
              "      <th>Date of Arrest</th>\n",
              "      <th>Age</th>\n",
              "      <th>Convicted</th>\n",
              "    </tr>\n",
              "  </thead>\n",
              "  <tbody>\n",
              "    <tr>\n",
              "      <th>0</th>\n",
              "      <td>2014-07-16 14:59:18</td>\n",
              "      <td>77</td>\n",
              "      <td>Yes</td>\n",
              "    </tr>\n",
              "    <tr>\n",
              "      <th>1</th>\n",
              "      <td>2002-12-19 22:17:59</td>\n",
              "      <td>28</td>\n",
              "      <td>Yes</td>\n",
              "    </tr>\n",
              "    <tr>\n",
              "      <th>2</th>\n",
              "      <td>1994-06-28 09:31:40</td>\n",
              "      <td>21</td>\n",
              "      <td>No</td>\n",
              "    </tr>\n",
              "    <tr>\n",
              "      <th>3</th>\n",
              "      <td>1985-05-14 09:52:17</td>\n",
              "      <td>45</td>\n",
              "      <td>Yes</td>\n",
              "    </tr>\n",
              "    <tr>\n",
              "      <th>4</th>\n",
              "      <td>1985-05-25 14:06:28</td>\n",
              "      <td>39</td>\n",
              "      <td>Yes</td>\n",
              "    </tr>\n",
              "  </tbody>\n",
              "</table>\n",
              "</div>"
            ],
            "text/plain": [
              "        Date of Arrest  Age Convicted\n",
              "0  2014-07-16 14:59:18   77       Yes\n",
              "1  2002-12-19 22:17:59   28       Yes\n",
              "2  1994-06-28 09:31:40   21        No\n",
              "3  1985-05-14 09:52:17   45       Yes\n",
              "4  1985-05-25 14:06:28   39       Yes"
            ]
          },
          "metadata": {
            "tags": []
          },
          "execution_count": 125
        }
      ]
    },
    {
      "cell_type": "code",
      "metadata": {
        "colab": {
          "base_uri": "https://localhost:8080/"
        },
        "id": "SV50_9ybuOdX",
        "outputId": "cbc9948b-510e-4726-bd09-26cf41f5ff34"
      },
      "source": [
        "prefix=['ten','twent','thir','four','fif',\r\n",
        "        'six','seven','eigh','nine',]\r\n",
        "\r\n",
        "categoryName=[s+'ties' for s in prefix]\r\n",
        "\r\n",
        "categoryName"
      ],
      "execution_count": 126,
      "outputs": [
        {
          "output_type": "execute_result",
          "data": {
            "text/plain": [
              "['tenties',\n",
              " 'twentties',\n",
              " 'thirties',\n",
              " 'fourties',\n",
              " 'fifties',\n",
              " 'sixties',\n",
              " 'seventies',\n",
              " 'eighties',\n",
              " 'nineties']"
            ]
          },
          "metadata": {
            "tags": []
          },
          "execution_count": 126
        }
      ]
    },
    {
      "cell_type": "code",
      "metadata": {
        "colab": {
          "base_uri": "https://localhost:8080/"
        },
        "id": "yp5njC8hvWVH",
        "outputId": "016cfe2b-a2ab-4a3a-e39f-4d3215b005e5"
      },
      "source": [
        "bins=list(range(9,99+1,10))\r\n",
        "bins"
      ],
      "execution_count": 128,
      "outputs": [
        {
          "output_type": "execute_result",
          "data": {
            "text/plain": [
              "[9, 19, 29, 39, 49, 59, 69, 79, 89, 99]"
            ]
          },
          "metadata": {
            "tags": []
          },
          "execution_count": 128
        }
      ]
    },
    {
      "cell_type": "code",
      "metadata": {
        "colab": {
          "base_uri": "https://localhost:8080/"
        },
        "id": "PC6nYZj8v33f",
        "outputId": "611069ee-0520-4c99-abf0-6a71d038d7a9"
      },
      "source": [
        "pd.cut(df['Age'],\r\n",
        "        bins=bins,\r\n",
        "        labels=categoryName)"
      ],
      "execution_count": 131,
      "outputs": [
        {
          "output_type": "execute_result",
          "data": {
            "text/plain": [
              "0      seventies\n",
              "1      twentties\n",
              "2      twentties\n",
              "3       fourties\n",
              "4       thirties\n",
              "         ...    \n",
              "995    seventies\n",
              "996      sixties\n",
              "997     eighties\n",
              "998    twentties\n",
              "999      fifties\n",
              "Name: Age, Length: 1000, dtype: category\n",
              "Categories (9, object): ['tenties' < 'twentties' < 'thirties' < 'fourties' ... 'sixties' <\n",
              "                         'seventies' < 'eighties' < 'nineties']"
            ]
          },
          "metadata": {
            "tags": []
          },
          "execution_count": 131
        }
      ]
    },
    {
      "cell_type": "code",
      "metadata": {
        "colab": {
          "base_uri": "https://localhost:8080/",
          "height": 202
        },
        "id": "n6FNvzSmwl9s",
        "outputId": "bf1bf711-4b3e-4095-887b-e8c682af86c1"
      },
      "source": [
        "df['Decade']=pd.cut(df['Age'],\r\n",
        "                    bins=bins,\r\n",
        "                    labels=categoryName)\r\n",
        "\r\n",
        "df.head()"
      ],
      "execution_count": 132,
      "outputs": [
        {
          "output_type": "execute_result",
          "data": {
            "text/html": [
              "<div>\n",
              "<style scoped>\n",
              "    .dataframe tbody tr th:only-of-type {\n",
              "        vertical-align: middle;\n",
              "    }\n",
              "\n",
              "    .dataframe tbody tr th {\n",
              "        vertical-align: top;\n",
              "    }\n",
              "\n",
              "    .dataframe thead th {\n",
              "        text-align: right;\n",
              "    }\n",
              "</style>\n",
              "<table border=\"1\" class=\"dataframe\">\n",
              "  <thead>\n",
              "    <tr style=\"text-align: right;\">\n",
              "      <th></th>\n",
              "      <th>Date of Arrest</th>\n",
              "      <th>Age</th>\n",
              "      <th>Convicted</th>\n",
              "      <th>Decade</th>\n",
              "    </tr>\n",
              "  </thead>\n",
              "  <tbody>\n",
              "    <tr>\n",
              "      <th>0</th>\n",
              "      <td>2014-07-16 14:59:18</td>\n",
              "      <td>77</td>\n",
              "      <td>Yes</td>\n",
              "      <td>seventies</td>\n",
              "    </tr>\n",
              "    <tr>\n",
              "      <th>1</th>\n",
              "      <td>2002-12-19 22:17:59</td>\n",
              "      <td>28</td>\n",
              "      <td>Yes</td>\n",
              "      <td>twentties</td>\n",
              "    </tr>\n",
              "    <tr>\n",
              "      <th>2</th>\n",
              "      <td>1994-06-28 09:31:40</td>\n",
              "      <td>21</td>\n",
              "      <td>No</td>\n",
              "      <td>twentties</td>\n",
              "    </tr>\n",
              "    <tr>\n",
              "      <th>3</th>\n",
              "      <td>1985-05-14 09:52:17</td>\n",
              "      <td>45</td>\n",
              "      <td>Yes</td>\n",
              "      <td>fourties</td>\n",
              "    </tr>\n",
              "    <tr>\n",
              "      <th>4</th>\n",
              "      <td>1985-05-25 14:06:28</td>\n",
              "      <td>39</td>\n",
              "      <td>Yes</td>\n",
              "      <td>thirties</td>\n",
              "    </tr>\n",
              "  </tbody>\n",
              "</table>\n",
              "</div>"
            ],
            "text/plain": [
              "        Date of Arrest  Age Convicted     Decade\n",
              "0  2014-07-16 14:59:18   77       Yes  seventies\n",
              "1  2002-12-19 22:17:59   28       Yes  twentties\n",
              "2  1994-06-28 09:31:40   21        No  twentties\n",
              "3  1985-05-14 09:52:17   45       Yes   fourties\n",
              "4  1985-05-25 14:06:28   39       Yes   thirties"
            ]
          },
          "metadata": {
            "tags": []
          },
          "execution_count": 132
        }
      ]
    },
    {
      "cell_type": "code",
      "metadata": {
        "id": "vu-eWjwzVlPo",
        "colab": {
          "base_uri": "https://localhost:8080/"
        },
        "outputId": "ab19c858-8ef4-4393-ea09-b44b888a42f9"
      },
      "source": [
        "prefix=['ten','twent','thir','four','fif','six','seven','eigh','nine',]\r\n",
        "for i, prefix in enumerate(prefix):\r\n",
        "  age=(i+1)*10\r\n",
        "  categoryName=prefix+'ties'\r\n",
        "  print(f'* De {age} à {age+9} ans => {categoryName}')"
      ],
      "execution_count": 123,
      "outputs": [
        {
          "output_type": "stream",
          "text": [
            "* De 10 à 19 ans => tenties\n",
            "* De 20 à 29 ans => twentties\n",
            "* De 30 à 39 ans => thirties\n",
            "* De 40 à 49 ans => fourties\n",
            "* De 50 à 59 ans => fifties\n",
            "* De 60 à 69 ans => sixties\n",
            "* De 70 à 79 ans => seventies\n",
            "* De 80 à 89 ans => eighties\n",
            "* De 90 à 99 ans => nineties\n"
          ],
          "name": "stdout"
        }
      ]
    },
    {
      "cell_type": "markdown",
      "metadata": {
        "id": "WfAe9hpCxiag"
      },
      "source": [
        "### Convertir date en categories"
      ]
    },
    {
      "cell_type": "code",
      "metadata": {
        "id": "vTMMucP4tD1M"
      },
      "source": [
        "df.rename({'Date of Arrest': 'DoA'},\r\n",
        "          axis=1,\r\n",
        "          inplace=True)"
      ],
      "execution_count": 133,
      "outputs": []
    },
    {
      "cell_type": "code",
      "metadata": {
        "colab": {
          "base_uri": "https://localhost:8080/",
          "height": 202
        },
        "id": "ywMuzonk0uFV",
        "outputId": "ca2b777d-6a06-4265-a398-df4fac9ba713"
      },
      "source": [
        "df.head()"
      ],
      "execution_count": 134,
      "outputs": [
        {
          "output_type": "execute_result",
          "data": {
            "text/html": [
              "<div>\n",
              "<style scoped>\n",
              "    .dataframe tbody tr th:only-of-type {\n",
              "        vertical-align: middle;\n",
              "    }\n",
              "\n",
              "    .dataframe tbody tr th {\n",
              "        vertical-align: top;\n",
              "    }\n",
              "\n",
              "    .dataframe thead th {\n",
              "        text-align: right;\n",
              "    }\n",
              "</style>\n",
              "<table border=\"1\" class=\"dataframe\">\n",
              "  <thead>\n",
              "    <tr style=\"text-align: right;\">\n",
              "      <th></th>\n",
              "      <th>DoA</th>\n",
              "      <th>Age</th>\n",
              "      <th>Convicted</th>\n",
              "      <th>Decade</th>\n",
              "    </tr>\n",
              "  </thead>\n",
              "  <tbody>\n",
              "    <tr>\n",
              "      <th>0</th>\n",
              "      <td>2014-07-16 14:59:18</td>\n",
              "      <td>77</td>\n",
              "      <td>Yes</td>\n",
              "      <td>seventies</td>\n",
              "    </tr>\n",
              "    <tr>\n",
              "      <th>1</th>\n",
              "      <td>2002-12-19 22:17:59</td>\n",
              "      <td>28</td>\n",
              "      <td>Yes</td>\n",
              "      <td>twentties</td>\n",
              "    </tr>\n",
              "    <tr>\n",
              "      <th>2</th>\n",
              "      <td>1994-06-28 09:31:40</td>\n",
              "      <td>21</td>\n",
              "      <td>No</td>\n",
              "      <td>twentties</td>\n",
              "    </tr>\n",
              "    <tr>\n",
              "      <th>3</th>\n",
              "      <td>1985-05-14 09:52:17</td>\n",
              "      <td>45</td>\n",
              "      <td>Yes</td>\n",
              "      <td>fourties</td>\n",
              "    </tr>\n",
              "    <tr>\n",
              "      <th>4</th>\n",
              "      <td>1985-05-25 14:06:28</td>\n",
              "      <td>39</td>\n",
              "      <td>Yes</td>\n",
              "      <td>thirties</td>\n",
              "    </tr>\n",
              "  </tbody>\n",
              "</table>\n",
              "</div>"
            ],
            "text/plain": [
              "                   DoA  Age Convicted     Decade\n",
              "0  2014-07-16 14:59:18   77       Yes  seventies\n",
              "1  2002-12-19 22:17:59   28       Yes  twentties\n",
              "2  1994-06-28 09:31:40   21        No  twentties\n",
              "3  1985-05-14 09:52:17   45       Yes   fourties\n",
              "4  1985-05-25 14:06:28   39       Yes   thirties"
            ]
          },
          "metadata": {
            "tags": []
          },
          "execution_count": 134
        }
      ]
    },
    {
      "cell_type": "code",
      "metadata": {
        "colab": {
          "base_uri": "https://localhost:8080/"
        },
        "id": "iaSZRXsM0xO_",
        "outputId": "0c6e9c27-8440-4641-e76d-d9d1b43bee56"
      },
      "source": [
        "df['DoA']=pd.to_datetime(df['DoA'])\r\n",
        "\r\n",
        "df.dtypes"
      ],
      "execution_count": 135,
      "outputs": [
        {
          "output_type": "execute_result",
          "data": {
            "text/plain": [
              "DoA          datetime64[ns]\n",
              "Age                   int64\n",
              "Convicted            object\n",
              "Decade             category\n",
              "dtype: object"
            ]
          },
          "metadata": {
            "tags": []
          },
          "execution_count": 135
        }
      ]
    },
    {
      "cell_type": "code",
      "metadata": {
        "colab": {
          "base_uri": "https://localhost:8080/"
        },
        "id": "mp0GfM9O1hpO",
        "outputId": "b810e653-a400-4317-9c47-210544c453fe"
      },
      "source": [
        "from datetime import datetime\r\n",
        "\r\n",
        "year=lambda y: datetime(year=y,\r\n",
        "                        month=1,\r\n",
        "                        day=1)\r\n",
        "\r\n",
        "decades_bins=[year(y) for y in range(1960,2031,10)]\r\n",
        "decades_bins"
      ],
      "execution_count": 139,
      "outputs": [
        {
          "output_type": "execute_result",
          "data": {
            "text/plain": [
              "[datetime.datetime(1960, 1, 1, 0, 0),\n",
              " datetime.datetime(1970, 1, 1, 0, 0),\n",
              " datetime.datetime(1980, 1, 1, 0, 0),\n",
              " datetime.datetime(1990, 1, 1, 0, 0),\n",
              " datetime.datetime(2000, 1, 1, 0, 0),\n",
              " datetime.datetime(2010, 1, 1, 0, 0),\n",
              " datetime.datetime(2020, 1, 1, 0, 0),\n",
              " datetime.datetime(2030, 1, 1, 0, 0)]"
            ]
          },
          "metadata": {
            "tags": []
          },
          "execution_count": 139
        }
      ]
    },
    {
      "cell_type": "code",
      "metadata": {
        "colab": {
          "base_uri": "https://localhost:8080/"
        },
        "id": "TR46YWzV2d3Z",
        "outputId": "824f1350-87d3-4972-a923-2be5e2e9ed8d"
      },
      "source": [
        "prefix=['six','seven','eigh','nine','zero','ten','twen']\r\n",
        "\r\n",
        "decades_labels=[s+'ties' for s in prefix]\r\n",
        "\r\n",
        "decades_labels"
      ],
      "execution_count": 140,
      "outputs": [
        {
          "output_type": "execute_result",
          "data": {
            "text/plain": [
              "['sixties',\n",
              " 'seventies',\n",
              " 'eighties',\n",
              " 'nineties',\n",
              " 'zeroties',\n",
              " 'tenties',\n",
              " 'twenties']"
            ]
          },
          "metadata": {
            "tags": []
          },
          "execution_count": 140
        }
      ]
    },
    {
      "cell_type": "code",
      "metadata": {
        "colab": {
          "base_uri": "https://localhost:8080/"
        },
        "id": "AzClfLbg3vdE",
        "outputId": "7da69e9f-c47d-470c-f4ea-9fbb6a46f01a"
      },
      "source": [
        "len(decades_labels), len(decades_bins)"
      ],
      "execution_count": 141,
      "outputs": [
        {
          "output_type": "execute_result",
          "data": {
            "text/plain": [
              "(7, 8)"
            ]
          },
          "metadata": {
            "tags": []
          },
          "execution_count": 141
        }
      ]
    },
    {
      "cell_type": "code",
      "metadata": {
        "colab": {
          "base_uri": "https://localhost:8080/",
          "height": 202
        },
        "id": "JXWlck_m4GTE",
        "outputId": "4ec376e6-28d9-412d-d043-a5b502cc2f2b"
      },
      "source": [
        "df['Decade1']=pd.cut(df['DoA'],\r\n",
        "                     bins=decades_bins,\r\n",
        "                     labels=decades_labels)\r\n",
        "df.head()"
      ],
      "execution_count": 142,
      "outputs": [
        {
          "output_type": "execute_result",
          "data": {
            "text/html": [
              "<div>\n",
              "<style scoped>\n",
              "    .dataframe tbody tr th:only-of-type {\n",
              "        vertical-align: middle;\n",
              "    }\n",
              "\n",
              "    .dataframe tbody tr th {\n",
              "        vertical-align: top;\n",
              "    }\n",
              "\n",
              "    .dataframe thead th {\n",
              "        text-align: right;\n",
              "    }\n",
              "</style>\n",
              "<table border=\"1\" class=\"dataframe\">\n",
              "  <thead>\n",
              "    <tr style=\"text-align: right;\">\n",
              "      <th></th>\n",
              "      <th>DoA</th>\n",
              "      <th>Age</th>\n",
              "      <th>Convicted</th>\n",
              "      <th>Decade</th>\n",
              "      <th>Decade1</th>\n",
              "    </tr>\n",
              "  </thead>\n",
              "  <tbody>\n",
              "    <tr>\n",
              "      <th>0</th>\n",
              "      <td>2014-07-16 14:59:18</td>\n",
              "      <td>77</td>\n",
              "      <td>Yes</td>\n",
              "      <td>seventies</td>\n",
              "      <td>tenties</td>\n",
              "    </tr>\n",
              "    <tr>\n",
              "      <th>1</th>\n",
              "      <td>2002-12-19 22:17:59</td>\n",
              "      <td>28</td>\n",
              "      <td>Yes</td>\n",
              "      <td>twentties</td>\n",
              "      <td>zeroties</td>\n",
              "    </tr>\n",
              "    <tr>\n",
              "      <th>2</th>\n",
              "      <td>1994-06-28 09:31:40</td>\n",
              "      <td>21</td>\n",
              "      <td>No</td>\n",
              "      <td>twentties</td>\n",
              "      <td>nineties</td>\n",
              "    </tr>\n",
              "    <tr>\n",
              "      <th>3</th>\n",
              "      <td>1985-05-14 09:52:17</td>\n",
              "      <td>45</td>\n",
              "      <td>Yes</td>\n",
              "      <td>fourties</td>\n",
              "      <td>eighties</td>\n",
              "    </tr>\n",
              "    <tr>\n",
              "      <th>4</th>\n",
              "      <td>1985-05-25 14:06:28</td>\n",
              "      <td>39</td>\n",
              "      <td>Yes</td>\n",
              "      <td>thirties</td>\n",
              "      <td>eighties</td>\n",
              "    </tr>\n",
              "  </tbody>\n",
              "</table>\n",
              "</div>"
            ],
            "text/plain": [
              "                  DoA  Age Convicted     Decade   Decade1\n",
              "0 2014-07-16 14:59:18   77       Yes  seventies   tenties\n",
              "1 2002-12-19 22:17:59   28       Yes  twentties  zeroties\n",
              "2 1994-06-28 09:31:40   21        No  twentties  nineties\n",
              "3 1985-05-14 09:52:17   45       Yes   fourties  eighties\n",
              "4 1985-05-25 14:06:28   39       Yes   thirties  eighties"
            ]
          },
          "metadata": {
            "tags": []
          },
          "execution_count": 142
        }
      ]
    },
    {
      "cell_type": "code",
      "metadata": {
        "colab": {
          "base_uri": "https://localhost:8080/",
          "height": 202
        },
        "id": "XO48TXy-4rw5",
        "outputId": "47c12592-1fb3-4dee-de92-c1249f704065"
      },
      "source": [
        "from_january=0\r\n",
        "May=5\r\n",
        "August=8\r\n",
        "December=12\r\n",
        "\r\n",
        "df['Semester']=pd.cut(df['DoA'].dt.month,\r\n",
        "                      bins=[from_january,\r\n",
        "                            May,\r\n",
        "                            August,\r\n",
        "                            December],\r\n",
        "                      labels=['Second','Hollyday','First'])\r\n",
        "\r\n",
        "df.head()"
      ],
      "execution_count": 144,
      "outputs": [
        {
          "output_type": "execute_result",
          "data": {
            "text/html": [
              "<div>\n",
              "<style scoped>\n",
              "    .dataframe tbody tr th:only-of-type {\n",
              "        vertical-align: middle;\n",
              "    }\n",
              "\n",
              "    .dataframe tbody tr th {\n",
              "        vertical-align: top;\n",
              "    }\n",
              "\n",
              "    .dataframe thead th {\n",
              "        text-align: right;\n",
              "    }\n",
              "</style>\n",
              "<table border=\"1\" class=\"dataframe\">\n",
              "  <thead>\n",
              "    <tr style=\"text-align: right;\">\n",
              "      <th></th>\n",
              "      <th>DoA</th>\n",
              "      <th>Age</th>\n",
              "      <th>Convicted</th>\n",
              "      <th>Decade</th>\n",
              "      <th>Decade1</th>\n",
              "      <th>Semester</th>\n",
              "    </tr>\n",
              "  </thead>\n",
              "  <tbody>\n",
              "    <tr>\n",
              "      <th>0</th>\n",
              "      <td>2014-07-16 14:59:18</td>\n",
              "      <td>77</td>\n",
              "      <td>Yes</td>\n",
              "      <td>seventies</td>\n",
              "      <td>tenties</td>\n",
              "      <td>Hollyday</td>\n",
              "    </tr>\n",
              "    <tr>\n",
              "      <th>1</th>\n",
              "      <td>2002-12-19 22:17:59</td>\n",
              "      <td>28</td>\n",
              "      <td>Yes</td>\n",
              "      <td>twentties</td>\n",
              "      <td>zeroties</td>\n",
              "      <td>First</td>\n",
              "    </tr>\n",
              "    <tr>\n",
              "      <th>2</th>\n",
              "      <td>1994-06-28 09:31:40</td>\n",
              "      <td>21</td>\n",
              "      <td>No</td>\n",
              "      <td>twentties</td>\n",
              "      <td>nineties</td>\n",
              "      <td>Hollyday</td>\n",
              "    </tr>\n",
              "    <tr>\n",
              "      <th>3</th>\n",
              "      <td>1985-05-14 09:52:17</td>\n",
              "      <td>45</td>\n",
              "      <td>Yes</td>\n",
              "      <td>fourties</td>\n",
              "      <td>eighties</td>\n",
              "      <td>Second</td>\n",
              "    </tr>\n",
              "    <tr>\n",
              "      <th>4</th>\n",
              "      <td>1985-05-25 14:06:28</td>\n",
              "      <td>39</td>\n",
              "      <td>Yes</td>\n",
              "      <td>thirties</td>\n",
              "      <td>eighties</td>\n",
              "      <td>Second</td>\n",
              "    </tr>\n",
              "  </tbody>\n",
              "</table>\n",
              "</div>"
            ],
            "text/plain": [
              "                  DoA  Age Convicted     Decade   Decade1  Semester\n",
              "0 2014-07-16 14:59:18   77       Yes  seventies   tenties  Hollyday\n",
              "1 2002-12-19 22:17:59   28       Yes  twentties  zeroties     First\n",
              "2 1994-06-28 09:31:40   21        No  twentties  nineties  Hollyday\n",
              "3 1985-05-14 09:52:17   45       Yes   fourties  eighties    Second\n",
              "4 1985-05-25 14:06:28   39       Yes   thirties  eighties    Second"
            ]
          },
          "metadata": {
            "tags": []
          },
          "execution_count": 144
        }
      ]
    },
    {
      "cell_type": "markdown",
      "metadata": {
        "id": "p0A5ZN3o7BOX"
      },
      "source": [
        "### Donner Manquantes"
      ]
    },
    {
      "cell_type": "code",
      "metadata": {
        "colab": {
          "base_uri": "https://localhost:8080/",
          "height": 202
        },
        "id": "uh2uFciV5wAy",
        "outputId": "2279a4b2-e3a0-4f89-ce43-b4cf386732e5"
      },
      "source": [
        "df=pd.read_csv('/content/missing-values-toy.csv',index_col=0)\r\n",
        "df.head()"
      ],
      "execution_count": 145,
      "outputs": [
        {
          "output_type": "execute_result",
          "data": {
            "text/html": [
              "<div>\n",
              "<style scoped>\n",
              "    .dataframe tbody tr th:only-of-type {\n",
              "        vertical-align: middle;\n",
              "    }\n",
              "\n",
              "    .dataframe tbody tr th {\n",
              "        vertical-align: top;\n",
              "    }\n",
              "\n",
              "    .dataframe thead th {\n",
              "        text-align: right;\n",
              "    }\n",
              "</style>\n",
              "<table border=\"1\" class=\"dataframe\">\n",
              "  <thead>\n",
              "    <tr style=\"text-align: right;\">\n",
              "      <th></th>\n",
              "      <th>Colonne Importante</th>\n",
              "      <th>Colonne Inutile</th>\n",
              "      <th>Colonne Peu Utile</th>\n",
              "    </tr>\n",
              "  </thead>\n",
              "  <tbody>\n",
              "    <tr>\n",
              "      <th>0</th>\n",
              "      <td>Oui</td>\n",
              "      <td>NaN</td>\n",
              "      <td>2.0</td>\n",
              "    </tr>\n",
              "    <tr>\n",
              "      <th>1</th>\n",
              "      <td>Non</td>\n",
              "      <td>1.0</td>\n",
              "      <td>NaN</td>\n",
              "    </tr>\n",
              "    <tr>\n",
              "      <th>2</th>\n",
              "      <td>Légerement</td>\n",
              "      <td>NaN</td>\n",
              "      <td>3.0</td>\n",
              "    </tr>\n",
              "    <tr>\n",
              "      <th>3</th>\n",
              "      <td>NaN</td>\n",
              "      <td>1.0</td>\n",
              "      <td>NaN</td>\n",
              "    </tr>\n",
              "    <tr>\n",
              "      <th>4</th>\n",
              "      <td>Oui</td>\n",
              "      <td>1.0</td>\n",
              "      <td>4.0</td>\n",
              "    </tr>\n",
              "  </tbody>\n",
              "</table>\n",
              "</div>"
            ],
            "text/plain": [
              "  Colonne Importante  Colonne Inutile  Colonne Peu Utile\n",
              "0                Oui              NaN                2.0\n",
              "1                Non              1.0                NaN\n",
              "2         Légerement              NaN                3.0\n",
              "3                NaN              1.0                NaN\n",
              "4                Oui              1.0                4.0"
            ]
          },
          "metadata": {
            "tags": []
          },
          "execution_count": 145
        }
      ]
    },
    {
      "cell_type": "code",
      "metadata": {
        "colab": {
          "base_uri": "https://localhost:8080/"
        },
        "id": "huLjcGgv7OhL",
        "outputId": "bc6bf1d2-11ef-479d-f19a-1a2466bd098c"
      },
      "source": [
        "df.isna().sum()"
      ],
      "execution_count": 147,
      "outputs": [
        {
          "output_type": "execute_result",
          "data": {
            "text/plain": [
              "Colonne Importante    3\n",
              "Colonne Inutile       3\n",
              "Colonne Peu Utile     3\n",
              "dtype: int64"
            ]
          },
          "metadata": {
            "tags": []
          },
          "execution_count": 147
        }
      ]
    },
    {
      "cell_type": "code",
      "metadata": {
        "id": "EKTh4iCt7jGw"
      },
      "source": [
        "df['Colonne Importante']=df['Colonne Importante'].astype('category')"
      ],
      "execution_count": 148,
      "outputs": []
    },
    {
      "cell_type": "code",
      "metadata": {
        "colab": {
          "base_uri": "https://localhost:8080/"
        },
        "id": "LSk65z4172oT",
        "outputId": "e91db18b-f3ef-4c51-f646-41b11f38a8c0"
      },
      "source": [
        "df['Colonne Importante'].value_counts(dropna=False)"
      ],
      "execution_count": 149,
      "outputs": [
        {
          "output_type": "execute_result",
          "data": {
            "text/plain": [
              "NaN           3\n",
              "Oui           2\n",
              "Non           1\n",
              "Légerement    1\n",
              "Name: Colonne Importante, dtype: int64"
            ]
          },
          "metadata": {
            "tags": []
          },
          "execution_count": 149
        }
      ]
    },
    {
      "cell_type": "code",
      "metadata": {
        "colab": {
          "base_uri": "https://localhost:8080/",
          "height": 219
        },
        "id": "HgimdJM38LZ8",
        "outputId": "7bb11346-9a07-4e8e-fefe-99164a2425d3"
      },
      "source": [
        "for col_name in df.columns:\r\n",
        "  df[col_name+'_Missing']=df[col_name].isna()\r\n",
        "\r\n",
        "df.head()"
      ],
      "execution_count": 151,
      "outputs": [
        {
          "output_type": "execute_result",
          "data": {
            "text/html": [
              "<div>\n",
              "<style scoped>\n",
              "    .dataframe tbody tr th:only-of-type {\n",
              "        vertical-align: middle;\n",
              "    }\n",
              "\n",
              "    .dataframe tbody tr th {\n",
              "        vertical-align: top;\n",
              "    }\n",
              "\n",
              "    .dataframe thead th {\n",
              "        text-align: right;\n",
              "    }\n",
              "</style>\n",
              "<table border=\"1\" class=\"dataframe\">\n",
              "  <thead>\n",
              "    <tr style=\"text-align: right;\">\n",
              "      <th></th>\n",
              "      <th>Colonne Importante</th>\n",
              "      <th>Colonne Inutile</th>\n",
              "      <th>Colonne Peu Utile</th>\n",
              "      <th>Colonne Importante_Missing</th>\n",
              "      <th>Colonne Inutile_Missing</th>\n",
              "      <th>Colonne Peu Utile_Missing</th>\n",
              "    </tr>\n",
              "  </thead>\n",
              "  <tbody>\n",
              "    <tr>\n",
              "      <th>0</th>\n",
              "      <td>Oui</td>\n",
              "      <td>NaN</td>\n",
              "      <td>2.0</td>\n",
              "      <td>False</td>\n",
              "      <td>True</td>\n",
              "      <td>False</td>\n",
              "    </tr>\n",
              "    <tr>\n",
              "      <th>1</th>\n",
              "      <td>Non</td>\n",
              "      <td>1.0</td>\n",
              "      <td>NaN</td>\n",
              "      <td>False</td>\n",
              "      <td>False</td>\n",
              "      <td>True</td>\n",
              "    </tr>\n",
              "    <tr>\n",
              "      <th>2</th>\n",
              "      <td>Légerement</td>\n",
              "      <td>NaN</td>\n",
              "      <td>3.0</td>\n",
              "      <td>False</td>\n",
              "      <td>True</td>\n",
              "      <td>False</td>\n",
              "    </tr>\n",
              "    <tr>\n",
              "      <th>3</th>\n",
              "      <td>NaN</td>\n",
              "      <td>1.0</td>\n",
              "      <td>NaN</td>\n",
              "      <td>True</td>\n",
              "      <td>False</td>\n",
              "      <td>True</td>\n",
              "    </tr>\n",
              "    <tr>\n",
              "      <th>4</th>\n",
              "      <td>Oui</td>\n",
              "      <td>1.0</td>\n",
              "      <td>4.0</td>\n",
              "      <td>False</td>\n",
              "      <td>False</td>\n",
              "      <td>False</td>\n",
              "    </tr>\n",
              "  </tbody>\n",
              "</table>\n",
              "</div>"
            ],
            "text/plain": [
              "  Colonne Importante  ...  Colonne Peu Utile_Missing\n",
              "0                Oui  ...                      False\n",
              "1                Non  ...                       True\n",
              "2         Légerement  ...                      False\n",
              "3                NaN  ...                       True\n",
              "4                Oui  ...                      False\n",
              "\n",
              "[5 rows x 6 columns]"
            ]
          },
          "metadata": {
            "tags": []
          },
          "execution_count": 151
        }
      ]
    },
    {
      "cell_type": "code",
      "metadata": {
        "colab": {
          "base_uri": "https://localhost:8080/",
          "height": 219
        },
        "id": "zxbk0dI49u8d",
        "outputId": "ba941228-5a60-45de-fd79-e89aed5c31c8"
      },
      "source": [
        "df['Colonne Importante'].cat.add_categories('missing',\r\n",
        "                                            inplace=True)\r\n",
        "\r\n",
        "df['Colonne Importante'].fillna('missing',inplace=True)\r\n",
        "\r\n",
        "df.head()\r\n"
      ],
      "execution_count": 157,
      "outputs": [
        {
          "output_type": "execute_result",
          "data": {
            "text/html": [
              "<div>\n",
              "<style scoped>\n",
              "    .dataframe tbody tr th:only-of-type {\n",
              "        vertical-align: middle;\n",
              "    }\n",
              "\n",
              "    .dataframe tbody tr th {\n",
              "        vertical-align: top;\n",
              "    }\n",
              "\n",
              "    .dataframe thead th {\n",
              "        text-align: right;\n",
              "    }\n",
              "</style>\n",
              "<table border=\"1\" class=\"dataframe\">\n",
              "  <thead>\n",
              "    <tr style=\"text-align: right;\">\n",
              "      <th></th>\n",
              "      <th>Colonne Importante</th>\n",
              "      <th>Colonne Inutile</th>\n",
              "      <th>Colonne Peu Utile</th>\n",
              "      <th>Colonne Importante_Missing</th>\n",
              "      <th>Colonne Inutile_Missing</th>\n",
              "      <th>Colonne Peu Utile_Missing</th>\n",
              "    </tr>\n",
              "  </thead>\n",
              "  <tbody>\n",
              "    <tr>\n",
              "      <th>0</th>\n",
              "      <td>Oui</td>\n",
              "      <td>NaN</td>\n",
              "      <td>2.0</td>\n",
              "      <td>False</td>\n",
              "      <td>True</td>\n",
              "      <td>False</td>\n",
              "    </tr>\n",
              "    <tr>\n",
              "      <th>1</th>\n",
              "      <td>Non</td>\n",
              "      <td>1.0</td>\n",
              "      <td>NaN</td>\n",
              "      <td>False</td>\n",
              "      <td>False</td>\n",
              "      <td>True</td>\n",
              "    </tr>\n",
              "    <tr>\n",
              "      <th>2</th>\n",
              "      <td>Légerement</td>\n",
              "      <td>NaN</td>\n",
              "      <td>3.0</td>\n",
              "      <td>False</td>\n",
              "      <td>True</td>\n",
              "      <td>False</td>\n",
              "    </tr>\n",
              "    <tr>\n",
              "      <th>3</th>\n",
              "      <td>missing</td>\n",
              "      <td>1.0</td>\n",
              "      <td>NaN</td>\n",
              "      <td>True</td>\n",
              "      <td>False</td>\n",
              "      <td>True</td>\n",
              "    </tr>\n",
              "    <tr>\n",
              "      <th>4</th>\n",
              "      <td>Oui</td>\n",
              "      <td>1.0</td>\n",
              "      <td>4.0</td>\n",
              "      <td>False</td>\n",
              "      <td>False</td>\n",
              "      <td>False</td>\n",
              "    </tr>\n",
              "  </tbody>\n",
              "</table>\n",
              "</div>"
            ],
            "text/plain": [
              "  Colonne Importante  ...  Colonne Peu Utile_Missing\n",
              "0                Oui  ...                      False\n",
              "1                Non  ...                       True\n",
              "2         Légerement  ...                      False\n",
              "3            missing  ...                       True\n",
              "4                Oui  ...                      False\n",
              "\n",
              "[5 rows x 6 columns]"
            ]
          },
          "metadata": {
            "tags": []
          },
          "execution_count": 157
        }
      ]
    },
    {
      "cell_type": "code",
      "metadata": {
        "colab": {
          "base_uri": "https://localhost:8080/"
        },
        "id": "BQYse3NqAzm6",
        "outputId": "b062406e-d9b5-47a9-e14c-32f16f9f5add"
      },
      "source": [
        "df.isna().sum()"
      ],
      "execution_count": 158,
      "outputs": [
        {
          "output_type": "execute_result",
          "data": {
            "text/plain": [
              "Colonne Importante            0\n",
              "Colonne Inutile               3\n",
              "Colonne Peu Utile             3\n",
              "Colonne Importante_Missing    0\n",
              "Colonne Inutile_Missing       0\n",
              "Colonne Peu Utile_Missing     0\n",
              "dtype: int64"
            ]
          },
          "metadata": {
            "tags": []
          },
          "execution_count": 158
        }
      ]
    },
    {
      "cell_type": "code",
      "metadata": {
        "colab": {
          "base_uri": "https://localhost:8080/",
          "height": 263
        },
        "id": "b8FxWF3oCKjb",
        "outputId": "58ca8fd7-e774-4e8d-a7b3-222ce9b1a194"
      },
      "source": [
        "numerical_columns=df.select_dtypes(include=['number'])\r\n",
        "\r\n",
        "numerical_columns\r\n"
      ],
      "execution_count": 159,
      "outputs": [
        {
          "output_type": "execute_result",
          "data": {
            "text/html": [
              "<div>\n",
              "<style scoped>\n",
              "    .dataframe tbody tr th:only-of-type {\n",
              "        vertical-align: middle;\n",
              "    }\n",
              "\n",
              "    .dataframe tbody tr th {\n",
              "        vertical-align: top;\n",
              "    }\n",
              "\n",
              "    .dataframe thead th {\n",
              "        text-align: right;\n",
              "    }\n",
              "</style>\n",
              "<table border=\"1\" class=\"dataframe\">\n",
              "  <thead>\n",
              "    <tr style=\"text-align: right;\">\n",
              "      <th></th>\n",
              "      <th>Colonne Inutile</th>\n",
              "      <th>Colonne Peu Utile</th>\n",
              "    </tr>\n",
              "  </thead>\n",
              "  <tbody>\n",
              "    <tr>\n",
              "      <th>0</th>\n",
              "      <td>NaN</td>\n",
              "      <td>2.0</td>\n",
              "    </tr>\n",
              "    <tr>\n",
              "      <th>1</th>\n",
              "      <td>1.0</td>\n",
              "      <td>NaN</td>\n",
              "    </tr>\n",
              "    <tr>\n",
              "      <th>2</th>\n",
              "      <td>NaN</td>\n",
              "      <td>3.0</td>\n",
              "    </tr>\n",
              "    <tr>\n",
              "      <th>3</th>\n",
              "      <td>1.0</td>\n",
              "      <td>NaN</td>\n",
              "    </tr>\n",
              "    <tr>\n",
              "      <th>4</th>\n",
              "      <td>1.0</td>\n",
              "      <td>4.0</td>\n",
              "    </tr>\n",
              "    <tr>\n",
              "      <th>5</th>\n",
              "      <td>NaN</td>\n",
              "      <td>3.0</td>\n",
              "    </tr>\n",
              "    <tr>\n",
              "      <th>6</th>\n",
              "      <td>2.0</td>\n",
              "      <td>NaN</td>\n",
              "    </tr>\n",
              "  </tbody>\n",
              "</table>\n",
              "</div>"
            ],
            "text/plain": [
              "   Colonne Inutile  Colonne Peu Utile\n",
              "0              NaN                2.0\n",
              "1              1.0                NaN\n",
              "2              NaN                3.0\n",
              "3              1.0                NaN\n",
              "4              1.0                4.0\n",
              "5              NaN                3.0\n",
              "6              2.0                NaN"
            ]
          },
          "metadata": {
            "tags": []
          },
          "execution_count": 159
        }
      ]
    },
    {
      "cell_type": "code",
      "metadata": {
        "colab": {
          "base_uri": "https://localhost:8080/"
        },
        "id": "iWn1GYxtEQMA",
        "outputId": "80938457-c781-4c69-a5c9-aed5fc6c76b3"
      },
      "source": [
        "numerical_columns=df.select_dtypes(include=['number']).columns\r\n",
        "\r\n",
        "numerical_columns"
      ],
      "execution_count": 161,
      "outputs": [
        {
          "output_type": "execute_result",
          "data": {
            "text/plain": [
              "Index(['Colonne Inutile', 'Colonne Peu Utile'], dtype='object')"
            ]
          },
          "metadata": {
            "tags": []
          },
          "execution_count": 161
        }
      ]
    },
    {
      "cell_type": "code",
      "metadata": {
        "colab": {
          "base_uri": "https://localhost:8080/",
          "height": 281
        },
        "id": "NzYef6GlEk1X",
        "outputId": "1907300f-4331-4414-8d82-73247ea63fe0"
      },
      "source": [
        "for col_name in numerical_columns:\r\n",
        "  moyenne=df[col_name].mean()\r\n",
        "  df[col_name].fillna(moyenne,inplace=True)\r\n",
        "\r\n",
        "df"
      ],
      "execution_count": 164,
      "outputs": [
        {
          "output_type": "execute_result",
          "data": {
            "text/html": [
              "<div>\n",
              "<style scoped>\n",
              "    .dataframe tbody tr th:only-of-type {\n",
              "        vertical-align: middle;\n",
              "    }\n",
              "\n",
              "    .dataframe tbody tr th {\n",
              "        vertical-align: top;\n",
              "    }\n",
              "\n",
              "    .dataframe thead th {\n",
              "        text-align: right;\n",
              "    }\n",
              "</style>\n",
              "<table border=\"1\" class=\"dataframe\">\n",
              "  <thead>\n",
              "    <tr style=\"text-align: right;\">\n",
              "      <th></th>\n",
              "      <th>Colonne Importante</th>\n",
              "      <th>Colonne Inutile</th>\n",
              "      <th>Colonne Peu Utile</th>\n",
              "      <th>Colonne Importante_Missing</th>\n",
              "      <th>Colonne Inutile_Missing</th>\n",
              "      <th>Colonne Peu Utile_Missing</th>\n",
              "    </tr>\n",
              "  </thead>\n",
              "  <tbody>\n",
              "    <tr>\n",
              "      <th>0</th>\n",
              "      <td>Oui</td>\n",
              "      <td>1.25</td>\n",
              "      <td>2.0</td>\n",
              "      <td>False</td>\n",
              "      <td>True</td>\n",
              "      <td>False</td>\n",
              "    </tr>\n",
              "    <tr>\n",
              "      <th>1</th>\n",
              "      <td>Non</td>\n",
              "      <td>1.00</td>\n",
              "      <td>3.0</td>\n",
              "      <td>False</td>\n",
              "      <td>False</td>\n",
              "      <td>True</td>\n",
              "    </tr>\n",
              "    <tr>\n",
              "      <th>2</th>\n",
              "      <td>Légerement</td>\n",
              "      <td>1.25</td>\n",
              "      <td>3.0</td>\n",
              "      <td>False</td>\n",
              "      <td>True</td>\n",
              "      <td>False</td>\n",
              "    </tr>\n",
              "    <tr>\n",
              "      <th>3</th>\n",
              "      <td>missing</td>\n",
              "      <td>1.00</td>\n",
              "      <td>3.0</td>\n",
              "      <td>True</td>\n",
              "      <td>False</td>\n",
              "      <td>True</td>\n",
              "    </tr>\n",
              "    <tr>\n",
              "      <th>4</th>\n",
              "      <td>Oui</td>\n",
              "      <td>1.00</td>\n",
              "      <td>4.0</td>\n",
              "      <td>False</td>\n",
              "      <td>False</td>\n",
              "      <td>False</td>\n",
              "    </tr>\n",
              "    <tr>\n",
              "      <th>5</th>\n",
              "      <td>missing</td>\n",
              "      <td>1.25</td>\n",
              "      <td>3.0</td>\n",
              "      <td>True</td>\n",
              "      <td>True</td>\n",
              "      <td>False</td>\n",
              "    </tr>\n",
              "    <tr>\n",
              "      <th>6</th>\n",
              "      <td>missing</td>\n",
              "      <td>2.00</td>\n",
              "      <td>3.0</td>\n",
              "      <td>True</td>\n",
              "      <td>False</td>\n",
              "      <td>True</td>\n",
              "    </tr>\n",
              "  </tbody>\n",
              "</table>\n",
              "</div>"
            ],
            "text/plain": [
              "  Colonne Importante  ...  Colonne Peu Utile_Missing\n",
              "0                Oui  ...                      False\n",
              "1                Non  ...                       True\n",
              "2         Légerement  ...                      False\n",
              "3            missing  ...                       True\n",
              "4                Oui  ...                      False\n",
              "5            missing  ...                      False\n",
              "6            missing  ...                       True\n",
              "\n",
              "[7 rows x 6 columns]"
            ]
          },
          "metadata": {
            "tags": []
          },
          "execution_count": 164
        }
      ]
    },
    {
      "cell_type": "code",
      "metadata": {
        "colab": {
          "base_uri": "https://localhost:8080/"
        },
        "id": "UCgUdLr3F9hO",
        "outputId": "343bda83-923f-4f1e-8fb6-1ee7aaaa07d6"
      },
      "source": [
        "df.isna().sum()"
      ],
      "execution_count": 165,
      "outputs": [
        {
          "output_type": "execute_result",
          "data": {
            "text/plain": [
              "Colonne Importante            0\n",
              "Colonne Inutile               0\n",
              "Colonne Peu Utile             0\n",
              "Colonne Importante_Missing    0\n",
              "Colonne Inutile_Missing       0\n",
              "Colonne Peu Utile_Missing     0\n",
              "dtype: int64"
            ]
          },
          "metadata": {
            "tags": []
          },
          "execution_count": 165
        }
      ]
    },
    {
      "cell_type": "markdown",
      "metadata": {
        "id": "p6RxZWbvHm36"
      },
      "source": [
        "# Correction Vintage Auction"
      ]
    },
    {
      "cell_type": "code",
      "metadata": {
        "colab": {
          "base_uri": "https://localhost:8080/",
          "height": 202
        },
        "id": "y35YQkoKGUsx",
        "outputId": "b43cefcf-a8cb-4ce3-fbd2-f479e5435293"
      },
      "source": [
        "import pandas as pd\r\n",
        "\r\n",
        "df=pd.read_csv('/content/vintage-auctions.csv',index_col=0)\r\n",
        "df.head()"
      ],
      "execution_count": 28,
      "outputs": [
        {
          "output_type": "execute_result",
          "data": {
            "text/html": [
              "<div>\n",
              "<style scoped>\n",
              "    .dataframe tbody tr th:only-of-type {\n",
              "        vertical-align: middle;\n",
              "    }\n",
              "\n",
              "    .dataframe tbody tr th {\n",
              "        vertical-align: top;\n",
              "    }\n",
              "\n",
              "    .dataframe thead th {\n",
              "        text-align: right;\n",
              "    }\n",
              "</style>\n",
              "<table border=\"1\" class=\"dataframe\">\n",
              "  <thead>\n",
              "    <tr style=\"text-align: right;\">\n",
              "      <th></th>\n",
              "      <th>tx id</th>\n",
              "      <th>time</th>\n",
              "      <th>auction</th>\n",
              "      <th>color</th>\n",
              "      <th>shirt size</th>\n",
              "      <th>condition</th>\n",
              "    </tr>\n",
              "  </thead>\n",
              "  <tbody>\n",
              "    <tr>\n",
              "      <th>0</th>\n",
              "      <td>8dbf3cfa48b25f32e300f279bb4163c67d5c60cd</td>\n",
              "      <td>3:36 PM</td>\n",
              "      <td>$17.18</td>\n",
              "      <td>Puce</td>\n",
              "      <td>S</td>\n",
              "      <td>used</td>\n",
              "    </tr>\n",
              "    <tr>\n",
              "      <th>1</th>\n",
              "      <td>8ccebfdb1a41830bdcc0e926531f3215986b3a90</td>\n",
              "      <td>9:03 AM</td>\n",
              "      <td>$15.19</td>\n",
              "      <td>Aquamarine</td>\n",
              "      <td>L</td>\n",
              "      <td>never worn</td>\n",
              "    </tr>\n",
              "    <tr>\n",
              "      <th>2</th>\n",
              "      <td>ae85a421a91cec8baf16ff1e45fb3e239130b584</td>\n",
              "      <td>7:42 PM</td>\n",
              "      <td>$7.58</td>\n",
              "      <td>Violet</td>\n",
              "      <td>L</td>\n",
              "      <td>used</td>\n",
              "    </tr>\n",
              "    <tr>\n",
              "      <th>3</th>\n",
              "      <td>85e44f09a04a79182befcfd55e288a855f633e81</td>\n",
              "      <td>10:28 PM</td>\n",
              "      <td>$9.10</td>\n",
              "      <td>Goldenrod</td>\n",
              "      <td>XS</td>\n",
              "      <td>NaN</td>\n",
              "    </tr>\n",
              "    <tr>\n",
              "      <th>4</th>\n",
              "      <td>ff750bfca4910cfa7f538fbe5463457839021680</td>\n",
              "      <td>6:38 AM</td>\n",
              "      <td>$8.22</td>\n",
              "      <td>NaN</td>\n",
              "      <td>2XL</td>\n",
              "      <td>used</td>\n",
              "    </tr>\n",
              "  </tbody>\n",
              "</table>\n",
              "</div>"
            ],
            "text/plain": [
              "                                      tx id      time  ... shirt size   condition\n",
              "0  8dbf3cfa48b25f32e300f279bb4163c67d5c60cd   3:36 PM  ...          S        used\n",
              "1  8ccebfdb1a41830bdcc0e926531f3215986b3a90   9:03 AM  ...          L  never worn\n",
              "2  ae85a421a91cec8baf16ff1e45fb3e239130b584   7:42 PM  ...          L        used\n",
              "3  85e44f09a04a79182befcfd55e288a855f633e81  10:28 PM  ...         XS         NaN\n",
              "4  ff750bfca4910cfa7f538fbe5463457839021680   6:38 AM  ...        2XL        used\n",
              "\n",
              "[5 rows x 6 columns]"
            ]
          },
          "metadata": {
            "tags": []
          },
          "execution_count": 28
        }
      ]
    },
    {
      "cell_type": "code",
      "metadata": {
        "colab": {
          "base_uri": "https://localhost:8080/"
        },
        "id": "UX5N9FTPH5j8",
        "outputId": "e29849b0-97c8-452b-f21d-a97290a033ad"
      },
      "source": [
        "df.shape"
      ],
      "execution_count": 167,
      "outputs": [
        {
          "output_type": "execute_result",
          "data": {
            "text/plain": [
              "(1000, 6)"
            ]
          },
          "metadata": {
            "tags": []
          },
          "execution_count": 167
        }
      ]
    },
    {
      "cell_type": "code",
      "metadata": {
        "colab": {
          "base_uri": "https://localhost:8080/"
        },
        "id": "2Qj0N1AgIS3H",
        "outputId": "435967cf-7425-41f8-e6dc-72fc4f44633d"
      },
      "source": [
        "df.dtypes"
      ],
      "execution_count": 168,
      "outputs": [
        {
          "output_type": "execute_result",
          "data": {
            "text/plain": [
              "tx id         object\n",
              "time          object\n",
              "auction       object\n",
              "color         object\n",
              "shirt size    object\n",
              "condition     object\n",
              "dtype: object"
            ]
          },
          "metadata": {
            "tags": []
          },
          "execution_count": 168
        }
      ]
    },
    {
      "cell_type": "code",
      "metadata": {
        "colab": {
          "base_uri": "https://localhost:8080/",
          "height": 202
        },
        "id": "9oWOgQ3aIWLI",
        "outputId": "fc43d368-7d8f-48a4-e27e-ea7aedcc01e6"
      },
      "source": [
        "df.tail()"
      ],
      "execution_count": 169,
      "outputs": [
        {
          "output_type": "execute_result",
          "data": {
            "text/html": [
              "<div>\n",
              "<style scoped>\n",
              "    .dataframe tbody tr th:only-of-type {\n",
              "        vertical-align: middle;\n",
              "    }\n",
              "\n",
              "    .dataframe tbody tr th {\n",
              "        vertical-align: top;\n",
              "    }\n",
              "\n",
              "    .dataframe thead th {\n",
              "        text-align: right;\n",
              "    }\n",
              "</style>\n",
              "<table border=\"1\" class=\"dataframe\">\n",
              "  <thead>\n",
              "    <tr style=\"text-align: right;\">\n",
              "      <th></th>\n",
              "      <th>tx id</th>\n",
              "      <th>time</th>\n",
              "      <th>auction</th>\n",
              "      <th>color</th>\n",
              "      <th>shirt size</th>\n",
              "      <th>condition</th>\n",
              "    </tr>\n",
              "  </thead>\n",
              "  <tbody>\n",
              "    <tr>\n",
              "      <th>995</th>\n",
              "      <td>6fa16b110f53367cf15e6e1dcffdcb4c2653f1ab</td>\n",
              "      <td>9:56 AM</td>\n",
              "      <td>$5.79</td>\n",
              "      <td>Violet</td>\n",
              "      <td>2XL</td>\n",
              "      <td>NaN</td>\n",
              "    </tr>\n",
              "    <tr>\n",
              "      <th>996</th>\n",
              "      <td>2b7b6cbc2224502c7137262575e97a450b336fc2</td>\n",
              "      <td>11:31 AM</td>\n",
              "      <td>$14.07</td>\n",
              "      <td>Purple</td>\n",
              "      <td>S</td>\n",
              "      <td>Used</td>\n",
              "    </tr>\n",
              "    <tr>\n",
              "      <th>997</th>\n",
              "      <td>7f2a5141de8a7f752f8f98722393ffa3b0fb1e7a</td>\n",
              "      <td>6:25 AM</td>\n",
              "      <td>$17.63</td>\n",
              "      <td>Yellow</td>\n",
              "      <td>XS</td>\n",
              "      <td>used</td>\n",
              "    </tr>\n",
              "    <tr>\n",
              "      <th>998</th>\n",
              "      <td>c4549687dee4d3061fd3c82433367bea083d4d05</td>\n",
              "      <td>2:22 AM</td>\n",
              "      <td>$17.00</td>\n",
              "      <td>Yellow</td>\n",
              "      <td>L</td>\n",
              "      <td>Used</td>\n",
              "    </tr>\n",
              "    <tr>\n",
              "      <th>999</th>\n",
              "      <td>abf227d09fe37b3e333b419e0854c6c2fd1caa50</td>\n",
              "      <td>7:47 PM</td>\n",
              "      <td>$17.05</td>\n",
              "      <td>Indigo</td>\n",
              "      <td>XL</td>\n",
              "      <td>used</td>\n",
              "    </tr>\n",
              "  </tbody>\n",
              "</table>\n",
              "</div>"
            ],
            "text/plain": [
              "                                        tx id      time  ... shirt size condition\n",
              "995  6fa16b110f53367cf15e6e1dcffdcb4c2653f1ab   9:56 AM  ...        2XL       NaN\n",
              "996  2b7b6cbc2224502c7137262575e97a450b336fc2  11:31 AM  ...          S      Used\n",
              "997  7f2a5141de8a7f752f8f98722393ffa3b0fb1e7a   6:25 AM  ...         XS      used\n",
              "998  c4549687dee4d3061fd3c82433367bea083d4d05   2:22 AM  ...          L      Used\n",
              "999  abf227d09fe37b3e333b419e0854c6c2fd1caa50   7:47 PM  ...         XL      used\n",
              "\n",
              "[5 rows x 6 columns]"
            ]
          },
          "metadata": {
            "tags": []
          },
          "execution_count": 169
        }
      ]
    },
    {
      "cell_type": "code",
      "metadata": {
        "colab": {
          "base_uri": "https://localhost:8080/"
        },
        "id": "kNwzcGgrIfuA",
        "outputId": "df2635ce-4681-4640-a511-e194d7d5db18"
      },
      "source": [
        "df.isna().sum()"
      ],
      "execution_count": 170,
      "outputs": [
        {
          "output_type": "execute_result",
          "data": {
            "text/plain": [
              "tx id           0\n",
              "time            0\n",
              "auction         0\n",
              "color          23\n",
              "shirt size      0\n",
              "condition     153\n",
              "dtype: int64"
            ]
          },
          "metadata": {
            "tags": []
          },
          "execution_count": 170
        }
      ]
    },
    {
      "cell_type": "markdown",
      "metadata": {
        "id": "OG8GZ1MpI-UJ"
      },
      "source": [
        "### Conversion de types"
      ]
    },
    {
      "cell_type": "code",
      "metadata": {
        "colab": {
          "base_uri": "https://localhost:8080/"
        },
        "id": "DaFWQy8WIo02",
        "outputId": "47259308-0dab-4ad8-9fbb-6fd760a923a4"
      },
      "source": [
        "df['time']=pd.to_datetime(df['time'])\r\n",
        "df['auction']=df['auction'].str.replace('$','').astype(float)\r\n",
        "df['color']=df['color'].astype('category') \r\n",
        "df['shirt size']=df['shirt size'].astype('category') \r\n",
        "df['condition']=df['condition'].astype('category')\r\n",
        "\r\n",
        "df.dtypes"
      ],
      "execution_count": 29,
      "outputs": [
        {
          "output_type": "execute_result",
          "data": {
            "text/plain": [
              "tx id                 object\n",
              "time          datetime64[ns]\n",
              "auction              float64\n",
              "color               category\n",
              "shirt size          category\n",
              "condition           category\n",
              "dtype: object"
            ]
          },
          "metadata": {
            "tags": []
          },
          "execution_count": 29
        }
      ]
    },
    {
      "cell_type": "code",
      "metadata": {
        "colab": {
          "base_uri": "https://localhost:8080/"
        },
        "id": "Tw9UWjGKMuxd",
        "outputId": "33b89886-0c7f-4dc4-a317-ba3399a701f9"
      },
      "source": [
        "df.dtypes"
      ],
      "execution_count": 180,
      "outputs": [
        {
          "output_type": "execute_result",
          "data": {
            "text/plain": [
              "tx id          object\n",
              "time           object\n",
              "auction       float64\n",
              "color          object\n",
              "shirt size     object\n",
              "condition      object\n",
              "dtype: object"
            ]
          },
          "metadata": {
            "tags": []
          },
          "execution_count": 180
        }
      ]
    },
    {
      "cell_type": "code",
      "metadata": {
        "colab": {
          "base_uri": "https://localhost:8080/"
        },
        "id": "M8Q2IZQJNtfX",
        "outputId": "9e56e061-f69a-4376-ffc3-a0cd031bd048"
      },
      "source": [
        "df.duplicated().sum()"
      ],
      "execution_count": 186,
      "outputs": [
        {
          "output_type": "execute_result",
          "data": {
            "text/plain": [
              "0"
            ]
          },
          "metadata": {
            "tags": []
          },
          "execution_count": 186
        }
      ]
    },
    {
      "cell_type": "markdown",
      "metadata": {
        "id": "c1-zejSBPgW-"
      },
      "source": [
        "### Créer la catégorie time_cat"
      ]
    },
    {
      "cell_type": "code",
      "metadata": {
        "colab": {
          "base_uri": "https://localhost:8080/",
          "height": 306
        },
        "id": "MzMxyXBiPWPR",
        "outputId": "a5539c76-4e55-4213-ac14-79d0cf4efd8f"
      },
      "source": [
        "tmp=df['time'].dt.hour * 100 + df['time'].dt.minute\r\n",
        "tmp=pd.cut(tmp,\r\n",
        "            bins=[0,59,629,1159,1359,1759,2059,2400],\r\n",
        "            labels=['soir','nuit','matin',\r\n",
        "                    'midi','après_midi','afterWork','soir2'])\r\n",
        "df['time_cat']=tmp.str.replace('2','').astype('category')\r\n",
        "\r\n",
        "df.head()"
      ],
      "execution_count": 30,
      "outputs": [
        {
          "output_type": "execute_result",
          "data": {
            "text/html": [
              "<div>\n",
              "<style scoped>\n",
              "    .dataframe tbody tr th:only-of-type {\n",
              "        vertical-align: middle;\n",
              "    }\n",
              "\n",
              "    .dataframe tbody tr th {\n",
              "        vertical-align: top;\n",
              "    }\n",
              "\n",
              "    .dataframe thead th {\n",
              "        text-align: right;\n",
              "    }\n",
              "</style>\n",
              "<table border=\"1\" class=\"dataframe\">\n",
              "  <thead>\n",
              "    <tr style=\"text-align: right;\">\n",
              "      <th></th>\n",
              "      <th>tx id</th>\n",
              "      <th>time</th>\n",
              "      <th>auction</th>\n",
              "      <th>color</th>\n",
              "      <th>shirt size</th>\n",
              "      <th>condition</th>\n",
              "      <th>time_cat</th>\n",
              "    </tr>\n",
              "  </thead>\n",
              "  <tbody>\n",
              "    <tr>\n",
              "      <th>0</th>\n",
              "      <td>8dbf3cfa48b25f32e300f279bb4163c67d5c60cd</td>\n",
              "      <td>2021-02-16 15:36:00</td>\n",
              "      <td>17.18</td>\n",
              "      <td>Puce</td>\n",
              "      <td>S</td>\n",
              "      <td>used</td>\n",
              "      <td>après_midi</td>\n",
              "    </tr>\n",
              "    <tr>\n",
              "      <th>1</th>\n",
              "      <td>8ccebfdb1a41830bdcc0e926531f3215986b3a90</td>\n",
              "      <td>2021-02-16 09:03:00</td>\n",
              "      <td>15.19</td>\n",
              "      <td>Aquamarine</td>\n",
              "      <td>L</td>\n",
              "      <td>never worn</td>\n",
              "      <td>matin</td>\n",
              "    </tr>\n",
              "    <tr>\n",
              "      <th>2</th>\n",
              "      <td>ae85a421a91cec8baf16ff1e45fb3e239130b584</td>\n",
              "      <td>2021-02-16 19:42:00</td>\n",
              "      <td>7.58</td>\n",
              "      <td>Violet</td>\n",
              "      <td>L</td>\n",
              "      <td>used</td>\n",
              "      <td>afterWork</td>\n",
              "    </tr>\n",
              "    <tr>\n",
              "      <th>3</th>\n",
              "      <td>85e44f09a04a79182befcfd55e288a855f633e81</td>\n",
              "      <td>2021-02-16 22:28:00</td>\n",
              "      <td>9.10</td>\n",
              "      <td>Goldenrod</td>\n",
              "      <td>XS</td>\n",
              "      <td>NaN</td>\n",
              "      <td>soir</td>\n",
              "    </tr>\n",
              "    <tr>\n",
              "      <th>4</th>\n",
              "      <td>ff750bfca4910cfa7f538fbe5463457839021680</td>\n",
              "      <td>2021-02-16 06:38:00</td>\n",
              "      <td>8.22</td>\n",
              "      <td>NaN</td>\n",
              "      <td>2XL</td>\n",
              "      <td>used</td>\n",
              "      <td>matin</td>\n",
              "    </tr>\n",
              "  </tbody>\n",
              "</table>\n",
              "</div>"
            ],
            "text/plain": [
              "                                      tx id  ...    time_cat\n",
              "0  8dbf3cfa48b25f32e300f279bb4163c67d5c60cd  ...  après_midi\n",
              "1  8ccebfdb1a41830bdcc0e926531f3215986b3a90  ...       matin\n",
              "2  ae85a421a91cec8baf16ff1e45fb3e239130b584  ...   afterWork\n",
              "3  85e44f09a04a79182befcfd55e288a855f633e81  ...        soir\n",
              "4  ff750bfca4910cfa7f538fbe5463457839021680  ...       matin\n",
              "\n",
              "[5 rows x 7 columns]"
            ]
          },
          "metadata": {
            "tags": []
          },
          "execution_count": 30
        }
      ]
    },
    {
      "cell_type": "code",
      "metadata": {
        "id": "xS8VlzSYT9C5"
      },
      "source": [
        "df.drop(['time','tx id'],\r\n",
        "        axis=1,\r\n",
        "        inplace=True)"
      ],
      "execution_count": 31,
      "outputs": []
    },
    {
      "cell_type": "code",
      "metadata": {
        "colab": {
          "base_uri": "https://localhost:8080/"
        },
        "id": "fsg2BeDzVjwn",
        "outputId": "715591a2-1011-4a3e-8e0f-596df7de47f2"
      },
      "source": [
        "df.dtypes"
      ],
      "execution_count": 10,
      "outputs": [
        {
          "output_type": "execute_result",
          "data": {
            "text/plain": [
              "auction        float64\n",
              "color         category\n",
              "shirt size    category\n",
              "condition     category\n",
              "time_cat      category\n",
              "dtype: object"
            ]
          },
          "metadata": {
            "tags": []
          },
          "execution_count": 10
        }
      ]
    },
    {
      "cell_type": "markdown",
      "metadata": {
        "id": "apV1ixK4W5fQ"
      },
      "source": [
        "# Encoder les catégories"
      ]
    },
    {
      "cell_type": "code",
      "metadata": {
        "colab": {
          "base_uri": "https://localhost:8080/"
        },
        "id": "w_qTSEFVWoGc",
        "outputId": "8628587a-e729-4a06-ec18-c558a62877e7"
      },
      "source": [
        "df.isna().sum()"
      ],
      "execution_count": 201,
      "outputs": [
        {
          "output_type": "execute_result",
          "data": {
            "text/plain": [
              "auction         0\n",
              "color          23\n",
              "shirt size      0\n",
              "condition     153\n",
              "time_cat        0\n",
              "dtype: int64"
            ]
          },
          "metadata": {
            "tags": []
          },
          "execution_count": 201
        }
      ]
    },
    {
      "cell_type": "code",
      "metadata": {
        "id": "UYKk72P1XMz3"
      },
      "source": [
        "pd.get_dummies?"
      ],
      "execution_count": 202,
      "outputs": []
    },
    {
      "cell_type": "code",
      "metadata": {
        "colab": {
          "base_uri": "https://localhost:8080/"
        },
        "id": "7tpLI2ExXdDm",
        "outputId": "144a9e6d-55a0-42c9-a182-cc9ad1438fc2"
      },
      "source": [
        "df=pd.get_dummies(df,dummy_na=True)\r\n",
        "df.dtypes.head()"
      ],
      "execution_count": 32,
      "outputs": [
        {
          "output_type": "execute_result",
          "data": {
            "text/plain": [
              "auction             float64\n",
              "color_Aquamarine      uint8\n",
              "color_Blue            uint8\n",
              "color_Crimson         uint8\n",
              "color_Fuscia          uint8\n",
              "dtype: object"
            ]
          },
          "metadata": {
            "tags": []
          },
          "execution_count": 32
        }
      ]
    },
    {
      "cell_type": "code",
      "metadata": {
        "colab": {
          "base_uri": "https://localhost:8080/"
        },
        "id": "mcXT6BtgYFSs",
        "outputId": "099868de-01c0-449e-f517-ff466fbe0374"
      },
      "source": [
        "df.columns"
      ],
      "execution_count": 33,
      "outputs": [
        {
          "output_type": "execute_result",
          "data": {
            "text/plain": [
              "Index(['auction', 'color_Aquamarine', 'color_Blue', 'color_Crimson',\n",
              "       'color_Fuscia', 'color_Goldenrod', 'color_Green', 'color_Indigo',\n",
              "       'color_Khaki', 'color_Maroon', 'color_Mauv', 'color_Orange',\n",
              "       'color_Pink', 'color_Puce', 'color_Purple', 'color_Red', 'color_Teal',\n",
              "       'color_Turquoise', 'color_Violet', 'color_Yellow', 'color_nan',\n",
              "       'shirt size_2XL', 'shirt size_3XL', 'shirt size_L', 'shirt size_M',\n",
              "       'shirt size_S', 'shirt size_XL', 'shirt size_XS', 'shirt size_nan',\n",
              "       'condition_Never Worn', 'condition_Used', 'condition_never worn',\n",
              "       'condition_used', 'condition_nan', 'time_cat_afterWork',\n",
              "       'time_cat_après_midi', 'time_cat_matin', 'time_cat_midi',\n",
              "       'time_cat_nuit', 'time_cat_soir', 'time_cat_nan'],\n",
              "      dtype='object')"
            ]
          },
          "metadata": {
            "tags": []
          },
          "execution_count": 33
        }
      ]
    },
    {
      "cell_type": "markdown",
      "metadata": {
        "id": "zianjYR6aZX_"
      },
      "source": [
        "# Split Train Test statifié par rapport à time_cat"
      ]
    },
    {
      "cell_type": "code",
      "metadata": {
        "colab": {
          "base_uri": "https://localhost:8080/"
        },
        "id": "S3tycn44Zgz7",
        "outputId": "8e36feae-d9e5-411c-9bad-89db3a5e0d2c"
      },
      "source": [
        "df.columns.str.contains('time_cat')"
      ],
      "execution_count": 208,
      "outputs": [
        {
          "output_type": "execute_result",
          "data": {
            "text/plain": [
              "array([False, False, False, False, False, False, False, False, False,\n",
              "       False, False, False, False, False, False, False, False, False,\n",
              "       False, False, False, False, False, False, False, False, False,\n",
              "       False, False, False, False, False, False, False,  True,  True,\n",
              "        True,  True,  True,  True,  True])"
            ]
          },
          "metadata": {
            "tags": []
          },
          "execution_count": 208
        }
      ]
    },
    {
      "cell_type": "code",
      "metadata": {
        "colab": {
          "base_uri": "https://localhost:8080/"
        },
        "id": "SLtOiLAgZ7oG",
        "outputId": "128408a3-e852-4269-c801-068a9749f53e"
      },
      "source": [
        "df.columns[df.columns.str.contains('time_cat')]"
      ],
      "execution_count": 209,
      "outputs": [
        {
          "output_type": "execute_result",
          "data": {
            "text/plain": [
              "Index(['time_cat_afterWork', 'time_cat_après_midi', 'time_cat_matin',\n",
              "       'time_cat_midi', 'time_cat_nuit', 'time_cat_soir', 'time_cat_nan'],\n",
              "      dtype='object')"
            ]
          },
          "metadata": {
            "tags": []
          },
          "execution_count": 209
        }
      ]
    },
    {
      "cell_type": "code",
      "metadata": {
        "colab": {
          "base_uri": "https://localhost:8080/",
          "height": 453
        },
        "id": "1rwTGFVXbI88",
        "outputId": "775c39c1-09c7-43f5-a819-99d0fb240adf"
      },
      "source": [
        "df[df['time_cat_matin']==1].sample(frac=0.8)"
      ],
      "execution_count": 34,
      "outputs": [
        {
          "output_type": "execute_result",
          "data": {
            "text/html": [
              "<div>\n",
              "<style scoped>\n",
              "    .dataframe tbody tr th:only-of-type {\n",
              "        vertical-align: middle;\n",
              "    }\n",
              "\n",
              "    .dataframe tbody tr th {\n",
              "        vertical-align: top;\n",
              "    }\n",
              "\n",
              "    .dataframe thead th {\n",
              "        text-align: right;\n",
              "    }\n",
              "</style>\n",
              "<table border=\"1\" class=\"dataframe\">\n",
              "  <thead>\n",
              "    <tr style=\"text-align: right;\">\n",
              "      <th></th>\n",
              "      <th>auction</th>\n",
              "      <th>color_Aquamarine</th>\n",
              "      <th>color_Blue</th>\n",
              "      <th>color_Crimson</th>\n",
              "      <th>color_Fuscia</th>\n",
              "      <th>color_Goldenrod</th>\n",
              "      <th>color_Green</th>\n",
              "      <th>color_Indigo</th>\n",
              "      <th>color_Khaki</th>\n",
              "      <th>color_Maroon</th>\n",
              "      <th>color_Mauv</th>\n",
              "      <th>color_Orange</th>\n",
              "      <th>color_Pink</th>\n",
              "      <th>color_Puce</th>\n",
              "      <th>color_Purple</th>\n",
              "      <th>color_Red</th>\n",
              "      <th>color_Teal</th>\n",
              "      <th>color_Turquoise</th>\n",
              "      <th>color_Violet</th>\n",
              "      <th>color_Yellow</th>\n",
              "      <th>color_nan</th>\n",
              "      <th>shirt size_2XL</th>\n",
              "      <th>shirt size_3XL</th>\n",
              "      <th>shirt size_L</th>\n",
              "      <th>shirt size_M</th>\n",
              "      <th>shirt size_S</th>\n",
              "      <th>shirt size_XL</th>\n",
              "      <th>shirt size_XS</th>\n",
              "      <th>shirt size_nan</th>\n",
              "      <th>condition_Never Worn</th>\n",
              "      <th>condition_Used</th>\n",
              "      <th>condition_never worn</th>\n",
              "      <th>condition_used</th>\n",
              "      <th>condition_nan</th>\n",
              "      <th>time_cat_afterWork</th>\n",
              "      <th>time_cat_après_midi</th>\n",
              "      <th>time_cat_matin</th>\n",
              "      <th>time_cat_midi</th>\n",
              "      <th>time_cat_nuit</th>\n",
              "      <th>time_cat_soir</th>\n",
              "      <th>time_cat_nan</th>\n",
              "    </tr>\n",
              "  </thead>\n",
              "  <tbody>\n",
              "    <tr>\n",
              "      <th>820</th>\n",
              "      <td>7.00</td>\n",
              "      <td>0</td>\n",
              "      <td>0</td>\n",
              "      <td>0</td>\n",
              "      <td>0</td>\n",
              "      <td>0</td>\n",
              "      <td>0</td>\n",
              "      <td>0</td>\n",
              "      <td>0</td>\n",
              "      <td>0</td>\n",
              "      <td>0</td>\n",
              "      <td>0</td>\n",
              "      <td>0</td>\n",
              "      <td>0</td>\n",
              "      <td>0</td>\n",
              "      <td>0</td>\n",
              "      <td>0</td>\n",
              "      <td>1</td>\n",
              "      <td>0</td>\n",
              "      <td>0</td>\n",
              "      <td>0</td>\n",
              "      <td>0</td>\n",
              "      <td>0</td>\n",
              "      <td>0</td>\n",
              "      <td>0</td>\n",
              "      <td>1</td>\n",
              "      <td>0</td>\n",
              "      <td>0</td>\n",
              "      <td>0</td>\n",
              "      <td>0</td>\n",
              "      <td>1</td>\n",
              "      <td>0</td>\n",
              "      <td>0</td>\n",
              "      <td>0</td>\n",
              "      <td>0</td>\n",
              "      <td>0</td>\n",
              "      <td>1</td>\n",
              "      <td>0</td>\n",
              "      <td>0</td>\n",
              "      <td>0</td>\n",
              "      <td>0</td>\n",
              "    </tr>\n",
              "    <tr>\n",
              "      <th>1</th>\n",
              "      <td>15.19</td>\n",
              "      <td>1</td>\n",
              "      <td>0</td>\n",
              "      <td>0</td>\n",
              "      <td>0</td>\n",
              "      <td>0</td>\n",
              "      <td>0</td>\n",
              "      <td>0</td>\n",
              "      <td>0</td>\n",
              "      <td>0</td>\n",
              "      <td>0</td>\n",
              "      <td>0</td>\n",
              "      <td>0</td>\n",
              "      <td>0</td>\n",
              "      <td>0</td>\n",
              "      <td>0</td>\n",
              "      <td>0</td>\n",
              "      <td>0</td>\n",
              "      <td>0</td>\n",
              "      <td>0</td>\n",
              "      <td>0</td>\n",
              "      <td>0</td>\n",
              "      <td>0</td>\n",
              "      <td>1</td>\n",
              "      <td>0</td>\n",
              "      <td>0</td>\n",
              "      <td>0</td>\n",
              "      <td>0</td>\n",
              "      <td>0</td>\n",
              "      <td>0</td>\n",
              "      <td>0</td>\n",
              "      <td>1</td>\n",
              "      <td>0</td>\n",
              "      <td>0</td>\n",
              "      <td>0</td>\n",
              "      <td>0</td>\n",
              "      <td>1</td>\n",
              "      <td>0</td>\n",
              "      <td>0</td>\n",
              "      <td>0</td>\n",
              "      <td>0</td>\n",
              "    </tr>\n",
              "    <tr>\n",
              "      <th>47</th>\n",
              "      <td>15.29</td>\n",
              "      <td>0</td>\n",
              "      <td>0</td>\n",
              "      <td>0</td>\n",
              "      <td>0</td>\n",
              "      <td>0</td>\n",
              "      <td>0</td>\n",
              "      <td>0</td>\n",
              "      <td>0</td>\n",
              "      <td>0</td>\n",
              "      <td>0</td>\n",
              "      <td>0</td>\n",
              "      <td>0</td>\n",
              "      <td>0</td>\n",
              "      <td>0</td>\n",
              "      <td>0</td>\n",
              "      <td>0</td>\n",
              "      <td>0</td>\n",
              "      <td>1</td>\n",
              "      <td>0</td>\n",
              "      <td>0</td>\n",
              "      <td>0</td>\n",
              "      <td>0</td>\n",
              "      <td>0</td>\n",
              "      <td>1</td>\n",
              "      <td>0</td>\n",
              "      <td>0</td>\n",
              "      <td>0</td>\n",
              "      <td>0</td>\n",
              "      <td>0</td>\n",
              "      <td>0</td>\n",
              "      <td>0</td>\n",
              "      <td>1</td>\n",
              "      <td>0</td>\n",
              "      <td>0</td>\n",
              "      <td>0</td>\n",
              "      <td>1</td>\n",
              "      <td>0</td>\n",
              "      <td>0</td>\n",
              "      <td>0</td>\n",
              "      <td>0</td>\n",
              "    </tr>\n",
              "    <tr>\n",
              "      <th>894</th>\n",
              "      <td>6.65</td>\n",
              "      <td>0</td>\n",
              "      <td>0</td>\n",
              "      <td>0</td>\n",
              "      <td>0</td>\n",
              "      <td>0</td>\n",
              "      <td>0</td>\n",
              "      <td>0</td>\n",
              "      <td>0</td>\n",
              "      <td>0</td>\n",
              "      <td>0</td>\n",
              "      <td>0</td>\n",
              "      <td>0</td>\n",
              "      <td>0</td>\n",
              "      <td>1</td>\n",
              "      <td>0</td>\n",
              "      <td>0</td>\n",
              "      <td>0</td>\n",
              "      <td>0</td>\n",
              "      <td>0</td>\n",
              "      <td>0</td>\n",
              "      <td>0</td>\n",
              "      <td>0</td>\n",
              "      <td>0</td>\n",
              "      <td>1</td>\n",
              "      <td>0</td>\n",
              "      <td>0</td>\n",
              "      <td>0</td>\n",
              "      <td>0</td>\n",
              "      <td>0</td>\n",
              "      <td>0</td>\n",
              "      <td>0</td>\n",
              "      <td>1</td>\n",
              "      <td>0</td>\n",
              "      <td>0</td>\n",
              "      <td>0</td>\n",
              "      <td>1</td>\n",
              "      <td>0</td>\n",
              "      <td>0</td>\n",
              "      <td>0</td>\n",
              "      <td>0</td>\n",
              "    </tr>\n",
              "    <tr>\n",
              "      <th>523</th>\n",
              "      <td>8.03</td>\n",
              "      <td>0</td>\n",
              "      <td>1</td>\n",
              "      <td>0</td>\n",
              "      <td>0</td>\n",
              "      <td>0</td>\n",
              "      <td>0</td>\n",
              "      <td>0</td>\n",
              "      <td>0</td>\n",
              "      <td>0</td>\n",
              "      <td>0</td>\n",
              "      <td>0</td>\n",
              "      <td>0</td>\n",
              "      <td>0</td>\n",
              "      <td>0</td>\n",
              "      <td>0</td>\n",
              "      <td>0</td>\n",
              "      <td>0</td>\n",
              "      <td>0</td>\n",
              "      <td>0</td>\n",
              "      <td>0</td>\n",
              "      <td>0</td>\n",
              "      <td>0</td>\n",
              "      <td>1</td>\n",
              "      <td>0</td>\n",
              "      <td>0</td>\n",
              "      <td>0</td>\n",
              "      <td>0</td>\n",
              "      <td>0</td>\n",
              "      <td>0</td>\n",
              "      <td>1</td>\n",
              "      <td>0</td>\n",
              "      <td>0</td>\n",
              "      <td>0</td>\n",
              "      <td>0</td>\n",
              "      <td>0</td>\n",
              "      <td>1</td>\n",
              "      <td>0</td>\n",
              "      <td>0</td>\n",
              "      <td>0</td>\n",
              "      <td>0</td>\n",
              "    </tr>\n",
              "    <tr>\n",
              "      <th>...</th>\n",
              "      <td>...</td>\n",
              "      <td>...</td>\n",
              "      <td>...</td>\n",
              "      <td>...</td>\n",
              "      <td>...</td>\n",
              "      <td>...</td>\n",
              "      <td>...</td>\n",
              "      <td>...</td>\n",
              "      <td>...</td>\n",
              "      <td>...</td>\n",
              "      <td>...</td>\n",
              "      <td>...</td>\n",
              "      <td>...</td>\n",
              "      <td>...</td>\n",
              "      <td>...</td>\n",
              "      <td>...</td>\n",
              "      <td>...</td>\n",
              "      <td>...</td>\n",
              "      <td>...</td>\n",
              "      <td>...</td>\n",
              "      <td>...</td>\n",
              "      <td>...</td>\n",
              "      <td>...</td>\n",
              "      <td>...</td>\n",
              "      <td>...</td>\n",
              "      <td>...</td>\n",
              "      <td>...</td>\n",
              "      <td>...</td>\n",
              "      <td>...</td>\n",
              "      <td>...</td>\n",
              "      <td>...</td>\n",
              "      <td>...</td>\n",
              "      <td>...</td>\n",
              "      <td>...</td>\n",
              "      <td>...</td>\n",
              "      <td>...</td>\n",
              "      <td>...</td>\n",
              "      <td>...</td>\n",
              "      <td>...</td>\n",
              "      <td>...</td>\n",
              "      <td>...</td>\n",
              "    </tr>\n",
              "    <tr>\n",
              "      <th>256</th>\n",
              "      <td>15.63</td>\n",
              "      <td>0</td>\n",
              "      <td>0</td>\n",
              "      <td>0</td>\n",
              "      <td>0</td>\n",
              "      <td>0</td>\n",
              "      <td>0</td>\n",
              "      <td>0</td>\n",
              "      <td>0</td>\n",
              "      <td>0</td>\n",
              "      <td>0</td>\n",
              "      <td>0</td>\n",
              "      <td>0</td>\n",
              "      <td>0</td>\n",
              "      <td>0</td>\n",
              "      <td>0</td>\n",
              "      <td>1</td>\n",
              "      <td>0</td>\n",
              "      <td>0</td>\n",
              "      <td>0</td>\n",
              "      <td>0</td>\n",
              "      <td>1</td>\n",
              "      <td>0</td>\n",
              "      <td>0</td>\n",
              "      <td>0</td>\n",
              "      <td>0</td>\n",
              "      <td>0</td>\n",
              "      <td>0</td>\n",
              "      <td>0</td>\n",
              "      <td>0</td>\n",
              "      <td>0</td>\n",
              "      <td>0</td>\n",
              "      <td>1</td>\n",
              "      <td>0</td>\n",
              "      <td>0</td>\n",
              "      <td>0</td>\n",
              "      <td>1</td>\n",
              "      <td>0</td>\n",
              "      <td>0</td>\n",
              "      <td>0</td>\n",
              "      <td>0</td>\n",
              "    </tr>\n",
              "    <tr>\n",
              "      <th>529</th>\n",
              "      <td>5.96</td>\n",
              "      <td>1</td>\n",
              "      <td>0</td>\n",
              "      <td>0</td>\n",
              "      <td>0</td>\n",
              "      <td>0</td>\n",
              "      <td>0</td>\n",
              "      <td>0</td>\n",
              "      <td>0</td>\n",
              "      <td>0</td>\n",
              "      <td>0</td>\n",
              "      <td>0</td>\n",
              "      <td>0</td>\n",
              "      <td>0</td>\n",
              "      <td>0</td>\n",
              "      <td>0</td>\n",
              "      <td>0</td>\n",
              "      <td>0</td>\n",
              "      <td>0</td>\n",
              "      <td>0</td>\n",
              "      <td>0</td>\n",
              "      <td>0</td>\n",
              "      <td>0</td>\n",
              "      <td>0</td>\n",
              "      <td>1</td>\n",
              "      <td>0</td>\n",
              "      <td>0</td>\n",
              "      <td>0</td>\n",
              "      <td>0</td>\n",
              "      <td>0</td>\n",
              "      <td>0</td>\n",
              "      <td>0</td>\n",
              "      <td>1</td>\n",
              "      <td>0</td>\n",
              "      <td>0</td>\n",
              "      <td>0</td>\n",
              "      <td>1</td>\n",
              "      <td>0</td>\n",
              "      <td>0</td>\n",
              "      <td>0</td>\n",
              "      <td>0</td>\n",
              "    </tr>\n",
              "    <tr>\n",
              "      <th>713</th>\n",
              "      <td>17.14</td>\n",
              "      <td>0</td>\n",
              "      <td>0</td>\n",
              "      <td>0</td>\n",
              "      <td>0</td>\n",
              "      <td>1</td>\n",
              "      <td>0</td>\n",
              "      <td>0</td>\n",
              "      <td>0</td>\n",
              "      <td>0</td>\n",
              "      <td>0</td>\n",
              "      <td>0</td>\n",
              "      <td>0</td>\n",
              "      <td>0</td>\n",
              "      <td>0</td>\n",
              "      <td>0</td>\n",
              "      <td>0</td>\n",
              "      <td>0</td>\n",
              "      <td>0</td>\n",
              "      <td>0</td>\n",
              "      <td>0</td>\n",
              "      <td>0</td>\n",
              "      <td>0</td>\n",
              "      <td>0</td>\n",
              "      <td>1</td>\n",
              "      <td>0</td>\n",
              "      <td>0</td>\n",
              "      <td>0</td>\n",
              "      <td>0</td>\n",
              "      <td>0</td>\n",
              "      <td>0</td>\n",
              "      <td>0</td>\n",
              "      <td>1</td>\n",
              "      <td>0</td>\n",
              "      <td>0</td>\n",
              "      <td>0</td>\n",
              "      <td>1</td>\n",
              "      <td>0</td>\n",
              "      <td>0</td>\n",
              "      <td>0</td>\n",
              "      <td>0</td>\n",
              "    </tr>\n",
              "    <tr>\n",
              "      <th>832</th>\n",
              "      <td>4.50</td>\n",
              "      <td>0</td>\n",
              "      <td>0</td>\n",
              "      <td>0</td>\n",
              "      <td>0</td>\n",
              "      <td>0</td>\n",
              "      <td>0</td>\n",
              "      <td>0</td>\n",
              "      <td>0</td>\n",
              "      <td>0</td>\n",
              "      <td>0</td>\n",
              "      <td>0</td>\n",
              "      <td>0</td>\n",
              "      <td>0</td>\n",
              "      <td>0</td>\n",
              "      <td>0</td>\n",
              "      <td>0</td>\n",
              "      <td>0</td>\n",
              "      <td>0</td>\n",
              "      <td>1</td>\n",
              "      <td>0</td>\n",
              "      <td>1</td>\n",
              "      <td>0</td>\n",
              "      <td>0</td>\n",
              "      <td>0</td>\n",
              "      <td>0</td>\n",
              "      <td>0</td>\n",
              "      <td>0</td>\n",
              "      <td>0</td>\n",
              "      <td>0</td>\n",
              "      <td>0</td>\n",
              "      <td>0</td>\n",
              "      <td>1</td>\n",
              "      <td>0</td>\n",
              "      <td>0</td>\n",
              "      <td>0</td>\n",
              "      <td>1</td>\n",
              "      <td>0</td>\n",
              "      <td>0</td>\n",
              "      <td>0</td>\n",
              "      <td>0</td>\n",
              "    </tr>\n",
              "    <tr>\n",
              "      <th>291</th>\n",
              "      <td>3.01</td>\n",
              "      <td>0</td>\n",
              "      <td>0</td>\n",
              "      <td>0</td>\n",
              "      <td>0</td>\n",
              "      <td>0</td>\n",
              "      <td>0</td>\n",
              "      <td>0</td>\n",
              "      <td>0</td>\n",
              "      <td>0</td>\n",
              "      <td>0</td>\n",
              "      <td>0</td>\n",
              "      <td>1</td>\n",
              "      <td>0</td>\n",
              "      <td>0</td>\n",
              "      <td>0</td>\n",
              "      <td>0</td>\n",
              "      <td>0</td>\n",
              "      <td>0</td>\n",
              "      <td>0</td>\n",
              "      <td>0</td>\n",
              "      <td>0</td>\n",
              "      <td>0</td>\n",
              "      <td>0</td>\n",
              "      <td>0</td>\n",
              "      <td>0</td>\n",
              "      <td>1</td>\n",
              "      <td>0</td>\n",
              "      <td>0</td>\n",
              "      <td>0</td>\n",
              "      <td>0</td>\n",
              "      <td>0</td>\n",
              "      <td>1</td>\n",
              "      <td>0</td>\n",
              "      <td>0</td>\n",
              "      <td>0</td>\n",
              "      <td>1</td>\n",
              "      <td>0</td>\n",
              "      <td>0</td>\n",
              "      <td>0</td>\n",
              "      <td>0</td>\n",
              "    </tr>\n",
              "  </tbody>\n",
              "</table>\n",
              "<p>177 rows × 41 columns</p>\n",
              "</div>"
            ],
            "text/plain": [
              "     auction  color_Aquamarine  ...  time_cat_soir  time_cat_nan\n",
              "820     7.00                 0  ...              0             0\n",
              "1      15.19                 1  ...              0             0\n",
              "47     15.29                 0  ...              0             0\n",
              "894     6.65                 0  ...              0             0\n",
              "523     8.03                 0  ...              0             0\n",
              "..       ...               ...  ...            ...           ...\n",
              "256    15.63                 0  ...              0             0\n",
              "529     5.96                 1  ...              0             0\n",
              "713    17.14                 0  ...              0             0\n",
              "832     4.50                 0  ...              0             0\n",
              "291     3.01                 0  ...              0             0\n",
              "\n",
              "[177 rows x 41 columns]"
            ]
          },
          "metadata": {
            "tags": []
          },
          "execution_count": 34
        }
      ]
    },
    {
      "cell_type": "code",
      "metadata": {
        "colab": {
          "base_uri": "https://localhost:8080/"
        },
        "id": "PMWfvMleb-2y",
        "outputId": "6697e086-ebab-4a73-f3a1-5452ff772afb"
      },
      "source": [
        "df['time_cat_matin']"
      ],
      "execution_count": 215,
      "outputs": [
        {
          "output_type": "execute_result",
          "data": {
            "text/plain": [
              "0      0\n",
              "1      1\n",
              "2      0\n",
              "3      0\n",
              "4      1\n",
              "      ..\n",
              "995    1\n",
              "996    1\n",
              "997    0\n",
              "998    0\n",
              "999    0\n",
              "Name: time_cat_matin, Length: 1000, dtype: uint8"
            ]
          },
          "metadata": {
            "tags": []
          },
          "execution_count": 215
        }
      ]
    },
    {
      "cell_type": "code",
      "metadata": {
        "id": "T9TRbc43aORW"
      },
      "source": [
        "time_cats=df.columns[df.columns.str.contains('time_cat')]\r\n",
        "\r\n",
        "#TRAIN SET\r\n",
        "train_part=[]\r\n",
        "for col_name in time_cats:\r\n",
        "  part=df[df[col_name]==1].sample(frac=0.9,\r\n",
        "                                  random_state=100)\r\n",
        "  train_part.append(part)\r\n",
        "\r\n",
        "train_set=pd.concat(train_part,\r\n",
        "                    axis=0)"
      ],
      "execution_count": 42,
      "outputs": []
    },
    {
      "cell_type": "code",
      "metadata": {
        "id": "3YHb0eAQcHPg"
      },
      "source": [
        "#df.index.isin(train_set)"
      ],
      "execution_count": 14,
      "outputs": []
    },
    {
      "cell_type": "code",
      "metadata": {
        "colab": {
          "base_uri": "https://localhost:8080/",
          "height": 453
        },
        "id": "pTBaUGxjhahn",
        "outputId": "4207bc0e-99da-4caf-965b-06bb03b62ffb"
      },
      "source": [
        "df[~df.index.isin(train_set.index)]\r\n"
      ],
      "execution_count": 25,
      "outputs": [
        {
          "output_type": "execute_result",
          "data": {
            "text/html": [
              "<div>\n",
              "<style scoped>\n",
              "    .dataframe tbody tr th:only-of-type {\n",
              "        vertical-align: middle;\n",
              "    }\n",
              "\n",
              "    .dataframe tbody tr th {\n",
              "        vertical-align: top;\n",
              "    }\n",
              "\n",
              "    .dataframe thead th {\n",
              "        text-align: right;\n",
              "    }\n",
              "</style>\n",
              "<table border=\"1\" class=\"dataframe\">\n",
              "  <thead>\n",
              "    <tr style=\"text-align: right;\">\n",
              "      <th></th>\n",
              "      <th>auction</th>\n",
              "      <th>color_Aquamarine</th>\n",
              "      <th>color_Blue</th>\n",
              "      <th>color_Crimson</th>\n",
              "      <th>color_Fuscia</th>\n",
              "      <th>color_Goldenrod</th>\n",
              "      <th>color_Green</th>\n",
              "      <th>color_Indigo</th>\n",
              "      <th>color_Khaki</th>\n",
              "      <th>color_Maroon</th>\n",
              "      <th>color_Mauv</th>\n",
              "      <th>color_Orange</th>\n",
              "      <th>color_Pink</th>\n",
              "      <th>color_Puce</th>\n",
              "      <th>color_Purple</th>\n",
              "      <th>color_Red</th>\n",
              "      <th>color_Teal</th>\n",
              "      <th>color_Turquoise</th>\n",
              "      <th>color_Violet</th>\n",
              "      <th>color_Yellow</th>\n",
              "      <th>color_nan</th>\n",
              "      <th>shirt size_2XL</th>\n",
              "      <th>shirt size_3XL</th>\n",
              "      <th>shirt size_L</th>\n",
              "      <th>shirt size_M</th>\n",
              "      <th>shirt size_S</th>\n",
              "      <th>shirt size_XL</th>\n",
              "      <th>shirt size_XS</th>\n",
              "      <th>shirt size_nan</th>\n",
              "      <th>condition_Never Worn</th>\n",
              "      <th>condition_Used</th>\n",
              "      <th>condition_never worn</th>\n",
              "      <th>condition_used</th>\n",
              "      <th>condition_nan</th>\n",
              "      <th>time_cat_afterWork</th>\n",
              "      <th>time_cat_après_midi</th>\n",
              "      <th>time_cat_matin</th>\n",
              "      <th>time_cat_midi</th>\n",
              "      <th>time_cat_nuit</th>\n",
              "      <th>time_cat_soir</th>\n",
              "      <th>time_cat_nan</th>\n",
              "    </tr>\n",
              "  </thead>\n",
              "  <tbody>\n",
              "    <tr>\n",
              "      <th>24</th>\n",
              "      <td>6.82</td>\n",
              "      <td>0</td>\n",
              "      <td>0</td>\n",
              "      <td>0</td>\n",
              "      <td>0</td>\n",
              "      <td>0</td>\n",
              "      <td>0</td>\n",
              "      <td>0</td>\n",
              "      <td>0</td>\n",
              "      <td>0</td>\n",
              "      <td>0</td>\n",
              "      <td>0</td>\n",
              "      <td>0</td>\n",
              "      <td>0</td>\n",
              "      <td>0</td>\n",
              "      <td>0</td>\n",
              "      <td>0</td>\n",
              "      <td>0</td>\n",
              "      <td>0</td>\n",
              "      <td>0</td>\n",
              "      <td>1</td>\n",
              "      <td>0</td>\n",
              "      <td>0</td>\n",
              "      <td>0</td>\n",
              "      <td>0</td>\n",
              "      <td>0</td>\n",
              "      <td>1</td>\n",
              "      <td>0</td>\n",
              "      <td>0</td>\n",
              "      <td>0</td>\n",
              "      <td>0</td>\n",
              "      <td>0</td>\n",
              "      <td>1</td>\n",
              "      <td>0</td>\n",
              "      <td>0</td>\n",
              "      <td>0</td>\n",
              "      <td>0</td>\n",
              "      <td>0</td>\n",
              "      <td>1</td>\n",
              "      <td>0</td>\n",
              "      <td>0</td>\n",
              "    </tr>\n",
              "    <tr>\n",
              "      <th>37</th>\n",
              "      <td>4.20</td>\n",
              "      <td>0</td>\n",
              "      <td>0</td>\n",
              "      <td>0</td>\n",
              "      <td>1</td>\n",
              "      <td>0</td>\n",
              "      <td>0</td>\n",
              "      <td>0</td>\n",
              "      <td>0</td>\n",
              "      <td>0</td>\n",
              "      <td>0</td>\n",
              "      <td>0</td>\n",
              "      <td>0</td>\n",
              "      <td>0</td>\n",
              "      <td>0</td>\n",
              "      <td>0</td>\n",
              "      <td>0</td>\n",
              "      <td>0</td>\n",
              "      <td>0</td>\n",
              "      <td>0</td>\n",
              "      <td>0</td>\n",
              "      <td>0</td>\n",
              "      <td>1</td>\n",
              "      <td>0</td>\n",
              "      <td>0</td>\n",
              "      <td>0</td>\n",
              "      <td>0</td>\n",
              "      <td>0</td>\n",
              "      <td>0</td>\n",
              "      <td>0</td>\n",
              "      <td>0</td>\n",
              "      <td>0</td>\n",
              "      <td>0</td>\n",
              "      <td>1</td>\n",
              "      <td>0</td>\n",
              "      <td>0</td>\n",
              "      <td>1</td>\n",
              "      <td>0</td>\n",
              "      <td>0</td>\n",
              "      <td>0</td>\n",
              "      <td>0</td>\n",
              "    </tr>\n",
              "    <tr>\n",
              "      <th>53</th>\n",
              "      <td>4.90</td>\n",
              "      <td>0</td>\n",
              "      <td>0</td>\n",
              "      <td>0</td>\n",
              "      <td>0</td>\n",
              "      <td>0</td>\n",
              "      <td>0</td>\n",
              "      <td>0</td>\n",
              "      <td>1</td>\n",
              "      <td>0</td>\n",
              "      <td>0</td>\n",
              "      <td>0</td>\n",
              "      <td>0</td>\n",
              "      <td>0</td>\n",
              "      <td>0</td>\n",
              "      <td>0</td>\n",
              "      <td>0</td>\n",
              "      <td>0</td>\n",
              "      <td>0</td>\n",
              "      <td>0</td>\n",
              "      <td>0</td>\n",
              "      <td>0</td>\n",
              "      <td>0</td>\n",
              "      <td>0</td>\n",
              "      <td>0</td>\n",
              "      <td>1</td>\n",
              "      <td>0</td>\n",
              "      <td>0</td>\n",
              "      <td>0</td>\n",
              "      <td>0</td>\n",
              "      <td>0</td>\n",
              "      <td>0</td>\n",
              "      <td>1</td>\n",
              "      <td>0</td>\n",
              "      <td>0</td>\n",
              "      <td>1</td>\n",
              "      <td>0</td>\n",
              "      <td>0</td>\n",
              "      <td>0</td>\n",
              "      <td>0</td>\n",
              "      <td>0</td>\n",
              "    </tr>\n",
              "    <tr>\n",
              "      <th>55</th>\n",
              "      <td>14.62</td>\n",
              "      <td>0</td>\n",
              "      <td>0</td>\n",
              "      <td>0</td>\n",
              "      <td>0</td>\n",
              "      <td>0</td>\n",
              "      <td>0</td>\n",
              "      <td>0</td>\n",
              "      <td>0</td>\n",
              "      <td>0</td>\n",
              "      <td>1</td>\n",
              "      <td>0</td>\n",
              "      <td>0</td>\n",
              "      <td>0</td>\n",
              "      <td>0</td>\n",
              "      <td>0</td>\n",
              "      <td>0</td>\n",
              "      <td>0</td>\n",
              "      <td>0</td>\n",
              "      <td>0</td>\n",
              "      <td>0</td>\n",
              "      <td>0</td>\n",
              "      <td>0</td>\n",
              "      <td>0</td>\n",
              "      <td>0</td>\n",
              "      <td>1</td>\n",
              "      <td>0</td>\n",
              "      <td>0</td>\n",
              "      <td>0</td>\n",
              "      <td>0</td>\n",
              "      <td>0</td>\n",
              "      <td>0</td>\n",
              "      <td>1</td>\n",
              "      <td>0</td>\n",
              "      <td>0</td>\n",
              "      <td>0</td>\n",
              "      <td>1</td>\n",
              "      <td>0</td>\n",
              "      <td>0</td>\n",
              "      <td>0</td>\n",
              "      <td>0</td>\n",
              "    </tr>\n",
              "    <tr>\n",
              "      <th>57</th>\n",
              "      <td>10.32</td>\n",
              "      <td>0</td>\n",
              "      <td>0</td>\n",
              "      <td>0</td>\n",
              "      <td>0</td>\n",
              "      <td>1</td>\n",
              "      <td>0</td>\n",
              "      <td>0</td>\n",
              "      <td>0</td>\n",
              "      <td>0</td>\n",
              "      <td>0</td>\n",
              "      <td>0</td>\n",
              "      <td>0</td>\n",
              "      <td>0</td>\n",
              "      <td>0</td>\n",
              "      <td>0</td>\n",
              "      <td>0</td>\n",
              "      <td>0</td>\n",
              "      <td>0</td>\n",
              "      <td>0</td>\n",
              "      <td>0</td>\n",
              "      <td>0</td>\n",
              "      <td>0</td>\n",
              "      <td>0</td>\n",
              "      <td>0</td>\n",
              "      <td>0</td>\n",
              "      <td>0</td>\n",
              "      <td>1</td>\n",
              "      <td>0</td>\n",
              "      <td>1</td>\n",
              "      <td>0</td>\n",
              "      <td>0</td>\n",
              "      <td>0</td>\n",
              "      <td>0</td>\n",
              "      <td>0</td>\n",
              "      <td>0</td>\n",
              "      <td>0</td>\n",
              "      <td>0</td>\n",
              "      <td>0</td>\n",
              "      <td>1</td>\n",
              "      <td>0</td>\n",
              "    </tr>\n",
              "    <tr>\n",
              "      <th>...</th>\n",
              "      <td>...</td>\n",
              "      <td>...</td>\n",
              "      <td>...</td>\n",
              "      <td>...</td>\n",
              "      <td>...</td>\n",
              "      <td>...</td>\n",
              "      <td>...</td>\n",
              "      <td>...</td>\n",
              "      <td>...</td>\n",
              "      <td>...</td>\n",
              "      <td>...</td>\n",
              "      <td>...</td>\n",
              "      <td>...</td>\n",
              "      <td>...</td>\n",
              "      <td>...</td>\n",
              "      <td>...</td>\n",
              "      <td>...</td>\n",
              "      <td>...</td>\n",
              "      <td>...</td>\n",
              "      <td>...</td>\n",
              "      <td>...</td>\n",
              "      <td>...</td>\n",
              "      <td>...</td>\n",
              "      <td>...</td>\n",
              "      <td>...</td>\n",
              "      <td>...</td>\n",
              "      <td>...</td>\n",
              "      <td>...</td>\n",
              "      <td>...</td>\n",
              "      <td>...</td>\n",
              "      <td>...</td>\n",
              "      <td>...</td>\n",
              "      <td>...</td>\n",
              "      <td>...</td>\n",
              "      <td>...</td>\n",
              "      <td>...</td>\n",
              "      <td>...</td>\n",
              "      <td>...</td>\n",
              "      <td>...</td>\n",
              "      <td>...</td>\n",
              "      <td>...</td>\n",
              "    </tr>\n",
              "    <tr>\n",
              "      <th>914</th>\n",
              "      <td>11.03</td>\n",
              "      <td>0</td>\n",
              "      <td>0</td>\n",
              "      <td>0</td>\n",
              "      <td>0</td>\n",
              "      <td>0</td>\n",
              "      <td>1</td>\n",
              "      <td>0</td>\n",
              "      <td>0</td>\n",
              "      <td>0</td>\n",
              "      <td>0</td>\n",
              "      <td>0</td>\n",
              "      <td>0</td>\n",
              "      <td>0</td>\n",
              "      <td>0</td>\n",
              "      <td>0</td>\n",
              "      <td>0</td>\n",
              "      <td>0</td>\n",
              "      <td>0</td>\n",
              "      <td>0</td>\n",
              "      <td>0</td>\n",
              "      <td>0</td>\n",
              "      <td>0</td>\n",
              "      <td>0</td>\n",
              "      <td>0</td>\n",
              "      <td>0</td>\n",
              "      <td>1</td>\n",
              "      <td>0</td>\n",
              "      <td>0</td>\n",
              "      <td>0</td>\n",
              "      <td>0</td>\n",
              "      <td>0</td>\n",
              "      <td>1</td>\n",
              "      <td>0</td>\n",
              "      <td>0</td>\n",
              "      <td>0</td>\n",
              "      <td>0</td>\n",
              "      <td>0</td>\n",
              "      <td>1</td>\n",
              "      <td>0</td>\n",
              "      <td>0</td>\n",
              "    </tr>\n",
              "    <tr>\n",
              "      <th>979</th>\n",
              "      <td>4.02</td>\n",
              "      <td>0</td>\n",
              "      <td>0</td>\n",
              "      <td>0</td>\n",
              "      <td>0</td>\n",
              "      <td>0</td>\n",
              "      <td>0</td>\n",
              "      <td>0</td>\n",
              "      <td>0</td>\n",
              "      <td>0</td>\n",
              "      <td>0</td>\n",
              "      <td>0</td>\n",
              "      <td>1</td>\n",
              "      <td>0</td>\n",
              "      <td>0</td>\n",
              "      <td>0</td>\n",
              "      <td>0</td>\n",
              "      <td>0</td>\n",
              "      <td>0</td>\n",
              "      <td>0</td>\n",
              "      <td>0</td>\n",
              "      <td>0</td>\n",
              "      <td>0</td>\n",
              "      <td>0</td>\n",
              "      <td>0</td>\n",
              "      <td>0</td>\n",
              "      <td>1</td>\n",
              "      <td>0</td>\n",
              "      <td>0</td>\n",
              "      <td>0</td>\n",
              "      <td>0</td>\n",
              "      <td>0</td>\n",
              "      <td>0</td>\n",
              "      <td>1</td>\n",
              "      <td>0</td>\n",
              "      <td>1</td>\n",
              "      <td>0</td>\n",
              "      <td>0</td>\n",
              "      <td>0</td>\n",
              "      <td>0</td>\n",
              "      <td>0</td>\n",
              "    </tr>\n",
              "    <tr>\n",
              "      <th>990</th>\n",
              "      <td>2.75</td>\n",
              "      <td>0</td>\n",
              "      <td>0</td>\n",
              "      <td>0</td>\n",
              "      <td>0</td>\n",
              "      <td>0</td>\n",
              "      <td>0</td>\n",
              "      <td>0</td>\n",
              "      <td>1</td>\n",
              "      <td>0</td>\n",
              "      <td>0</td>\n",
              "      <td>0</td>\n",
              "      <td>0</td>\n",
              "      <td>0</td>\n",
              "      <td>0</td>\n",
              "      <td>0</td>\n",
              "      <td>0</td>\n",
              "      <td>0</td>\n",
              "      <td>0</td>\n",
              "      <td>0</td>\n",
              "      <td>0</td>\n",
              "      <td>0</td>\n",
              "      <td>0</td>\n",
              "      <td>1</td>\n",
              "      <td>0</td>\n",
              "      <td>0</td>\n",
              "      <td>0</td>\n",
              "      <td>0</td>\n",
              "      <td>0</td>\n",
              "      <td>0</td>\n",
              "      <td>0</td>\n",
              "      <td>0</td>\n",
              "      <td>1</td>\n",
              "      <td>0</td>\n",
              "      <td>0</td>\n",
              "      <td>0</td>\n",
              "      <td>0</td>\n",
              "      <td>0</td>\n",
              "      <td>0</td>\n",
              "      <td>1</td>\n",
              "      <td>0</td>\n",
              "    </tr>\n",
              "    <tr>\n",
              "      <th>995</th>\n",
              "      <td>5.79</td>\n",
              "      <td>0</td>\n",
              "      <td>0</td>\n",
              "      <td>0</td>\n",
              "      <td>0</td>\n",
              "      <td>0</td>\n",
              "      <td>0</td>\n",
              "      <td>0</td>\n",
              "      <td>0</td>\n",
              "      <td>0</td>\n",
              "      <td>0</td>\n",
              "      <td>0</td>\n",
              "      <td>0</td>\n",
              "      <td>0</td>\n",
              "      <td>0</td>\n",
              "      <td>0</td>\n",
              "      <td>0</td>\n",
              "      <td>0</td>\n",
              "      <td>1</td>\n",
              "      <td>0</td>\n",
              "      <td>0</td>\n",
              "      <td>1</td>\n",
              "      <td>0</td>\n",
              "      <td>0</td>\n",
              "      <td>0</td>\n",
              "      <td>0</td>\n",
              "      <td>0</td>\n",
              "      <td>0</td>\n",
              "      <td>0</td>\n",
              "      <td>0</td>\n",
              "      <td>0</td>\n",
              "      <td>0</td>\n",
              "      <td>0</td>\n",
              "      <td>1</td>\n",
              "      <td>0</td>\n",
              "      <td>0</td>\n",
              "      <td>1</td>\n",
              "      <td>0</td>\n",
              "      <td>0</td>\n",
              "      <td>0</td>\n",
              "      <td>0</td>\n",
              "    </tr>\n",
              "    <tr>\n",
              "      <th>997</th>\n",
              "      <td>17.63</td>\n",
              "      <td>0</td>\n",
              "      <td>0</td>\n",
              "      <td>0</td>\n",
              "      <td>0</td>\n",
              "      <td>0</td>\n",
              "      <td>0</td>\n",
              "      <td>0</td>\n",
              "      <td>0</td>\n",
              "      <td>0</td>\n",
              "      <td>0</td>\n",
              "      <td>0</td>\n",
              "      <td>0</td>\n",
              "      <td>0</td>\n",
              "      <td>0</td>\n",
              "      <td>0</td>\n",
              "      <td>0</td>\n",
              "      <td>0</td>\n",
              "      <td>0</td>\n",
              "      <td>1</td>\n",
              "      <td>0</td>\n",
              "      <td>0</td>\n",
              "      <td>0</td>\n",
              "      <td>0</td>\n",
              "      <td>0</td>\n",
              "      <td>0</td>\n",
              "      <td>0</td>\n",
              "      <td>1</td>\n",
              "      <td>0</td>\n",
              "      <td>0</td>\n",
              "      <td>0</td>\n",
              "      <td>0</td>\n",
              "      <td>1</td>\n",
              "      <td>0</td>\n",
              "      <td>0</td>\n",
              "      <td>0</td>\n",
              "      <td>0</td>\n",
              "      <td>0</td>\n",
              "      <td>1</td>\n",
              "      <td>0</td>\n",
              "      <td>0</td>\n",
              "    </tr>\n",
              "  </tbody>\n",
              "</table>\n",
              "<p>100 rows × 41 columns</p>\n",
              "</div>"
            ],
            "text/plain": [
              "     auction  color_Aquamarine  ...  time_cat_soir  time_cat_nan\n",
              "24      6.82                 0  ...              0             0\n",
              "37      4.20                 0  ...              0             0\n",
              "53      4.90                 0  ...              0             0\n",
              "55     14.62                 0  ...              0             0\n",
              "57     10.32                 0  ...              1             0\n",
              "..       ...               ...  ...            ...           ...\n",
              "914    11.03                 0  ...              0             0\n",
              "979     4.02                 0  ...              0             0\n",
              "990     2.75                 0  ...              1             0\n",
              "995     5.79                 0  ...              0             0\n",
              "997    17.63                 0  ...              0             0\n",
              "\n",
              "[100 rows x 41 columns]"
            ]
          },
          "metadata": {
            "tags": []
          },
          "execution_count": 25
        }
      ]
    },
    {
      "cell_type": "code",
      "metadata": {
        "colab": {
          "base_uri": "https://localhost:8080/"
        },
        "id": "3ItEaJsCfWr2",
        "outputId": "a5a3786a-3b7b-4162-b504-9c686cc5c176"
      },
      "source": [
        "#Trouver toutes les lignes qui ne sont pas dans le train_set\r\n",
        "not_in_train_set=~df.index.isin(train_set.index)\r\n",
        "\r\n",
        "#TEST SET \r\n",
        "test_set=df[not_in_train_set]\r\n",
        "\r\n",
        "#VALID SET\r\n",
        "valid_part=[]\r\n",
        "for col_name in time_cats:\r\n",
        "  part=train_set[train_set[col_name]==1].sample(frac=0.2,\r\n",
        "                                                random_state=101)\r\n",
        "  valid_part.append(part)\r\n",
        "\r\n",
        "valid_set=pd.concat(valid_part,\r\n",
        "                    axis=0)\r\n",
        "\r\n",
        "valid_set.shape\r\n",
        "\r\n",
        "#DANS LE TRAIN SET MAIS PAS DE LE VALID TEST\r\n",
        "\r\n",
        "(~train_set.index.isin(valid_set.index)).sum()\r\n",
        "\r\n",
        "not_in_valid_set=~train_set.index.isin(valid_set.index)\r\n",
        "\r\n",
        "#Recreer le test set\r\n",
        "\r\n",
        "train_set=train_set[not_in_valid_set]\r\n",
        "\r\n",
        "train_set.shape\r\n",
        "valid_set.shape\r\n",
        "test_set.shape\r\n",
        "\r\n"
      ],
      "execution_count": 43,
      "outputs": [
        {
          "output_type": "execute_result",
          "data": {
            "text/plain": [
              "(100, 41)"
            ]
          },
          "metadata": {
            "tags": []
          },
          "execution_count": 43
        }
      ]
    },
    {
      "cell_type": "code",
      "metadata": {
        "id": "FD8bK2MJfk5E"
      },
      "source": [
        "#del valid_set, valid_part"
      ],
      "execution_count": 38,
      "outputs": []
    },
    {
      "cell_type": "markdown",
      "metadata": {
        "id": "BbATypT_tenI"
      },
      "source": [
        "# Sauvegarde"
      ]
    },
    {
      "cell_type": "code",
      "metadata": {
        "id": "qb3fOwa6g7PY"
      },
      "source": [
        "train_set.to_csv('train_se.csv',\r\n",
        "                 index=None)\r\n",
        "test_set.to_csv('test_set.csv',\r\n",
        "                index=None)\r\n",
        "valid_set.to_csv('valid_set.csv',\r\n",
        "                 index=None)"
      ],
      "execution_count": 44,
      "outputs": []
    },
    {
      "cell_type": "markdown",
      "metadata": {
        "id": "cebF-BxDy11m"
      },
      "source": [
        "# Isoler la variable cible 'auction'"
      ]
    },
    {
      "cell_type": "code",
      "metadata": {
        "id": "Q4nkI0onyw-H"
      },
      "source": [
        "train_fp='/content/train_se.csv'\r\n",
        "test_fp='/content/test_se.csv'\r\n",
        "valid_fp='/content/valid_se.csv'"
      ],
      "execution_count": 123,
      "outputs": []
    },
    {
      "cell_type": "code",
      "metadata": {
        "colab": {
          "base_uri": "https://localhost:8080/",
          "height": 239
        },
        "id": "QJhQWu9YzqBe",
        "outputId": "aab7629e-89de-4be1-b375-00768dff0598"
      },
      "source": [
        "df=pd.read_csv(train_fp)\r\n",
        "df.head()"
      ],
      "execution_count": 124,
      "outputs": [
        {
          "output_type": "execute_result",
          "data": {
            "text/html": [
              "<div>\n",
              "<style scoped>\n",
              "    .dataframe tbody tr th:only-of-type {\n",
              "        vertical-align: middle;\n",
              "    }\n",
              "\n",
              "    .dataframe tbody tr th {\n",
              "        vertical-align: top;\n",
              "    }\n",
              "\n",
              "    .dataframe thead th {\n",
              "        text-align: right;\n",
              "    }\n",
              "</style>\n",
              "<table border=\"1\" class=\"dataframe\">\n",
              "  <thead>\n",
              "    <tr style=\"text-align: right;\">\n",
              "      <th></th>\n",
              "      <th>auction</th>\n",
              "      <th>color_Aquamarine</th>\n",
              "      <th>color_Blue</th>\n",
              "      <th>color_Crimson</th>\n",
              "      <th>color_Fuscia</th>\n",
              "      <th>color_Goldenrod</th>\n",
              "      <th>color_Green</th>\n",
              "      <th>color_Indigo</th>\n",
              "      <th>color_Khaki</th>\n",
              "      <th>color_Maroon</th>\n",
              "      <th>color_Mauv</th>\n",
              "      <th>color_Orange</th>\n",
              "      <th>color_Pink</th>\n",
              "      <th>color_Puce</th>\n",
              "      <th>color_Purple</th>\n",
              "      <th>color_Red</th>\n",
              "      <th>color_Teal</th>\n",
              "      <th>color_Turquoise</th>\n",
              "      <th>color_Violet</th>\n",
              "      <th>color_Yellow</th>\n",
              "      <th>color_nan</th>\n",
              "      <th>shirt size_2XL</th>\n",
              "      <th>shirt size_3XL</th>\n",
              "      <th>shirt size_L</th>\n",
              "      <th>shirt size_M</th>\n",
              "      <th>shirt size_S</th>\n",
              "      <th>shirt size_XL</th>\n",
              "      <th>shirt size_XS</th>\n",
              "      <th>shirt size_nan</th>\n",
              "      <th>condition_Never Worn</th>\n",
              "      <th>condition_Used</th>\n",
              "      <th>condition_never worn</th>\n",
              "      <th>condition_used</th>\n",
              "      <th>condition_nan</th>\n",
              "      <th>time_cat_afterWork</th>\n",
              "      <th>time_cat_après_midi</th>\n",
              "      <th>time_cat_matin</th>\n",
              "      <th>time_cat_midi</th>\n",
              "      <th>time_cat_nuit</th>\n",
              "      <th>time_cat_soir</th>\n",
              "      <th>time_cat_nan</th>\n",
              "    </tr>\n",
              "  </thead>\n",
              "  <tbody>\n",
              "    <tr>\n",
              "      <th>0</th>\n",
              "      <td>9.41</td>\n",
              "      <td>0</td>\n",
              "      <td>0</td>\n",
              "      <td>0</td>\n",
              "      <td>0</td>\n",
              "      <td>0</td>\n",
              "      <td>0</td>\n",
              "      <td>0</td>\n",
              "      <td>0</td>\n",
              "      <td>0</td>\n",
              "      <td>0</td>\n",
              "      <td>0</td>\n",
              "      <td>0</td>\n",
              "      <td>0</td>\n",
              "      <td>1</td>\n",
              "      <td>0</td>\n",
              "      <td>0</td>\n",
              "      <td>0</td>\n",
              "      <td>0</td>\n",
              "      <td>0</td>\n",
              "      <td>0</td>\n",
              "      <td>0</td>\n",
              "      <td>0</td>\n",
              "      <td>0</td>\n",
              "      <td>0</td>\n",
              "      <td>0</td>\n",
              "      <td>1</td>\n",
              "      <td>0</td>\n",
              "      <td>0</td>\n",
              "      <td>0</td>\n",
              "      <td>0</td>\n",
              "      <td>1</td>\n",
              "      <td>0</td>\n",
              "      <td>0</td>\n",
              "      <td>1</td>\n",
              "      <td>0</td>\n",
              "      <td>0</td>\n",
              "      <td>0</td>\n",
              "      <td>0</td>\n",
              "      <td>0</td>\n",
              "      <td>0</td>\n",
              "    </tr>\n",
              "    <tr>\n",
              "      <th>1</th>\n",
              "      <td>10.49</td>\n",
              "      <td>0</td>\n",
              "      <td>0</td>\n",
              "      <td>0</td>\n",
              "      <td>0</td>\n",
              "      <td>0</td>\n",
              "      <td>0</td>\n",
              "      <td>0</td>\n",
              "      <td>0</td>\n",
              "      <td>1</td>\n",
              "      <td>0</td>\n",
              "      <td>0</td>\n",
              "      <td>0</td>\n",
              "      <td>0</td>\n",
              "      <td>0</td>\n",
              "      <td>0</td>\n",
              "      <td>0</td>\n",
              "      <td>0</td>\n",
              "      <td>0</td>\n",
              "      <td>0</td>\n",
              "      <td>0</td>\n",
              "      <td>0</td>\n",
              "      <td>0</td>\n",
              "      <td>0</td>\n",
              "      <td>1</td>\n",
              "      <td>0</td>\n",
              "      <td>0</td>\n",
              "      <td>0</td>\n",
              "      <td>0</td>\n",
              "      <td>1</td>\n",
              "      <td>0</td>\n",
              "      <td>0</td>\n",
              "      <td>0</td>\n",
              "      <td>0</td>\n",
              "      <td>1</td>\n",
              "      <td>0</td>\n",
              "      <td>0</td>\n",
              "      <td>0</td>\n",
              "      <td>0</td>\n",
              "      <td>0</td>\n",
              "      <td>0</td>\n",
              "    </tr>\n",
              "    <tr>\n",
              "      <th>2</th>\n",
              "      <td>9.87</td>\n",
              "      <td>0</td>\n",
              "      <td>0</td>\n",
              "      <td>0</td>\n",
              "      <td>0</td>\n",
              "      <td>0</td>\n",
              "      <td>0</td>\n",
              "      <td>0</td>\n",
              "      <td>0</td>\n",
              "      <td>1</td>\n",
              "      <td>0</td>\n",
              "      <td>0</td>\n",
              "      <td>0</td>\n",
              "      <td>0</td>\n",
              "      <td>0</td>\n",
              "      <td>0</td>\n",
              "      <td>0</td>\n",
              "      <td>0</td>\n",
              "      <td>0</td>\n",
              "      <td>0</td>\n",
              "      <td>0</td>\n",
              "      <td>0</td>\n",
              "      <td>1</td>\n",
              "      <td>0</td>\n",
              "      <td>0</td>\n",
              "      <td>0</td>\n",
              "      <td>0</td>\n",
              "      <td>0</td>\n",
              "      <td>0</td>\n",
              "      <td>0</td>\n",
              "      <td>0</td>\n",
              "      <td>0</td>\n",
              "      <td>1</td>\n",
              "      <td>0</td>\n",
              "      <td>1</td>\n",
              "      <td>0</td>\n",
              "      <td>0</td>\n",
              "      <td>0</td>\n",
              "      <td>0</td>\n",
              "      <td>0</td>\n",
              "      <td>0</td>\n",
              "    </tr>\n",
              "    <tr>\n",
              "      <th>3</th>\n",
              "      <td>6.76</td>\n",
              "      <td>0</td>\n",
              "      <td>0</td>\n",
              "      <td>0</td>\n",
              "      <td>0</td>\n",
              "      <td>0</td>\n",
              "      <td>0</td>\n",
              "      <td>0</td>\n",
              "      <td>0</td>\n",
              "      <td>1</td>\n",
              "      <td>0</td>\n",
              "      <td>0</td>\n",
              "      <td>0</td>\n",
              "      <td>0</td>\n",
              "      <td>0</td>\n",
              "      <td>0</td>\n",
              "      <td>0</td>\n",
              "      <td>0</td>\n",
              "      <td>0</td>\n",
              "      <td>0</td>\n",
              "      <td>0</td>\n",
              "      <td>1</td>\n",
              "      <td>0</td>\n",
              "      <td>0</td>\n",
              "      <td>0</td>\n",
              "      <td>0</td>\n",
              "      <td>0</td>\n",
              "      <td>0</td>\n",
              "      <td>0</td>\n",
              "      <td>0</td>\n",
              "      <td>0</td>\n",
              "      <td>0</td>\n",
              "      <td>1</td>\n",
              "      <td>0</td>\n",
              "      <td>1</td>\n",
              "      <td>0</td>\n",
              "      <td>0</td>\n",
              "      <td>0</td>\n",
              "      <td>0</td>\n",
              "      <td>0</td>\n",
              "      <td>0</td>\n",
              "    </tr>\n",
              "    <tr>\n",
              "      <th>4</th>\n",
              "      <td>16.85</td>\n",
              "      <td>0</td>\n",
              "      <td>0</td>\n",
              "      <td>1</td>\n",
              "      <td>0</td>\n",
              "      <td>0</td>\n",
              "      <td>0</td>\n",
              "      <td>0</td>\n",
              "      <td>0</td>\n",
              "      <td>0</td>\n",
              "      <td>0</td>\n",
              "      <td>0</td>\n",
              "      <td>0</td>\n",
              "      <td>0</td>\n",
              "      <td>0</td>\n",
              "      <td>0</td>\n",
              "      <td>0</td>\n",
              "      <td>0</td>\n",
              "      <td>0</td>\n",
              "      <td>0</td>\n",
              "      <td>0</td>\n",
              "      <td>0</td>\n",
              "      <td>0</td>\n",
              "      <td>0</td>\n",
              "      <td>1</td>\n",
              "      <td>0</td>\n",
              "      <td>0</td>\n",
              "      <td>0</td>\n",
              "      <td>0</td>\n",
              "      <td>0</td>\n",
              "      <td>0</td>\n",
              "      <td>0</td>\n",
              "      <td>1</td>\n",
              "      <td>0</td>\n",
              "      <td>1</td>\n",
              "      <td>0</td>\n",
              "      <td>0</td>\n",
              "      <td>0</td>\n",
              "      <td>0</td>\n",
              "      <td>0</td>\n",
              "      <td>0</td>\n",
              "    </tr>\n",
              "  </tbody>\n",
              "</table>\n",
              "</div>"
            ],
            "text/plain": [
              "   auction  color_Aquamarine  ...  time_cat_soir  time_cat_nan\n",
              "0     9.41                 0  ...              0             0\n",
              "1    10.49                 0  ...              0             0\n",
              "2     9.87                 0  ...              0             0\n",
              "3     6.76                 0  ...              0             0\n",
              "4    16.85                 0  ...              0             0\n",
              "\n",
              "[5 rows x 41 columns]"
            ]
          },
          "metadata": {
            "tags": []
          },
          "execution_count": 124
        }
      ]
    },
    {
      "cell_type": "code",
      "metadata": {
        "id": "T5go4hKX0Bmo"
      },
      "source": [
        "Y_train=df['auction']\r\n",
        "X_train=df.drop(['auction'],\r\n",
        "                axis=1)"
      ],
      "execution_count": 50,
      "outputs": []
    },
    {
      "cell_type": "code",
      "metadata": {
        "colab": {
          "base_uri": "https://localhost:8080/"
        },
        "id": "KVyzPr7f0xqc",
        "outputId": "c58f38be-b64f-47d1-acf0-5f02b93095f3"
      },
      "source": [
        "Y_train, X_train"
      ],
      "execution_count": 51,
      "outputs": [
        {
          "output_type": "execute_result",
          "data": {
            "text/plain": [
              "(0       9.41\n",
              " 1      10.49\n",
              " 2       9.87\n",
              " 3       6.76\n",
              " 4      16.85\n",
              "        ...  \n",
              " 715    16.90\n",
              " 716    16.60\n",
              " 717     3.97\n",
              " 718    18.98\n",
              " 719    17.31\n",
              " Name: auction, Length: 720, dtype: float64,\n",
              "      color_Aquamarine  color_Blue  ...  time_cat_soir  time_cat_nan\n",
              " 0                   0           0  ...              0             0\n",
              " 1                   0           0  ...              0             0\n",
              " 2                   0           0  ...              0             0\n",
              " 3                   0           0  ...              0             0\n",
              " 4                   0           0  ...              0             0\n",
              " ..                ...         ...  ...            ...           ...\n",
              " 715                 0           0  ...              1             0\n",
              " 716                 0           0  ...              1             0\n",
              " 717                 0           0  ...              1             0\n",
              " 718                 0           0  ...              1             0\n",
              " 719                 0           1  ...              1             0\n",
              " \n",
              " [720 rows x 40 columns])"
            ]
          },
          "metadata": {
            "tags": []
          },
          "execution_count": 51
        }
      ]
    },
    {
      "cell_type": "markdown",
      "metadata": {
        "id": "21919l442l_h"
      },
      "source": [
        "# Correction Diamonds"
      ]
    },
    {
      "cell_type": "code",
      "metadata": {
        "colab": {
          "base_uri": "https://localhost:8080/",
          "height": 202
        },
        "id": "9j3LFJP41CBi",
        "outputId": "324d901a-3ed7-4dee-b7e3-db5fa333001a"
      },
      "source": [
        "import pandas as pd\r\n",
        "\r\n",
        "df=pd.read_csv('/content/diamonds-data.csv',index_col=0)\r\n",
        "df.head()"
      ],
      "execution_count": 125,
      "outputs": [
        {
          "output_type": "execute_result",
          "data": {
            "text/html": [
              "<div>\n",
              "<style scoped>\n",
              "    .dataframe tbody tr th:only-of-type {\n",
              "        vertical-align: middle;\n",
              "    }\n",
              "\n",
              "    .dataframe tbody tr th {\n",
              "        vertical-align: top;\n",
              "    }\n",
              "\n",
              "    .dataframe thead th {\n",
              "        text-align: right;\n",
              "    }\n",
              "</style>\n",
              "<table border=\"1\" class=\"dataframe\">\n",
              "  <thead>\n",
              "    <tr style=\"text-align: right;\">\n",
              "      <th></th>\n",
              "      <th>carat</th>\n",
              "      <th>cut</th>\n",
              "      <th>color</th>\n",
              "      <th>clarity</th>\n",
              "      <th>depth</th>\n",
              "      <th>table</th>\n",
              "      <th>price</th>\n",
              "      <th>x</th>\n",
              "      <th>y</th>\n",
              "      <th>z</th>\n",
              "    </tr>\n",
              "  </thead>\n",
              "  <tbody>\n",
              "    <tr>\n",
              "      <th>1</th>\n",
              "      <td>0.23</td>\n",
              "      <td>Ideal</td>\n",
              "      <td>E</td>\n",
              "      <td>SI2</td>\n",
              "      <td>61.5</td>\n",
              "      <td>55.0</td>\n",
              "      <td>326</td>\n",
              "      <td>3.95</td>\n",
              "      <td>3.98</td>\n",
              "      <td>2.43</td>\n",
              "    </tr>\n",
              "    <tr>\n",
              "      <th>2</th>\n",
              "      <td>0.21</td>\n",
              "      <td>Premium</td>\n",
              "      <td>E</td>\n",
              "      <td>SI1</td>\n",
              "      <td>59.8</td>\n",
              "      <td>61.0</td>\n",
              "      <td>326</td>\n",
              "      <td>3.89</td>\n",
              "      <td>3.84</td>\n",
              "      <td>2.31</td>\n",
              "    </tr>\n",
              "    <tr>\n",
              "      <th>3</th>\n",
              "      <td>0.23</td>\n",
              "      <td>Good</td>\n",
              "      <td>E</td>\n",
              "      <td>VS1</td>\n",
              "      <td>56.9</td>\n",
              "      <td>65.0</td>\n",
              "      <td>327</td>\n",
              "      <td>4.05</td>\n",
              "      <td>4.07</td>\n",
              "      <td>2.31</td>\n",
              "    </tr>\n",
              "    <tr>\n",
              "      <th>4</th>\n",
              "      <td>0.29</td>\n",
              "      <td>Premium</td>\n",
              "      <td>I</td>\n",
              "      <td>VS2</td>\n",
              "      <td>62.4</td>\n",
              "      <td>58.0</td>\n",
              "      <td>334</td>\n",
              "      <td>4.20</td>\n",
              "      <td>4.23</td>\n",
              "      <td>2.63</td>\n",
              "    </tr>\n",
              "    <tr>\n",
              "      <th>5</th>\n",
              "      <td>0.31</td>\n",
              "      <td>Good</td>\n",
              "      <td>J</td>\n",
              "      <td>SI2</td>\n",
              "      <td>63.3</td>\n",
              "      <td>58.0</td>\n",
              "      <td>335</td>\n",
              "      <td>4.34</td>\n",
              "      <td>4.35</td>\n",
              "      <td>2.75</td>\n",
              "    </tr>\n",
              "  </tbody>\n",
              "</table>\n",
              "</div>"
            ],
            "text/plain": [
              "   carat      cut color clarity  depth  table  price     x     y     z\n",
              "1   0.23    Ideal     E     SI2   61.5   55.0    326  3.95  3.98  2.43\n",
              "2   0.21  Premium     E     SI1   59.8   61.0    326  3.89  3.84  2.31\n",
              "3   0.23     Good     E     VS1   56.9   65.0    327  4.05  4.07  2.31\n",
              "4   0.29  Premium     I     VS2   62.4   58.0    334  4.20  4.23  2.63\n",
              "5   0.31     Good     J     SI2   63.3   58.0    335  4.34  4.35  2.75"
            ]
          },
          "metadata": {
            "tags": []
          },
          "execution_count": 125
        }
      ]
    },
    {
      "cell_type": "code",
      "metadata": {
        "colab": {
          "base_uri": "https://localhost:8080/"
        },
        "id": "uWsFwu6S21Wk",
        "outputId": "52636227-edba-41c9-ac1f-259a3924987c"
      },
      "source": [
        "df.shape"
      ],
      "execution_count": 55,
      "outputs": [
        {
          "output_type": "execute_result",
          "data": {
            "text/plain": [
              "(53940, 10)"
            ]
          },
          "metadata": {
            "tags": []
          },
          "execution_count": 55
        }
      ]
    },
    {
      "cell_type": "code",
      "metadata": {
        "colab": {
          "base_uri": "https://localhost:8080/"
        },
        "id": "1P--gool3cHd",
        "outputId": "be8def29-ee11-4723-9c24-b47341b2bad9"
      },
      "source": [
        "df.dtypes"
      ],
      "execution_count": 59,
      "outputs": [
        {
          "output_type": "execute_result",
          "data": {
            "text/plain": [
              "carat      float64\n",
              "cut         object\n",
              "color       object\n",
              "clarity     object\n",
              "depth      float64\n",
              "table      float64\n",
              "price        int64\n",
              "x          float64\n",
              "y          float64\n",
              "z          float64\n",
              "dtype: object"
            ]
          },
          "metadata": {
            "tags": []
          },
          "execution_count": 59
        }
      ]
    },
    {
      "cell_type": "markdown",
      "metadata": {
        "id": "VsKrUUaE4KZ3"
      },
      "source": [
        "### Données manquantes "
      ]
    },
    {
      "cell_type": "code",
      "metadata": {
        "colab": {
          "base_uri": "https://localhost:8080/"
        },
        "id": "Mz5AmOzt4QHg",
        "outputId": "20368546-35be-44c7-f3f5-b60c4223644d"
      },
      "source": [
        "df.isna().sum()"
      ],
      "execution_count": 61,
      "outputs": [
        {
          "output_type": "execute_result",
          "data": {
            "text/plain": [
              "carat      0\n",
              "cut        0\n",
              "color      0\n",
              "clarity    0\n",
              "depth      0\n",
              "table      0\n",
              "price      0\n",
              "x          0\n",
              "y          0\n",
              "z          0\n",
              "dtype: int64"
            ]
          },
          "metadata": {
            "tags": []
          },
          "execution_count": 61
        }
      ]
    },
    {
      "cell_type": "markdown",
      "metadata": {
        "id": "svhf0F1T3kuV"
      },
      "source": [
        "### Dedoublonnage"
      ]
    },
    {
      "cell_type": "code",
      "metadata": {
        "colab": {
          "base_uri": "https://localhost:8080/"
        },
        "id": "DGnCYXH-30oo",
        "outputId": "90257ff8-b3e6-4e8f-b637-ace2b4dc5355"
      },
      "source": [
        "df.duplicated().sum()"
      ],
      "execution_count": 58,
      "outputs": [
        {
          "output_type": "execute_result",
          "data": {
            "text/plain": [
              "146"
            ]
          },
          "metadata": {
            "tags": []
          },
          "execution_count": 58
        }
      ]
    },
    {
      "cell_type": "code",
      "metadata": {
        "colab": {
          "base_uri": "https://localhost:8080/",
          "height": 415
        },
        "id": "VLU8Bq8t3eO0",
        "outputId": "7762b97b-efab-4a41-80ca-00dd82c115f2"
      },
      "source": [
        "df[df.duplicated()]"
      ],
      "execution_count": 57,
      "outputs": [
        {
          "output_type": "execute_result",
          "data": {
            "text/html": [
              "<div>\n",
              "<style scoped>\n",
              "    .dataframe tbody tr th:only-of-type {\n",
              "        vertical-align: middle;\n",
              "    }\n",
              "\n",
              "    .dataframe tbody tr th {\n",
              "        vertical-align: top;\n",
              "    }\n",
              "\n",
              "    .dataframe thead th {\n",
              "        text-align: right;\n",
              "    }\n",
              "</style>\n",
              "<table border=\"1\" class=\"dataframe\">\n",
              "  <thead>\n",
              "    <tr style=\"text-align: right;\">\n",
              "      <th></th>\n",
              "      <th>carat</th>\n",
              "      <th>cut</th>\n",
              "      <th>color</th>\n",
              "      <th>clarity</th>\n",
              "      <th>depth</th>\n",
              "      <th>table</th>\n",
              "      <th>price</th>\n",
              "      <th>x</th>\n",
              "      <th>y</th>\n",
              "      <th>z</th>\n",
              "    </tr>\n",
              "  </thead>\n",
              "  <tbody>\n",
              "    <tr>\n",
              "      <th>1006</th>\n",
              "      <td>0.79</td>\n",
              "      <td>Ideal</td>\n",
              "      <td>G</td>\n",
              "      <td>SI1</td>\n",
              "      <td>62.3</td>\n",
              "      <td>57.0</td>\n",
              "      <td>2898</td>\n",
              "      <td>5.90</td>\n",
              "      <td>5.85</td>\n",
              "      <td>3.66</td>\n",
              "    </tr>\n",
              "    <tr>\n",
              "      <th>1007</th>\n",
              "      <td>0.79</td>\n",
              "      <td>Ideal</td>\n",
              "      <td>G</td>\n",
              "      <td>SI1</td>\n",
              "      <td>62.3</td>\n",
              "      <td>57.0</td>\n",
              "      <td>2898</td>\n",
              "      <td>5.90</td>\n",
              "      <td>5.85</td>\n",
              "      <td>3.66</td>\n",
              "    </tr>\n",
              "    <tr>\n",
              "      <th>1008</th>\n",
              "      <td>0.79</td>\n",
              "      <td>Ideal</td>\n",
              "      <td>G</td>\n",
              "      <td>SI1</td>\n",
              "      <td>62.3</td>\n",
              "      <td>57.0</td>\n",
              "      <td>2898</td>\n",
              "      <td>5.90</td>\n",
              "      <td>5.85</td>\n",
              "      <td>3.66</td>\n",
              "    </tr>\n",
              "    <tr>\n",
              "      <th>1009</th>\n",
              "      <td>0.79</td>\n",
              "      <td>Ideal</td>\n",
              "      <td>G</td>\n",
              "      <td>SI1</td>\n",
              "      <td>62.3</td>\n",
              "      <td>57.0</td>\n",
              "      <td>2898</td>\n",
              "      <td>5.90</td>\n",
              "      <td>5.85</td>\n",
              "      <td>3.66</td>\n",
              "    </tr>\n",
              "    <tr>\n",
              "      <th>2026</th>\n",
              "      <td>1.52</td>\n",
              "      <td>Good</td>\n",
              "      <td>E</td>\n",
              "      <td>I1</td>\n",
              "      <td>57.3</td>\n",
              "      <td>58.0</td>\n",
              "      <td>3105</td>\n",
              "      <td>7.53</td>\n",
              "      <td>7.42</td>\n",
              "      <td>4.28</td>\n",
              "    </tr>\n",
              "    <tr>\n",
              "      <th>...</th>\n",
              "      <td>...</td>\n",
              "      <td>...</td>\n",
              "      <td>...</td>\n",
              "      <td>...</td>\n",
              "      <td>...</td>\n",
              "      <td>...</td>\n",
              "      <td>...</td>\n",
              "      <td>...</td>\n",
              "      <td>...</td>\n",
              "      <td>...</td>\n",
              "    </tr>\n",
              "    <tr>\n",
              "      <th>47970</th>\n",
              "      <td>0.52</td>\n",
              "      <td>Ideal</td>\n",
              "      <td>D</td>\n",
              "      <td>VS2</td>\n",
              "      <td>61.8</td>\n",
              "      <td>55.0</td>\n",
              "      <td>1919</td>\n",
              "      <td>5.19</td>\n",
              "      <td>5.16</td>\n",
              "      <td>3.20</td>\n",
              "    </tr>\n",
              "    <tr>\n",
              "      <th>49327</th>\n",
              "      <td>0.51</td>\n",
              "      <td>Ideal</td>\n",
              "      <td>F</td>\n",
              "      <td>VVS2</td>\n",
              "      <td>61.2</td>\n",
              "      <td>56.0</td>\n",
              "      <td>2093</td>\n",
              "      <td>5.17</td>\n",
              "      <td>5.19</td>\n",
              "      <td>3.17</td>\n",
              "    </tr>\n",
              "    <tr>\n",
              "      <th>49558</th>\n",
              "      <td>0.71</td>\n",
              "      <td>Good</td>\n",
              "      <td>F</td>\n",
              "      <td>SI2</td>\n",
              "      <td>64.1</td>\n",
              "      <td>60.0</td>\n",
              "      <td>2130</td>\n",
              "      <td>0.00</td>\n",
              "      <td>0.00</td>\n",
              "      <td>0.00</td>\n",
              "    </tr>\n",
              "    <tr>\n",
              "      <th>50080</th>\n",
              "      <td>0.51</td>\n",
              "      <td>Ideal</td>\n",
              "      <td>F</td>\n",
              "      <td>VVS2</td>\n",
              "      <td>61.2</td>\n",
              "      <td>56.0</td>\n",
              "      <td>2203</td>\n",
              "      <td>5.19</td>\n",
              "      <td>5.17</td>\n",
              "      <td>3.17</td>\n",
              "    </tr>\n",
              "    <tr>\n",
              "      <th>52862</th>\n",
              "      <td>0.50</td>\n",
              "      <td>Fair</td>\n",
              "      <td>E</td>\n",
              "      <td>VS2</td>\n",
              "      <td>79.0</td>\n",
              "      <td>73.0</td>\n",
              "      <td>2579</td>\n",
              "      <td>5.21</td>\n",
              "      <td>5.18</td>\n",
              "      <td>4.09</td>\n",
              "    </tr>\n",
              "  </tbody>\n",
              "</table>\n",
              "<p>146 rows × 10 columns</p>\n",
              "</div>"
            ],
            "text/plain": [
              "       carat    cut color clarity  depth  table  price     x     y     z\n",
              "1006    0.79  Ideal     G     SI1   62.3   57.0   2898  5.90  5.85  3.66\n",
              "1007    0.79  Ideal     G     SI1   62.3   57.0   2898  5.90  5.85  3.66\n",
              "1008    0.79  Ideal     G     SI1   62.3   57.0   2898  5.90  5.85  3.66\n",
              "1009    0.79  Ideal     G     SI1   62.3   57.0   2898  5.90  5.85  3.66\n",
              "2026    1.52   Good     E      I1   57.3   58.0   3105  7.53  7.42  4.28\n",
              "...      ...    ...   ...     ...    ...    ...    ...   ...   ...   ...\n",
              "47970   0.52  Ideal     D     VS2   61.8   55.0   1919  5.19  5.16  3.20\n",
              "49327   0.51  Ideal     F    VVS2   61.2   56.0   2093  5.17  5.19  3.17\n",
              "49558   0.71   Good     F     SI2   64.1   60.0   2130  0.00  0.00  0.00\n",
              "50080   0.51  Ideal     F    VVS2   61.2   56.0   2203  5.19  5.17  3.17\n",
              "52862   0.50   Fair     E     VS2   79.0   73.0   2579  5.21  5.18  4.09\n",
              "\n",
              "[146 rows x 10 columns]"
            ]
          },
          "metadata": {
            "tags": []
          },
          "execution_count": 57
        }
      ]
    },
    {
      "cell_type": "code",
      "metadata": {
        "id": "TYuqlCn83uuX"
      },
      "source": [
        "df.drop_duplicates(inplace=True)"
      ],
      "execution_count": 126,
      "outputs": []
    },
    {
      "cell_type": "code",
      "metadata": {
        "colab": {
          "base_uri": "https://localhost:8080/"
        },
        "id": "3IYJ4wSy5KOf",
        "outputId": "0e3f0cf2-3bce-4385-b8ec-6654b1a15c95"
      },
      "source": [
        "df.duplicated().sum()"
      ],
      "execution_count": 63,
      "outputs": [
        {
          "output_type": "execute_result",
          "data": {
            "text/plain": [
              "0"
            ]
          },
          "metadata": {
            "tags": []
          },
          "execution_count": 63
        }
      ]
    },
    {
      "cell_type": "markdown",
      "metadata": {
        "id": "7QlgbaoN5Vw9"
      },
      "source": [
        "### Encoder les catégories"
      ]
    },
    {
      "cell_type": "code",
      "metadata": {
        "colab": {
          "base_uri": "https://localhost:8080/"
        },
        "id": "8NyC4DYa5Qnn",
        "outputId": "59687a70-5645-4fdb-b5f1-25cc3ae4e444"
      },
      "source": [
        "df.dtypes"
      ],
      "execution_count": 64,
      "outputs": [
        {
          "output_type": "execute_result",
          "data": {
            "text/plain": [
              "carat      float64\n",
              "cut         object\n",
              "color       object\n",
              "clarity     object\n",
              "depth      float64\n",
              "table      float64\n",
              "price        int64\n",
              "x          float64\n",
              "y          float64\n",
              "z          float64\n",
              "dtype: object"
            ]
          },
          "metadata": {
            "tags": []
          },
          "execution_count": 64
        }
      ]
    },
    {
      "cell_type": "code",
      "metadata": {
        "colab": {
          "base_uri": "https://localhost:8080/"
        },
        "id": "Elxd8qHi6B3Z",
        "outputId": "c1ebea6f-2750-4a3c-b32c-45c5a752a983"
      },
      "source": [
        "df['cut'].astype('category')"
      ],
      "execution_count": 127,
      "outputs": [
        {
          "output_type": "execute_result",
          "data": {
            "text/plain": [
              "1            Ideal\n",
              "2          Premium\n",
              "3             Good\n",
              "4          Premium\n",
              "5             Good\n",
              "           ...    \n",
              "53936        Ideal\n",
              "53937         Good\n",
              "53938    Very Good\n",
              "53939      Premium\n",
              "53940        Ideal\n",
              "Name: cut, Length: 53794, dtype: category\n",
              "Categories (5, object): ['Fair', 'Good', 'Ideal', 'Premium', 'Very Good']"
            ]
          },
          "metadata": {
            "tags": []
          },
          "execution_count": 127
        }
      ]
    },
    {
      "cell_type": "code",
      "metadata": {
        "id": "RyBO3pKz6Zgh"
      },
      "source": [
        "df['cut']=df['cut'].astype('category')\r\n",
        "df['cut'].cat.reorder_categories(['Fair', 'Good','Very Good','Premium','Ideal'],\r\n",
        "                                 ordered=True,\r\n",
        "                                 inplace=True)"
      ],
      "execution_count": 128,
      "outputs": []
    },
    {
      "cell_type": "code",
      "metadata": {
        "colab": {
          "base_uri": "https://localhost:8080/"
        },
        "id": "_RLeEWBC-RQi",
        "outputId": "be309b27-3fde-4ca4-d06b-eaa706f7a136"
      },
      "source": [
        "df['cut']"
      ],
      "execution_count": 129,
      "outputs": [
        {
          "output_type": "execute_result",
          "data": {
            "text/plain": [
              "1            Ideal\n",
              "2          Premium\n",
              "3             Good\n",
              "4          Premium\n",
              "5             Good\n",
              "           ...    \n",
              "53936        Ideal\n",
              "53937         Good\n",
              "53938    Very Good\n",
              "53939      Premium\n",
              "53940        Ideal\n",
              "Name: cut, Length: 53794, dtype: category\n",
              "Categories (5, object): ['Fair' < 'Good' < 'Very Good' < 'Premium' < 'Ideal']"
            ]
          },
          "metadata": {
            "tags": []
          },
          "execution_count": 129
        }
      ]
    },
    {
      "cell_type": "code",
      "metadata": {
        "id": "uXANd5Pv9sEI"
      },
      "source": [
        "#dir(df['cut'].cat)"
      ],
      "execution_count": 130,
      "outputs": []
    },
    {
      "cell_type": "code",
      "metadata": {
        "colab": {
          "base_uri": "https://localhost:8080/"
        },
        "id": "BQr71Qfu7Xqn",
        "outputId": "d171c2f4-09bc-4b8a-dbfb-8501ca683986"
      },
      "source": [
        "df['cut'].cat.categories"
      ],
      "execution_count": 131,
      "outputs": [
        {
          "output_type": "execute_result",
          "data": {
            "text/plain": [
              "Index(['Fair', 'Good', 'Very Good', 'Premium', 'Ideal'], dtype='object')"
            ]
          },
          "metadata": {
            "tags": []
          },
          "execution_count": 131
        }
      ]
    },
    {
      "cell_type": "code",
      "metadata": {
        "colab": {
          "base_uri": "https://localhost:8080/"
        },
        "id": "pPOSv7Vo8noV",
        "outputId": "dc9e58c1-e9b3-43c7-ccdb-9b6b834b5f10"
      },
      "source": [
        "df['color'].astype('category')"
      ],
      "execution_count": 132,
      "outputs": [
        {
          "output_type": "execute_result",
          "data": {
            "text/plain": [
              "1        E\n",
              "2        E\n",
              "3        E\n",
              "4        I\n",
              "5        J\n",
              "        ..\n",
              "53936    D\n",
              "53937    D\n",
              "53938    D\n",
              "53939    H\n",
              "53940    D\n",
              "Name: color, Length: 53794, dtype: category\n",
              "Categories (7, object): ['D', 'E', 'F', 'G', 'H', 'I', 'J']"
            ]
          },
          "metadata": {
            "tags": []
          },
          "execution_count": 132
        }
      ]
    },
    {
      "cell_type": "code",
      "metadata": {
        "colab": {
          "base_uri": "https://localhost:8080/"
        },
        "id": "3rC2KNZ1-uQa",
        "outputId": "7a31d6fe-b0aa-45b9-f117-56d07031ae3e"
      },
      "source": [
        "df['color']=df['color'].astype('category')\r\n",
        "df['color'].cat.categories"
      ],
      "execution_count": 133,
      "outputs": [
        {
          "output_type": "execute_result",
          "data": {
            "text/plain": [
              "Index(['D', 'E', 'F', 'G', 'H', 'I', 'J'], dtype='object')"
            ]
          },
          "metadata": {
            "tags": []
          },
          "execution_count": 133
        }
      ]
    },
    {
      "cell_type": "code",
      "metadata": {
        "id": "DNoooxfy-96G"
      },
      "source": [
        "df['color']=df['color'].cat.reorder_categories(['D', 'E', 'F', 'G', 'H', 'I', 'J'],\r\n",
        "                                 ordered=True)"
      ],
      "execution_count": 134,
      "outputs": []
    },
    {
      "cell_type": "code",
      "metadata": {
        "colab": {
          "base_uri": "https://localhost:8080/"
        },
        "id": "IViG03VZHb9p",
        "outputId": "220e0732-333a-4a6d-f447-2084e9e3721f"
      },
      "source": [
        "df['color']"
      ],
      "execution_count": 135,
      "outputs": [
        {
          "output_type": "execute_result",
          "data": {
            "text/plain": [
              "1        E\n",
              "2        E\n",
              "3        E\n",
              "4        I\n",
              "5        J\n",
              "        ..\n",
              "53936    D\n",
              "53937    D\n",
              "53938    D\n",
              "53939    H\n",
              "53940    D\n",
              "Name: color, Length: 53794, dtype: category\n",
              "Categories (7, object): ['D' < 'E' < 'F' < 'G' < 'H' < 'I' < 'J']"
            ]
          },
          "metadata": {
            "tags": []
          },
          "execution_count": 135
        }
      ]
    },
    {
      "cell_type": "code",
      "metadata": {
        "colab": {
          "base_uri": "https://localhost:8080/"
        },
        "id": "GUei4GA-_nXU",
        "outputId": "17d3e7e8-dad8-4d19-a254-6698094149a8"
      },
      "source": [
        "df['clarity']=df['clarity'].astype('category')\r\n",
        "df['clarity'].cat.categories"
      ],
      "execution_count": 136,
      "outputs": [
        {
          "output_type": "execute_result",
          "data": {
            "text/plain": [
              "Index(['I1', 'IF', 'SI1', 'SI2', 'VS1', 'VS2', 'VVS1', 'VVS2'], dtype='object')"
            ]
          },
          "metadata": {
            "tags": []
          },
          "execution_count": 136
        }
      ]
    },
    {
      "cell_type": "code",
      "metadata": {
        "id": "SPf6n6KNASMG"
      },
      "source": [
        "new_order=['I1', 'SI2', 'SI1', 'VS2', 'VS1', 'VVS2', 'VVS1','IF']\r\n",
        "df['clarity'].cat.reorder_categories(new_order,\r\n",
        "                                    ordered=True,\r\n",
        "                                    inplace=True)"
      ],
      "execution_count": 137,
      "outputs": []
    },
    {
      "cell_type": "code",
      "metadata": {
        "colab": {
          "base_uri": "https://localhost:8080/"
        },
        "id": "QvdRqfxyBm9H",
        "outputId": "7410aa1d-b1fb-4260-87dd-04598c28935a"
      },
      "source": [
        "df['clarity']"
      ],
      "execution_count": 138,
      "outputs": [
        {
          "output_type": "execute_result",
          "data": {
            "text/plain": [
              "1        SI2\n",
              "2        SI1\n",
              "3        VS1\n",
              "4        VS2\n",
              "5        SI2\n",
              "        ... \n",
              "53936    SI1\n",
              "53937    SI1\n",
              "53938    SI1\n",
              "53939    SI2\n",
              "53940    SI2\n",
              "Name: clarity, Length: 53794, dtype: category\n",
              "Categories (8, object): ['I1' < 'SI2' < 'SI1' < 'VS2' < 'VS1' < 'VVS2' < 'VVS1' < 'IF']"
            ]
          },
          "metadata": {
            "tags": []
          },
          "execution_count": 138
        }
      ]
    },
    {
      "cell_type": "markdown",
      "metadata": {
        "id": "rZ1JgjN9ByMo"
      },
      "source": [
        "# Split train, test, valid "
      ]
    },
    {
      "cell_type": "code",
      "metadata": {
        "id": "pK8TMOEVB5mp"
      },
      "source": [
        "df2=df.copy(deep=True)"
      ],
      "execution_count": 139,
      "outputs": []
    },
    {
      "cell_type": "code",
      "metadata": {
        "colab": {
          "base_uri": "https://localhost:8080/"
        },
        "id": "-W2Su6ApCpS6",
        "outputId": "3fa22163-2135-4699-a414-26d79010c279"
      },
      "source": [
        "#Encoding ordinal\r\n",
        "df2['cut'].cat.codes"
      ],
      "execution_count": 140,
      "outputs": [
        {
          "output_type": "execute_result",
          "data": {
            "text/plain": [
              "1        4\n",
              "2        3\n",
              "3        1\n",
              "4        3\n",
              "5        1\n",
              "        ..\n",
              "53936    4\n",
              "53937    1\n",
              "53938    2\n",
              "53939    3\n",
              "53940    4\n",
              "Length: 53794, dtype: int8"
            ]
          },
          "metadata": {
            "tags": []
          },
          "execution_count": 140
        }
      ]
    },
    {
      "cell_type": "code",
      "metadata": {
        "colab": {
          "base_uri": "https://localhost:8080/"
        },
        "id": "zVFevm7cDN3n",
        "outputId": "00236c00-7d6a-42d1-ecc2-e874a2767af1"
      },
      "source": [
        "df2['cut']"
      ],
      "execution_count": 141,
      "outputs": [
        {
          "output_type": "execute_result",
          "data": {
            "text/plain": [
              "1            Ideal\n",
              "2          Premium\n",
              "3             Good\n",
              "4          Premium\n",
              "5             Good\n",
              "           ...    \n",
              "53936        Ideal\n",
              "53937         Good\n",
              "53938    Very Good\n",
              "53939      Premium\n",
              "53940        Ideal\n",
              "Name: cut, Length: 53794, dtype: category\n",
              "Categories (5, object): ['Fair' < 'Good' < 'Very Good' < 'Premium' < 'Ideal']"
            ]
          },
          "metadata": {
            "tags": []
          },
          "execution_count": 141
        }
      ]
    },
    {
      "cell_type": "code",
      "metadata": {
        "id": "KyZRokipDcAN"
      },
      "source": [
        "df2['cut']=df2['cut'].cat.codes"
      ],
      "execution_count": 142,
      "outputs": []
    },
    {
      "cell_type": "code",
      "metadata": {
        "colab": {
          "base_uri": "https://localhost:8080/"
        },
        "id": "usHwr_DqEmY_",
        "outputId": "7a6f6668-aeb8-4a14-cefe-fec67e8862cb"
      },
      "source": [
        "df2['color']"
      ],
      "execution_count": 143,
      "outputs": [
        {
          "output_type": "execute_result",
          "data": {
            "text/plain": [
              "1        E\n",
              "2        E\n",
              "3        E\n",
              "4        I\n",
              "5        J\n",
              "        ..\n",
              "53936    D\n",
              "53937    D\n",
              "53938    D\n",
              "53939    H\n",
              "53940    D\n",
              "Name: color, Length: 53794, dtype: category\n",
              "Categories (7, object): ['D' < 'E' < 'F' < 'G' < 'H' < 'I' < 'J']"
            ]
          },
          "metadata": {
            "tags": []
          },
          "execution_count": 143
        }
      ]
    },
    {
      "cell_type": "code",
      "metadata": {
        "colab": {
          "base_uri": "https://localhost:8080/"
        },
        "id": "sN0SA3i9Er11",
        "outputId": "d68eaffe-1e3d-4dcd-b2ef-2a9edbaab411"
      },
      "source": [
        "df2['color'].cat.codes"
      ],
      "execution_count": 144,
      "outputs": [
        {
          "output_type": "execute_result",
          "data": {
            "text/plain": [
              "1        1\n",
              "2        1\n",
              "3        1\n",
              "4        5\n",
              "5        6\n",
              "        ..\n",
              "53936    0\n",
              "53937    0\n",
              "53938    0\n",
              "53939    4\n",
              "53940    0\n",
              "Length: 53794, dtype: int8"
            ]
          },
          "metadata": {
            "tags": []
          },
          "execution_count": 144
        }
      ]
    },
    {
      "cell_type": "code",
      "metadata": {
        "id": "Mg9GSb-IExwy"
      },
      "source": [
        "df2['color']=df2['color'].cat.codes"
      ],
      "execution_count": 145,
      "outputs": []
    },
    {
      "cell_type": "code",
      "metadata": {
        "colab": {
          "base_uri": "https://localhost:8080/"
        },
        "id": "tVghpJmfFOmS",
        "outputId": "59df29f9-7153-4bf0-bdd9-81c0e2e32795"
      },
      "source": [
        "df2['clarity']"
      ],
      "execution_count": 146,
      "outputs": [
        {
          "output_type": "execute_result",
          "data": {
            "text/plain": [
              "1        SI2\n",
              "2        SI1\n",
              "3        VS1\n",
              "4        VS2\n",
              "5        SI2\n",
              "        ... \n",
              "53936    SI1\n",
              "53937    SI1\n",
              "53938    SI1\n",
              "53939    SI2\n",
              "53940    SI2\n",
              "Name: clarity, Length: 53794, dtype: category\n",
              "Categories (8, object): ['I1' < 'SI2' < 'SI1' < 'VS2' < 'VS1' < 'VVS2' < 'VVS1' < 'IF']"
            ]
          },
          "metadata": {
            "tags": []
          },
          "execution_count": 146
        }
      ]
    },
    {
      "cell_type": "code",
      "metadata": {
        "colab": {
          "base_uri": "https://localhost:8080/"
        },
        "id": "TYekTuSyFckT",
        "outputId": "2ee2366b-73af-43ec-98e4-743252cfc9ea"
      },
      "source": [
        "df2['clarity']=df2['clarity'].cat.codes\r\n",
        "df2['clarity']"
      ],
      "execution_count": 147,
      "outputs": [
        {
          "output_type": "execute_result",
          "data": {
            "text/plain": [
              "1        1\n",
              "2        2\n",
              "3        4\n",
              "4        3\n",
              "5        1\n",
              "        ..\n",
              "53936    2\n",
              "53937    2\n",
              "53938    2\n",
              "53939    1\n",
              "53940    1\n",
              "Name: clarity, Length: 53794, dtype: int8"
            ]
          },
          "metadata": {
            "tags": []
          },
          "execution_count": 147
        }
      ]
    },
    {
      "cell_type": "code",
      "metadata": {
        "colab": {
          "base_uri": "https://localhost:8080/",
          "height": 202
        },
        "id": "KoQDm-ltJ02N",
        "outputId": "841df74d-d6fd-44e1-8671-38229374b380"
      },
      "source": [
        "#On HOT encoding\r\n",
        "df3=df.copy(deep=True)\r\n",
        "df3.head()"
      ],
      "execution_count": 149,
      "outputs": [
        {
          "output_type": "execute_result",
          "data": {
            "text/html": [
              "<div>\n",
              "<style scoped>\n",
              "    .dataframe tbody tr th:only-of-type {\n",
              "        vertical-align: middle;\n",
              "    }\n",
              "\n",
              "    .dataframe tbody tr th {\n",
              "        vertical-align: top;\n",
              "    }\n",
              "\n",
              "    .dataframe thead th {\n",
              "        text-align: right;\n",
              "    }\n",
              "</style>\n",
              "<table border=\"1\" class=\"dataframe\">\n",
              "  <thead>\n",
              "    <tr style=\"text-align: right;\">\n",
              "      <th></th>\n",
              "      <th>carat</th>\n",
              "      <th>cut</th>\n",
              "      <th>color</th>\n",
              "      <th>clarity</th>\n",
              "      <th>depth</th>\n",
              "      <th>table</th>\n",
              "      <th>price</th>\n",
              "      <th>x</th>\n",
              "      <th>y</th>\n",
              "      <th>z</th>\n",
              "    </tr>\n",
              "  </thead>\n",
              "  <tbody>\n",
              "    <tr>\n",
              "      <th>1</th>\n",
              "      <td>0.23</td>\n",
              "      <td>Ideal</td>\n",
              "      <td>E</td>\n",
              "      <td>SI2</td>\n",
              "      <td>61.5</td>\n",
              "      <td>55.0</td>\n",
              "      <td>326</td>\n",
              "      <td>3.95</td>\n",
              "      <td>3.98</td>\n",
              "      <td>2.43</td>\n",
              "    </tr>\n",
              "    <tr>\n",
              "      <th>2</th>\n",
              "      <td>0.21</td>\n",
              "      <td>Premium</td>\n",
              "      <td>E</td>\n",
              "      <td>SI1</td>\n",
              "      <td>59.8</td>\n",
              "      <td>61.0</td>\n",
              "      <td>326</td>\n",
              "      <td>3.89</td>\n",
              "      <td>3.84</td>\n",
              "      <td>2.31</td>\n",
              "    </tr>\n",
              "    <tr>\n",
              "      <th>3</th>\n",
              "      <td>0.23</td>\n",
              "      <td>Good</td>\n",
              "      <td>E</td>\n",
              "      <td>VS1</td>\n",
              "      <td>56.9</td>\n",
              "      <td>65.0</td>\n",
              "      <td>327</td>\n",
              "      <td>4.05</td>\n",
              "      <td>4.07</td>\n",
              "      <td>2.31</td>\n",
              "    </tr>\n",
              "    <tr>\n",
              "      <th>4</th>\n",
              "      <td>0.29</td>\n",
              "      <td>Premium</td>\n",
              "      <td>I</td>\n",
              "      <td>VS2</td>\n",
              "      <td>62.4</td>\n",
              "      <td>58.0</td>\n",
              "      <td>334</td>\n",
              "      <td>4.20</td>\n",
              "      <td>4.23</td>\n",
              "      <td>2.63</td>\n",
              "    </tr>\n",
              "    <tr>\n",
              "      <th>5</th>\n",
              "      <td>0.31</td>\n",
              "      <td>Good</td>\n",
              "      <td>J</td>\n",
              "      <td>SI2</td>\n",
              "      <td>63.3</td>\n",
              "      <td>58.0</td>\n",
              "      <td>335</td>\n",
              "      <td>4.34</td>\n",
              "      <td>4.35</td>\n",
              "      <td>2.75</td>\n",
              "    </tr>\n",
              "  </tbody>\n",
              "</table>\n",
              "</div>"
            ],
            "text/plain": [
              "   carat      cut color clarity  depth  table  price     x     y     z\n",
              "1   0.23    Ideal     E     SI2   61.5   55.0    326  3.95  3.98  2.43\n",
              "2   0.21  Premium     E     SI1   59.8   61.0    326  3.89  3.84  2.31\n",
              "3   0.23     Good     E     VS1   56.9   65.0    327  4.05  4.07  2.31\n",
              "4   0.29  Premium     I     VS2   62.4   58.0    334  4.20  4.23  2.63\n",
              "5   0.31     Good     J     SI2   63.3   58.0    335  4.34  4.35  2.75"
            ]
          },
          "metadata": {
            "tags": []
          },
          "execution_count": 149
        }
      ]
    },
    {
      "cell_type": "code",
      "metadata": {
        "id": "QdXpPoRvKVb-"
      },
      "source": [
        "df3=pd.get_dummies(df3)"
      ],
      "execution_count": 151,
      "outputs": []
    },
    {
      "cell_type": "code",
      "metadata": {
        "id": "aoVLR-IUKsc5"
      },
      "source": [
        "def split_train_test(df,frac,random_state):\r\n",
        "  #fractionner pour creer le train set \r\n",
        "  train_set=df.sample(frac=frac,\r\n",
        "                      random_state=random_state)\r\n",
        "  \r\n",
        "  #Not in train set\r\n",
        "  not_in_train=~df.index.isin(train_set.index)\r\n",
        "\r\n",
        "  #creer le test set \r\n",
        "  test_set=df[not_in_train]\r\n",
        "\r\n",
        "  return train_set, test_set\r\n",
        "\r\n",
        "\r\n",
        "\r\n",
        "#Hot\r\n",
        "train_oh, test_oh=split_train_test(df3, \r\n",
        "                                   frac=0.8, \r\n",
        "                                   random_state=10)\r\n",
        "\r\n",
        "#Ordinal\r\n",
        "train_or, test_or=split_train_test(df2, \r\n",
        "                                   frac=0.8, \r\n",
        "                                   random_state=10)"
      ],
      "execution_count": 156,
      "outputs": []
    },
    {
      "cell_type": "code",
      "metadata": {
        "id": "rj_MW2_vNb8V"
      },
      "source": [
        "train_oh, test_oh=split_train_test(df3, \r\n",
        "                                   frac=0.8, \r\n",
        "                                   random_state=10)"
      ],
      "execution_count": 154,
      "outputs": []
    },
    {
      "cell_type": "code",
      "metadata": {
        "colab": {
          "base_uri": "https://localhost:8080/"
        },
        "id": "ElVcbglVN3Rf",
        "outputId": "6f0308b3-71cb-42be-d050-cf56588b7871"
      },
      "source": [
        "(test_or.index==test_oh.index).sum()"
      ],
      "execution_count": 158,
      "outputs": [
        {
          "output_type": "execute_result",
          "data": {
            "text/plain": [
              "10759"
            ]
          },
          "metadata": {
            "tags": []
          },
          "execution_count": 158
        }
      ]
    },
    {
      "cell_type": "code",
      "metadata": {
        "colab": {
          "base_uri": "https://localhost:8080/"
        },
        "id": "uvBut4HaO_wP",
        "outputId": "8482e459-719e-48be-b078-70bc167164c9"
      },
      "source": [
        "(train_or.index==train_oh.index).sum()"
      ],
      "execution_count": 159,
      "outputs": [
        {
          "output_type": "execute_result",
          "data": {
            "text/plain": [
              "43035"
            ]
          },
          "metadata": {
            "tags": []
          },
          "execution_count": 159
        }
      ]
    },
    {
      "cell_type": "code",
      "metadata": {
        "id": "e6KwihPFPZU7"
      },
      "source": [
        "train_oh.to_csv('diamonds_train_oh.csv', index=None)\r\n",
        "test_oh.to_csv('diamonds_test_oh.csv', index=None)\r\n",
        "train_or.to_csv('diamonds_train_or.csv', index=None)\r\n",
        "test_or.to_csv('diamonds_test_or.csv', index=None)"
      ],
      "execution_count": 160,
      "outputs": []
    },
    {
      "cell_type": "markdown",
      "metadata": {
        "id": "uJZLk04vQV5T"
      },
      "source": [
        "# Isoler la variable cible"
      ]
    },
    {
      "cell_type": "code",
      "metadata": {
        "id": "zJp1bHkZQN9j"
      },
      "source": [
        "def isoler_variable_cible(df, col_name):\r\n",
        "  Y=df[col_name]\r\n",
        "  X=df.drop([col_name],\r\n",
        "            axis=1)\r\n",
        "  return X, Y\r\n",
        "\r\n",
        "#Entrainement\r\n",
        "X_train_or, Y_train_or=isoler_variable_cible(train_or,col_name='price')\r\n",
        "X_train_oh, Y_train_oh=isoler_variable_cible(train_oh,col_name='price')\r\n",
        "\r\n",
        "#Test\r\n",
        "X_test_or, Y_test_or=isoler_variable_cible(test_or,col_name='price')\r\n",
        "X_test_oh, Y_test_oh=isoler_variable_cible(test_oh,col_name='price')"
      ],
      "execution_count": 162,
      "outputs": []
    },
    {
      "cell_type": "markdown",
      "metadata": {
        "id": "TKEZRZE5S3w7"
      },
      "source": [
        "# Machine learning"
      ]
    },
    {
      "cell_type": "code",
      "metadata": {
        "id": "cvjgwdnxRGhS"
      },
      "source": [
        "from sklearn.preprocessing import RobustScaler\r\n",
        "from sklearn.pipeline import make_pipeline\r\n",
        "from sklearn.ensemble import RandomForestRegressor\r\n",
        "from sklearn.model_selection import GridSearchCV\r\n",
        "from sklearn.metrics import mean_absolute_error, r2_score"
      ],
      "execution_count": 163,
      "outputs": []
    },
    {
      "cell_type": "code",
      "metadata": {
        "id": "IYw8p48ZUjpF"
      },
      "source": [
        "pipline=make_pipeline(RobustScaler(),RandomForestRegressor())"
      ],
      "execution_count": 164,
      "outputs": []
    },
    {
      "cell_type": "code",
      "metadata": {
        "id": "n_RcNUwpVGJ0"
      },
      "source": [
        "hyperparametre={\r\n",
        "    'randomforestregressor__n_estimators':[100],\r\n",
        "    'randomforestregressor__min_samples_leaf':[3,7]\r\n",
        "}"
      ],
      "execution_count": 165,
      "outputs": []
    },
    {
      "cell_type": "code",
      "metadata": {
        "id": "HWrjZMZLWVE7"
      },
      "source": [
        "def performance(predictions,test_set):\r\n",
        "  mae=mean_absolute_error(predictions, test_set)\r\n",
        "  r2=r2_score(predictions, test_set)\r\n",
        "  print('r2_score', r2)\r\n",
        "  print('MAE     ', mae)"
      ],
      "execution_count": 166,
      "outputs": []
    },
    {
      "cell_type": "code",
      "metadata": {
        "colab": {
          "base_uri": "https://localhost:8080/"
        },
        "id": "jMPb75LsXzU1",
        "outputId": "ba475647-9b62-447d-a728-84f19f28b875"
      },
      "source": [
        "#One Hot encodind\r\n",
        "\r\n",
        "machine_oh=GridSearchCV(pipline, hyperparametre)\r\n",
        "machine_oh.fit(X_train_oh, Y_train_oh)"
      ],
      "execution_count": 167,
      "outputs": [
        {
          "output_type": "execute_result",
          "data": {
            "text/plain": [
              "GridSearchCV(cv=None, error_score=nan,\n",
              "             estimator=Pipeline(memory=None,\n",
              "                                steps=[('robustscaler',\n",
              "                                        RobustScaler(copy=True,\n",
              "                                                     quantile_range=(25.0,\n",
              "                                                                     75.0),\n",
              "                                                     with_centering=True,\n",
              "                                                     with_scaling=True)),\n",
              "                                       ('randomforestregressor',\n",
              "                                        RandomForestRegressor(bootstrap=True,\n",
              "                                                              ccp_alpha=0.0,\n",
              "                                                              criterion='mse',\n",
              "                                                              max_depth=None,\n",
              "                                                              max_features='auto',\n",
              "                                                              max_leaf_nodes=None,\n",
              "                                                              max_samples=None,\n",
              "                                                              min_i...\n",
              "                                                              min_weight_fraction_leaf=0.0,\n",
              "                                                              n_estimators=100,\n",
              "                                                              n_jobs=None,\n",
              "                                                              oob_score=False,\n",
              "                                                              random_state=None,\n",
              "                                                              verbose=0,\n",
              "                                                              warm_start=False))],\n",
              "                                verbose=False),\n",
              "             iid='deprecated', n_jobs=None,\n",
              "             param_grid={'randomforestregressor__min_samples_leaf': [3, 7],\n",
              "                         'randomforestregressor__n_estimators': [100]},\n",
              "             pre_dispatch='2*n_jobs', refit=True, return_train_score=False,\n",
              "             scoring=None, verbose=0)"
            ]
          },
          "metadata": {
            "tags": []
          },
          "execution_count": 167
        }
      ]
    },
    {
      "cell_type": "code",
      "metadata": {
        "colab": {
          "base_uri": "https://localhost:8080/"
        },
        "id": "n2qZ8i-UY9eE",
        "outputId": "77d9acbd-9c9e-4a93-c9e9-bfe13c01b598"
      },
      "source": [
        "#Ordinale\r\n",
        "\r\n",
        "machine_or=GridSearchCV(pipline, hyperparametre)\r\n",
        "machine_or.fit(X_train_or, Y_train_or)"
      ],
      "execution_count": 168,
      "outputs": [
        {
          "output_type": "execute_result",
          "data": {
            "text/plain": [
              "GridSearchCV(cv=None, error_score=nan,\n",
              "             estimator=Pipeline(memory=None,\n",
              "                                steps=[('robustscaler',\n",
              "                                        RobustScaler(copy=True,\n",
              "                                                     quantile_range=(25.0,\n",
              "                                                                     75.0),\n",
              "                                                     with_centering=True,\n",
              "                                                     with_scaling=True)),\n",
              "                                       ('randomforestregressor',\n",
              "                                        RandomForestRegressor(bootstrap=True,\n",
              "                                                              ccp_alpha=0.0,\n",
              "                                                              criterion='mse',\n",
              "                                                              max_depth=None,\n",
              "                                                              max_features='auto',\n",
              "                                                              max_leaf_nodes=None,\n",
              "                                                              max_samples=None,\n",
              "                                                              min_i...\n",
              "                                                              min_weight_fraction_leaf=0.0,\n",
              "                                                              n_estimators=100,\n",
              "                                                              n_jobs=None,\n",
              "                                                              oob_score=False,\n",
              "                                                              random_state=None,\n",
              "                                                              verbose=0,\n",
              "                                                              warm_start=False))],\n",
              "                                verbose=False),\n",
              "             iid='deprecated', n_jobs=None,\n",
              "             param_grid={'randomforestregressor__min_samples_leaf': [3, 7],\n",
              "                         'randomforestregressor__n_estimators': [100]},\n",
              "             pre_dispatch='2*n_jobs', refit=True, return_train_score=False,\n",
              "             scoring=None, verbose=0)"
            ]
          },
          "metadata": {
            "tags": []
          },
          "execution_count": 168
        }
      ]
    },
    {
      "cell_type": "markdown",
      "metadata": {
        "id": "sbs_e4toaCSy"
      },
      "source": [
        "# Coparaison des résultats"
      ]
    },
    {
      "cell_type": "code",
      "metadata": {
        "id": "PfsY1R5kZ7c7"
      },
      "source": [
        "def performance(predictions,test_set):\r\n",
        "  mae=mean_absolute_error(predictions, test_set)\r\n",
        "  r2=r2_score(predictions, test_set)\r\n",
        "  print('r2_score', r2)\r\n",
        "  print('MAE     ', mae)"
      ],
      "execution_count": 169,
      "outputs": []
    },
    {
      "cell_type": "code",
      "metadata": {
        "id": "wDLIOupnav-J"
      },
      "source": [
        "prediction_oh=machine_oh.predict(X_test_oh)\r\n",
        "\r\n",
        "prediction_or=machine_or.predict(X_test_or)"
      ],
      "execution_count": 170,
      "outputs": []
    },
    {
      "cell_type": "code",
      "metadata": {
        "colab": {
          "base_uri": "https://localhost:8080/"
        },
        "id": "s0qzCjcJbQ87",
        "outputId": "4a18f7ef-f5c5-4571-8731-9782ebf4e4c1"
      },
      "source": [
        "performance(prediction_oh, Y_test_oh)"
      ],
      "execution_count": 172,
      "outputs": [
        {
          "output_type": "stream",
          "text": [
            "r2_score 0.9800759006192896\n",
            "MAE      267.16691368642796\n"
          ],
          "name": "stdout"
        }
      ]
    },
    {
      "cell_type": "code",
      "metadata": {
        "colab": {
          "base_uri": "https://localhost:8080/"
        },
        "id": "YOIpj5BTbqpN",
        "outputId": "3cf9c2b7-dfcf-469b-dafd-be77fbb745e6"
      },
      "source": [
        "performance(prediction_or, Y_test_or)"
      ],
      "execution_count": 173,
      "outputs": [
        {
          "output_type": "stream",
          "text": [
            "r2_score 0.9809205192137009\n",
            "MAE      261.01686361728576\n"
          ],
          "name": "stdout"
        }
      ]
    },
    {
      "cell_type": "code",
      "metadata": {
        "id": "uNWxPpGFcDZZ"
      },
      "source": [
        ""
      ],
      "execution_count": null,
      "outputs": []
    }
  ]
}